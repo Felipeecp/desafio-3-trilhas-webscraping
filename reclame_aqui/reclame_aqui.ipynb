{
 "cells": [
  {
   "cell_type": "code",
   "execution_count": 14,
   "metadata": {},
   "outputs": [],
   "source": [
    "from selenium import webdriver\n",
    "from webdriver_manager.chrome import ChromeDriverManager"
   ]
  },
  {
   "cell_type": "code",
   "execution_count": 17,
   "metadata": {},
   "outputs": [],
   "source": [
    "import pandas as pd"
   ]
  },
  {
   "cell_type": "code",
   "execution_count": 15,
   "metadata": {},
   "outputs": [
    {
     "name": "stderr",
     "output_type": "stream",
     "text": [
      "\n",
      "\n",
      "====== WebDriver manager ======\n",
      "Current google-chrome version is 95.0.4638\n",
      "Get LATEST driver version for 95.0.4638\n",
      "Driver [C:\\Users\\Felip\\.wdm\\drivers\\chromedriver\\win32\\95.0.4638.54\\chromedriver.exe] found in cache\n"
     ]
    }
   ],
   "source": [
    "# Inicializa o Driver e abre o navegador\n",
    "driver = webdriver.Chrome(ChromeDriverManager().install())"
   ]
  },
  {
   "cell_type": "code",
   "execution_count": 12,
   "metadata": {},
   "outputs": [],
   "source": [
    "# Coleta os dados de cada loja\n",
    "loja = ['Submarino',\n",
    "       'Americanas',\n",
    "       'Casas Bahia',\n",
    "       'Magazine Luiza',\n",
    "       'Amazon']\n",
    "urls = ['https://www.reclameaqui.com.br/empresa/submarino/',\n",
    "        'https://www.reclameaqui.com.br/empresa/americanas-com-loja-online/',\n",
    "       'https://www.reclameaqui.com.br/empresa/casas-bahia-loja-online/',\n",
    "       'https://www.reclameaqui.com.br/empresa/magazine-luiza-loja-online/',\n",
    "       'https://www.reclameaqui.com.br/empresa/amazon/']\n",
    "itens = []\n",
    "for index, url in enumerate(urls):\n",
    "    driver.get(url)\n",
    "    dados = driver.find_elements_by_class_name('sc-9xbj9-0')\n",
    "    reclamacoes = dados[0].text.split('%')[0]\n",
    "    negociar = dados[1].text.split('%')[0]\n",
    "    ind_solucao = dados[2].text.split('%')[0]\n",
    "    nota_consumidor = dados[3].text\n",
    "    n_reclamacoes = driver.find_elements_by_class_name('short-ammount')[0].text.split('\\n')[1]\n",
    "    item = {'Loja': loja[index],\n",
    "        'pct_reclamacoes': reclamacoes,\n",
    "        \"voltariam_negociar\": negociar,\n",
    "        'indice_solucao': ind_solucao,\n",
    "        'nota_consumidor': nota_consumidor,\n",
    "        'numero_reclamacoes': n_reclamacoes,\n",
    "        }\n",
    "    itens.append(item)"
   ]
  },
  {
   "cell_type": "code",
   "execution_count": 13,
   "metadata": {},
   "outputs": [
    {
     "ename": "IndexError",
     "evalue": "list index out of range",
     "output_type": "error",
     "traceback": [
      "\u001b[1;31m---------------------------------------------------------------------------\u001b[0m",
      "\u001b[1;31mIndexError\u001b[0m                                Traceback (most recent call last)",
      "\u001b[1;32m<ipython-input-13-6921bd49d00c>\u001b[0m in \u001b[0;36m<module>\u001b[1;34m\u001b[0m\n\u001b[0;32m      4\u001b[0m     \u001b[0murl_time\u001b[0m \u001b[1;33m=\u001b[0m \u001b[0murl\u001b[0m\u001b[1;33m+\u001b[0m\u001b[1;34m'lista-reclamacoes/?pagina=1'\u001b[0m\u001b[1;33m\u001b[0m\u001b[1;33m\u001b[0m\u001b[0m\n\u001b[0;32m      5\u001b[0m     \u001b[0mdriver\u001b[0m\u001b[1;33m.\u001b[0m\u001b[0mget\u001b[0m\u001b[1;33m(\u001b[0m\u001b[0murl_time\u001b[0m\u001b[1;33m)\u001b[0m\u001b[1;33m\u001b[0m\u001b[1;33m\u001b[0m\u001b[0m\n\u001b[1;32m----> 6\u001b[1;33m     \u001b[0mtime_response\u001b[0m \u001b[1;33m=\u001b[0m \u001b[0mdriver\u001b[0m\u001b[1;33m.\u001b[0m\u001b[0mfind_elements_by_class_name\u001b[0m\u001b[1;33m(\u001b[0m\u001b[1;34m'company-index-value'\u001b[0m\u001b[1;33m)\u001b[0m\u001b[1;33m[\u001b[0m\u001b[1;36m3\u001b[0m\u001b[1;33m]\u001b[0m\u001b[1;33m.\u001b[0m\u001b[0mtext\u001b[0m\u001b[1;33m\u001b[0m\u001b[1;33m\u001b[0m\u001b[0m\n\u001b[0m\u001b[0;32m      7\u001b[0m     \u001b[1;32mif\u001b[0m \u001b[1;33m(\u001b[0m\u001b[1;34m'dias'\u001b[0m \u001b[1;32min\u001b[0m \u001b[0mtime_response\u001b[0m\u001b[1;33m)\u001b[0m\u001b[1;33m&\u001b[0m\u001b[1;33m(\u001b[0m\u001b[1;34m'horas'\u001b[0m \u001b[1;32min\u001b[0m \u001b[0mtime_response\u001b[0m\u001b[1;33m)\u001b[0m\u001b[1;33m:\u001b[0m\u001b[1;33m\u001b[0m\u001b[1;33m\u001b[0m\u001b[0m\n\u001b[0;32m      8\u001b[0m         \u001b[0mel\u001b[0m \u001b[1;33m=\u001b[0m \u001b[0mtime_response\u001b[0m\u001b[1;33m.\u001b[0m\u001b[0msplit\u001b[0m\u001b[1;33m(\u001b[0m\u001b[1;34m' '\u001b[0m\u001b[1;33m)\u001b[0m\u001b[1;33m[\u001b[0m\u001b[1;36m0\u001b[0m\u001b[1;33m:\u001b[0m\u001b[1;33m:\u001b[0m\u001b[1;36m3\u001b[0m\u001b[1;33m]\u001b[0m\u001b[1;33m\u001b[0m\u001b[1;33m\u001b[0m\u001b[0m\n",
      "\u001b[1;31mIndexError\u001b[0m: list index out of range"
     ]
    }
   ],
   "source": [
    "# Coleta o tempo de reposta (em dias), que está em uma url diferente\n",
    "itens_time = []\n",
    "for index, url in enumerate(urls):\n",
    "    url_time = url+'lista-reclamacoes/?pagina=1'\n",
    "    driver.get(url_time)\n",
    "    time_response = driver.find_elements_by_class_name('company-index-value')[3].text\n",
    "    if ('dias' in time_response)&('horas' in time_response):\n",
    "        el = time_response.split(' ')[0::3]\n",
    "        horas = int(el[1])/24\n",
    "        time_response = round(float(el[0])+horas, 2)\n",
    "    else:\n",
    "        time_response =  round(int(time_response.split(' ')[0])/24, 2)\n",
    "    dictio = {'Tempo_Resposta':time_response}\n",
    "    itens_time.append(dictio)"
   ]
  },
  {
   "cell_type": "code",
   "execution_count": null,
   "metadata": {},
   "outputs": [
    {
     "data": {
      "text/html": [
       "<div>\n",
       "<style scoped>\n",
       "    .dataframe tbody tr th:only-of-type {\n",
       "        vertical-align: middle;\n",
       "    }\n",
       "\n",
       "    .dataframe tbody tr th {\n",
       "        vertical-align: top;\n",
       "    }\n",
       "\n",
       "    .dataframe thead th {\n",
       "        text-align: right;\n",
       "    }\n",
       "</style>\n",
       "<table border=\"1\" class=\"dataframe\">\n",
       "  <thead>\n",
       "    <tr style=\"text-align: right;\">\n",
       "      <th></th>\n",
       "      <th>Loja</th>\n",
       "      <th>pct_reclamacoes</th>\n",
       "      <th>voltariam_negociar</th>\n",
       "      <th>indice_solucao</th>\n",
       "      <th>nota_consumidor</th>\n",
       "      <th>numero_reclamacoes</th>\n",
       "      <th>Tempo_Resposta</th>\n",
       "    </tr>\n",
       "  </thead>\n",
       "  <tbody>\n",
       "    <tr>\n",
       "      <th>0</th>\n",
       "      <td>Submarino</td>\n",
       "      <td>97.6</td>\n",
       "      <td>73</td>\n",
       "      <td>82.8</td>\n",
       "      <td>7.04</td>\n",
       "      <td>5658</td>\n",
       "      <td>3.33</td>\n",
       "    </tr>\n",
       "    <tr>\n",
       "      <th>1</th>\n",
       "      <td>Americanas</td>\n",
       "      <td>98.5</td>\n",
       "      <td>84.7</td>\n",
       "      <td>92.9</td>\n",
       "      <td>8.36</td>\n",
       "      <td>21120</td>\n",
       "      <td>2.33</td>\n",
       "    </tr>\n",
       "    <tr>\n",
       "      <th>2</th>\n",
       "      <td>Casas Bahia</td>\n",
       "      <td>99.1</td>\n",
       "      <td>63.7</td>\n",
       "      <td>85.2</td>\n",
       "      <td>6.37</td>\n",
       "      <td>26801</td>\n",
       "      <td>8.38</td>\n",
       "    </tr>\n",
       "    <tr>\n",
       "      <th>3</th>\n",
       "      <td>Magazine Luiza</td>\n",
       "      <td>96.8</td>\n",
       "      <td>80.3</td>\n",
       "      <td>92.7</td>\n",
       "      <td>7.76</td>\n",
       "      <td>57316</td>\n",
       "      <td>7.12</td>\n",
       "    </tr>\n",
       "    <tr>\n",
       "      <th>4</th>\n",
       "      <td>Amazon</td>\n",
       "      <td>99.7</td>\n",
       "      <td>81</td>\n",
       "      <td>85.1</td>\n",
       "      <td>7.84</td>\n",
       "      <td>35222</td>\n",
       "      <td>0.79</td>\n",
       "    </tr>\n",
       "  </tbody>\n",
       "</table>\n",
       "</div>"
      ],
      "text/plain": [
       "             Loja pct_reclamacoes voltariam_negociar indice_solucao  \\\n",
       "0       Submarino            97.6                 73           82.8   \n",
       "1      Americanas            98.5               84.7           92.9   \n",
       "2     Casas Bahia            99.1               63.7           85.2   \n",
       "3  Magazine Luiza            96.8               80.3           92.7   \n",
       "4          Amazon            99.7                 81           85.1   \n",
       "\n",
       "  nota_consumidor numero_reclamacoes  Tempo_Resposta  \n",
       "0            7.04               5658            3.33  \n",
       "1            8.36              21120            2.33  \n",
       "2            6.37              26801            8.38  \n",
       "3            7.76              57316            7.12  \n",
       "4            7.84              35222            0.79  "
      ]
     },
     "execution_count": 63,
     "metadata": {},
     "output_type": "execute_result"
    }
   ],
   "source": [
    "import pandas as pd\n",
    "data = pd.DataFrame(itens)\n",
    "data_time = pd.DataFrame(itens_time)\n",
    "df = pd.concat([data, data_time], axis=1)\n",
    "df"
   ]
  },
  {
   "cell_type": "code",
   "execution_count": null,
   "metadata": {},
   "outputs": [],
   "source": [
    "df.to_csv('reclame_aqui.csv', sep=';', encoding='utf-8', index=False)"
   ]
  },
  {
   "cell_type": "code",
   "execution_count": 16,
   "metadata": {},
   "outputs": [
    {
     "ename": "NameError",
     "evalue": "name 'pd' is not defined",
     "output_type": "error",
     "traceback": [
      "\u001b[1;31m---------------------------------------------------------------------------\u001b[0m",
      "\u001b[1;31mNameError\u001b[0m                                 Traceback (most recent call last)",
      "\u001b[1;32m<ipython-input-16-6503a01f83e1>\u001b[0m in \u001b[0;36m<module>\u001b[1;34m\u001b[0m\n\u001b[1;32m----> 1\u001b[1;33m \u001b[0mpd\u001b[0m\u001b[1;33m.\u001b[0m\u001b[0mread_csv\u001b[0m\u001b[1;33m(\u001b[0m\u001b[1;34m'reclame_aqui.csv'\u001b[0m\u001b[1;33m)\u001b[0m\u001b[1;33m\u001b[0m\u001b[1;33m\u001b[0m\u001b[0m\n\u001b[0m",
      "\u001b[1;31mNameError\u001b[0m: name 'pd' is not defined"
     ]
    }
   ],
   "source": [
    "pd.read_csv('reclame_aqui.csv')"
   ]
  },
  {
   "cell_type": "code",
   "execution_count": null,
   "metadata": {},
   "outputs": [],
   "source": []
  }
 ],
 "metadata": {
  "interpreter": {
   "hash": "fe85ba89296c5a2c9ae30362d65b06da0dbfb1d93059a21a7b21822ad4b56145"
  },
  "kernelspec": {
   "display_name": "Python 3.8.8 64-bit ('base': conda)",
   "name": "python3"
  },
  "language_info": {
   "codemirror_mode": {
    "name": "ipython",
    "version": 3
   },
   "file_extension": ".py",
   "mimetype": "text/x-python",
   "name": "python",
   "nbconvert_exporter": "python",
   "pygments_lexer": "ipython3",
   "version": "3.8.8"
  }
 },
 "nbformat": 4,
 "nbformat_minor": 4
}
