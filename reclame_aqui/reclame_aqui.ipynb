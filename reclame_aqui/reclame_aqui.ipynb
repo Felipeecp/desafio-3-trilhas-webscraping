{
 "cells": [
  {
   "cell_type": "code",
   "execution_count": 52,
   "metadata": {},
   "outputs": [],
   "source": [
    "from selenium import webdriver\n",
    "from webdriver_manager.chrome import ChromeDriverManager"
   ]
  },
  {
   "cell_type": "code",
   "execution_count": 53,
   "metadata": {},
   "outputs": [
    {
     "name": "stderr",
     "output_type": "stream",
     "text": [
      "\n",
      "\n",
      "====== WebDriver manager ======\n",
      "Current google-chrome version is 95.0.4638\n",
      "Get LATEST driver version for 95.0.4638\n",
      "Driver [C:\\Users\\teixe\\.wdm\\drivers\\chromedriver\\win32\\95.0.4638.17\\chromedriver.exe] found in cache\n"
     ]
    }
   ],
   "source": [
    "# Inicializa o Driver e abre o navegador\n",
    "driver = webdriver.Chrome(ChromeDriverManager().install())"
   ]
  },
  {
   "cell_type": "code",
   "execution_count": 54,
   "metadata": {},
   "outputs": [],
   "source": [
    "# Coleta os dados de cada loja\n",
    "loja = ['Submarino',\n",
    "       'Americanas',\n",
    "       'Casas Bahia',\n",
    "       'Magazine Luiza',\n",
    "       'Amazon']\n",
    "urls = ['https://www.reclameaqui.com.br/empresa/submarino/',\n",
    "        'https://www.reclameaqui.com.br/empresa/americanas-com-loja-online/',\n",
    "       'https://www.reclameaqui.com.br/empresa/casas-bahia-loja-online/',\n",
    "       'https://www.reclameaqui.com.br/empresa/magazine-luiza-loja-online/',\n",
    "       'https://www.reclameaqui.com.br/empresa/amazon/']\n",
    "itens = []\n",
    "for index, url in enumerate(urls):\n",
    "    driver.get(url)\n",
    "    dados = driver.find_elements_by_class_name('sc-9xbj9-0')\n",
    "    reclamacoes = dados[0].text.split('%')[0]\n",
    "    negociar = dados[1].text.split('%')[0]\n",
    "    ind_solucao = dados[2].text.split('%')[0]\n",
    "    nota_consumidor = dados[3].text\n",
    "    n_reclamacoes = driver.find_elements_by_class_name('short-ammount')[0].text.split('\\n')[1]\n",
    "    item = {'Loja': loja[index],\n",
    "        'pct_reclamacoes': reclamacoes,\n",
    "        \"voltariam_negociar\": negociar,\n",
    "        'indice_solucao': ind_solucao,\n",
    "        'nota_consumidor': nota_consumidor,\n",
    "        'numero_reclamacoes': n_reclamacoes,\n",
    "        }\n",
    "    itens.append(item)"
   ]
  },
  {
   "cell_type": "code",
   "execution_count": 60,
   "metadata": {},
   "outputs": [],
   "source": [
    "# Coleta o tempo de reposta (em dias), que está em uma url diferente\n",
    "itens_time = []\n",
    "for index, url in enumerate(urls):\n",
    "    url_time = url+'lista-reclamacoes/?pagina=1'\n",
    "    driver.get(url_time)\n",
    "    time_response = driver.find_elements_by_class_name('company-index-value')[3].text\n",
    "    if ('dias' in time_response)&('horas' in time_response):\n",
    "        el = time_response.split(' ')[0::3]\n",
    "        horas = int(el[1])/24\n",
    "        time_response = round(float(el[0])+horas, 2)\n",
    "    else:\n",
    "        time_response =  round(int(time_response.split(' ')[0])/24, 2)\n",
    "    dictio = {'Tempo_Resposta':time_response}\n",
    "    itens_time.append(dictio)"
   ]
  },
  {
   "cell_type": "code",
   "execution_count": 63,
   "metadata": {},
   "outputs": [
    {
     "data": {
      "text/html": [
       "<div>\n",
       "<style scoped>\n",
       "    .dataframe tbody tr th:only-of-type {\n",
       "        vertical-align: middle;\n",
       "    }\n",
       "\n",
       "    .dataframe tbody tr th {\n",
       "        vertical-align: top;\n",
       "    }\n",
       "\n",
       "    .dataframe thead th {\n",
       "        text-align: right;\n",
       "    }\n",
       "</style>\n",
       "<table border=\"1\" class=\"dataframe\">\n",
       "  <thead>\n",
       "    <tr style=\"text-align: right;\">\n",
       "      <th></th>\n",
       "      <th>Loja</th>\n",
       "      <th>pct_reclamacoes</th>\n",
       "      <th>voltariam_negociar</th>\n",
       "      <th>indice_solucao</th>\n",
       "      <th>nota_consumidor</th>\n",
       "      <th>numero_reclamacoes</th>\n",
       "      <th>Tempo_Resposta</th>\n",
       "    </tr>\n",
       "  </thead>\n",
       "  <tbody>\n",
       "    <tr>\n",
       "      <th>0</th>\n",
       "      <td>Submarino</td>\n",
       "      <td>97.6</td>\n",
       "      <td>73</td>\n",
       "      <td>82.8</td>\n",
       "      <td>7.04</td>\n",
       "      <td>5658</td>\n",
       "      <td>3.33</td>\n",
       "    </tr>\n",
       "    <tr>\n",
       "      <th>1</th>\n",
       "      <td>Americanas</td>\n",
       "      <td>98.5</td>\n",
       "      <td>84.7</td>\n",
       "      <td>92.9</td>\n",
       "      <td>8.36</td>\n",
       "      <td>21120</td>\n",
       "      <td>2.33</td>\n",
       "    </tr>\n",
       "    <tr>\n",
       "      <th>2</th>\n",
       "      <td>Casas Bahia</td>\n",
       "      <td>99.1</td>\n",
       "      <td>63.7</td>\n",
       "      <td>85.2</td>\n",
       "      <td>6.37</td>\n",
       "      <td>26801</td>\n",
       "      <td>8.38</td>\n",
       "    </tr>\n",
       "    <tr>\n",
       "      <th>3</th>\n",
       "      <td>Magazine Luiza</td>\n",
       "      <td>96.8</td>\n",
       "      <td>80.3</td>\n",
       "      <td>92.7</td>\n",
       "      <td>7.76</td>\n",
       "      <td>57316</td>\n",
       "      <td>7.12</td>\n",
       "    </tr>\n",
       "    <tr>\n",
       "      <th>4</th>\n",
       "      <td>Amazon</td>\n",
       "      <td>99.7</td>\n",
       "      <td>81</td>\n",
       "      <td>85.1</td>\n",
       "      <td>7.84</td>\n",
       "      <td>35222</td>\n",
       "      <td>0.79</td>\n",
       "    </tr>\n",
       "  </tbody>\n",
       "</table>\n",
       "</div>"
      ],
      "text/plain": [
       "             Loja pct_reclamacoes voltariam_negociar indice_solucao  \\\n",
       "0       Submarino            97.6                 73           82.8   \n",
       "1      Americanas            98.5               84.7           92.9   \n",
       "2     Casas Bahia            99.1               63.7           85.2   \n",
       "3  Magazine Luiza            96.8               80.3           92.7   \n",
       "4          Amazon            99.7                 81           85.1   \n",
       "\n",
       "  nota_consumidor numero_reclamacoes  Tempo_Resposta  \n",
       "0            7.04               5658            3.33  \n",
       "1            8.36              21120            2.33  \n",
       "2            6.37              26801            8.38  \n",
       "3            7.76              57316            7.12  \n",
       "4            7.84              35222            0.79  "
      ]
     },
     "execution_count": 63,
     "metadata": {},
     "output_type": "execute_result"
    }
   ],
   "source": [
    "import pandas as pd\n",
    "data = pd.DataFrame(itens)\n",
    "data_time = pd.DataFrame(itens_time)\n",
    "df = pd.concat([data, data_time], axis=1)\n",
    "df"
   ]
  },
  {
   "cell_type": "code",
   "execution_count": 64,
   "metadata": {},
   "outputs": [],
   "source": [
    "df.to_csv('reclame_aqui.csv', sep=';', encoding='utf-8', index=False)"
   ]
  }
 ],
 "metadata": {
  "kernelspec": {
   "display_name": "Python 3",
   "language": "python",
   "name": "python3"
  },
  "language_info": {
   "codemirror_mode": {
    "name": "ipython",
    "version": 3
   },
   "file_extension": ".py",
   "mimetype": "text/x-python",
   "name": "python",
   "nbconvert_exporter": "python",
   "pygments_lexer": "ipython3",
   "version": "3.8.3"
  }
 },
 "nbformat": 4,
 "nbformat_minor": 4
}
