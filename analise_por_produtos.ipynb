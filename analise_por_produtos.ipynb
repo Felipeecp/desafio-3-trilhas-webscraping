{
 "cells": [
  {
   "cell_type": "code",
   "execution_count": 81,
   "metadata": {},
   "outputs": [],
   "source": [
    "import pandas as pd\n",
    "import numpy as np\n",
    "import seaborn as sns\n",
    "import matplotlib.pyplot as plt\n",
    "import plotly.express as px"
   ]
  },
  {
   "cell_type": "markdown",
   "metadata": {},
   "source": [
    "# Importando dados"
   ]
  },
  {
   "cell_type": "code",
   "execution_count": 82,
   "metadata": {},
   "outputs": [],
   "source": [
    "dados_gerais = pd.read_csv('output_geral/dataset_geral.csv',sep=';')\n",
    "dados_gerais_marcas = pd.read_csv('output_geral/dataset_geral_marcas.csv',sep=';')"
   ]
  },
  {
   "cell_type": "code",
   "execution_count": 83,
   "metadata": {},
   "outputs": [
    {
     "data": {
      "text/html": [
       "<div>\n",
       "<style scoped>\n",
       "    .dataframe tbody tr th:only-of-type {\n",
       "        vertical-align: middle;\n",
       "    }\n",
       "\n",
       "    .dataframe tbody tr th {\n",
       "        vertical-align: top;\n",
       "    }\n",
       "\n",
       "    .dataframe thead th {\n",
       "        text-align: right;\n",
       "    }\n",
       "</style>\n",
       "<table border=\"1\" class=\"dataframe\">\n",
       "  <thead>\n",
       "    <tr style=\"text-align: right;\">\n",
       "      <th></th>\n",
       "      <th>Descrição</th>\n",
       "      <th>Preço</th>\n",
       "      <th>TotalReviews</th>\n",
       "      <th>Loja</th>\n",
       "      <th>Categoria</th>\n",
       "    </tr>\n",
       "  </thead>\n",
       "  <tbody>\n",
       "    <tr>\n",
       "      <th>0</th>\n",
       "      <td>Notebook Lenovo Ultrafino IdeaPad S145, AMD Ry...</td>\n",
       "      <td>2909.00</td>\n",
       "      <td>199.0</td>\n",
       "      <td>Amazon</td>\n",
       "      <td>Notebook</td>\n",
       "    </tr>\n",
       "    <tr>\n",
       "      <th>1</th>\n",
       "      <td>Notebook Lenovo Ultrafino ideapad S145 i5-1035...</td>\n",
       "      <td>3229.99</td>\n",
       "      <td>26.0</td>\n",
       "      <td>Amazon</td>\n",
       "      <td>Notebook</td>\n",
       "    </tr>\n",
       "    <tr>\n",
       "      <th>2</th>\n",
       "      <td>SAMSUNG Chromebook SS 11.6 Intel DC 4GB 32GB X...</td>\n",
       "      <td>1699.00</td>\n",
       "      <td>239.0</td>\n",
       "      <td>Amazon</td>\n",
       "      <td>Notebook</td>\n",
       "    </tr>\n",
       "    <tr>\n",
       "      <th>3</th>\n",
       "      <td>Samsung BookIntel® Core™ i3-1115G4, 11 Geração...</td>\n",
       "      <td>2789.09</td>\n",
       "      <td>46.0</td>\n",
       "      <td>Amazon</td>\n",
       "      <td>Notebook</td>\n",
       "    </tr>\n",
       "    <tr>\n",
       "      <th>4</th>\n",
       "      <td>Notebook Positivo Motion Q464C Intel® Atom® Qu...</td>\n",
       "      <td>1718.90</td>\n",
       "      <td>72.0</td>\n",
       "      <td>Amazon</td>\n",
       "      <td>Notebook</td>\n",
       "    </tr>\n",
       "    <tr>\n",
       "      <th>...</th>\n",
       "      <td>...</td>\n",
       "      <td>...</td>\n",
       "      <td>...</td>\n",
       "      <td>...</td>\n",
       "      <td>...</td>\n",
       "    </tr>\n",
       "    <tr>\n",
       "      <th>3986</th>\n",
       "      <td>Geladeira/Refrigerador Samsung Frost Free</td>\n",
       "      <td>3324.05</td>\n",
       "      <td>0.0</td>\n",
       "      <td>Magazine Luiza</td>\n",
       "      <td>Geladeira</td>\n",
       "    </tr>\n",
       "    <tr>\n",
       "      <th>3987</th>\n",
       "      <td>Geladeira Brastemp Frost Free Duplex 500 litro...</td>\n",
       "      <td>5571.00</td>\n",
       "      <td>0.0</td>\n",
       "      <td>Magazine Luiza</td>\n",
       "      <td>Geladeira</td>\n",
       "    </tr>\n",
       "    <tr>\n",
       "      <th>3988</th>\n",
       "      <td>Geladeira Frost Free Midea MD-RT453FGA041 425L...</td>\n",
       "      <td>2951.10</td>\n",
       "      <td>0.0</td>\n",
       "      <td>Magazine Luiza</td>\n",
       "      <td>Geladeira</td>\n",
       "    </tr>\n",
       "    <tr>\n",
       "      <th>3989</th>\n",
       "      <td>Geladeira panasonic bb53 branca 425l 127v</td>\n",
       "      <td>3199.45</td>\n",
       "      <td>0.0</td>\n",
       "      <td>Magazine Luiza</td>\n",
       "      <td>Geladeira</td>\n",
       "    </tr>\n",
       "    <tr>\n",
       "      <th>3990</th>\n",
       "      <td>Geladeira Consul CRB39AB Frost Free 342L</td>\n",
       "      <td>1999.00</td>\n",
       "      <td>2.0</td>\n",
       "      <td>Magazine Luiza</td>\n",
       "      <td>Geladeira</td>\n",
       "    </tr>\n",
       "  </tbody>\n",
       "</table>\n",
       "<p>3991 rows × 5 columns</p>\n",
       "</div>"
      ],
      "text/plain": [
       "                                              Descrição    Preço  \\\n",
       "0     Notebook Lenovo Ultrafino IdeaPad S145, AMD Ry...  2909.00   \n",
       "1     Notebook Lenovo Ultrafino ideapad S145 i5-1035...  3229.99   \n",
       "2     SAMSUNG Chromebook SS 11.6 Intel DC 4GB 32GB X...  1699.00   \n",
       "3     Samsung BookIntel® Core™ i3-1115G4, 11 Geração...  2789.09   \n",
       "4     Notebook Positivo Motion Q464C Intel® Atom® Qu...  1718.90   \n",
       "...                                                 ...      ...   \n",
       "3986          Geladeira/Refrigerador Samsung Frost Free  3324.05   \n",
       "3987  Geladeira Brastemp Frost Free Duplex 500 litro...  5571.00   \n",
       "3988  Geladeira Frost Free Midea MD-RT453FGA041 425L...  2951.10   \n",
       "3989          Geladeira panasonic bb53 branca 425l 127v  3199.45   \n",
       "3990           Geladeira Consul CRB39AB Frost Free 342L  1999.00   \n",
       "\n",
       "      TotalReviews            Loja  Categoria  \n",
       "0            199.0          Amazon   Notebook  \n",
       "1             26.0          Amazon   Notebook  \n",
       "2            239.0          Amazon   Notebook  \n",
       "3             46.0          Amazon   Notebook  \n",
       "4             72.0          Amazon   Notebook  \n",
       "...            ...             ...        ...  \n",
       "3986           0.0  Magazine Luiza  Geladeira  \n",
       "3987           0.0  Magazine Luiza  Geladeira  \n",
       "3988           0.0  Magazine Luiza  Geladeira  \n",
       "3989           0.0  Magazine Luiza  Geladeira  \n",
       "3990           2.0  Magazine Luiza  Geladeira  \n",
       "\n",
       "[3991 rows x 5 columns]"
      ]
     },
     "execution_count": 83,
     "metadata": {},
     "output_type": "execute_result"
    }
   ],
   "source": [
    "dados_gerais"
   ]
  },
  {
   "cell_type": "code",
   "execution_count": 84,
   "metadata": {},
   "outputs": [
    {
     "data": {
      "text/html": [
       "<div>\n",
       "<style scoped>\n",
       "    .dataframe tbody tr th:only-of-type {\n",
       "        vertical-align: middle;\n",
       "    }\n",
       "\n",
       "    .dataframe tbody tr th {\n",
       "        vertical-align: top;\n",
       "    }\n",
       "\n",
       "    .dataframe thead th {\n",
       "        text-align: right;\n",
       "    }\n",
       "</style>\n",
       "<table border=\"1\" class=\"dataframe\">\n",
       "  <thead>\n",
       "    <tr style=\"text-align: right;\">\n",
       "      <th></th>\n",
       "      <th>Descrição</th>\n",
       "      <th>Preço</th>\n",
       "      <th>TotalReviews</th>\n",
       "      <th>Loja</th>\n",
       "      <th>Categoria</th>\n",
       "      <th>Marca</th>\n",
       "    </tr>\n",
       "  </thead>\n",
       "  <tbody>\n",
       "    <tr>\n",
       "      <th>0</th>\n",
       "      <td>Notebook Lenovo Ultrafino IdeaPad S145, AMD Ry...</td>\n",
       "      <td>2909.00</td>\n",
       "      <td>199.0</td>\n",
       "      <td>Amazon</td>\n",
       "      <td>Notebook</td>\n",
       "      <td>Lenovo</td>\n",
       "    </tr>\n",
       "    <tr>\n",
       "      <th>1</th>\n",
       "      <td>Notebook Lenovo Ultrafino ideapad S145 i5-1035...</td>\n",
       "      <td>3229.99</td>\n",
       "      <td>26.0</td>\n",
       "      <td>Amazon</td>\n",
       "      <td>Notebook</td>\n",
       "      <td>Lenovo</td>\n",
       "    </tr>\n",
       "    <tr>\n",
       "      <th>2</th>\n",
       "      <td>SAMSUNG Chromebook SS 11.6 Intel DC 4GB 32GB X...</td>\n",
       "      <td>1699.00</td>\n",
       "      <td>239.0</td>\n",
       "      <td>Amazon</td>\n",
       "      <td>Notebook</td>\n",
       "      <td>Samsung</td>\n",
       "    </tr>\n",
       "    <tr>\n",
       "      <th>3</th>\n",
       "      <td>Samsung BookIntel® Core™ i3-1115G4, 11 Geração...</td>\n",
       "      <td>2789.09</td>\n",
       "      <td>46.0</td>\n",
       "      <td>Amazon</td>\n",
       "      <td>Notebook</td>\n",
       "      <td>Samsung</td>\n",
       "    </tr>\n",
       "    <tr>\n",
       "      <th>4</th>\n",
       "      <td>Notebook Positivo Motion Q464C Intel® Atom® Qu...</td>\n",
       "      <td>1718.90</td>\n",
       "      <td>72.0</td>\n",
       "      <td>Amazon</td>\n",
       "      <td>Notebook</td>\n",
       "      <td>Positivo</td>\n",
       "    </tr>\n",
       "    <tr>\n",
       "      <th>...</th>\n",
       "      <td>...</td>\n",
       "      <td>...</td>\n",
       "      <td>...</td>\n",
       "      <td>...</td>\n",
       "      <td>...</td>\n",
       "      <td>...</td>\n",
       "    </tr>\n",
       "    <tr>\n",
       "      <th>2547</th>\n",
       "      <td>Geladeira/Refrigerador Inverter 554 Litros Phi...</td>\n",
       "      <td>5264.86</td>\n",
       "      <td>0.0</td>\n",
       "      <td>Magazine Luiza</td>\n",
       "      <td>Geladeira</td>\n",
       "      <td>Philco</td>\n",
       "    </tr>\n",
       "    <tr>\n",
       "      <th>2548</th>\n",
       "      <td>Geladeira French Door Eco Inverter Philco Fros...</td>\n",
       "      <td>3952.93</td>\n",
       "      <td>0.0</td>\n",
       "      <td>Magazine Luiza</td>\n",
       "      <td>Geladeira</td>\n",
       "      <td>Philco</td>\n",
       "    </tr>\n",
       "    <tr>\n",
       "      <th>2549</th>\n",
       "      <td>Geladeira/Refrigerador Philco Frost Free</td>\n",
       "      <td>7884.05</td>\n",
       "      <td>2.0</td>\n",
       "      <td>Magazine Luiza</td>\n",
       "      <td>Geladeira</td>\n",
       "      <td>Philco</td>\n",
       "    </tr>\n",
       "    <tr>\n",
       "      <th>2550</th>\n",
       "      <td>Geladeira/Refrigerador Smart LG Side by Side</td>\n",
       "      <td>17669.05</td>\n",
       "      <td>0.0</td>\n",
       "      <td>Magazine Luiza</td>\n",
       "      <td>Geladeira</td>\n",
       "      <td>Lg</td>\n",
       "    </tr>\n",
       "    <tr>\n",
       "      <th>2551</th>\n",
       "      <td>Geladeira/Refrigerador Samsung Frost Free</td>\n",
       "      <td>3324.05</td>\n",
       "      <td>0.0</td>\n",
       "      <td>Magazine Luiza</td>\n",
       "      <td>Geladeira</td>\n",
       "      <td>Samsung</td>\n",
       "    </tr>\n",
       "  </tbody>\n",
       "</table>\n",
       "<p>2552 rows × 6 columns</p>\n",
       "</div>"
      ],
      "text/plain": [
       "                                              Descrição     Preço  \\\n",
       "0     Notebook Lenovo Ultrafino IdeaPad S145, AMD Ry...   2909.00   \n",
       "1     Notebook Lenovo Ultrafino ideapad S145 i5-1035...   3229.99   \n",
       "2     SAMSUNG Chromebook SS 11.6 Intel DC 4GB 32GB X...   1699.00   \n",
       "3     Samsung BookIntel® Core™ i3-1115G4, 11 Geração...   2789.09   \n",
       "4     Notebook Positivo Motion Q464C Intel® Atom® Qu...   1718.90   \n",
       "...                                                 ...       ...   \n",
       "2547  Geladeira/Refrigerador Inverter 554 Litros Phi...   5264.86   \n",
       "2548  Geladeira French Door Eco Inverter Philco Fros...   3952.93   \n",
       "2549           Geladeira/Refrigerador Philco Frost Free   7884.05   \n",
       "2550       Geladeira/Refrigerador Smart LG Side by Side  17669.05   \n",
       "2551          Geladeira/Refrigerador Samsung Frost Free   3324.05   \n",
       "\n",
       "      TotalReviews            Loja  Categoria     Marca  \n",
       "0            199.0          Amazon   Notebook    Lenovo  \n",
       "1             26.0          Amazon   Notebook    Lenovo  \n",
       "2            239.0          Amazon   Notebook   Samsung  \n",
       "3             46.0          Amazon   Notebook   Samsung  \n",
       "4             72.0          Amazon   Notebook  Positivo  \n",
       "...            ...             ...        ...       ...  \n",
       "2547           0.0  Magazine Luiza  Geladeira    Philco  \n",
       "2548           0.0  Magazine Luiza  Geladeira    Philco  \n",
       "2549           2.0  Magazine Luiza  Geladeira    Philco  \n",
       "2550           0.0  Magazine Luiza  Geladeira        Lg  \n",
       "2551           0.0  Magazine Luiza  Geladeira   Samsung  \n",
       "\n",
       "[2552 rows x 6 columns]"
      ]
     },
     "execution_count": 84,
     "metadata": {},
     "output_type": "execute_result"
    }
   ],
   "source": [
    "dados_gerais_marcas"
   ]
  },
  {
   "cell_type": "markdown",
   "metadata": {},
   "source": [
    "# Análise sobre notebooks"
   ]
  },
  {
   "cell_type": "code",
   "execution_count": 85,
   "metadata": {},
   "outputs": [
    {
     "data": {
      "text/html": [
       "<div>\n",
       "<style scoped>\n",
       "    .dataframe tbody tr th:only-of-type {\n",
       "        vertical-align: middle;\n",
       "    }\n",
       "\n",
       "    .dataframe tbody tr th {\n",
       "        vertical-align: top;\n",
       "    }\n",
       "\n",
       "    .dataframe thead th {\n",
       "        text-align: right;\n",
       "    }\n",
       "</style>\n",
       "<table border=\"1\" class=\"dataframe\">\n",
       "  <thead>\n",
       "    <tr style=\"text-align: right;\">\n",
       "      <th></th>\n",
       "      <th>Descrição</th>\n",
       "      <th>Preço</th>\n",
       "      <th>TotalReviews</th>\n",
       "      <th>Loja</th>\n",
       "      <th>Categoria</th>\n",
       "      <th>Marca</th>\n",
       "    </tr>\n",
       "  </thead>\n",
       "  <tbody>\n",
       "    <tr>\n",
       "      <th>0</th>\n",
       "      <td>Notebook Lenovo Ultrafino IdeaPad S145, AMD Ry...</td>\n",
       "      <td>2909.00</td>\n",
       "      <td>199.0</td>\n",
       "      <td>Amazon</td>\n",
       "      <td>Notebook</td>\n",
       "      <td>Lenovo</td>\n",
       "    </tr>\n",
       "    <tr>\n",
       "      <th>1</th>\n",
       "      <td>Notebook Lenovo Ultrafino ideapad S145 i5-1035...</td>\n",
       "      <td>3229.99</td>\n",
       "      <td>26.0</td>\n",
       "      <td>Amazon</td>\n",
       "      <td>Notebook</td>\n",
       "      <td>Lenovo</td>\n",
       "    </tr>\n",
       "    <tr>\n",
       "      <th>2</th>\n",
       "      <td>SAMSUNG Chromebook SS 11.6 Intel DC 4GB 32GB X...</td>\n",
       "      <td>1699.00</td>\n",
       "      <td>239.0</td>\n",
       "      <td>Amazon</td>\n",
       "      <td>Notebook</td>\n",
       "      <td>Samsung</td>\n",
       "    </tr>\n",
       "    <tr>\n",
       "      <th>3</th>\n",
       "      <td>Samsung BookIntel® Core™ i3-1115G4, 11 Geração...</td>\n",
       "      <td>2789.09</td>\n",
       "      <td>46.0</td>\n",
       "      <td>Amazon</td>\n",
       "      <td>Notebook</td>\n",
       "      <td>Samsung</td>\n",
       "    </tr>\n",
       "    <tr>\n",
       "      <th>4</th>\n",
       "      <td>Notebook Positivo Motion Q464C Intel® Atom® Qu...</td>\n",
       "      <td>1718.90</td>\n",
       "      <td>72.0</td>\n",
       "      <td>Amazon</td>\n",
       "      <td>Notebook</td>\n",
       "      <td>Positivo</td>\n",
       "    </tr>\n",
       "    <tr>\n",
       "      <th>...</th>\n",
       "      <td>...</td>\n",
       "      <td>...</td>\n",
       "      <td>...</td>\n",
       "      <td>...</td>\n",
       "      <td>...</td>\n",
       "      <td>...</td>\n",
       "    </tr>\n",
       "    <tr>\n",
       "      <th>2068</th>\n",
       "      <td>Notebook Dell Inspiron 3501-M46S36M 15.6\" HD 1...</td>\n",
       "      <td>4121.10</td>\n",
       "      <td>0.0</td>\n",
       "      <td>Magazine Luiza</td>\n",
       "      <td>Notebook</td>\n",
       "      <td>Dell</td>\n",
       "    </tr>\n",
       "    <tr>\n",
       "      <th>2069</th>\n",
       "      <td>Macbook Air 13,3” Apple M1 8GB</td>\n",
       "      <td>11438.10</td>\n",
       "      <td>0.0</td>\n",
       "      <td>Magazine Luiza</td>\n",
       "      <td>Notebook</td>\n",
       "      <td>Apple</td>\n",
       "    </tr>\n",
       "    <tr>\n",
       "      <th>2070</th>\n",
       "      <td>Notebook Samsung Book X30 Intel Core i5 8GB 1T...</td>\n",
       "      <td>4655.00</td>\n",
       "      <td>0.0</td>\n",
       "      <td>Magazine Luiza</td>\n",
       "      <td>Notebook</td>\n",
       "      <td>Samsung</td>\n",
       "    </tr>\n",
       "    <tr>\n",
       "      <th>2071</th>\n",
       "      <td>Notebook Acer, Intel Core i5 10210U, 8GB, 512G...</td>\n",
       "      <td>5168.90</td>\n",
       "      <td>0.0</td>\n",
       "      <td>Magazine Luiza</td>\n",
       "      <td>Notebook</td>\n",
       "      <td>Acer</td>\n",
       "    </tr>\n",
       "    <tr>\n",
       "      <th>2072</th>\n",
       "      <td>Notebook Samsung Book X40 Intel Core i5 8GB 1T...</td>\n",
       "      <td>4940.00</td>\n",
       "      <td>0.0</td>\n",
       "      <td>Magazine Luiza</td>\n",
       "      <td>Notebook</td>\n",
       "      <td>Samsung</td>\n",
       "    </tr>\n",
       "  </tbody>\n",
       "</table>\n",
       "<p>854 rows × 6 columns</p>\n",
       "</div>"
      ],
      "text/plain": [
       "                                              Descrição     Preço  \\\n",
       "0     Notebook Lenovo Ultrafino IdeaPad S145, AMD Ry...   2909.00   \n",
       "1     Notebook Lenovo Ultrafino ideapad S145 i5-1035...   3229.99   \n",
       "2     SAMSUNG Chromebook SS 11.6 Intel DC 4GB 32GB X...   1699.00   \n",
       "3     Samsung BookIntel® Core™ i3-1115G4, 11 Geração...   2789.09   \n",
       "4     Notebook Positivo Motion Q464C Intel® Atom® Qu...   1718.90   \n",
       "...                                                 ...       ...   \n",
       "2068  Notebook Dell Inspiron 3501-M46S36M 15.6\" HD 1...   4121.10   \n",
       "2069                     Macbook Air 13,3” Apple M1 8GB  11438.10   \n",
       "2070  Notebook Samsung Book X30 Intel Core i5 8GB 1T...   4655.00   \n",
       "2071  Notebook Acer, Intel Core i5 10210U, 8GB, 512G...   5168.90   \n",
       "2072  Notebook Samsung Book X40 Intel Core i5 8GB 1T...   4940.00   \n",
       "\n",
       "      TotalReviews            Loja Categoria     Marca  \n",
       "0            199.0          Amazon  Notebook    Lenovo  \n",
       "1             26.0          Amazon  Notebook    Lenovo  \n",
       "2            239.0          Amazon  Notebook   Samsung  \n",
       "3             46.0          Amazon  Notebook   Samsung  \n",
       "4             72.0          Amazon  Notebook  Positivo  \n",
       "...            ...             ...       ...       ...  \n",
       "2068           0.0  Magazine Luiza  Notebook      Dell  \n",
       "2069           0.0  Magazine Luiza  Notebook     Apple  \n",
       "2070           0.0  Magazine Luiza  Notebook   Samsung  \n",
       "2071           0.0  Magazine Luiza  Notebook      Acer  \n",
       "2072           0.0  Magazine Luiza  Notebook   Samsung  \n",
       "\n",
       "[854 rows x 6 columns]"
      ]
     },
     "execution_count": 85,
     "metadata": {},
     "output_type": "execute_result"
    }
   ],
   "source": [
    "dados_gerais_notebooks = dados_gerais_marcas[dados_gerais_marcas[\"Categoria\"] == \"Notebook\"]\n",
    "dados_gerais_notebooks"
   ]
  },
  {
   "cell_type": "code",
   "execution_count": 86,
   "metadata": {},
   "outputs": [
    {
     "data": {
      "text/html": [
       "<div>\n",
       "<style scoped>\n",
       "    .dataframe tbody tr th:only-of-type {\n",
       "        vertical-align: middle;\n",
       "    }\n",
       "\n",
       "    .dataframe tbody tr th {\n",
       "        vertical-align: top;\n",
       "    }\n",
       "\n",
       "    .dataframe thead th {\n",
       "        text-align: right;\n",
       "    }\n",
       "</style>\n",
       "<table border=\"1\" class=\"dataframe\">\n",
       "  <thead>\n",
       "    <tr style=\"text-align: right;\">\n",
       "      <th></th>\n",
       "      <th>Loja</th>\n",
       "      <th>Marca</th>\n",
       "      <th>Quantidade</th>\n",
       "    </tr>\n",
       "  </thead>\n",
       "  <tbody>\n",
       "    <tr>\n",
       "      <th>0</th>\n",
       "      <td>Amazon</td>\n",
       "      <td>Acer</td>\n",
       "      <td>28</td>\n",
       "    </tr>\n",
       "    <tr>\n",
       "      <th>20</th>\n",
       "      <td>Magazine Luiza</td>\n",
       "      <td>Acer</td>\n",
       "      <td>41</td>\n",
       "    </tr>\n",
       "    <tr>\n",
       "      <th>1</th>\n",
       "      <td>Amazon</td>\n",
       "      <td>Apple</td>\n",
       "      <td>4</td>\n",
       "    </tr>\n",
       "    <tr>\n",
       "      <th>2</th>\n",
       "      <td>Amazon</td>\n",
       "      <td>Asus</td>\n",
       "      <td>21</td>\n",
       "    </tr>\n",
       "    <tr>\n",
       "      <th>22</th>\n",
       "      <td>Magazine Luiza</td>\n",
       "      <td>Asus</td>\n",
       "      <td>17</td>\n",
       "    </tr>\n",
       "  </tbody>\n",
       "</table>\n",
       "</div>"
      ],
      "text/plain": [
       "              Loja  Marca  Quantidade\n",
       "0           Amazon   Acer          28\n",
       "20  Magazine Luiza   Acer          41\n",
       "1           Amazon  Apple           4\n",
       "2           Amazon   Asus          21\n",
       "22  Magazine Luiza   Asus          17"
      ]
     },
     "execution_count": 86,
     "metadata": {},
     "output_type": "execute_result"
    }
   ],
   "source": [
    "groupby_loja_marca_ntb = dados_gerais_notebooks[['Loja','Marca','Descrição']].groupby(['Loja','Marca']).count()\n",
    "groupby_loja_marca_ntb.reset_index(inplace=True)\n",
    "groupby_loja_marca_ntb.rename(columns={'Descrição':'Quantidade'}, inplace=True)\n",
    "groupby_loja_marca_ntb.sample(5)"
   ]
  },
  {
   "cell_type": "markdown",
   "metadata": {},
   "source": [
    "## Quantidade de notebooks de cada marca em cada loja"
   ]
  },
  {
   "cell_type": "code",
   "execution_count": 87,
   "metadata": {},
   "outputs": [
    {
     "data": {
      "application/vnd.plotly.v1+json": {
       "config": {
        "plotlyServerURL": "https://plot.ly"
       },
       "data": [
        {
         "alignmentgroup": "True",
         "hovertemplate": "Marca=Acer<br>Loja=%{x}<br>Quantidade=%{text}<extra></extra>",
         "legendgroup": "Acer",
         "marker": {
          "color": "#636efa",
          "pattern": {
           "shape": ""
          }
         },
         "name": "Acer",
         "offsetgroup": "Acer",
         "orientation": "v",
         "showlegend": true,
         "text": [
          28,
          45,
          63,
          41
         ],
         "textposition": "auto",
         "type": "bar",
         "x": [
          "Amazon",
          "Americanas",
          "Casas Bahia",
          "Magazine Luiza"
         ],
         "xaxis": "x",
         "y": [
          28,
          45,
          63,
          41
         ],
         "yaxis": "y"
        },
        {
         "alignmentgroup": "True",
         "hovertemplate": "Marca=Apple<br>Loja=%{x}<br>Quantidade=%{text}<extra></extra>",
         "legendgroup": "Apple",
         "marker": {
          "color": "#EF553B",
          "pattern": {
           "shape": ""
          }
         },
         "name": "Apple",
         "offsetgroup": "Apple",
         "orientation": "v",
         "showlegend": true,
         "text": [
          4,
          2,
          13
         ],
         "textposition": "auto",
         "type": "bar",
         "x": [
          "Amazon",
          "Casas Bahia",
          "Magazine Luiza"
         ],
         "xaxis": "x",
         "y": [
          4,
          2,
          13
         ],
         "yaxis": "y"
        },
        {
         "alignmentgroup": "True",
         "hovertemplate": "Marca=Asus<br>Loja=%{x}<br>Quantidade=%{text}<extra></extra>",
         "legendgroup": "Asus",
         "marker": {
          "color": "#00cc96",
          "pattern": {
           "shape": ""
          }
         },
         "name": "Asus",
         "offsetgroup": "Asus",
         "orientation": "v",
         "showlegend": true,
         "text": [
          21,
          22,
          17
         ],
         "textposition": "auto",
         "type": "bar",
         "x": [
          "Amazon",
          "Casas Bahia",
          "Magazine Luiza"
         ],
         "xaxis": "x",
         "y": [
          21,
          22,
          17
         ],
         "yaxis": "y"
        },
        {
         "alignmentgroup": "True",
         "hovertemplate": "Marca=Dell<br>Loja=%{x}<br>Quantidade=%{text}<extra></extra>",
         "legendgroup": "Dell",
         "marker": {
          "color": "#ab63fa",
          "pattern": {
           "shape": ""
          }
         },
         "name": "Dell",
         "offsetgroup": "Dell",
         "orientation": "v",
         "showlegend": true,
         "text": [
          43,
          69,
          49,
          59
         ],
         "textposition": "auto",
         "type": "bar",
         "x": [
          "Amazon",
          "Americanas",
          "Casas Bahia",
          "Magazine Luiza"
         ],
         "xaxis": "x",
         "y": [
          43,
          69,
          49,
          59
         ],
         "yaxis": "y"
        },
        {
         "alignmentgroup": "True",
         "hovertemplate": "Marca=Lenovo<br>Loja=%{x}<br>Quantidade=%{text}<extra></extra>",
         "legendgroup": "Lenovo",
         "marker": {
          "color": "#FFA15A",
          "pattern": {
           "shape": ""
          }
         },
         "name": "Lenovo",
         "offsetgroup": "Lenovo",
         "orientation": "v",
         "showlegend": true,
         "text": [
          22,
          44,
          57,
          32
         ],
         "textposition": "auto",
         "type": "bar",
         "x": [
          "Amazon",
          "Americanas",
          "Casas Bahia",
          "Magazine Luiza"
         ],
         "xaxis": "x",
         "y": [
          22,
          44,
          57,
          32
         ],
         "yaxis": "y"
        },
        {
         "alignmentgroup": "True",
         "hovertemplate": "Marca=Lg<br>Loja=%{x}<br>Quantidade=%{text}<extra></extra>",
         "legendgroup": "Lg",
         "marker": {
          "color": "#19d3f3",
          "pattern": {
           "shape": ""
          }
         },
         "name": "Lg",
         "offsetgroup": "Lg",
         "orientation": "v",
         "showlegend": true,
         "text": [
          2,
          1
         ],
         "textposition": "auto",
         "type": "bar",
         "x": [
          "Amazon",
          "Magazine Luiza"
         ],
         "xaxis": "x",
         "y": [
          2,
          1
         ],
         "yaxis": "y"
        },
        {
         "alignmentgroup": "True",
         "hovertemplate": "Marca=Positivo<br>Loja=%{x}<br>Quantidade=%{text}<extra></extra>",
         "legendgroup": "Positivo",
         "marker": {
          "color": "#FF6692",
          "pattern": {
           "shape": ""
          }
         },
         "name": "Positivo",
         "offsetgroup": "Positivo",
         "orientation": "v",
         "showlegend": true,
         "text": [
          22,
          31,
          10,
          14
         ],
         "textposition": "auto",
         "type": "bar",
         "x": [
          "Amazon",
          "Americanas",
          "Casas Bahia",
          "Magazine Luiza"
         ],
         "xaxis": "x",
         "y": [
          22,
          31,
          10,
          14
         ],
         "yaxis": "y"
        },
        {
         "alignmentgroup": "True",
         "hovertemplate": "Marca=Samsung<br>Loja=%{x}<br>Quantidade=%{text}<extra></extra>",
         "legendgroup": "Samsung",
         "marker": {
          "color": "#B6E880",
          "pattern": {
           "shape": ""
          }
         },
         "name": "Samsung",
         "offsetgroup": "Samsung",
         "orientation": "v",
         "showlegend": true,
         "text": [
          24,
          56,
          21,
          42
         ],
         "textposition": "auto",
         "type": "bar",
         "x": [
          "Amazon",
          "Americanas",
          "Casas Bahia",
          "Magazine Luiza"
         ],
         "xaxis": "x",
         "y": [
          24,
          56,
          21,
          42
         ],
         "yaxis": "y"
        }
       ],
       "layout": {
        "barmode": "relative",
        "legend": {
         "title": {
          "text": "Marca"
         },
         "tracegroupgap": 0
        },
        "template": {
         "data": {
          "bar": [
           {
            "error_x": {
             "color": "#2a3f5f"
            },
            "error_y": {
             "color": "#2a3f5f"
            },
            "marker": {
             "line": {
              "color": "#E5ECF6",
              "width": 0.5
             },
             "pattern": {
              "fillmode": "overlay",
              "size": 10,
              "solidity": 0.2
             }
            },
            "type": "bar"
           }
          ],
          "barpolar": [
           {
            "marker": {
             "line": {
              "color": "#E5ECF6",
              "width": 0.5
             },
             "pattern": {
              "fillmode": "overlay",
              "size": 10,
              "solidity": 0.2
             }
            },
            "type": "barpolar"
           }
          ],
          "carpet": [
           {
            "aaxis": {
             "endlinecolor": "#2a3f5f",
             "gridcolor": "white",
             "linecolor": "white",
             "minorgridcolor": "white",
             "startlinecolor": "#2a3f5f"
            },
            "baxis": {
             "endlinecolor": "#2a3f5f",
             "gridcolor": "white",
             "linecolor": "white",
             "minorgridcolor": "white",
             "startlinecolor": "#2a3f5f"
            },
            "type": "carpet"
           }
          ],
          "choropleth": [
           {
            "colorbar": {
             "outlinewidth": 0,
             "ticks": ""
            },
            "type": "choropleth"
           }
          ],
          "contour": [
           {
            "colorbar": {
             "outlinewidth": 0,
             "ticks": ""
            },
            "colorscale": [
             [
              0,
              "#0d0887"
             ],
             [
              0.1111111111111111,
              "#46039f"
             ],
             [
              0.2222222222222222,
              "#7201a8"
             ],
             [
              0.3333333333333333,
              "#9c179e"
             ],
             [
              0.4444444444444444,
              "#bd3786"
             ],
             [
              0.5555555555555556,
              "#d8576b"
             ],
             [
              0.6666666666666666,
              "#ed7953"
             ],
             [
              0.7777777777777778,
              "#fb9f3a"
             ],
             [
              0.8888888888888888,
              "#fdca26"
             ],
             [
              1,
              "#f0f921"
             ]
            ],
            "type": "contour"
           }
          ],
          "contourcarpet": [
           {
            "colorbar": {
             "outlinewidth": 0,
             "ticks": ""
            },
            "type": "contourcarpet"
           }
          ],
          "heatmap": [
           {
            "colorbar": {
             "outlinewidth": 0,
             "ticks": ""
            },
            "colorscale": [
             [
              0,
              "#0d0887"
             ],
             [
              0.1111111111111111,
              "#46039f"
             ],
             [
              0.2222222222222222,
              "#7201a8"
             ],
             [
              0.3333333333333333,
              "#9c179e"
             ],
             [
              0.4444444444444444,
              "#bd3786"
             ],
             [
              0.5555555555555556,
              "#d8576b"
             ],
             [
              0.6666666666666666,
              "#ed7953"
             ],
             [
              0.7777777777777778,
              "#fb9f3a"
             ],
             [
              0.8888888888888888,
              "#fdca26"
             ],
             [
              1,
              "#f0f921"
             ]
            ],
            "type": "heatmap"
           }
          ],
          "heatmapgl": [
           {
            "colorbar": {
             "outlinewidth": 0,
             "ticks": ""
            },
            "colorscale": [
             [
              0,
              "#0d0887"
             ],
             [
              0.1111111111111111,
              "#46039f"
             ],
             [
              0.2222222222222222,
              "#7201a8"
             ],
             [
              0.3333333333333333,
              "#9c179e"
             ],
             [
              0.4444444444444444,
              "#bd3786"
             ],
             [
              0.5555555555555556,
              "#d8576b"
             ],
             [
              0.6666666666666666,
              "#ed7953"
             ],
             [
              0.7777777777777778,
              "#fb9f3a"
             ],
             [
              0.8888888888888888,
              "#fdca26"
             ],
             [
              1,
              "#f0f921"
             ]
            ],
            "type": "heatmapgl"
           }
          ],
          "histogram": [
           {
            "marker": {
             "pattern": {
              "fillmode": "overlay",
              "size": 10,
              "solidity": 0.2
             }
            },
            "type": "histogram"
           }
          ],
          "histogram2d": [
           {
            "colorbar": {
             "outlinewidth": 0,
             "ticks": ""
            },
            "colorscale": [
             [
              0,
              "#0d0887"
             ],
             [
              0.1111111111111111,
              "#46039f"
             ],
             [
              0.2222222222222222,
              "#7201a8"
             ],
             [
              0.3333333333333333,
              "#9c179e"
             ],
             [
              0.4444444444444444,
              "#bd3786"
             ],
             [
              0.5555555555555556,
              "#d8576b"
             ],
             [
              0.6666666666666666,
              "#ed7953"
             ],
             [
              0.7777777777777778,
              "#fb9f3a"
             ],
             [
              0.8888888888888888,
              "#fdca26"
             ],
             [
              1,
              "#f0f921"
             ]
            ],
            "type": "histogram2d"
           }
          ],
          "histogram2dcontour": [
           {
            "colorbar": {
             "outlinewidth": 0,
             "ticks": ""
            },
            "colorscale": [
             [
              0,
              "#0d0887"
             ],
             [
              0.1111111111111111,
              "#46039f"
             ],
             [
              0.2222222222222222,
              "#7201a8"
             ],
             [
              0.3333333333333333,
              "#9c179e"
             ],
             [
              0.4444444444444444,
              "#bd3786"
             ],
             [
              0.5555555555555556,
              "#d8576b"
             ],
             [
              0.6666666666666666,
              "#ed7953"
             ],
             [
              0.7777777777777778,
              "#fb9f3a"
             ],
             [
              0.8888888888888888,
              "#fdca26"
             ],
             [
              1,
              "#f0f921"
             ]
            ],
            "type": "histogram2dcontour"
           }
          ],
          "mesh3d": [
           {
            "colorbar": {
             "outlinewidth": 0,
             "ticks": ""
            },
            "type": "mesh3d"
           }
          ],
          "parcoords": [
           {
            "line": {
             "colorbar": {
              "outlinewidth": 0,
              "ticks": ""
             }
            },
            "type": "parcoords"
           }
          ],
          "pie": [
           {
            "automargin": true,
            "type": "pie"
           }
          ],
          "scatter": [
           {
            "marker": {
             "colorbar": {
              "outlinewidth": 0,
              "ticks": ""
             }
            },
            "type": "scatter"
           }
          ],
          "scatter3d": [
           {
            "line": {
             "colorbar": {
              "outlinewidth": 0,
              "ticks": ""
             }
            },
            "marker": {
             "colorbar": {
              "outlinewidth": 0,
              "ticks": ""
             }
            },
            "type": "scatter3d"
           }
          ],
          "scattercarpet": [
           {
            "marker": {
             "colorbar": {
              "outlinewidth": 0,
              "ticks": ""
             }
            },
            "type": "scattercarpet"
           }
          ],
          "scattergeo": [
           {
            "marker": {
             "colorbar": {
              "outlinewidth": 0,
              "ticks": ""
             }
            },
            "type": "scattergeo"
           }
          ],
          "scattergl": [
           {
            "marker": {
             "colorbar": {
              "outlinewidth": 0,
              "ticks": ""
             }
            },
            "type": "scattergl"
           }
          ],
          "scattermapbox": [
           {
            "marker": {
             "colorbar": {
              "outlinewidth": 0,
              "ticks": ""
             }
            },
            "type": "scattermapbox"
           }
          ],
          "scatterpolar": [
           {
            "marker": {
             "colorbar": {
              "outlinewidth": 0,
              "ticks": ""
             }
            },
            "type": "scatterpolar"
           }
          ],
          "scatterpolargl": [
           {
            "marker": {
             "colorbar": {
              "outlinewidth": 0,
              "ticks": ""
             }
            },
            "type": "scatterpolargl"
           }
          ],
          "scatterternary": [
           {
            "marker": {
             "colorbar": {
              "outlinewidth": 0,
              "ticks": ""
             }
            },
            "type": "scatterternary"
           }
          ],
          "surface": [
           {
            "colorbar": {
             "outlinewidth": 0,
             "ticks": ""
            },
            "colorscale": [
             [
              0,
              "#0d0887"
             ],
             [
              0.1111111111111111,
              "#46039f"
             ],
             [
              0.2222222222222222,
              "#7201a8"
             ],
             [
              0.3333333333333333,
              "#9c179e"
             ],
             [
              0.4444444444444444,
              "#bd3786"
             ],
             [
              0.5555555555555556,
              "#d8576b"
             ],
             [
              0.6666666666666666,
              "#ed7953"
             ],
             [
              0.7777777777777778,
              "#fb9f3a"
             ],
             [
              0.8888888888888888,
              "#fdca26"
             ],
             [
              1,
              "#f0f921"
             ]
            ],
            "type": "surface"
           }
          ],
          "table": [
           {
            "cells": {
             "fill": {
              "color": "#EBF0F8"
             },
             "line": {
              "color": "white"
             }
            },
            "header": {
             "fill": {
              "color": "#C8D4E3"
             },
             "line": {
              "color": "white"
             }
            },
            "type": "table"
           }
          ]
         },
         "layout": {
          "annotationdefaults": {
           "arrowcolor": "#2a3f5f",
           "arrowhead": 0,
           "arrowwidth": 1
          },
          "autotypenumbers": "strict",
          "coloraxis": {
           "colorbar": {
            "outlinewidth": 0,
            "ticks": ""
           }
          },
          "colorscale": {
           "diverging": [
            [
             0,
             "#8e0152"
            ],
            [
             0.1,
             "#c51b7d"
            ],
            [
             0.2,
             "#de77ae"
            ],
            [
             0.3,
             "#f1b6da"
            ],
            [
             0.4,
             "#fde0ef"
            ],
            [
             0.5,
             "#f7f7f7"
            ],
            [
             0.6,
             "#e6f5d0"
            ],
            [
             0.7,
             "#b8e186"
            ],
            [
             0.8,
             "#7fbc41"
            ],
            [
             0.9,
             "#4d9221"
            ],
            [
             1,
             "#276419"
            ]
           ],
           "sequential": [
            [
             0,
             "#0d0887"
            ],
            [
             0.1111111111111111,
             "#46039f"
            ],
            [
             0.2222222222222222,
             "#7201a8"
            ],
            [
             0.3333333333333333,
             "#9c179e"
            ],
            [
             0.4444444444444444,
             "#bd3786"
            ],
            [
             0.5555555555555556,
             "#d8576b"
            ],
            [
             0.6666666666666666,
             "#ed7953"
            ],
            [
             0.7777777777777778,
             "#fb9f3a"
            ],
            [
             0.8888888888888888,
             "#fdca26"
            ],
            [
             1,
             "#f0f921"
            ]
           ],
           "sequentialminus": [
            [
             0,
             "#0d0887"
            ],
            [
             0.1111111111111111,
             "#46039f"
            ],
            [
             0.2222222222222222,
             "#7201a8"
            ],
            [
             0.3333333333333333,
             "#9c179e"
            ],
            [
             0.4444444444444444,
             "#bd3786"
            ],
            [
             0.5555555555555556,
             "#d8576b"
            ],
            [
             0.6666666666666666,
             "#ed7953"
            ],
            [
             0.7777777777777778,
             "#fb9f3a"
            ],
            [
             0.8888888888888888,
             "#fdca26"
            ],
            [
             1,
             "#f0f921"
            ]
           ]
          },
          "colorway": [
           "#636efa",
           "#EF553B",
           "#00cc96",
           "#ab63fa",
           "#FFA15A",
           "#19d3f3",
           "#FF6692",
           "#B6E880",
           "#FF97FF",
           "#FECB52"
          ],
          "font": {
           "color": "#2a3f5f"
          },
          "geo": {
           "bgcolor": "white",
           "lakecolor": "white",
           "landcolor": "#E5ECF6",
           "showlakes": true,
           "showland": true,
           "subunitcolor": "white"
          },
          "hoverlabel": {
           "align": "left"
          },
          "hovermode": "closest",
          "mapbox": {
           "style": "light"
          },
          "paper_bgcolor": "white",
          "plot_bgcolor": "#E5ECF6",
          "polar": {
           "angularaxis": {
            "gridcolor": "white",
            "linecolor": "white",
            "ticks": ""
           },
           "bgcolor": "#E5ECF6",
           "radialaxis": {
            "gridcolor": "white",
            "linecolor": "white",
            "ticks": ""
           }
          },
          "scene": {
           "xaxis": {
            "backgroundcolor": "#E5ECF6",
            "gridcolor": "white",
            "gridwidth": 2,
            "linecolor": "white",
            "showbackground": true,
            "ticks": "",
            "zerolinecolor": "white"
           },
           "yaxis": {
            "backgroundcolor": "#E5ECF6",
            "gridcolor": "white",
            "gridwidth": 2,
            "linecolor": "white",
            "showbackground": true,
            "ticks": "",
            "zerolinecolor": "white"
           },
           "zaxis": {
            "backgroundcolor": "#E5ECF6",
            "gridcolor": "white",
            "gridwidth": 2,
            "linecolor": "white",
            "showbackground": true,
            "ticks": "",
            "zerolinecolor": "white"
           }
          },
          "shapedefaults": {
           "line": {
            "color": "#2a3f5f"
           }
          },
          "ternary": {
           "aaxis": {
            "gridcolor": "white",
            "linecolor": "white",
            "ticks": ""
           },
           "baxis": {
            "gridcolor": "white",
            "linecolor": "white",
            "ticks": ""
           },
           "bgcolor": "#E5ECF6",
           "caxis": {
            "gridcolor": "white",
            "linecolor": "white",
            "ticks": ""
           }
          },
          "title": {
           "x": 0.05
          },
          "xaxis": {
           "automargin": true,
           "gridcolor": "white",
           "linecolor": "white",
           "ticks": "",
           "title": {
            "standoff": 15
           },
           "zerolinecolor": "white",
           "zerolinewidth": 2
          },
          "yaxis": {
           "automargin": true,
           "gridcolor": "white",
           "linecolor": "white",
           "ticks": "",
           "title": {
            "standoff": 15
           },
           "zerolinecolor": "white",
           "zerolinewidth": 2
          }
         }
        },
        "title": {
         "text": "Contagem de marcas de Notebooks por loja"
        },
        "xaxis": {
         "anchor": "y",
         "domain": [
          0,
          1
         ],
         "title": {
          "text": "Loja"
         }
        },
        "yaxis": {
         "anchor": "x",
         "domain": [
          0,
          1
         ],
         "title": {
          "text": "Quantidade"
         }
        }
       }
      }
     },
     "metadata": {},
     "output_type": "display_data"
    }
   ],
   "source": [
    "fig = px.bar(groupby_loja_marca_ntb, x='Loja',y='Quantidade',  color=\"Marca\", title=\"Contagem de marcas de Notebooks por loja\", text=\"Quantidade\")\n",
    "fig.show()"
   ]
  },
  {
   "cell_type": "markdown",
   "metadata": {},
   "source": [
    "**Com este gráfico, podemos observar que a marca mais presente nas Americanas são da marca Dell, que tem uma grande presença também nas demais lojas**"
   ]
  },
  {
   "cell_type": "code",
   "execution_count": 88,
   "metadata": {},
   "outputs": [
    {
     "data": {
      "text/html": [
       "<div>\n",
       "<style scoped>\n",
       "    .dataframe tbody tr th:only-of-type {\n",
       "        vertical-align: middle;\n",
       "    }\n",
       "\n",
       "    .dataframe tbody tr th {\n",
       "        vertical-align: top;\n",
       "    }\n",
       "\n",
       "    .dataframe thead th {\n",
       "        text-align: right;\n",
       "    }\n",
       "</style>\n",
       "<table border=\"1\" class=\"dataframe\">\n",
       "  <thead>\n",
       "    <tr style=\"text-align: right;\">\n",
       "      <th></th>\n",
       "      <th>Loja</th>\n",
       "      <th>Marca</th>\n",
       "      <th>Preço médio</th>\n",
       "    </tr>\n",
       "  </thead>\n",
       "  <tbody>\n",
       "    <tr>\n",
       "      <th>6</th>\n",
       "      <td>Amazon</td>\n",
       "      <td>Positivo</td>\n",
       "      <td>2029.842727</td>\n",
       "    </tr>\n",
       "    <tr>\n",
       "      <th>14</th>\n",
       "      <td>Casas Bahia</td>\n",
       "      <td>Apple</td>\n",
       "      <td>3413.950000</td>\n",
       "    </tr>\n",
       "    <tr>\n",
       "      <th>9</th>\n",
       "      <td>Americanas</td>\n",
       "      <td>Dell</td>\n",
       "      <td>4680.398696</td>\n",
       "    </tr>\n",
       "    <tr>\n",
       "      <th>11</th>\n",
       "      <td>Americanas</td>\n",
       "      <td>Positivo</td>\n",
       "      <td>2070.181613</td>\n",
       "    </tr>\n",
       "    <tr>\n",
       "      <th>27</th>\n",
       "      <td>Magazine Luiza</td>\n",
       "      <td>Samsung</td>\n",
       "      <td>3789.173095</td>\n",
       "    </tr>\n",
       "  </tbody>\n",
       "</table>\n",
       "</div>"
      ],
      "text/plain": [
       "              Loja     Marca  Preço médio\n",
       "6           Amazon  Positivo  2029.842727\n",
       "14     Casas Bahia     Apple  3413.950000\n",
       "9       Americanas      Dell  4680.398696\n",
       "11      Americanas  Positivo  2070.181613\n",
       "27  Magazine Luiza   Samsung  3789.173095"
      ]
     },
     "execution_count": 88,
     "metadata": {},
     "output_type": "execute_result"
    }
   ],
   "source": [
    "groupby_loja_marca_ntb_preco = dados_gerais_notebooks[['Loja','Marca','Preço']].groupby(['Loja','Marca']).mean()\n",
    "groupby_loja_marca_ntb_preco.reset_index(inplace=True)\n",
    "groupby_loja_marca_ntb_preco.rename(columns={'Preço':'Preço médio'}, inplace=True)\n",
    "groupby_loja_marca_ntb_preco.sample(5)"
   ]
  },
  {
   "cell_type": "markdown",
   "metadata": {},
   "source": [
    "## Preço médio de notebooks por marcas em cada loja"
   ]
  },
  {
   "cell_type": "code",
   "execution_count": 89,
   "metadata": {},
   "outputs": [
    {
     "data": {
      "application/vnd.plotly.v1+json": {
       "config": {
        "plotlyServerURL": "https://plot.ly"
       },
       "data": [
        {
         "alignmentgroup": "True",
         "hovertemplate": "Marca=Acer<br>Loja=%{x}<br>Preço médio=%{text}<extra></extra>",
         "legendgroup": "Acer",
         "marker": {
          "color": "#636efa",
          "pattern": {
           "shape": ""
          }
         },
         "name": "Acer",
         "offsetgroup": "Acer",
         "orientation": "v",
         "showlegend": true,
         "text": [
          4801.803571428572,
          4460.976888888888,
          4656.693650793651,
          4207.3
         ],
         "textposition": "outside",
         "texttemplate": "%{text:.2s}",
         "type": "bar",
         "x": [
          "Amazon",
          "Americanas",
          "Casas Bahia",
          "Magazine Luiza"
         ],
         "xaxis": "x",
         "y": [
          4801.803571428572,
          4460.976888888888,
          4656.693650793651,
          4207.3
         ],
         "yaxis": "y"
        },
        {
         "alignmentgroup": "True",
         "hovertemplate": "Marca=Apple<br>Loja=%{x}<br>Preço médio=%{text}<extra></extra>",
         "legendgroup": "Apple",
         "marker": {
          "color": "#EF553B",
          "pattern": {
           "shape": ""
          }
         },
         "name": "Apple",
         "offsetgroup": "Apple",
         "orientation": "v",
         "showlegend": true,
         "text": [
          7650.5375,
          3413.95,
          12255.165384615386
         ],
         "textposition": "outside",
         "texttemplate": "%{text:.2s}",
         "type": "bar",
         "x": [
          "Amazon",
          "Casas Bahia",
          "Magazine Luiza"
         ],
         "xaxis": "x",
         "y": [
          7650.5375,
          3413.95,
          12255.165384615386
         ],
         "yaxis": "y"
        },
        {
         "alignmentgroup": "True",
         "hovertemplate": "Marca=Asus<br>Loja=%{x}<br>Preço médio=%{text}<extra></extra>",
         "legendgroup": "Asus",
         "marker": {
          "color": "#00cc96",
          "pattern": {
           "shape": ""
          }
         },
         "name": "Asus",
         "offsetgroup": "Asus",
         "orientation": "v",
         "showlegend": true,
         "text": [
          4338.913333333333,
          4557.390909090909,
          3370.9647058823525
         ],
         "textposition": "outside",
         "texttemplate": "%{text:.2s}",
         "type": "bar",
         "x": [
          "Amazon",
          "Casas Bahia",
          "Magazine Luiza"
         ],
         "xaxis": "x",
         "y": [
          4338.913333333333,
          4557.390909090909,
          3370.9647058823525
         ],
         "yaxis": "y"
        },
        {
         "alignmentgroup": "True",
         "hovertemplate": "Marca=Dell<br>Loja=%{x}<br>Preço médio=%{text}<extra></extra>",
         "legendgroup": "Dell",
         "marker": {
          "color": "#ab63fa",
          "pattern": {
           "shape": ""
          }
         },
         "name": "Dell",
         "offsetgroup": "Dell",
         "orientation": "v",
         "showlegend": true,
         "text": [
          5429.318604651163,
          4680.398695652173,
          4967.250408163266,
          4797.229491525426
         ],
         "textposition": "outside",
         "texttemplate": "%{text:.2s}",
         "type": "bar",
         "x": [
          "Amazon",
          "Americanas",
          "Casas Bahia",
          "Magazine Luiza"
         ],
         "xaxis": "x",
         "y": [
          5429.318604651163,
          4680.398695652173,
          4967.250408163266,
          4797.229491525426
         ],
         "yaxis": "y"
        },
        {
         "alignmentgroup": "True",
         "hovertemplate": "Marca=Lenovo<br>Loja=%{x}<br>Preço médio=%{text}<extra></extra>",
         "legendgroup": "Lenovo",
         "marker": {
          "color": "#FFA15A",
          "pattern": {
           "shape": ""
          }
         },
         "name": "Lenovo",
         "offsetgroup": "Lenovo",
         "orientation": "v",
         "showlegend": true,
         "text": [
          4360.901818181818,
          3889.457727272727,
          4980.6950877192985,
          3742.555000000001
         ],
         "textposition": "outside",
         "texttemplate": "%{text:.2s}",
         "type": "bar",
         "x": [
          "Amazon",
          "Americanas",
          "Casas Bahia",
          "Magazine Luiza"
         ],
         "xaxis": "x",
         "y": [
          4360.901818181818,
          3889.457727272727,
          4980.6950877192985,
          3742.555000000001
         ],
         "yaxis": "y"
        },
        {
         "alignmentgroup": "True",
         "hovertemplate": "Marca=Lg<br>Loja=%{x}<br>Preço médio=%{text}<extra></extra>",
         "legendgroup": "Lg",
         "marker": {
          "color": "#19d3f3",
          "pattern": {
           "shape": ""
          }
         },
         "name": "Lg",
         "offsetgroup": "Lg",
         "orientation": "v",
         "showlegend": true,
         "text": [
          8170.639999999999,
          5291.1
         ],
         "textposition": "outside",
         "texttemplate": "%{text:.2s}",
         "type": "bar",
         "x": [
          "Amazon",
          "Magazine Luiza"
         ],
         "xaxis": "x",
         "y": [
          8170.639999999999,
          5291.1
         ],
         "yaxis": "y"
        },
        {
         "alignmentgroup": "True",
         "hovertemplate": "Marca=Positivo<br>Loja=%{x}<br>Preço médio=%{text}<extra></extra>",
         "legendgroup": "Positivo",
         "marker": {
          "color": "#FF6692",
          "pattern": {
           "shape": ""
          }
         },
         "name": "Positivo",
         "offsetgroup": "Positivo",
         "orientation": "v",
         "showlegend": true,
         "text": [
          2029.8427272727274,
          2070.181612903226,
          3144.495,
          1791.202142857143
         ],
         "textposition": "outside",
         "texttemplate": "%{text:.2s}",
         "type": "bar",
         "x": [
          "Amazon",
          "Americanas",
          "Casas Bahia",
          "Magazine Luiza"
         ],
         "xaxis": "x",
         "y": [
          2029.8427272727274,
          2070.181612903226,
          3144.495,
          1791.202142857143
         ],
         "yaxis": "y"
        },
        {
         "alignmentgroup": "True",
         "hovertemplate": "Marca=Samsung<br>Loja=%{x}<br>Preço médio=%{text}<extra></extra>",
         "legendgroup": "Samsung",
         "marker": {
          "color": "#B6E880",
          "pattern": {
           "shape": ""
          }
         },
         "name": "Samsung",
         "offsetgroup": "Samsung",
         "orientation": "v",
         "showlegend": true,
         "text": [
          3653.464166666667,
          3736.2682142857147,
          3149.9052380952385,
          3789.173095238095
         ],
         "textposition": "outside",
         "texttemplate": "%{text:.2s}",
         "type": "bar",
         "x": [
          "Amazon",
          "Americanas",
          "Casas Bahia",
          "Magazine Luiza"
         ],
         "xaxis": "x",
         "y": [
          3653.464166666667,
          3736.2682142857147,
          3149.9052380952385,
          3789.173095238095
         ],
         "yaxis": "y"
        }
       ],
       "layout": {
        "barmode": "group",
        "legend": {
         "title": {
          "text": "Marca"
         },
         "tracegroupgap": 0
        },
        "template": {
         "data": {
          "bar": [
           {
            "error_x": {
             "color": "#2a3f5f"
            },
            "error_y": {
             "color": "#2a3f5f"
            },
            "marker": {
             "line": {
              "color": "#E5ECF6",
              "width": 0.5
             },
             "pattern": {
              "fillmode": "overlay",
              "size": 10,
              "solidity": 0.2
             }
            },
            "type": "bar"
           }
          ],
          "barpolar": [
           {
            "marker": {
             "line": {
              "color": "#E5ECF6",
              "width": 0.5
             },
             "pattern": {
              "fillmode": "overlay",
              "size": 10,
              "solidity": 0.2
             }
            },
            "type": "barpolar"
           }
          ],
          "carpet": [
           {
            "aaxis": {
             "endlinecolor": "#2a3f5f",
             "gridcolor": "white",
             "linecolor": "white",
             "minorgridcolor": "white",
             "startlinecolor": "#2a3f5f"
            },
            "baxis": {
             "endlinecolor": "#2a3f5f",
             "gridcolor": "white",
             "linecolor": "white",
             "minorgridcolor": "white",
             "startlinecolor": "#2a3f5f"
            },
            "type": "carpet"
           }
          ],
          "choropleth": [
           {
            "colorbar": {
             "outlinewidth": 0,
             "ticks": ""
            },
            "type": "choropleth"
           }
          ],
          "contour": [
           {
            "colorbar": {
             "outlinewidth": 0,
             "ticks": ""
            },
            "colorscale": [
             [
              0,
              "#0d0887"
             ],
             [
              0.1111111111111111,
              "#46039f"
             ],
             [
              0.2222222222222222,
              "#7201a8"
             ],
             [
              0.3333333333333333,
              "#9c179e"
             ],
             [
              0.4444444444444444,
              "#bd3786"
             ],
             [
              0.5555555555555556,
              "#d8576b"
             ],
             [
              0.6666666666666666,
              "#ed7953"
             ],
             [
              0.7777777777777778,
              "#fb9f3a"
             ],
             [
              0.8888888888888888,
              "#fdca26"
             ],
             [
              1,
              "#f0f921"
             ]
            ],
            "type": "contour"
           }
          ],
          "contourcarpet": [
           {
            "colorbar": {
             "outlinewidth": 0,
             "ticks": ""
            },
            "type": "contourcarpet"
           }
          ],
          "heatmap": [
           {
            "colorbar": {
             "outlinewidth": 0,
             "ticks": ""
            },
            "colorscale": [
             [
              0,
              "#0d0887"
             ],
             [
              0.1111111111111111,
              "#46039f"
             ],
             [
              0.2222222222222222,
              "#7201a8"
             ],
             [
              0.3333333333333333,
              "#9c179e"
             ],
             [
              0.4444444444444444,
              "#bd3786"
             ],
             [
              0.5555555555555556,
              "#d8576b"
             ],
             [
              0.6666666666666666,
              "#ed7953"
             ],
             [
              0.7777777777777778,
              "#fb9f3a"
             ],
             [
              0.8888888888888888,
              "#fdca26"
             ],
             [
              1,
              "#f0f921"
             ]
            ],
            "type": "heatmap"
           }
          ],
          "heatmapgl": [
           {
            "colorbar": {
             "outlinewidth": 0,
             "ticks": ""
            },
            "colorscale": [
             [
              0,
              "#0d0887"
             ],
             [
              0.1111111111111111,
              "#46039f"
             ],
             [
              0.2222222222222222,
              "#7201a8"
             ],
             [
              0.3333333333333333,
              "#9c179e"
             ],
             [
              0.4444444444444444,
              "#bd3786"
             ],
             [
              0.5555555555555556,
              "#d8576b"
             ],
             [
              0.6666666666666666,
              "#ed7953"
             ],
             [
              0.7777777777777778,
              "#fb9f3a"
             ],
             [
              0.8888888888888888,
              "#fdca26"
             ],
             [
              1,
              "#f0f921"
             ]
            ],
            "type": "heatmapgl"
           }
          ],
          "histogram": [
           {
            "marker": {
             "pattern": {
              "fillmode": "overlay",
              "size": 10,
              "solidity": 0.2
             }
            },
            "type": "histogram"
           }
          ],
          "histogram2d": [
           {
            "colorbar": {
             "outlinewidth": 0,
             "ticks": ""
            },
            "colorscale": [
             [
              0,
              "#0d0887"
             ],
             [
              0.1111111111111111,
              "#46039f"
             ],
             [
              0.2222222222222222,
              "#7201a8"
             ],
             [
              0.3333333333333333,
              "#9c179e"
             ],
             [
              0.4444444444444444,
              "#bd3786"
             ],
             [
              0.5555555555555556,
              "#d8576b"
             ],
             [
              0.6666666666666666,
              "#ed7953"
             ],
             [
              0.7777777777777778,
              "#fb9f3a"
             ],
             [
              0.8888888888888888,
              "#fdca26"
             ],
             [
              1,
              "#f0f921"
             ]
            ],
            "type": "histogram2d"
           }
          ],
          "histogram2dcontour": [
           {
            "colorbar": {
             "outlinewidth": 0,
             "ticks": ""
            },
            "colorscale": [
             [
              0,
              "#0d0887"
             ],
             [
              0.1111111111111111,
              "#46039f"
             ],
             [
              0.2222222222222222,
              "#7201a8"
             ],
             [
              0.3333333333333333,
              "#9c179e"
             ],
             [
              0.4444444444444444,
              "#bd3786"
             ],
             [
              0.5555555555555556,
              "#d8576b"
             ],
             [
              0.6666666666666666,
              "#ed7953"
             ],
             [
              0.7777777777777778,
              "#fb9f3a"
             ],
             [
              0.8888888888888888,
              "#fdca26"
             ],
             [
              1,
              "#f0f921"
             ]
            ],
            "type": "histogram2dcontour"
           }
          ],
          "mesh3d": [
           {
            "colorbar": {
             "outlinewidth": 0,
             "ticks": ""
            },
            "type": "mesh3d"
           }
          ],
          "parcoords": [
           {
            "line": {
             "colorbar": {
              "outlinewidth": 0,
              "ticks": ""
             }
            },
            "type": "parcoords"
           }
          ],
          "pie": [
           {
            "automargin": true,
            "type": "pie"
           }
          ],
          "scatter": [
           {
            "marker": {
             "colorbar": {
              "outlinewidth": 0,
              "ticks": ""
             }
            },
            "type": "scatter"
           }
          ],
          "scatter3d": [
           {
            "line": {
             "colorbar": {
              "outlinewidth": 0,
              "ticks": ""
             }
            },
            "marker": {
             "colorbar": {
              "outlinewidth": 0,
              "ticks": ""
             }
            },
            "type": "scatter3d"
           }
          ],
          "scattercarpet": [
           {
            "marker": {
             "colorbar": {
              "outlinewidth": 0,
              "ticks": ""
             }
            },
            "type": "scattercarpet"
           }
          ],
          "scattergeo": [
           {
            "marker": {
             "colorbar": {
              "outlinewidth": 0,
              "ticks": ""
             }
            },
            "type": "scattergeo"
           }
          ],
          "scattergl": [
           {
            "marker": {
             "colorbar": {
              "outlinewidth": 0,
              "ticks": ""
             }
            },
            "type": "scattergl"
           }
          ],
          "scattermapbox": [
           {
            "marker": {
             "colorbar": {
              "outlinewidth": 0,
              "ticks": ""
             }
            },
            "type": "scattermapbox"
           }
          ],
          "scatterpolar": [
           {
            "marker": {
             "colorbar": {
              "outlinewidth": 0,
              "ticks": ""
             }
            },
            "type": "scatterpolar"
           }
          ],
          "scatterpolargl": [
           {
            "marker": {
             "colorbar": {
              "outlinewidth": 0,
              "ticks": ""
             }
            },
            "type": "scatterpolargl"
           }
          ],
          "scatterternary": [
           {
            "marker": {
             "colorbar": {
              "outlinewidth": 0,
              "ticks": ""
             }
            },
            "type": "scatterternary"
           }
          ],
          "surface": [
           {
            "colorbar": {
             "outlinewidth": 0,
             "ticks": ""
            },
            "colorscale": [
             [
              0,
              "#0d0887"
             ],
             [
              0.1111111111111111,
              "#46039f"
             ],
             [
              0.2222222222222222,
              "#7201a8"
             ],
             [
              0.3333333333333333,
              "#9c179e"
             ],
             [
              0.4444444444444444,
              "#bd3786"
             ],
             [
              0.5555555555555556,
              "#d8576b"
             ],
             [
              0.6666666666666666,
              "#ed7953"
             ],
             [
              0.7777777777777778,
              "#fb9f3a"
             ],
             [
              0.8888888888888888,
              "#fdca26"
             ],
             [
              1,
              "#f0f921"
             ]
            ],
            "type": "surface"
           }
          ],
          "table": [
           {
            "cells": {
             "fill": {
              "color": "#EBF0F8"
             },
             "line": {
              "color": "white"
             }
            },
            "header": {
             "fill": {
              "color": "#C8D4E3"
             },
             "line": {
              "color": "white"
             }
            },
            "type": "table"
           }
          ]
         },
         "layout": {
          "annotationdefaults": {
           "arrowcolor": "#2a3f5f",
           "arrowhead": 0,
           "arrowwidth": 1
          },
          "autotypenumbers": "strict",
          "coloraxis": {
           "colorbar": {
            "outlinewidth": 0,
            "ticks": ""
           }
          },
          "colorscale": {
           "diverging": [
            [
             0,
             "#8e0152"
            ],
            [
             0.1,
             "#c51b7d"
            ],
            [
             0.2,
             "#de77ae"
            ],
            [
             0.3,
             "#f1b6da"
            ],
            [
             0.4,
             "#fde0ef"
            ],
            [
             0.5,
             "#f7f7f7"
            ],
            [
             0.6,
             "#e6f5d0"
            ],
            [
             0.7,
             "#b8e186"
            ],
            [
             0.8,
             "#7fbc41"
            ],
            [
             0.9,
             "#4d9221"
            ],
            [
             1,
             "#276419"
            ]
           ],
           "sequential": [
            [
             0,
             "#0d0887"
            ],
            [
             0.1111111111111111,
             "#46039f"
            ],
            [
             0.2222222222222222,
             "#7201a8"
            ],
            [
             0.3333333333333333,
             "#9c179e"
            ],
            [
             0.4444444444444444,
             "#bd3786"
            ],
            [
             0.5555555555555556,
             "#d8576b"
            ],
            [
             0.6666666666666666,
             "#ed7953"
            ],
            [
             0.7777777777777778,
             "#fb9f3a"
            ],
            [
             0.8888888888888888,
             "#fdca26"
            ],
            [
             1,
             "#f0f921"
            ]
           ],
           "sequentialminus": [
            [
             0,
             "#0d0887"
            ],
            [
             0.1111111111111111,
             "#46039f"
            ],
            [
             0.2222222222222222,
             "#7201a8"
            ],
            [
             0.3333333333333333,
             "#9c179e"
            ],
            [
             0.4444444444444444,
             "#bd3786"
            ],
            [
             0.5555555555555556,
             "#d8576b"
            ],
            [
             0.6666666666666666,
             "#ed7953"
            ],
            [
             0.7777777777777778,
             "#fb9f3a"
            ],
            [
             0.8888888888888888,
             "#fdca26"
            ],
            [
             1,
             "#f0f921"
            ]
           ]
          },
          "colorway": [
           "#636efa",
           "#EF553B",
           "#00cc96",
           "#ab63fa",
           "#FFA15A",
           "#19d3f3",
           "#FF6692",
           "#B6E880",
           "#FF97FF",
           "#FECB52"
          ],
          "font": {
           "color": "#2a3f5f"
          },
          "geo": {
           "bgcolor": "white",
           "lakecolor": "white",
           "landcolor": "#E5ECF6",
           "showlakes": true,
           "showland": true,
           "subunitcolor": "white"
          },
          "hoverlabel": {
           "align": "left"
          },
          "hovermode": "closest",
          "mapbox": {
           "style": "light"
          },
          "paper_bgcolor": "white",
          "plot_bgcolor": "#E5ECF6",
          "polar": {
           "angularaxis": {
            "gridcolor": "white",
            "linecolor": "white",
            "ticks": ""
           },
           "bgcolor": "#E5ECF6",
           "radialaxis": {
            "gridcolor": "white",
            "linecolor": "white",
            "ticks": ""
           }
          },
          "scene": {
           "xaxis": {
            "backgroundcolor": "#E5ECF6",
            "gridcolor": "white",
            "gridwidth": 2,
            "linecolor": "white",
            "showbackground": true,
            "ticks": "",
            "zerolinecolor": "white"
           },
           "yaxis": {
            "backgroundcolor": "#E5ECF6",
            "gridcolor": "white",
            "gridwidth": 2,
            "linecolor": "white",
            "showbackground": true,
            "ticks": "",
            "zerolinecolor": "white"
           },
           "zaxis": {
            "backgroundcolor": "#E5ECF6",
            "gridcolor": "white",
            "gridwidth": 2,
            "linecolor": "white",
            "showbackground": true,
            "ticks": "",
            "zerolinecolor": "white"
           }
          },
          "shapedefaults": {
           "line": {
            "color": "#2a3f5f"
           }
          },
          "ternary": {
           "aaxis": {
            "gridcolor": "white",
            "linecolor": "white",
            "ticks": ""
           },
           "baxis": {
            "gridcolor": "white",
            "linecolor": "white",
            "ticks": ""
           },
           "bgcolor": "#E5ECF6",
           "caxis": {
            "gridcolor": "white",
            "linecolor": "white",
            "ticks": ""
           }
          },
          "title": {
           "x": 0.05
          },
          "xaxis": {
           "automargin": true,
           "gridcolor": "white",
           "linecolor": "white",
           "ticks": "",
           "title": {
            "standoff": 15
           },
           "zerolinecolor": "white",
           "zerolinewidth": 2
          },
          "yaxis": {
           "automargin": true,
           "gridcolor": "white",
           "linecolor": "white",
           "ticks": "",
           "title": {
            "standoff": 15
           },
           "zerolinecolor": "white",
           "zerolinewidth": 2
          }
         }
        },
        "title": {
         "text": "Preço médio de notebooks por marcas em cada loja"
        },
        "xaxis": {
         "anchor": "y",
         "domain": [
          0,
          1
         ],
         "title": {
          "text": "Loja"
         }
        },
        "yaxis": {
         "anchor": "x",
         "domain": [
          0,
          1
         ],
         "title": {
          "text": "Preço médio"
         }
        }
       }
      }
     },
     "metadata": {},
     "output_type": "display_data"
    }
   ],
   "source": [
    "fig = px.bar(groupby_loja_marca_ntb_preco, x='Loja' ,y='Preço médio',  color=\"Marca\", barmode=\"group\", title=\"Preço médio de notebooks por marcas em cada loja\",text=\"Preço médio\")\n",
    "fig.update_traces(texttemplate='%{text:.2s}', textposition='outside')\n",
    "fig.show()"
   ]
  },
  {
   "cell_type": "markdown",
   "metadata": {},
   "source": [
    "**Esse gráfico nos mostra que a americanas tem uma menor cobertura em questão de marcas, mas seus preços nas marcas que ela cobre são menores que nas lojas concorrentes**"
   ]
  },
  {
   "cell_type": "code",
   "execution_count": 90,
   "metadata": {},
   "outputs": [
    {
     "data": {
      "text/html": [
       "<div>\n",
       "<style scoped>\n",
       "    .dataframe tbody tr th:only-of-type {\n",
       "        vertical-align: middle;\n",
       "    }\n",
       "\n",
       "    .dataframe tbody tr th {\n",
       "        vertical-align: top;\n",
       "    }\n",
       "\n",
       "    .dataframe thead th {\n",
       "        text-align: right;\n",
       "    }\n",
       "</style>\n",
       "<table border=\"1\" class=\"dataframe\">\n",
       "  <thead>\n",
       "    <tr style=\"text-align: right;\">\n",
       "      <th></th>\n",
       "      <th>Preço</th>\n",
       "    </tr>\n",
       "    <tr>\n",
       "      <th>Loja</th>\n",
       "      <th></th>\n",
       "    </tr>\n",
       "  </thead>\n",
       "  <tbody>\n",
       "    <tr>\n",
       "      <th>Amazon</th>\n",
       "      <td>4423.200783</td>\n",
       "    </tr>\n",
       "    <tr>\n",
       "      <th>Americanas</th>\n",
       "      <td>3951.976571</td>\n",
       "    </tr>\n",
       "    <tr>\n",
       "      <th>Casas Bahia</th>\n",
       "      <td>4577.455580</td>\n",
       "    </tr>\n",
       "    <tr>\n",
       "      <th>Magazine Luiza</th>\n",
       "      <td>4481.435388</td>\n",
       "    </tr>\n",
       "  </tbody>\n",
       "</table>\n",
       "</div>"
      ],
      "text/plain": [
       "                      Preço\n",
       "Loja                       \n",
       "Amazon          4423.200783\n",
       "Americanas      3951.976571\n",
       "Casas Bahia     4577.455580\n",
       "Magazine Luiza  4481.435388"
      ]
     },
     "execution_count": 90,
     "metadata": {},
     "output_type": "execute_result"
    }
   ],
   "source": [
    "groupby_loja_ntb_preco = dados_gerais_notebooks[['Loja','Preço']].groupby(['Loja']).mean()\n",
    "groupby_loja_ntb_preco"
   ]
  },
  {
   "cell_type": "markdown",
   "metadata": {},
   "source": [
    "## Preço médio de notebooks a partir de uma configuração de hardware"
   ]
  },
  {
   "cell_type": "code",
   "execution_count": 99,
   "metadata": {},
   "outputs": [
    {
     "name": "stderr",
     "output_type": "stream",
     "text": [
      "<ipython-input-99-7c653fdc1157>:2: SettingWithCopyWarning:\n",
      "\n",
      "\n",
      "A value is trying to be set on a copy of a slice from a DataFrame.\n",
      "Try using .loc[row_indexer,col_indexer] = value instead\n",
      "\n",
      "See the caveats in the documentation: https://pandas.pydata.org/pandas-docs/stable/user_guide/indexing.html#returning-a-view-versus-a-copy\n",
      "\n"
     ]
    }
   ],
   "source": [
    "notebook_i5 = dados_gerais[(dados_gerais['Descrição'].str.lower().str.contains('i5')) & (dados_gerais['Categoria'] == 'Notebook') ]\n",
    "notebook_i5['Processador'] = 'i5'"
   ]
  },
  {
   "cell_type": "code",
   "execution_count": 100,
   "metadata": {},
   "outputs": [
    {
     "name": "stderr",
     "output_type": "stream",
     "text": [
      "<ipython-input-100-d29b86019e61>:2: SettingWithCopyWarning:\n",
      "\n",
      "\n",
      "A value is trying to be set on a copy of a slice from a DataFrame.\n",
      "Try using .loc[row_indexer,col_indexer] = value instead\n",
      "\n",
      "See the caveats in the documentation: https://pandas.pydata.org/pandas-docs/stable/user_guide/indexing.html#returning-a-view-versus-a-copy\n",
      "\n"
     ]
    },
    {
     "data": {
      "text/html": [
       "<div>\n",
       "<style scoped>\n",
       "    .dataframe tbody tr th:only-of-type {\n",
       "        vertical-align: middle;\n",
       "    }\n",
       "\n",
       "    .dataframe tbody tr th {\n",
       "        vertical-align: top;\n",
       "    }\n",
       "\n",
       "    .dataframe thead th {\n",
       "        text-align: right;\n",
       "    }\n",
       "</style>\n",
       "<table border=\"1\" class=\"dataframe\">\n",
       "  <thead>\n",
       "    <tr style=\"text-align: right;\">\n",
       "      <th></th>\n",
       "      <th>Descrição</th>\n",
       "      <th>Preço</th>\n",
       "      <th>TotalReviews</th>\n",
       "      <th>Loja</th>\n",
       "      <th>Categoria</th>\n",
       "      <th>Processador</th>\n",
       "    </tr>\n",
       "  </thead>\n",
       "  <tbody>\n",
       "    <tr>\n",
       "      <th>3</th>\n",
       "      <td>Samsung BookIntel® Core™ i3-1115G4, 11 Geração...</td>\n",
       "      <td>2789.09</td>\n",
       "      <td>46.0</td>\n",
       "      <td>Amazon</td>\n",
       "      <td>Notebook</td>\n",
       "      <td>i3</td>\n",
       "    </tr>\n",
       "    <tr>\n",
       "      <th>6</th>\n",
       "      <td>Notebook Gateway Ultra Slim Laptop, 14,1 poleg...</td>\n",
       "      <td>6254.41</td>\n",
       "      <td>0.0</td>\n",
       "      <td>Amazon</td>\n",
       "      <td>Notebook</td>\n",
       "      <td>i3</td>\n",
       "    </tr>\n",
       "    <tr>\n",
       "      <th>10</th>\n",
       "      <td>Notebook Lenovo Ultrafino ideapad S145, Intel ...</td>\n",
       "      <td>3274.53</td>\n",
       "      <td>514.0</td>\n",
       "      <td>Amazon</td>\n",
       "      <td>Notebook</td>\n",
       "      <td>i3</td>\n",
       "    </tr>\n",
       "    <tr>\n",
       "      <th>20</th>\n",
       "      <td>Notebook Gateway Ultra Slim Laptop, 14,1\" IPS ...</td>\n",
       "      <td>6336.30</td>\n",
       "      <td>0.0</td>\n",
       "      <td>Amazon</td>\n",
       "      <td>Notebook</td>\n",
       "      <td>i3</td>\n",
       "    </tr>\n",
       "    <tr>\n",
       "      <th>21</th>\n",
       "      <td>Samsung BookIntel® Core™ i3-1115G4, 11 Geração...</td>\n",
       "      <td>2800.03</td>\n",
       "      <td>37.0</td>\n",
       "      <td>Amazon</td>\n",
       "      <td>Notebook</td>\n",
       "      <td>i3</td>\n",
       "    </tr>\n",
       "    <tr>\n",
       "      <th>...</th>\n",
       "      <td>...</td>\n",
       "      <td>...</td>\n",
       "      <td>...</td>\n",
       "      <td>...</td>\n",
       "      <td>...</td>\n",
       "      <td>...</td>\n",
       "    </tr>\n",
       "    <tr>\n",
       "      <th>3155</th>\n",
       "      <td>Notebook Lenovo IdeaPad3i 82BS0006BR Intel Cor...</td>\n",
       "      <td>3419.10</td>\n",
       "      <td>0.0</td>\n",
       "      <td>Magazine Luiza</td>\n",
       "      <td>Notebook</td>\n",
       "      <td>i3</td>\n",
       "    </tr>\n",
       "    <tr>\n",
       "      <th>3179</th>\n",
       "      <td>Notebook Lenovo Ultrafino IdeaPad 3i i3-10110U...</td>\n",
       "      <td>2852.10</td>\n",
       "      <td>0.0</td>\n",
       "      <td>Magazine Luiza</td>\n",
       "      <td>Notebook</td>\n",
       "      <td>i3</td>\n",
       "    </tr>\n",
       "    <tr>\n",
       "      <th>3180</th>\n",
       "      <td>Notebook Brazil Pc 15,6\" Full Hd Intel Core I3...</td>\n",
       "      <td>3346.31</td>\n",
       "      <td>0.0</td>\n",
       "      <td>Magazine Luiza</td>\n",
       "      <td>Notebook</td>\n",
       "      <td>i3</td>\n",
       "    </tr>\n",
       "    <tr>\n",
       "      <th>3194</th>\n",
       "      <td>Notebook Samsung Book Intel Core i3, Windows 1...</td>\n",
       "      <td>3999.00</td>\n",
       "      <td>0.0</td>\n",
       "      <td>Magazine Luiza</td>\n",
       "      <td>Notebook</td>\n",
       "      <td>i3</td>\n",
       "    </tr>\n",
       "    <tr>\n",
       "      <th>3196</th>\n",
       "      <td>Notebook VAIO FE14 VJFE42F11X-B1521H Intel Cor...</td>\n",
       "      <td>2849.05</td>\n",
       "      <td>0.0</td>\n",
       "      <td>Magazine Luiza</td>\n",
       "      <td>Notebook</td>\n",
       "      <td>i3</td>\n",
       "    </tr>\n",
       "  </tbody>\n",
       "</table>\n",
       "<p>224 rows × 6 columns</p>\n",
       "</div>"
      ],
      "text/plain": [
       "                                              Descrição    Preço  \\\n",
       "3     Samsung BookIntel® Core™ i3-1115G4, 11 Geração...  2789.09   \n",
       "6     Notebook Gateway Ultra Slim Laptop, 14,1 poleg...  6254.41   \n",
       "10    Notebook Lenovo Ultrafino ideapad S145, Intel ...  3274.53   \n",
       "20    Notebook Gateway Ultra Slim Laptop, 14,1\" IPS ...  6336.30   \n",
       "21    Samsung BookIntel® Core™ i3-1115G4, 11 Geração...  2800.03   \n",
       "...                                                 ...      ...   \n",
       "3155  Notebook Lenovo IdeaPad3i 82BS0006BR Intel Cor...  3419.10   \n",
       "3179  Notebook Lenovo Ultrafino IdeaPad 3i i3-10110U...  2852.10   \n",
       "3180  Notebook Brazil Pc 15,6\" Full Hd Intel Core I3...  3346.31   \n",
       "3194  Notebook Samsung Book Intel Core i3, Windows 1...  3999.00   \n",
       "3196  Notebook VAIO FE14 VJFE42F11X-B1521H Intel Cor...  2849.05   \n",
       "\n",
       "      TotalReviews            Loja Categoria Processador  \n",
       "3             46.0          Amazon  Notebook          i3  \n",
       "6              0.0          Amazon  Notebook          i3  \n",
       "10           514.0          Amazon  Notebook          i3  \n",
       "20             0.0          Amazon  Notebook          i3  \n",
       "21            37.0          Amazon  Notebook          i3  \n",
       "...            ...             ...       ...         ...  \n",
       "3155           0.0  Magazine Luiza  Notebook          i3  \n",
       "3179           0.0  Magazine Luiza  Notebook          i3  \n",
       "3180           0.0  Magazine Luiza  Notebook          i3  \n",
       "3194           0.0  Magazine Luiza  Notebook          i3  \n",
       "3196           0.0  Magazine Luiza  Notebook          i3  \n",
       "\n",
       "[224 rows x 6 columns]"
      ]
     },
     "execution_count": 100,
     "metadata": {},
     "output_type": "execute_result"
    }
   ],
   "source": [
    "notebook_i3 = dados_gerais[dados_gerais['Descrição'].str.lower().str.contains('i3')]\n",
    "notebook_i3['Processador'] = 'i3'\n",
    "notebook_i3"
   ]
  },
  {
   "cell_type": "code",
   "execution_count": 101,
   "metadata": {},
   "outputs": [
    {
     "name": "stderr",
     "output_type": "stream",
     "text": [
      "<ipython-input-101-a2e0d75c0bce>:2: SettingWithCopyWarning:\n",
      "\n",
      "\n",
      "A value is trying to be set on a copy of a slice from a DataFrame.\n",
      "Try using .loc[row_indexer,col_indexer] = value instead\n",
      "\n",
      "See the caveats in the documentation: https://pandas.pydata.org/pandas-docs/stable/user_guide/indexing.html#returning-a-view-versus-a-copy\n",
      "\n"
     ]
    },
    {
     "data": {
      "text/html": [
       "<div>\n",
       "<style scoped>\n",
       "    .dataframe tbody tr th:only-of-type {\n",
       "        vertical-align: middle;\n",
       "    }\n",
       "\n",
       "    .dataframe tbody tr th {\n",
       "        vertical-align: top;\n",
       "    }\n",
       "\n",
       "    .dataframe thead th {\n",
       "        text-align: right;\n",
       "    }\n",
       "</style>\n",
       "<table border=\"1\" class=\"dataframe\">\n",
       "  <thead>\n",
       "    <tr style=\"text-align: right;\">\n",
       "      <th></th>\n",
       "      <th>Descrição</th>\n",
       "      <th>Preço</th>\n",
       "      <th>TotalReviews</th>\n",
       "      <th>Loja</th>\n",
       "      <th>Categoria</th>\n",
       "      <th>Processador</th>\n",
       "    </tr>\n",
       "  </thead>\n",
       "  <tbody>\n",
       "    <tr>\n",
       "      <th>19</th>\n",
       "      <td>Notebook Gamer Legion 5i i7-10750H 16GB 512GB ...</td>\n",
       "      <td>9199.00</td>\n",
       "      <td>62.0</td>\n",
       "      <td>Amazon</td>\n",
       "      <td>Notebook</td>\n",
       "      <td>i7</td>\n",
       "    </tr>\n",
       "    <tr>\n",
       "      <th>26</th>\n",
       "      <td>Notebook Lenovo Ultrafino ideapad S145 i7-1065...</td>\n",
       "      <td>4547.72</td>\n",
       "      <td>472.0</td>\n",
       "      <td>Amazon</td>\n",
       "      <td>Notebook</td>\n",
       "      <td>i7</td>\n",
       "    </tr>\n",
       "    <tr>\n",
       "      <th>31</th>\n",
       "      <td>Samsung BookIntel® Core™ i7-1165G7, 11 Geração...</td>\n",
       "      <td>4200.00</td>\n",
       "      <td>36.0</td>\n",
       "      <td>Amazon</td>\n",
       "      <td>Notebook</td>\n",
       "      <td>i7</td>\n",
       "    </tr>\n",
       "    <tr>\n",
       "      <th>42</th>\n",
       "      <td>Notebook Samsung Book X50 Intel Core i7-10510U...</td>\n",
       "      <td>5769.90</td>\n",
       "      <td>143.0</td>\n",
       "      <td>Amazon</td>\n",
       "      <td>Notebook</td>\n",
       "      <td>i7</td>\n",
       "    </tr>\n",
       "    <tr>\n",
       "      <th>43</th>\n",
       "      <td>Notebook Dell Inspiron i15-3501-A80S 15.6\" HD ...</td>\n",
       "      <td>6199.00</td>\n",
       "      <td>7.0</td>\n",
       "      <td>Amazon</td>\n",
       "      <td>Notebook</td>\n",
       "      <td>i7</td>\n",
       "    </tr>\n",
       "    <tr>\n",
       "      <th>...</th>\n",
       "      <td>...</td>\n",
       "      <td>...</td>\n",
       "      <td>...</td>\n",
       "      <td>...</td>\n",
       "      <td>...</td>\n",
       "      <td>...</td>\n",
       "    </tr>\n",
       "    <tr>\n",
       "      <th>3176</th>\n",
       "      <td>Notebook Dell Inspiron 3501-U60P 15.6\" HD 11ª ...</td>\n",
       "      <td>4814.10</td>\n",
       "      <td>0.0</td>\n",
       "      <td>Magazine Luiza</td>\n",
       "      <td>Notebook</td>\n",
       "      <td>i7</td>\n",
       "    </tr>\n",
       "    <tr>\n",
       "      <th>3178</th>\n",
       "      <td>Notebook Asus VivoBook 15, Intel Core i7 1165G...</td>\n",
       "      <td>5799.00</td>\n",
       "      <td>2.0</td>\n",
       "      <td>Magazine Luiza</td>\n",
       "      <td>Notebook</td>\n",
       "      <td>i7</td>\n",
       "    </tr>\n",
       "    <tr>\n",
       "      <th>3182</th>\n",
       "      <td>Notebook Dell Alienware m15 R6 AW15-i1100-M30P...</td>\n",
       "      <td>13999.00</td>\n",
       "      <td>0.0</td>\n",
       "      <td>Magazine Luiza</td>\n",
       "      <td>Notebook</td>\n",
       "      <td>i7</td>\n",
       "    </tr>\n",
       "    <tr>\n",
       "      <th>3192</th>\n",
       "      <td>Notebook Gamer Legion 5i i7-10750H 16GB 512GB ...</td>\n",
       "      <td>9224.10</td>\n",
       "      <td>0.0</td>\n",
       "      <td>Magazine Luiza</td>\n",
       "      <td>Notebook</td>\n",
       "      <td>i7</td>\n",
       "    </tr>\n",
       "    <tr>\n",
       "      <th>3193</th>\n",
       "      <td>Notebook Lenovo Ultrafino BS145 82HB0008BR (i7...</td>\n",
       "      <td>4559.99</td>\n",
       "      <td>0.0</td>\n",
       "      <td>Magazine Luiza</td>\n",
       "      <td>Notebook</td>\n",
       "      <td>i7</td>\n",
       "    </tr>\n",
       "  </tbody>\n",
       "</table>\n",
       "<p>142 rows × 6 columns</p>\n",
       "</div>"
      ],
      "text/plain": [
       "                                              Descrição     Preço  \\\n",
       "19    Notebook Gamer Legion 5i i7-10750H 16GB 512GB ...   9199.00   \n",
       "26    Notebook Lenovo Ultrafino ideapad S145 i7-1065...   4547.72   \n",
       "31    Samsung BookIntel® Core™ i7-1165G7, 11 Geração...   4200.00   \n",
       "42    Notebook Samsung Book X50 Intel Core i7-10510U...   5769.90   \n",
       "43    Notebook Dell Inspiron i15-3501-A80S 15.6\" HD ...   6199.00   \n",
       "...                                                 ...       ...   \n",
       "3176  Notebook Dell Inspiron 3501-U60P 15.6\" HD 11ª ...   4814.10   \n",
       "3178  Notebook Asus VivoBook 15, Intel Core i7 1165G...   5799.00   \n",
       "3182  Notebook Dell Alienware m15 R6 AW15-i1100-M30P...  13999.00   \n",
       "3192  Notebook Gamer Legion 5i i7-10750H 16GB 512GB ...   9224.10   \n",
       "3193  Notebook Lenovo Ultrafino BS145 82HB0008BR (i7...   4559.99   \n",
       "\n",
       "      TotalReviews            Loja Categoria Processador  \n",
       "19            62.0          Amazon  Notebook          i7  \n",
       "26           472.0          Amazon  Notebook          i7  \n",
       "31            36.0          Amazon  Notebook          i7  \n",
       "42           143.0          Amazon  Notebook          i7  \n",
       "43             7.0          Amazon  Notebook          i7  \n",
       "...            ...             ...       ...         ...  \n",
       "3176           0.0  Magazine Luiza  Notebook          i7  \n",
       "3178           2.0  Magazine Luiza  Notebook          i7  \n",
       "3182           0.0  Magazine Luiza  Notebook          i7  \n",
       "3192           0.0  Magazine Luiza  Notebook          i7  \n",
       "3193           0.0  Magazine Luiza  Notebook          i7  \n",
       "\n",
       "[142 rows x 6 columns]"
      ]
     },
     "execution_count": 101,
     "metadata": {},
     "output_type": "execute_result"
    }
   ],
   "source": [
    "notebook_i7 = dados_gerais[dados_gerais['Descrição'].str.lower().str.contains('i7')]\n",
    "notebook_i7['Processador'] = 'i7'\n",
    "notebook_i7"
   ]
  },
  {
   "cell_type": "code",
   "execution_count": 102,
   "metadata": {},
   "outputs": [
    {
     "data": {
      "text/html": [
       "<div>\n",
       "<style scoped>\n",
       "    .dataframe tbody tr th:only-of-type {\n",
       "        vertical-align: middle;\n",
       "    }\n",
       "\n",
       "    .dataframe tbody tr th {\n",
       "        vertical-align: top;\n",
       "    }\n",
       "\n",
       "    .dataframe thead th {\n",
       "        text-align: right;\n",
       "    }\n",
       "</style>\n",
       "<table border=\"1\" class=\"dataframe\">\n",
       "  <thead>\n",
       "    <tr style=\"text-align: right;\">\n",
       "      <th></th>\n",
       "      <th>Descrição</th>\n",
       "      <th>Preço</th>\n",
       "      <th>TotalReviews</th>\n",
       "      <th>Loja</th>\n",
       "      <th>Categoria</th>\n",
       "      <th>Processador</th>\n",
       "    </tr>\n",
       "  </thead>\n",
       "  <tbody>\n",
       "    <tr>\n",
       "      <th>3</th>\n",
       "      <td>Samsung BookIntel® Core™ i3-1115G4, 11 Geração...</td>\n",
       "      <td>2789.09</td>\n",
       "      <td>46.0</td>\n",
       "      <td>Amazon</td>\n",
       "      <td>Notebook</td>\n",
       "      <td>i3</td>\n",
       "    </tr>\n",
       "    <tr>\n",
       "      <th>6</th>\n",
       "      <td>Notebook Gateway Ultra Slim Laptop, 14,1 poleg...</td>\n",
       "      <td>6254.41</td>\n",
       "      <td>0.0</td>\n",
       "      <td>Amazon</td>\n",
       "      <td>Notebook</td>\n",
       "      <td>i3</td>\n",
       "    </tr>\n",
       "    <tr>\n",
       "      <th>10</th>\n",
       "      <td>Notebook Lenovo Ultrafino ideapad S145, Intel ...</td>\n",
       "      <td>3274.53</td>\n",
       "      <td>514.0</td>\n",
       "      <td>Amazon</td>\n",
       "      <td>Notebook</td>\n",
       "      <td>i3</td>\n",
       "    </tr>\n",
       "    <tr>\n",
       "      <th>20</th>\n",
       "      <td>Notebook Gateway Ultra Slim Laptop, 14,1\" IPS ...</td>\n",
       "      <td>6336.30</td>\n",
       "      <td>0.0</td>\n",
       "      <td>Amazon</td>\n",
       "      <td>Notebook</td>\n",
       "      <td>i3</td>\n",
       "    </tr>\n",
       "    <tr>\n",
       "      <th>21</th>\n",
       "      <td>Samsung BookIntel® Core™ i3-1115G4, 11 Geração...</td>\n",
       "      <td>2800.03</td>\n",
       "      <td>37.0</td>\n",
       "      <td>Amazon</td>\n",
       "      <td>Notebook</td>\n",
       "      <td>i3</td>\n",
       "    </tr>\n",
       "    <tr>\n",
       "      <th>...</th>\n",
       "      <td>...</td>\n",
       "      <td>...</td>\n",
       "      <td>...</td>\n",
       "      <td>...</td>\n",
       "      <td>...</td>\n",
       "      <td>...</td>\n",
       "    </tr>\n",
       "    <tr>\n",
       "      <th>3176</th>\n",
       "      <td>Notebook Dell Inspiron 3501-U60P 15.6\" HD 11ª ...</td>\n",
       "      <td>4814.10</td>\n",
       "      <td>0.0</td>\n",
       "      <td>Magazine Luiza</td>\n",
       "      <td>Notebook</td>\n",
       "      <td>i7</td>\n",
       "    </tr>\n",
       "    <tr>\n",
       "      <th>3178</th>\n",
       "      <td>Notebook Asus VivoBook 15, Intel Core i7 1165G...</td>\n",
       "      <td>5799.00</td>\n",
       "      <td>2.0</td>\n",
       "      <td>Magazine Luiza</td>\n",
       "      <td>Notebook</td>\n",
       "      <td>i7</td>\n",
       "    </tr>\n",
       "    <tr>\n",
       "      <th>3182</th>\n",
       "      <td>Notebook Dell Alienware m15 R6 AW15-i1100-M30P...</td>\n",
       "      <td>13999.00</td>\n",
       "      <td>0.0</td>\n",
       "      <td>Magazine Luiza</td>\n",
       "      <td>Notebook</td>\n",
       "      <td>i7</td>\n",
       "    </tr>\n",
       "    <tr>\n",
       "      <th>3192</th>\n",
       "      <td>Notebook Gamer Legion 5i i7-10750H 16GB 512GB ...</td>\n",
       "      <td>9224.10</td>\n",
       "      <td>0.0</td>\n",
       "      <td>Magazine Luiza</td>\n",
       "      <td>Notebook</td>\n",
       "      <td>i7</td>\n",
       "    </tr>\n",
       "    <tr>\n",
       "      <th>3193</th>\n",
       "      <td>Notebook Lenovo Ultrafino BS145 82HB0008BR (i7...</td>\n",
       "      <td>4559.99</td>\n",
       "      <td>0.0</td>\n",
       "      <td>Magazine Luiza</td>\n",
       "      <td>Notebook</td>\n",
       "      <td>i7</td>\n",
       "    </tr>\n",
       "  </tbody>\n",
       "</table>\n",
       "<p>664 rows × 6 columns</p>\n",
       "</div>"
      ],
      "text/plain": [
       "                                              Descrição     Preço  \\\n",
       "3     Samsung BookIntel® Core™ i3-1115G4, 11 Geração...   2789.09   \n",
       "6     Notebook Gateway Ultra Slim Laptop, 14,1 poleg...   6254.41   \n",
       "10    Notebook Lenovo Ultrafino ideapad S145, Intel ...   3274.53   \n",
       "20    Notebook Gateway Ultra Slim Laptop, 14,1\" IPS ...   6336.30   \n",
       "21    Samsung BookIntel® Core™ i3-1115G4, 11 Geração...   2800.03   \n",
       "...                                                 ...       ...   \n",
       "3176  Notebook Dell Inspiron 3501-U60P 15.6\" HD 11ª ...   4814.10   \n",
       "3178  Notebook Asus VivoBook 15, Intel Core i7 1165G...   5799.00   \n",
       "3182  Notebook Dell Alienware m15 R6 AW15-i1100-M30P...  13999.00   \n",
       "3192  Notebook Gamer Legion 5i i7-10750H 16GB 512GB ...   9224.10   \n",
       "3193  Notebook Lenovo Ultrafino BS145 82HB0008BR (i7...   4559.99   \n",
       "\n",
       "      TotalReviews            Loja Categoria Processador  \n",
       "3             46.0          Amazon  Notebook          i3  \n",
       "6              0.0          Amazon  Notebook          i3  \n",
       "10           514.0          Amazon  Notebook          i3  \n",
       "20             0.0          Amazon  Notebook          i3  \n",
       "21            37.0          Amazon  Notebook          i3  \n",
       "...            ...             ...       ...         ...  \n",
       "3176           0.0  Magazine Luiza  Notebook          i7  \n",
       "3178           2.0  Magazine Luiza  Notebook          i7  \n",
       "3182           0.0  Magazine Luiza  Notebook          i7  \n",
       "3192           0.0  Magazine Luiza  Notebook          i7  \n",
       "3193           0.0  Magazine Luiza  Notebook          i7  \n",
       "\n",
       "[664 rows x 6 columns]"
      ]
     },
     "execution_count": 102,
     "metadata": {},
     "output_type": "execute_result"
    }
   ],
   "source": [
    "notebooks_processador = pd.concat([notebook_i3,notebook_i5, notebook_i7])\n",
    "notebooks_processador"
   ]
  },
  {
   "cell_type": "code",
   "execution_count": 118,
   "metadata": {},
   "outputs": [
    {
     "data": {
      "text/html": [
       "<div>\n",
       "<style scoped>\n",
       "    .dataframe tbody tr th:only-of-type {\n",
       "        vertical-align: middle;\n",
       "    }\n",
       "\n",
       "    .dataframe tbody tr th {\n",
       "        vertical-align: top;\n",
       "    }\n",
       "\n",
       "    .dataframe thead th {\n",
       "        text-align: right;\n",
       "    }\n",
       "</style>\n",
       "<table border=\"1\" class=\"dataframe\">\n",
       "  <thead>\n",
       "    <tr style=\"text-align: right;\">\n",
       "      <th></th>\n",
       "      <th>Loja</th>\n",
       "      <th>Processador</th>\n",
       "      <th>Preço médio</th>\n",
       "    </tr>\n",
       "  </thead>\n",
       "  <tbody>\n",
       "    <tr>\n",
       "      <th>0</th>\n",
       "      <td>Amazon</td>\n",
       "      <td>i3</td>\n",
       "      <td>4458.587925</td>\n",
       "    </tr>\n",
       "    <tr>\n",
       "      <th>1</th>\n",
       "      <td>Amazon</td>\n",
       "      <td>i5</td>\n",
       "      <td>5038.873770</td>\n",
       "    </tr>\n",
       "    <tr>\n",
       "      <th>2</th>\n",
       "      <td>Amazon</td>\n",
       "      <td>i7</td>\n",
       "      <td>6837.325128</td>\n",
       "    </tr>\n",
       "    <tr>\n",
       "      <th>3</th>\n",
       "      <td>Americanas</td>\n",
       "      <td>i3</td>\n",
       "      <td>3372.871951</td>\n",
       "    </tr>\n",
       "    <tr>\n",
       "      <th>4</th>\n",
       "      <td>Americanas</td>\n",
       "      <td>i5</td>\n",
       "      <td>4609.905000</td>\n",
       "    </tr>\n",
       "    <tr>\n",
       "      <th>5</th>\n",
       "      <td>Americanas</td>\n",
       "      <td>i7</td>\n",
       "      <td>5555.888837</td>\n",
       "    </tr>\n",
       "    <tr>\n",
       "      <th>6</th>\n",
       "      <td>Casas Bahia</td>\n",
       "      <td>i3</td>\n",
       "      <td>5009.596322</td>\n",
       "    </tr>\n",
       "    <tr>\n",
       "      <th>7</th>\n",
       "      <td>Casas Bahia</td>\n",
       "      <td>i5</td>\n",
       "      <td>4596.738088</td>\n",
       "    </tr>\n",
       "    <tr>\n",
       "      <th>8</th>\n",
       "      <td>Casas Bahia</td>\n",
       "      <td>i7</td>\n",
       "      <td>4599.347391</td>\n",
       "    </tr>\n",
       "    <tr>\n",
       "      <th>9</th>\n",
       "      <td>Magazine Luiza</td>\n",
       "      <td>i3</td>\n",
       "      <td>2940.096744</td>\n",
       "    </tr>\n",
       "    <tr>\n",
       "      <th>10</th>\n",
       "      <td>Magazine Luiza</td>\n",
       "      <td>i5</td>\n",
       "      <td>4743.257471</td>\n",
       "    </tr>\n",
       "    <tr>\n",
       "      <th>11</th>\n",
       "      <td>Magazine Luiza</td>\n",
       "      <td>i7</td>\n",
       "      <td>6435.448649</td>\n",
       "    </tr>\n",
       "  </tbody>\n",
       "</table>\n",
       "</div>"
      ],
      "text/plain": [
       "              Loja Processador  Preço médio\n",
       "0           Amazon          i3  4458.587925\n",
       "1           Amazon          i5  5038.873770\n",
       "2           Amazon          i7  6837.325128\n",
       "3       Americanas          i3  3372.871951\n",
       "4       Americanas          i5  4609.905000\n",
       "5       Americanas          i7  5555.888837\n",
       "6      Casas Bahia          i3  5009.596322\n",
       "7      Casas Bahia          i5  4596.738088\n",
       "8      Casas Bahia          i7  4599.347391\n",
       "9   Magazine Luiza          i3  2940.096744\n",
       "10  Magazine Luiza          i5  4743.257471\n",
       "11  Magazine Luiza          i7  6435.448649"
      ]
     },
     "execution_count": 118,
     "metadata": {},
     "output_type": "execute_result"
    }
   ],
   "source": [
    "ntb_groupby_processador = notebooks_processador[['Loja','Categoria','Preço','Processador']].groupby(['Loja', 'Processador']).mean()\n",
    "ntb_groupby_processador.reset_index(inplace=True)\n",
    "ntb_groupby_processador.rename(columns={'Preço':'Preço médio'},inplace=True)\n",
    "ntb_groupby_processador"
   ]
  },
  {
   "cell_type": "code",
   "execution_count": 121,
   "metadata": {},
   "outputs": [
    {
     "data": {
      "application/vnd.plotly.v1+json": {
       "config": {
        "plotlyServerURL": "https://plot.ly"
       },
       "data": [
        {
         "alignmentgroup": "True",
         "hovertemplate": "Processador=i3<br>Loja=%{x}<br>Preço médio=%{text}<extra></extra>",
         "legendgroup": "i3",
         "marker": {
          "color": "#636efa",
          "pattern": {
           "shape": ""
          }
         },
         "name": "i3",
         "offsetgroup": "i3",
         "orientation": "v",
         "showlegend": true,
         "text": [
          4458.587924528302,
          3372.871951219512,
          5009.59632183908,
          2940.096744186047
         ],
         "textposition": "outside",
         "texttemplate": "%{text:.2s}",
         "type": "bar",
         "x": [
          "Amazon",
          "Americanas",
          "Casas Bahia",
          "Magazine Luiza"
         ],
         "xaxis": "x",
         "y": [
          4458.587924528302,
          3372.871951219512,
          5009.59632183908,
          2940.096744186047
         ],
         "yaxis": "y"
        },
        {
         "alignmentgroup": "True",
         "hovertemplate": "Processador=i5<br>Loja=%{x}<br>Preço médio=%{text}<extra></extra>",
         "legendgroup": "i5",
         "marker": {
          "color": "#EF553B",
          "pattern": {
           "shape": ""
          }
         },
         "name": "i5",
         "offsetgroup": "i5",
         "orientation": "v",
         "showlegend": true,
         "text": [
          5038.873770491804,
          4609.905,
          4596.7380882352945,
          4743.257471264366
         ],
         "textposition": "outside",
         "texttemplate": "%{text:.2s}",
         "type": "bar",
         "x": [
          "Amazon",
          "Americanas",
          "Casas Bahia",
          "Magazine Luiza"
         ],
         "xaxis": "x",
         "y": [
          5038.873770491804,
          4609.905,
          4596.7380882352945,
          4743.257471264366
         ],
         "yaxis": "y"
        },
        {
         "alignmentgroup": "True",
         "hovertemplate": "Processador=i7<br>Loja=%{x}<br>Preço médio=%{text}<extra></extra>",
         "legendgroup": "i7",
         "marker": {
          "color": "#00cc96",
          "pattern": {
           "shape": ""
          }
         },
         "name": "i7",
         "offsetgroup": "i7",
         "orientation": "v",
         "showlegend": true,
         "text": [
          6837.325128205127,
          5555.888837209304,
          4599.347391304347,
          6435.44864864865
         ],
         "textposition": "outside",
         "texttemplate": "%{text:.2s}",
         "type": "bar",
         "x": [
          "Amazon",
          "Americanas",
          "Casas Bahia",
          "Magazine Luiza"
         ],
         "xaxis": "x",
         "y": [
          6837.325128205127,
          5555.888837209304,
          4599.347391304347,
          6435.44864864865
         ],
         "yaxis": "y"
        }
       ],
       "layout": {
        "barmode": "group",
        "height": 600,
        "legend": {
         "title": {
          "text": "Processador"
         },
         "tracegroupgap": 0
        },
        "template": {
         "data": {
          "bar": [
           {
            "error_x": {
             "color": "#2a3f5f"
            },
            "error_y": {
             "color": "#2a3f5f"
            },
            "marker": {
             "line": {
              "color": "#E5ECF6",
              "width": 0.5
             },
             "pattern": {
              "fillmode": "overlay",
              "size": 10,
              "solidity": 0.2
             }
            },
            "type": "bar"
           }
          ],
          "barpolar": [
           {
            "marker": {
             "line": {
              "color": "#E5ECF6",
              "width": 0.5
             },
             "pattern": {
              "fillmode": "overlay",
              "size": 10,
              "solidity": 0.2
             }
            },
            "type": "barpolar"
           }
          ],
          "carpet": [
           {
            "aaxis": {
             "endlinecolor": "#2a3f5f",
             "gridcolor": "white",
             "linecolor": "white",
             "minorgridcolor": "white",
             "startlinecolor": "#2a3f5f"
            },
            "baxis": {
             "endlinecolor": "#2a3f5f",
             "gridcolor": "white",
             "linecolor": "white",
             "minorgridcolor": "white",
             "startlinecolor": "#2a3f5f"
            },
            "type": "carpet"
           }
          ],
          "choropleth": [
           {
            "colorbar": {
             "outlinewidth": 0,
             "ticks": ""
            },
            "type": "choropleth"
           }
          ],
          "contour": [
           {
            "colorbar": {
             "outlinewidth": 0,
             "ticks": ""
            },
            "colorscale": [
             [
              0,
              "#0d0887"
             ],
             [
              0.1111111111111111,
              "#46039f"
             ],
             [
              0.2222222222222222,
              "#7201a8"
             ],
             [
              0.3333333333333333,
              "#9c179e"
             ],
             [
              0.4444444444444444,
              "#bd3786"
             ],
             [
              0.5555555555555556,
              "#d8576b"
             ],
             [
              0.6666666666666666,
              "#ed7953"
             ],
             [
              0.7777777777777778,
              "#fb9f3a"
             ],
             [
              0.8888888888888888,
              "#fdca26"
             ],
             [
              1,
              "#f0f921"
             ]
            ],
            "type": "contour"
           }
          ],
          "contourcarpet": [
           {
            "colorbar": {
             "outlinewidth": 0,
             "ticks": ""
            },
            "type": "contourcarpet"
           }
          ],
          "heatmap": [
           {
            "colorbar": {
             "outlinewidth": 0,
             "ticks": ""
            },
            "colorscale": [
             [
              0,
              "#0d0887"
             ],
             [
              0.1111111111111111,
              "#46039f"
             ],
             [
              0.2222222222222222,
              "#7201a8"
             ],
             [
              0.3333333333333333,
              "#9c179e"
             ],
             [
              0.4444444444444444,
              "#bd3786"
             ],
             [
              0.5555555555555556,
              "#d8576b"
             ],
             [
              0.6666666666666666,
              "#ed7953"
             ],
             [
              0.7777777777777778,
              "#fb9f3a"
             ],
             [
              0.8888888888888888,
              "#fdca26"
             ],
             [
              1,
              "#f0f921"
             ]
            ],
            "type": "heatmap"
           }
          ],
          "heatmapgl": [
           {
            "colorbar": {
             "outlinewidth": 0,
             "ticks": ""
            },
            "colorscale": [
             [
              0,
              "#0d0887"
             ],
             [
              0.1111111111111111,
              "#46039f"
             ],
             [
              0.2222222222222222,
              "#7201a8"
             ],
             [
              0.3333333333333333,
              "#9c179e"
             ],
             [
              0.4444444444444444,
              "#bd3786"
             ],
             [
              0.5555555555555556,
              "#d8576b"
             ],
             [
              0.6666666666666666,
              "#ed7953"
             ],
             [
              0.7777777777777778,
              "#fb9f3a"
             ],
             [
              0.8888888888888888,
              "#fdca26"
             ],
             [
              1,
              "#f0f921"
             ]
            ],
            "type": "heatmapgl"
           }
          ],
          "histogram": [
           {
            "marker": {
             "pattern": {
              "fillmode": "overlay",
              "size": 10,
              "solidity": 0.2
             }
            },
            "type": "histogram"
           }
          ],
          "histogram2d": [
           {
            "colorbar": {
             "outlinewidth": 0,
             "ticks": ""
            },
            "colorscale": [
             [
              0,
              "#0d0887"
             ],
             [
              0.1111111111111111,
              "#46039f"
             ],
             [
              0.2222222222222222,
              "#7201a8"
             ],
             [
              0.3333333333333333,
              "#9c179e"
             ],
             [
              0.4444444444444444,
              "#bd3786"
             ],
             [
              0.5555555555555556,
              "#d8576b"
             ],
             [
              0.6666666666666666,
              "#ed7953"
             ],
             [
              0.7777777777777778,
              "#fb9f3a"
             ],
             [
              0.8888888888888888,
              "#fdca26"
             ],
             [
              1,
              "#f0f921"
             ]
            ],
            "type": "histogram2d"
           }
          ],
          "histogram2dcontour": [
           {
            "colorbar": {
             "outlinewidth": 0,
             "ticks": ""
            },
            "colorscale": [
             [
              0,
              "#0d0887"
             ],
             [
              0.1111111111111111,
              "#46039f"
             ],
             [
              0.2222222222222222,
              "#7201a8"
             ],
             [
              0.3333333333333333,
              "#9c179e"
             ],
             [
              0.4444444444444444,
              "#bd3786"
             ],
             [
              0.5555555555555556,
              "#d8576b"
             ],
             [
              0.6666666666666666,
              "#ed7953"
             ],
             [
              0.7777777777777778,
              "#fb9f3a"
             ],
             [
              0.8888888888888888,
              "#fdca26"
             ],
             [
              1,
              "#f0f921"
             ]
            ],
            "type": "histogram2dcontour"
           }
          ],
          "mesh3d": [
           {
            "colorbar": {
             "outlinewidth": 0,
             "ticks": ""
            },
            "type": "mesh3d"
           }
          ],
          "parcoords": [
           {
            "line": {
             "colorbar": {
              "outlinewidth": 0,
              "ticks": ""
             }
            },
            "type": "parcoords"
           }
          ],
          "pie": [
           {
            "automargin": true,
            "type": "pie"
           }
          ],
          "scatter": [
           {
            "marker": {
             "colorbar": {
              "outlinewidth": 0,
              "ticks": ""
             }
            },
            "type": "scatter"
           }
          ],
          "scatter3d": [
           {
            "line": {
             "colorbar": {
              "outlinewidth": 0,
              "ticks": ""
             }
            },
            "marker": {
             "colorbar": {
              "outlinewidth": 0,
              "ticks": ""
             }
            },
            "type": "scatter3d"
           }
          ],
          "scattercarpet": [
           {
            "marker": {
             "colorbar": {
              "outlinewidth": 0,
              "ticks": ""
             }
            },
            "type": "scattercarpet"
           }
          ],
          "scattergeo": [
           {
            "marker": {
             "colorbar": {
              "outlinewidth": 0,
              "ticks": ""
             }
            },
            "type": "scattergeo"
           }
          ],
          "scattergl": [
           {
            "marker": {
             "colorbar": {
              "outlinewidth": 0,
              "ticks": ""
             }
            },
            "type": "scattergl"
           }
          ],
          "scattermapbox": [
           {
            "marker": {
             "colorbar": {
              "outlinewidth": 0,
              "ticks": ""
             }
            },
            "type": "scattermapbox"
           }
          ],
          "scatterpolar": [
           {
            "marker": {
             "colorbar": {
              "outlinewidth": 0,
              "ticks": ""
             }
            },
            "type": "scatterpolar"
           }
          ],
          "scatterpolargl": [
           {
            "marker": {
             "colorbar": {
              "outlinewidth": 0,
              "ticks": ""
             }
            },
            "type": "scatterpolargl"
           }
          ],
          "scatterternary": [
           {
            "marker": {
             "colorbar": {
              "outlinewidth": 0,
              "ticks": ""
             }
            },
            "type": "scatterternary"
           }
          ],
          "surface": [
           {
            "colorbar": {
             "outlinewidth": 0,
             "ticks": ""
            },
            "colorscale": [
             [
              0,
              "#0d0887"
             ],
             [
              0.1111111111111111,
              "#46039f"
             ],
             [
              0.2222222222222222,
              "#7201a8"
             ],
             [
              0.3333333333333333,
              "#9c179e"
             ],
             [
              0.4444444444444444,
              "#bd3786"
             ],
             [
              0.5555555555555556,
              "#d8576b"
             ],
             [
              0.6666666666666666,
              "#ed7953"
             ],
             [
              0.7777777777777778,
              "#fb9f3a"
             ],
             [
              0.8888888888888888,
              "#fdca26"
             ],
             [
              1,
              "#f0f921"
             ]
            ],
            "type": "surface"
           }
          ],
          "table": [
           {
            "cells": {
             "fill": {
              "color": "#EBF0F8"
             },
             "line": {
              "color": "white"
             }
            },
            "header": {
             "fill": {
              "color": "#C8D4E3"
             },
             "line": {
              "color": "white"
             }
            },
            "type": "table"
           }
          ]
         },
         "layout": {
          "annotationdefaults": {
           "arrowcolor": "#2a3f5f",
           "arrowhead": 0,
           "arrowwidth": 1
          },
          "autotypenumbers": "strict",
          "coloraxis": {
           "colorbar": {
            "outlinewidth": 0,
            "ticks": ""
           }
          },
          "colorscale": {
           "diverging": [
            [
             0,
             "#8e0152"
            ],
            [
             0.1,
             "#c51b7d"
            ],
            [
             0.2,
             "#de77ae"
            ],
            [
             0.3,
             "#f1b6da"
            ],
            [
             0.4,
             "#fde0ef"
            ],
            [
             0.5,
             "#f7f7f7"
            ],
            [
             0.6,
             "#e6f5d0"
            ],
            [
             0.7,
             "#b8e186"
            ],
            [
             0.8,
             "#7fbc41"
            ],
            [
             0.9,
             "#4d9221"
            ],
            [
             1,
             "#276419"
            ]
           ],
           "sequential": [
            [
             0,
             "#0d0887"
            ],
            [
             0.1111111111111111,
             "#46039f"
            ],
            [
             0.2222222222222222,
             "#7201a8"
            ],
            [
             0.3333333333333333,
             "#9c179e"
            ],
            [
             0.4444444444444444,
             "#bd3786"
            ],
            [
             0.5555555555555556,
             "#d8576b"
            ],
            [
             0.6666666666666666,
             "#ed7953"
            ],
            [
             0.7777777777777778,
             "#fb9f3a"
            ],
            [
             0.8888888888888888,
             "#fdca26"
            ],
            [
             1,
             "#f0f921"
            ]
           ],
           "sequentialminus": [
            [
             0,
             "#0d0887"
            ],
            [
             0.1111111111111111,
             "#46039f"
            ],
            [
             0.2222222222222222,
             "#7201a8"
            ],
            [
             0.3333333333333333,
             "#9c179e"
            ],
            [
             0.4444444444444444,
             "#bd3786"
            ],
            [
             0.5555555555555556,
             "#d8576b"
            ],
            [
             0.6666666666666666,
             "#ed7953"
            ],
            [
             0.7777777777777778,
             "#fb9f3a"
            ],
            [
             0.8888888888888888,
             "#fdca26"
            ],
            [
             1,
             "#f0f921"
            ]
           ]
          },
          "colorway": [
           "#636efa",
           "#EF553B",
           "#00cc96",
           "#ab63fa",
           "#FFA15A",
           "#19d3f3",
           "#FF6692",
           "#B6E880",
           "#FF97FF",
           "#FECB52"
          ],
          "font": {
           "color": "#2a3f5f"
          },
          "geo": {
           "bgcolor": "white",
           "lakecolor": "white",
           "landcolor": "#E5ECF6",
           "showlakes": true,
           "showland": true,
           "subunitcolor": "white"
          },
          "hoverlabel": {
           "align": "left"
          },
          "hovermode": "closest",
          "mapbox": {
           "style": "light"
          },
          "paper_bgcolor": "white",
          "plot_bgcolor": "#E5ECF6",
          "polar": {
           "angularaxis": {
            "gridcolor": "white",
            "linecolor": "white",
            "ticks": ""
           },
           "bgcolor": "#E5ECF6",
           "radialaxis": {
            "gridcolor": "white",
            "linecolor": "white",
            "ticks": ""
           }
          },
          "scene": {
           "xaxis": {
            "backgroundcolor": "#E5ECF6",
            "gridcolor": "white",
            "gridwidth": 2,
            "linecolor": "white",
            "showbackground": true,
            "ticks": "",
            "zerolinecolor": "white"
           },
           "yaxis": {
            "backgroundcolor": "#E5ECF6",
            "gridcolor": "white",
            "gridwidth": 2,
            "linecolor": "white",
            "showbackground": true,
            "ticks": "",
            "zerolinecolor": "white"
           },
           "zaxis": {
            "backgroundcolor": "#E5ECF6",
            "gridcolor": "white",
            "gridwidth": 2,
            "linecolor": "white",
            "showbackground": true,
            "ticks": "",
            "zerolinecolor": "white"
           }
          },
          "shapedefaults": {
           "line": {
            "color": "#2a3f5f"
           }
          },
          "ternary": {
           "aaxis": {
            "gridcolor": "white",
            "linecolor": "white",
            "ticks": ""
           },
           "baxis": {
            "gridcolor": "white",
            "linecolor": "white",
            "ticks": ""
           },
           "bgcolor": "#E5ECF6",
           "caxis": {
            "gridcolor": "white",
            "linecolor": "white",
            "ticks": ""
           }
          },
          "title": {
           "x": 0.05
          },
          "xaxis": {
           "automargin": true,
           "gridcolor": "white",
           "linecolor": "white",
           "ticks": "",
           "title": {
            "standoff": 15
           },
           "zerolinecolor": "white",
           "zerolinewidth": 2
          },
          "yaxis": {
           "automargin": true,
           "gridcolor": "white",
           "linecolor": "white",
           "ticks": "",
           "title": {
            "standoff": 15
           },
           "zerolinecolor": "white",
           "zerolinewidth": 2
          }
         }
        },
        "title": {
         "text": "Preço médio de notebooks por processador (i3, i5 ou i7) em cada loja"
        },
        "xaxis": {
         "anchor": "y",
         "domain": [
          0,
          1
         ],
         "title": {
          "text": "Loja"
         }
        },
        "yaxis": {
         "anchor": "x",
         "domain": [
          0,
          1
         ],
         "title": {
          "text": "Preço médio"
         }
        }
       }
      }
     },
     "metadata": {},
     "output_type": "display_data"
    }
   ],
   "source": [
    "fig = px.bar(ntb_groupby_processador, x='Loja' ,y='Preço médio',  color=\"Processador\", barmode=\"group\", title=\"Preço médio de notebooks por processador (i3, i5 ou i7) em cada loja\",text=\"Preço médio\",height=600)\n",
    "fig.update_traces(texttemplate='%{text:.2s}', textposition='outside')\n",
    "fig.update_layout()\n",
    "fig.show()"
   ]
  },
  {
   "cell_type": "markdown",
   "metadata": {},
   "source": []
  }
 ],
 "metadata": {
  "interpreter": {
   "hash": "50e0f96e4e88615678713ad57c0ae08da4a9d6120170cb89b48692eb7d0116f7"
  },
  "kernelspec": {
   "display_name": "Python 3.8.8 64-bit (conda)",
   "name": "python3"
  },
  "language_info": {
   "codemirror_mode": {
    "name": "ipython",
    "version": 3
   },
   "file_extension": ".py",
   "mimetype": "text/x-python",
   "name": "python",
   "nbconvert_exporter": "python",
   "pygments_lexer": "ipython3",
   "version": "3.8.8"
  },
  "orig_nbformat": 4
 },
 "nbformat": 4,
 "nbformat_minor": 2
}
