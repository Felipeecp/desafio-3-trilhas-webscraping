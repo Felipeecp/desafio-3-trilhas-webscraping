{
 "cells": [
  {
   "cell_type": "markdown",
   "id": "64e0728e",
   "metadata": {},
   "source": [
    "## Importando as LIBS"
   ]
  },
  {
   "cell_type": "code",
   "execution_count": 17,
   "id": "71aec9fd",
   "metadata": {},
   "outputs": [],
   "source": [
    "import pandas as pd\n",
    "import numpy as np\n",
    "import seaborn as sns\n",
    "import matplotlib.pyplot as plt"
   ]
  },
  {
   "cell_type": "markdown",
   "id": "b164c7c8",
   "metadata": {},
   "source": [
    "### Carregando e visualizando os dados"
   ]
  },
  {
   "cell_type": "code",
   "execution_count": 18,
   "id": "c3d5419b",
   "metadata": {},
   "outputs": [],
   "source": [
    "df = pd.read_csv(\"./output/dataset_notebook.csv\", sep=\";\")"
   ]
  },
  {
   "cell_type": "code",
   "execution_count": 19,
   "id": "579e7b43",
   "metadata": {},
   "outputs": [
    {
     "data": {
      "text/html": [
       "<div>\n",
       "<style scoped>\n",
       "    .dataframe tbody tr th:only-of-type {\n",
       "        vertical-align: middle;\n",
       "    }\n",
       "\n",
       "    .dataframe tbody tr th {\n",
       "        vertical-align: top;\n",
       "    }\n",
       "\n",
       "    .dataframe thead th {\n",
       "        text-align: right;\n",
       "    }\n",
       "</style>\n",
       "<table border=\"1\" class=\"dataframe\">\n",
       "  <thead>\n",
       "    <tr style=\"text-align: right;\">\n",
       "      <th></th>\n",
       "      <th>Descrição</th>\n",
       "      <th>TotalReviews</th>\n",
       "      <th>Preço</th>\n",
       "      <th>Url</th>\n",
       "      <th>Loja</th>\n",
       "    </tr>\n",
       "  </thead>\n",
       "  <tbody>\n",
       "    <tr>\n",
       "      <th>0</th>\n",
       "      <td>Notebook Lenovo Ultrafino Ideapad 3i Intel Cor...</td>\n",
       "      <td>54</td>\n",
       "      <td>3562.49</td>\n",
       "      <td>https://www.americanas.com.br/produto/31713181...</td>\n",
       "      <td>Americanas</td>\n",
       "    </tr>\n",
       "    <tr>\n",
       "      <th>1</th>\n",
       "      <td>Notebook Samsung Book Intel Celeron-6305 4GB 5...</td>\n",
       "      <td>88</td>\n",
       "      <td>2159.13</td>\n",
       "      <td>https://www.americanas.com.br/produto/30813587...</td>\n",
       "      <td>Americanas</td>\n",
       "    </tr>\n",
       "    <tr>\n",
       "      <th>2</th>\n",
       "      <td>Notebook Samsung Book Intel Core i5-1135G7 8GB...</td>\n",
       "      <td>0</td>\n",
       "      <td>3553.74</td>\n",
       "      <td>https://www.americanas.com.br/produto/30813588...</td>\n",
       "      <td>Americanas</td>\n",
       "    </tr>\n",
       "    <tr>\n",
       "      <th>3</th>\n",
       "      <td>Notebook Lenovo Ultrafino Ideapad S145 AMD Ryz...</td>\n",
       "      <td>7</td>\n",
       "      <td>2952.76</td>\n",
       "      <td>https://www.americanas.com.br/produto/33836426...</td>\n",
       "      <td>Americanas</td>\n",
       "    </tr>\n",
       "    <tr>\n",
       "      <th>4</th>\n",
       "      <td>Notebook Positivo Motion Q464C Intel Atom Z835...</td>\n",
       "      <td>72</td>\n",
       "      <td>1424.99</td>\n",
       "      <td>https://www.americanas.com.br/produto/28311550...</td>\n",
       "      <td>Americanas</td>\n",
       "    </tr>\n",
       "  </tbody>\n",
       "</table>\n",
       "</div>"
      ],
      "text/plain": [
       "                                           Descrição  TotalReviews    Preço  \\\n",
       "0  Notebook Lenovo Ultrafino Ideapad 3i Intel Cor...            54  3562.49   \n",
       "1  Notebook Samsung Book Intel Celeron-6305 4GB 5...            88  2159.13   \n",
       "2  Notebook Samsung Book Intel Core i5-1135G7 8GB...             0  3553.74   \n",
       "3  Notebook Lenovo Ultrafino Ideapad S145 AMD Ryz...             7  2952.76   \n",
       "4  Notebook Positivo Motion Q464C Intel Atom Z835...            72  1424.99   \n",
       "\n",
       "                                                 Url        Loja  \n",
       "0  https://www.americanas.com.br/produto/31713181...  Americanas  \n",
       "1  https://www.americanas.com.br/produto/30813587...  Americanas  \n",
       "2  https://www.americanas.com.br/produto/30813588...  Americanas  \n",
       "3  https://www.americanas.com.br/produto/33836426...  Americanas  \n",
       "4  https://www.americanas.com.br/produto/28311550...  Americanas  "
      ]
     },
     "execution_count": 19,
     "metadata": {},
     "output_type": "execute_result"
    }
   ],
   "source": [
    "df.head()"
   ]
  },
  {
   "cell_type": "code",
   "execution_count": 20,
   "id": "d45f9851",
   "metadata": {},
   "outputs": [
    {
     "data": {
      "text/plain": [
       "Descrição       250\n",
       "TotalReviews    250\n",
       "Preço           250\n",
       "Url             250\n",
       "Loja            250\n",
       "dtype: int64"
      ]
     },
     "execution_count": 20,
     "metadata": {},
     "output_type": "execute_result"
    }
   ],
   "source": [
    "df.count()"
   ]
  },
  {
   "cell_type": "markdown",
   "id": "0e81099f",
   "metadata": {},
   "source": [
    "### Verificação de Valores Nulos: NaN"
   ]
  },
  {
   "cell_type": "code",
   "execution_count": 21,
   "id": "4229052d",
   "metadata": {},
   "outputs": [
    {
     "data": {
      "text/plain": [
       "0"
      ]
     },
     "execution_count": 21,
     "metadata": {},
     "output_type": "execute_result"
    }
   ],
   "source": [
    "df.isnull().sum().sum()"
   ]
  },
  {
   "cell_type": "markdown",
   "id": "703228f7",
   "metadata": {},
   "source": [
    "**Sem valores nulos, isso foi graça ao tratamento prévio da obtenção dos dados**"
   ]
  },
  {
   "cell_type": "markdown",
   "id": "4adaf6e3",
   "metadata": {},
   "source": [
    "### Estatística Descritiva"
   ]
  },
  {
   "cell_type": "code",
   "execution_count": 23,
   "id": "c9ed445e",
   "metadata": {},
   "outputs": [
    {
     "data": {
      "text/html": [
       "<div>\n",
       "<style scoped>\n",
       "    .dataframe tbody tr th:only-of-type {\n",
       "        vertical-align: middle;\n",
       "    }\n",
       "\n",
       "    .dataframe tbody tr th {\n",
       "        vertical-align: top;\n",
       "    }\n",
       "\n",
       "    .dataframe thead th {\n",
       "        text-align: right;\n",
       "    }\n",
       "</style>\n",
       "<table border=\"1\" class=\"dataframe\">\n",
       "  <thead>\n",
       "    <tr style=\"text-align: right;\">\n",
       "      <th></th>\n",
       "      <th>TotalReviews</th>\n",
       "      <th>Preço</th>\n",
       "    </tr>\n",
       "  </thead>\n",
       "  <tbody>\n",
       "    <tr>\n",
       "      <th>count</th>\n",
       "      <td>250.00</td>\n",
       "      <td>250.00</td>\n",
       "    </tr>\n",
       "    <tr>\n",
       "      <th>mean</th>\n",
       "      <td>9.44</td>\n",
       "      <td>4085.27</td>\n",
       "    </tr>\n",
       "    <tr>\n",
       "      <th>std</th>\n",
       "      <td>25.76</td>\n",
       "      <td>2673.61</td>\n",
       "    </tr>\n",
       "    <tr>\n",
       "      <th>min</th>\n",
       "      <td>0.00</td>\n",
       "      <td>0.00</td>\n",
       "    </tr>\n",
       "    <tr>\n",
       "      <th>25%</th>\n",
       "      <td>0.00</td>\n",
       "      <td>2726.37</td>\n",
       "    </tr>\n",
       "    <tr>\n",
       "      <th>50%</th>\n",
       "      <td>0.50</td>\n",
       "      <td>3682.06</td>\n",
       "    </tr>\n",
       "    <tr>\n",
       "      <th>75%</th>\n",
       "      <td>5.00</td>\n",
       "      <td>4944.32</td>\n",
       "    </tr>\n",
       "    <tr>\n",
       "      <th>max</th>\n",
       "      <td>160.00</td>\n",
       "      <td>33029.10</td>\n",
       "    </tr>\n",
       "  </tbody>\n",
       "</table>\n",
       "</div>"
      ],
      "text/plain": [
       "       TotalReviews     Preço\n",
       "count        250.00    250.00\n",
       "mean           9.44   4085.27\n",
       "std           25.76   2673.61\n",
       "min            0.00      0.00\n",
       "25%            0.00   2726.37\n",
       "50%            0.50   3682.06\n",
       "75%            5.00   4944.32\n",
       "max          160.00  33029.10"
      ]
     },
     "execution_count": 23,
     "metadata": {},
     "output_type": "execute_result"
    }
   ],
   "source": [
    "df.describe().round(2)"
   ]
  },
  {
   "cell_type": "markdown",
   "id": "519022de",
   "metadata": {},
   "source": [
    "**Um preço igual a 0 pode ser um erro na obtenção dos dados**"
   ]
  },
  {
   "cell_type": "code",
   "execution_count": 29,
   "id": "c4502704",
   "metadata": {},
   "outputs": [
    {
     "data": {
      "text/html": [
       "<div>\n",
       "<style scoped>\n",
       "    .dataframe tbody tr th:only-of-type {\n",
       "        vertical-align: middle;\n",
       "    }\n",
       "\n",
       "    .dataframe tbody tr th {\n",
       "        vertical-align: top;\n",
       "    }\n",
       "\n",
       "    .dataframe thead th {\n",
       "        text-align: right;\n",
       "    }\n",
       "</style>\n",
       "<table border=\"1\" class=\"dataframe\">\n",
       "  <thead>\n",
       "    <tr style=\"text-align: right;\">\n",
       "      <th></th>\n",
       "      <th>Descrição</th>\n",
       "      <th>TotalReviews</th>\n",
       "      <th>Preço</th>\n",
       "      <th>Url</th>\n",
       "      <th>Loja</th>\n",
       "    </tr>\n",
       "  </thead>\n",
       "  <tbody>\n",
       "    <tr>\n",
       "      <th>75</th>\n",
       "      <td>Notebook Samsung Book X40 10ª Intel Core i5 8G...</td>\n",
       "      <td>66</td>\n",
       "      <td>0.0</td>\n",
       "      <td>https://www.americanas.com.br/produto/17725510...</td>\n",
       "      <td>Americanas</td>\n",
       "    </tr>\n",
       "  </tbody>\n",
       "</table>\n",
       "</div>"
      ],
      "text/plain": [
       "                                            Descrição  TotalReviews  Preço  \\\n",
       "75  Notebook Samsung Book X40 10ª Intel Core i5 8G...            66    0.0   \n",
       "\n",
       "                                                  Url        Loja  \n",
       "75  https://www.americanas.com.br/produto/17725510...  Americanas  "
      ]
     },
     "execution_count": 29,
     "metadata": {},
     "output_type": "execute_result"
    }
   ],
   "source": [
    "df.query(\"Preço == 0\")"
   ]
  },
  {
   "cell_type": "markdown",
   "id": "ec469594",
   "metadata": {},
   "source": [
    "## Histograma: Distribuição de Frequencias"
   ]
  },
  {
   "cell_type": "code",
   "execution_count": 30,
   "id": "ae83ace3",
   "metadata": {},
   "outputs": [
    {
     "data": {
      "image/png": "[encoded data removed]",
      "text/plain": [
       "<Figure size 842.4x595.44 with 1 Axes>"
      ]
     },
     "metadata": {},
     "output_type": "display_data"
    }
   ],
   "source": [
    "sns.set(style=\"darkgrid\")\n",
    "sns.set(rc={'figure.figsize':(11.7,8.27)})\n",
    "histplot = sns.histplot(data=df, x='Preço', linewidth=1, bins=30, kde=True)\n",
    "histplot.axes.set_title(\"Histograma de Preços dos Notebooks\", fontsize=16)\n",
    "histplot.set_xlabel(\"Preço\", fontsize=14)\n",
    "histplot.set_ylabel(\"Frequência\", fontsize=14)\n",
    "plt.show()"
   ]
  },
  {
   "cell_type": "markdown",
   "id": "bb1aeb8c",
   "metadata": {},
   "source": [
    "**Já é notorio a presença de outliers**"
   ]
  },
  {
   "cell_type": "markdown",
   "id": "5dc1dbf4",
   "metadata": {},
   "source": [
    "## Boxplot: Visualização de outliers"
   ]
  },
  {
   "cell_type": "code",
   "execution_count": 31,
   "id": "a2a1319b",
   "metadata": {},
   "outputs": [
    {
     "data": {
      "image/png": "[encoded data removed]",
      "text/plain": [
       "<Figure size 842.4x595.44 with 1 Axes>"
      ]
     },
     "metadata": {},
     "output_type": "display_data"
    }
   ],
   "source": [
    "sns.set(style=\"darkgrid\")\n",
    "sns.set(rc={'figure.figsize':(11.7,8.27)})\n",
    "boxplot = sns.boxplot(data=df['Preço'], linewidth=2.5, width=0.25)\n",
    "boxplot.axes.set_title(\"Boxplot Preços dos Notebooks\", fontsize=16)\n",
    "boxplot.set_xlabel(\"Notebook\", fontsize=14)\n",
    "boxplot.set_ylabel(\"Preço\", fontsize=14)\n",
    "plt.show()"
   ]
  },
  {
   "cell_type": "markdown",
   "id": "ecd6a385",
   "metadata": {},
   "source": [
    "**Percebe-se que há outliers no departamento de notebooks.**\n",
    "\n",
    "**Podem ser notebooks especiais, como gamers ou outros**\n",
    "\n",
    "**Haverá agora um trabalho de remoção de outliers do nosso dataset**"
   ]
  },
  {
   "cell_type": "markdown",
   "id": "ec31f7f1",
   "metadata": {},
   "source": [
    "## Função que retira os indices dos outliers do nosso dataframe"
   ]
  },
  {
   "cell_type": "code",
   "execution_count": 32,
   "id": "06aedb87",
   "metadata": {},
   "outputs": [],
   "source": [
    "def outliers_indexes(df, ft):\n",
    "    \"\"\" \n",
    "    Função que retorna o índice dos outliers\n",
    "    Embasamento matemático:\n",
    "    Amplitude Interquartil => IQR = Quartil_3 - Quartil_1\n",
    "    Limite Inferior => LI = Quartil_1 - 1.5*IQR\n",
    "    Limite Superior => LS = Quartil_3 + 1.5*IQR\n",
    "    Todos os dados que estiverem acima do limite superior ou abaixo do limite inferior, são outliers\n",
    "    \"\"\"\n",
    "    Q1 = df[ft].quantile(0.25)\n",
    "    Q3 = df[ft].quantile(0.75)\n",
    "    IQR = Q3 - Q1\n",
    "    \n",
    "    LI = Q1 - 1.5*IQR\n",
    "    LS = Q3 + 1.5*IQR\n",
    "    \n",
    "    lista_indices = df.index[ (df[ft] < LI) | (df[ft] > LS) ]\n",
    "    \n",
    "    return lista_indices"
   ]
  },
  {
   "cell_type": "code",
   "execution_count": 35,
   "id": "668eea7f",
   "metadata": {},
   "outputs": [],
   "source": [
    "# Cria-se uma lista vazia para armazenar os índices de saídas de múltiplas colunas \n",
    "# (somente caso se quisesse tirar outliers de multiplas colunas)\n",
    "index_list = []\n",
    "for feature in [\"Preço\", \"TotalReviews\"]:\n",
    "    index_list.extend(outliers_indexes(df, feature))"
   ]
  },
  {
   "cell_type": "code",
   "execution_count": 36,
   "id": "98e785fe",
   "metadata": {},
   "outputs": [],
   "source": [
    "outliers_index_list = outliers_indexes(df, 'Preço')"
   ]
  },
  {
   "cell_type": "code",
   "execution_count": 37,
   "id": "ce941248",
   "metadata": {},
   "outputs": [
    {
     "data": {
      "text/plain": [
       "8"
      ]
     },
     "execution_count": 37,
     "metadata": {},
     "output_type": "execute_result"
    }
   ],
   "source": [
    "len(outliers_index_list)"
   ]
  },
  {
   "cell_type": "markdown",
   "id": "52018c79",
   "metadata": {},
   "source": [
    "### Função de Remoção de Outliers"
   ]
  },
  {
   "cell_type": "markdown",
   "id": "66d3f358",
   "metadata": {},
   "source": [
    "Por fim, define-se uma função para a remoção de todos os registros que contém outliers, tendo a lista de índices como input"
   ]
  },
  {
   "cell_type": "code",
   "execution_count": 38,
   "id": "d8c35a42",
   "metadata": {},
   "outputs": [],
   "source": [
    "def remove_outliers(df, index_list):\n",
    "    index_list = sorted(set(index_list))\n",
    "    # Drop dos outliers\n",
    "    df = df.drop(index_list)\n",
    "    return df   "
   ]
  },
  {
   "cell_type": "markdown",
   "id": "ae694c4d",
   "metadata": {},
   "source": [
    "### Limpa-se o dataframe dos outliers"
   ]
  },
  {
   "cell_type": "code",
   "execution_count": 39,
   "id": "2c593011",
   "metadata": {},
   "outputs": [],
   "source": [
    "df_clean = remove_outliers(df, outliers_index_list)"
   ]
  },
  {
   "cell_type": "code",
   "execution_count": 40,
   "id": "29614510",
   "metadata": {},
   "outputs": [
    {
     "data": {
      "text/plain": [
       "(242, 5)"
      ]
     },
     "execution_count": 40,
     "metadata": {},
     "output_type": "execute_result"
    }
   ],
   "source": [
    "df_clean.shape"
   ]
  },
  {
   "cell_type": "markdown",
   "id": "9fdbcbf7",
   "metadata": {},
   "source": [
    "Foram removidos 8 registros, exatamente como esperado"
   ]
  },
  {
   "cell_type": "markdown",
   "id": "87d7c8b9",
   "metadata": {},
   "source": [
    "## Histograma: Distribuição de Frequência (Outliers removidos)"
   ]
  },
  {
   "cell_type": "code",
   "execution_count": 45,
   "id": "d841c6ec",
   "metadata": {},
   "outputs": [
    {
     "data": {
      "image/png": "[encoded data removed]",
      "text/plain": [
       "<Figure size 842.4x595.44 with 1 Axes>"
      ]
     },
     "metadata": {},
     "output_type": "display_data"
    }
   ],
   "source": [
    "sns.set(style=\"darkgrid\")\n",
    "sns.set(rc={'figure.figsize':(11.7,8.27)})\n",
    "histplot = sns.histplot(data=df_clean, x='Preço', linewidth=1, bins=30, kde=True)\n",
    "histplot.axes.set_title(\"Histograma de Preços dos Notebooks\", fontsize=16)\n",
    "histplot.set_xlabel(\"Preço\", fontsize=14)\n",
    "histplot.set_ylabel(\"Frequência\", fontsize=14)\n",
    "plt.show()"
   ]
  },
  {
   "cell_type": "markdown",
   "id": "436596c7",
   "metadata": {},
   "source": [
    "### Boxplt sem Outliers"
   ]
  },
  {
   "cell_type": "code",
   "execution_count": 46,
   "id": "def03ce6",
   "metadata": {},
   "outputs": [
    {
     "data": {
      "image/png": "[encoded data removed]",
      "text/plain": [
       "<Figure size 842.4x595.44 with 1 Axes>"
      ]
     },
     "metadata": {},
     "output_type": "display_data"
    }
   ],
   "source": [
    "sns.set(style=\"darkgrid\")\n",
    "sns.set(rc={'figure.figsize':(11.7,8.27)})\n",
    "boxplot = sns.boxplot(data=df_clean['Preço'], linewidth=2.5, width=0.25)\n",
    "boxplot.axes.set_title(\"Boxplot Preços dos Notebooks\", fontsize=16)\n",
    "boxplot.set_xlabel(\"Notebook\", fontsize=14)\n",
    "boxplot.set_ylabel(\"Preço\", fontsize=14)\n",
    "plt.show()"
   ]
  },
  {
   "cell_type": "markdown",
   "id": "8354ddc6",
   "metadata": {},
   "source": [
    "### Estatística descritiva, sem outliers"
   ]
  },
  {
   "cell_type": "code",
   "execution_count": 48,
   "id": "e200559a",
   "metadata": {},
   "outputs": [
    {
     "data": {
      "text/html": [
       "<div>\n",
       "<style scoped>\n",
       "    .dataframe tbody tr th:only-of-type {\n",
       "        vertical-align: middle;\n",
       "    }\n",
       "\n",
       "    .dataframe tbody tr th {\n",
       "        vertical-align: top;\n",
       "    }\n",
       "\n",
       "    .dataframe thead th {\n",
       "        text-align: right;\n",
       "    }\n",
       "</style>\n",
       "<table border=\"1\" class=\"dataframe\">\n",
       "  <thead>\n",
       "    <tr style=\"text-align: right;\">\n",
       "      <th></th>\n",
       "      <th>TotalReviews</th>\n",
       "      <th>Preço</th>\n",
       "    </tr>\n",
       "  </thead>\n",
       "  <tbody>\n",
       "    <tr>\n",
       "      <th>count</th>\n",
       "      <td>242.00</td>\n",
       "      <td>242.00</td>\n",
       "    </tr>\n",
       "    <tr>\n",
       "      <th>mean</th>\n",
       "      <td>9.61</td>\n",
       "      <td>3770.79</td>\n",
       "    </tr>\n",
       "    <tr>\n",
       "      <th>std</th>\n",
       "      <td>26.13</td>\n",
       "      <td>1540.73</td>\n",
       "    </tr>\n",
       "    <tr>\n",
       "      <th>min</th>\n",
       "      <td>0.00</td>\n",
       "      <td>0.00</td>\n",
       "    </tr>\n",
       "    <tr>\n",
       "      <th>25%</th>\n",
       "      <td>0.00</td>\n",
       "      <td>2687.32</td>\n",
       "    </tr>\n",
       "    <tr>\n",
       "      <th>50%</th>\n",
       "      <td>1.00</td>\n",
       "      <td>3609.52</td>\n",
       "    </tr>\n",
       "    <tr>\n",
       "      <th>75%</th>\n",
       "      <td>5.00</td>\n",
       "      <td>4805.10</td>\n",
       "    </tr>\n",
       "    <tr>\n",
       "      <th>max</th>\n",
       "      <td>160.00</td>\n",
       "      <td>7999.00</td>\n",
       "    </tr>\n",
       "  </tbody>\n",
       "</table>\n",
       "</div>"
      ],
      "text/plain": [
       "       TotalReviews    Preço\n",
       "count        242.00   242.00\n",
       "mean           9.61  3770.79\n",
       "std           26.13  1540.73\n",
       "min            0.00     0.00\n",
       "25%            0.00  2687.32\n",
       "50%            1.00  3609.52\n",
       "75%            5.00  4805.10\n",
       "max          160.00  7999.00"
      ]
     },
     "execution_count": 48,
     "metadata": {},
     "output_type": "execute_result"
    }
   ],
   "source": [
    "df_clean.describe().round(2)"
   ]
  },
  {
   "cell_type": "markdown",
   "id": "a084c251",
   "metadata": {},
   "source": [
    "**Um interessante ponto é a distribuição de preço com um desvio padrão de 1500 R$, como geralmente é esperado, quanto melhor é a configuração maior é o preço, onde geralmente é essa a diferença**"
   ]
  },
  {
   "cell_type": "markdown",
   "id": "af56a1f7",
   "metadata": {},
   "source": [
    "### Item mais caro (Com Outliers)"
   ]
  },
  {
   "cell_type": "code",
   "execution_count": 53,
   "id": "7f175c1d",
   "metadata": {},
   "outputs": [
    {
     "data": {
      "text/html": [
       "<div>\n",
       "<style scoped>\n",
       "    .dataframe tbody tr th:only-of-type {\n",
       "        vertical-align: middle;\n",
       "    }\n",
       "\n",
       "    .dataframe tbody tr th {\n",
       "        vertical-align: top;\n",
       "    }\n",
       "\n",
       "    .dataframe thead th {\n",
       "        text-align: right;\n",
       "    }\n",
       "</style>\n",
       "<table border=\"1\" class=\"dataframe\">\n",
       "  <thead>\n",
       "    <tr style=\"text-align: right;\">\n",
       "      <th></th>\n",
       "      <th>Descrição</th>\n",
       "      <th>TotalReviews</th>\n",
       "      <th>Preço</th>\n",
       "      <th>Url</th>\n",
       "      <th>Loja</th>\n",
       "    </tr>\n",
       "  </thead>\n",
       "  <tbody>\n",
       "    <tr>\n",
       "      <th>239</th>\n",
       "      <td>Notebook Dell Alienware x17 R1 AW17-X17R1-M30S...</td>\n",
       "      <td>0</td>\n",
       "      <td>33029.1</td>\n",
       "      <td>https://www.americanas.com.br/produto/34731980...</td>\n",
       "      <td>Americanas</td>\n",
       "    </tr>\n",
       "  </tbody>\n",
       "</table>\n",
       "</div>"
      ],
      "text/plain": [
       "                                             Descrição  TotalReviews    Preço  \\\n",
       "239  Notebook Dell Alienware x17 R1 AW17-X17R1-M30S...             0  33029.1   \n",
       "\n",
       "                                                   Url        Loja  \n",
       "239  https://www.americanas.com.br/produto/34731980...  Americanas  "
      ]
     },
     "execution_count": 53,
     "metadata": {},
     "output_type": "execute_result"
    }
   ],
   "source": [
    "df_mask = df['Preço']==max(df['Preço'])\n",
    "filtered_df = df[df_mask]\n",
    "filtered_df"
   ]
  },
  {
   "cell_type": "markdown",
   "id": "48027b67",
   "metadata": {},
   "source": [
    "## Item mais caro (Sem Outliers)"
   ]
  },
  {
   "cell_type": "code",
   "execution_count": 54,
   "id": "09b94682",
   "metadata": {},
   "outputs": [
    {
     "data": {
      "text/html": [
       "<div>\n",
       "<style scoped>\n",
       "    .dataframe tbody tr th:only-of-type {\n",
       "        vertical-align: middle;\n",
       "    }\n",
       "\n",
       "    .dataframe tbody tr th {\n",
       "        vertical-align: top;\n",
       "    }\n",
       "\n",
       "    .dataframe thead th {\n",
       "        text-align: right;\n",
       "    }\n",
       "</style>\n",
       "<table border=\"1\" class=\"dataframe\">\n",
       "  <thead>\n",
       "    <tr style=\"text-align: right;\">\n",
       "      <th></th>\n",
       "      <th>Descrição</th>\n",
       "      <th>TotalReviews</th>\n",
       "      <th>Preço</th>\n",
       "      <th>Url</th>\n",
       "      <th>Loja</th>\n",
       "    </tr>\n",
       "  </thead>\n",
       "  <tbody>\n",
       "    <tr>\n",
       "      <th>44</th>\n",
       "      <td>Notebook Gamer Aspire Nitro 5 AN515-44-R8HN am...</td>\n",
       "      <td>8</td>\n",
       "      <td>7999.0</td>\n",
       "      <td>https://www.americanas.com.br/produto/37803924...</td>\n",
       "      <td>Americanas</td>\n",
       "    </tr>\n",
       "  </tbody>\n",
       "</table>\n",
       "</div>"
      ],
      "text/plain": [
       "                                            Descrição  TotalReviews   Preço  \\\n",
       "44  Notebook Gamer Aspire Nitro 5 AN515-44-R8HN am...             8  7999.0   \n",
       "\n",
       "                                                  Url        Loja  \n",
       "44  https://www.americanas.com.br/produto/37803924...  Americanas  "
      ]
     },
     "execution_count": 54,
     "metadata": {},
     "output_type": "execute_result"
    }
   ],
   "source": [
    "df_mask = df_clean['Preço']==max(df_clean['Preço'])\n",
    "filtered_df = df_clean[df_mask]\n",
    "filtered_df"
   ]
  },
  {
   "cell_type": "markdown",
   "id": "87b0001b",
   "metadata": {},
   "source": [
    "### 5 itens com preço menor ou igual a média"
   ]
  },
  {
   "cell_type": "code",
   "execution_count": 56,
   "id": "21cfd0b8",
   "metadata": {},
   "outputs": [
    {
     "data": {
      "text/html": [
       "<div>\n",
       "<style scoped>\n",
       "    .dataframe tbody tr th:only-of-type {\n",
       "        vertical-align: middle;\n",
       "    }\n",
       "\n",
       "    .dataframe tbody tr th {\n",
       "        vertical-align: top;\n",
       "    }\n",
       "\n",
       "    .dataframe thead th {\n",
       "        text-align: right;\n",
       "    }\n",
       "</style>\n",
       "<table border=\"1\" class=\"dataframe\">\n",
       "  <thead>\n",
       "    <tr style=\"text-align: right;\">\n",
       "      <th></th>\n",
       "      <th>Descrição</th>\n",
       "      <th>TotalReviews</th>\n",
       "      <th>Preço</th>\n",
       "      <th>Url</th>\n",
       "      <th>Loja</th>\n",
       "    </tr>\n",
       "  </thead>\n",
       "  <tbody>\n",
       "    <tr>\n",
       "      <th>192</th>\n",
       "      <td>Notebook Acer Aspire 5 A515-51G-50W8 Intel Cor...</td>\n",
       "      <td>0</td>\n",
       "      <td>3713.39</td>\n",
       "      <td>https://www.americanas.com.br/produto/48713303...</td>\n",
       "      <td>Americanas</td>\n",
       "    </tr>\n",
       "    <tr>\n",
       "      <th>53</th>\n",
       "      <td>Notebook Samsung Book Intel Core i5-1135G7 8GB...</td>\n",
       "      <td>4</td>\n",
       "      <td>3699.99</td>\n",
       "      <td>https://www.americanas.com.br/produto/30813579...</td>\n",
       "      <td>Americanas</td>\n",
       "    </tr>\n",
       "    <tr>\n",
       "      <th>191</th>\n",
       "      <td>Notebook Lenovo Ultrafino ideapad S145 Dual Co...</td>\n",
       "      <td>9</td>\n",
       "      <td>3697.00</td>\n",
       "      <td>https://www.americanas.com.br/produto/18191913...</td>\n",
       "      <td>Americanas</td>\n",
       "    </tr>\n",
       "    <tr>\n",
       "      <th>160</th>\n",
       "      <td>Notebook Samsung i5 8GB 1TB 15,6 Book Win10 Ci...</td>\n",
       "      <td>1</td>\n",
       "      <td>3695.12</td>\n",
       "      <td>https://www.americanas.com.br/produto/32476901...</td>\n",
       "      <td>Americanas</td>\n",
       "    </tr>\n",
       "    <tr>\n",
       "      <th>13</th>\n",
       "      <td>Notebook Dell Inspiron 3501-M46P 15.6\" HD 10ª ...</td>\n",
       "      <td>9</td>\n",
       "      <td>3695.12</td>\n",
       "      <td>https://www.americanas.com.br/produto/37146830...</td>\n",
       "      <td>Americanas</td>\n",
       "    </tr>\n",
       "  </tbody>\n",
       "</table>\n",
       "</div>"
      ],
      "text/plain": [
       "                                             Descrição  TotalReviews    Preço  \\\n",
       "192  Notebook Acer Aspire 5 A515-51G-50W8 Intel Cor...             0  3713.39   \n",
       "53   Notebook Samsung Book Intel Core i5-1135G7 8GB...             4  3699.99   \n",
       "191  Notebook Lenovo Ultrafino ideapad S145 Dual Co...             9  3697.00   \n",
       "160  Notebook Samsung i5 8GB 1TB 15,6 Book Win10 Ci...             1  3695.12   \n",
       "13   Notebook Dell Inspiron 3501-M46P 15.6\" HD 10ª ...             9  3695.12   \n",
       "\n",
       "                                                   Url        Loja  \n",
       "192  https://www.americanas.com.br/produto/48713303...  Americanas  \n",
       "53   https://www.americanas.com.br/produto/30813579...  Americanas  \n",
       "191  https://www.americanas.com.br/produto/18191913...  Americanas  \n",
       "160  https://www.americanas.com.br/produto/32476901...  Americanas  \n",
       "13   https://www.americanas.com.br/produto/37146830...  Americanas  "
      ]
     },
     "execution_count": 56,
     "metadata": {},
     "output_type": "execute_result"
    }
   ],
   "source": [
    "df_mask = df_clean['Preço']<=df_clean['Preço'].mean()\n",
    "filtered_df = df_clean[df_mask]\n",
    "filtered_df.sort_values(by=['Preço'], ascending=False)[:5]"
   ]
  },
  {
   "cell_type": "code",
   "execution_count": null,
   "id": "32221eeb",
   "metadata": {},
   "outputs": [],
   "source": []
  },
  {
   "cell_type": "code",
   "execution_count": null,
   "id": "8f7df702",
   "metadata": {},
   "outputs": [],
   "source": []
  },
  {
   "cell_type": "markdown",
   "id": "7e70aa8f",
   "metadata": {},
   "source": [
    "## Adicionando Modelos"
   ]
  },
  {
   "cell_type": "code",
   "execution_count": 57,
   "id": "3e1d1906",
   "metadata": {},
   "outputs": [
    {
     "data": {
      "text/html": [
       "<div>\n",
       "<style scoped>\n",
       "    .dataframe tbody tr th:only-of-type {\n",
       "        vertical-align: middle;\n",
       "    }\n",
       "\n",
       "    .dataframe tbody tr th {\n",
       "        vertical-align: top;\n",
       "    }\n",
       "\n",
       "    .dataframe thead th {\n",
       "        text-align: right;\n",
       "    }\n",
       "</style>\n",
       "<table border=\"1\" class=\"dataframe\">\n",
       "  <thead>\n",
       "    <tr style=\"text-align: right;\">\n",
       "      <th></th>\n",
       "      <th>Descrição</th>\n",
       "      <th>TotalReviews</th>\n",
       "      <th>Preço</th>\n",
       "      <th>Url</th>\n",
       "      <th>Loja</th>\n",
       "    </tr>\n",
       "  </thead>\n",
       "  <tbody>\n",
       "    <tr>\n",
       "      <th>6</th>\n",
       "      <td>Notebook Acer Aspire 5 A514-53-39KH Intel Core...</td>\n",
       "      <td>19</td>\n",
       "      <td>3068.07</td>\n",
       "      <td>https://www.americanas.com.br/produto/31948572...</td>\n",
       "      <td>Americanas</td>\n",
       "    </tr>\n",
       "    <tr>\n",
       "      <th>16</th>\n",
       "      <td>Notebook Gamer Acer Nitro 5 AN515-54-574Q Inte...</td>\n",
       "      <td>18</td>\n",
       "      <td>5129.05</td>\n",
       "      <td>https://www.americanas.com.br/produto/17880095...</td>\n",
       "      <td>Americanas</td>\n",
       "    </tr>\n",
       "    <tr>\n",
       "      <th>29</th>\n",
       "      <td>Notebook Acer Aspire 5 A515-54G-52C1 Intel Cor...</td>\n",
       "      <td>35</td>\n",
       "      <td>4169.55</td>\n",
       "      <td>https://www.americanas.com.br/produto/32810433...</td>\n",
       "      <td>Americanas</td>\n",
       "    </tr>\n",
       "    <tr>\n",
       "      <th>36</th>\n",
       "      <td>Notebook Acer Aspire 3 Intel Celeron 4GB 1TB E...</td>\n",
       "      <td>16</td>\n",
       "      <td>2483.10</td>\n",
       "      <td>https://www.americanas.com.br/produto/18500941...</td>\n",
       "      <td>Americanas</td>\n",
       "    </tr>\n",
       "    <tr>\n",
       "      <th>42</th>\n",
       "      <td>Notebook Acer Aspire 5 A514-54G-54Y4 Intel Cor...</td>\n",
       "      <td>0</td>\n",
       "      <td>4060.34</td>\n",
       "      <td>https://www.americanas.com.br/produto/38250890...</td>\n",
       "      <td>Americanas</td>\n",
       "    </tr>\n",
       "  </tbody>\n",
       "</table>\n",
       "</div>"
      ],
      "text/plain": [
       "                                            Descrição  TotalReviews    Preço  \\\n",
       "6   Notebook Acer Aspire 5 A514-53-39KH Intel Core...            19  3068.07   \n",
       "16  Notebook Gamer Acer Nitro 5 AN515-54-574Q Inte...            18  5129.05   \n",
       "29  Notebook Acer Aspire 5 A515-54G-52C1 Intel Cor...            35  4169.55   \n",
       "36  Notebook Acer Aspire 3 Intel Celeron 4GB 1TB E...            16  2483.10   \n",
       "42  Notebook Acer Aspire 5 A514-54G-54Y4 Intel Cor...             0  4060.34   \n",
       "\n",
       "                                                  Url        Loja  \n",
       "6   https://www.americanas.com.br/produto/31948572...  Americanas  \n",
       "16  https://www.americanas.com.br/produto/17880095...  Americanas  \n",
       "29  https://www.americanas.com.br/produto/32810433...  Americanas  \n",
       "36  https://www.americanas.com.br/produto/18500941...  Americanas  \n",
       "42  https://www.americanas.com.br/produto/38250890...  Americanas  "
      ]
     },
     "execution_count": 57,
     "metadata": {},
     "output_type": "execute_result"
    }
   ],
   "source": [
    "objeto = \"Acer\"\n",
    "df_clean[df_clean[\"Descrição\"].str.lower().str.contains(objeto.lower())].head()"
   ]
  },
  {
   "cell_type": "code",
   "execution_count": 60,
   "id": "dbda875e",
   "metadata": {},
   "outputs": [],
   "source": [
    "modelos = [\"lenovo\", \"positivo\", \"samsung\", \"dell\", \"acer\", \"apple\" ]\n",
    "count = 0\n",
    "df_clean[\"Modelo\"] = np.NaN\n",
    "\n",
    "for index, row in df_clean.iterrows():\n",
    "    for modelo in modelos:\n",
    "        if modelo in row[\"Descrição\"].lower():\n",
    "            df_clean.loc[index, \"Modelo\"] = modelo.capitalize()\n",
    "            \n"
   ]
  },
  {
   "cell_type": "code",
   "execution_count": 61,
   "id": "946607b1",
   "metadata": {},
   "outputs": [
    {
     "data": {
      "text/html": [
       "<div>\n",
       "<style scoped>\n",
       "    .dataframe tbody tr th:only-of-type {\n",
       "        vertical-align: middle;\n",
       "    }\n",
       "\n",
       "    .dataframe tbody tr th {\n",
       "        vertical-align: top;\n",
       "    }\n",
       "\n",
       "    .dataframe thead th {\n",
       "        text-align: right;\n",
       "    }\n",
       "</style>\n",
       "<table border=\"1\" class=\"dataframe\">\n",
       "  <thead>\n",
       "    <tr style=\"text-align: right;\">\n",
       "      <th></th>\n",
       "      <th>Descrição</th>\n",
       "      <th>TotalReviews</th>\n",
       "      <th>Preço</th>\n",
       "      <th>Url</th>\n",
       "      <th>Loja</th>\n",
       "      <th>Modelo</th>\n",
       "    </tr>\n",
       "  </thead>\n",
       "  <tbody>\n",
       "    <tr>\n",
       "      <th>0</th>\n",
       "      <td>Notebook Lenovo Ultrafino Ideapad 3i Intel Cor...</td>\n",
       "      <td>54</td>\n",
       "      <td>3562.49</td>\n",
       "      <td>https://www.americanas.com.br/produto/31713181...</td>\n",
       "      <td>Americanas</td>\n",
       "      <td>Lenovo</td>\n",
       "    </tr>\n",
       "    <tr>\n",
       "      <th>1</th>\n",
       "      <td>Notebook Samsung Book Intel Celeron-6305 4GB 5...</td>\n",
       "      <td>88</td>\n",
       "      <td>2159.13</td>\n",
       "      <td>https://www.americanas.com.br/produto/30813587...</td>\n",
       "      <td>Americanas</td>\n",
       "      <td>Samsung</td>\n",
       "    </tr>\n",
       "    <tr>\n",
       "      <th>2</th>\n",
       "      <td>Notebook Samsung Book Intel Core i5-1135G7 8GB...</td>\n",
       "      <td>0</td>\n",
       "      <td>3553.74</td>\n",
       "      <td>https://www.americanas.com.br/produto/30813588...</td>\n",
       "      <td>Americanas</td>\n",
       "      <td>Samsung</td>\n",
       "    </tr>\n",
       "    <tr>\n",
       "      <th>3</th>\n",
       "      <td>Notebook Lenovo Ultrafino Ideapad S145 AMD Ryz...</td>\n",
       "      <td>7</td>\n",
       "      <td>2952.76</td>\n",
       "      <td>https://www.americanas.com.br/produto/33836426...</td>\n",
       "      <td>Americanas</td>\n",
       "      <td>Lenovo</td>\n",
       "    </tr>\n",
       "    <tr>\n",
       "      <th>4</th>\n",
       "      <td>Notebook Positivo Motion Q464C Intel Atom Z835...</td>\n",
       "      <td>72</td>\n",
       "      <td>1424.99</td>\n",
       "      <td>https://www.americanas.com.br/produto/28311550...</td>\n",
       "      <td>Americanas</td>\n",
       "      <td>Positivo</td>\n",
       "    </tr>\n",
       "    <tr>\n",
       "      <th>...</th>\n",
       "      <td>...</td>\n",
       "      <td>...</td>\n",
       "      <td>...</td>\n",
       "      <td>...</td>\n",
       "      <td>...</td>\n",
       "      <td>...</td>\n",
       "    </tr>\n",
       "    <tr>\n",
       "      <th>245</th>\n",
       "      <td>Notebook Multilaser M8W Plus 2 em 1 Hibrido In...</td>\n",
       "      <td>8</td>\n",
       "      <td>1101.04</td>\n",
       "      <td>https://www.americanas.com.br/produto/18854915...</td>\n",
       "      <td>Americanas</td>\n",
       "      <td>NaN</td>\n",
       "    </tr>\n",
       "    <tr>\n",
       "      <th>246</th>\n",
       "      <td>Notebook Lenovo IdeaPad 330 15.6 Intel Dual Co...</td>\n",
       "      <td>9</td>\n",
       "      <td>3599.00</td>\n",
       "      <td>https://www.americanas.com.br/produto/15071328...</td>\n",
       "      <td>Americanas</td>\n",
       "      <td>Lenovo</td>\n",
       "    </tr>\n",
       "    <tr>\n",
       "      <th>247</th>\n",
       "      <td>Notebook Dell Inspiron 3501-M80P 15.6\" HD 11ª ...</td>\n",
       "      <td>2</td>\n",
       "      <td>5579.10</td>\n",
       "      <td>https://www.americanas.com.br/produto/30868304...</td>\n",
       "      <td>Americanas</td>\n",
       "      <td>Dell</td>\n",
       "    </tr>\n",
       "    <tr>\n",
       "      <th>248</th>\n",
       "      <td>Notebook Lenovo Yoga 7i 2 em 1 14\" i7-1165G7 8...</td>\n",
       "      <td>2</td>\n",
       "      <td>7679.00</td>\n",
       "      <td>https://www.americanas.com.br/produto/36281013...</td>\n",
       "      <td>Americanas</td>\n",
       "      <td>Lenovo</td>\n",
       "    </tr>\n",
       "    <tr>\n",
       "      <th>249</th>\n",
       "      <td>Notebook Samsung i7 8GB 256GB 15,6 Book Win10 ...</td>\n",
       "      <td>0</td>\n",
       "      <td>4487.12</td>\n",
       "      <td>https://www.americanas.com.br/produto/32823544...</td>\n",
       "      <td>Americanas</td>\n",
       "      <td>Samsung</td>\n",
       "    </tr>\n",
       "  </tbody>\n",
       "</table>\n",
       "<p>242 rows × 6 columns</p>\n",
       "</div>"
      ],
      "text/plain": [
       "                                             Descrição  TotalReviews    Preço  \\\n",
       "0    Notebook Lenovo Ultrafino Ideapad 3i Intel Cor...            54  3562.49   \n",
       "1    Notebook Samsung Book Intel Celeron-6305 4GB 5...            88  2159.13   \n",
       "2    Notebook Samsung Book Intel Core i5-1135G7 8GB...             0  3553.74   \n",
       "3    Notebook Lenovo Ultrafino Ideapad S145 AMD Ryz...             7  2952.76   \n",
       "4    Notebook Positivo Motion Q464C Intel Atom Z835...            72  1424.99   \n",
       "..                                                 ...           ...      ...   \n",
       "245  Notebook Multilaser M8W Plus 2 em 1 Hibrido In...             8  1101.04   \n",
       "246  Notebook Lenovo IdeaPad 330 15.6 Intel Dual Co...             9  3599.00   \n",
       "247  Notebook Dell Inspiron 3501-M80P 15.6\" HD 11ª ...             2  5579.10   \n",
       "248  Notebook Lenovo Yoga 7i 2 em 1 14\" i7-1165G7 8...             2  7679.00   \n",
       "249  Notebook Samsung i7 8GB 256GB 15,6 Book Win10 ...             0  4487.12   \n",
       "\n",
       "                                                   Url        Loja    Modelo  \n",
       "0    https://www.americanas.com.br/produto/31713181...  Americanas    Lenovo  \n",
       "1    https://www.americanas.com.br/produto/30813587...  Americanas   Samsung  \n",
       "2    https://www.americanas.com.br/produto/30813588...  Americanas   Samsung  \n",
       "3    https://www.americanas.com.br/produto/33836426...  Americanas    Lenovo  \n",
       "4    https://www.americanas.com.br/produto/28311550...  Americanas  Positivo  \n",
       "..                                                 ...         ...       ...  \n",
       "245  https://www.americanas.com.br/produto/18854915...  Americanas       NaN  \n",
       "246  https://www.americanas.com.br/produto/15071328...  Americanas    Lenovo  \n",
       "247  https://www.americanas.com.br/produto/30868304...  Americanas      Dell  \n",
       "248  https://www.americanas.com.br/produto/36281013...  Americanas    Lenovo  \n",
       "249  https://www.americanas.com.br/produto/32823544...  Americanas   Samsung  \n",
       "\n",
       "[242 rows x 6 columns]"
      ]
     },
     "execution_count": 61,
     "metadata": {},
     "output_type": "execute_result"
    }
   ],
   "source": [
    "df_clean"
   ]
  },
  {
   "cell_type": "markdown",
   "id": "6f1e3578",
   "metadata": {},
   "source": [
    "## Retirando os modelos não encontrados"
   ]
  },
  {
   "cell_type": "code",
   "execution_count": 64,
   "id": "451978fa",
   "metadata": {},
   "outputs": [
    {
     "data": {
      "text/plain": [
       "(185, 6)"
      ]
     },
     "execution_count": 64,
     "metadata": {},
     "output_type": "execute_result"
    }
   ],
   "source": [
    "df_clean = df_clean[df_clean[\"Modelo\"].notna()]\n",
    "df_clean.shape"
   ]
  },
  {
   "cell_type": "markdown",
   "id": "5b5f307b",
   "metadata": {},
   "source": [
    "### Visualizando alguns dados utilizando o SEABORN"
   ]
  },
  {
   "cell_type": "code",
   "execution_count": 65,
   "id": "7223c15b",
   "metadata": {},
   "outputs": [
    {
     "data": {
      "text/plain": [
       "<seaborn.axisgrid.PairGrid at 0x282ed78a220>"
      ]
     },
     "execution_count": 65,
     "metadata": {},
     "output_type": "execute_result"
    },
    {
     "data": {
      "image/png": "[encoded data removed]",
      "text/plain": [
       "<Figure size 446.1x360 with 6 Axes>"
      ]
     },
     "metadata": {},
     "output_type": "display_data"
    }
   ],
   "source": [
    "sns.pairplot(data=df_clean, hue=\"Modelo\")\n"
   ]
  },
  {
   "cell_type": "code",
   "execution_count": 68,
   "id": "c09e1247",
   "metadata": {},
   "outputs": [
    {
     "data": {
      "text/plain": [
       "<seaborn.axisgrid.JointGrid at 0x282ea8e5ee0>"
      ]
     },
     "execution_count": 68,
     "metadata": {},
     "output_type": "execute_result"
    },
    {
     "data": {
      "image/png": "[encoded data removed]",
      "text/plain": [
       "<Figure size 432x432 with 3 Axes>"
      ]
     },
     "metadata": {},
     "output_type": "display_data"
    }
   ],
   "source": [
    "sns.jointplot(data=df_clean, x=\"Preço\", y=\"TotalReviews\", hue=\"Modelo\", kind=\"hist\")\n"
   ]
  },
  {
   "cell_type": "code",
   "execution_count": null,
   "id": "87171917",
   "metadata": {},
   "outputs": [],
   "source": []
  }
 ],
 "metadata": {
  "kernelspec": {
   "display_name": "Python 3",
   "language": "python",
   "name": "python3"
  },
  "language_info": {
   "codemirror_mode": {
    "name": "ipython",
    "version": 3
   },
   "file_extension": ".py",
   "mimetype": "text/x-python",
   "name": "python",
   "nbconvert_exporter": "python",
   "pygments_lexer": "ipython3",
   "version": "3.8.8"
  }
 },
 "nbformat": 4,
 "nbformat_minor": 5
}
