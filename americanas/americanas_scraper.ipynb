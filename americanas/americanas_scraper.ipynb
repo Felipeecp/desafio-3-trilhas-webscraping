{
 "cells": [
  {
   "cell_type": "code",
   "execution_count": 1,
   "id": "4bc2416c",
   "metadata": {},
   "outputs": [],
   "source": [
    "import pandas as pd\n",
    "from bs4 import BeautifulSoup\n",
    "from selenium import webdriver\n",
    "from webdriver_manager.chrome import ChromeDriverManager\n",
    "from selenium.common.exceptions import TimeoutException\n",
    "from selenium.webdriver.support.ui import WebDriverWait\n",
    "from selenium.webdriver.support import expected_conditions as EC\n",
    "from selenium.webdriver.common.by import By\n",
    "import time"
   ]
  },
  {
   "cell_type": "code",
   "execution_count": 2,
   "id": "5109d519",
   "metadata": {},
   "outputs": [],
   "source": [
    "def get_html(url)->BeautifulSoup:\n",
    "    driver = webdriver.Chrome()\n",
    "    driver.get(url)\n",
    "    try:\n",
    "        element_present = EC.presence_of_element_located((By.CSS_SELECTOR, '.cxLeGg'))\n",
    "        WebDriverWait(driver, 15).until(element_present)\n",
    "        soup = BeautifulSoup(driver.page_source, 'html.parser')\n",
    "    except:\n",
    "        soup = BeautifulSoup(\"<body><tagerroramericanas>ERRORCARREGAMENTO404</tagerroramericanas></body>\", 'html.parser')\n",
    "    finally:\n",
    "        driver.close()\n",
    "        driver.quit()\n",
    "        return soup"
   ]
  },
  {
   "cell_type": "code",
   "execution_count": 3,
   "id": "537fd3c9",
   "metadata": {},
   "outputs": [],
   "source": [
    "def extrair_dados(soups, Listacards):\n",
    "    \"\"\"Essa função extrai todas as informações\"\"\"\n",
    "    try:\n",
    "        for soup in soups:\n",
    "            page_card = soup.body.find(\"div\", {\"class\": \"cxLeGg\"})\n",
    "            card_list = page_card.find_all(\"div\", {\"class\": \"fsViFX\"})\n",
    "            for item in card_list:\n",
    "                descricao = item.h3.text\n",
    "                Total_Reviews = item.span\n",
    "                try:\n",
    "                    Total_Reviews = int(Total_Reviews.getText().split()[0])\n",
    "                except:\n",
    "                    Total_Reviews = 0\n",
    "                Preco = item.find(\"span\", {\"class\":\"ijXFcq\"}) \n",
    "                try:\n",
    "                    Preco = Preco.text.split()[1].replace(\".\",\"\").replace(\",\",\".\")\n",
    "                except:\n",
    "                    Preco = 0\n",
    "                \n",
    "                url = \"https://www.americanas.com.br\" + item.a.get(\"href\")\n",
    "                \n",
    "                cards = {\"Descrição\": descricao,  \"TotalReviews\": Total_Reviews, \"Preço\": float(Preco), \"Url\": url, \"Loja\": \"Americanas\" }\n",
    "                Listacards.append(cards)\n",
    "    except:\n",
    "        Listacards = []"
   ]
  },
  {
   "cell_type": "code",
   "execution_count": 4,
   "id": "45748080",
   "metadata": {},
   "outputs": [],
   "source": [
    "def salvar_data_set(Listacards, pesquisa):\n",
    "    if len(Listacards) > 0:\n",
    "        dataset = pd.DataFrame(Listacards)\n",
    "        dataset.to_csv(f'output/dataset_{pesquisa}.csv'.replace(' ','_'), index = False, encoding = 'utf-8-sig', sep=\";\")\n",
    "        print(f\"Dataset salvo com sucesso : output/dataset_{pesquisa}.csv'\")\n",
    "    else:\n",
    "        print(\"Erro ao salvar o dataSET\")"
   ]
  },
  {
   "cell_type": "code",
   "execution_count": 5,
   "id": "93aa32d3",
   "metadata": {},
   "outputs": [],
   "source": [
    "def search_produto(pesquisa):\n",
    "    pesquisa_path = pesquisa.replace(' ','-')\n",
    "    urls = [f\"https://www.americanas.com.br/busca/{pesquisa_path}?limit=50&offset={x}\" for x in range(0, 350, 50)]\n",
    "    # LISTA DE TODOS OS HTLMS RETORNADOS\n",
    "    soups = []\n",
    "    \n",
    "    \n",
    "    for url in urls:\n",
    "        # ESSE WHILE NOS GARANTE QUE SEMPRE SERÁ RETORNADO O HTML CORRETO\n",
    "        while True: \n",
    "            soup = get_html(url)\n",
    "            try:\n",
    "                if \"ERRORCARREGAMENTO404\" not in soup.text:\n",
    "                    break\n",
    "            except:\n",
    "                pass\n",
    "            time.sleep(1)\n",
    "        soups.append(soup)\n",
    "       \n",
    "    # Criando uma lista para salvar todos os cards\n",
    "    Listacards = []\n",
    "    #extraindo as informações\n",
    "    extrair_dados(soups=soups, Listacards=Listacards )\n",
    "    #Salvando dataSet\n",
    "    salvar_data_set(Listacards=Listacards, pesquisa=pesquisa)\n",
    "    "
   ]
  },
  {
   "cell_type": "code",
   "execution_count": 6,
   "id": "ac9ee969",
   "metadata": {},
   "outputs": [
    {
     "name": "stdout",
     "output_type": "stream",
     "text": [
      "Dataset salvo com sucesso : output/dataset_notebook.csv'\n"
     ]
    }
   ],
   "source": [
    "search_produto(\"notebook\")"
   ]
  },
  {
   "cell_type": "code",
   "execution_count": 7,
   "id": "8db09c23",
   "metadata": {},
   "outputs": [
    {
     "name": "stdout",
     "output_type": "stream",
     "text": [
      "Dataset salvo com sucesso : output/dataset_smart tv.csv'\n"
     ]
    }
   ],
   "source": [
    "search_produto(\"smart tv\")\n"
   ]
  },
  {
   "cell_type": "code",
   "execution_count": 8,
   "id": "10a16c2c",
   "metadata": {},
   "outputs": [
    {
     "name": "stdout",
     "output_type": "stream",
     "text": [
      "Dataset salvo com sucesso : output/dataset_smartphone.csv'\n"
     ]
    }
   ],
   "source": [
    "search_produto(\"smartphone\")"
   ]
  },
  {
   "cell_type": "code",
   "execution_count": 10,
   "id": "3254c681",
   "metadata": {},
   "outputs": [
    {
     "name": "stdout",
     "output_type": "stream",
     "text": [
      "Dataset salvo com sucesso : output/dataset_geladeira.csv'\n"
     ]
    }
   ],
   "source": [
    "search_produto(\"geladeira\")"
   ]
  },
  {
   "cell_type": "code",
   "execution_count": null,
   "id": "218519b8",
   "metadata": {},
   "outputs": [],
   "source": []
  }
 ],
 "metadata": {
  "kernelspec": {
   "display_name": "Python 3",
   "language": "python",
   "name": "python3"
  },
  "language_info": {
   "codemirror_mode": {
    "name": "ipython",
    "version": 3
   },
   "file_extension": ".py",
   "mimetype": "text/x-python",
   "name": "python",
   "nbconvert_exporter": "python",
   "pygments_lexer": "ipython3",
   "version": "3.8.8"
  }
 },
 "nbformat": 4,
 "nbformat_minor": 5
}
