{
 "cells": [
  {
   "cell_type": "code",
   "execution_count": 2,
   "id": "4bc2416c",
   "metadata": {},
   "outputs": [],
   "source": [
    "import pandas as pd\n",
    "from bs4 import BeautifulSoup\n",
    "from selenium import webdriver\n",
    "from webdriver_manager.chrome import ChromeDriverManager\n",
    "import time\n",
    "import os"
   ]
  },
  {
   "cell_type": "code",
   "execution_count": 2,
   "id": "5109d519",
   "metadata": {},
   "outputs": [],
   "source": [
    "def pegarHtml(url)->BeautifulSoup:\n",
    "    driver = webdriver.Chrome()\n",
    "    driver.set_page_load_timeout(15)\n",
    "    driver.get(url)\n",
    "    soup = BeautifulSoup(driver.page_source, 'html.parser')\n",
    "    driver.close()\n",
    "    driver.quit()\n",
    "    return soup"
   ]
  },
  {
   "cell_type": "code",
   "execution_count": 66,
   "id": "12b63acd",
   "metadata": {},
   "outputs": [
    {
     "data": {
      "text/plain": [
       "['https://www.americanas.com.br/busca/smartphone?limit=75&offset=0',\n",
       " 'https://www.americanas.com.br/busca/smartphone?limit=75&offset=75',\n",
       " 'https://www.americanas.com.br/busca/smartphone?limit=75&offset=150',\n",
       " 'https://www.americanas.com.br/busca/smartphone?limit=75&offset=225',\n",
       " 'https://www.americanas.com.br/busca/smartphone?limit=75&offset=300',\n",
       " 'https://www.americanas.com.br/busca/smartphone?limit=75&offset=375',\n",
       " 'https://www.americanas.com.br/busca/smartphone?limit=75&offset=450',\n",
       " 'https://www.americanas.com.br/busca/smartphone?limit=75&offset=525',\n",
       " 'https://www.americanas.com.br/busca/smartphone?limit=75&offset=600',\n",
       " 'https://www.americanas.com.br/busca/smartphone?limit=75&offset=675',\n",
       " 'https://www.americanas.com.br/busca/smartphone?limit=75&offset=750',\n",
       " 'https://www.americanas.com.br/busca/smartphone?limit=75&offset=825',\n",
       " 'https://www.americanas.com.br/busca/smartphone?limit=75&offset=900',\n",
       " 'https://www.americanas.com.br/busca/smartphone?limit=75&offset=975',\n",
       " 'https://www.americanas.com.br/busca/smartphone?limit=75&offset=1050']"
      ]
     },
     "execution_count": 66,
     "metadata": {},
     "output_type": "execute_result"
    }
   ],
   "source": [
    "urls = [f\"https://www.americanas.com.br/busca/smartphone?limit=75&offset={x}\" for x in range(0, 1125, 75)]"
   ]
  },
  {
   "cell_type": "code",
   "execution_count": 4,
   "id": "dac1f041",
   "metadata": {
    "collapsed": true
   },
   "outputs": [
    {
     "name": "stdout",
     "output_type": "stream",
     "text": [
      "OK - CARREGAMENTO COMPLETO\n",
      "OK - CARREGAMENTO COMPLETO\n",
      "OK - CARREGAMENTO COMPLETO\n",
      "OK - CARREGAMENTO COMPLETO\n",
      "OK - CARREGAMENTO COMPLETO\n",
      "OK - CARREGAMENTO COMPLETO\n",
      "OK - CARREGAMENTO COMPLETO\n",
      "OK - CARREGAMENTO COMPLETO\n",
      "OK - CARREGAMENTO COMPLETO\n",
      "OK - CARREGAMENTO COMPLETO\n",
      "OK - CARREGAMENTO COMPLETO\n",
      "OK - CARREGAMENTO COMPLETO\n",
      "OK - CARREGAMENTO COMPLETO\n",
      "OK - CARREGAMENTO COMPLETO\n",
      "OK - CARREGAMENTO COMPLETO\n",
      "OK - CARREGAMENTO COMPLETO\n",
      "OK - CARREGAMENTO COMPLETO\n",
      "OK - CARREGAMENTO COMPLETO\n",
      "OK - CARREGAMENTO COMPLETO\n",
      "OK - CARREGAMENTO COMPLETO\n",
      "OK - CARREGAMENTO COMPLETO\n"
     ]
    }
   ],
   "source": [
    "soups = []\n",
    "for url in urls:\n",
    "    while True:  \n",
    "        soup = pegarHtml(url)\n",
    "        text = soup.body.select(\"div.grid__StyledGrid-sc-1man2hx-0.iFeuoP\")\n",
    "        string = \"cxLeGg\"\n",
    "        if (string in str(text)[:125]):\n",
    "            break\n",
    "    soups.append(soup)"
   ]
  },
  {
   "cell_type": "code",
   "execution_count": 49,
   "id": "60ad5ca8",
   "metadata": {},
   "outputs": [],
   "source": [
    "Listacards = []\n",
    "for soup in soups:\n",
    "    page_card = soup.body.find(\"div\", {\"class\": \"cxLeGg\"})\n",
    "    card_list = page_card.find_all(\"div\", {\"class\": \"fsViFX\"})\n",
    "    for item in card_list:\n",
    "        \n",
    "        descricao = item.h3.text\n",
    "        avaliacao = item.span\n",
    "        \n",
    "        try:\n",
    "            avaliacao = float(avaliacao.getText().split()[0])\n",
    "        except:\n",
    "            avaliacao = 0\n",
    "        preco = item.find(\"span\", {\"class\":\"ijXFcq\"}) \n",
    "        try:\n",
    "            preco = preco.text.split()[1]\n",
    "        except:\n",
    "            preco = 0\n",
    "        \n",
    "        url = \"https://www.americanas.com.br\" + item.a.get(\"href\")\n",
    "        \n",
    "        cards = {\"descricao\": descricao,  \"avaliacao\": avaliacao, \"preco\": preco, \"url\": url}\n",
    "        Listacards.append(cards)\n",
    "        "
   ]
  },
  {
   "cell_type": "code",
   "execution_count": 58,
   "id": "013e863c",
   "metadata": {},
   "outputs": [],
   "source": [
    "dataset = pd.DataFrame(Listacards)"
   ]
  },
  {
   "cell_type": "code",
   "execution_count": 59,
   "id": "b7565ec6",
   "metadata": {},
   "outputs": [
    {
     "data": {
      "text/html": [
       "<div>\n",
       "<style scoped>\n",
       "    .dataframe tbody tr th:only-of-type {\n",
       "        vertical-align: middle;\n",
       "    }\n",
       "\n",
       "    .dataframe tbody tr th {\n",
       "        vertical-align: top;\n",
       "    }\n",
       "\n",
       "    .dataframe thead th {\n",
       "        text-align: right;\n",
       "    }\n",
       "</style>\n",
       "<table border=\"1\" class=\"dataframe\">\n",
       "  <thead>\n",
       "    <tr style=\"text-align: right;\">\n",
       "      <th></th>\n",
       "      <th>descricao</th>\n",
       "      <th>avaliacao</th>\n",
       "      <th>preco</th>\n",
       "      <th>url</th>\n",
       "    </tr>\n",
       "  </thead>\n",
       "  <tbody>\n",
       "    <tr>\n",
       "      <th>0</th>\n",
       "      <td>Smartphone Moto G20 64GB 4G Wi-Fi Tela 6.5'' D...</td>\n",
       "      <td>81.0</td>\n",
       "      <td>1.049,00</td>\n",
       "      <td>https://www.americanas.com.br/produto/31713187...</td>\n",
       "    </tr>\n",
       "    <tr>\n",
       "      <th>1</th>\n",
       "      <td>Smartphone Motorola Moto G10 64GB 4G Wi-Fi Tel...</td>\n",
       "      <td>259.0</td>\n",
       "      <td>998,99</td>\n",
       "      <td>https://www.americanas.com.br/produto/29172687...</td>\n",
       "    </tr>\n",
       "    <tr>\n",
       "      <th>2</th>\n",
       "      <td>Smartphone Motorola Moto G10 64GB 4G Wi-Fi Tel...</td>\n",
       "      <td>270.0</td>\n",
       "      <td>998,99</td>\n",
       "      <td>https://www.americanas.com.br/produto/29172691...</td>\n",
       "    </tr>\n",
       "    <tr>\n",
       "      <th>3</th>\n",
       "      <td>Smartphone Motorola Moto G30 128GB 4G Wi-Fi Te...</td>\n",
       "      <td>575.0</td>\n",
       "      <td>1.419,10</td>\n",
       "      <td>https://www.americanas.com.br/produto/29172650...</td>\n",
       "    </tr>\n",
       "    <tr>\n",
       "      <th>4</th>\n",
       "      <td>Smartphone Samsung Galaxy A01 Core 32GB 4G Wi-...</td>\n",
       "      <td>588.0</td>\n",
       "      <td>600,00</td>\n",
       "      <td>https://www.americanas.com.br/produto/18347120...</td>\n",
       "    </tr>\n",
       "    <tr>\n",
       "      <th>...</th>\n",
       "      <td>...</td>\n",
       "      <td>...</td>\n",
       "      <td>...</td>\n",
       "      <td>...</td>\n",
       "    </tr>\n",
       "    <tr>\n",
       "      <th>1566</th>\n",
       "      <td>Smartphone INFINIX Note 7 LITE (4GB RAM / 128G...</td>\n",
       "      <td>0.0</td>\n",
       "      <td>1.699,00</td>\n",
       "      <td>https://www.americanas.com.br/produto/27840540...</td>\n",
       "    </tr>\n",
       "    <tr>\n",
       "      <th>1567</th>\n",
       "      <td>Celular mtl P9076 120,60</td>\n",
       "      <td>0.0</td>\n",
       "      <td>138,69</td>\n",
       "      <td>https://www.americanas.com.br/produto/40494557...</td>\n",
       "    </tr>\n",
       "    <tr>\n",
       "      <th>1568</th>\n",
       "      <td>Iluminador Celular Luz Selfie Foto ilumina Cãm...</td>\n",
       "      <td>0.0</td>\n",
       "      <td>53,90</td>\n",
       "      <td>https://www.americanas.com.br/produto/37737213...</td>\n",
       "    </tr>\n",
       "    <tr>\n",
       "      <th>1569</th>\n",
       "      <td>Celular idoso ipro A15 radio lanterna som alto</td>\n",
       "      <td>0.0</td>\n",
       "      <td>144,90</td>\n",
       "      <td>https://www.americanas.com.br/produto/34623493...</td>\n",
       "    </tr>\n",
       "    <tr>\n",
       "      <th>1570</th>\n",
       "      <td>Kitadaptador Para Celular Aquario Cf-445 Moto G3</td>\n",
       "      <td>0.0</td>\n",
       "      <td>55,08</td>\n",
       "      <td>https://www.americanas.com.br/produto/18261253...</td>\n",
       "    </tr>\n",
       "  </tbody>\n",
       "</table>\n",
       "<p>1571 rows × 4 columns</p>\n",
       "</div>"
      ],
      "text/plain": [
       "                                              descricao  avaliacao     preco  \\\n",
       "0     Smartphone Moto G20 64GB 4G Wi-Fi Tela 6.5'' D...       81.0  1.049,00   \n",
       "1     Smartphone Motorola Moto G10 64GB 4G Wi-Fi Tel...      259.0    998,99   \n",
       "2     Smartphone Motorola Moto G10 64GB 4G Wi-Fi Tel...      270.0    998,99   \n",
       "3     Smartphone Motorola Moto G30 128GB 4G Wi-Fi Te...      575.0  1.419,10   \n",
       "4     Smartphone Samsung Galaxy A01 Core 32GB 4G Wi-...      588.0    600,00   \n",
       "...                                                 ...        ...       ...   \n",
       "1566  Smartphone INFINIX Note 7 LITE (4GB RAM / 128G...        0.0  1.699,00   \n",
       "1567                           Celular mtl P9076 120,60        0.0    138,69   \n",
       "1568  Iluminador Celular Luz Selfie Foto ilumina Cãm...        0.0     53,90   \n",
       "1569     Celular idoso ipro A15 radio lanterna som alto        0.0    144,90   \n",
       "1570   Kitadaptador Para Celular Aquario Cf-445 Moto G3        0.0     55,08   \n",
       "\n",
       "                                                    url  \n",
       "0     https://www.americanas.com.br/produto/31713187...  \n",
       "1     https://www.americanas.com.br/produto/29172687...  \n",
       "2     https://www.americanas.com.br/produto/29172691...  \n",
       "3     https://www.americanas.com.br/produto/29172650...  \n",
       "4     https://www.americanas.com.br/produto/18347120...  \n",
       "...                                                 ...  \n",
       "1566  https://www.americanas.com.br/produto/27840540...  \n",
       "1567  https://www.americanas.com.br/produto/40494557...  \n",
       "1568  https://www.americanas.com.br/produto/37737213...  \n",
       "1569  https://www.americanas.com.br/produto/34623493...  \n",
       "1570  https://www.americanas.com.br/produto/18261253...  \n",
       "\n",
       "[1571 rows x 4 columns]"
      ]
     },
     "execution_count": 59,
     "metadata": {},
     "output_type": "execute_result"
    }
   ],
   "source": [
    "dataset"
   ]
  },
  {
   "cell_type": "code",
   "execution_count": 61,
   "id": "769803ed",
   "metadata": {},
   "outputs": [],
   "source": [
    "path = os.getcwd()\n",
    "dataset.to_csv(f'output/dataset_americanas.csv'.replace(' ','_'), index = False, encoding = 'utf-8-sig')"
   ]
  }
 ],
 "metadata": {
  "kernelspec": {
   "display_name": "Python 3",
   "language": "python",
   "name": "python3"
  },
  "language_info": {
   "codemirror_mode": {
    "name": "ipython",
    "version": 3
   },
   "file_extension": ".py",
   "mimetype": "text/x-python",
   "name": "python",
   "nbconvert_exporter": "python",
   "pygments_lexer": "ipython3",
   "version": "3.8.8"
  }
 },
 "nbformat": 4,
 "nbformat_minor": 5
}
