{
 "cells": [
  {
   "cell_type": "code",
   "execution_count": 46,
   "metadata": {},
   "outputs": [],
   "source": [
    "import pandas as pd\n",
    "from bs4 import BeautifulSoup\n",
    "from selenium import webdriver\n",
    "from webdriver_manager.chrome import ChromeDriverManager\n",
    "from datetime import date"
   ]
  },
  {
   "cell_type": "code",
   "execution_count": 47,
   "metadata": {},
   "outputs": [],
   "source": [
    "def scraper(pesquisa):\n",
    "    \n",
    "    url = f'https://www.americanas.com.br/busca/{pesquisa}?limit=75&offset=0'\n",
    "    driver = webdriver.Chrome(ChromeDriverManager().install())\n",
    "    driver.get(url)\n",
    "    \n",
    "    soup = BeautifulSoup(driver.page_source, 'html.parser')\n",
    "    itens = soup.body.find('div',{'id':'root'}).find('div',{'class':'grid__StyledGrid-sc-1man2hx-0 iFeuoP'}).findAll('div',{'class':'col__StyledCol-sc-1snw5v3-0 epVkvq src__ColGridItem-sc-122lblh-0 bvfSKS'})\n",
    "\n",
    "    # 'https://www.americanas.com.br' + itens[0].a.get(\"href\")\n",
    "\n",
    "    cards = []\n",
    "    for iten in itens:\n",
    "        card = {}\n",
    "        card['Descrição'] = iten.h3.text\n",
    "        card['Preço'] = iten.find('span',{'class':'src__Text-sc-154pg0p-0 src__Price-sc-1k0ejj6-7 dvVMTs'}).text\n",
    "        # card['Preço Promocional'] = iten.find('span',{'class':'src__Text-sc-154pg0p-0 src__PromotionalPrice-sc-1k0ejj6-8 gxxqGt'}).text\n",
    "        # card['Url'] = 'https://www.americanas.com.br' + itens[0].a.get(\"href\")\n",
    "        card['Data'] = date.today()\n",
    "        cards.append(card)\n",
    "        \n",
    "    dataset = pd.DataFrame(cards)\n",
    "    dataset.to_csv(f'output/diario/dataset_{pesquisa}_{date.today().day}.csv'.replace(' ','_'), index = False, encoding = 'utf-8-sig', sep=\";\")"
   ]
  },
  {
   "cell_type": "code",
   "execution_count": 48,
   "metadata": {},
   "outputs": [
    {
     "name": "stderr",
     "output_type": "stream",
     "text": [
      "\n",
      "\n",
      "====== WebDriver manager ======\n",
      "Current google-chrome version is 94.0.4606\n",
      "Get LATEST driver version for 94.0.4606\n",
      "Driver [C:\\Users\\Felip\\.wdm\\drivers\\chromedriver\\win32\\94.0.4606.61\\chromedriver.exe] found in cache\n"
     ]
    }
   ],
   "source": [
    "scraper('notebook')"
   ]
  },
  {
   "cell_type": "code",
   "execution_count": 50,
   "metadata": {},
   "outputs": [
    {
     "data": {
      "text/html": [
       "<div>\n",
       "<style scoped>\n",
       "    .dataframe tbody tr th:only-of-type {\n",
       "        vertical-align: middle;\n",
       "    }\n",
       "\n",
       "    .dataframe tbody tr th {\n",
       "        vertical-align: top;\n",
       "    }\n",
       "\n",
       "    .dataframe thead th {\n",
       "        text-align: right;\n",
       "    }\n",
       "</style>\n",
       "<table border=\"1\" class=\"dataframe\">\n",
       "  <thead>\n",
       "    <tr style=\"text-align: right;\">\n",
       "      <th></th>\n",
       "      <th>Descrição</th>\n",
       "      <th>Preço</th>\n",
       "      <th>Data</th>\n",
       "    </tr>\n",
       "  </thead>\n",
       "  <tbody>\n",
       "    <tr>\n",
       "      <th>0</th>\n",
       "      <td>Notebook Lenovo Ultrafino Ideapad S145 AMD Ryz...</td>\n",
       "      <td>R$ 3.047,36</td>\n",
       "      <td>2021-10-20</td>\n",
       "    </tr>\n",
       "    <tr>\n",
       "      <th>1</th>\n",
       "      <td>Notebook Samsung Book Intel Celeron-6305 4GB 5...</td>\n",
       "      <td>R$ 2.239,00</td>\n",
       "      <td>2021-10-20</td>\n",
       "    </tr>\n",
       "    <tr>\n",
       "      <th>2</th>\n",
       "      <td>Notebook Samsung Book Intel Core i5-1135G7 8GB...</td>\n",
       "      <td>R$ 3.689,00</td>\n",
       "      <td>2021-10-20</td>\n",
       "    </tr>\n",
       "    <tr>\n",
       "      <th>3</th>\n",
       "      <td>Notebook Lenovo Ultrafino Ideapad 3i Intel Cor...</td>\n",
       "      <td>R$ 3.499,99</td>\n",
       "      <td>2021-10-20</td>\n",
       "    </tr>\n",
       "    <tr>\n",
       "      <th>4</th>\n",
       "      <td>Notebook Dell Inspiron I15-3501-A25P Intel Cor...</td>\n",
       "      <td>R$ 3.099,99</td>\n",
       "      <td>2021-10-20</td>\n",
       "    </tr>\n",
       "    <tr>\n",
       "      <th>...</th>\n",
       "      <td>...</td>\n",
       "      <td>...</td>\n",
       "      <td>...</td>\n",
       "    </tr>\n",
       "    <tr>\n",
       "      <th>63</th>\n",
       "      <td>Notebook Acer Aspire 5 A515-54-55L0 Intel Core...</td>\n",
       "      <td>R$ 3.633,61</td>\n",
       "      <td>2021-10-20</td>\n",
       "    </tr>\n",
       "    <tr>\n",
       "      <th>64</th>\n",
       "      <td>Notebook Asus X515JA-EJ592T Intel Core i5-1035...</td>\n",
       "      <td>R$ 3.699,99</td>\n",
       "      <td>2021-10-20</td>\n",
       "    </tr>\n",
       "    <tr>\n",
       "      <th>65</th>\n",
       "      <td>Notebook Positivo Motion Q4128C Intel Atom-Z83...</td>\n",
       "      <td>R$ 1.749,99</td>\n",
       "      <td>2021-10-20</td>\n",
       "    </tr>\n",
       "    <tr>\n",
       "      <th>66</th>\n",
       "      <td>Notebook Multilaser PC310 Legacy Book Intel Pe...</td>\n",
       "      <td>R$ 1.409,37</td>\n",
       "      <td>2021-10-20</td>\n",
       "    </tr>\n",
       "    <tr>\n",
       "      <th>67</th>\n",
       "      <td>Notebook Samsung Flash F30 Intel Celeron 4GB 6...</td>\n",
       "      <td>R$ 2.999,90</td>\n",
       "      <td>2021-10-20</td>\n",
       "    </tr>\n",
       "  </tbody>\n",
       "</table>\n",
       "<p>68 rows × 3 columns</p>\n",
       "</div>"
      ],
      "text/plain": [
       "                                            Descrição        Preço        Data\n",
       "0   Notebook Lenovo Ultrafino Ideapad S145 AMD Ryz...  R$ 3.047,36  2021-10-20\n",
       "1   Notebook Samsung Book Intel Celeron-6305 4GB 5...  R$ 2.239,00  2021-10-20\n",
       "2   Notebook Samsung Book Intel Core i5-1135G7 8GB...  R$ 3.689,00  2021-10-20\n",
       "3   Notebook Lenovo Ultrafino Ideapad 3i Intel Cor...  R$ 3.499,99  2021-10-20\n",
       "4   Notebook Dell Inspiron I15-3501-A25P Intel Cor...  R$ 3.099,99  2021-10-20\n",
       "..                                                ...          ...         ...\n",
       "63  Notebook Acer Aspire 5 A515-54-55L0 Intel Core...  R$ 3.633,61  2021-10-20\n",
       "64  Notebook Asus X515JA-EJ592T Intel Core i5-1035...  R$ 3.699,99  2021-10-20\n",
       "65  Notebook Positivo Motion Q4128C Intel Atom-Z83...  R$ 1.749,99  2021-10-20\n",
       "66  Notebook Multilaser PC310 Legacy Book Intel Pe...  R$ 1.409,37  2021-10-20\n",
       "67  Notebook Samsung Flash F30 Intel Celeron 4GB 6...  R$ 2.999,90  2021-10-20\n",
       "\n",
       "[68 rows x 3 columns]"
      ]
     },
     "execution_count": 50,
     "metadata": {},
     "output_type": "execute_result"
    }
   ],
   "source": [
    "dataset = pd.read_csv('output/diario/dataset_notebook_20.csv', sep=';')\n",
    "dataset.dropna(inplace=True)\n",
    "dataset.reset_index(drop=True, inplace=True)\n",
    "dataset"
   ]
  },
  {
   "cell_type": "code",
   "execution_count": null,
   "metadata": {},
   "outputs": [],
   "source": []
  }
 ],
 "metadata": {
  "interpreter": {
   "hash": "50e0f96e4e88615678713ad57c0ae08da4a9d6120170cb89b48692eb7d0116f7"
  },
  "kernelspec": {
   "display_name": "Python 3.8.8 64-bit (conda)",
   "name": "python3"
  },
  "language_info": {
   "codemirror_mode": {
    "name": "ipython",
    "version": 3
   },
   "file_extension": ".py",
   "mimetype": "text/x-python",
   "name": "python",
   "nbconvert_exporter": "python",
   "pygments_lexer": "ipython3",
   "version": "3.8.8"
  },
  "orig_nbformat": 4
 },
 "nbformat": 4,
 "nbformat_minor": 2
}
