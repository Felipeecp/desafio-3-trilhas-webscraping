{
 "cells": [
  {
   "cell_type": "markdown",
   "metadata": {},
   "source": [
    "# Análise de Dados Magalu"
   ]
  },
  {
   "cell_type": "markdown",
   "metadata": {},
   "source": [
    "## Análise de Dados de Smartphones, Notebooks e Smart TVs"
   ]
  },
  {
   "cell_type": "markdown",
   "metadata": {},
   "source": [
    "### Análise de Dados: Smartphones"
   ]
  },
  {
   "cell_type": "code",
   "execution_count": 95,
   "metadata": {},
   "outputs": [],
   "source": [
    "import pandas as pd\n",
    "import seaborn as sns\n",
    "import matplotlib.pyplot as plt"
   ]
  },
  {
   "cell_type": "code",
   "execution_count": 96,
   "metadata": {},
   "outputs": [],
   "source": [
    "df = pd.read_csv('output/dataset_smartphone.csv', sep=';')"
   ]
  },
  {
   "cell_type": "code",
   "execution_count": 97,
   "metadata": {},
   "outputs": [
    {
     "data": {
      "text/html": [
       "<div>\n",
       "<style scoped>\n",
       "    .dataframe tbody tr th:only-of-type {\n",
       "        vertical-align: middle;\n",
       "    }\n",
       "\n",
       "    .dataframe tbody tr th {\n",
       "        vertical-align: top;\n",
       "    }\n",
       "\n",
       "    .dataframe thead th {\n",
       "        text-align: right;\n",
       "    }\n",
       "</style>\n",
       "<table border=\"1\" class=\"dataframe\">\n",
       "  <thead>\n",
       "    <tr style=\"text-align: right;\">\n",
       "      <th></th>\n",
       "      <th>descricao</th>\n",
       "      <th>preco</th>\n",
       "      <th>avaliacao</th>\n",
       "      <th>quantidade_avaliacoes</th>\n",
       "      <th>URL</th>\n",
       "    </tr>\n",
       "  </thead>\n",
       "  <tbody>\n",
       "    <tr>\n",
       "      <th>0</th>\n",
       "      <td>iPhone 11 Apple 64GB Roxo 6,1” 12MP iOS</td>\n",
       "      <td>3719.07</td>\n",
       "      <td>5</td>\n",
       "      <td>1</td>\n",
       "      <td>https://www.magazineluiza.com.br/iphone-11-app...</td>\n",
       "    </tr>\n",
       "    <tr>\n",
       "      <th>1</th>\n",
       "      <td>Smartphone Samsung Galaxy S20 FE 128GB Cloud Mint</td>\n",
       "      <td>2249.00</td>\n",
       "      <td>4</td>\n",
       "      <td>48</td>\n",
       "      <td>https://www.magazineluiza.com.br/smartphone-sa...</td>\n",
       "    </tr>\n",
       "    <tr>\n",
       "      <th>2</th>\n",
       "      <td>iPhone 11 Apple 64GB (PRODUCT)RED 6,1” 12MP iOS</td>\n",
       "      <td>3719.07</td>\n",
       "      <td>4</td>\n",
       "      <td>19</td>\n",
       "      <td>https://www.magazineluiza.com.br/iphone-11-app...</td>\n",
       "    </tr>\n",
       "    <tr>\n",
       "      <th>3</th>\n",
       "      <td>iPhone 11 Apple 64GB Preto 6,1” 12MP iOS</td>\n",
       "      <td>3719.07</td>\n",
       "      <td>4</td>\n",
       "      <td>80</td>\n",
       "      <td>https://www.magazineluiza.com.br/iphone-11-app...</td>\n",
       "    </tr>\n",
       "    <tr>\n",
       "      <th>4</th>\n",
       "      <td>Smartphone Samsung Galaxy S20 FE 128GB Cloud W...</td>\n",
       "      <td>2249.00</td>\n",
       "      <td>4</td>\n",
       "      <td>51</td>\n",
       "      <td>https://www.magazineluiza.com.br/smartphone-sa...</td>\n",
       "    </tr>\n",
       "  </tbody>\n",
       "</table>\n",
       "</div>"
      ],
      "text/plain": [
       "                                           descricao    preco  avaliacao  \\\n",
       "0            iPhone 11 Apple 64GB Roxo 6,1” 12MP iOS  3719.07          5   \n",
       "1  Smartphone Samsung Galaxy S20 FE 128GB Cloud Mint  2249.00          4   \n",
       "2    iPhone 11 Apple 64GB (PRODUCT)RED 6,1” 12MP iOS  3719.07          4   \n",
       "3           iPhone 11 Apple 64GB Preto 6,1” 12MP iOS  3719.07          4   \n",
       "4  Smartphone Samsung Galaxy S20 FE 128GB Cloud W...  2249.00          4   \n",
       "\n",
       "   quantidade_avaliacoes                                                URL  \n",
       "0                      1  https://www.magazineluiza.com.br/iphone-11-app...  \n",
       "1                     48  https://www.magazineluiza.com.br/smartphone-sa...  \n",
       "2                     19  https://www.magazineluiza.com.br/iphone-11-app...  \n",
       "3                     80  https://www.magazineluiza.com.br/iphone-11-app...  \n",
       "4                     51  https://www.magazineluiza.com.br/smartphone-sa...  "
      ]
     },
     "execution_count": 97,
     "metadata": {},
     "output_type": "execute_result"
    }
   ],
   "source": [
    "df.head()"
   ]
  },
  {
   "cell_type": "code",
   "execution_count": 98,
   "metadata": {},
   "outputs": [
    {
     "data": {
      "text/plain": [
       "descricao                1012\n",
       "preco                     981\n",
       "avaliacao                1012\n",
       "quantidade_avaliacoes    1012\n",
       "URL                      1012\n",
       "dtype: int64"
      ]
     },
     "execution_count": 98,
     "metadata": {},
     "output_type": "execute_result"
    }
   ],
   "source": [
    "df.count()"
   ]
  },
  {
   "cell_type": "markdown",
   "metadata": {},
   "source": [
    "## Verificação de Valores Nulos: NaN"
   ]
  },
  {
   "cell_type": "code",
   "execution_count": 99,
   "metadata": {},
   "outputs": [
    {
     "data": {
      "text/plain": [
       "31"
      ]
     },
     "execution_count": 99,
     "metadata": {},
     "output_type": "execute_result"
    }
   ],
   "source": [
    "df.isnull().sum().sum()"
   ]
  },
  {
   "cell_type": "code",
   "execution_count": 100,
   "metadata": {
    "scrolled": true
   },
   "outputs": [
    {
     "data": {
      "text/plain": [
       "31"
      ]
     },
     "execution_count": 100,
     "metadata": {},
     "output_type": "execute_result"
    }
   ],
   "source": [
    "df['preco'].isnull().sum()"
   ]
  },
  {
   "cell_type": "markdown",
   "metadata": {},
   "source": [
    "A coluna de preços contém valores nulos. É melhor excluir esses registros do que substituir por um valor de preço = 0"
   ]
  },
  {
   "cell_type": "code",
   "execution_count": 101,
   "metadata": {},
   "outputs": [],
   "source": [
    "df = df.dropna()"
   ]
  },
  {
   "cell_type": "code",
   "execution_count": 102,
   "metadata": {
    "scrolled": true
   },
   "outputs": [
    {
     "data": {
      "text/plain": [
       "descricao                981\n",
       "preco                    981\n",
       "avaliacao                981\n",
       "quantidade_avaliacoes    981\n",
       "URL                      981\n",
       "dtype: int64"
      ]
     },
     "execution_count": 102,
     "metadata": {},
     "output_type": "execute_result"
    }
   ],
   "source": [
    "df.count()"
   ]
  },
  {
   "cell_type": "markdown",
   "metadata": {},
   "source": [
    "Agora os registros com preço nulo foram excluídos do dataframe"
   ]
  },
  {
   "cell_type": "markdown",
   "metadata": {},
   "source": [
    "## Estatística descritiva"
   ]
  },
  {
   "cell_type": "markdown",
   "metadata": {},
   "source": [
    "Seguem algumas estatísticas descritivas relativas aos smartphones:"
   ]
  },
  {
   "cell_type": "code",
   "execution_count": 103,
   "metadata": {
    "scrolled": false
   },
   "outputs": [
    {
     "data": {
      "text/html": [
       "<div>\n",
       "<style scoped>\n",
       "    .dataframe tbody tr th:only-of-type {\n",
       "        vertical-align: middle;\n",
       "    }\n",
       "\n",
       "    .dataframe tbody tr th {\n",
       "        vertical-align: top;\n",
       "    }\n",
       "\n",
       "    .dataframe thead th {\n",
       "        text-align: right;\n",
       "    }\n",
       "</style>\n",
       "<table border=\"1\" class=\"dataframe\">\n",
       "  <thead>\n",
       "    <tr style=\"text-align: right;\">\n",
       "      <th></th>\n",
       "      <th>preco</th>\n",
       "      <th>avaliacao</th>\n",
       "      <th>quantidade_avaliacoes</th>\n",
       "    </tr>\n",
       "  </thead>\n",
       "  <tbody>\n",
       "    <tr>\n",
       "      <th>count</th>\n",
       "      <td>981.000000</td>\n",
       "      <td>981.000000</td>\n",
       "      <td>981.000000</td>\n",
       "    </tr>\n",
       "    <tr>\n",
       "      <th>mean</th>\n",
       "      <td>1878.461651</td>\n",
       "      <td>4.627931</td>\n",
       "      <td>7.299694</td>\n",
       "    </tr>\n",
       "    <tr>\n",
       "      <th>std</th>\n",
       "      <td>1818.894737</td>\n",
       "      <td>0.722238</td>\n",
       "      <td>25.489251</td>\n",
       "    </tr>\n",
       "    <tr>\n",
       "      <th>min</th>\n",
       "      <td>74.910000</td>\n",
       "      <td>1.000000</td>\n",
       "      <td>0.000000</td>\n",
       "    </tr>\n",
       "    <tr>\n",
       "      <th>25%</th>\n",
       "      <td>888.000000</td>\n",
       "      <td>4.000000</td>\n",
       "      <td>0.000000</td>\n",
       "    </tr>\n",
       "    <tr>\n",
       "      <th>50%</th>\n",
       "      <td>1300.550000</td>\n",
       "      <td>5.000000</td>\n",
       "      <td>0.000000</td>\n",
       "    </tr>\n",
       "    <tr>\n",
       "      <th>75%</th>\n",
       "      <td>2177.970000</td>\n",
       "      <td>5.000000</td>\n",
       "      <td>2.000000</td>\n",
       "    </tr>\n",
       "    <tr>\n",
       "      <th>max</th>\n",
       "      <td>15414.180000</td>\n",
       "      <td>5.000000</td>\n",
       "      <td>274.000000</td>\n",
       "    </tr>\n",
       "  </tbody>\n",
       "</table>\n",
       "</div>"
      ],
      "text/plain": [
       "              preco   avaliacao  quantidade_avaliacoes\n",
       "count    981.000000  981.000000             981.000000\n",
       "mean    1878.461651    4.627931               7.299694\n",
       "std     1818.894737    0.722238              25.489251\n",
       "min       74.910000    1.000000               0.000000\n",
       "25%      888.000000    4.000000               0.000000\n",
       "50%     1300.550000    5.000000               0.000000\n",
       "75%     2177.970000    5.000000               2.000000\n",
       "max    15414.180000    5.000000             274.000000"
      ]
     },
     "execution_count": 103,
     "metadata": {},
     "output_type": "execute_result"
    }
   ],
   "source": [
    "df.describe()"
   ]
  },
  {
   "cell_type": "markdown",
   "metadata": {},
   "source": [
    "## Histograma: Distribuição de Frequencias"
   ]
  },
  {
   "cell_type": "code",
   "execution_count": 142,
   "metadata": {
    "scrolled": false
   },
   "outputs": [
    {
     "data": {
      "image/png": "[encoded data removed]",
      "text/plain": [
       "<Figure size 842.4x595.44 with 1 Axes>"
      ]
     },
     "metadata": {},
     "output_type": "display_data"
    }
   ],
   "source": [
    "sns.set(style=\"darkgrid\")\n",
    "sns.set(rc={'figure.figsize':(11.7,8.27)})\n",
    "histplot = sns.histplot(data=df, x='preco', linewidth=1, bins=30, kde=True)\n",
    "histplot.axes.set_title(\"Histograma de Preços de Smartphones\", fontsize=16)\n",
    "histplot.set_xlabel(\"Preço\", fontsize=14)\n",
    "histplot.set_ylabel(\"Frequência\", fontsize=14)\n",
    "plt.show()"
   ]
  },
  {
   "cell_type": "markdown",
   "metadata": {},
   "source": [
    "A distribuição é fortemente assimétrica dada a presença de outliers"
   ]
  },
  {
   "cell_type": "markdown",
   "metadata": {},
   "source": [
    "## Boxplot: Visualização de outliers"
   ]
  },
  {
   "cell_type": "code",
   "execution_count": 131,
   "metadata": {},
   "outputs": [
    {
     "data": {
      "image/png": "[encoded data removed]",
      "text/plain": [
       "<Figure size 842.4x595.44 with 1 Axes>"
      ]
     },
     "metadata": {},
     "output_type": "display_data"
    }
   ],
   "source": [
    "sns.set(style=\"darkgrid\")\n",
    "sns.set(rc={'figure.figsize':(11.7,8.27)})\n",
    "boxplot = sns.boxplot(data=df['preco'], linewidth=2.5, width=0.25)\n",
    "boxplot.axes.set_title(\"Boxplot Preços de Smartphones\", fontsize=16)\n",
    "boxplot.set_xlabel(\"Smartphone\", fontsize=14)\n",
    "boxplot.set_ylabel(\"Preço\", fontsize=14)\n",
    "plt.show()"
   ]
  },
  {
   "cell_type": "markdown",
   "metadata": {},
   "source": [
    "### Remoção de Outliers"
   ]
  },
  {
   "cell_type": "markdown",
   "metadata": {},
   "source": [
    "Percebe-se que há outliers no departamento de smartphones.\n",
    "\n",
    "Podem ser acessórios para smartphones com preços muito baixos, ou celulares com preços muito acima da média\n",
    "\n",
    "Haverá agora um trabalho de remoção de outliers do nosso dataset"
   ]
  },
  {
   "cell_type": "markdown",
   "metadata": {},
   "source": [
    "### Função que retira os indices dos outliers do nosso dataframe"
   ]
  },
  {
   "cell_type": "code",
   "execution_count": 105,
   "metadata": {},
   "outputs": [],
   "source": [
    "def outliers_indexes(df, ft):\n",
    "    \"\"\" \n",
    "    Função que retorna o índice dos outliers\n",
    "    Embasamento matemático:\n",
    "    Amplitude Interquartil => IQR = Quartil_3 - Quartil_1\n",
    "    Limite Inferior => LI = Quartil_1 - 1.5*IQR\n",
    "    Limite Superior => LS = Quartil_3 + 1.5*IQR\n",
    "    Todos os dados que estiverem acima do limite superior ou abaixo do limite inferior, são outliers\n",
    "    \"\"\"\n",
    "    Q1 = df[ft].quantile(0.25)\n",
    "    Q3 = df[ft].quantile(0.75)\n",
    "    IQR = Q3 - Q1\n",
    "    \n",
    "    LI = Q1 - 1.5*IQR\n",
    "    LS = Q3 + 1.5*IQR\n",
    "    \n",
    "    lista_indices = df.index[ (df[ft] < LI) | (df[ft] > LS) ]\n",
    "    \n",
    "    return lista_indices"
   ]
  },
  {
   "cell_type": "code",
   "execution_count": 106,
   "metadata": {},
   "outputs": [],
   "source": [
    "# Cria-se uma lista vazia para armazenar os índices de saídas de múltiplas colunas \n",
    "# (somente caso se quisesse tirar outliers de multiplas colunas)\n",
    "index_list = []\n",
    "for feature in ['preco', 'quantidade_avaliacoes']:\n",
    "    index_list.extend(outliers_indexes(df, feature))"
   ]
  },
  {
   "cell_type": "markdown",
   "metadata": {},
   "source": [
    "Será usada uma versão mais simples, apenas para retornar os índices de uma única coluna, o preço"
   ]
  },
  {
   "cell_type": "code",
   "execution_count": 107,
   "metadata": {},
   "outputs": [],
   "source": [
    "outliers_index_list = outliers_indexes(df, 'preco')"
   ]
  },
  {
   "cell_type": "code",
   "execution_count": 108,
   "metadata": {
    "scrolled": false
   },
   "outputs": [
    {
     "data": {
      "text/plain": [
       "Int64Index([127, 131, 141, 153, 163, 164, 171, 189, 193, 194, 210, 218, 220,\n",
       "            221, 249, 259, 262, 275, 277, 297, 300, 305, 310, 311, 326, 333,\n",
       "            335, 340, 342, 353, 382, 391, 397, 421, 440, 444, 451, 458, 465,\n",
       "            468, 486, 491, 503, 505, 511, 514, 518, 520, 530, 532, 538, 555,\n",
       "            560, 563, 569, 601, 621, 623, 639, 649, 668, 675, 676, 680, 682,\n",
       "            708, 712, 717, 721, 730, 733, 751, 759, 760, 767, 768, 769, 778,\n",
       "            809, 811, 826, 827, 858, 864, 866, 874, 885, 915, 929, 935, 941,\n",
       "            946, 952, 964, 968, 997],\n",
       "           dtype='int64')"
      ]
     },
     "execution_count": 108,
     "metadata": {},
     "output_type": "execute_result"
    }
   ],
   "source": [
    "outliers_index_list"
   ]
  },
  {
   "cell_type": "code",
   "execution_count": 109,
   "metadata": {},
   "outputs": [
    {
     "data": {
      "text/plain": [
       "96"
      ]
     },
     "execution_count": 109,
     "metadata": {},
     "output_type": "execute_result"
    }
   ],
   "source": [
    "len(outliers_index_list)"
   ]
  },
  {
   "cell_type": "markdown",
   "metadata": {},
   "source": [
    "### Função de Remoção de Outliers"
   ]
  },
  {
   "cell_type": "markdown",
   "metadata": {},
   "source": [
    "Por fim, define-se uma função para a remoção de todos os registros que contém outliers, tendo a lista de índices como input"
   ]
  },
  {
   "cell_type": "code",
   "execution_count": 110,
   "metadata": {},
   "outputs": [],
   "source": [
    "def remove_outliers(df, index_list):\n",
    "    index_list = sorted(set(index_list))\n",
    "    # Drop dos outliers\n",
    "    df = df.drop(index_list)\n",
    "    return df   "
   ]
  },
  {
   "cell_type": "markdown",
   "metadata": {},
   "source": [
    "### Limpa-se o dataframe dos outliers"
   ]
  },
  {
   "cell_type": "code",
   "execution_count": 111,
   "metadata": {},
   "outputs": [],
   "source": [
    "df_clean = remove_outliers(df, outliers_index_list)"
   ]
  },
  {
   "cell_type": "code",
   "execution_count": 112,
   "metadata": {},
   "outputs": [
    {
     "data": {
      "text/plain": [
       "(885, 5)"
      ]
     },
     "execution_count": 112,
     "metadata": {},
     "output_type": "execute_result"
    }
   ],
   "source": [
    "df_clean.shape"
   ]
  },
  {
   "cell_type": "markdown",
   "metadata": {},
   "source": [
    "Foram removidos 96 registros, exatamente como esperado"
   ]
  },
  {
   "cell_type": "markdown",
   "metadata": {},
   "source": [
    "## Histograma: Distribuição de Frequência (Outliers removidos)"
   ]
  },
  {
   "cell_type": "code",
   "execution_count": 143,
   "metadata": {
    "scrolled": false
   },
   "outputs": [
    {
     "data": {
      "image/png": "[encoded data removed]",
      "text/plain": [
       "<Figure size 842.4x595.44 with 1 Axes>"
      ]
     },
     "metadata": {},
     "output_type": "display_data"
    }
   ],
   "source": [
    "sns.set(style=\"darkgrid\")\n",
    "sns.set(rc={'figure.figsize':(11.7,8.27)})\n",
    "histplot = sns.histplot(data=df_clean, x='preco', linewidth=1, bins=30, kde=True)\n",
    "histplot.axes.set_title(\"Histograma de Preços de Smartphones\", fontsize=16)\n",
    "histplot.set_xlabel(\"Preço\", fontsize=14)\n",
    "histplot.set_ylabel(\"Frequência\", fontsize=14)\n",
    "plt.show()"
   ]
  },
  {
   "cell_type": "markdown",
   "metadata": {},
   "source": [
    "Nota-se maior simetria na distribuição após a remoção dos outliers, ainda que esta não seja uma distribuição Gaussiana"
   ]
  },
  {
   "cell_type": "markdown",
   "metadata": {},
   "source": [
    "## Boxplot sem Outliers"
   ]
  },
  {
   "cell_type": "code",
   "execution_count": 113,
   "metadata": {
    "scrolled": true
   },
   "outputs": [
    {
     "data": {
      "image/png": "[encoded data removed]",
      "text/plain": [
       "<Figure size 842.4x595.44 with 1 Axes>"
      ]
     },
     "metadata": {},
     "output_type": "display_data"
    }
   ],
   "source": [
    "sns.set(style=\"darkgrid\")\n",
    "sns.set(rc={'figure.figsize':(11.7,8.27)})\n",
    "boxplot = sns.boxplot(data=df_clean['preco'], linewidth=2.5, width=0.25)\n",
    "boxplot.axes.set_title(\"Distribuição de Preços de Smartphones\", fontsize=16)\n",
    "boxplot.set_xlabel(\"Smartphone\", fontsize=14)\n",
    "boxplot.set_ylabel(\"Preço\", fontsize=14)\n",
    "plt.show()"
   ]
  },
  {
   "cell_type": "markdown",
   "metadata": {},
   "source": [
    "## Estatística descritiva, sem outliers"
   ]
  },
  {
   "cell_type": "code",
   "execution_count": 94,
   "metadata": {
    "scrolled": false
   },
   "outputs": [
    {
     "data": {
      "text/html": [
       "<div>\n",
       "<style scoped>\n",
       "    .dataframe tbody tr th:only-of-type {\n",
       "        vertical-align: middle;\n",
       "    }\n",
       "\n",
       "    .dataframe tbody tr th {\n",
       "        vertical-align: top;\n",
       "    }\n",
       "\n",
       "    .dataframe thead th {\n",
       "        text-align: right;\n",
       "    }\n",
       "</style>\n",
       "<table border=\"1\" class=\"dataframe\">\n",
       "  <thead>\n",
       "    <tr style=\"text-align: right;\">\n",
       "      <th></th>\n",
       "      <th>preco</th>\n",
       "      <th>avaliacao</th>\n",
       "      <th>quantidade_avaliacoes</th>\n",
       "    </tr>\n",
       "  </thead>\n",
       "  <tbody>\n",
       "    <tr>\n",
       "      <th>count</th>\n",
       "      <td>885.000000</td>\n",
       "      <td>885.000000</td>\n",
       "      <td>885.000000</td>\n",
       "    </tr>\n",
       "    <tr>\n",
       "      <th>mean</th>\n",
       "      <td>1395.617288</td>\n",
       "      <td>4.597740</td>\n",
       "      <td>8.004520</td>\n",
       "    </tr>\n",
       "    <tr>\n",
       "      <th>std</th>\n",
       "      <td>849.422109</td>\n",
       "      <td>0.745116</td>\n",
       "      <td>26.715867</td>\n",
       "    </tr>\n",
       "    <tr>\n",
       "      <th>min</th>\n",
       "      <td>74.910000</td>\n",
       "      <td>1.000000</td>\n",
       "      <td>0.000000</td>\n",
       "    </tr>\n",
       "    <tr>\n",
       "      <th>25%</th>\n",
       "      <td>845.100000</td>\n",
       "      <td>4.000000</td>\n",
       "      <td>0.000000</td>\n",
       "    </tr>\n",
       "    <tr>\n",
       "      <th>50%</th>\n",
       "      <td>1199.000000</td>\n",
       "      <td>5.000000</td>\n",
       "      <td>0.000000</td>\n",
       "    </tr>\n",
       "    <tr>\n",
       "      <th>75%</th>\n",
       "      <td>1804.990000</td>\n",
       "      <td>5.000000</td>\n",
       "      <td>3.000000</td>\n",
       "    </tr>\n",
       "    <tr>\n",
       "      <th>max</th>\n",
       "      <td>4091.070000</td>\n",
       "      <td>5.000000</td>\n",
       "      <td>274.000000</td>\n",
       "    </tr>\n",
       "  </tbody>\n",
       "</table>\n",
       "</div>"
      ],
      "text/plain": [
       "             preco   avaliacao  quantidade_avaliacoes\n",
       "count   885.000000  885.000000             885.000000\n",
       "mean   1395.617288    4.597740               8.004520\n",
       "std     849.422109    0.745116              26.715867\n",
       "min      74.910000    1.000000               0.000000\n",
       "25%     845.100000    4.000000               0.000000\n",
       "50%    1199.000000    5.000000               0.000000\n",
       "75%    1804.990000    5.000000               3.000000\n",
       "max    4091.070000    5.000000             274.000000"
      ]
     },
     "execution_count": 94,
     "metadata": {},
     "output_type": "execute_result"
    }
   ],
   "source": [
    "df_clean.describe()"
   ]
  },
  {
   "cell_type": "markdown",
   "metadata": {},
   "source": [
    "Verifica-se assim que:\n",
    " - A média de preço de um Smartphone está em torno de 1400 reais, com 850,00 reais para mais ou para menos\n",
    " - A Mediana do preço de um smartphone é 1200 reais\n",
    " - A média de quantidade de avaliações é 8 por produto. A baixa quantidade pode indicar que essa medida não é confiável"
   ]
  },
  {
   "cell_type": "markdown",
   "metadata": {},
   "source": [
    "## Item Mais Caro (Outliers não removidos)"
   ]
  },
  {
   "cell_type": "code",
   "execution_count": 119,
   "metadata": {
    "scrolled": false
   },
   "outputs": [
    {
     "name": "stdout",
     "output_type": "stream",
     "text": [
      "                                             descricao     preco  avaliacao  \\\n",
      "717  Smartphone Samsung Galaxy Z Fold 2 256GB  - My...  15414.18          5   \n",
      "\n",
      "     quantidade_avaliacoes                                                URL  \n",
      "717                      0  https://www.magazineluiza.com.br/smartphone-sa...  \n"
     ]
    }
   ],
   "source": [
    "df_mask = df['preco']==max(df['preco'])\n",
    "filtered_df = df[df_mask]\n",
    "print(filtered_df)"
   ]
  },
  {
   "cell_type": "markdown",
   "metadata": {},
   "source": [
    "## Item Mais Caro (Outliers Removidos)"
   ]
  },
  {
   "cell_type": "code",
   "execution_count": 116,
   "metadata": {
    "scrolled": false
   },
   "outputs": [
    {
     "name": "stdout",
     "output_type": "stream",
     "text": [
      "                                     descricao    preco  avaliacao  \\\n",
      "11  iPhone 11 Apple 128GB Branco 6,1” 12MP iOS  4091.07          4   \n",
      "20   iPhone 11 Apple 128GB Preto 6,1” 12MP iOS  4091.07          4   \n",
      "\n",
      "    quantidade_avaliacoes                                                URL  \n",
      "11                     38  https://www.magazineluiza.com.br/iphone-11-app...  \n",
      "20                     48  https://www.magazineluiza.com.br/iphone-11-app...  \n"
     ]
    }
   ],
   "source": [
    "df_mask = df_clean['preco']==max(df_clean['preco'])\n",
    "filtered_df = df_clean[df_mask]\n",
    "print(filtered_df)"
   ]
  },
  {
   "cell_type": "markdown",
   "metadata": {},
   "source": [
    "## Item mais barato"
   ]
  },
  {
   "cell_type": "code",
   "execution_count": 120,
   "metadata": {
    "scrolled": true
   },
   "outputs": [
    {
     "name": "stdout",
     "output_type": "stream",
     "text": [
      "                                             descricao  preco  avaliacao  \\\n",
      "756  Celular Barra Dual Chip com Câmera Mp3 e Bluet...  74.91          5   \n",
      "\n",
      "     quantidade_avaliacoes                                                URL  \n",
      "756                      0  https://www.magazineluiza.com.br/celular-barra...  \n"
     ]
    }
   ],
   "source": [
    "df_mask = df_clean['preco']==min(df_clean['preco'])\n",
    "filtered_df = df_clean[df_mask]\n",
    "print(filtered_df)"
   ]
  },
  {
   "cell_type": "markdown",
   "metadata": {},
   "source": [
    "## 5 itens com preço menor ou igual a média"
   ]
  },
  {
   "cell_type": "code",
   "execution_count": 127,
   "metadata": {
    "scrolled": true
   },
   "outputs": [
    {
     "name": "stdout",
     "output_type": "stream",
     "text": [
      "                                             descricao    preco  avaliacao  \\\n",
      "654  Smartphone Motorola Moto G30 128GB 4GB RAM  Câ...  1394.90          5   \n",
      "344  Smartphone Motorola Moto G30 128GB 4GB RAM  Câ...  1394.90          5   \n",
      "743  Smartphone Motorola XT2129 Moto G30 6.5\" 2.0GH...  1394.07          5   \n",
      "292  Smartphone Samsung Galaxy A32 128GB 4G Wi-Fi T...  1394.07          5   \n",
      "97   Smartphone Xiaomi Redmi 9 64GB Cinza 4G Octa-Core  1394.07          4   \n",
      "\n",
      "     quantidade_avaliacoes                                                URL  \n",
      "654                      1  https://www.magazineluiza.com.br/smartphone-mo...  \n",
      "344                      2  https://www.magazineluiza.com.br/smartphone-mo...  \n",
      "743                      2  https://www.magazineluiza.com.br/smartphone-mo...  \n",
      "292                      0  https://www.magazineluiza.com.br/smartphone-sa...  \n",
      "97                       9  https://www.magazineluiza.com.br/smartphone-xi...  \n"
     ]
    }
   ],
   "source": [
    "df_mask = df_clean['preco']<=df_clean['preco'].mean()\n",
    "filtered_df = df_clean[df_mask]\n",
    "print(filtered_df.sort_values(by=['preco'], ascending=False)[:5])"
   ]
  },
  {
   "cell_type": "markdown",
   "metadata": {},
   "source": [
    "Estes itens são considerados mid-range e tem uma boa relação custo-benefício."
   ]
  }
 ],
 "metadata": {
  "kernelspec": {
   "display_name": "Python 3",
   "language": "python",
   "name": "python3"
  },
  "language_info": {
   "codemirror_mode": {
    "name": "ipython",
    "version": 3
   },
   "file_extension": ".py",
   "mimetype": "text/x-python",
   "name": "python",
   "nbconvert_exporter": "python",
   "pygments_lexer": "ipython3",
   "version": "3.8.5"
  }
 },
 "nbformat": 4,
 "nbformat_minor": 4
}
