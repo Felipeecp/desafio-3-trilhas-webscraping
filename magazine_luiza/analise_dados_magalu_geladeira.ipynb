{
 "cells": [
  {
   "cell_type": "markdown",
   "metadata": {},
   "source": [
    "# Análise de Dados Magalu"
   ]
  },
  {
   "cell_type": "markdown",
   "metadata": {},
   "source": [
    "### Análise de Dados: Geladeiras"
   ]
  },
  {
   "cell_type": "code",
   "execution_count": 1,
   "metadata": {},
   "outputs": [],
   "source": [
    "import pandas as pd\n",
    "import seaborn as sns\n",
    "import matplotlib.pyplot as plt"
   ]
  },
  {
   "cell_type": "code",
   "execution_count": 2,
   "metadata": {},
   "outputs": [],
   "source": [
    "df = pd.read_csv('output/dataset_geladeira.csv', sep=';')"
   ]
  },
  {
   "cell_type": "code",
   "execution_count": 3,
   "metadata": {},
   "outputs": [
    {
     "data": {
      "text/html": [
       "<div>\n",
       "<style scoped>\n",
       "    .dataframe tbody tr th:only-of-type {\n",
       "        vertical-align: middle;\n",
       "    }\n",
       "\n",
       "    .dataframe tbody tr th {\n",
       "        vertical-align: top;\n",
       "    }\n",
       "\n",
       "    .dataframe thead th {\n",
       "        text-align: right;\n",
       "    }\n",
       "</style>\n",
       "<table border=\"1\" class=\"dataframe\">\n",
       "  <thead>\n",
       "    <tr style=\"text-align: right;\">\n",
       "      <th></th>\n",
       "      <th>descricao</th>\n",
       "      <th>preco</th>\n",
       "      <th>avaliacao</th>\n",
       "      <th>quantidade_avaliacoes</th>\n",
       "      <th>URL</th>\n",
       "    </tr>\n",
       "  </thead>\n",
       "  <tbody>\n",
       "    <tr>\n",
       "      <th>0</th>\n",
       "      <td>Geladeira/Refrigerador Brastemp Frost Free Inv...</td>\n",
       "      <td>4399.00</td>\n",
       "      <td>4</td>\n",
       "      <td>112</td>\n",
       "      <td>https://www.magazineluiza.com.br/geladeira-ref...</td>\n",
       "    </tr>\n",
       "    <tr>\n",
       "      <th>1</th>\n",
       "      <td>Refrigerador Electrolux Cycle Defrost 260 Litr...</td>\n",
       "      <td>1783.30</td>\n",
       "      <td>4</td>\n",
       "      <td>43</td>\n",
       "      <td>https://www.magazineluiza.com.br/refrigerador-...</td>\n",
       "    </tr>\n",
       "    <tr>\n",
       "      <th>2</th>\n",
       "      <td>Geladeira/Refrigerador Frost Free cor Inox 310...</td>\n",
       "      <td>2324.07</td>\n",
       "      <td>4</td>\n",
       "      <td>197</td>\n",
       "      <td>https://www.magazineluiza.com.br/geladeira-ref...</td>\n",
       "    </tr>\n",
       "    <tr>\n",
       "      <th>3</th>\n",
       "      <td>Geladeira/Refrigerador Brastemp Frost Free Duplex</td>\n",
       "      <td>2799.00</td>\n",
       "      <td>4</td>\n",
       "      <td>82</td>\n",
       "      <td>https://www.magazineluiza.com.br/geladeira-ref...</td>\n",
       "    </tr>\n",
       "    <tr>\n",
       "      <th>4</th>\n",
       "      <td>Geladeira/Refrigerador Brastemp Frost Free Evox</td>\n",
       "      <td>6499.00</td>\n",
       "      <td>4</td>\n",
       "      <td>69</td>\n",
       "      <td>https://www.magazineluiza.com.br/geladeira-ref...</td>\n",
       "    </tr>\n",
       "  </tbody>\n",
       "</table>\n",
       "</div>"
      ],
      "text/plain": [
       "                                           descricao    preco  avaliacao  \\\n",
       "0  Geladeira/Refrigerador Brastemp Frost Free Inv...  4399.00          4   \n",
       "1  Refrigerador Electrolux Cycle Defrost 260 Litr...  1783.30          4   \n",
       "2  Geladeira/Refrigerador Frost Free cor Inox 310...  2324.07          4   \n",
       "3  Geladeira/Refrigerador Brastemp Frost Free Duplex  2799.00          4   \n",
       "4    Geladeira/Refrigerador Brastemp Frost Free Evox  6499.00          4   \n",
       "\n",
       "   quantidade_avaliacoes                                                URL  \n",
       "0                    112  https://www.magazineluiza.com.br/geladeira-ref...  \n",
       "1                     43  https://www.magazineluiza.com.br/refrigerador-...  \n",
       "2                    197  https://www.magazineluiza.com.br/geladeira-ref...  \n",
       "3                     82  https://www.magazineluiza.com.br/geladeira-ref...  \n",
       "4                     69  https://www.magazineluiza.com.br/geladeira-ref...  "
      ]
     },
     "execution_count": 3,
     "metadata": {},
     "output_type": "execute_result"
    }
   ],
   "source": [
    "df.head()"
   ]
  },
  {
   "cell_type": "code",
   "execution_count": 4,
   "metadata": {},
   "outputs": [
    {
     "data": {
      "text/plain": [
       "descricao                1012\n",
       "preco                     788\n",
       "avaliacao                1012\n",
       "quantidade_avaliacoes    1012\n",
       "URL                      1012\n",
       "dtype: int64"
      ]
     },
     "execution_count": 4,
     "metadata": {},
     "output_type": "execute_result"
    }
   ],
   "source": [
    "df.count()"
   ]
  },
  {
   "cell_type": "markdown",
   "metadata": {},
   "source": [
    "## Verificação de Valores Nulos: NaN"
   ]
  },
  {
   "cell_type": "code",
   "execution_count": 5,
   "metadata": {},
   "outputs": [
    {
     "data": {
      "text/plain": [
       "224"
      ]
     },
     "execution_count": 5,
     "metadata": {},
     "output_type": "execute_result"
    }
   ],
   "source": [
    "df.isnull().sum().sum()"
   ]
  },
  {
   "cell_type": "code",
   "execution_count": 6,
   "metadata": {
    "scrolled": true
   },
   "outputs": [
    {
     "data": {
      "text/plain": [
       "224"
      ]
     },
     "execution_count": 6,
     "metadata": {},
     "output_type": "execute_result"
    }
   ],
   "source": [
    "df['preco'].isnull().sum()"
   ]
  },
  {
   "cell_type": "markdown",
   "metadata": {},
   "source": [
    "A coluna de preços contém valores nulos. É melhor excluir esses registros do que substituir por um valor de preço = 0"
   ]
  },
  {
   "cell_type": "code",
   "execution_count": 7,
   "metadata": {},
   "outputs": [],
   "source": [
    "df = df.dropna()"
   ]
  },
  {
   "cell_type": "code",
   "execution_count": 8,
   "metadata": {
    "scrolled": true
   },
   "outputs": [
    {
     "data": {
      "text/plain": [
       "descricao                788\n",
       "preco                    788\n",
       "avaliacao                788\n",
       "quantidade_avaliacoes    788\n",
       "URL                      788\n",
       "dtype: int64"
      ]
     },
     "execution_count": 8,
     "metadata": {},
     "output_type": "execute_result"
    }
   ],
   "source": [
    "df.count()"
   ]
  },
  {
   "cell_type": "markdown",
   "metadata": {},
   "source": [
    "Agora os registros com preço nulo foram excluídos do dataframe"
   ]
  },
  {
   "cell_type": "markdown",
   "metadata": {},
   "source": [
    "## Estatística descritiva"
   ]
  },
  {
   "cell_type": "markdown",
   "metadata": {},
   "source": [
    "Seguem algumas estatísticas descritivas relativas aos smartphones:"
   ]
  },
  {
   "cell_type": "code",
   "execution_count": 9,
   "metadata": {
    "scrolled": false
   },
   "outputs": [
    {
     "data": {
      "text/html": [
       "<div>\n",
       "<style scoped>\n",
       "    .dataframe tbody tr th:only-of-type {\n",
       "        vertical-align: middle;\n",
       "    }\n",
       "\n",
       "    .dataframe tbody tr th {\n",
       "        vertical-align: top;\n",
       "    }\n",
       "\n",
       "    .dataframe thead th {\n",
       "        text-align: right;\n",
       "    }\n",
       "</style>\n",
       "<table border=\"1\" class=\"dataframe\">\n",
       "  <thead>\n",
       "    <tr style=\"text-align: right;\">\n",
       "      <th></th>\n",
       "      <th>preco</th>\n",
       "      <th>avaliacao</th>\n",
       "      <th>quantidade_avaliacoes</th>\n",
       "    </tr>\n",
       "  </thead>\n",
       "  <tbody>\n",
       "    <tr>\n",
       "      <th>count</th>\n",
       "      <td>788.000000</td>\n",
       "      <td>788.000000</td>\n",
       "      <td>788.000000</td>\n",
       "    </tr>\n",
       "    <tr>\n",
       "      <th>mean</th>\n",
       "      <td>4018.460089</td>\n",
       "      <td>4.737310</td>\n",
       "      <td>5.258883</td>\n",
       "    </tr>\n",
       "    <tr>\n",
       "      <th>std</th>\n",
       "      <td>2972.744369</td>\n",
       "      <td>0.597137</td>\n",
       "      <td>19.433763</td>\n",
       "    </tr>\n",
       "    <tr>\n",
       "      <th>min</th>\n",
       "      <td>37.760000</td>\n",
       "      <td>1.000000</td>\n",
       "      <td>0.000000</td>\n",
       "    </tr>\n",
       "    <tr>\n",
       "      <th>25%</th>\n",
       "      <td>2514.682500</td>\n",
       "      <td>5.000000</td>\n",
       "      <td>0.000000</td>\n",
       "    </tr>\n",
       "    <tr>\n",
       "      <th>50%</th>\n",
       "      <td>3347.550000</td>\n",
       "      <td>5.000000</td>\n",
       "      <td>0.000000</td>\n",
       "    </tr>\n",
       "    <tr>\n",
       "      <th>75%</th>\n",
       "      <td>4319.100000</td>\n",
       "      <td>5.000000</td>\n",
       "      <td>2.000000</td>\n",
       "    </tr>\n",
       "    <tr>\n",
       "      <th>max</th>\n",
       "      <td>28709.000000</td>\n",
       "      <td>5.000000</td>\n",
       "      <td>262.000000</td>\n",
       "    </tr>\n",
       "  </tbody>\n",
       "</table>\n",
       "</div>"
      ],
      "text/plain": [
       "              preco   avaliacao  quantidade_avaliacoes\n",
       "count    788.000000  788.000000             788.000000\n",
       "mean    4018.460089    4.737310               5.258883\n",
       "std     2972.744369    0.597137              19.433763\n",
       "min       37.760000    1.000000               0.000000\n",
       "25%     2514.682500    5.000000               0.000000\n",
       "50%     3347.550000    5.000000               0.000000\n",
       "75%     4319.100000    5.000000               2.000000\n",
       "max    28709.000000    5.000000             262.000000"
      ]
     },
     "execution_count": 9,
     "metadata": {},
     "output_type": "execute_result"
    }
   ],
   "source": [
    "df.describe()"
   ]
  },
  {
   "cell_type": "markdown",
   "metadata": {},
   "source": [
    "## Histograma: Distribuição de Frequencias"
   ]
  },
  {
   "cell_type": "code",
   "execution_count": 37,
   "metadata": {
    "scrolled": false
   },
   "outputs": [
    {
     "data": {
      "image/png": "[encoded data removed]",
      "text/plain": [
       "<Figure size 842.4x595.44 with 1 Axes>"
      ]
     },
     "metadata": {},
     "output_type": "display_data"
    }
   ],
   "source": [
    "sns.set(style=\"darkgrid\")\n",
    "sns.set(rc={'figure.figsize':(11.7,8.27)})\n",
    "histplot = sns.histplot(data=df, x='preco', linewidth=1, bins=30, kde=True)\n",
    "histplot.axes.set_title(\"Histograma de Preços de Geladeiras\", fontsize=16)\n",
    "histplot.set_xlabel(\"Preço\", fontsize=14)\n",
    "histplot.set_ylabel(\"Frequência\", fontsize=14)\n",
    "plt.show()"
   ]
  },
  {
   "cell_type": "markdown",
   "metadata": {},
   "source": [
    "A distribuição é fortemente assimétrica dada a presença de outliers"
   ]
  },
  {
   "cell_type": "markdown",
   "metadata": {},
   "source": [
    "## Boxplot: Visualização de outliers"
   ]
  },
  {
   "cell_type": "code",
   "execution_count": 38,
   "metadata": {},
   "outputs": [
    {
     "data": {
      "image/png": "[encoded data removed]",
      "text/plain": [
       "<Figure size 842.4x595.44 with 1 Axes>"
      ]
     },
     "metadata": {},
     "output_type": "display_data"
    }
   ],
   "source": [
    "sns.set(style=\"darkgrid\")\n",
    "sns.set(rc={'figure.figsize':(11.7,8.27)})\n",
    "boxplot = sns.boxplot(data=df['preco'], linewidth=2.5, width=0.25)\n",
    "boxplot.axes.set_title(\"Boxplot Preços de Geladeira\", fontsize=16)\n",
    "boxplot.set_xlabel(\"Geladeira\", fontsize=14)\n",
    "boxplot.set_ylabel(\"Preço\", fontsize=14)\n",
    "plt.show()"
   ]
  },
  {
   "cell_type": "markdown",
   "metadata": {},
   "source": [
    "### Remoção de Outliers"
   ]
  },
  {
   "cell_type": "markdown",
   "metadata": {},
   "source": [
    "Percebe-se que há outliers no departamento de smartphones.\n",
    "\n",
    "Podem ser acessórios para smartphones com preços muito baixos, ou celulares com preços muito acima da média\n",
    "\n",
    "Haverá agora um trabalho de remoção de outliers do nosso dataset"
   ]
  },
  {
   "cell_type": "markdown",
   "metadata": {},
   "source": [
    "### Função que retira os indices dos outliers do nosso dataframe"
   ]
  },
  {
   "cell_type": "code",
   "execution_count": 12,
   "metadata": {},
   "outputs": [],
   "source": [
    "def outliers_indexes(df, ft):\n",
    "    \"\"\" \n",
    "    Função que retorna o índice dos outliers\n",
    "    Embasamento matemático:\n",
    "    Amplitude Interquartil => IQR = Quartil_3 - Quartil_1\n",
    "    Limite Inferior => LI = Quartil_1 - 1.5*IQR\n",
    "    Limite Superior => LS = Quartil_3 + 1.5*IQR\n",
    "    Todos os dados que estiverem acima do limite superior ou abaixo do limite inferior, são outliers\n",
    "    \"\"\"\n",
    "    Q1 = df[ft].quantile(0.25)\n",
    "    Q3 = df[ft].quantile(0.75)\n",
    "    IQR = Q3 - Q1\n",
    "    \n",
    "    LI = Q1 - 1.5*IQR\n",
    "    LS = Q3 + 1.5*IQR\n",
    "    \n",
    "    lista_indices = df.index[ (df[ft] < LI) | (df[ft] > LS) ]\n",
    "    \n",
    "    return lista_indices"
   ]
  },
  {
   "cell_type": "code",
   "execution_count": 13,
   "metadata": {},
   "outputs": [],
   "source": [
    "# Cria-se uma lista vazia para armazenar os índices de saídas de múltiplas colunas \n",
    "# (somente caso se quisesse tirar outliers de multiplas colunas)\n",
    "index_list = []\n",
    "for feature in ['preco', 'quantidade_avaliacoes']:\n",
    "    index_list.extend(outliers_indexes(df, feature))"
   ]
  },
  {
   "cell_type": "markdown",
   "metadata": {},
   "source": [
    "Será usada uma versão mais simples, apenas para retornar os índices de uma única coluna, o preço"
   ]
  },
  {
   "cell_type": "code",
   "execution_count": 14,
   "metadata": {},
   "outputs": [],
   "source": [
    "outliers_index_list = outliers_indexes(df, 'preco')"
   ]
  },
  {
   "cell_type": "code",
   "execution_count": 15,
   "metadata": {
    "scrolled": false
   },
   "outputs": [
    {
     "data": {
      "text/plain": [
       "Int64Index([ 77, 102, 113, 140, 167, 197, 232, 252, 254, 260, 280, 282, 290,\n",
       "            297, 329, 340, 355, 373, 392, 393, 450, 454, 455, 463, 473, 484,\n",
       "            508, 517, 518, 556, 558, 573, 576, 582, 583, 590, 598, 611, 616,\n",
       "            637, 664, 725, 733, 784, 846, 849, 895, 904, 914, 953, 963, 976,\n",
       "            998],\n",
       "           dtype='int64')"
      ]
     },
     "execution_count": 15,
     "metadata": {},
     "output_type": "execute_result"
    }
   ],
   "source": [
    "outliers_index_list"
   ]
  },
  {
   "cell_type": "code",
   "execution_count": 16,
   "metadata": {},
   "outputs": [
    {
     "data": {
      "text/plain": [
       "53"
      ]
     },
     "execution_count": 16,
     "metadata": {},
     "output_type": "execute_result"
    }
   ],
   "source": [
    "len(outliers_index_list)"
   ]
  },
  {
   "cell_type": "markdown",
   "metadata": {},
   "source": [
    "### Função de Remoção de Outliers"
   ]
  },
  {
   "cell_type": "markdown",
   "metadata": {},
   "source": [
    "Por fim, define-se uma função para a remoção de todos os registros que contém outliers, tendo a lista de índices como input"
   ]
  },
  {
   "cell_type": "code",
   "execution_count": 17,
   "metadata": {},
   "outputs": [],
   "source": [
    "def remove_outliers(df, index_list):\n",
    "    index_list = sorted(set(index_list))\n",
    "    # Drop dos outliers\n",
    "    df = df.drop(index_list)\n",
    "    return df   "
   ]
  },
  {
   "cell_type": "markdown",
   "metadata": {},
   "source": [
    "### Limpa-se o dataframe dos outliers"
   ]
  },
  {
   "cell_type": "code",
   "execution_count": 18,
   "metadata": {},
   "outputs": [],
   "source": [
    "df_clean = remove_outliers(df, outliers_index_list)"
   ]
  },
  {
   "cell_type": "code",
   "execution_count": 28,
   "metadata": {},
   "outputs": [
    {
     "data": {
      "text/plain": [
       "(733, 5)"
      ]
     },
     "execution_count": 28,
     "metadata": {},
     "output_type": "execute_result"
    }
   ],
   "source": [
    "df_clean.shape"
   ]
  },
  {
   "cell_type": "markdown",
   "metadata": {},
   "source": [
    "### Remove-se os itens com valor muito baixo"
   ]
  },
  {
   "cell_type": "code",
   "execution_count": 29,
   "metadata": {},
   "outputs": [],
   "source": [
    "df_mask = df_clean['preco'] >= 1000\n",
    "df_clean = df_clean[df_mask]"
   ]
  },
  {
   "cell_type": "markdown",
   "metadata": {},
   "source": [
    "## Histograma: Distribuição de Frequência (Outliers removidos)"
   ]
  },
  {
   "cell_type": "code",
   "execution_count": 39,
   "metadata": {
    "scrolled": false
   },
   "outputs": [
    {
     "data": {
      "image/png": "[encoded data removed]",
      "text/plain": [
       "<Figure size 842.4x595.44 with 1 Axes>"
      ]
     },
     "metadata": {},
     "output_type": "display_data"
    }
   ],
   "source": [
    "sns.set(style=\"darkgrid\")\n",
    "sns.set(rc={'figure.figsize':(11.7,8.27)})\n",
    "histplot = sns.histplot(data=df_clean, x='preco', linewidth=1, bins=30, kde=True)\n",
    "histplot.axes.set_title(\"Histograma de Preços de Geladeiras\", fontsize=16)\n",
    "histplot.set_xlabel(\"Preço\", fontsize=14)\n",
    "histplot.set_ylabel(\"Frequência\", fontsize=14)\n",
    "plt.show()"
   ]
  },
  {
   "cell_type": "markdown",
   "metadata": {},
   "source": [
    "Nota-se maior simetria na distribuição após a remoção dos outliers, ainda que esta não seja uma distribuição Gaussiana"
   ]
  },
  {
   "cell_type": "markdown",
   "metadata": {},
   "source": [
    "## Boxplot sem Outliers"
   ]
  },
  {
   "cell_type": "code",
   "execution_count": 41,
   "metadata": {
    "scrolled": false
   },
   "outputs": [
    {
     "data": {
      "image/png": "[encoded data removed]",
      "text/plain": [
       "<Figure size 842.4x595.44 with 1 Axes>"
      ]
     },
     "metadata": {},
     "output_type": "display_data"
    }
   ],
   "source": [
    "sns.set(style=\"darkgrid\")\n",
    "sns.set(rc={'figure.figsize':(11.7,8.27)})\n",
    "boxplot = sns.boxplot(data=df_clean['preco'], linewidth=2.5, width=0.25)\n",
    "boxplot.axes.set_title(\"Distribuição de Preços de Geladeiras\", fontsize=16)\n",
    "boxplot.set_xlabel(\"Geladeiras\", fontsize=14)\n",
    "boxplot.set_ylabel(\"Preço\", fontsize=14)\n",
    "plt.show()"
   ]
  },
  {
   "cell_type": "markdown",
   "metadata": {},
   "source": [
    "## Estatística descritiva, sem outliers"
   ]
  },
  {
   "cell_type": "code",
   "execution_count": 32,
   "metadata": {
    "scrolled": false
   },
   "outputs": [
    {
     "data": {
      "text/html": [
       "<div>\n",
       "<style scoped>\n",
       "    .dataframe tbody tr th:only-of-type {\n",
       "        vertical-align: middle;\n",
       "    }\n",
       "\n",
       "    .dataframe tbody tr th {\n",
       "        vertical-align: top;\n",
       "    }\n",
       "\n",
       "    .dataframe thead th {\n",
       "        text-align: right;\n",
       "    }\n",
       "</style>\n",
       "<table border=\"1\" class=\"dataframe\">\n",
       "  <thead>\n",
       "    <tr style=\"text-align: right;\">\n",
       "      <th></th>\n",
       "      <th>preco</th>\n",
       "      <th>avaliacao</th>\n",
       "      <th>quantidade_avaliacoes</th>\n",
       "    </tr>\n",
       "  </thead>\n",
       "  <tbody>\n",
       "    <tr>\n",
       "      <th>count</th>\n",
       "      <td>732.000000</td>\n",
       "      <td>732.000000</td>\n",
       "      <td>732.000000</td>\n",
       "    </tr>\n",
       "    <tr>\n",
       "      <th>mean</th>\n",
       "      <td>3390.682199</td>\n",
       "      <td>4.728142</td>\n",
       "      <td>5.636612</td>\n",
       "    </tr>\n",
       "    <tr>\n",
       "      <th>std</th>\n",
       "      <td>1225.894128</td>\n",
       "      <td>0.599704</td>\n",
       "      <td>20.113404</td>\n",
       "    </tr>\n",
       "    <tr>\n",
       "      <th>min</th>\n",
       "      <td>1413.800000</td>\n",
       "      <td>1.000000</td>\n",
       "      <td>0.000000</td>\n",
       "    </tr>\n",
       "    <tr>\n",
       "      <th>25%</th>\n",
       "      <td>2451.727500</td>\n",
       "      <td>5.000000</td>\n",
       "      <td>0.000000</td>\n",
       "    </tr>\n",
       "    <tr>\n",
       "      <th>50%</th>\n",
       "      <td>3211.010000</td>\n",
       "      <td>5.000000</td>\n",
       "      <td>0.000000</td>\n",
       "    </tr>\n",
       "    <tr>\n",
       "      <th>75%</th>\n",
       "      <td>4093.052500</td>\n",
       "      <td>5.000000</td>\n",
       "      <td>2.000000</td>\n",
       "    </tr>\n",
       "    <tr>\n",
       "      <th>max</th>\n",
       "      <td>6999.900000</td>\n",
       "      <td>5.000000</td>\n",
       "      <td>262.000000</td>\n",
       "    </tr>\n",
       "  </tbody>\n",
       "</table>\n",
       "</div>"
      ],
      "text/plain": [
       "             preco   avaliacao  quantidade_avaliacoes\n",
       "count   732.000000  732.000000             732.000000\n",
       "mean   3390.682199    4.728142               5.636612\n",
       "std    1225.894128    0.599704              20.113404\n",
       "min    1413.800000    1.000000               0.000000\n",
       "25%    2451.727500    5.000000               0.000000\n",
       "50%    3211.010000    5.000000               0.000000\n",
       "75%    4093.052500    5.000000               2.000000\n",
       "max    6999.900000    5.000000             262.000000"
      ]
     },
     "execution_count": 32,
     "metadata": {},
     "output_type": "execute_result"
    }
   ],
   "source": [
    "df_clean.describe()"
   ]
  },
  {
   "cell_type": "markdown",
   "metadata": {},
   "source": [
    "Verifica-se assim que:\n",
    " - A média de preço de um Smartphone está em torno de 4000,00 reais, com 1700,00 reais para mais ou para menos\n",
    " - A Mediana do preço de um smartphone é 3700 reais\n",
    " - A média de quantidade de avaliações é 2 por produto. A baixa quantidade pode indicar que essa medida não é confiável"
   ]
  },
  {
   "cell_type": "markdown",
   "metadata": {},
   "source": [
    "## Item Mais Caro (Outliers não removidos)"
   ]
  },
  {
   "cell_type": "code",
   "execution_count": 42,
   "metadata": {
    "scrolled": false
   },
   "outputs": [
    {
     "name": "stdout",
     "output_type": "stream",
     "text": [
      "                                            descricao    preco  avaliacao  \\\n",
      "77  Geladeira Samsung RF27T Inverter Frost Free Sm...  28709.0          3   \n",
      "\n",
      "    quantidade_avaliacoes                                                URL  \n",
      "77                      3  https://www.magazineluiza.com.br/geladeira-sam...  \n"
     ]
    }
   ],
   "source": [
    "df_mask = df['preco'] == max(df['preco'])\n",
    "filtered_df = df[df_mask]\n",
    "print(filtered_df)"
   ]
  },
  {
   "cell_type": "markdown",
   "metadata": {},
   "source": [
    "## Item Mais Caro (Outliers Removidos)"
   ]
  },
  {
   "cell_type": "code",
   "execution_count": 34,
   "metadata": {
    "scrolled": false
   },
   "outputs": [
    {
     "name": "stdout",
     "output_type": "stream",
     "text": [
      "                                         descricao   preco  avaliacao  \\\n",
      "1000  Refrigerador Philco French Door 396L PRF406I  6999.9          5   \n",
      "\n",
      "      quantidade_avaliacoes                                                URL  \n",
      "1000                      0  https://www.magazineluiza.com.br/refrigerador-...  \n"
     ]
    }
   ],
   "source": [
    "df_mask = df_clean['preco'] == max(df_clean['preco'])\n",
    "filtered_df = df_clean[df_mask]\n",
    "print(filtered_df)"
   ]
  },
  {
   "cell_type": "markdown",
   "metadata": {},
   "source": [
    "## Item mais barato"
   ]
  },
  {
   "cell_type": "code",
   "execution_count": 35,
   "metadata": {
    "scrolled": true
   },
   "outputs": [
    {
     "name": "stdout",
     "output_type": "stream",
     "text": [
      "                                              descricao    preco  avaliacao  \\\n",
      "93    Refrigerador 245 Litros Esmaltec 1 Porta Class...  1413.80          5   \n",
      "1001  Refrigerador Electrolux Degelo Prático 240 Lit...  1413.83          4   \n",
      "161   Geladeira Cycle Defrost Electrolux 240 Litros ...  1420.33          4   \n",
      "532   Geladeira Refrigerador Electrolux 240 Litros 1...  1439.01          4   \n",
      "60    Refrigerador Consul CRA30FB 261 Litros Branco ...  1453.82          4   \n",
      "\n",
      "      quantidade_avaliacoes                                                URL  \n",
      "93                        0  https://www.magazineluiza.com.br/refrigerador-...  \n",
      "1001                     11  https://www.magazineluiza.com.br/refrigerador-...  \n",
      "161                      89  https://www.magazineluiza.com.br/geladeira-cyc...  \n",
      "532                       2  https://www.magazineluiza.com.br/geladeira-ref...  \n",
      "60                       22  https://www.magazineluiza.com.br/refrigerador-...  \n"
     ]
    }
   ],
   "source": [
    "df_mask = df_clean['preco'] >= 300\n",
    "filtered_df = df_clean[df_mask]\n",
    "print(filtered_df.sort_values(by=['preco'], ascending=True)[:5])"
   ]
  },
  {
   "cell_type": "markdown",
   "metadata": {},
   "source": [
    " Refrigerador 245 Litros Esmaltec 1 Porta de 1413,80 reais"
   ]
  },
  {
   "cell_type": "markdown",
   "metadata": {},
   "source": [
    "## 5 itens com preço menor ou igual a média"
   ]
  },
  {
   "cell_type": "code",
   "execution_count": 36,
   "metadata": {
    "scrolled": true
   },
   "outputs": [
    {
     "name": "stdout",
     "output_type": "stream",
     "text": [
      "                                             descricao    preco  avaliacao  \\\n",
      "17   Geladeira Brastemp Frost Free Duplex 375 litro...  3389.00          5   \n",
      "847  Geladeira Brastemp Frost Free Duplex 375 litro...  3389.00          5   \n",
      "410  Geladeira/Refrigerador Frost Free 431 Litros E...  3372.71          4   \n",
      "235  Geladeira/Refrigerador Frost Free 431 Litros E...  3372.71          1   \n",
      "728  Geladeira Duplex Top Freezer Electrolux 474 Li...  3359.97          5   \n",
      "\n",
      "     quantidade_avaliacoes                                                URL  \n",
      "17                       0  https://www.magazineluiza.com.br/geladeira-bra...  \n",
      "847                      0  https://www.magazineluiza.com.br/geladeira-bra...  \n",
      "410                      2  https://www.magazineluiza.com.br/geladeira-ref...  \n",
      "235                      1  https://www.magazineluiza.com.br/geladeira-ref...  \n",
      "728                      0  https://www.magazineluiza.com.br/geladeira-dup...  \n"
     ]
    }
   ],
   "source": [
    "df_mask = df_clean['preco'] <= df_clean['preco'].mean()\n",
    "filtered_df = df_clean[df_mask]\n",
    "print(filtered_df.sort_values(by=['preco'], ascending=False)[:5])"
   ]
  },
  {
   "cell_type": "markdown",
   "metadata": {},
   "source": [
    "Estes itens são considerados mid-range e tem uma boa relação custo-benefício."
   ]
  }
 ],
 "metadata": {
  "kernelspec": {
   "display_name": "Python 3",
   "language": "python",
   "name": "python3"
  },
  "language_info": {
   "codemirror_mode": {
    "name": "ipython",
    "version": 3
   },
   "file_extension": ".py",
   "mimetype": "text/x-python",
   "name": "python",
   "nbconvert_exporter": "python",
   "pygments_lexer": "ipython3",
   "version": "3.8.5"
  }
 },
 "nbformat": 4,
 "nbformat_minor": 4
}
