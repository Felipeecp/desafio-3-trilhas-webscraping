{
 "cells": [
  {
   "cell_type": "markdown",
   "metadata": {},
   "source": [
    "# Scraping Magalu"
   ]
  },
  {
   "cell_type": "markdown",
   "metadata": {},
   "source": [
    "### Pré-requisitos\n",
    "- Selenium\n",
    "- BeautifulSoup\n",
    "- Pandas\n",
    "- Unidecode"
   ]
  },
  {
   "cell_type": "code",
   "execution_count": 33,
   "metadata": {},
   "outputs": [],
   "source": [
    "import pandas as pd\n",
    "from bs4 import BeautifulSoup\n",
    "from selenium import webdriver\n",
    "from unidecode import unidecode"
   ]
  },
  {
   "cell_type": "markdown",
   "metadata": {},
   "source": [
    "### Função para pesquisar e personalizar a URL"
   ]
  },
  {
   "cell_type": "code",
   "execution_count": 3,
   "metadata": {},
   "outputs": [],
   "source": [
    "def personalizar_url(termo_de_pesquisa):\n",
    "    \"\"\"\n",
    "    Função para pesquisar produtos e personalizar a url de pesquisa\n",
    "    IN: 'smart tv 4k': str\n",
    "    OUT: https://www.magazineluiza.com.br/busca/iphone 11/?page={}\n",
    "    \"\"\"\n",
    "    template = 'https://www.magazineluiza.com.br/busca/{}/'\n",
    "    termo_de_pesquisa.replace('', '+')\n",
    "    \n",
    "    # Adicionando o query string da pesquisa na URL\n",
    "    url = template.format(termo_de_pesquisa)\n",
    "    \n",
    "    # Adicionando o query string da página na URL\n",
    "    url += '?page={}'\n",
    "    \n",
    "    return url"
   ]
  },
  {
   "cell_type": "markdown",
   "metadata": {},
   "source": [
    "### Scraping Smartphones"
   ]
  },
  {
   "cell_type": "code",
   "execution_count": 43,
   "metadata": {},
   "outputs": [],
   "source": [
    "url = personalizar_url('smartphone').format(1)\n",
    "driver = webdriver.Chrome()\n",
    "driver.get(url)\n",
    "soup = BeautifulSoup(driver.page_source, 'html.parser')"
   ]
  },
  {
   "cell_type": "markdown",
   "metadata": {},
   "source": [
    "### Extração da Lista de Produtos"
   ]
  },
  {
   "cell_type": "code",
   "execution_count": 15,
   "metadata": {},
   "outputs": [
    {
     "data": {
      "text/plain": [
       "59"
      ]
     },
     "execution_count": 15,
     "metadata": {},
     "output_type": "execute_result"
    }
   ],
   "source": [
    "lista_de_produtos = soup.find_all('li', {'class':'sc-eCVOVf loRbcV'})\n",
    "len(lista_de_produtos)"
   ]
  },
  {
   "cell_type": "markdown",
   "metadata": {},
   "source": [
    "### Prototipando a extração de um registro"
   ]
  },
  {
   "cell_type": "code",
   "execution_count": 17,
   "metadata": {},
   "outputs": [],
   "source": [
    "item = lista_de_produtos[0]"
   ]
  },
  {
   "cell_type": "markdown",
   "metadata": {},
   "source": [
    "### Extração do Título do Produto"
   ]
  },
  {
   "cell_type": "code",
   "execution_count": 21,
   "metadata": {
    "scrolled": true
   },
   "outputs": [
    {
     "data": {
      "text/plain": [
       "'iPhone 11 Apple 64GB Branco 6,1” 12MP iOS'"
      ]
     },
     "execution_count": 21,
     "metadata": {},
     "output_type": "execute_result"
    }
   ],
   "source": [
    "titulo_produto = item.a.h2.text.strip()\n",
    "titulo_produto"
   ]
  },
  {
   "cell_type": "markdown",
   "metadata": {},
   "source": [
    "### Extração URL dos Detalhes do Produto"
   ]
  },
  {
   "cell_type": "code",
   "execution_count": 24,
   "metadata": {
    "scrolled": true
   },
   "outputs": [
    {
     "data": {
      "text/plain": [
       "'/iphone-11-apple-64gb-branco-61-12mp-ios/p/155614100/te/ip11/'"
      ]
     },
     "execution_count": 24,
     "metadata": {},
     "output_type": "execute_result"
    }
   ],
   "source": [
    "rota_detalhes_produto = item.a.get('href')\n",
    "rota_detalhes_produto"
   ]
  },
  {
   "cell_type": "code",
   "execution_count": 25,
   "metadata": {
    "scrolled": true
   },
   "outputs": [
    {
     "data": {
      "text/plain": [
       "'https://www.magazineluiza.com.br/iphone-11-apple-64gb-branco-61-12mp-ios/p/155614100/te/ip11/'"
      ]
     },
     "execution_count": 25,
     "metadata": {},
     "output_type": "execute_result"
    }
   ],
   "source": [
    "url_detalhes_produto = f'https://www.magazineluiza.com.br{rota_detalhes_produto}'\n",
    "url_detalhes_produto"
   ]
  },
  {
   "cell_type": "markdown",
   "metadata": {},
   "source": [
    "### Extração do Preço"
   ]
  },
  {
   "cell_type": "code",
   "execution_count": 30,
   "metadata": {},
   "outputs": [
    {
     "data": {
      "text/plain": [
       "'R$\\xa03.719,07'"
      ]
     },
     "execution_count": 30,
     "metadata": {},
     "output_type": "execute_result"
    }
   ],
   "source": [
    "preco_produto = item.find('p', {'data-testid':'price-value'}).text.strip()\n",
    "preco_produto"
   ]
  },
  {
   "cell_type": "markdown",
   "metadata": {},
   "source": [
    "#### Problema com \\xa0.\n",
    "Resolução:\n",
    "https://stackoverflow.com/questions/26068832/how-to-remove-this-xa0-from-a-string-in-python"
   ]
  },
  {
   "cell_type": "code",
   "execution_count": 34,
   "metadata": {},
   "outputs": [
    {
     "data": {
      "text/plain": [
       "'R$ 3.719,07'"
      ]
     },
     "execution_count": 34,
     "metadata": {},
     "output_type": "execute_result"
    }
   ],
   "source": [
    "preco_produto = item.find('p', {'data-testid':'price-value'}).text.strip()\n",
    "preco_produto = unidecode(preco_produto)\n",
    "preco_produto"
   ]
  },
  {
   "cell_type": "markdown",
   "metadata": {},
   "source": [
    "#### Extração Parte Inteira do Preço"
   ]
  },
  {
   "cell_type": "code",
   "execution_count": 42,
   "metadata": {},
   "outputs": [
    {
     "data": {
      "text/plain": [
       "3719.07"
      ]
     },
     "execution_count": 42,
     "metadata": {},
     "output_type": "execute_result"
    }
   ],
   "source": [
    "preco_produto_float = float(preco_produto.split()[-1].replace('.','').replace(',','.'))\n",
    "preco_produto_float"
   ]
  },
  {
   "cell_type": "markdown",
   "metadata": {},
   "source": [
    "### Extraindo Avaliação"
   ]
  },
  {
   "cell_type": "markdown",
   "metadata": {},
   "source": [
    "Conta-se a avaliação na magalu ao contar o número de estrelas completas -> StarIcon"
   ]
  },
  {
   "cell_type": "code",
   "execution_count": 46,
   "metadata": {},
   "outputs": [
    {
     "data": {
      "text/plain": [
       "4"
      ]
     },
     "execution_count": 46,
     "metadata": {},
     "output_type": "execute_result"
    }
   ],
   "source": [
    "avaliacao = len(item.find_all('use', {'xlink:href':'#StarIcon'}))\n",
    "avaliacao"
   ]
  },
  {
   "cell_type": "markdown",
   "metadata": {},
   "source": [
    "### Extraindo Quantidade de Avaliações"
   ]
  },
  {
   "cell_type": "code",
   "execution_count": 59,
   "metadata": {},
   "outputs": [
    {
     "data": {
      "text/plain": [
       "58"
      ]
     },
     "execution_count": 59,
     "metadata": {},
     "output_type": "execute_result"
    }
   ],
   "source": [
    "quantidade_avaliacoes = int(item.find('span', {'format':'count'}).text.strip())\n",
    "quantidade_avaliacoes"
   ]
  },
  {
   "cell_type": "markdown",
   "metadata": {},
   "source": [
    "## Encapsulando o Protótipo em Funções\n",
    "Isto torna nosso código mais limpo e reutilizável"
   ]
  },
  {
   "cell_type": "code",
   "execution_count": 69,
   "metadata": {},
   "outputs": [],
   "source": [
    "def extrair_titulo_produto(produto):\n",
    "    return produto.a.h2.text.strip()\n",
    "\n",
    "def extrair_url_produto(produto):\n",
    "    rota_detalhes_produto = produto.a.get('href')\n",
    "    return f'https://www.magazineluiza.com.br{rota_detalhes_produto}'\n",
    "\n",
    "def extrair_preco_produto(produto):\n",
    "    preco_produto = produto.find('p', {'data-testid':'price-value'}).text.strip()\n",
    "    preco_produto = unidecode(preco_produto)\n",
    "    preco_produto_float = float(preco_produto.split()[-1].replace('.','').replace(',','.'))\n",
    "    return preco_produto_float\n",
    "    \n",
    "def extrair_avaliacao(produto):\n",
    "    return len(produto.find_all('use', {'xlink:href':'#StarIcon'})) \n",
    "\n",
    "def extrair_quantidade_avaliacoes(produto):\n",
    "    return int(produto.find('span', {'format':'count'}).text.strip())"
   ]
  },
  {
   "cell_type": "markdown",
   "metadata": {},
   "source": [
    "### Agregando os códigos para a função de extrair informações do produto"
   ]
  },
  {
   "cell_type": "code",
   "execution_count": 64,
   "metadata": {},
   "outputs": [],
   "source": [
    "def extrair_informacoes_produto(produto):\n",
    "    titulo = extrair_titulo_produto(produto)\n",
    "    preco = extrair_preco_produto(produto)\n",
    "    avaliacao = extrair_avaliacao(produto)\n",
    "    quantidade_avaliacoes = extrair_quantidade_avaliacoes(produto)\n",
    "    url = extrair_url_produto(produto)\n",
    "    \n",
    "    return (titulo, preco, avaliacao, quantidade_avaliacoes, url)"
   ]
  },
  {
   "cell_type": "markdown",
   "metadata": {},
   "source": [
    "#### Testando a função"
   ]
  },
  {
   "cell_type": "code",
   "execution_count": 65,
   "metadata": {
    "scrolled": true
   },
   "outputs": [
    {
     "name": "stdout",
     "output_type": "stream",
     "text": [
      "('iPhone 11 Apple 64GB Branco 6,1” 12MP iOS', 3719.07, 4, 58, 'https://www.magazineluiza.com.br/iphone-11-apple-64gb-branco-61-12mp-ios/p/155614100/te/ip11/')\n"
     ]
    }
   ],
   "source": [
    "print(extrair_informacoes_produto(item))"
   ]
  },
  {
   "cell_type": "markdown",
   "metadata": {},
   "source": [
    "Deu tudo certo até agora 😁"
   ]
  },
  {
   "cell_type": "markdown",
   "metadata": {},
   "source": [
    "### Testando para saber se pega todos os itens da página com sucesso"
   ]
  },
  {
   "cell_type": "code",
   "execution_count": 67,
   "metadata": {
    "scrolled": true
   },
   "outputs": [
    {
     "ename": "AttributeError",
     "evalue": "'NoneType' object has no attribute 'text'",
     "output_type": "error",
     "traceback": [
      "\u001b[1;31m---------------------------------------------------------------------------\u001b[0m",
      "\u001b[1;31mAttributeError\u001b[0m                            Traceback (most recent call last)",
      "\u001b[1;32m<ipython-input-67-0991ae52e656>\u001b[0m in \u001b[0;36m<module>\u001b[1;34m\u001b[0m\n\u001b[0;32m      3\u001b[0m \u001b[1;33m\u001b[0m\u001b[0m\n\u001b[0;32m      4\u001b[0m \u001b[1;32mfor\u001b[0m \u001b[0mproduto\u001b[0m \u001b[1;32min\u001b[0m \u001b[0mresultado_da_pesquisa\u001b[0m\u001b[1;33m:\u001b[0m\u001b[1;33m\u001b[0m\u001b[1;33m\u001b[0m\u001b[0m\n\u001b[1;32m----> 5\u001b[1;33m     \u001b[0mlista_produtos\u001b[0m\u001b[1;33m.\u001b[0m\u001b[0mappend\u001b[0m\u001b[1;33m(\u001b[0m\u001b[0mextrair_informacoes_produto\u001b[0m\u001b[1;33m(\u001b[0m\u001b[0mproduto\u001b[0m\u001b[1;33m)\u001b[0m\u001b[1;33m)\u001b[0m\u001b[1;33m\u001b[0m\u001b[1;33m\u001b[0m\u001b[0m\n\u001b[0m",
      "\u001b[1;32m<ipython-input-64-1e822a9c7bda>\u001b[0m in \u001b[0;36mextrair_informacoes_produto\u001b[1;34m(produto)\u001b[0m\n\u001b[0;32m      3\u001b[0m     \u001b[0mpreco\u001b[0m \u001b[1;33m=\u001b[0m \u001b[0mextrair_preco_produto\u001b[0m\u001b[1;33m(\u001b[0m\u001b[0mproduto\u001b[0m\u001b[1;33m)\u001b[0m\u001b[1;33m\u001b[0m\u001b[1;33m\u001b[0m\u001b[0m\n\u001b[0;32m      4\u001b[0m     \u001b[0mavaliacao\u001b[0m \u001b[1;33m=\u001b[0m \u001b[0mextrair_avaliacao\u001b[0m\u001b[1;33m(\u001b[0m\u001b[0mproduto\u001b[0m\u001b[1;33m)\u001b[0m\u001b[1;33m\u001b[0m\u001b[1;33m\u001b[0m\u001b[0m\n\u001b[1;32m----> 5\u001b[1;33m     \u001b[0mquantidade_avaliacoes\u001b[0m \u001b[1;33m=\u001b[0m \u001b[0mextrair_quantidade_avaliacoes\u001b[0m\u001b[1;33m(\u001b[0m\u001b[0mproduto\u001b[0m\u001b[1;33m)\u001b[0m\u001b[1;33m\u001b[0m\u001b[1;33m\u001b[0m\u001b[0m\n\u001b[0m\u001b[0;32m      6\u001b[0m     \u001b[0murl\u001b[0m \u001b[1;33m=\u001b[0m \u001b[0mextrair_url_produto\u001b[0m\u001b[1;33m(\u001b[0m\u001b[0mproduto\u001b[0m\u001b[1;33m)\u001b[0m\u001b[1;33m\u001b[0m\u001b[1;33m\u001b[0m\u001b[0m\n\u001b[0;32m      7\u001b[0m \u001b[1;33m\u001b[0m\u001b[0m\n",
      "\u001b[1;32m<ipython-input-63-c8da5bcb5da7>\u001b[0m in \u001b[0;36mextrair_quantidade_avaliacoes\u001b[1;34m(produto)\u001b[0m\n\u001b[0;32m     16\u001b[0m \u001b[1;33m\u001b[0m\u001b[0m\n\u001b[0;32m     17\u001b[0m \u001b[1;32mdef\u001b[0m \u001b[0mextrair_quantidade_avaliacoes\u001b[0m\u001b[1;33m(\u001b[0m\u001b[0mproduto\u001b[0m\u001b[1;33m)\u001b[0m\u001b[1;33m:\u001b[0m\u001b[1;33m\u001b[0m\u001b[1;33m\u001b[0m\u001b[0m\n\u001b[1;32m---> 18\u001b[1;33m     \u001b[1;32mreturn\u001b[0m \u001b[0mint\u001b[0m\u001b[1;33m(\u001b[0m\u001b[0mproduto\u001b[0m\u001b[1;33m.\u001b[0m\u001b[0mfind\u001b[0m\u001b[1;33m(\u001b[0m\u001b[1;34m'span'\u001b[0m\u001b[1;33m,\u001b[0m \u001b[1;33m{\u001b[0m\u001b[1;34m'format'\u001b[0m\u001b[1;33m:\u001b[0m\u001b[1;34m'count'\u001b[0m\u001b[1;33m}\u001b[0m\u001b[1;33m)\u001b[0m\u001b[1;33m.\u001b[0m\u001b[0mtext\u001b[0m\u001b[1;33m.\u001b[0m\u001b[0mstrip\u001b[0m\u001b[1;33m(\u001b[0m\u001b[1;33m)\u001b[0m\u001b[1;33m)\u001b[0m\u001b[1;33m\u001b[0m\u001b[1;33m\u001b[0m\u001b[0m\n\u001b[0m",
      "\u001b[1;31mAttributeError\u001b[0m: 'NoneType' object has no attribute 'text'"
     ]
    }
   ],
   "source": [
    "lista_produtos = []\n",
    "resultado_da_pesquisa = soup.find_all('li', {'class':'sc-eCVOVf loRbcV'})\n",
    "\n",
    "for produto in resultado_da_pesquisa:\n",
    "    lista_produtos.append(extrair_informacoes_produto(produto))"
   ]
  },
  {
   "cell_type": "markdown",
   "metadata": {},
   "source": [
    "Deu errado ao extrair a quantidade de avaliações 😅\n",
    "\n",
    "Podemos corrigir isso através do tratamento de exceções"
   ]
  },
  {
   "cell_type": "code",
   "execution_count": 70,
   "metadata": {},
   "outputs": [],
   "source": [
    "def extrair_titulo_produto(produto):\n",
    "    return produto.a.h2.text.strip()\n",
    "\n",
    "def extrair_url_produto(produto):\n",
    "    rota_detalhes_produto = produto.a.get('href')\n",
    "    return f'https://www.magazineluiza.com.br{rota_detalhes_produto}'\n",
    "\n",
    "def extrair_preco_produto(produto):\n",
    "    preco_produto = produto.find('p', {'data-testid':'price-value'}).text.strip()\n",
    "    preco_produto = unidecode(preco_produto)\n",
    "    preco_produto_float = float(preco_produto.split()[-1].replace('.','').replace(',','.'))\n",
    "    return preco_produto_float\n",
    "    \n",
    "def extrair_avaliacao(produto):\n",
    "    return len(produto.find_all('use', {'xlink:href':'#StarIcon'})) \n",
    "\n",
    "def extrair_quantidade_avaliacoes(produto):\n",
    "    try:\n",
    "        return int(produto.find('span', {'format':'count'}).text.strip())\n",
    "    except AttributeError:\n",
    "        return 0"
   ]
  },
  {
   "cell_type": "markdown",
   "metadata": {},
   "source": [
    "Testando novamente..."
   ]
  },
  {
   "cell_type": "code",
   "execution_count": 71,
   "metadata": {},
   "outputs": [],
   "source": [
    "lista_produtos = []\n",
    "resultado_da_pesquisa = soup.find_all('li', {'class':'sc-eCVOVf loRbcV'})\n",
    "\n",
    "for produto in resultado_da_pesquisa:\n",
    "    lista_produtos.append(extrair_informacoes_produto(produto))"
   ]
  },
  {
   "cell_type": "code",
   "execution_count": 72,
   "metadata": {
    "scrolled": true
   },
   "outputs": [
    {
     "name": "stdout",
     "output_type": "stream",
     "text": [
      "[('iPhone 11 Apple 64GB Branco 6,1” 12MP iOS', 3719.07, 4, 58, 'https://www.magazineluiza.com.br/iphone-11-apple-64gb-branco-61-12mp-ios/p/155614100/te/ip11/'), ('iPhone 11 Apple 64GB Roxo 6,1” 12MP iOS', 3719.07, 5, 1, 'https://www.magazineluiza.com.br/iphone-11-apple-64gb-roxo-61-12mp-ios/p/155610900/te/ip11/'), ('Smartphone Samsung Galaxy S20 FE 128GB Cloud Mint', 2099.0, 4, 48, 'https://www.magazineluiza.com.br/smartphone-samsung-galaxy-s20-fe-128gb-cloud-mint-4g-6gb-ram-tela-65-cam-tripla-selfie-32mp/p/155630400/te/gs2f/'), ('iPhone 11 Apple 64GB Preto 6,1” 12MP iOS', 3719.07, 4, 80, 'https://www.magazineluiza.com.br/iphone-11-apple-64gb-preto-61-12mp-ios/p/155610500/te/ip11/'), ('Smartphone Samsung Galaxy S20 FE 128GB Cloud White', 2099.0, 4, 51, 'https://www.magazineluiza.com.br/smartphone-samsung-galaxy-s20-fe-128gb-cloud-white-4g-6gb-ram-tela-65-cam-tripla-selfie-32mp/p/155630000/te/gs2f/'), ('iPhone XR Apple 64GB Preto 6,1” 12MP iOS', 2999.0, 4, 88, 'https://www.magazineluiza.com.br/iphone-xr-apple-64gb-preto-61-12mp-ios/p/155610600/te/ipxr/'), ('Smartphone Motorola Moto G30 128GB White Lilac 4G', 1259.1, 4, 64, 'https://www.magazineluiza.com.br/smartphone-motorola-moto-g30-128gb-white-lilac-4g-4gb-ram-tela-65-cam-quadrupla-selfie-13mp/p/155626400/te/mg30/'), ('Smartphone Samsung Galaxy A12 64GB Branco 4G', 975.57, 4, 52, 'https://www.magazineluiza.com.br/smartphone-samsung-galaxy-a12-64gb-branco-4g-octa-core-4gb-ram-65-cam-quadrupla-selfie-8mp/p/155617400/te/ga12/'), ('Smartphone Samsung Galaxy S20 FE 128GB Cloud Navy', 2099.0, 4, 110, 'https://www.magazineluiza.com.br/smartphone-samsung-galaxy-s20-fe-128gb-cloud-navy-4g-6gb-ram-tela-65-cam-tripla-selfie-32mp/p/155629800/te/gs2f/'), ('Smartphone Samsung Galaxy M12 64GB Verde 4G', 1007.1, 4, 13, 'https://www.magazineluiza.com.br/smartphone-samsung-galaxy-m12-64gb-verde-4g-4gb-ram-tela-65-cam-quadrupla-selfie-8mp/p/230001200/te/galx/'), ('Smartphone Samsung Galaxy A02s 32GB Vermelho 4G', 719.1, 4, 31, 'https://www.magazineluiza.com.br/smartphone-samsung-galaxy-a02s-32gb-vermelho-4g-octa-core-3gb-ram-65-cam-tripla-selfie-5mp/p/155615700/te/galx/'), ('Smartphone Samsung Galaxy M62 128GB Azul', 2399.0, 5, 0, 'https://www.magazineluiza.com.br/smartphone-samsung-galaxy-m62-128gb-azul-4g-8gb-ram-tela-67-cam-quadrupla-32mp/p/231105800/te/galx/'), ('Smartphone Motorola Moto E7 Power 32GB Vermelho', 699.0, 5, 2, 'https://www.magazineluiza.com.br/smartphone-motorola-moto-e7-power-32gb-vermelho-coral-4g-2gb-ram-tela-65-cam-dupla-selfie-5mp/p/155623300/te/me7p/'), ('Smartphone Samsung Galaxy A02s 32GB Azul 4G', 791.1, 3, 27, 'https://www.magazineluiza.com.br/smartphone-samsung-galaxy-a02s-32gb-azul-4g-octa-core-3gb-ram-65-cam-tripla-selfie-5mp/p/155615500/te/galx/'), ('Smartphone Samsung Galaxy A12 64GB Vermelho 4G', 975.57, 4, 23, 'https://www.magazineluiza.com.br/smartphone-samsung-galaxy-a12-64gb-vermelho-4g-octa-core-4gb-ram-65-cam-quadrupla-selfie-8mp/p/155616300/te/ga12/'), ('Smartphone Samsung Galaxy M12 64GB Azul 4G', 899.1, 4, 7, 'https://www.magazineluiza.com.br/smartphone-samsung-galaxy-m12-64gb-azul-4g-4gb-ram-tela-65-cam-quadrupla-selfie-8mp/p/230001100/te/galx/'), ('Smartphone Motorola Moto G20 64GB 4G Tela 6.5\" Câmera Quádupla 48MP 8MP 2MP 2MP Frontal 13MP Azul', 1058.4, 4, 2, 'https://www.magazineluiza.com.br/smartphone-motorola-moto-g20-64gb-4g-tela-6-5-camera-quadupla-48mp-8mp-2mp-2mp-frontal-13mp-azul/p/adgkb9kg9d/te/mg20/'), ('iPhone 11 Apple 128GB Preto 6,1” 12MP iOS', 4091.07, 4, 48, 'https://www.magazineluiza.com.br/iphone-11-apple-128gb-preto-61-12mp-ios/p/155611100/te/ip11/'), ('Smartphone Motorola Moto G10 64GB Cinza Aurora', 994.17, 4, 22, 'https://www.magazineluiza.com.br/smartphone-motorola-moto-g10-64gb-cinza-aurora-4g-4gb-ram-tela-65-cam-quadrupla-selfie-8mp/p/155626100/te/srmt/'), ('Smartphone Samsung Galaxy A10s 32GB Azul', 759.0, 4, 143, 'https://www.magazineluiza.com.br/smartphone-samsung-galaxy-a10s-32gb-azul-4g-2gb-ram-62-cam-dupla-selfie-8mp/p/155568400/te/galx/'), ('Smartphone Samsung Galaxy A02 32GB Vermelho 4G', 699.3, 4, 18, 'https://www.magazineluiza.com.br/smartphone-samsung-galaxy-a02-32gb-vermelho-4g-quad-core-2gb-ram-65-cam-dupla-selfie-5mp/p/155621700/te/galx/'), ('Smartphone Samsung Galaxy A12 64GB Preto 4G', 944.1, 3, 32, 'https://www.magazineluiza.com.br/smartphone-samsung-galaxy-a12-64gb-preto-4g-octa-core-4gb-ram-65-cam-quadrupla-selfie-8mp/p/155615900/te/ga12/'), ('Smartphone Samsung Galaxy A02 32GB Azul 4G', 699.3, 4, 30, 'https://www.magazineluiza.com.br/smartphone-samsung-galaxy-a02-32gb-azul-4g-quad-core-2gb-ram-65-cam-dupla-selfie-5mp/p/155621500/te/galx/'), ('Smartphone LG K22 Red 4G Quad-Core 2GB RAM', 719.1, 3, 61, 'https://www.magazineluiza.com.br/smartphone-lg-k22-red-4g-quad-core-2gb-ram-tela-62-cam-dupla-selfie-5mp-dual-chip/p/155587900/te/tcsp/'), ('Smartphone Motorola G60s 128GB Verde 4G', 1709.1, 5, 0, 'https://www.magazineluiza.com.br/smartphone-motorola-g60s-128gb-verde-4g-6gb-ram-tela-68-cam-quadrupla-selfie-16mp/p/231525000/te/srmt/'), ('Smartphone Samsung Galaxy M62 128GB Preto', 2399.0, 5, 0, 'https://www.magazineluiza.com.br/smartphone-samsung-galaxy-m62-128gb-preto-4g-8gb-ram-tela-67-cam-quadrupla-32mp/p/231105700/te/galx/'), ('Smartphone Motorola Moto E7 Power 32GB Azul', 699.0, 4, 16, 'https://www.magazineluiza.com.br/smartphone-motorola-moto-e7-power-32gb-azul-metalico-4g-2gb-ram-65-cam-dupla-selfie-5mp/p/155623200/te/me7p/'), ('Smartphone Samsung Galaxy A32 128GB Violeta 4G', 1398.6, 4, 45, 'https://www.magazineluiza.com.br/smartphone-samsung-galaxy-a32-128gb-violeta-4g-4gb-ram-tela-64-cam-quadrupla-selfie-20mp/p/155624100/te/ga32/'), ('Smartphone Motorola Moto G20 64GB Pink 4G', 1079.1, 5, 1, 'https://www.magazineluiza.com.br/smartphone-motorola-moto-g20-64gb-pink-4g-4gb-ram-tela-65-cam-quadrupla-selfie-13mp/p/155642000/te/mg20/'), ('Smartphone LG K41s 3gb Ram 32gb 4g Dual Chip Octa Core', 748.59, 4, 13, 'https://www.magazineluiza.com.br/smartphone-lg-k41s-3gb-ram-32gb-4g-dual-chip-octa-core/p/bkd938fd4a/te/tcsp/'), ('Smartphone Samsung Galaxy A02s 32GB Preto 4G', 799.2, 4, 26, 'https://www.magazineluiza.com.br/smartphone-samsung-galaxy-a02s-32gb-preto-4g-octa-core-3gb-ram-65-cam-tripla-selfie-5mp/p/155615300/te/galx/'), ('Smartphone Samsung Galaxy S20 FE 256GB Cloud Mint', 2699.1, 5, 4, 'https://www.magazineluiza.com.br/smartphone-samsung-galaxy-s20-fe-256gb-cloud-mint-4g-8gb-ram-tela-65-cam-tripla-selfie-32mp/p/155629200/te/galx/'), ('Smartphone Samsung Galaxy M12 64GB Preto 4G', 959.0, 5, 3, 'https://www.magazineluiza.com.br/smartphone-samsung-galaxy-m12-64gb-preto-4g-4gb-ram-tela-65-cam-quadrupla-selfie-8mp/p/230001000/te/galx/'), ('Smartphone Samsung Galaxy A10s 32GB Vermelho', 759.0, 3, 274, 'https://www.magazineluiza.com.br/smartphone-samsung-galaxy-a10s-32gb-vermelho-4g-2gb-ram-62-cam-dupla-selfie-8mp/p/155568600/te/galx/'), ('Smartphone Samsung Galaxy A02 32GB Preto 4G', 699.3, 3, 22, 'https://www.magazineluiza.com.br/smartphone-samsung-galaxy-a02-32gb-preto-4g-quad-core-2gb-ram-65-cam-dupla-selfie-5mp/p/155621300/te/galx/'), ('Smartphone Samsung Galaxy S20 FE 256GB Cloud White', 2699.1, 5, 2, 'https://www.magazineluiza.com.br/smartphone-samsung-galaxy-s20-fe-256gb-cloud-white-4g-8gb-ram-tela-65-cam-tripla-selfie-32mp/p/155628800/te/galx/'), ('Smartphone Motorola Moto E7 32GB Aquamarine', 740.0, 4, 21, 'https://www.magazineluiza.com.br/smartphone-motorola-moto-e7-32gb-aquamarine-4g-octa-core-2gb-ram-65-cam-dupla-selfie-5mp/p/155616500/te/me7p/'), ('Smartphone Motorola E7 Power 32GB 4G Tela 6.5\" Câmera Dupla 13MP 2MP Frontal 5MP Azul Metálico', 683.1, 4, 58, 'https://www.magazineluiza.com.br/smartphone-motorola-e7-power-32gb-4g-tela-6-5-camera-dupla-13mp-2mp-frontal-5mp-azul-metalico/p/fj9c767ed6/te/srmt/'), ('Smartphone Positivo Twist 4 Fit 32GB Vermelho 3G', 409.2, 2, 10, 'https://www.magazineluiza.com.br/smartphone-positivo-twist-4-fit-32gb-vermelho-3g-quad-core-1gb-ram-tela-5-cam-8mp-selfie-5mp/p/155628200/te/spst/'), ('Smartphone Xiaomi Redmi 9C 32GB Azul 4G', 899.0, 4, 8, 'https://www.magazineluiza.com.br/smartphone-xiaomi-redmi-9c-32gb-azul-4g-octa-core-2gb-653-cam-tripla-selfie-5mp/p/227716300/te/tcsp/'), ('Smartphone Samsung Galaxy S21 128GB Violeta 5G', 3998.7, 3, 3, 'https://www.magazineluiza.com.br/smartphone-samsung-galaxy-s21-128gb-violeta-5g-8gb-ram-tela-62-cam-tripla-selfie-10mp/p/155619100/te/galx/'), ('Smartphone Samsung Galaxy A03s 64GB Azul 4G', 1061.1, 5, 0, 'https://www.magazineluiza.com.br/smartphone-samsung-galaxy-a03s-64gb-azul-4g-4gb-ram-tela-65-cam-tripla-selfie-5mp/p/232538600/te/galx/'), ('Smartphone Samsung Galaxy S21 128GB Branco 5G', 3998.7, 4, 6, 'https://www.magazineluiza.com.br/smartphone-samsung-galaxy-s21-128gb-branco-5g-8gb-ram-tela-62-cam-tripla-selfie-10mp/p/155619300/te/galx/'), ('Smartphone LG K62 64GB Dual Chip Tela 6.59\" Câmera Quádrupla 48MP+5MP+2MP+2MP Frontal 13MP Vermelho', 926.1, 4, 79, 'https://www.magazineluiza.com.br/smartphone-lg-k62-64gb-dual-chip-tela-6-59-camera-quadrupla-48mp-5mp-2mp-2mp-frontal-13mp-vermelho/p/fd6a70509e/te/tcsp/'), ('Smartphone Samsung Galaxy M32, 128GB, 6GB RAM, Bateria de 5000mAh, Tela Infinita de 6.4\"', 1554.0, 5, 0, 'https://www.magazineluiza.com.br/smartphone-samsung-galaxy-m32-128gb-6gb-ram-bateria-de-5000mah-tela-infinita-de-6-4/p/fbe45j281f/te/tcsp/'), ('Smartphone Motorola Moto G20 64GB Azul 4G', 1079.1, 3, 12, 'https://www.magazineluiza.com.br/smartphone-motorola-moto-g20-64gb-azul-4g-4gb-ram-tela-65-cam-quadrupla-selfie-13mp/p/155641000/te/mg20/'), ('Smartphone Samsung Galaxy A52 128GB Azul 4G', 2045.07, 5, 4, 'https://www.magazineluiza.com.br/smartphone-samsung-galaxy-a52-128gb-azul-4g-6gb-ram-tela-65-cam-quadrupla-selfie-32mp/p/155624700/te/ga52/'), ('Smartphone Samsung Galaxy S20 FE 256GB Cloud Navy', 2699.1, 4, 4, 'https://www.magazineluiza.com.br/smartphone-samsung-galaxy-s20-fe-256gb-cloud-navy-4g-8gb-ram-tela-65-cam-tripla-selfie-32mp/p/155628600/te/galx/'), ('Smartphone Samsung Galaxy Note 20 256GB Mystic', 3149.1, 4, 4, 'https://www.magazineluiza.com.br/smartphone-samsung-galaxy-note-20-256gb-mystic-gray-8gb-ram-tela-67-cam-tripla-selfie-10mp/p/155589500/te/galx/'), ('Smartphone A55 128GB 4GB Ram Octa-core Câmera 12MP Philco', 949.05, 5, 0, 'https://www.magazineluiza.com.br/smartphone-a55-128gb-4gb-ram-octa-core-camera-12mp-philco/p/bed0k6ec10/te/tcsp/'), ('Smartphone Motorola Moto E6i 32GB Pink', 719.1, 2, 32, 'https://www.magazineluiza.com.br/smartphone-motorola-moto-e6i-32gb-pink-4g-2gb-ram-tela-61-cam-dupla-selfie-5mp/p/155623100/te/me6i/'), ('Smartphone Samsung Galaxy S21 128GB Rosa 5G', 3998.7, 5, 0, 'https://www.magazineluiza.com.br/smartphone-samsung-galaxy-s21-128gb-rosa-5g-8gb-ram-tela-62-cam-tripla-selfie-10mp/p/155618900/te/galx/'), ('Smartphone Samsung Galaxy A03s 64GB Vermelho 4G', 1061.1, 5, 0, 'https://www.magazineluiza.com.br/smartphone-samsung-galaxy-a03s-64gb-vermelho-4g-4gb-ram-tela-65-cam-tripla-selfie-5mp/p/232538800/te/galx/'), ('Smartphone Motorola Moto E6S 64GB Vermelho Magenta', 808.17, 4, 17, 'https://www.magazineluiza.com.br/smartphone-motorola-moto-e6s-64gb-vermelho-magenta-4g-octa-core-4gb-ram-61-cam-dupla-selfie-5mp/p/155587700/te/me6s/'), ('Smartphone LG K22 32GB Titan 4G Quad-Core 2GB RAM', 719.1, 3, 53, 'https://www.magazineluiza.com.br/smartphone-lg-k22-32gb-titan-4g-quad-core-2gb-ram-tela-62-cam-dupla-selfie-5mp-dual-chip/p/155587800/te/tcsp/'), ('Smartphone LG K41S 32GB Titânio 4G Octa-Core - 3GB RAM 6.55\" Câm. Quádrupla + Selfie 8MP', 705.87, 4, 116, 'https://www.magazineluiza.com.br/smartphone-lg-k41s-32gb-titanio-4g-octa-core-3gb-ram-6-55-cam-quadrupla-selfie-8mp/p/dc737bcb3f/te/k41s/'), ('Smartphone Motorola Moto G9 Power 128GB', 1619.1, 4, 50, 'https://www.magazineluiza.com.br/smartphone-motorola-moto-g9-power-128gb-verde-pacifico-4g-4gb-ram-tela-68-cam-tripla/p/155618200/te/srmt/'), ('Smartphone Motorola Moto G10 64GB 4GB RAM  Câmera Quádrupla 48MP Tela 6.5\" - Branco Floral', 1084.9, 5, 0, 'https://www.magazineluiza.com.br/smartphone-motorola-moto-g10-64gb-4gb-ram-camera-quadrupla-48mp-tela-6-5-branco-floral/p/ecece29hb8/te/mg10/'), ('Smartphone Motorola Moto E6S 32GB 4G Tela 6.1\" Câmera Dupla 13MP 2MP Frontal 5MP Cinza Titanium', 683.1, 4, 137, 'https://www.magazineluiza.com.br/smartphone-motorola-moto-e6s-32gb-4g-tela-6-1-camera-dupla-13mp-2mp-frontal-5mp-cinza-titanium/p/ff7be4agce/te/me6s/')]\n"
     ]
    }
   ],
   "source": [
    "print(lista_produtos)"
   ]
  },
  {
   "cell_type": "markdown",
   "metadata": {},
   "source": [
    "Agora deu tudo certo! 😎"
   ]
  },
  {
   "cell_type": "markdown",
   "metadata": {},
   "source": [
    "### Encapsulamento da Função de Extrair Produtos da Página"
   ]
  },
  {
   "cell_type": "code",
   "execution_count": 75,
   "metadata": {},
   "outputs": [],
   "source": [
    "def extrair_produtos_pagina():\n",
    "    resultado_da_pesquisa = soup.find_all('li', {'class':'sc-eCVOVf loRbcV'})\n",
    "    return [extrair_informacoes_produto(produto) for produto in resultado_da_pesquisa]"
   ]
  },
  {
   "cell_type": "markdown",
   "metadata": {},
   "source": [
    "Testando a função encapsulada..."
   ]
  },
  {
   "cell_type": "code",
   "execution_count": 74,
   "metadata": {
    "scrolled": true
   },
   "outputs": [
    {
     "data": {
      "text/plain": [
       "[('iPhone 11 Apple 64GB Branco 6,1” 12MP iOS',\n",
       "  3719.07,\n",
       "  4,\n",
       "  58,\n",
       "  'https://www.magazineluiza.com.br/iphone-11-apple-64gb-branco-61-12mp-ios/p/155614100/te/ip11/'),\n",
       " ('iPhone 11 Apple 64GB Roxo 6,1” 12MP iOS',\n",
       "  3719.07,\n",
       "  5,\n",
       "  1,\n",
       "  'https://www.magazineluiza.com.br/iphone-11-apple-64gb-roxo-61-12mp-ios/p/155610900/te/ip11/'),\n",
       " ('Smartphone Samsung Galaxy S20 FE 128GB Cloud Mint',\n",
       "  2099.0,\n",
       "  4,\n",
       "  48,\n",
       "  'https://www.magazineluiza.com.br/smartphone-samsung-galaxy-s20-fe-128gb-cloud-mint-4g-6gb-ram-tela-65-cam-tripla-selfie-32mp/p/155630400/te/gs2f/'),\n",
       " ('iPhone 11 Apple 64GB Preto 6,1” 12MP iOS',\n",
       "  3719.07,\n",
       "  4,\n",
       "  80,\n",
       "  'https://www.magazineluiza.com.br/iphone-11-apple-64gb-preto-61-12mp-ios/p/155610500/te/ip11/'),\n",
       " ('Smartphone Samsung Galaxy S20 FE 128GB Cloud White',\n",
       "  2099.0,\n",
       "  4,\n",
       "  51,\n",
       "  'https://www.magazineluiza.com.br/smartphone-samsung-galaxy-s20-fe-128gb-cloud-white-4g-6gb-ram-tela-65-cam-tripla-selfie-32mp/p/155630000/te/gs2f/'),\n",
       " ('iPhone XR Apple 64GB Preto 6,1” 12MP iOS',\n",
       "  2999.0,\n",
       "  4,\n",
       "  88,\n",
       "  'https://www.magazineluiza.com.br/iphone-xr-apple-64gb-preto-61-12mp-ios/p/155610600/te/ipxr/'),\n",
       " ('Smartphone Motorola Moto G30 128GB White Lilac 4G',\n",
       "  1259.1,\n",
       "  4,\n",
       "  64,\n",
       "  'https://www.magazineluiza.com.br/smartphone-motorola-moto-g30-128gb-white-lilac-4g-4gb-ram-tela-65-cam-quadrupla-selfie-13mp/p/155626400/te/mg30/'),\n",
       " ('Smartphone Samsung Galaxy A12 64GB Branco 4G',\n",
       "  975.57,\n",
       "  4,\n",
       "  52,\n",
       "  'https://www.magazineluiza.com.br/smartphone-samsung-galaxy-a12-64gb-branco-4g-octa-core-4gb-ram-65-cam-quadrupla-selfie-8mp/p/155617400/te/ga12/'),\n",
       " ('Smartphone Samsung Galaxy S20 FE 128GB Cloud Navy',\n",
       "  2099.0,\n",
       "  4,\n",
       "  110,\n",
       "  'https://www.magazineluiza.com.br/smartphone-samsung-galaxy-s20-fe-128gb-cloud-navy-4g-6gb-ram-tela-65-cam-tripla-selfie-32mp/p/155629800/te/gs2f/'),\n",
       " ('Smartphone Samsung Galaxy M12 64GB Verde 4G',\n",
       "  1007.1,\n",
       "  4,\n",
       "  13,\n",
       "  'https://www.magazineluiza.com.br/smartphone-samsung-galaxy-m12-64gb-verde-4g-4gb-ram-tela-65-cam-quadrupla-selfie-8mp/p/230001200/te/galx/'),\n",
       " ('Smartphone Samsung Galaxy A02s 32GB Vermelho 4G',\n",
       "  719.1,\n",
       "  4,\n",
       "  31,\n",
       "  'https://www.magazineluiza.com.br/smartphone-samsung-galaxy-a02s-32gb-vermelho-4g-octa-core-3gb-ram-65-cam-tripla-selfie-5mp/p/155615700/te/galx/'),\n",
       " ('Smartphone Samsung Galaxy M62 128GB Azul',\n",
       "  2399.0,\n",
       "  5,\n",
       "  0,\n",
       "  'https://www.magazineluiza.com.br/smartphone-samsung-galaxy-m62-128gb-azul-4g-8gb-ram-tela-67-cam-quadrupla-32mp/p/231105800/te/galx/'),\n",
       " ('Smartphone Motorola Moto E7 Power 32GB Vermelho',\n",
       "  699.0,\n",
       "  5,\n",
       "  2,\n",
       "  'https://www.magazineluiza.com.br/smartphone-motorola-moto-e7-power-32gb-vermelho-coral-4g-2gb-ram-tela-65-cam-dupla-selfie-5mp/p/155623300/te/me7p/'),\n",
       " ('Smartphone Samsung Galaxy A02s 32GB Azul 4G',\n",
       "  791.1,\n",
       "  3,\n",
       "  27,\n",
       "  'https://www.magazineluiza.com.br/smartphone-samsung-galaxy-a02s-32gb-azul-4g-octa-core-3gb-ram-65-cam-tripla-selfie-5mp/p/155615500/te/galx/'),\n",
       " ('Smartphone Samsung Galaxy A12 64GB Vermelho 4G',\n",
       "  975.57,\n",
       "  4,\n",
       "  23,\n",
       "  'https://www.magazineluiza.com.br/smartphone-samsung-galaxy-a12-64gb-vermelho-4g-octa-core-4gb-ram-65-cam-quadrupla-selfie-8mp/p/155616300/te/ga12/'),\n",
       " ('Smartphone Samsung Galaxy M12 64GB Azul 4G',\n",
       "  899.1,\n",
       "  4,\n",
       "  7,\n",
       "  'https://www.magazineluiza.com.br/smartphone-samsung-galaxy-m12-64gb-azul-4g-4gb-ram-tela-65-cam-quadrupla-selfie-8mp/p/230001100/te/galx/'),\n",
       " ('Smartphone Motorola Moto G20 64GB 4G Tela 6.5\" Câmera Quádupla 48MP 8MP 2MP 2MP Frontal 13MP Azul',\n",
       "  1058.4,\n",
       "  4,\n",
       "  2,\n",
       "  'https://www.magazineluiza.com.br/smartphone-motorola-moto-g20-64gb-4g-tela-6-5-camera-quadupla-48mp-8mp-2mp-2mp-frontal-13mp-azul/p/adgkb9kg9d/te/mg20/'),\n",
       " ('iPhone 11 Apple 128GB Preto 6,1” 12MP iOS',\n",
       "  4091.07,\n",
       "  4,\n",
       "  48,\n",
       "  'https://www.magazineluiza.com.br/iphone-11-apple-128gb-preto-61-12mp-ios/p/155611100/te/ip11/'),\n",
       " ('Smartphone Motorola Moto G10 64GB Cinza Aurora',\n",
       "  994.17,\n",
       "  4,\n",
       "  22,\n",
       "  'https://www.magazineluiza.com.br/smartphone-motorola-moto-g10-64gb-cinza-aurora-4g-4gb-ram-tela-65-cam-quadrupla-selfie-8mp/p/155626100/te/srmt/'),\n",
       " ('Smartphone Samsung Galaxy A10s 32GB Azul',\n",
       "  759.0,\n",
       "  4,\n",
       "  143,\n",
       "  'https://www.magazineluiza.com.br/smartphone-samsung-galaxy-a10s-32gb-azul-4g-2gb-ram-62-cam-dupla-selfie-8mp/p/155568400/te/galx/'),\n",
       " ('Smartphone Samsung Galaxy A02 32GB Vermelho 4G',\n",
       "  699.3,\n",
       "  4,\n",
       "  18,\n",
       "  'https://www.magazineluiza.com.br/smartphone-samsung-galaxy-a02-32gb-vermelho-4g-quad-core-2gb-ram-65-cam-dupla-selfie-5mp/p/155621700/te/galx/'),\n",
       " ('Smartphone Samsung Galaxy A12 64GB Preto 4G',\n",
       "  944.1,\n",
       "  3,\n",
       "  32,\n",
       "  'https://www.magazineluiza.com.br/smartphone-samsung-galaxy-a12-64gb-preto-4g-octa-core-4gb-ram-65-cam-quadrupla-selfie-8mp/p/155615900/te/ga12/'),\n",
       " ('Smartphone Samsung Galaxy A02 32GB Azul 4G',\n",
       "  699.3,\n",
       "  4,\n",
       "  30,\n",
       "  'https://www.magazineluiza.com.br/smartphone-samsung-galaxy-a02-32gb-azul-4g-quad-core-2gb-ram-65-cam-dupla-selfie-5mp/p/155621500/te/galx/'),\n",
       " ('Smartphone LG K22 Red 4G Quad-Core 2GB RAM',\n",
       "  719.1,\n",
       "  3,\n",
       "  61,\n",
       "  'https://www.magazineluiza.com.br/smartphone-lg-k22-red-4g-quad-core-2gb-ram-tela-62-cam-dupla-selfie-5mp-dual-chip/p/155587900/te/tcsp/'),\n",
       " ('Smartphone Motorola G60s 128GB Verde 4G',\n",
       "  1709.1,\n",
       "  5,\n",
       "  0,\n",
       "  'https://www.magazineluiza.com.br/smartphone-motorola-g60s-128gb-verde-4g-6gb-ram-tela-68-cam-quadrupla-selfie-16mp/p/231525000/te/srmt/'),\n",
       " ('Smartphone Samsung Galaxy M62 128GB Preto',\n",
       "  2399.0,\n",
       "  5,\n",
       "  0,\n",
       "  'https://www.magazineluiza.com.br/smartphone-samsung-galaxy-m62-128gb-preto-4g-8gb-ram-tela-67-cam-quadrupla-32mp/p/231105700/te/galx/'),\n",
       " ('Smartphone Motorola Moto E7 Power 32GB Azul',\n",
       "  699.0,\n",
       "  4,\n",
       "  16,\n",
       "  'https://www.magazineluiza.com.br/smartphone-motorola-moto-e7-power-32gb-azul-metalico-4g-2gb-ram-65-cam-dupla-selfie-5mp/p/155623200/te/me7p/'),\n",
       " ('Smartphone Samsung Galaxy A32 128GB Violeta 4G',\n",
       "  1398.6,\n",
       "  4,\n",
       "  45,\n",
       "  'https://www.magazineluiza.com.br/smartphone-samsung-galaxy-a32-128gb-violeta-4g-4gb-ram-tela-64-cam-quadrupla-selfie-20mp/p/155624100/te/ga32/'),\n",
       " ('Smartphone Motorola Moto G20 64GB Pink 4G',\n",
       "  1079.1,\n",
       "  5,\n",
       "  1,\n",
       "  'https://www.magazineluiza.com.br/smartphone-motorola-moto-g20-64gb-pink-4g-4gb-ram-tela-65-cam-quadrupla-selfie-13mp/p/155642000/te/mg20/'),\n",
       " ('Smartphone LG K41s 3gb Ram 32gb 4g Dual Chip Octa Core',\n",
       "  748.59,\n",
       "  4,\n",
       "  13,\n",
       "  'https://www.magazineluiza.com.br/smartphone-lg-k41s-3gb-ram-32gb-4g-dual-chip-octa-core/p/bkd938fd4a/te/tcsp/'),\n",
       " ('Smartphone Samsung Galaxy A02s 32GB Preto 4G',\n",
       "  799.2,\n",
       "  4,\n",
       "  26,\n",
       "  'https://www.magazineluiza.com.br/smartphone-samsung-galaxy-a02s-32gb-preto-4g-octa-core-3gb-ram-65-cam-tripla-selfie-5mp/p/155615300/te/galx/'),\n",
       " ('Smartphone Samsung Galaxy S20 FE 256GB Cloud Mint',\n",
       "  2699.1,\n",
       "  5,\n",
       "  4,\n",
       "  'https://www.magazineluiza.com.br/smartphone-samsung-galaxy-s20-fe-256gb-cloud-mint-4g-8gb-ram-tela-65-cam-tripla-selfie-32mp/p/155629200/te/galx/'),\n",
       " ('Smartphone Samsung Galaxy M12 64GB Preto 4G',\n",
       "  959.0,\n",
       "  5,\n",
       "  3,\n",
       "  'https://www.magazineluiza.com.br/smartphone-samsung-galaxy-m12-64gb-preto-4g-4gb-ram-tela-65-cam-quadrupla-selfie-8mp/p/230001000/te/galx/'),\n",
       " ('Smartphone Samsung Galaxy A10s 32GB Vermelho',\n",
       "  759.0,\n",
       "  3,\n",
       "  274,\n",
       "  'https://www.magazineluiza.com.br/smartphone-samsung-galaxy-a10s-32gb-vermelho-4g-2gb-ram-62-cam-dupla-selfie-8mp/p/155568600/te/galx/'),\n",
       " ('Smartphone Samsung Galaxy A02 32GB Preto 4G',\n",
       "  699.3,\n",
       "  3,\n",
       "  22,\n",
       "  'https://www.magazineluiza.com.br/smartphone-samsung-galaxy-a02-32gb-preto-4g-quad-core-2gb-ram-65-cam-dupla-selfie-5mp/p/155621300/te/galx/'),\n",
       " ('Smartphone Samsung Galaxy S20 FE 256GB Cloud White',\n",
       "  2699.1,\n",
       "  5,\n",
       "  2,\n",
       "  'https://www.magazineluiza.com.br/smartphone-samsung-galaxy-s20-fe-256gb-cloud-white-4g-8gb-ram-tela-65-cam-tripla-selfie-32mp/p/155628800/te/galx/'),\n",
       " ('Smartphone Motorola Moto E7 32GB Aquamarine',\n",
       "  740.0,\n",
       "  4,\n",
       "  21,\n",
       "  'https://www.magazineluiza.com.br/smartphone-motorola-moto-e7-32gb-aquamarine-4g-octa-core-2gb-ram-65-cam-dupla-selfie-5mp/p/155616500/te/me7p/'),\n",
       " ('Smartphone Motorola E7 Power 32GB 4G Tela 6.5\" Câmera Dupla 13MP 2MP Frontal 5MP Azul Metálico',\n",
       "  683.1,\n",
       "  4,\n",
       "  58,\n",
       "  'https://www.magazineluiza.com.br/smartphone-motorola-e7-power-32gb-4g-tela-6-5-camera-dupla-13mp-2mp-frontal-5mp-azul-metalico/p/fj9c767ed6/te/srmt/'),\n",
       " ('Smartphone Positivo Twist 4 Fit 32GB Vermelho 3G',\n",
       "  409.2,\n",
       "  2,\n",
       "  10,\n",
       "  'https://www.magazineluiza.com.br/smartphone-positivo-twist-4-fit-32gb-vermelho-3g-quad-core-1gb-ram-tela-5-cam-8mp-selfie-5mp/p/155628200/te/spst/'),\n",
       " ('Smartphone Xiaomi Redmi 9C 32GB Azul 4G',\n",
       "  899.0,\n",
       "  4,\n",
       "  8,\n",
       "  'https://www.magazineluiza.com.br/smartphone-xiaomi-redmi-9c-32gb-azul-4g-octa-core-2gb-653-cam-tripla-selfie-5mp/p/227716300/te/tcsp/'),\n",
       " ('Smartphone Samsung Galaxy S21 128GB Violeta 5G',\n",
       "  3998.7,\n",
       "  3,\n",
       "  3,\n",
       "  'https://www.magazineluiza.com.br/smartphone-samsung-galaxy-s21-128gb-violeta-5g-8gb-ram-tela-62-cam-tripla-selfie-10mp/p/155619100/te/galx/'),\n",
       " ('Smartphone Samsung Galaxy A03s 64GB Azul 4G',\n",
       "  1061.1,\n",
       "  5,\n",
       "  0,\n",
       "  'https://www.magazineluiza.com.br/smartphone-samsung-galaxy-a03s-64gb-azul-4g-4gb-ram-tela-65-cam-tripla-selfie-5mp/p/232538600/te/galx/'),\n",
       " ('Smartphone Samsung Galaxy S21 128GB Branco 5G',\n",
       "  3998.7,\n",
       "  4,\n",
       "  6,\n",
       "  'https://www.magazineluiza.com.br/smartphone-samsung-galaxy-s21-128gb-branco-5g-8gb-ram-tela-62-cam-tripla-selfie-10mp/p/155619300/te/galx/'),\n",
       " ('Smartphone LG K62 64GB Dual Chip Tela 6.59\" Câmera Quádrupla 48MP+5MP+2MP+2MP Frontal 13MP Vermelho',\n",
       "  926.1,\n",
       "  4,\n",
       "  79,\n",
       "  'https://www.magazineluiza.com.br/smartphone-lg-k62-64gb-dual-chip-tela-6-59-camera-quadrupla-48mp-5mp-2mp-2mp-frontal-13mp-vermelho/p/fd6a70509e/te/tcsp/'),\n",
       " ('Smartphone Samsung Galaxy M32, 128GB, 6GB RAM, Bateria de 5000mAh, Tela Infinita de 6.4\"',\n",
       "  1554.0,\n",
       "  5,\n",
       "  0,\n",
       "  'https://www.magazineluiza.com.br/smartphone-samsung-galaxy-m32-128gb-6gb-ram-bateria-de-5000mah-tela-infinita-de-6-4/p/fbe45j281f/te/tcsp/'),\n",
       " ('Smartphone Motorola Moto G20 64GB Azul 4G',\n",
       "  1079.1,\n",
       "  3,\n",
       "  12,\n",
       "  'https://www.magazineluiza.com.br/smartphone-motorola-moto-g20-64gb-azul-4g-4gb-ram-tela-65-cam-quadrupla-selfie-13mp/p/155641000/te/mg20/'),\n",
       " ('Smartphone Samsung Galaxy A52 128GB Azul 4G',\n",
       "  2045.07,\n",
       "  5,\n",
       "  4,\n",
       "  'https://www.magazineluiza.com.br/smartphone-samsung-galaxy-a52-128gb-azul-4g-6gb-ram-tela-65-cam-quadrupla-selfie-32mp/p/155624700/te/ga52/'),\n",
       " ('Smartphone Samsung Galaxy S20 FE 256GB Cloud Navy',\n",
       "  2699.1,\n",
       "  4,\n",
       "  4,\n",
       "  'https://www.magazineluiza.com.br/smartphone-samsung-galaxy-s20-fe-256gb-cloud-navy-4g-8gb-ram-tela-65-cam-tripla-selfie-32mp/p/155628600/te/galx/'),\n",
       " ('Smartphone Samsung Galaxy Note 20 256GB Mystic',\n",
       "  3149.1,\n",
       "  4,\n",
       "  4,\n",
       "  'https://www.magazineluiza.com.br/smartphone-samsung-galaxy-note-20-256gb-mystic-gray-8gb-ram-tela-67-cam-tripla-selfie-10mp/p/155589500/te/galx/'),\n",
       " ('Smartphone A55 128GB 4GB Ram Octa-core Câmera 12MP Philco',\n",
       "  949.05,\n",
       "  5,\n",
       "  0,\n",
       "  'https://www.magazineluiza.com.br/smartphone-a55-128gb-4gb-ram-octa-core-camera-12mp-philco/p/bed0k6ec10/te/tcsp/'),\n",
       " ('Smartphone Motorola Moto E6i 32GB Pink',\n",
       "  719.1,\n",
       "  2,\n",
       "  32,\n",
       "  'https://www.magazineluiza.com.br/smartphone-motorola-moto-e6i-32gb-pink-4g-2gb-ram-tela-61-cam-dupla-selfie-5mp/p/155623100/te/me6i/'),\n",
       " ('Smartphone Samsung Galaxy S21 128GB Rosa 5G',\n",
       "  3998.7,\n",
       "  5,\n",
       "  0,\n",
       "  'https://www.magazineluiza.com.br/smartphone-samsung-galaxy-s21-128gb-rosa-5g-8gb-ram-tela-62-cam-tripla-selfie-10mp/p/155618900/te/galx/'),\n",
       " ('Smartphone Samsung Galaxy A03s 64GB Vermelho 4G',\n",
       "  1061.1,\n",
       "  5,\n",
       "  0,\n",
       "  'https://www.magazineluiza.com.br/smartphone-samsung-galaxy-a03s-64gb-vermelho-4g-4gb-ram-tela-65-cam-tripla-selfie-5mp/p/232538800/te/galx/'),\n",
       " ('Smartphone Motorola Moto E6S 64GB Vermelho Magenta',\n",
       "  808.17,\n",
       "  4,\n",
       "  17,\n",
       "  'https://www.magazineluiza.com.br/smartphone-motorola-moto-e6s-64gb-vermelho-magenta-4g-octa-core-4gb-ram-61-cam-dupla-selfie-5mp/p/155587700/te/me6s/'),\n",
       " ('Smartphone LG K22 32GB Titan 4G Quad-Core 2GB RAM',\n",
       "  719.1,\n",
       "  3,\n",
       "  53,\n",
       "  'https://www.magazineluiza.com.br/smartphone-lg-k22-32gb-titan-4g-quad-core-2gb-ram-tela-62-cam-dupla-selfie-5mp-dual-chip/p/155587800/te/tcsp/'),\n",
       " ('Smartphone LG K41S 32GB Titânio 4G Octa-Core - 3GB RAM 6.55\" Câm. Quádrupla + Selfie 8MP',\n",
       "  705.87,\n",
       "  4,\n",
       "  116,\n",
       "  'https://www.magazineluiza.com.br/smartphone-lg-k41s-32gb-titanio-4g-octa-core-3gb-ram-6-55-cam-quadrupla-selfie-8mp/p/dc737bcb3f/te/k41s/'),\n",
       " ('Smartphone Motorola Moto G9 Power 128GB',\n",
       "  1619.1,\n",
       "  4,\n",
       "  50,\n",
       "  'https://www.magazineluiza.com.br/smartphone-motorola-moto-g9-power-128gb-verde-pacifico-4g-4gb-ram-tela-68-cam-tripla/p/155618200/te/srmt/'),\n",
       " ('Smartphone Motorola Moto G10 64GB 4GB RAM  Câmera Quádrupla 48MP Tela 6.5\" - Branco Floral',\n",
       "  1084.9,\n",
       "  5,\n",
       "  0,\n",
       "  'https://www.magazineluiza.com.br/smartphone-motorola-moto-g10-64gb-4gb-ram-camera-quadrupla-48mp-tela-6-5-branco-floral/p/ecece29hb8/te/mg10/'),\n",
       " ('Smartphone Motorola Moto E6S 32GB 4G Tela 6.1\" Câmera Dupla 13MP 2MP Frontal 5MP Cinza Titanium',\n",
       "  683.1,\n",
       "  4,\n",
       "  137,\n",
       "  'https://www.magazineluiza.com.br/smartphone-motorola-moto-e6s-32gb-4g-tela-6-1-camera-dupla-13mp-2mp-frontal-5mp-cinza-titanium/p/ff7be4agce/te/me6s/')]"
      ]
     },
     "execution_count": 74,
     "metadata": {},
     "output_type": "execute_result"
    }
   ],
   "source": [
    "extrair_produtos_pagina()"
   ]
  },
  {
   "cell_type": "markdown",
   "metadata": {},
   "source": [
    "Não acredito que tudo até agora rodou liso feito manteiga 🧈"
   ]
  }
 ],
 "metadata": {
  "kernelspec": {
   "display_name": "Python 3",
   "language": "python",
   "name": "python3"
  },
  "language_info": {
   "codemirror_mode": {
    "name": "ipython",
    "version": 3
   },
   "file_extension": ".py",
   "mimetype": "text/x-python",
   "name": "python",
   "nbconvert_exporter": "python",
   "pygments_lexer": "ipython3",
   "version": "3.8.5"
  }
 },
 "nbformat": 4,
 "nbformat_minor": 4
}
