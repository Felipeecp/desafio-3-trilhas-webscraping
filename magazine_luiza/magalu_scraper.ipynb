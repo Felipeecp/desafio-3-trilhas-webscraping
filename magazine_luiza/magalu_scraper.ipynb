{
 "cells": [
  {
   "cell_type": "markdown",
   "metadata": {},
   "source": [
    "# Scraping Magalu"
   ]
  },
  {
   "cell_type": "markdown",
   "metadata": {},
   "source": [
    "### Pré-requisitos\n",
    "- Selenium\n",
    "- BeautifulSoup\n",
    "- Pandas\n",
    "- Unidecode"
   ]
  },
  {
   "cell_type": "code",
   "execution_count": 1,
   "metadata": {},
   "outputs": [],
   "source": [
    "import pandas as pd\n",
    "from bs4 import BeautifulSoup\n",
    "from selenium import webdriver\n",
    "from unidecode import unidecode"
   ]
  },
  {
   "cell_type": "markdown",
   "metadata": {},
   "source": [
    "### Função para pesquisar e personalizar a URL"
   ]
  },
  {
   "cell_type": "code",
   "execution_count": 2,
   "metadata": {},
   "outputs": [],
   "source": [
    "def personalizar_url(termo_de_pesquisa):\n",
    "    \"\"\"\n",
    "    Função para pesquisar produtos e personalizar a url de pesquisa\n",
    "    IN: 'smart tv 4k': str\n",
    "    OUT: https://www.magazineluiza.com.br/busca/iphone 11/?page={}\n",
    "    \"\"\"\n",
    "    template = 'https://www.magazineluiza.com.br/busca/{}/'\n",
    "    termo_de_pesquisa.replace('', '+')\n",
    "    \n",
    "    # Adicionando o query string da pesquisa na URL\n",
    "    url = template.format(termo_de_pesquisa)\n",
    "    \n",
    "    # Adicionando o query string da página na URL\n",
    "    url += '?page={}'\n",
    "    \n",
    "    return url"
   ]
  },
  {
   "cell_type": "markdown",
   "metadata": {},
   "source": [
    "## Adicionando Opções ao Webdriver"
   ]
  },
  {
   "cell_type": "code",
   "execution_count": 3,
   "metadata": {},
   "outputs": [],
   "source": [
    "options = webdriver.ChromeOptions() \n",
    "options.add_argument('--disable-blink-features=AutomationControlled') #o argumento que fez a diferença foi esse\n",
    "driver = webdriver.Chrome(options=options, executable_path=r'C:\\SeleniumDrivers\\chromedriver.exe')"
   ]
  },
  {
   "cell_type": "markdown",
   "metadata": {},
   "source": [
    "### Scraping Smartphones"
   ]
  },
  {
   "cell_type": "code",
   "execution_count": 9,
   "metadata": {},
   "outputs": [],
   "source": [
    "url = personalizar_url('smartphone').format(1)\n",
    "driver = webdriver.Chrome()\n",
    "driver.get(url)\n",
    "soup = BeautifulSoup(driver.page_source, 'html.parser')"
   ]
  },
  {
   "cell_type": "markdown",
   "metadata": {},
   "source": [
    "### Extração da Lista de Produtos"
   ]
  },
  {
   "cell_type": "code",
   "execution_count": 10,
   "metadata": {},
   "outputs": [
    {
     "data": {
      "text/plain": [
       "59"
      ]
     },
     "execution_count": 10,
     "metadata": {},
     "output_type": "execute_result"
    }
   ],
   "source": [
    "lista_de_produtos = soup.find_all('li', {'class':'sc-eCVOVf loRbcV'})\n",
    "len(lista_de_produtos)"
   ]
  },
  {
   "cell_type": "markdown",
   "metadata": {},
   "source": [
    "### Prototipando a extração de um registro"
   ]
  },
  {
   "cell_type": "code",
   "execution_count": 12,
   "metadata": {},
   "outputs": [],
   "source": [
    "item = lista_de_produtos[0]"
   ]
  },
  {
   "cell_type": "markdown",
   "metadata": {},
   "source": [
    "### Extração do Título do Produto"
   ]
  },
  {
   "cell_type": "code",
   "execution_count": 13,
   "metadata": {
    "scrolled": true
   },
   "outputs": [
    {
     "data": {
      "text/plain": [
       "'iPhone 11 Apple 64GB Branco 6,1” 12MP iOS'"
      ]
     },
     "execution_count": 13,
     "metadata": {},
     "output_type": "execute_result"
    }
   ],
   "source": [
    "titulo_produto = item.a.h2.text.strip()\n",
    "titulo_produto"
   ]
  },
  {
   "cell_type": "markdown",
   "metadata": {},
   "source": [
    "### Extração URL dos Detalhes do Produto"
   ]
  },
  {
   "cell_type": "code",
   "execution_count": 14,
   "metadata": {
    "scrolled": true
   },
   "outputs": [
    {
     "data": {
      "text/plain": [
       "'/iphone-11-apple-64gb-branco-61-12mp-ios/p/155614100/te/ip11/'"
      ]
     },
     "execution_count": 14,
     "metadata": {},
     "output_type": "execute_result"
    }
   ],
   "source": [
    "rota_detalhes_produto = item.a.get('href')\n",
    "rota_detalhes_produto"
   ]
  },
  {
   "cell_type": "code",
   "execution_count": 15,
   "metadata": {
    "scrolled": true
   },
   "outputs": [
    {
     "data": {
      "text/plain": [
       "'https://www.magazineluiza.com.br/iphone-11-apple-64gb-branco-61-12mp-ios/p/155614100/te/ip11/'"
      ]
     },
     "execution_count": 15,
     "metadata": {},
     "output_type": "execute_result"
    }
   ],
   "source": [
    "url_detalhes_produto = f'https://www.magazineluiza.com.br{rota_detalhes_produto}'\n",
    "url_detalhes_produto"
   ]
  },
  {
   "cell_type": "markdown",
   "metadata": {},
   "source": [
    "### Extração do Preço"
   ]
  },
  {
   "cell_type": "code",
   "execution_count": 16,
   "metadata": {},
   "outputs": [
    {
     "data": {
      "text/plain": [
       "'R$\\xa03.719,07'"
      ]
     },
     "execution_count": 16,
     "metadata": {},
     "output_type": "execute_result"
    }
   ],
   "source": [
    "preco_produto = item.find('p', {'data-testid':'price-value'}).text.strip()\n",
    "preco_produto"
   ]
  },
  {
   "cell_type": "markdown",
   "metadata": {},
   "source": [
    "#### Problema com \\xa0.\n",
    "Resolução:\n",
    "https://stackoverflow.com/questions/26068832/how-to-remove-this-xa0-from-a-string-in-python"
   ]
  },
  {
   "cell_type": "code",
   "execution_count": 17,
   "metadata": {},
   "outputs": [
    {
     "data": {
      "text/plain": [
       "'R$ 3.719,07'"
      ]
     },
     "execution_count": 17,
     "metadata": {},
     "output_type": "execute_result"
    }
   ],
   "source": [
    "preco_produto = item.find('p', {'data-testid':'price-value'}).text.strip()\n",
    "preco_produto = unidecode(preco_produto)\n",
    "preco_produto"
   ]
  },
  {
   "cell_type": "markdown",
   "metadata": {},
   "source": [
    "#### Extração Parte Inteira do Preço"
   ]
  },
  {
   "cell_type": "code",
   "execution_count": 18,
   "metadata": {},
   "outputs": [
    {
     "data": {
      "text/plain": [
       "3719.07"
      ]
     },
     "execution_count": 18,
     "metadata": {},
     "output_type": "execute_result"
    }
   ],
   "source": [
    "preco_produto_float = float(preco_produto.split()[-1].replace('.','').replace(',','.'))\n",
    "preco_produto_float"
   ]
  },
  {
   "cell_type": "markdown",
   "metadata": {},
   "source": [
    "### Extraindo Avaliação"
   ]
  },
  {
   "cell_type": "markdown",
   "metadata": {},
   "source": [
    "Conta-se a avaliação na magalu ao contar o número de estrelas completas -> StarIcon"
   ]
  },
  {
   "cell_type": "code",
   "execution_count": 19,
   "metadata": {},
   "outputs": [
    {
     "data": {
      "text/plain": [
       "4"
      ]
     },
     "execution_count": 19,
     "metadata": {},
     "output_type": "execute_result"
    }
   ],
   "source": [
    "avaliacao = len(item.find_all('use', {'xlink:href':'#StarIcon'}))\n",
    "avaliacao"
   ]
  },
  {
   "cell_type": "markdown",
   "metadata": {},
   "source": [
    "### Extraindo Quantidade de Avaliações"
   ]
  },
  {
   "cell_type": "code",
   "execution_count": 20,
   "metadata": {},
   "outputs": [
    {
     "data": {
      "text/plain": [
       "58"
      ]
     },
     "execution_count": 20,
     "metadata": {},
     "output_type": "execute_result"
    }
   ],
   "source": [
    "quantidade_avaliacoes = int(item.find('span', {'format':'count'}).text.strip())\n",
    "quantidade_avaliacoes"
   ]
  },
  {
   "cell_type": "markdown",
   "metadata": {},
   "source": [
    "## Encapsulando o Protótipo em Funções\n",
    "Isto torna nosso código mais limpo e reutilizável"
   ]
  },
  {
   "cell_type": "code",
   "execution_count": 21,
   "metadata": {},
   "outputs": [],
   "source": [
    "def extrair_titulo_produto(produto):\n",
    "    return produto.a.h2.text.strip()\n",
    "\n",
    "def extrair_url_produto(produto):\n",
    "    rota_detalhes_produto = produto.a.get('href')\n",
    "    return f'https://www.magazineluiza.com.br{rota_detalhes_produto}'\n",
    "\n",
    "def extrair_preco_produto(produto):\n",
    "    preco_produto = produto.find('p', {'data-testid':'price-value'}).text.strip()\n",
    "    preco_produto = unidecode(preco_produto)\n",
    "    preco_produto_float = float(preco_produto.split()[-1].replace('.','').replace(',','.'))\n",
    "    return preco_produto_float\n",
    "    \n",
    "def extrair_avaliacao(produto):\n",
    "    return len(produto.find_all('use', {'xlink:href':'#StarIcon'})) \n",
    "\n",
    "def extrair_quantidade_avaliacoes(produto):\n",
    "    return int(produto.find('span', {'format':'count'}).text.strip())"
   ]
  },
  {
   "cell_type": "markdown",
   "metadata": {},
   "source": [
    "### Agregando os códigos para a função de extrair informações do produto"
   ]
  },
  {
   "cell_type": "code",
   "execution_count": 22,
   "metadata": {},
   "outputs": [],
   "source": [
    "def extrair_informacoes_produto(produto):\n",
    "    titulo = extrair_titulo_produto(produto)\n",
    "    preco = extrair_preco_produto(produto)\n",
    "    avaliacao = extrair_avaliacao(produto)\n",
    "    quantidade_avaliacoes = extrair_quantidade_avaliacoes(produto)\n",
    "    url = extrair_url_produto(produto)\n",
    "    \n",
    "    return (titulo, preco, avaliacao, quantidade_avaliacoes, url)"
   ]
  },
  {
   "cell_type": "markdown",
   "metadata": {},
   "source": [
    "#### Testando a função"
   ]
  },
  {
   "cell_type": "code",
   "execution_count": 23,
   "metadata": {
    "scrolled": true
   },
   "outputs": [
    {
     "name": "stdout",
     "output_type": "stream",
     "text": [
      "('iPhone 11 Apple 64GB Branco 6,1” 12MP iOS', 3719.07, 4, 58, 'https://www.magazineluiza.com.br/iphone-11-apple-64gb-branco-61-12mp-ios/p/155614100/te/ip11/')\n"
     ]
    }
   ],
   "source": [
    "print(extrair_informacoes_produto(item))"
   ]
  },
  {
   "cell_type": "markdown",
   "metadata": {},
   "source": [
    "Deu tudo certo até agora 😁"
   ]
  },
  {
   "cell_type": "markdown",
   "metadata": {},
   "source": [
    "### Testando para saber se pega todos os itens da página com sucesso"
   ]
  },
  {
   "cell_type": "code",
   "execution_count": 24,
   "metadata": {
    "scrolled": true
   },
   "outputs": [
    {
     "ename": "AttributeError",
     "evalue": "'NoneType' object has no attribute 'text'",
     "output_type": "error",
     "traceback": [
      "\u001b[1;31m---------------------------------------------------------------------------\u001b[0m",
      "\u001b[1;31mAttributeError\u001b[0m                            Traceback (most recent call last)",
      "\u001b[1;32m<ipython-input-24-0991ae52e656>\u001b[0m in \u001b[0;36m<module>\u001b[1;34m\u001b[0m\n\u001b[0;32m      3\u001b[0m \u001b[1;33m\u001b[0m\u001b[0m\n\u001b[0;32m      4\u001b[0m \u001b[1;32mfor\u001b[0m \u001b[0mproduto\u001b[0m \u001b[1;32min\u001b[0m \u001b[0mresultado_da_pesquisa\u001b[0m\u001b[1;33m:\u001b[0m\u001b[1;33m\u001b[0m\u001b[1;33m\u001b[0m\u001b[0m\n\u001b[1;32m----> 5\u001b[1;33m     \u001b[0mlista_produtos\u001b[0m\u001b[1;33m.\u001b[0m\u001b[0mappend\u001b[0m\u001b[1;33m(\u001b[0m\u001b[0mextrair_informacoes_produto\u001b[0m\u001b[1;33m(\u001b[0m\u001b[0mproduto\u001b[0m\u001b[1;33m)\u001b[0m\u001b[1;33m)\u001b[0m\u001b[1;33m\u001b[0m\u001b[1;33m\u001b[0m\u001b[0m\n\u001b[0m",
      "\u001b[1;32m<ipython-input-22-1e822a9c7bda>\u001b[0m in \u001b[0;36mextrair_informacoes_produto\u001b[1;34m(produto)\u001b[0m\n\u001b[0;32m      3\u001b[0m     \u001b[0mpreco\u001b[0m \u001b[1;33m=\u001b[0m \u001b[0mextrair_preco_produto\u001b[0m\u001b[1;33m(\u001b[0m\u001b[0mproduto\u001b[0m\u001b[1;33m)\u001b[0m\u001b[1;33m\u001b[0m\u001b[1;33m\u001b[0m\u001b[0m\n\u001b[0;32m      4\u001b[0m     \u001b[0mavaliacao\u001b[0m \u001b[1;33m=\u001b[0m \u001b[0mextrair_avaliacao\u001b[0m\u001b[1;33m(\u001b[0m\u001b[0mproduto\u001b[0m\u001b[1;33m)\u001b[0m\u001b[1;33m\u001b[0m\u001b[1;33m\u001b[0m\u001b[0m\n\u001b[1;32m----> 5\u001b[1;33m     \u001b[0mquantidade_avaliacoes\u001b[0m \u001b[1;33m=\u001b[0m \u001b[0mextrair_quantidade_avaliacoes\u001b[0m\u001b[1;33m(\u001b[0m\u001b[0mproduto\u001b[0m\u001b[1;33m)\u001b[0m\u001b[1;33m\u001b[0m\u001b[1;33m\u001b[0m\u001b[0m\n\u001b[0m\u001b[0;32m      6\u001b[0m     \u001b[0murl\u001b[0m \u001b[1;33m=\u001b[0m \u001b[0mextrair_url_produto\u001b[0m\u001b[1;33m(\u001b[0m\u001b[0mproduto\u001b[0m\u001b[1;33m)\u001b[0m\u001b[1;33m\u001b[0m\u001b[1;33m\u001b[0m\u001b[0m\n\u001b[0;32m      7\u001b[0m \u001b[1;33m\u001b[0m\u001b[0m\n",
      "\u001b[1;32m<ipython-input-21-01a1b09265db>\u001b[0m in \u001b[0;36mextrair_quantidade_avaliacoes\u001b[1;34m(produto)\u001b[0m\n\u001b[0;32m     16\u001b[0m \u001b[1;33m\u001b[0m\u001b[0m\n\u001b[0;32m     17\u001b[0m \u001b[1;32mdef\u001b[0m \u001b[0mextrair_quantidade_avaliacoes\u001b[0m\u001b[1;33m(\u001b[0m\u001b[0mproduto\u001b[0m\u001b[1;33m)\u001b[0m\u001b[1;33m:\u001b[0m\u001b[1;33m\u001b[0m\u001b[1;33m\u001b[0m\u001b[0m\n\u001b[1;32m---> 18\u001b[1;33m     \u001b[1;32mreturn\u001b[0m \u001b[0mint\u001b[0m\u001b[1;33m(\u001b[0m\u001b[0mproduto\u001b[0m\u001b[1;33m.\u001b[0m\u001b[0mfind\u001b[0m\u001b[1;33m(\u001b[0m\u001b[1;34m'span'\u001b[0m\u001b[1;33m,\u001b[0m \u001b[1;33m{\u001b[0m\u001b[1;34m'format'\u001b[0m\u001b[1;33m:\u001b[0m\u001b[1;34m'count'\u001b[0m\u001b[1;33m}\u001b[0m\u001b[1;33m)\u001b[0m\u001b[1;33m.\u001b[0m\u001b[0mtext\u001b[0m\u001b[1;33m.\u001b[0m\u001b[0mstrip\u001b[0m\u001b[1;33m(\u001b[0m\u001b[1;33m)\u001b[0m\u001b[1;33m)\u001b[0m\u001b[1;33m\u001b[0m\u001b[1;33m\u001b[0m\u001b[0m\n\u001b[0m",
      "\u001b[1;31mAttributeError\u001b[0m: 'NoneType' object has no attribute 'text'"
     ]
    }
   ],
   "source": [
    "lista_produtos = []\n",
    "resultado_da_pesquisa = soup.find_all('li', {'class':'sc-eCVOVf loRbcV'})\n",
    "\n",
    "for produto in resultado_da_pesquisa:\n",
    "    lista_produtos.append(extrair_informacoes_produto(produto))"
   ]
  },
  {
   "cell_type": "markdown",
   "metadata": {},
   "source": [
    "Deu errado ao extrair a quantidade de avaliações 😅\n",
    "\n",
    "Podemos corrigir isso através do tratamento de exceções"
   ]
  },
  {
   "cell_type": "code",
   "execution_count": 26,
   "metadata": {},
   "outputs": [],
   "source": [
    "def extrair_titulo_produto(produto):\n",
    "    return produto.a.h2.text.strip()\n",
    "\n",
    "def extrair_url_produto(produto):\n",
    "    rota_detalhes_produto = produto.a.get('href')\n",
    "    return f'https://www.magazineluiza.com.br{rota_detalhes_produto}'\n",
    "\n",
    "def extrair_preco_produto(produto):\n",
    "    try:\n",
    "        preco_produto = produto.find('p', {'data-testid':'price-value'}).text.strip()\n",
    "        preco_produto = unidecode(preco_produto)\n",
    "        preco_produto_float = float(preco_produto.split()[-1].replace('.','').replace(',','.'))\n",
    "        return preco_produto_float\n",
    "    except AttributeError:\n",
    "        return\n",
    "    \n",
    "def extrair_avaliacao(produto):\n",
    "    return len(produto.find_all('use', {'xlink:href':'#StarIcon'})) \n",
    "\n",
    "def extrair_quantidade_avaliacoes(produto):\n",
    "    try:\n",
    "        return int(produto.find('span', {'format':'count'}).text.strip())\n",
    "    except AttributeError:\n",
    "        return 0"
   ]
  },
  {
   "cell_type": "markdown",
   "metadata": {},
   "source": [
    "Testando novamente..."
   ]
  },
  {
   "cell_type": "code",
   "execution_count": 27,
   "metadata": {
    "scrolled": true
   },
   "outputs": [
    {
     "name": "stdout",
     "output_type": "stream",
     "text": [
      "iPhone 11 Apple 64GB Branco 6,1” 12MP iOS\n",
      "iPhone 11 Apple 64GB Roxo 6,1” 12MP iOS\n",
      "Smartphone Samsung Galaxy S20 FE 128GB Cloud Mint\n",
      "iPhone 11 Apple 64GB Preto 6,1” 12MP iOS\n",
      "Smartphone Samsung Galaxy S20 FE 128GB Cloud White\n",
      "Smartphone Motorola Moto G30 128GB White Lilac 4G\n",
      "Smartphone Samsung Galaxy A12 64GB Branco 4G\n",
      "Smartphone Samsung Galaxy S20 FE 128GB Cloud Navy\n",
      "Smartphone Samsung Galaxy M12 64GB Verde 4G\n",
      "Smartphone Samsung Galaxy A02s 32GB Vermelho 4G\n",
      "Smartphone Samsung Galaxy M62 128GB Azul\n",
      "Smartphone Motorola Moto E7 Power 32GB Vermelho\n",
      "Smartphone Samsung Galaxy A12 64GB Azul 4G\n",
      "Smartphone Samsung Galaxy A02s 32GB Azul 4G\n",
      "Smartphone Samsung Galaxy A12 64GB Vermelho 4G\n",
      "Smartphone Motorola Moto G9 Play 64GB 4GB RAM Câmera Tripla 48MP Tela 6.5\" - Azul Safira\n",
      "Smartphone Samsung Galaxy M12 64GB Azul 4G\n",
      "Smartphone Motorola Moto G20 64GB 4G Tela 6.5\" Câmera Quádupla 48MP 8MP 2MP 2MP Frontal 13MP Azul\n",
      "iPhone 11 Apple 128GB Amarelo 6,1” 12MP iOS\n",
      "iPhone 11 Apple 128GB Preto 6,1” 12MP iOS\n",
      "Smartphone Motorola Moto G10 64GB Cinza Aurora\n",
      "Smartphone Samsung Galaxy A10s 32GB Azul\n",
      "Smartphone Samsung Galaxy A02 32GB Vermelho 4G\n",
      "Smartphone Samsung Galaxy A12 64GB Preto 4G\n",
      "Smartphone Samsung Galaxy A02 32GB Azul 4G\n",
      "Smartphone LG K22 Red 4G Quad-Core 2GB RAM\n",
      "Smartphone Motorola G60s 128GB Verde 4G\n",
      "Smartphone Samsung Galaxy M62 128GB Preto\n",
      "Smartphone Motorola Moto E7 Power 32GB Azul\n",
      "Smartphone Motorola Moto G30 128GB Câmera Quádrupla 64MP 8MP 2MP 2MP Android 11 White Lilac\n",
      "Smartphone Motorola Moto G20 64GB Pink 4G\n",
      "Smartphone Samsung Galaxy A02s 32GB Preto 4G\n",
      "Smartphone LG K41s 3gb Ram 32gb 4g Dual Chip Octa Core\n",
      "Smartphone Samsung Galaxy S20 FE 256GB Cloud Mint\n",
      "Smartphone Samsung Galaxy M12 64GB Preto 4G\n",
      "Smartphone Samsung Galaxy A10s 32GB Vermelho\n",
      "Smartphone Samsung Galaxy A02 32GB Preto 4G\n",
      "Smartphone Samsung Galaxy S20 FE 256GB Cloud White\n",
      "Smartphone Motorola Moto E7 32GB Aquamarine\n",
      "Smartphone Motorola E7 Power 32GB 4G Tela 6.5\" Câmera Dupla 13MP 2MP Frontal 5MP Azul Metálico\n",
      "Smartphone Positivo Twist 4 Fit 32GB Vermelho 3G\n",
      "Smartphone Xiaomi Redmi 9C 32GB Azul 4G\n",
      "Smartphone Samsung Galaxy S21 128GB Violeta 5G\n",
      "Smartphone Samsung Galaxy S21 128GB Branco 5G\n",
      "Smartphone Samsung Galaxy A03s 64GB Azul 4G\n",
      "Smartphone LG K62 64GB Dual Chip Tela 6.59\" Câmera Quádrupla 48MP+5MP+2MP+2MP Frontal 13MP Vermelho\n",
      "Smartphone Samsung Galaxy A22 Câmera Traseira Quádrupla Selfie de 13MP Tela Infinita de 6.4\" 128GB 4GB RAM Octa Core Dual Chip Violeta\n",
      "Smartphone Samsung Galaxy M32, 128GB, 6GB RAM, Bateria de 5000mAh, Tela Infinita de 6.4\"\n",
      "Smartphone Motorola Moto G20 64GB Azul 4G\n",
      "Smartphone A55 128GB 4GB Ram Octa-core Câmera 12MP Philco\n",
      "Smartphone Samsung Galaxy A52 128GB Azul 4G\n",
      "Smartphone Motorola Moto G9 Play 64GB 4GB RAM Câmera Tripla 48MP Tela 6.5\" - Rosa Quartzo\n",
      "Smartphone Samsung Galaxy S20 FE 256GB Cloud Navy\n",
      "Smartphone Samsung Galaxy Note 20 256GB Mystic\n",
      "Smartphone Samsung Galaxy A03s 64GB Vermelho 4G\n",
      "Smartphone Samsung Galaxy S21 128GB Rosa 5G\n",
      "iPhone 11 Apple 64GB (PRODUCT)RED 6,1” 12MP iOS\n",
      "Smartphone Motorola Moto G10 64GB Branco Floral\n",
      "Smartphone Samsung Galaxy A52 128GB Branco 4G\n"
     ]
    }
   ],
   "source": [
    "lista_produtos = []\n",
    "resultado_da_pesquisa = soup.find_all('li', {'class':'sc-eCVOVf loRbcV'})\n",
    "for produto in resultado_da_pesquisa:\n",
    "    titulo_produto = produto.a.h2.text.strip()\n",
    "    print(titulo_produto)\n",
    "    lista_produtos.append(extrair_informacoes_produto(produto))"
   ]
  },
  {
   "cell_type": "code",
   "execution_count": 28,
   "metadata": {
    "scrolled": true
   },
   "outputs": [
    {
     "name": "stdout",
     "output_type": "stream",
     "text": [
      "[('iPhone 11 Apple 64GB Branco 6,1” 12MP iOS', 3719.07, 4, 58, 'https://www.magazineluiza.com.br/iphone-11-apple-64gb-branco-61-12mp-ios/p/155614100/te/ip11/'), ('iPhone 11 Apple 64GB Roxo 6,1” 12MP iOS', 3719.07, 5, 1, 'https://www.magazineluiza.com.br/iphone-11-apple-64gb-roxo-61-12mp-ios/p/155610900/te/ip11/'), ('Smartphone Samsung Galaxy S20 FE 128GB Cloud Mint', 2249.0, 4, 48, 'https://www.magazineluiza.com.br/smartphone-samsung-galaxy-s20-fe-128gb-cloud-mint-4g-6gb-ram-tela-65-cam-tripla-selfie-32mp/p/155630400/te/gs2f/'), ('iPhone 11 Apple 64GB Preto 6,1” 12MP iOS', 3719.07, 4, 80, 'https://www.magazineluiza.com.br/iphone-11-apple-64gb-preto-61-12mp-ios/p/155610500/te/ip11/'), ('Smartphone Samsung Galaxy S20 FE 128GB Cloud White', 2249.0, 4, 51, 'https://www.magazineluiza.com.br/smartphone-samsung-galaxy-s20-fe-128gb-cloud-white-4g-6gb-ram-tela-65-cam-tripla-selfie-32mp/p/155630000/te/gs2f/')]\n"
     ]
    }
   ],
   "source": [
    "print(lista_produtos[:5])"
   ]
  },
  {
   "cell_type": "markdown",
   "metadata": {},
   "source": [
    "Agora deu tudo certo! 😎"
   ]
  },
  {
   "cell_type": "markdown",
   "metadata": {},
   "source": [
    "### Encapsulamento da Função de Extrair Produtos da Página"
   ]
  },
  {
   "cell_type": "code",
   "execution_count": 29,
   "metadata": {},
   "outputs": [],
   "source": [
    "def extrair_produtos_pagina():\n",
    "    resultado_da_pesquisa = soup.find_all('li', {'class':'sc-eCVOVf loRbcV'})\n",
    "    return [extrair_informacoes_produto(produto) for produto in resultado_da_pesquisa if extrair_informacoes_produto(produto)]"
   ]
  },
  {
   "cell_type": "markdown",
   "metadata": {},
   "source": [
    "Testando a função encapsulada..."
   ]
  },
  {
   "cell_type": "code",
   "execution_count": 30,
   "metadata": {
    "scrolled": true
   },
   "outputs": [
    {
     "data": {
      "text/plain": [
       "[('iPhone 11 Apple 64GB Branco 6,1” 12MP iOS',\n",
       "  3719.07,\n",
       "  4,\n",
       "  58,\n",
       "  'https://www.magazineluiza.com.br/iphone-11-apple-64gb-branco-61-12mp-ios/p/155614100/te/ip11/'),\n",
       " ('iPhone 11 Apple 64GB Roxo 6,1” 12MP iOS',\n",
       "  3719.07,\n",
       "  5,\n",
       "  1,\n",
       "  'https://www.magazineluiza.com.br/iphone-11-apple-64gb-roxo-61-12mp-ios/p/155610900/te/ip11/'),\n",
       " ('Smartphone Samsung Galaxy S20 FE 128GB Cloud Mint',\n",
       "  2249.0,\n",
       "  4,\n",
       "  48,\n",
       "  'https://www.magazineluiza.com.br/smartphone-samsung-galaxy-s20-fe-128gb-cloud-mint-4g-6gb-ram-tela-65-cam-tripla-selfie-32mp/p/155630400/te/gs2f/'),\n",
       " ('iPhone 11 Apple 64GB Preto 6,1” 12MP iOS',\n",
       "  3719.07,\n",
       "  4,\n",
       "  80,\n",
       "  'https://www.magazineluiza.com.br/iphone-11-apple-64gb-preto-61-12mp-ios/p/155610500/te/ip11/'),\n",
       " ('Smartphone Samsung Galaxy S20 FE 128GB Cloud White',\n",
       "  2249.0,\n",
       "  4,\n",
       "  51,\n",
       "  'https://www.magazineluiza.com.br/smartphone-samsung-galaxy-s20-fe-128gb-cloud-white-4g-6gb-ram-tela-65-cam-tripla-selfie-32mp/p/155630000/te/gs2f/')]"
      ]
     },
     "execution_count": 30,
     "metadata": {},
     "output_type": "execute_result"
    }
   ],
   "source": [
    "extrair_produtos_pagina()[:5]"
   ]
  },
  {
   "cell_type": "markdown",
   "metadata": {},
   "source": [
    "Não acredito que tudo até agora rodou liso feito manteiga 🧈"
   ]
  },
  {
   "cell_type": "markdown",
   "metadata": {},
   "source": [
    "## Função Para Extrair o Número da Última Página"
   ]
  },
  {
   "cell_type": "code",
   "execution_count": 31,
   "metadata": {},
   "outputs": [
    {
     "data": {
      "text/plain": [
       "'17'"
      ]
     },
     "execution_count": 31,
     "metadata": {},
     "output_type": "execute_result"
    }
   ],
   "source": [
    "paginas = soup.find_all('a', {'type':'page'})[-1].text\n",
    "paginas"
   ]
  },
  {
   "cell_type": "code",
   "execution_count": 32,
   "metadata": {},
   "outputs": [],
   "source": [
    "def numero_ultima_pagina():\n",
    "    paginas = soup.find_all('a', {'type':'page'})\n",
    "    return int(paginas[-1].text)"
   ]
  },
  {
   "cell_type": "markdown",
   "metadata": {},
   "source": [
    "## Função de Extrair Produtos de Várias Páginas"
   ]
  },
  {
   "cell_type": "code",
   "execution_count": 33,
   "metadata": {},
   "outputs": [],
   "source": [
    "def extrair_produtos(termo_de_pesquisa=''):\n",
    "    # Instanciando o driver do navegador\n",
    "    options = webdriver.ChromeOptions() \n",
    "    options.add_argument('--disable-blink-features=AutomationControlled')\n",
    "    driver = webdriver.Chrome(options=options, executable_path=r'C:\\SeleniumDrivers\\chromedriver.exe')\n",
    "    # personalizando a url com o termo de pesquisa\n",
    "    url = personalizar_url(termo_de_pesquisa)\n",
    "    \n",
    "    lista_produtos = []\n",
    "    for pagina in range(1, numero_ultima_pagina() + 1):\n",
    "        driver.get(url.format(pagina))\n",
    "        soup = BeautifulSoup(driver.page_source, 'html.parser')\n",
    "        resultados = soup.find_all('li', {'class':'sc-eCVOVf loRbcV'})\n",
    "        for produto in resultados:\n",
    "            informacao = extrair_informacoes_produto(produto)\n",
    "            if informacao:\n",
    "                lista_produtos.append(informacao)\n",
    "    driver.close()\n",
    "    return lista_produtos"
   ]
  },
  {
   "cell_type": "code",
   "execution_count": 34,
   "metadata": {},
   "outputs": [],
   "source": [
    "lista_smartphones = extrair_produtos('smartphone')"
   ]
  },
  {
   "cell_type": "code",
   "execution_count": 35,
   "metadata": {
    "scrolled": true
   },
   "outputs": [
    {
     "data": {
      "text/plain": [
       "714"
      ]
     },
     "execution_count": 35,
     "metadata": {},
     "output_type": "execute_result"
    }
   ],
   "source": [
    "len(lista_smartphones)"
   ]
  },
  {
   "cell_type": "code",
   "execution_count": 41,
   "metadata": {
    "scrolled": true
   },
   "outputs": [
    {
     "data": {
      "text/plain": [
       "[('Smartphone Xiaomi Redmi 8A 32GB Azul Ocean Blue',\n",
       "  None,\n",
       "  5,\n",
       "  0,\n",
       "  'https://www.magazineluiza.com.br/smartphone-xiaomi-redmi-8a-32gb-azul-ocean-blue-2gb-ram-tela-622-cam-12mp-cam-selfie-8mp/p/225200300/te/rem8/'),\n",
       " ('Smartphone Xiaomi Redmi 8A 32GB Vermelho Sunset',\n",
       "  None,\n",
       "  5,\n",
       "  0,\n",
       "  'https://www.magazineluiza.com.br/smartphone-xiaomi-redmi-8a-32gb-vermelho-sunset-red-2gb-ram-tela-622-cam-12mp-cam-selfie-8mp/p/225200100/te/rem8/'),\n",
       " ('Smartphone Samsung Galaxy S20 FE 256GB Cloud Navy',\n",
       "  2699.1,\n",
       "  4,\n",
       "  4,\n",
       "  'https://www.magazineluiza.com.br/smartphone-samsung-galaxy-s20-fe-256gb-cloud-navy-4g-8gb-ram-tela-65-cam-tripla-selfie-32mp/p/155628600/te/galx/')]"
      ]
     },
     "execution_count": 41,
     "metadata": {},
     "output_type": "execute_result"
    }
   ],
   "source": [
    "lista_smartphones[:3]"
   ]
  },
  {
   "cell_type": "markdown",
   "metadata": {},
   "source": [
    "A função está funcionando como esperado"
   ]
  },
  {
   "cell_type": "markdown",
   "metadata": {},
   "source": [
    "## Salvando dados em csv com pandas"
   ]
  },
  {
   "cell_type": "code",
   "execution_count": 37,
   "metadata": {},
   "outputs": [],
   "source": [
    "dataset = pd.DataFrame(lista_smartphones, columns = ['descricao', 'preco', 'avaliacao', 'quantidade_avaliacoes', 'URL'])"
   ]
  },
  {
   "cell_type": "code",
   "execution_count": 38,
   "metadata": {},
   "outputs": [
    {
     "data": {
      "text/html": [
       "<div>\n",
       "<style scoped>\n",
       "    .dataframe tbody tr th:only-of-type {\n",
       "        vertical-align: middle;\n",
       "    }\n",
       "\n",
       "    .dataframe tbody tr th {\n",
       "        vertical-align: top;\n",
       "    }\n",
       "\n",
       "    .dataframe thead th {\n",
       "        text-align: right;\n",
       "    }\n",
       "</style>\n",
       "<table border=\"1\" class=\"dataframe\">\n",
       "  <thead>\n",
       "    <tr style=\"text-align: right;\">\n",
       "      <th></th>\n",
       "      <th>descricao</th>\n",
       "      <th>preco</th>\n",
       "      <th>avaliacao</th>\n",
       "      <th>quantidade_avaliacoes</th>\n",
       "      <th>URL</th>\n",
       "    </tr>\n",
       "  </thead>\n",
       "  <tbody>\n",
       "    <tr>\n",
       "      <th>0</th>\n",
       "      <td>Smartphone Xiaomi Redmi 8A 32GB Azul Ocean Blue</td>\n",
       "      <td>NaN</td>\n",
       "      <td>5</td>\n",
       "      <td>0</td>\n",
       "      <td>https://www.magazineluiza.com.br/smartphone-xi...</td>\n",
       "    </tr>\n",
       "    <tr>\n",
       "      <th>1</th>\n",
       "      <td>Smartphone Xiaomi Redmi 8A 32GB Vermelho Sunset</td>\n",
       "      <td>NaN</td>\n",
       "      <td>5</td>\n",
       "      <td>0</td>\n",
       "      <td>https://www.magazineluiza.com.br/smartphone-xi...</td>\n",
       "    </tr>\n",
       "    <tr>\n",
       "      <th>2</th>\n",
       "      <td>Smartphone Samsung Galaxy S20 FE 256GB Cloud Navy</td>\n",
       "      <td>2699.10</td>\n",
       "      <td>4</td>\n",
       "      <td>4</td>\n",
       "      <td>https://www.magazineluiza.com.br/smartphone-sa...</td>\n",
       "    </tr>\n",
       "    <tr>\n",
       "      <th>3</th>\n",
       "      <td>Smartphone Samsung Galaxy Note 20 256GB Mystic</td>\n",
       "      <td>3149.10</td>\n",
       "      <td>4</td>\n",
       "      <td>4</td>\n",
       "      <td>https://www.magazineluiza.com.br/smartphone-sa...</td>\n",
       "    </tr>\n",
       "    <tr>\n",
       "      <th>4</th>\n",
       "      <td>Smartphone Samsung Galaxy A03s 64GB Vermelho 4G</td>\n",
       "      <td>944.10</td>\n",
       "      <td>5</td>\n",
       "      <td>0</td>\n",
       "      <td>https://www.magazineluiza.com.br/smartphone-sa...</td>\n",
       "    </tr>\n",
       "    <tr>\n",
       "      <th>...</th>\n",
       "      <td>...</td>\n",
       "      <td>...</td>\n",
       "      <td>...</td>\n",
       "      <td>...</td>\n",
       "      <td>...</td>\n",
       "    </tr>\n",
       "    <tr>\n",
       "      <th>709</th>\n",
       "      <td>Smartphone Huawei P40 Dual Sim 128GB - 8GB RAM...</td>\n",
       "      <td>4389.00</td>\n",
       "      <td>5</td>\n",
       "      <td>1</td>\n",
       "      <td>https://www.magazineluiza.com.br/smartphone-hu...</td>\n",
       "    </tr>\n",
       "    <tr>\n",
       "      <th>710</th>\n",
       "      <td>Celular Samsung Galaxy A32 Azul 128GB 4GB RAM ...</td>\n",
       "      <td>1549.00</td>\n",
       "      <td>5</td>\n",
       "      <td>0</td>\n",
       "      <td>https://www.magazineluiza.com.br/celular-samsu...</td>\n",
       "    </tr>\n",
       "    <tr>\n",
       "      <th>711</th>\n",
       "      <td>Celular Multilaser E Lite 32GB Dual P9127</td>\n",
       "      <td>463.05</td>\n",
       "      <td>5</td>\n",
       "      <td>0</td>\n",
       "      <td>https://www.magazineluiza.com.br/celular-multi...</td>\n",
       "    </tr>\n",
       "    <tr>\n",
       "      <th>712</th>\n",
       "      <td>Smartphone Xiaomi Redmi 9 Tela 6,53\" 4GB 64GB ...</td>\n",
       "      <td>1367.10</td>\n",
       "      <td>5</td>\n",
       "      <td>0</td>\n",
       "      <td>https://www.magazineluiza.com.br/smartphone-xi...</td>\n",
       "    </tr>\n",
       "    <tr>\n",
       "      <th>713</th>\n",
       "      <td>Smartphone Samsung Galaxy A71 128GB Preto 4G</td>\n",
       "      <td>NaN</td>\n",
       "      <td>4</td>\n",
       "      <td>154</td>\n",
       "      <td>https://www.magazineluiza.com.br/smartphone-sa...</td>\n",
       "    </tr>\n",
       "  </tbody>\n",
       "</table>\n",
       "<p>714 rows × 5 columns</p>\n",
       "</div>"
      ],
      "text/plain": [
       "                                             descricao    preco  avaliacao  \\\n",
       "0      Smartphone Xiaomi Redmi 8A 32GB Azul Ocean Blue      NaN          5   \n",
       "1      Smartphone Xiaomi Redmi 8A 32GB Vermelho Sunset      NaN          5   \n",
       "2    Smartphone Samsung Galaxy S20 FE 256GB Cloud Navy  2699.10          4   \n",
       "3       Smartphone Samsung Galaxy Note 20 256GB Mystic  3149.10          4   \n",
       "4      Smartphone Samsung Galaxy A03s 64GB Vermelho 4G   944.10          5   \n",
       "..                                                 ...      ...        ...   \n",
       "709  Smartphone Huawei P40 Dual Sim 128GB - 8GB RAM...  4389.00          5   \n",
       "710  Celular Samsung Galaxy A32 Azul 128GB 4GB RAM ...  1549.00          5   \n",
       "711          Celular Multilaser E Lite 32GB Dual P9127   463.05          5   \n",
       "712  Smartphone Xiaomi Redmi 9 Tela 6,53\" 4GB 64GB ...  1367.10          5   \n",
       "713       Smartphone Samsung Galaxy A71 128GB Preto 4G      NaN          4   \n",
       "\n",
       "     quantidade_avaliacoes                                                URL  \n",
       "0                        0  https://www.magazineluiza.com.br/smartphone-xi...  \n",
       "1                        0  https://www.magazineluiza.com.br/smartphone-xi...  \n",
       "2                        4  https://www.magazineluiza.com.br/smartphone-sa...  \n",
       "3                        4  https://www.magazineluiza.com.br/smartphone-sa...  \n",
       "4                        0  https://www.magazineluiza.com.br/smartphone-sa...  \n",
       "..                     ...                                                ...  \n",
       "709                      1  https://www.magazineluiza.com.br/smartphone-hu...  \n",
       "710                      0  https://www.magazineluiza.com.br/celular-samsu...  \n",
       "711                      0  https://www.magazineluiza.com.br/celular-multi...  \n",
       "712                      0  https://www.magazineluiza.com.br/smartphone-xi...  \n",
       "713                    154  https://www.magazineluiza.com.br/smartphone-sa...  \n",
       "\n",
       "[714 rows x 5 columns]"
      ]
     },
     "execution_count": 38,
     "metadata": {},
     "output_type": "execute_result"
    }
   ],
   "source": [
    "dataset"
   ]
  },
  {
   "cell_type": "code",
   "execution_count": 39,
   "metadata": {},
   "outputs": [],
   "source": [
    "pesquisa = 'smartphone'"
   ]
  },
  {
   "cell_type": "code",
   "execution_count": 40,
   "metadata": {},
   "outputs": [],
   "source": [
    "dataset.to_csv(f'output/dataset_{pesquisa}.csv'.replace(' ','_'), sep=';', index = False, encoding = 'utf-8-sig')"
   ]
  }
 ],
 "metadata": {
  "kernelspec": {
   "display_name": "Python 3",
   "language": "python",
   "name": "python3"
  },
  "language_info": {
   "codemirror_mode": {
    "name": "ipython",
    "version": 3
   },
   "file_extension": ".py",
   "mimetype": "text/x-python",
   "name": "python",
   "nbconvert_exporter": "python",
   "pygments_lexer": "ipython3",
   "version": "3.8.5"
  }
 },
 "nbformat": 4,
 "nbformat_minor": 4
}
