{
 "cells": [
  {
   "cell_type": "markdown",
   "metadata": {},
   "source": [
    "# Análise de Dados Magalu"
   ]
  },
  {
   "cell_type": "markdown",
   "metadata": {},
   "source": [
    "## Análise de Dados de Smartphones, Notebooks e Smart TVs"
   ]
  },
  {
   "cell_type": "markdown",
   "metadata": {},
   "source": [
    "### Análise de Dados: Smart TVs"
   ]
  },
  {
   "cell_type": "code",
   "execution_count": 1,
   "metadata": {},
   "outputs": [],
   "source": [
    "import pandas as pd\n",
    "import seaborn as sns\n",
    "import matplotlib.pyplot as plt"
   ]
  },
  {
   "cell_type": "code",
   "execution_count": 2,
   "metadata": {},
   "outputs": [],
   "source": [
    "df = pd.read_csv('output/dataset_smart_tv.csv', sep=';')"
   ]
  },
  {
   "cell_type": "code",
   "execution_count": 3,
   "metadata": {},
   "outputs": [
    {
     "data": {
      "text/html": [
       "<div>\n",
       "<style scoped>\n",
       "    .dataframe tbody tr th:only-of-type {\n",
       "        vertical-align: middle;\n",
       "    }\n",
       "\n",
       "    .dataframe tbody tr th {\n",
       "        vertical-align: top;\n",
       "    }\n",
       "\n",
       "    .dataframe thead th {\n",
       "        text-align: right;\n",
       "    }\n",
       "</style>\n",
       "<table border=\"1\" class=\"dataframe\">\n",
       "  <thead>\n",
       "    <tr style=\"text-align: right;\">\n",
       "      <th></th>\n",
       "      <th>descricao</th>\n",
       "      <th>preco</th>\n",
       "      <th>avaliacao</th>\n",
       "      <th>quantidade_avaliacoes</th>\n",
       "      <th>URL</th>\n",
       "    </tr>\n",
       "  </thead>\n",
       "  <tbody>\n",
       "    <tr>\n",
       "      <th>0</th>\n",
       "      <td>Smart TV 50” Crystal 4K Samsung 50AU7700</td>\n",
       "      <td>3099.00</td>\n",
       "      <td>3</td>\n",
       "      <td>28</td>\n",
       "      <td>https://www.magazineluiza.com.br/smart-tv-50-c...</td>\n",
       "    </tr>\n",
       "    <tr>\n",
       "      <th>1</th>\n",
       "      <td>Smart TV 65” Crystal 4K Samsung 65AU7700 Wi-Fi</td>\n",
       "      <td>4199.00</td>\n",
       "      <td>3</td>\n",
       "      <td>3</td>\n",
       "      <td>https://www.magazineluiza.com.br/smart-tv-65-c...</td>\n",
       "    </tr>\n",
       "    <tr>\n",
       "      <th>2</th>\n",
       "      <td>Smart TV 55” Crystal 4K Samsung 55AU7700</td>\n",
       "      <td>3299.00</td>\n",
       "      <td>5</td>\n",
       "      <td>2</td>\n",
       "      <td>https://www.magazineluiza.com.br/smart-tv-55-c...</td>\n",
       "    </tr>\n",
       "    <tr>\n",
       "      <th>3</th>\n",
       "      <td>Smart TV 60” Crystal 4K Samsung 60AU8000 Wi-Fi</td>\n",
       "      <td>3989.05</td>\n",
       "      <td>5</td>\n",
       "      <td>3</td>\n",
       "      <td>https://www.magazineluiza.com.br/smart-tv-60-c...</td>\n",
       "    </tr>\n",
       "    <tr>\n",
       "      <th>4</th>\n",
       "      <td>Smart TV 32” HD LED TCL S615 VA 60Hz</td>\n",
       "      <td>1398.00</td>\n",
       "      <td>5</td>\n",
       "      <td>4</td>\n",
       "      <td>https://www.magazineluiza.com.br/smart-tv-32-h...</td>\n",
       "    </tr>\n",
       "  </tbody>\n",
       "</table>\n",
       "</div>"
      ],
      "text/plain": [
       "                                        descricao    preco  avaliacao  \\\n",
       "0        Smart TV 50” Crystal 4K Samsung 50AU7700  3099.00          3   \n",
       "1  Smart TV 65” Crystal 4K Samsung 65AU7700 Wi-Fi  4199.00          3   \n",
       "2        Smart TV 55” Crystal 4K Samsung 55AU7700  3299.00          5   \n",
       "3  Smart TV 60” Crystal 4K Samsung 60AU8000 Wi-Fi  3989.05          5   \n",
       "4            Smart TV 32” HD LED TCL S615 VA 60Hz  1398.00          5   \n",
       "\n",
       "   quantidade_avaliacoes                                                URL  \n",
       "0                     28  https://www.magazineluiza.com.br/smart-tv-50-c...  \n",
       "1                      3  https://www.magazineluiza.com.br/smart-tv-65-c...  \n",
       "2                      2  https://www.magazineluiza.com.br/smart-tv-55-c...  \n",
       "3                      3  https://www.magazineluiza.com.br/smart-tv-60-c...  \n",
       "4                      4  https://www.magazineluiza.com.br/smart-tv-32-h...  "
      ]
     },
     "execution_count": 3,
     "metadata": {},
     "output_type": "execute_result"
    }
   ],
   "source": [
    "df.head()"
   ]
  },
  {
   "cell_type": "code",
   "execution_count": 4,
   "metadata": {},
   "outputs": [
    {
     "data": {
      "text/plain": [
       "descricao                1015\n",
       "preco                     966\n",
       "avaliacao                1015\n",
       "quantidade_avaliacoes    1015\n",
       "URL                      1015\n",
       "dtype: int64"
      ]
     },
     "execution_count": 4,
     "metadata": {},
     "output_type": "execute_result"
    }
   ],
   "source": [
    "df.count()"
   ]
  },
  {
   "cell_type": "markdown",
   "metadata": {},
   "source": [
    "## Verificação de Valores Nulos: NaN"
   ]
  },
  {
   "cell_type": "code",
   "execution_count": 5,
   "metadata": {},
   "outputs": [
    {
     "data": {
      "text/plain": [
       "49"
      ]
     },
     "execution_count": 5,
     "metadata": {},
     "output_type": "execute_result"
    }
   ],
   "source": [
    "df.isnull().sum().sum()"
   ]
  },
  {
   "cell_type": "code",
   "execution_count": 6,
   "metadata": {
    "scrolled": true
   },
   "outputs": [
    {
     "data": {
      "text/plain": [
       "49"
      ]
     },
     "execution_count": 6,
     "metadata": {},
     "output_type": "execute_result"
    }
   ],
   "source": [
    "df['preco'].isnull().sum()"
   ]
  },
  {
   "cell_type": "markdown",
   "metadata": {},
   "source": [
    "A coluna de preços contém valores nulos. É melhor excluir esses registros do que substituir por um valor de preço = 0"
   ]
  },
  {
   "cell_type": "code",
   "execution_count": 7,
   "metadata": {},
   "outputs": [],
   "source": [
    "df = df.dropna()"
   ]
  },
  {
   "cell_type": "code",
   "execution_count": 8,
   "metadata": {
    "scrolled": true
   },
   "outputs": [
    {
     "data": {
      "text/plain": [
       "descricao                966\n",
       "preco                    966\n",
       "avaliacao                966\n",
       "quantidade_avaliacoes    966\n",
       "URL                      966\n",
       "dtype: int64"
      ]
     },
     "execution_count": 8,
     "metadata": {},
     "output_type": "execute_result"
    }
   ],
   "source": [
    "df.count()"
   ]
  },
  {
   "cell_type": "markdown",
   "metadata": {},
   "source": [
    "Agora os registros com preço nulo foram excluídos do dataframe"
   ]
  },
  {
   "cell_type": "markdown",
   "metadata": {},
   "source": [
    "## Estatística descritiva"
   ]
  },
  {
   "cell_type": "markdown",
   "metadata": {},
   "source": [
    "Seguem algumas estatísticas descritivas relativas aos smartphones:"
   ]
  },
  {
   "cell_type": "code",
   "execution_count": 9,
   "metadata": {
    "scrolled": false
   },
   "outputs": [
    {
     "data": {
      "text/html": [
       "<div>\n",
       "<style scoped>\n",
       "    .dataframe tbody tr th:only-of-type {\n",
       "        vertical-align: middle;\n",
       "    }\n",
       "\n",
       "    .dataframe tbody tr th {\n",
       "        vertical-align: top;\n",
       "    }\n",
       "\n",
       "    .dataframe thead th {\n",
       "        text-align: right;\n",
       "    }\n",
       "</style>\n",
       "<table border=\"1\" class=\"dataframe\">\n",
       "  <thead>\n",
       "    <tr style=\"text-align: right;\">\n",
       "      <th></th>\n",
       "      <th>preco</th>\n",
       "      <th>avaliacao</th>\n",
       "      <th>quantidade_avaliacoes</th>\n",
       "    </tr>\n",
       "  </thead>\n",
       "  <tbody>\n",
       "    <tr>\n",
       "      <th>count</th>\n",
       "      <td>966.000000</td>\n",
       "      <td>966.000000</td>\n",
       "      <td>966.000000</td>\n",
       "    </tr>\n",
       "    <tr>\n",
       "      <th>mean</th>\n",
       "      <td>4303.006108</td>\n",
       "      <td>4.832298</td>\n",
       "      <td>6.858178</td>\n",
       "    </tr>\n",
       "    <tr>\n",
       "      <th>std</th>\n",
       "      <td>6111.372292</td>\n",
       "      <td>0.565715</td>\n",
       "      <td>48.939971</td>\n",
       "    </tr>\n",
       "    <tr>\n",
       "      <th>min</th>\n",
       "      <td>11.060000</td>\n",
       "      <td>1.000000</td>\n",
       "      <td>0.000000</td>\n",
       "    </tr>\n",
       "    <tr>\n",
       "      <th>25%</th>\n",
       "      <td>1899.000000</td>\n",
       "      <td>5.000000</td>\n",
       "      <td>0.000000</td>\n",
       "    </tr>\n",
       "    <tr>\n",
       "      <th>50%</th>\n",
       "      <td>2899.000000</td>\n",
       "      <td>5.000000</td>\n",
       "      <td>0.000000</td>\n",
       "    </tr>\n",
       "    <tr>\n",
       "      <th>75%</th>\n",
       "      <td>4556.132500</td>\n",
       "      <td>5.000000</td>\n",
       "      <td>0.000000</td>\n",
       "    </tr>\n",
       "    <tr>\n",
       "      <th>max</th>\n",
       "      <td>79999.000000</td>\n",
       "      <td>5.000000</td>\n",
       "      <td>937.000000</td>\n",
       "    </tr>\n",
       "  </tbody>\n",
       "</table>\n",
       "</div>"
      ],
      "text/plain": [
       "              preco   avaliacao  quantidade_avaliacoes\n",
       "count    966.000000  966.000000             966.000000\n",
       "mean    4303.006108    4.832298               6.858178\n",
       "std     6111.372292    0.565715              48.939971\n",
       "min       11.060000    1.000000               0.000000\n",
       "25%     1899.000000    5.000000               0.000000\n",
       "50%     2899.000000    5.000000               0.000000\n",
       "75%     4556.132500    5.000000               0.000000\n",
       "max    79999.000000    5.000000             937.000000"
      ]
     },
     "execution_count": 9,
     "metadata": {},
     "output_type": "execute_result"
    }
   ],
   "source": [
    "df.describe()"
   ]
  },
  {
   "cell_type": "markdown",
   "metadata": {},
   "source": [
    "## Histograma: Distribuição de Frequencias"
   ]
  },
  {
   "cell_type": "code",
   "execution_count": 43,
   "metadata": {
    "scrolled": false
   },
   "outputs": [
    {
     "data": {
      "image/png": "[encoded data removed]",
      "text/plain": [
       "<Figure size 842.4x595.44 with 1 Axes>"
      ]
     },
     "metadata": {},
     "output_type": "display_data"
    }
   ],
   "source": [
    "sns.set(style=\"darkgrid\")\n",
    "sns.set(rc={'figure.figsize':(11.7,8.27)})\n",
    "histplot = sns.histplot(data=df, x='preco', linewidth=1, bins=30, kde=True)\n",
    "histplot.axes.set_title(\"Histograma de Preços de Smart TVs\", fontsize=16)\n",
    "histplot.set_xlabel(\"Preço\", fontsize=14)\n",
    "histplot.set_ylabel(\"Frequência\", fontsize=14)\n",
    "plt.show()"
   ]
  },
  {
   "cell_type": "markdown",
   "metadata": {},
   "source": [
    "A distribuição é fortemente assimétrica dada a presença de outliers"
   ]
  },
  {
   "cell_type": "markdown",
   "metadata": {},
   "source": [
    "## Boxplot: Visualização de outliers"
   ]
  },
  {
   "cell_type": "code",
   "execution_count": 45,
   "metadata": {},
   "outputs": [
    {
     "data": {
      "image/png": "[encoded data removed]",
      "text/plain": [
       "<Figure size 842.4x595.44 with 1 Axes>"
      ]
     },
     "metadata": {},
     "output_type": "display_data"
    }
   ],
   "source": [
    "sns.set(style=\"darkgrid\")\n",
    "sns.set(rc={'figure.figsize':(11.7,8.27)})\n",
    "boxplot = sns.boxplot(data=df['preco'], linewidth=2.5, width=0.25)\n",
    "boxplot.axes.set_title(\"Boxplot Preços de Smart TVs\", fontsize=16)\n",
    "boxplot.set_xlabel(\"Smart TV\", fontsize=14)\n",
    "boxplot.set_ylabel(\"Preço\", fontsize=14)\n",
    "plt.show()"
   ]
  },
  {
   "cell_type": "markdown",
   "metadata": {},
   "source": [
    "### Remoção de Outliers"
   ]
  },
  {
   "cell_type": "markdown",
   "metadata": {},
   "source": [
    "Percebe-se que há outliers no departamento de smartphones.\n",
    "\n",
    "Podem ser acessórios para smartphones com preços muito baixos, ou celulares com preços muito acima da média\n",
    "\n",
    "Haverá agora um trabalho de remoção de outliers do nosso dataset"
   ]
  },
  {
   "cell_type": "markdown",
   "metadata": {},
   "source": [
    "### Função que retira os indices dos outliers do nosso dataframe"
   ]
  },
  {
   "cell_type": "code",
   "execution_count": 12,
   "metadata": {},
   "outputs": [],
   "source": [
    "def outliers_indexes(df, ft):\n",
    "    \"\"\" \n",
    "    Função que retorna o índice dos outliers\n",
    "    Embasamento matemático:\n",
    "    Amplitude Interquartil => IQR = Quartil_3 - Quartil_1\n",
    "    Limite Inferior => LI = Quartil_1 - 1.5*IQR\n",
    "    Limite Superior => LS = Quartil_3 + 1.5*IQR\n",
    "    Todos os dados que estiverem acima do limite superior ou abaixo do limite inferior, são outliers\n",
    "    \"\"\"\n",
    "    Q1 = df[ft].quantile(0.25)\n",
    "    Q3 = df[ft].quantile(0.75)\n",
    "    IQR = Q3 - Q1\n",
    "    \n",
    "    LI = Q1 - 1.5*IQR\n",
    "    LS = Q3 + 1.5*IQR\n",
    "    \n",
    "    lista_indices = df.index[ (df[ft] < LI) | (df[ft] > LS) ]\n",
    "    \n",
    "    return lista_indices"
   ]
  },
  {
   "cell_type": "code",
   "execution_count": 13,
   "metadata": {},
   "outputs": [],
   "source": [
    "# Cria-se uma lista vazia para armazenar os índices de saídas de múltiplas colunas \n",
    "# (somente caso se quisesse tirar outliers de multiplas colunas)\n",
    "index_list = []\n",
    "for feature in ['preco', 'quantidade_avaliacoes']:\n",
    "    index_list.extend(outliers_indexes(df, feature))"
   ]
  },
  {
   "cell_type": "markdown",
   "metadata": {},
   "source": [
    "Será usada uma versão mais simples, apenas para retornar os índices de uma única coluna, o preço"
   ]
  },
  {
   "cell_type": "code",
   "execution_count": 14,
   "metadata": {},
   "outputs": [],
   "source": [
    "outliers_index_list = outliers_indexes(df, 'preco')"
   ]
  },
  {
   "cell_type": "code",
   "execution_count": 15,
   "metadata": {
    "scrolled": false
   },
   "outputs": [
    {
     "data": {
      "text/plain": [
       "Int64Index([ 44,  71, 101, 128, 134, 141, 142, 148, 149, 153, 155, 159, 169,\n",
       "            170, 172, 179, 187, 189, 192, 212, 215, 267, 270, 271, 278, 282,\n",
       "            291, 292, 311, 320, 337, 338, 343, 346, 357, 381, 382, 384, 397,\n",
       "            420, 422, 428, 469, 482, 489, 493, 518, 549, 559, 560, 563, 574,\n",
       "            581, 583, 594, 612, 614, 615, 621, 638, 639, 649, 659, 661, 667,\n",
       "            669, 680, 682, 687, 700, 701, 702, 733, 739, 741, 750, 753, 765,\n",
       "            802, 809, 814, 825, 842, 853, 870],\n",
       "           dtype='int64')"
      ]
     },
     "execution_count": 15,
     "metadata": {},
     "output_type": "execute_result"
    }
   ],
   "source": [
    "outliers_index_list"
   ]
  },
  {
   "cell_type": "code",
   "execution_count": 16,
   "metadata": {},
   "outputs": [
    {
     "data": {
      "text/plain": [
       "85"
      ]
     },
     "execution_count": 16,
     "metadata": {},
     "output_type": "execute_result"
    }
   ],
   "source": [
    "len(outliers_index_list)"
   ]
  },
  {
   "cell_type": "markdown",
   "metadata": {},
   "source": [
    "### Função de Remoção de Outliers"
   ]
  },
  {
   "cell_type": "markdown",
   "metadata": {},
   "source": [
    "Por fim, define-se uma função para a remoção de todos os registros que contém outliers, tendo a lista de índices como input"
   ]
  },
  {
   "cell_type": "code",
   "execution_count": 17,
   "metadata": {},
   "outputs": [],
   "source": [
    "def remove_outliers(df, index_list):\n",
    "    index_list = sorted(set(index_list))\n",
    "    # Drop dos outliers\n",
    "    df = df.drop(index_list)\n",
    "    return df   "
   ]
  },
  {
   "cell_type": "markdown",
   "metadata": {},
   "source": [
    "### Limpa-se o dataframe dos outliers"
   ]
  },
  {
   "cell_type": "code",
   "execution_count": 18,
   "metadata": {},
   "outputs": [],
   "source": [
    "df_clean = remove_outliers(df, outliers_index_list)"
   ]
  },
  {
   "cell_type": "code",
   "execution_count": 33,
   "metadata": {},
   "outputs": [
    {
     "data": {
      "text/plain": [
       "(881, 5)"
      ]
     },
     "execution_count": 33,
     "metadata": {},
     "output_type": "execute_result"
    }
   ],
   "source": [
    "df_clean.shape"
   ]
  },
  {
   "cell_type": "markdown",
   "metadata": {},
   "source": [
    "### Remove-se os itens com valor muito baixo"
   ]
  },
  {
   "cell_type": "code",
   "execution_count": 35,
   "metadata": {},
   "outputs": [],
   "source": [
    "df_mask = df_clean['preco'] >= 1000\n",
    "df_clean = df_clean[df_mask]"
   ]
  },
  {
   "cell_type": "markdown",
   "metadata": {},
   "source": [
    "## Histograma: Distribuição de Frequência (Outliers removidos)"
   ]
  },
  {
   "cell_type": "code",
   "execution_count": 36,
   "metadata": {
    "scrolled": false
   },
   "outputs": [
    {
     "data": {
      "image/png": "[encoded data removed]",
      "text/plain": [
       "<Figure size 842.4x595.44 with 1 Axes>"
      ]
     },
     "metadata": {},
     "output_type": "display_data"
    }
   ],
   "source": [
    "sns.set(style=\"darkgrid\")\n",
    "sns.set(rc={'figure.figsize':(11.7,8.27)})\n",
    "histplot = sns.histplot(data=df_clean, x='preco', linewidth=1, bins=30, kde=True)\n",
    "histplot.axes.set_title(\"Histograma de Preços de Smartphones\", fontsize=16)\n",
    "histplot.set_xlabel(\"Preço\", fontsize=14)\n",
    "histplot.set_ylabel(\"Frequência\", fontsize=14)\n",
    "plt.show()"
   ]
  },
  {
   "cell_type": "markdown",
   "metadata": {},
   "source": [
    "Nota-se maior simetria na distribuição após a remoção dos outliers, ainda que esta não seja uma distribuição Gaussiana"
   ]
  },
  {
   "cell_type": "markdown",
   "metadata": {},
   "source": [
    "## Boxplot sem Outliers"
   ]
  },
  {
   "cell_type": "code",
   "execution_count": 46,
   "metadata": {
    "scrolled": true
   },
   "outputs": [
    {
     "data": {
      "image/png": "[encoded data removed]",
      "text/plain": [
       "<Figure size 842.4x595.44 with 1 Axes>"
      ]
     },
     "metadata": {},
     "output_type": "display_data"
    }
   ],
   "source": [
    "sns.set(style=\"darkgrid\")\n",
    "sns.set(rc={'figure.figsize':(11.7,8.27)})\n",
    "boxplot = sns.boxplot(data=df_clean['preco'], linewidth=2.5, width=0.25)\n",
    "boxplot.axes.set_title(\"Distribuição de Preços de Smartphones\", fontsize=16)\n",
    "boxplot.set_xlabel(\"Smart TV\", fontsize=14)\n",
    "boxplot.set_ylabel(\"Preço\", fontsize=14)\n",
    "plt.show()"
   ]
  },
  {
   "cell_type": "markdown",
   "metadata": {},
   "source": [
    "## Estatística descritiva, sem outliers"
   ]
  },
  {
   "cell_type": "code",
   "execution_count": 38,
   "metadata": {
    "scrolled": false
   },
   "outputs": [
    {
     "data": {
      "text/html": [
       "<div>\n",
       "<style scoped>\n",
       "    .dataframe tbody tr th:only-of-type {\n",
       "        vertical-align: middle;\n",
       "    }\n",
       "\n",
       "    .dataframe tbody tr th {\n",
       "        vertical-align: top;\n",
       "    }\n",
       "\n",
       "    .dataframe thead th {\n",
       "        text-align: right;\n",
       "    }\n",
       "</style>\n",
       "<table border=\"1\" class=\"dataframe\">\n",
       "  <thead>\n",
       "    <tr style=\"text-align: right;\">\n",
       "      <th></th>\n",
       "      <th>preco</th>\n",
       "      <th>avaliacao</th>\n",
       "      <th>quantidade_avaliacoes</th>\n",
       "    </tr>\n",
       "  </thead>\n",
       "  <tbody>\n",
       "    <tr>\n",
       "      <th>count</th>\n",
       "      <td>803.000000</td>\n",
       "      <td>803.000000</td>\n",
       "      <td>803.000000</td>\n",
       "    </tr>\n",
       "    <tr>\n",
       "      <th>mean</th>\n",
       "      <td>3272.577908</td>\n",
       "      <td>4.825654</td>\n",
       "      <td>8.176837</td>\n",
       "    </tr>\n",
       "    <tr>\n",
       "      <th>std</th>\n",
       "      <td>1563.623186</td>\n",
       "      <td>0.555624</td>\n",
       "      <td>53.578582</td>\n",
       "    </tr>\n",
       "    <tr>\n",
       "      <th>min</th>\n",
       "      <td>1052.100000</td>\n",
       "      <td>1.000000</td>\n",
       "      <td>0.000000</td>\n",
       "    </tr>\n",
       "    <tr>\n",
       "      <th>25%</th>\n",
       "      <td>2042.385000</td>\n",
       "      <td>5.000000</td>\n",
       "      <td>0.000000</td>\n",
       "    </tr>\n",
       "    <tr>\n",
       "      <th>50%</th>\n",
       "      <td>2897.650000</td>\n",
       "      <td>5.000000</td>\n",
       "      <td>0.000000</td>\n",
       "    </tr>\n",
       "    <tr>\n",
       "      <th>75%</th>\n",
       "      <td>4099.000000</td>\n",
       "      <td>5.000000</td>\n",
       "      <td>0.000000</td>\n",
       "    </tr>\n",
       "    <tr>\n",
       "      <th>max</th>\n",
       "      <td>8499.000000</td>\n",
       "      <td>5.000000</td>\n",
       "      <td>937.000000</td>\n",
       "    </tr>\n",
       "  </tbody>\n",
       "</table>\n",
       "</div>"
      ],
      "text/plain": [
       "             preco   avaliacao  quantidade_avaliacoes\n",
       "count   803.000000  803.000000             803.000000\n",
       "mean   3272.577908    4.825654               8.176837\n",
       "std    1563.623186    0.555624              53.578582\n",
       "min    1052.100000    1.000000               0.000000\n",
       "25%    2042.385000    5.000000               0.000000\n",
       "50%    2897.650000    5.000000               0.000000\n",
       "75%    4099.000000    5.000000               0.000000\n",
       "max    8499.000000    5.000000             937.000000"
      ]
     },
     "execution_count": 38,
     "metadata": {},
     "output_type": "execute_result"
    }
   ],
   "source": [
    "df_clean.describe()"
   ]
  },
  {
   "cell_type": "markdown",
   "metadata": {},
   "source": [
    "Verifica-se assim que:\n",
    " - A média de preço de uma Smart TV está em torno de 3300 reais, com 1500 reais para mais ou para menos\n",
    " - A Mediana do preço de uma smart tv é 2900 reais\n",
    " - A média de quantidade de avaliações é 8 por produto. A baixa quantidade pode indicar que essa medida não é confiável"
   ]
  },
  {
   "cell_type": "markdown",
   "metadata": {},
   "source": [
    "## Item Mais Caro (Outliers não removidos)"
   ]
  },
  {
   "cell_type": "code",
   "execution_count": 39,
   "metadata": {
    "scrolled": false
   },
   "outputs": [
    {
     "name": "stdout",
     "output_type": "stream",
     "text": [
      "                                             descricao    preco  avaliacao  \\\n",
      "142  Smart TV 85” 8K NEO QLED Mini Led Samsung 85QN...  79999.0          5   \n",
      "\n",
      "     quantidade_avaliacoes                                                URL  \n",
      "142                      0  https://www.magazineluiza.com.br/smart-tv-85-8...  \n"
     ]
    }
   ],
   "source": [
    "df_mask = df['preco']==max(df['preco'])\n",
    "filtered_df = df[df_mask]\n",
    "print(filtered_df)"
   ]
  },
  {
   "cell_type": "markdown",
   "metadata": {},
   "source": [
    "## Item Mais Caro (Outliers Removidos)"
   ]
  },
  {
   "cell_type": "code",
   "execution_count": 40,
   "metadata": {
    "scrolled": false
   },
   "outputs": [
    {
     "name": "stdout",
     "output_type": "stream",
     "text": [
      "                                             descricao   preco  avaliacao  \\\n",
      "522  Smart TV 4K LG OLED 65\" com Inteligência Artif...  8499.0          5   \n",
      "\n",
      "     quantidade_avaliacoes                                                URL  \n",
      "522                      0  https://www.magazineluiza.com.br/smart-tv-4k-l...  \n"
     ]
    }
   ],
   "source": [
    "df_mask = df_clean['preco']==max(df_clean['preco'])\n",
    "filtered_df = df_clean[df_mask]\n",
    "print(filtered_df)"
   ]
  },
  {
   "cell_type": "markdown",
   "metadata": {},
   "source": [
    "## Item mais barato"
   ]
  },
  {
   "cell_type": "code",
   "execution_count": 41,
   "metadata": {
    "scrolled": true
   },
   "outputs": [
    {
     "name": "stdout",
     "output_type": "stream",
     "text": [
      "                                             descricao    preco  avaliacao  \\\n",
      "129  Monitor Smart TV LED 24\" LG 24TL520S HD 2 HDMI...  1052.10          4   \n",
      "65   Smart TV LED LG 24\" Monitor Wi-Fi Webos 3.5 DT...  1063.05          4   \n",
      "130  Smart TV Monitor LG 24 Polegadas LED Wi-Fi web...  1079.10          4   \n",
      "28   Smart TV Monitor LG 24\" LED Wi-Fi webOS 3.5 DT...  1079.10          4   \n",
      "45   Smart TV Multilaser 32 HD LCD Wi-Fi USB HDMI C...  1169.10          5   \n",
      "\n",
      "     quantidade_avaliacoes                                                URL  \n",
      "129                    312  https://www.magazineluiza.com.br/monitor-smart...  \n",
      "65                       5  https://www.magazineluiza.com.br/smart-tv-led-...  \n",
      "130                    104  https://www.magazineluiza.com.br/smart-tv-moni...  \n",
      "28                     193  https://www.magazineluiza.com.br/smart-tv-moni...  \n",
      "45                       0  https://www.magazineluiza.com.br/smart-tv-mult...  \n"
     ]
    }
   ],
   "source": [
    "df_mask = df_clean['preco'] >= 1000\n",
    "filtered_df = df_clean[df_mask]\n",
    "print(filtered_df.sort_values(by=['preco'], ascending=True)[:5])"
   ]
  },
  {
   "cell_type": "markdown",
   "metadata": {},
   "source": [
    "Item mais barato: Monitor Smart TV LED 24\" LG 24TL520S HD que custa 1052 reais"
   ]
  },
  {
   "cell_type": "markdown",
   "metadata": {},
   "source": [
    "## 5 itens com preço menor ou igual a média"
   ]
  },
  {
   "cell_type": "code",
   "execution_count": 50,
   "metadata": {
    "scrolled": true
   },
   "outputs": [
    {
     "name": "stdout",
     "output_type": "stream",
     "text": [
      "                                             descricao    preco  avaliacao  \\\n",
      "301  Smart TV 50\" LG HD 4K LED LG 50UP7550PSF 60Hz ...  3254.07          5   \n",
      "860  Smart TV LED 50\" Ultra HD 4K Philco PTV50N10N5...  3239.10          5   \n",
      "830  Smart TV LED 50\" Ultra HD 4K Samsung LH50BEAHV...  3239.10          5   \n",
      "107  Smart TV UHD 4K LED IPS 55\" LG 55UN7310PSC Wi-...  3237.65          4   \n",
      "243  Smart TV LED 4K UHD 55\"LG 55UN7310 Conversor W...  3229.91          5   \n",
      "\n",
      "     quantidade_avaliacoes                                                URL  \n",
      "301                      0  https://www.magazineluiza.com.br/smart-tv-50-l...  \n",
      "860                      0  https://www.magazineluiza.com.br/smart-tv-led-...  \n",
      "830                      0  https://www.magazineluiza.com.br/smart-tv-led-...  \n",
      "107                     14  https://www.magazineluiza.com.br/smart-tv-uhd-...  \n",
      "243                      0  https://www.magazineluiza.com.br/smart-tv-led-...  \n"
     ]
    }
   ],
   "source": [
    "df_mask = df_clean['preco']<=df_clean['preco'].mean()\n",
    "filtered_df = df_clean[df_mask]\n",
    "print(filtered_df.sort_values(by=['preco'], ascending=False)[:5])"
   ]
  },
  {
   "cell_type": "markdown",
   "metadata": {},
   "source": [
    "Estes itens são considerados mid-range e tem uma boa relação custo-benefício."
   ]
  }
 ],
 "metadata": {
  "kernelspec": {
   "display_name": "Python 3",
   "language": "python",
   "name": "python3"
  },
  "language_info": {
   "codemirror_mode": {
    "name": "ipython",
    "version": 3
   },
   "file_extension": ".py",
   "mimetype": "text/x-python",
   "name": "python",
   "nbconvert_exporter": "python",
   "pygments_lexer": "ipython3",
   "version": "3.8.5"
  }
 },
 "nbformat": 4,
 "nbformat_minor": 4
}
