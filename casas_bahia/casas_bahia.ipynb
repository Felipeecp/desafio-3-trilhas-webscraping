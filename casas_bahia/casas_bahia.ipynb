{
 "cells": [
  {
   "cell_type": "code",
   "execution_count": 1,
   "metadata": {},
   "outputs": [],
   "source": [
    "from webdriver_manager.chrome import ChromeDriverManager\n",
    "from selenium import webdriver\n",
    "from selenium.webdriver.support.ui import WebDriverWait\n",
    "from selenium.webdriver.common.by import By\n",
    "from webdriver_manager.chrome import ChromeDriverManager\n",
    "from selenium.webdriver.support import expected_conditions as EC"
   ]
  },
  {
   "cell_type": "code",
   "execution_count": 2,
   "metadata": {},
   "outputs": [],
   "source": [
    "#from webdriver_manager.chrome import ChromeDriverManager\n",
    "\n",
    "#driver = webdriver.Chrome(ChromeDriverManager().install())"
   ]
  },
  {
   "cell_type": "code",
   "execution_count": 24,
   "metadata": {},
   "outputs": [
    {
     "name": "stderr",
     "output_type": "stream",
     "text": [
      "\n",
      "\n",
      "====== WebDriver manager ======\n",
      "Current google-chrome version is 94.0.4606\n",
      "Get LATEST driver version for 94.0.4606\n",
      "Driver [C:\\Users\\teixe\\.wdm\\drivers\\chromedriver\\win32\\94.0.4606.61\\chromedriver.exe] found in cache\n"
     ]
    }
   ],
   "source": [
    "## Prepara a página\n",
    "url = 'https://www.casasbahia.com.br/smart-tv/b'\n",
    "driver = webdriver.Chrome(ChromeDriverManager().install())\n",
    "driver.get(url)\n",
    "\n",
    "## XPath do botão\n",
    "\n",
    "xpath = '//*[@id=\"__next\"]/div[2]/div/div/div[5]/div[2]/div/section/div[4]/div/div/div/button' # botao notebook e smart-tv\n",
    "#xpath = '//*[@id=\"__next\"]/div[2]/div/div/div[4]/div[2]/div/section/div[4]/div/div/div/button' # botao smartphone\n",
    "#xpath = '//*[@id=\"__next\"]/div[2]/div/div/div[5]/div[2]/div/section/div[4]/div/div/div/button'\n",
    "try:\n",
    "    driver.find_element_by_xpath(xpath).click()\n",
    "except:\n",
    "    print('Erro: Elemento não foi encontrado. Certifique-se de que o XPath está correto')\n",
    "\n",
    "for _ in range(0,12):\n",
    "        element = WebDriverWait(driver, 15).until(\n",
    "                EC.presence_of_element_located((By.XPATH, xpath))\n",
    "        ).click()"
   ]
  },
  {
   "cell_type": "code",
   "execution_count": 25,
   "metadata": {},
   "outputs": [],
   "source": [
    "# Armazena cada item em um dict\n",
    "precos = driver.find_elements_by_class_name('ProductPrice__PriceValue-sc-1tzw2we-6')\n",
    "names = driver.find_elements_by_class_name('ProductCard__Title-sc-2vuvzo-0')\n",
    "ratingValue = driver.find_elements_by_xpath(\"//meta[@itemprop='ratingValue']\")\n",
    "reviewCount = driver.find_elements_by_xpath(\"//meta[@itemprop='reviewCount']\")\n",
    "\n",
    "itens = []\n",
    "for nome, n_aval, aval, preco in zip(names, reviewCount, ratingValue, precos):\n",
    "    item = {'nome': nome.text,\n",
    "            \"num_avali\": n_aval.get_attribute(\"content\"),\n",
    "            'avali': aval.get_attribute(\"content\"),\n",
    "            'preco': preco.text.split(' ')[1].replace('.','').replace(',','.'),\n",
    "                    }\n",
    "    itens.append(item)"
   ]
  },
  {
   "cell_type": "code",
   "execution_count": 26,
   "metadata": {},
   "outputs": [
    {
     "data": {
      "text/html": [
       "<div>\n",
       "<style scoped>\n",
       "    .dataframe tbody tr th:only-of-type {\n",
       "        vertical-align: middle;\n",
       "    }\n",
       "\n",
       "    .dataframe tbody tr th {\n",
       "        vertical-align: top;\n",
       "    }\n",
       "\n",
       "    .dataframe thead th {\n",
       "        text-align: right;\n",
       "    }\n",
       "</style>\n",
       "<table border=\"1\" class=\"dataframe\">\n",
       "  <thead>\n",
       "    <tr style=\"text-align: right;\">\n",
       "      <th></th>\n",
       "      <th>nome</th>\n",
       "      <th>num_avali</th>\n",
       "      <th>avali</th>\n",
       "      <th>preco</th>\n",
       "    </tr>\n",
       "  </thead>\n",
       "  <tbody>\n",
       "    <tr>\n",
       "      <th>0</th>\n",
       "      <td>Smart TV LED 42” Full HD Philco PTV42G70N5CF c...</td>\n",
       "      <td>1449</td>\n",
       "      <td>5.0</td>\n",
       "      <td>1896.00</td>\n",
       "    </tr>\n",
       "    <tr>\n",
       "      <th>1</th>\n",
       "      <td>Smart TV LED 32\" HD Philco PTV32D10N5SKH com D...</td>\n",
       "      <td>485</td>\n",
       "      <td>5.0</td>\n",
       "      <td>1499.00</td>\n",
       "    </tr>\n",
       "    <tr>\n",
       "      <th>2</th>\n",
       "      <td>Smart TV LED 43\" Full HD TCL 43S6500FS Android...</td>\n",
       "      <td>3407</td>\n",
       "      <td>4.5</td>\n",
       "      <td>1999.00</td>\n",
       "    </tr>\n",
       "    <tr>\n",
       "      <th>3</th>\n",
       "      <td>Smart TV LED 32\" HD Samsung T4300 com HDR, Sis...</td>\n",
       "      <td>2882</td>\n",
       "      <td>5.0</td>\n",
       "      <td>1599.00</td>\n",
       "    </tr>\n",
       "    <tr>\n",
       "      <th>4</th>\n",
       "      <td>Smart TV LED 58\" UHD 4K Philco PTV58F80SNS com...</td>\n",
       "      <td>969</td>\n",
       "      <td>4.5</td>\n",
       "      <td>3499.00</td>\n",
       "    </tr>\n",
       "    <tr>\n",
       "      <th>...</th>\n",
       "      <td>...</td>\n",
       "      <td>...</td>\n",
       "      <td>...</td>\n",
       "      <td>...</td>\n",
       "    </tr>\n",
       "    <tr>\n",
       "      <th>263</th>\n",
       "      <td>Smart TV Led Panasonic 50\" 4K Ultra HD com Com...</td>\n",
       "      <td>0</td>\n",
       "      <td>0</td>\n",
       "      <td>1952.99</td>\n",
       "    </tr>\n",
       "    <tr>\n",
       "      <th>264</th>\n",
       "      <td>Smart TV OLED 55\" LG OLED55CXPSA 4K HDR com Wi...</td>\n",
       "      <td>0</td>\n",
       "      <td>0</td>\n",
       "      <td>3512.90</td>\n",
       "    </tr>\n",
       "    <tr>\n",
       "      <th>265</th>\n",
       "      <td>Smart TV Philco 55\" PTV55F62SN 4K LED</td>\n",
       "      <td>0</td>\n",
       "      <td>0</td>\n",
       "      <td>12499.00</td>\n",
       "    </tr>\n",
       "    <tr>\n",
       "      <th>266</th>\n",
       "      <td>Smart Tv 24Tl520s Lg 24``</td>\n",
       "      <td>0</td>\n",
       "      <td>0</td>\n",
       "      <td>2299.90</td>\n",
       "    </tr>\n",
       "    <tr>\n",
       "      <th>267</th>\n",
       "      <td>Smart TV AOC 32 Polegadas Roku TV LED 32S5195/...</td>\n",
       "      <td>0</td>\n",
       "      <td>0</td>\n",
       "      <td>8169.00</td>\n",
       "    </tr>\n",
       "  </tbody>\n",
       "</table>\n",
       "<p>268 rows × 4 columns</p>\n",
       "</div>"
      ],
      "text/plain": [
       "                                                  nome num_avali avali  \\\n",
       "0    Smart TV LED 42” Full HD Philco PTV42G70N5CF c...      1449   5.0   \n",
       "1    Smart TV LED 32\" HD Philco PTV32D10N5SKH com D...       485   5.0   \n",
       "2    Smart TV LED 43\" Full HD TCL 43S6500FS Android...      3407   4.5   \n",
       "3    Smart TV LED 32\" HD Samsung T4300 com HDR, Sis...      2882   5.0   \n",
       "4    Smart TV LED 58\" UHD 4K Philco PTV58F80SNS com...       969   4.5   \n",
       "..                                                 ...       ...   ...   \n",
       "263  Smart TV Led Panasonic 50\" 4K Ultra HD com Com...         0     0   \n",
       "264  Smart TV OLED 55\" LG OLED55CXPSA 4K HDR com Wi...         0     0   \n",
       "265              Smart TV Philco 55\" PTV55F62SN 4K LED         0     0   \n",
       "266                          Smart Tv 24Tl520s Lg 24``         0     0   \n",
       "267  Smart TV AOC 32 Polegadas Roku TV LED 32S5195/...         0     0   \n",
       "\n",
       "        preco  \n",
       "0     1896.00  \n",
       "1     1499.00  \n",
       "2     1999.00  \n",
       "3     1599.00  \n",
       "4     3499.00  \n",
       "..        ...  \n",
       "263   1952.99  \n",
       "264   3512.90  \n",
       "265  12499.00  \n",
       "266   2299.90  \n",
       "267   8169.00  \n",
       "\n",
       "[268 rows x 4 columns]"
      ]
     },
     "execution_count": 26,
     "metadata": {},
     "output_type": "execute_result"
    }
   ],
   "source": [
    "import pandas as pd\n",
    "data = pd.DataFrame(itens)\n",
    "data"
   ]
  },
  {
   "cell_type": "code",
   "execution_count": 27,
   "metadata": {},
   "outputs": [],
   "source": [
    "data.to_csv('smart_tv_CB.csv', sep=';', encoding='utf-8', index=False)"
   ]
  },
  {
   "cell_type": "code",
   "execution_count": null,
   "metadata": {},
   "outputs": [],
   "source": []
  }
 ],
 "metadata": {
  "interpreter": {
   "hash": "fe85ba89296c5a2c9ae30362d65b06da0dbfb1d93059a21a7b21822ad4b56145"
  },
  "kernelspec": {
   "display_name": "Python 3",
   "language": "python",
   "name": "python3"
  },
  "language_info": {
   "codemirror_mode": {
    "name": "ipython",
    "version": 3
   },
   "file_extension": ".py",
   "mimetype": "text/x-python",
   "name": "python",
   "nbconvert_exporter": "python",
   "pygments_lexer": "ipython3",
   "version": "3.8.3"
  }
 },
 "nbformat": 4,
 "nbformat_minor": 5
}
