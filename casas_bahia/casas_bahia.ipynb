{
 "cells": [
  {
   "cell_type": "code",
   "execution_count": 1,
   "metadata": {},
   "outputs": [],
   "source": [
    "from webdriver_manager.chrome import ChromeDriverManager\n",
    "from selenium import webdriver\n",
    "from selenium.webdriver.support.ui import WebDriverWait\n",
    "from selenium.webdriver.common.by import By\n",
    "from selenium.webdriver.support import expected_conditions as EC"
   ]
  },
  {
   "cell_type": "code",
   "execution_count": 3,
   "metadata": {},
   "outputs": [],
   "source": [
    "#from webdriver_manager.chrome import ChromeDriverManager\n",
    "\n",
    "#driver = webdriver.Chrome(ChromeDriverManager().install())"
   ]
  },
  {
   "cell_type": "code",
   "execution_count": 2,
   "metadata": {},
   "outputs": [],
   "source": [
    "## Prepara a página\n",
    "url = 'https://www.casasbahia.com.br/notebook/b'\n",
    "driver = webdriver.Chrome('C:/Users/teixe/.wdm/drivers/chromedriver/win32/94.0.4606.61/chromedriver.exe')\n",
    "driver.get(url)\n",
    "\n",
    "## XPath do botão\n",
    "xpath = '//*[@id=\"__next\"]/div[2]/div/div/div[5]/div[2]/div/section/div[4]/div/div/div/button'\n",
    "driver.find_element_by_xpath(xpath).click()\n",
    "\n",
    "element = WebDriverWait(driver, 15).until(\n",
    "        EC.presence_of_element_located((By.XPATH, xpath))\n",
    ").click()\n",
    "element = WebDriverWait(driver, 15).until(\n",
    "        EC.presence_of_element_located((By.XPATH, xpath))\n",
    ").click()"
   ]
  },
  {
   "cell_type": "code",
   "execution_count": 6,
   "metadata": {},
   "outputs": [],
   "source": [
    "# Armazena cada item em um dict\n",
    "precos = driver.find_elements_by_class_name('ProductPrice__PriceValue-sc-1tzw2we-6')\n",
    "names = driver.find_elements_by_class_name('ProductCard__Title-sc-2vuvzo-0')\n",
    "ratingValue = driver.find_elements_by_xpath(\"//meta[@itemprop='ratingValue']\")\n",
    "reviewCount = driver.find_elements_by_xpath(\"//meta[@itemprop='reviewCount']\")\n",
    "\n",
    "itens = []\n",
    "for nome, n_aval, aval, preco in zip(names, reviewCount, ratingValue, precos):\n",
    "    item = {'nome': nome.text,\n",
    "                    \"num_avali\": n_aval.get_attribute(\"content\"),\n",
    "                    'avali': aval.get_attribute(\"content\"),\n",
    "                    'preco': preco.text.split(' ')[1].replace('.','').replace(',','.'),\n",
    "                    }\n",
    "    itens.append(item)"
   ]
  },
  {
   "cell_type": "code",
   "execution_count": 8,
   "metadata": {},
   "outputs": [
    {
     "data": {
      "text/html": [
       "<div>\n",
       "<style scoped>\n",
       "    .dataframe tbody tr th:only-of-type {\n",
       "        vertical-align: middle;\n",
       "    }\n",
       "\n",
       "    .dataframe tbody tr th {\n",
       "        vertical-align: top;\n",
       "    }\n",
       "\n",
       "    .dataframe thead th {\n",
       "        text-align: right;\n",
       "    }\n",
       "</style>\n",
       "<table border=\"1\" class=\"dataframe\">\n",
       "  <thead>\n",
       "    <tr style=\"text-align: right;\">\n",
       "      <th></th>\n",
       "      <th>nome</th>\n",
       "      <th>num_avali</th>\n",
       "      <th>avali</th>\n",
       "      <th>preco</th>\n",
       "    </tr>\n",
       "  </thead>\n",
       "  <tbody>\n",
       "    <tr>\n",
       "      <th>0</th>\n",
       "      <td>Notebook Acer Core i5-10210U 8GB 512GB SSD Tel...</td>\n",
       "      <td>287</td>\n",
       "      <td>5.0</td>\n",
       "      <td>3999.00</td>\n",
       "    </tr>\n",
       "    <tr>\n",
       "      <th>1</th>\n",
       "      <td>Notebook Positivo Intel Atom Quad Core 4GB 64G...</td>\n",
       "      <td>466</td>\n",
       "      <td>4.5</td>\n",
       "      <td>1589.00</td>\n",
       "    </tr>\n",
       "    <tr>\n",
       "      <th>2</th>\n",
       "      <td>Notebook Positivo Intel Atom Quad Core 4GB 128...</td>\n",
       "      <td>474</td>\n",
       "      <td>4.5</td>\n",
       "      <td>2139.00</td>\n",
       "    </tr>\n",
       "    <tr>\n",
       "      <th>3</th>\n",
       "      <td>Notebook Samsung Dual Core 4GB 500GB Tela Full...</td>\n",
       "      <td>248</td>\n",
       "      <td>4.5</td>\n",
       "      <td>2639.00</td>\n",
       "    </tr>\n",
       "    <tr>\n",
       "      <th>4</th>\n",
       "      <td>Notebook 2 em 1 Positivo Dual Core 4GB 64GB eM...</td>\n",
       "      <td>354</td>\n",
       "      <td>4.5</td>\n",
       "      <td>1799.00</td>\n",
       "    </tr>\n",
       "    <tr>\n",
       "      <th>5</th>\n",
       "      <td>Notebook Samsung Dual Core 4GB 500GB Tela Full...</td>\n",
       "      <td>85</td>\n",
       "      <td>4.5</td>\n",
       "      <td>2649.00</td>\n",
       "    </tr>\n",
       "    <tr>\n",
       "      <th>6</th>\n",
       "      <td>Notebook Lenovo Dual Core 4GB 128GB SSD Tela 1...</td>\n",
       "      <td>131</td>\n",
       "      <td>5.0</td>\n",
       "      <td>2499.00</td>\n",
       "    </tr>\n",
       "    <tr>\n",
       "      <th>7</th>\n",
       "      <td>Notebook Samsung Core i3-1115G4 4GB 1TB Tela F...</td>\n",
       "      <td>265</td>\n",
       "      <td>4.5</td>\n",
       "      <td>3099.00</td>\n",
       "    </tr>\n",
       "    <tr>\n",
       "      <th>8</th>\n",
       "      <td>Notebook Gamer Acer NVIDIA GeForce GTX 1650 Co...</td>\n",
       "      <td>244</td>\n",
       "      <td>5.0</td>\n",
       "      <td>5599.00</td>\n",
       "    </tr>\n",
       "    <tr>\n",
       "      <th>9</th>\n",
       "      <td>Notebook Positivo Dual Core 4GB 128GB SSD Tela...</td>\n",
       "      <td>193</td>\n",
       "      <td>4.5</td>\n",
       "      <td>1809.00</td>\n",
       "    </tr>\n",
       "  </tbody>\n",
       "</table>\n",
       "</div>"
      ],
      "text/plain": [
       "                                                nome num_avali avali    preco\n",
       "0  Notebook Acer Core i5-10210U 8GB 512GB SSD Tel...       287   5.0  3999.00\n",
       "1  Notebook Positivo Intel Atom Quad Core 4GB 64G...       466   4.5  1589.00\n",
       "2  Notebook Positivo Intel Atom Quad Core 4GB 128...       474   4.5  2139.00\n",
       "3  Notebook Samsung Dual Core 4GB 500GB Tela Full...       248   4.5  2639.00\n",
       "4  Notebook 2 em 1 Positivo Dual Core 4GB 64GB eM...       354   4.5  1799.00\n",
       "5  Notebook Samsung Dual Core 4GB 500GB Tela Full...        85   4.5  2649.00\n",
       "6  Notebook Lenovo Dual Core 4GB 128GB SSD Tela 1...       131   5.0  2499.00\n",
       "7  Notebook Samsung Core i3-1115G4 4GB 1TB Tela F...       265   4.5  3099.00\n",
       "8  Notebook Gamer Acer NVIDIA GeForce GTX 1650 Co...       244   5.0  5599.00\n",
       "9  Notebook Positivo Dual Core 4GB 128GB SSD Tela...       193   4.5  1809.00"
      ]
     },
     "execution_count": 8,
     "metadata": {},
     "output_type": "execute_result"
    }
   ],
   "source": [
    "import pandas as pd\n",
    "data = pd.DataFrame(itens)\n",
    "data.head(10)"
   ]
  },
  {
   "cell_type": "code",
   "execution_count": 9,
   "metadata": {},
   "outputs": [],
   "source": [
    "data.to_csv('notebook_CB.csv', sep=';', encoding='utf-8', index=False)"
   ]
  }
 ],
 "metadata": {
  "kernelspec": {
   "display_name": "Python 3",
   "language": "python",
   "name": "python3"
  },
  "language_info": {
   "codemirror_mode": {
    "name": "ipython",
    "version": 3
   },
   "file_extension": ".py",
   "mimetype": "text/x-python",
   "name": "python",
   "nbconvert_exporter": "python",
   "pygments_lexer": "ipython3",
   "version": "3.8.3"
  }
 },
 "nbformat": 4,
 "nbformat_minor": 5
}
