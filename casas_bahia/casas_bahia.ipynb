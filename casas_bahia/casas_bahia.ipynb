{
 "cells": [
  {
   "cell_type": "code",
   "execution_count": 6,
   "metadata": {},
   "outputs": [],
   "source": [
    "from webdriver_manager.chrome import ChromeDriverManager\n",
    "from selenium import webdriver\n",
    "from selenium.webdriver.support.ui import WebDriverWait\n",
    "from selenium.webdriver.common.by import By\n",
    "from webdriver_manager.chrome import ChromeDriverManager\n",
    "from selenium.webdriver.support import expected_conditions as EC"
   ]
  },
  {
   "cell_type": "code",
   "execution_count": 2,
   "metadata": {},
   "outputs": [],
   "source": [
    "#from webdriver_manager.chrome import ChromeDriverManager\n",
    "\n",
    "#driver = webdriver.Chrome(ChromeDriverManager().install())"
   ]
  },
  {
   "cell_type": "code",
   "execution_count": 20,
   "metadata": {},
   "outputs": [
    {
     "name": "stderr",
     "output_type": "stream",
     "text": [
      "\n",
      "\n",
      "====== WebDriver manager ======\n",
      "Current google-chrome version is 94.0.4606\n",
      "Get LATEST driver version for 94.0.4606\n",
      "Driver [C:\\Users\\Felip\\.wdm\\drivers\\chromedriver\\win32\\94.0.4606.61\\chromedriver.exe] found in cache\n"
     ]
    }
   ],
   "source": [
    "## Prepara a página\n",
    "url = 'https://www.casasbahia.com.br/notebook/b'\n",
    "driver = webdriver.Chrome(ChromeDriverManager().install())\n",
    "driver.get(url)\n",
    "\n",
    "## XPath do botão\n",
    "xpath = '//*[@id=\"__next\"]/div[2]/div/div/div[5]/div[2]/div/section/div[4]/div/div/div/button'\n",
    "driver.find_element_by_xpath(xpath).click()\n",
    "\n",
    "for _ in range(0,50):\n",
    "        element = WebDriverWait(driver, 15).until(\n",
    "                EC.presence_of_element_located((By.XPATH, xpath))\n",
    "        ).click()"
   ]
  },
  {
   "cell_type": "code",
   "execution_count": 21,
   "metadata": {},
   "outputs": [],
   "source": [
    "# Armazena cada item em um dict\n",
    "precos = driver.find_elements_by_class_name('ProductPrice__PriceValue-sc-1tzw2we-6')\n",
    "names = driver.find_elements_by_class_name('ProductCard__Title-sc-2vuvzo-0')\n",
    "ratingValue = driver.find_elements_by_xpath(\"//meta[@itemprop='ratingValue']\")\n",
    "reviewCount = driver.find_elements_by_xpath(\"//meta[@itemprop='reviewCount']\")\n",
    "\n",
    "itens = []\n",
    "for nome, n_aval, aval, preco in zip(names, reviewCount, ratingValue, precos):\n",
    "    item = {'nome': nome.text,\n",
    "                    \"num_avali\": n_aval.get_attribute(\"content\"),\n",
    "                    'avali': aval.get_attribute(\"content\"),\n",
    "                    'preco': preco.text.split(' ')[1].replace('.','').replace(',','.'),\n",
    "                    }\n",
    "    itens.append(item)"
   ]
  },
  {
   "cell_type": "code",
   "execution_count": 22,
   "metadata": {},
   "outputs": [
    {
     "data": {
      "text/html": [
       "<div>\n",
       "<style scoped>\n",
       "    .dataframe tbody tr th:only-of-type {\n",
       "        vertical-align: middle;\n",
       "    }\n",
       "\n",
       "    .dataframe tbody tr th {\n",
       "        vertical-align: top;\n",
       "    }\n",
       "\n",
       "    .dataframe thead th {\n",
       "        text-align: right;\n",
       "    }\n",
       "</style>\n",
       "<table border=\"1\" class=\"dataframe\">\n",
       "  <thead>\n",
       "    <tr style=\"text-align: right;\">\n",
       "      <th></th>\n",
       "      <th>nome</th>\n",
       "      <th>num_avali</th>\n",
       "      <th>avali</th>\n",
       "      <th>preco</th>\n",
       "    </tr>\n",
       "  </thead>\n",
       "  <tbody>\n",
       "    <tr>\n",
       "      <th>0</th>\n",
       "      <td>Notebook Samsung Dual Core 4GB 500GB Tela Full...</td>\n",
       "      <td>249</td>\n",
       "      <td>4.5</td>\n",
       "      <td>2639.00</td>\n",
       "    </tr>\n",
       "    <tr>\n",
       "      <th>1</th>\n",
       "      <td>Notebook Positivo Intel Atom Quad Core 4GB 64G...</td>\n",
       "      <td>467</td>\n",
       "      <td>4.5</td>\n",
       "      <td>1589.00</td>\n",
       "    </tr>\n",
       "    <tr>\n",
       "      <th>2</th>\n",
       "      <td>Notebook Acer Core i5-10210U 8GB 512GB SSD Tel...</td>\n",
       "      <td>292</td>\n",
       "      <td>5.0</td>\n",
       "      <td>3999.00</td>\n",
       "    </tr>\n",
       "    <tr>\n",
       "      <th>3</th>\n",
       "      <td>Notebook 2 em 1 Positivo Dual Core 4GB 64GB eM...</td>\n",
       "      <td>354</td>\n",
       "      <td>4.5</td>\n",
       "      <td>1799.00</td>\n",
       "    </tr>\n",
       "    <tr>\n",
       "      <th>4</th>\n",
       "      <td>Notebook Samsung Dual Core 4GB 500GB Tela Full...</td>\n",
       "      <td>85</td>\n",
       "      <td>4.5</td>\n",
       "      <td>2649.00</td>\n",
       "    </tr>\n",
       "    <tr>\n",
       "      <th>...</th>\n",
       "      <td>...</td>\n",
       "      <td>...</td>\n",
       "      <td>...</td>\n",
       "      <td>...</td>\n",
       "    </tr>\n",
       "    <tr>\n",
       "      <th>1004</th>\n",
       "      <td>Notebook Positivo Motion Intel Dual Core 4gb R...</td>\n",
       "      <td>0</td>\n",
       "      <td>0</td>\n",
       "      <td>2899.00</td>\n",
       "    </tr>\n",
       "    <tr>\n",
       "      <th>1005</th>\n",
       "      <td>Notebook Positivo Master N3140, 14\" Intel Core...</td>\n",
       "      <td>0</td>\n",
       "      <td>0</td>\n",
       "      <td>4986.45</td>\n",
       "    </tr>\n",
       "    <tr>\n",
       "      <th>1006</th>\n",
       "      <td>Notebook Lenovo B330 Intel I5 8gb Ssd 256gb Wi...</td>\n",
       "      <td>0</td>\n",
       "      <td>0</td>\n",
       "      <td>2099.90</td>\n",
       "    </tr>\n",
       "    <tr>\n",
       "      <th>1007</th>\n",
       "      <td>Notebook Samsung Book E30 Intel Core i3-1115G4...</td>\n",
       "      <td>0</td>\n",
       "      <td>0</td>\n",
       "      <td>5399.00</td>\n",
       "    </tr>\n",
       "    <tr>\n",
       "      <th>1008</th>\n",
       "      <td>Notebook Samsung 11.6 Chromebook4 Intel 2.6Ghz...</td>\n",
       "      <td>0</td>\n",
       "      <td>0</td>\n",
       "      <td>4399.90</td>\n",
       "    </tr>\n",
       "  </tbody>\n",
       "</table>\n",
       "<p>1009 rows × 4 columns</p>\n",
       "</div>"
      ],
      "text/plain": [
       "                                                   nome num_avali avali  \\\n",
       "0     Notebook Samsung Dual Core 4GB 500GB Tela Full...       249   4.5   \n",
       "1     Notebook Positivo Intel Atom Quad Core 4GB 64G...       467   4.5   \n",
       "2     Notebook Acer Core i5-10210U 8GB 512GB SSD Tel...       292   5.0   \n",
       "3     Notebook 2 em 1 Positivo Dual Core 4GB 64GB eM...       354   4.5   \n",
       "4     Notebook Samsung Dual Core 4GB 500GB Tela Full...        85   4.5   \n",
       "...                                                 ...       ...   ...   \n",
       "1004  Notebook Positivo Motion Intel Dual Core 4gb R...         0     0   \n",
       "1005  Notebook Positivo Master N3140, 14\" Intel Core...         0     0   \n",
       "1006  Notebook Lenovo B330 Intel I5 8gb Ssd 256gb Wi...         0     0   \n",
       "1007  Notebook Samsung Book E30 Intel Core i3-1115G4...         0     0   \n",
       "1008  Notebook Samsung 11.6 Chromebook4 Intel 2.6Ghz...         0     0   \n",
       "\n",
       "        preco  \n",
       "0     2639.00  \n",
       "1     1589.00  \n",
       "2     3999.00  \n",
       "3     1799.00  \n",
       "4     2649.00  \n",
       "...       ...  \n",
       "1004  2899.00  \n",
       "1005  4986.45  \n",
       "1006  2099.90  \n",
       "1007  5399.00  \n",
       "1008  4399.90  \n",
       "\n",
       "[1009 rows x 4 columns]"
      ]
     },
     "execution_count": 22,
     "metadata": {},
     "output_type": "execute_result"
    }
   ],
   "source": [
    "import pandas as pd\n",
    "data = pd.DataFrame(itens)\n",
    "data"
   ]
  },
  {
   "cell_type": "code",
   "execution_count": 9,
   "metadata": {},
   "outputs": [],
   "source": [
    "data.to_csv('notebook_CB.csv', sep=';', encoding='utf-8', index=False)"
   ]
  }
 ],
 "metadata": {
  "interpreter": {
   "hash": "fe85ba89296c5a2c9ae30362d65b06da0dbfb1d93059a21a7b21822ad4b56145"
  },
  "kernelspec": {
   "display_name": "Python 3.8.8 64-bit ('base': conda)",
   "name": "python3"
  },
  "language_info": {
   "codemirror_mode": {
    "name": "ipython",
    "version": 3
   },
   "file_extension": ".py",
   "mimetype": "text/x-python",
   "name": "python",
   "nbconvert_exporter": "python",
   "pygments_lexer": "ipython3",
   "version": "3.8.8"
  }
 },
 "nbformat": 4,
 "nbformat_minor": 5
}
