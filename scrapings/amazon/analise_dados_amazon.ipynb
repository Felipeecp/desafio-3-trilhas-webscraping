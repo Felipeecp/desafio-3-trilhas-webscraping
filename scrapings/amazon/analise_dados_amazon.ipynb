{
 "cells": [
  {
   "cell_type": "code",
   "execution_count": 421,
   "metadata": {},
   "outputs": [],
   "source": [
    "import pandas as pd"
   ]
  },
  {
   "cell_type": "markdown",
   "metadata": {},
   "source": [
    "# Função para tratar dados"
   ]
  },
  {
   "cell_type": "code",
   "execution_count": 422,
   "metadata": {},
   "outputs": [],
   "source": [
    "def arruma_df(dataset):\n",
    "    for text  in dataset.Estrelas:\n",
    "        if(type(text)==str):\n",
    "            dataset.Estrelas[dataset.Estrelas == text] = text.split()[0]\n",
    "            \n",
    "    dataset['Preço'] = dataset['Preço'].apply(lambda x: x.replace('R$ ','')).apply(lambda x: x.replace('.','')).apply(lambda x: x.replace(',','.'))\n",
    "    dataset.Estrelas = dataset.Estrelas.str.replace(',','.')\n",
    "    dataset.TotalReviews = dataset.TotalReviews.apply(lambda x: str(x).replace('.',''))\n",
    "    \n",
    "    # Transformando dados em numericos\n",
    "    colunas_numerica = ['Preço','Estrelas','TotalReviews']\n",
    "    dataset[colunas_numerica]=dataset[colunas_numerica].apply(pd.to_numeric, errors='coerce')\n",
    "    \n",
    "    return dataset"
   ]
  },
  {
   "cell_type": "markdown",
   "metadata": {},
   "source": [
    "# Função para remover outliers"
   ]
  },
  {
   "cell_type": "code",
   "execution_count": 423,
   "metadata": {},
   "outputs": [],
   "source": [
    "def outliers_indexes(df, ft):\n",
    "    \"\"\" \n",
    "    Função que retorna o índice dos outliers\n",
    "    Embasamento matemático:\n",
    "    Amplitude Interquartil => IQR = Quartil_3 - Quartil_1\n",
    "    Limite Inferior => LI = Quartil_1 - 1.5*IQR\n",
    "    Limite Superior => LS = Quartil_3 + 1.5*IQR\n",
    "    Todos os dados que estiverem acima do limite superior ou abaixo do limite inferior, são outliers\n",
    "    \"\"\"\n",
    "    Q1 = df[ft].quantile(0.25)\n",
    "    Q3 = df[ft].quantile(0.75)\n",
    "    IQR = Q3 - Q1\n",
    "    \n",
    "    LI = Q1 - 1.5*IQR\n",
    "    LS = Q3 + 1.5*IQR\n",
    "    \n",
    "    lista_indices = df.index[ (df[ft] < LI) | (df[ft] > LS) ]\n",
    "    \n",
    "    return lista_indices\n",
    "\n",
    "\n",
    "# Cria-se uma lista vazia para armazenar os índices de saídas de múltiplas colunas \n",
    "# (somente caso se quisesse tirar outliers de multiplas colunas)\n",
    "\n",
    "def outliers_index_l(df):\n",
    "    index_list = []\n",
    "    for feature in [\"Preço\", \"TotalReviews\"]:\n",
    "        index_list.extend(outliers_indexes(df, feature))\n",
    "    outliers_index_list = outliers_indexes(df, 'Preço')\n",
    "    print(\"Quantidade de outliers: \",len(outliers_index_list))\n",
    "    \n",
    "    return outliers_index_list\n",
    "    \n",
    "    \n",
    "def remove_outliers(df, index_list):\n",
    "    index_list = sorted(set(index_list))\n",
    "    # Drop dos outliers\n",
    "    df = df.drop(index_list)\n",
    "    return df"
   ]
  },
  {
   "cell_type": "markdown",
   "metadata": {},
   "source": [
    "# Tratando dados sobre notebooks"
   ]
  },
  {
   "cell_type": "code",
   "execution_count": 424,
   "metadata": {},
   "outputs": [
    {
     "data": {
      "text/html": [
       "<div>\n",
       "<style scoped>\n",
       "    .dataframe tbody tr th:only-of-type {\n",
       "        vertical-align: middle;\n",
       "    }\n",
       "\n",
       "    .dataframe tbody tr th {\n",
       "        vertical-align: top;\n",
       "    }\n",
       "\n",
       "    .dataframe thead th {\n",
       "        text-align: right;\n",
       "    }\n",
       "</style>\n",
       "<table border=\"1\" class=\"dataframe\">\n",
       "  <thead>\n",
       "    <tr style=\"text-align: right;\">\n",
       "      <th></th>\n",
       "      <th>Descrição</th>\n",
       "      <th>Preço</th>\n",
       "      <th>Estrelas</th>\n",
       "      <th>TotalReviews</th>\n",
       "      <th>Url</th>\n",
       "    </tr>\n",
       "  </thead>\n",
       "  <tbody>\n",
       "    <tr>\n",
       "      <th>0</th>\n",
       "      <td>Headset com fio Logitech H151 com Microfone co...</td>\n",
       "      <td>R$ 99,90</td>\n",
       "      <td>4,3 de 5 estrelas</td>\n",
       "      <td>3.579</td>\n",
       "      <td>https://www.amazon.com.br/gp/slredirect/picass...</td>\n",
       "    </tr>\n",
       "    <tr>\n",
       "      <th>1</th>\n",
       "      <td>Mouse Bluetooth para MacBook Pro/MacBook Air/L...</td>\n",
       "      <td>R$ 80,98</td>\n",
       "      <td>4,4 de 5 estrelas</td>\n",
       "      <td>51</td>\n",
       "      <td>https://www.amazon.com.br/gp/slredirect/picass...</td>\n",
       "    </tr>\n",
       "    <tr>\n",
       "      <th>2</th>\n",
       "      <td>Mouse Bluetooth recarregável para Mac, laptop,...</td>\n",
       "      <td>R$ 119,67</td>\n",
       "      <td>3,2 de 5 estrelas</td>\n",
       "      <td>6</td>\n",
       "      <td>https://www.amazon.com.br/gp/slredirect/picass...</td>\n",
       "    </tr>\n",
       "    <tr>\n",
       "      <th>3</th>\n",
       "      <td>Notebook Lenovo Ultrafino IdeaPad S145, AMD Ry...</td>\n",
       "      <td>R$ 2.909,00</td>\n",
       "      <td>4,6 de 5 estrelas</td>\n",
       "      <td>199</td>\n",
       "      <td>https://www.amazon.com.br/Notebook-Lenovo-Ultr...</td>\n",
       "    </tr>\n",
       "    <tr>\n",
       "      <th>4</th>\n",
       "      <td>Notebook Lenovo Ultrafino ideapad S145 i5-1035...</td>\n",
       "      <td>R$ 3.229,99</td>\n",
       "      <td>4,7 de 5 estrelas</td>\n",
       "      <td>26</td>\n",
       "      <td>https://www.amazon.com.br/Lenovo-Ultrafino-S14...</td>\n",
       "    </tr>\n",
       "    <tr>\n",
       "      <th>...</th>\n",
       "      <td>...</td>\n",
       "      <td>...</td>\n",
       "      <td>...</td>\n",
       "      <td>...</td>\n",
       "      <td>...</td>\n",
       "    </tr>\n",
       "    <tr>\n",
       "      <th>959</th>\n",
       "      <td>OSALADI – Suporte vertical para laptop, suport...</td>\n",
       "      <td>R$ 92,46</td>\n",
       "      <td>4,3 de 5 estrelas</td>\n",
       "      <td>10</td>\n",
       "      <td>https://www.amazon.com.br/OSALADI-Suporte-vert...</td>\n",
       "    </tr>\n",
       "    <tr>\n",
       "      <th>960</th>\n",
       "      <td>Kit Ferramentas Conjunto Abrir Iphone Celular ...</td>\n",
       "      <td>R$ 49,99</td>\n",
       "      <td>4,6 de 5 estrelas</td>\n",
       "      <td>155</td>\n",
       "      <td>https://www.amazon.com.br/Ferramentas-Conjunto...</td>\n",
       "    </tr>\n",
       "    <tr>\n",
       "      <th>961</th>\n",
       "      <td>Tomshin V8H 2.4G sem fio mudo Mouse Plug &amp; Pla...</td>\n",
       "      <td>R$ 101,45</td>\n",
       "      <td>0</td>\n",
       "      <td>0</td>\n",
       "      <td>https://www.amazon.com.br/gp/slredirect/picass...</td>\n",
       "    </tr>\n",
       "    <tr>\n",
       "      <th>962</th>\n",
       "      <td>Tomshin 2.4G Mouse Sem Fio Portátil Ultra-Fino...</td>\n",
       "      <td>R$ 58,35</td>\n",
       "      <td>0</td>\n",
       "      <td>0</td>\n",
       "      <td>https://www.amazon.com.br/gp/slredirect/picass...</td>\n",
       "    </tr>\n",
       "    <tr>\n",
       "      <th>963</th>\n",
       "      <td>Miaoqian Mouse fino sem fio 2.4G sem ruído, 3 ...</td>\n",
       "      <td>R$ 75,55</td>\n",
       "      <td>0</td>\n",
       "      <td>0</td>\n",
       "      <td>https://www.amazon.com.br/gp/slredirect/picass...</td>\n",
       "    </tr>\n",
       "  </tbody>\n",
       "</table>\n",
       "<p>964 rows × 5 columns</p>\n",
       "</div>"
      ],
      "text/plain": [
       "                                             Descrição        Preço  \\\n",
       "0    Headset com fio Logitech H151 com Microfone co...     R$ 99,90   \n",
       "1    Mouse Bluetooth para MacBook Pro/MacBook Air/L...     R$ 80,98   \n",
       "2    Mouse Bluetooth recarregável para Mac, laptop,...    R$ 119,67   \n",
       "3    Notebook Lenovo Ultrafino IdeaPad S145, AMD Ry...  R$ 2.909,00   \n",
       "4    Notebook Lenovo Ultrafino ideapad S145 i5-1035...  R$ 3.229,99   \n",
       "..                                                 ...          ...   \n",
       "959  OSALADI – Suporte vertical para laptop, suport...     R$ 92,46   \n",
       "960  Kit Ferramentas Conjunto Abrir Iphone Celular ...     R$ 49,99   \n",
       "961  Tomshin V8H 2.4G sem fio mudo Mouse Plug & Pla...    R$ 101,45   \n",
       "962  Tomshin 2.4G Mouse Sem Fio Portátil Ultra-Fino...     R$ 58,35   \n",
       "963  Miaoqian Mouse fino sem fio 2.4G sem ruído, 3 ...     R$ 75,55   \n",
       "\n",
       "              Estrelas TotalReviews  \\\n",
       "0    4,3 de 5 estrelas        3.579   \n",
       "1    4,4 de 5 estrelas           51   \n",
       "2    3,2 de 5 estrelas            6   \n",
       "3    4,6 de 5 estrelas          199   \n",
       "4    4,7 de 5 estrelas           26   \n",
       "..                 ...          ...   \n",
       "959  4,3 de 5 estrelas           10   \n",
       "960  4,6 de 5 estrelas          155   \n",
       "961                  0            0   \n",
       "962                  0            0   \n",
       "963                  0            0   \n",
       "\n",
       "                                                   Url  \n",
       "0    https://www.amazon.com.br/gp/slredirect/picass...  \n",
       "1    https://www.amazon.com.br/gp/slredirect/picass...  \n",
       "2    https://www.amazon.com.br/gp/slredirect/picass...  \n",
       "3    https://www.amazon.com.br/Notebook-Lenovo-Ultr...  \n",
       "4    https://www.amazon.com.br/Lenovo-Ultrafino-S14...  \n",
       "..                                                 ...  \n",
       "959  https://www.amazon.com.br/OSALADI-Suporte-vert...  \n",
       "960  https://www.amazon.com.br/Ferramentas-Conjunto...  \n",
       "961  https://www.amazon.com.br/gp/slredirect/picass...  \n",
       "962  https://www.amazon.com.br/gp/slredirect/picass...  \n",
       "963  https://www.amazon.com.br/gp/slredirect/picass...  \n",
       "\n",
       "[964 rows x 5 columns]"
      ]
     },
     "execution_count": 424,
     "metadata": {},
     "output_type": "execute_result"
    }
   ],
   "source": [
    "dados_notebook = pd.read_csv('output/dataset_notebook.csv',sep=';')\n",
    "dados_notebook"
   ]
  },
  {
   "cell_type": "code",
   "execution_count": 425,
   "metadata": {},
   "outputs": [
    {
     "data": {
      "text/html": [
       "<div>\n",
       "<style scoped>\n",
       "    .dataframe tbody tr th:only-of-type {\n",
       "        vertical-align: middle;\n",
       "    }\n",
       "\n",
       "    .dataframe tbody tr th {\n",
       "        vertical-align: top;\n",
       "    }\n",
       "\n",
       "    .dataframe thead th {\n",
       "        text-align: right;\n",
       "    }\n",
       "</style>\n",
       "<table border=\"1\" class=\"dataframe\">\n",
       "  <thead>\n",
       "    <tr style=\"text-align: right;\">\n",
       "      <th></th>\n",
       "      <th>Descrição</th>\n",
       "      <th>Preço</th>\n",
       "      <th>Estrelas</th>\n",
       "      <th>TotalReviews</th>\n",
       "      <th>Url</th>\n",
       "    </tr>\n",
       "  </thead>\n",
       "  <tbody>\n",
       "    <tr>\n",
       "      <th>0</th>\n",
       "      <td>Headset com fio Logitech H151 com Microfone co...</td>\n",
       "      <td>99.90</td>\n",
       "      <td>4.3</td>\n",
       "      <td>3579.0</td>\n",
       "      <td>https://www.amazon.com.br/gp/slredirect/picass...</td>\n",
       "    </tr>\n",
       "    <tr>\n",
       "      <th>1</th>\n",
       "      <td>Mouse Bluetooth para MacBook Pro/MacBook Air/L...</td>\n",
       "      <td>80.98</td>\n",
       "      <td>4.4</td>\n",
       "      <td>51.0</td>\n",
       "      <td>https://www.amazon.com.br/gp/slredirect/picass...</td>\n",
       "    </tr>\n",
       "    <tr>\n",
       "      <th>2</th>\n",
       "      <td>Mouse Bluetooth recarregável para Mac, laptop,...</td>\n",
       "      <td>119.67</td>\n",
       "      <td>3.2</td>\n",
       "      <td>6.0</td>\n",
       "      <td>https://www.amazon.com.br/gp/slredirect/picass...</td>\n",
       "    </tr>\n",
       "    <tr>\n",
       "      <th>3</th>\n",
       "      <td>Notebook Lenovo Ultrafino IdeaPad S145, AMD Ry...</td>\n",
       "      <td>2909.00</td>\n",
       "      <td>4.6</td>\n",
       "      <td>199.0</td>\n",
       "      <td>https://www.amazon.com.br/Notebook-Lenovo-Ultr...</td>\n",
       "    </tr>\n",
       "    <tr>\n",
       "      <th>4</th>\n",
       "      <td>Notebook Lenovo Ultrafino ideapad S145 i5-1035...</td>\n",
       "      <td>3229.99</td>\n",
       "      <td>4.7</td>\n",
       "      <td>26.0</td>\n",
       "      <td>https://www.amazon.com.br/Lenovo-Ultrafino-S14...</td>\n",
       "    </tr>\n",
       "    <tr>\n",
       "      <th>...</th>\n",
       "      <td>...</td>\n",
       "      <td>...</td>\n",
       "      <td>...</td>\n",
       "      <td>...</td>\n",
       "      <td>...</td>\n",
       "    </tr>\n",
       "    <tr>\n",
       "      <th>959</th>\n",
       "      <td>OSALADI – Suporte vertical para laptop, suport...</td>\n",
       "      <td>92.46</td>\n",
       "      <td>4.3</td>\n",
       "      <td>10.0</td>\n",
       "      <td>https://www.amazon.com.br/OSALADI-Suporte-vert...</td>\n",
       "    </tr>\n",
       "    <tr>\n",
       "      <th>960</th>\n",
       "      <td>Kit Ferramentas Conjunto Abrir Iphone Celular ...</td>\n",
       "      <td>49.99</td>\n",
       "      <td>4.6</td>\n",
       "      <td>155.0</td>\n",
       "      <td>https://www.amazon.com.br/Ferramentas-Conjunto...</td>\n",
       "    </tr>\n",
       "    <tr>\n",
       "      <th>961</th>\n",
       "      <td>Tomshin V8H 2.4G sem fio mudo Mouse Plug &amp; Pla...</td>\n",
       "      <td>101.45</td>\n",
       "      <td>0.0</td>\n",
       "      <td>0.0</td>\n",
       "      <td>https://www.amazon.com.br/gp/slredirect/picass...</td>\n",
       "    </tr>\n",
       "    <tr>\n",
       "      <th>962</th>\n",
       "      <td>Tomshin 2.4G Mouse Sem Fio Portátil Ultra-Fino...</td>\n",
       "      <td>58.35</td>\n",
       "      <td>0.0</td>\n",
       "      <td>0.0</td>\n",
       "      <td>https://www.amazon.com.br/gp/slredirect/picass...</td>\n",
       "    </tr>\n",
       "    <tr>\n",
       "      <th>963</th>\n",
       "      <td>Miaoqian Mouse fino sem fio 2.4G sem ruído, 3 ...</td>\n",
       "      <td>75.55</td>\n",
       "      <td>0.0</td>\n",
       "      <td>0.0</td>\n",
       "      <td>https://www.amazon.com.br/gp/slredirect/picass...</td>\n",
       "    </tr>\n",
       "  </tbody>\n",
       "</table>\n",
       "<p>964 rows × 5 columns</p>\n",
       "</div>"
      ],
      "text/plain": [
       "                                             Descrição    Preço  Estrelas  \\\n",
       "0    Headset com fio Logitech H151 com Microfone co...    99.90       4.3   \n",
       "1    Mouse Bluetooth para MacBook Pro/MacBook Air/L...    80.98       4.4   \n",
       "2    Mouse Bluetooth recarregável para Mac, laptop,...   119.67       3.2   \n",
       "3    Notebook Lenovo Ultrafino IdeaPad S145, AMD Ry...  2909.00       4.6   \n",
       "4    Notebook Lenovo Ultrafino ideapad S145 i5-1035...  3229.99       4.7   \n",
       "..                                                 ...      ...       ...   \n",
       "959  OSALADI – Suporte vertical para laptop, suport...    92.46       4.3   \n",
       "960  Kit Ferramentas Conjunto Abrir Iphone Celular ...    49.99       4.6   \n",
       "961  Tomshin V8H 2.4G sem fio mudo Mouse Plug & Pla...   101.45       0.0   \n",
       "962  Tomshin 2.4G Mouse Sem Fio Portátil Ultra-Fino...    58.35       0.0   \n",
       "963  Miaoqian Mouse fino sem fio 2.4G sem ruído, 3 ...    75.55       0.0   \n",
       "\n",
       "     TotalReviews                                                Url  \n",
       "0          3579.0  https://www.amazon.com.br/gp/slredirect/picass...  \n",
       "1            51.0  https://www.amazon.com.br/gp/slredirect/picass...  \n",
       "2             6.0  https://www.amazon.com.br/gp/slredirect/picass...  \n",
       "3           199.0  https://www.amazon.com.br/Notebook-Lenovo-Ultr...  \n",
       "4            26.0  https://www.amazon.com.br/Lenovo-Ultrafino-S14...  \n",
       "..            ...                                                ...  \n",
       "959          10.0  https://www.amazon.com.br/OSALADI-Suporte-vert...  \n",
       "960         155.0  https://www.amazon.com.br/Ferramentas-Conjunto...  \n",
       "961           0.0  https://www.amazon.com.br/gp/slredirect/picass...  \n",
       "962           0.0  https://www.amazon.com.br/gp/slredirect/picass...  \n",
       "963           0.0  https://www.amazon.com.br/gp/slredirect/picass...  \n",
       "\n",
       "[964 rows x 5 columns]"
      ]
     },
     "execution_count": 425,
     "metadata": {},
     "output_type": "execute_result"
    }
   ],
   "source": [
    "arruma_df(dados_notebook)"
   ]
  },
  {
   "cell_type": "code",
   "execution_count": 426,
   "metadata": {},
   "outputs": [
    {
     "data": {
      "text/plain": [
       "Descrição        0\n",
       "Preço            0\n",
       "Estrelas        13\n",
       "TotalReviews    13\n",
       "Url              0\n",
       "dtype: int64"
      ]
     },
     "execution_count": 426,
     "metadata": {},
     "output_type": "execute_result"
    }
   ],
   "source": [
    "dados_notebook.isna().sum()"
   ]
  },
  {
   "cell_type": "code",
   "execution_count": 427,
   "metadata": {},
   "outputs": [],
   "source": [
    "dados_notebook.fillna(0,inplace=True)\n",
    "dados_notebook_old = dados_notebook"
   ]
  },
  {
   "cell_type": "code",
   "execution_count": 428,
   "metadata": {},
   "outputs": [],
   "source": [
    "dados_notebook.query('Preço > 1000.0',inplace=True)"
   ]
  },
  {
   "cell_type": "code",
   "execution_count": 429,
   "metadata": {},
   "outputs": [
    {
     "data": {
      "text/html": [
       "<div>\n",
       "<style scoped>\n",
       "    .dataframe tbody tr th:only-of-type {\n",
       "        vertical-align: middle;\n",
       "    }\n",
       "\n",
       "    .dataframe tbody tr th {\n",
       "        vertical-align: top;\n",
       "    }\n",
       "\n",
       "    .dataframe thead th {\n",
       "        text-align: right;\n",
       "    }\n",
       "</style>\n",
       "<table border=\"1\" class=\"dataframe\">\n",
       "  <thead>\n",
       "    <tr style=\"text-align: right;\">\n",
       "      <th></th>\n",
       "      <th>Descrição</th>\n",
       "      <th>Preço</th>\n",
       "      <th>Estrelas</th>\n",
       "      <th>TotalReviews</th>\n",
       "      <th>Url</th>\n",
       "      <th>Loja</th>\n",
       "      <th>Categoria</th>\n",
       "    </tr>\n",
       "  </thead>\n",
       "  <tbody>\n",
       "    <tr>\n",
       "      <th>0</th>\n",
       "      <td>Notebook Lenovo Ultrafino IdeaPad S145, AMD Ry...</td>\n",
       "      <td>2909.00</td>\n",
       "      <td>4.6</td>\n",
       "      <td>199.0</td>\n",
       "      <td>https://www.amazon.com.br/Notebook-Lenovo-Ultr...</td>\n",
       "      <td>Amazon</td>\n",
       "      <td>Notebook</td>\n",
       "    </tr>\n",
       "    <tr>\n",
       "      <th>1</th>\n",
       "      <td>Notebook Lenovo Ultrafino ideapad S145 i5-1035...</td>\n",
       "      <td>3229.99</td>\n",
       "      <td>4.7</td>\n",
       "      <td>26.0</td>\n",
       "      <td>https://www.amazon.com.br/Lenovo-Ultrafino-S14...</td>\n",
       "      <td>Amazon</td>\n",
       "      <td>Notebook</td>\n",
       "    </tr>\n",
       "    <tr>\n",
       "      <th>2</th>\n",
       "      <td>SAMSUNG Chromebook SS 11.6 Intel DC 4GB 32GB X...</td>\n",
       "      <td>1699.00</td>\n",
       "      <td>4.5</td>\n",
       "      <td>239.0</td>\n",
       "      <td>https://www.amazon.com.br/SAMSUNG-Chromebook-1...</td>\n",
       "      <td>Amazon</td>\n",
       "      <td>Notebook</td>\n",
       "    </tr>\n",
       "    <tr>\n",
       "      <th>3</th>\n",
       "      <td>Samsung BookIntel® Core™ i3-1115G4, 11 Geração...</td>\n",
       "      <td>2789.09</td>\n",
       "      <td>3.7</td>\n",
       "      <td>46.0</td>\n",
       "      <td>https://www.amazon.com.br/Samsung-BookIntel%C2...</td>\n",
       "      <td>Amazon</td>\n",
       "      <td>Notebook</td>\n",
       "    </tr>\n",
       "    <tr>\n",
       "      <th>4</th>\n",
       "      <td>Notebook Positivo Motion Q464C Intel® Atom® Qu...</td>\n",
       "      <td>1718.90</td>\n",
       "      <td>4.0</td>\n",
       "      <td>72.0</td>\n",
       "      <td>https://www.amazon.com.br/Notebook-Positivo-Mo...</td>\n",
       "      <td>Amazon</td>\n",
       "      <td>Notebook</td>\n",
       "    </tr>\n",
       "    <tr>\n",
       "      <th>...</th>\n",
       "      <td>...</td>\n",
       "      <td>...</td>\n",
       "      <td>...</td>\n",
       "      <td>...</td>\n",
       "      <td>...</td>\n",
       "      <td>...</td>\n",
       "      <td>...</td>\n",
       "    </tr>\n",
       "    <tr>\n",
       "      <th>246</th>\n",
       "      <td>Notebook Ultrafino Dell Inspiron i5402-M10S 14...</td>\n",
       "      <td>5409.99</td>\n",
       "      <td>5.0</td>\n",
       "      <td>1.0</td>\n",
       "      <td>https://www.amazon.com.br/Notebook-Ultrafino-D...</td>\n",
       "      <td>Amazon</td>\n",
       "      <td>Notebook</td>\n",
       "    </tr>\n",
       "    <tr>\n",
       "      <th>247</th>\n",
       "      <td>12,5\"4 GB 64 GB com notebook N3350 Laptop ultr...</td>\n",
       "      <td>1465.81</td>\n",
       "      <td>0.0</td>\n",
       "      <td>0.0</td>\n",
       "      <td>https://www.amazon.com.br/notebook-Laptop-ultr...</td>\n",
       "      <td>Amazon</td>\n",
       "      <td>Notebook</td>\n",
       "    </tr>\n",
       "    <tr>\n",
       "      <th>248</th>\n",
       "      <td>Notebook Positivo Motion C41TE Intel® Celeron®...</td>\n",
       "      <td>2159.10</td>\n",
       "      <td>0.0</td>\n",
       "      <td>0.0</td>\n",
       "      <td>https://www.amazon.com.br/Notebook-Positivo-Ce...</td>\n",
       "      <td>Amazon</td>\n",
       "      <td>Notebook</td>\n",
       "    </tr>\n",
       "    <tr>\n",
       "      <th>249</th>\n",
       "      <td>Notebook Acer A315 Core I3-1005g1 8gb 256 Ssd ...</td>\n",
       "      <td>3599.00</td>\n",
       "      <td>0.0</td>\n",
       "      <td>0.0</td>\n",
       "      <td>https://www.amazon.com.br/Notebook-Acer-A315-C...</td>\n",
       "      <td>Amazon</td>\n",
       "      <td>Notebook</td>\n",
       "    </tr>\n",
       "    <tr>\n",
       "      <th>250</th>\n",
       "      <td>Notebook Dell Inspiron 3501-M70P 15.6\" HD 11ª ...</td>\n",
       "      <td>5999.00</td>\n",
       "      <td>5.0</td>\n",
       "      <td>1.0</td>\n",
       "      <td>https://www.amazon.com.br/Notebook-Dell-Inspir...</td>\n",
       "      <td>Amazon</td>\n",
       "      <td>Notebook</td>\n",
       "    </tr>\n",
       "  </tbody>\n",
       "</table>\n",
       "<p>251 rows × 7 columns</p>\n",
       "</div>"
      ],
      "text/plain": [
       "                                             Descrição    Preço  Estrelas  \\\n",
       "0    Notebook Lenovo Ultrafino IdeaPad S145, AMD Ry...  2909.00       4.6   \n",
       "1    Notebook Lenovo Ultrafino ideapad S145 i5-1035...  3229.99       4.7   \n",
       "2    SAMSUNG Chromebook SS 11.6 Intel DC 4GB 32GB X...  1699.00       4.5   \n",
       "3    Samsung BookIntel® Core™ i3-1115G4, 11 Geração...  2789.09       3.7   \n",
       "4    Notebook Positivo Motion Q464C Intel® Atom® Qu...  1718.90       4.0   \n",
       "..                                                 ...      ...       ...   \n",
       "246  Notebook Ultrafino Dell Inspiron i5402-M10S 14...  5409.99       5.0   \n",
       "247  12,5\"4 GB 64 GB com notebook N3350 Laptop ultr...  1465.81       0.0   \n",
       "248  Notebook Positivo Motion C41TE Intel® Celeron®...  2159.10       0.0   \n",
       "249  Notebook Acer A315 Core I3-1005g1 8gb 256 Ssd ...  3599.00       0.0   \n",
       "250  Notebook Dell Inspiron 3501-M70P 15.6\" HD 11ª ...  5999.00       5.0   \n",
       "\n",
       "     TotalReviews                                                Url    Loja  \\\n",
       "0           199.0  https://www.amazon.com.br/Notebook-Lenovo-Ultr...  Amazon   \n",
       "1            26.0  https://www.amazon.com.br/Lenovo-Ultrafino-S14...  Amazon   \n",
       "2           239.0  https://www.amazon.com.br/SAMSUNG-Chromebook-1...  Amazon   \n",
       "3            46.0  https://www.amazon.com.br/Samsung-BookIntel%C2...  Amazon   \n",
       "4            72.0  https://www.amazon.com.br/Notebook-Positivo-Mo...  Amazon   \n",
       "..            ...                                                ...     ...   \n",
       "246           1.0  https://www.amazon.com.br/Notebook-Ultrafino-D...  Amazon   \n",
       "247           0.0  https://www.amazon.com.br/notebook-Laptop-ultr...  Amazon   \n",
       "248           0.0  https://www.amazon.com.br/Notebook-Positivo-Ce...  Amazon   \n",
       "249           0.0  https://www.amazon.com.br/Notebook-Acer-A315-C...  Amazon   \n",
       "250           1.0  https://www.amazon.com.br/Notebook-Dell-Inspir...  Amazon   \n",
       "\n",
       "    Categoria  \n",
       "0    Notebook  \n",
       "1    Notebook  \n",
       "2    Notebook  \n",
       "3    Notebook  \n",
       "4    Notebook  \n",
       "..        ...  \n",
       "246  Notebook  \n",
       "247  Notebook  \n",
       "248  Notebook  \n",
       "249  Notebook  \n",
       "250  Notebook  \n",
       "\n",
       "[251 rows x 7 columns]"
      ]
     },
     "execution_count": 429,
     "metadata": {},
     "output_type": "execute_result"
    }
   ],
   "source": [
    "dados_notebook['Loja'] = 'Amazon'\n",
    "dados_notebook['Categoria'] = 'Notebook'\n",
    "dados_notebook.reset_index(drop=True,inplace=True)\n",
    "dados_notebook"
   ]
  },
  {
   "cell_type": "markdown",
   "metadata": {},
   "source": [
    "## Removendo outliers dados de notebooks"
   ]
  },
  {
   "cell_type": "code",
   "execution_count": 430,
   "metadata": {},
   "outputs": [],
   "source": [
    "import plotly.express as px"
   ]
  },
  {
   "cell_type": "code",
   "execution_count": 474,
   "metadata": {},
   "outputs": [
    {
     "data": {
      "application/vnd.plotly.v1+json": {
       "config": {
        "plotlyServerURL": "https://plot.ly"
       },
       "data": [
        {
         "alignmentgroup": "True",
         "hovertemplate": "Preço=%{y}<extra></extra>",
         "legendgroup": "",
         "marker": {
          "color": "#636efa"
         },
         "name": "",
         "notched": false,
         "offsetgroup": "",
         "orientation": "v",
         "showlegend": false,
         "type": "box",
         "x0": " ",
         "xaxis": "x",
         "y": [
          2909,
          3229.99,
          1699,
          2789.09,
          1718.9,
          2539.9,
          6254.41,
          1529.1,
          4769.1,
          4908.35,
          3274.53,
          1338.35,
          2062.63,
          4499,
          5779.99,
          4399,
          1567.48,
          3742.05,
          4095.24,
          9199,
          6336.3,
          2800.03,
          2849,
          4699,
          4358.19,
          4084.05,
          4547.72,
          3148.9,
          8549,
          2069.57,
          2259.9,
          4200,
          4741.24,
          5067.03,
          1439.9,
          3029,
          2999,
          1799.9,
          4499,
          4229.9,
          2199.89,
          2899,
          5769.9,
          6199,
          1405.99,
          2140,
          3699,
          5230,
          1899,
          7870,
          4794.66,
          1234.99,
          3616.07,
          1999,
          2839,
          5415.05,
          5036.32,
          10199,
          5969,
          2773.96,
          3949,
          1959.57,
          1658.27,
          4999,
          1899,
          1399,
          9979,
          3899,
          8699.9,
          5805.8,
          5507.18,
          5499,
          7769,
          3384.65,
          6615.16,
          6099,
          5278.9,
          3999,
          5799,
          5793.4,
          5384.35,
          9699,
          1699.89,
          3491.24,
          3134.99,
          2389,
          5508.95,
          4944.2,
          4349,
          1499,
          7641.38,
          1035.87,
          5999,
          2305.51,
          2250,
          5036.32,
          1699.7,
          6999.01,
          4899,
          1618.9,
          13599,
          3799,
          4823.13,
          4299,
          2449.9,
          5649,
          6939,
          2250,
          2599.9,
          1749,
          3899,
          2999,
          4299,
          4299,
          7899,
          2422.23,
          2139,
          4499.9,
          6449.47,
          4999.99,
          4399,
          3591,
          6699,
          8107.53,
          7125.08,
          5749,
          6554.99,
          4549,
          9288,
          4794.53,
          4199,
          6582.44,
          3599,
          4998.99,
          7399,
          6899,
          4399,
          6506.58,
          3890.92,
          1899.9,
          2418.07,
          9499,
          4099,
          3999,
          2299,
          10499,
          10500,
          3299,
          11729.99,
          3999,
          3101.89,
          7244.14,
          1999,
          1395.85,
          3049,
          4400.7,
          5799,
          1969,
          1724.66,
          2800,
          1391.55,
          3949,
          5949,
          3712.77,
          11014.98,
          12799,
          3899,
          1030.49,
          2150,
          2528.9,
          5149,
          2329,
          3199,
          3049.8,
          1291.79,
          4649,
          5639,
          2448.29,
          4399,
          8349,
          6111.95,
          1271.89,
          1553.23,
          1183.72,
          3335.36,
          5639.99,
          2499,
          6299,
          6336.3,
          7499,
          6699,
          1006.89,
          1799.33,
          7299.99,
          7093,
          1359,
          6299,
          4249,
          6254.41,
          12199,
          4399,
          7349,
          4999,
          4741.24,
          5067.03,
          7299.99,
          5999,
          3183.53,
          5415.05,
          5036.32,
          1709.44,
          5099,
          5805.8,
          5507.18,
          2299.98,
          1035.87,
          3249,
          6049,
          3009.9,
          5793.4,
          5384.35,
          8077.32,
          3499,
          3609.02,
          1439,
          4449,
          5508.95,
          4944.2,
          6849,
          3452.21,
          2940.85,
          2799,
          2229,
          5036.32,
          1416.54,
          3099,
          1999,
          9971.85,
          1899,
          4823.13,
          6199,
          3469,
          4301.14,
          4288.9,
          7697.78,
          1787.92,
          5409.99,
          1465.81,
          2159.1,
          3599,
          5999
         ],
         "y0": " ",
         "yaxis": "y"
        }
       ],
       "layout": {
        "boxmode": "group",
        "legend": {
         "tracegroupgap": 0
        },
        "margin": {
         "t": 60
        },
        "template": {
         "data": {
          "bar": [
           {
            "error_x": {
             "color": "#2a3f5f"
            },
            "error_y": {
             "color": "#2a3f5f"
            },
            "marker": {
             "line": {
              "color": "#E5ECF6",
              "width": 0.5
             },
             "pattern": {
              "fillmode": "overlay",
              "size": 10,
              "solidity": 0.2
             }
            },
            "type": "bar"
           }
          ],
          "barpolar": [
           {
            "marker": {
             "line": {
              "color": "#E5ECF6",
              "width": 0.5
             },
             "pattern": {
              "fillmode": "overlay",
              "size": 10,
              "solidity": 0.2
             }
            },
            "type": "barpolar"
           }
          ],
          "carpet": [
           {
            "aaxis": {
             "endlinecolor": "#2a3f5f",
             "gridcolor": "white",
             "linecolor": "white",
             "minorgridcolor": "white",
             "startlinecolor": "#2a3f5f"
            },
            "baxis": {
             "endlinecolor": "#2a3f5f",
             "gridcolor": "white",
             "linecolor": "white",
             "minorgridcolor": "white",
             "startlinecolor": "#2a3f5f"
            },
            "type": "carpet"
           }
          ],
          "choropleth": [
           {
            "colorbar": {
             "outlinewidth": 0,
             "ticks": ""
            },
            "type": "choropleth"
           }
          ],
          "contour": [
           {
            "colorbar": {
             "outlinewidth": 0,
             "ticks": ""
            },
            "colorscale": [
             [
              0,
              "#0d0887"
             ],
             [
              0.1111111111111111,
              "#46039f"
             ],
             [
              0.2222222222222222,
              "#7201a8"
             ],
             [
              0.3333333333333333,
              "#9c179e"
             ],
             [
              0.4444444444444444,
              "#bd3786"
             ],
             [
              0.5555555555555556,
              "#d8576b"
             ],
             [
              0.6666666666666666,
              "#ed7953"
             ],
             [
              0.7777777777777778,
              "#fb9f3a"
             ],
             [
              0.8888888888888888,
              "#fdca26"
             ],
             [
              1,
              "#f0f921"
             ]
            ],
            "type": "contour"
           }
          ],
          "contourcarpet": [
           {
            "colorbar": {
             "outlinewidth": 0,
             "ticks": ""
            },
            "type": "contourcarpet"
           }
          ],
          "heatmap": [
           {
            "colorbar": {
             "outlinewidth": 0,
             "ticks": ""
            },
            "colorscale": [
             [
              0,
              "#0d0887"
             ],
             [
              0.1111111111111111,
              "#46039f"
             ],
             [
              0.2222222222222222,
              "#7201a8"
             ],
             [
              0.3333333333333333,
              "#9c179e"
             ],
             [
              0.4444444444444444,
              "#bd3786"
             ],
             [
              0.5555555555555556,
              "#d8576b"
             ],
             [
              0.6666666666666666,
              "#ed7953"
             ],
             [
              0.7777777777777778,
              "#fb9f3a"
             ],
             [
              0.8888888888888888,
              "#fdca26"
             ],
             [
              1,
              "#f0f921"
             ]
            ],
            "type": "heatmap"
           }
          ],
          "heatmapgl": [
           {
            "colorbar": {
             "outlinewidth": 0,
             "ticks": ""
            },
            "colorscale": [
             [
              0,
              "#0d0887"
             ],
             [
              0.1111111111111111,
              "#46039f"
             ],
             [
              0.2222222222222222,
              "#7201a8"
             ],
             [
              0.3333333333333333,
              "#9c179e"
             ],
             [
              0.4444444444444444,
              "#bd3786"
             ],
             [
              0.5555555555555556,
              "#d8576b"
             ],
             [
              0.6666666666666666,
              "#ed7953"
             ],
             [
              0.7777777777777778,
              "#fb9f3a"
             ],
             [
              0.8888888888888888,
              "#fdca26"
             ],
             [
              1,
              "#f0f921"
             ]
            ],
            "type": "heatmapgl"
           }
          ],
          "histogram": [
           {
            "marker": {
             "pattern": {
              "fillmode": "overlay",
              "size": 10,
              "solidity": 0.2
             }
            },
            "type": "histogram"
           }
          ],
          "histogram2d": [
           {
            "colorbar": {
             "outlinewidth": 0,
             "ticks": ""
            },
            "colorscale": [
             [
              0,
              "#0d0887"
             ],
             [
              0.1111111111111111,
              "#46039f"
             ],
             [
              0.2222222222222222,
              "#7201a8"
             ],
             [
              0.3333333333333333,
              "#9c179e"
             ],
             [
              0.4444444444444444,
              "#bd3786"
             ],
             [
              0.5555555555555556,
              "#d8576b"
             ],
             [
              0.6666666666666666,
              "#ed7953"
             ],
             [
              0.7777777777777778,
              "#fb9f3a"
             ],
             [
              0.8888888888888888,
              "#fdca26"
             ],
             [
              1,
              "#f0f921"
             ]
            ],
            "type": "histogram2d"
           }
          ],
          "histogram2dcontour": [
           {
            "colorbar": {
             "outlinewidth": 0,
             "ticks": ""
            },
            "colorscale": [
             [
              0,
              "#0d0887"
             ],
             [
              0.1111111111111111,
              "#46039f"
             ],
             [
              0.2222222222222222,
              "#7201a8"
             ],
             [
              0.3333333333333333,
              "#9c179e"
             ],
             [
              0.4444444444444444,
              "#bd3786"
             ],
             [
              0.5555555555555556,
              "#d8576b"
             ],
             [
              0.6666666666666666,
              "#ed7953"
             ],
             [
              0.7777777777777778,
              "#fb9f3a"
             ],
             [
              0.8888888888888888,
              "#fdca26"
             ],
             [
              1,
              "#f0f921"
             ]
            ],
            "type": "histogram2dcontour"
           }
          ],
          "mesh3d": [
           {
            "colorbar": {
             "outlinewidth": 0,
             "ticks": ""
            },
            "type": "mesh3d"
           }
          ],
          "parcoords": [
           {
            "line": {
             "colorbar": {
              "outlinewidth": 0,
              "ticks": ""
             }
            },
            "type": "parcoords"
           }
          ],
          "pie": [
           {
            "automargin": true,
            "type": "pie"
           }
          ],
          "scatter": [
           {
            "marker": {
             "colorbar": {
              "outlinewidth": 0,
              "ticks": ""
             }
            },
            "type": "scatter"
           }
          ],
          "scatter3d": [
           {
            "line": {
             "colorbar": {
              "outlinewidth": 0,
              "ticks": ""
             }
            },
            "marker": {
             "colorbar": {
              "outlinewidth": 0,
              "ticks": ""
             }
            },
            "type": "scatter3d"
           }
          ],
          "scattercarpet": [
           {
            "marker": {
             "colorbar": {
              "outlinewidth": 0,
              "ticks": ""
             }
            },
            "type": "scattercarpet"
           }
          ],
          "scattergeo": [
           {
            "marker": {
             "colorbar": {
              "outlinewidth": 0,
              "ticks": ""
             }
            },
            "type": "scattergeo"
           }
          ],
          "scattergl": [
           {
            "marker": {
             "colorbar": {
              "outlinewidth": 0,
              "ticks": ""
             }
            },
            "type": "scattergl"
           }
          ],
          "scattermapbox": [
           {
            "marker": {
             "colorbar": {
              "outlinewidth": 0,
              "ticks": ""
             }
            },
            "type": "scattermapbox"
           }
          ],
          "scatterpolar": [
           {
            "marker": {
             "colorbar": {
              "outlinewidth": 0,
              "ticks": ""
             }
            },
            "type": "scatterpolar"
           }
          ],
          "scatterpolargl": [
           {
            "marker": {
             "colorbar": {
              "outlinewidth": 0,
              "ticks": ""
             }
            },
            "type": "scatterpolargl"
           }
          ],
          "scatterternary": [
           {
            "marker": {
             "colorbar": {
              "outlinewidth": 0,
              "ticks": ""
             }
            },
            "type": "scatterternary"
           }
          ],
          "surface": [
           {
            "colorbar": {
             "outlinewidth": 0,
             "ticks": ""
            },
            "colorscale": [
             [
              0,
              "#0d0887"
             ],
             [
              0.1111111111111111,
              "#46039f"
             ],
             [
              0.2222222222222222,
              "#7201a8"
             ],
             [
              0.3333333333333333,
              "#9c179e"
             ],
             [
              0.4444444444444444,
              "#bd3786"
             ],
             [
              0.5555555555555556,
              "#d8576b"
             ],
             [
              0.6666666666666666,
              "#ed7953"
             ],
             [
              0.7777777777777778,
              "#fb9f3a"
             ],
             [
              0.8888888888888888,
              "#fdca26"
             ],
             [
              1,
              "#f0f921"
             ]
            ],
            "type": "surface"
           }
          ],
          "table": [
           {
            "cells": {
             "fill": {
              "color": "#EBF0F8"
             },
             "line": {
              "color": "white"
             }
            },
            "header": {
             "fill": {
              "color": "#C8D4E3"
             },
             "line": {
              "color": "white"
             }
            },
            "type": "table"
           }
          ]
         },
         "layout": {
          "annotationdefaults": {
           "arrowcolor": "#2a3f5f",
           "arrowhead": 0,
           "arrowwidth": 1
          },
          "autotypenumbers": "strict",
          "coloraxis": {
           "colorbar": {
            "outlinewidth": 0,
            "ticks": ""
           }
          },
          "colorscale": {
           "diverging": [
            [
             0,
             "#8e0152"
            ],
            [
             0.1,
             "#c51b7d"
            ],
            [
             0.2,
             "#de77ae"
            ],
            [
             0.3,
             "#f1b6da"
            ],
            [
             0.4,
             "#fde0ef"
            ],
            [
             0.5,
             "#f7f7f7"
            ],
            [
             0.6,
             "#e6f5d0"
            ],
            [
             0.7,
             "#b8e186"
            ],
            [
             0.8,
             "#7fbc41"
            ],
            [
             0.9,
             "#4d9221"
            ],
            [
             1,
             "#276419"
            ]
           ],
           "sequential": [
            [
             0,
             "#0d0887"
            ],
            [
             0.1111111111111111,
             "#46039f"
            ],
            [
             0.2222222222222222,
             "#7201a8"
            ],
            [
             0.3333333333333333,
             "#9c179e"
            ],
            [
             0.4444444444444444,
             "#bd3786"
            ],
            [
             0.5555555555555556,
             "#d8576b"
            ],
            [
             0.6666666666666666,
             "#ed7953"
            ],
            [
             0.7777777777777778,
             "#fb9f3a"
            ],
            [
             0.8888888888888888,
             "#fdca26"
            ],
            [
             1,
             "#f0f921"
            ]
           ],
           "sequentialminus": [
            [
             0,
             "#0d0887"
            ],
            [
             0.1111111111111111,
             "#46039f"
            ],
            [
             0.2222222222222222,
             "#7201a8"
            ],
            [
             0.3333333333333333,
             "#9c179e"
            ],
            [
             0.4444444444444444,
             "#bd3786"
            ],
            [
             0.5555555555555556,
             "#d8576b"
            ],
            [
             0.6666666666666666,
             "#ed7953"
            ],
            [
             0.7777777777777778,
             "#fb9f3a"
            ],
            [
             0.8888888888888888,
             "#fdca26"
            ],
            [
             1,
             "#f0f921"
            ]
           ]
          },
          "colorway": [
           "#636efa",
           "#EF553B",
           "#00cc96",
           "#ab63fa",
           "#FFA15A",
           "#19d3f3",
           "#FF6692",
           "#B6E880",
           "#FF97FF",
           "#FECB52"
          ],
          "font": {
           "color": "#2a3f5f"
          },
          "geo": {
           "bgcolor": "white",
           "lakecolor": "white",
           "landcolor": "#E5ECF6",
           "showlakes": true,
           "showland": true,
           "subunitcolor": "white"
          },
          "hoverlabel": {
           "align": "left"
          },
          "hovermode": "closest",
          "mapbox": {
           "style": "light"
          },
          "paper_bgcolor": "white",
          "plot_bgcolor": "#E5ECF6",
          "polar": {
           "angularaxis": {
            "gridcolor": "white",
            "linecolor": "white",
            "ticks": ""
           },
           "bgcolor": "#E5ECF6",
           "radialaxis": {
            "gridcolor": "white",
            "linecolor": "white",
            "ticks": ""
           }
          },
          "scene": {
           "xaxis": {
            "backgroundcolor": "#E5ECF6",
            "gridcolor": "white",
            "gridwidth": 2,
            "linecolor": "white",
            "showbackground": true,
            "ticks": "",
            "zerolinecolor": "white"
           },
           "yaxis": {
            "backgroundcolor": "#E5ECF6",
            "gridcolor": "white",
            "gridwidth": 2,
            "linecolor": "white",
            "showbackground": true,
            "ticks": "",
            "zerolinecolor": "white"
           },
           "zaxis": {
            "backgroundcolor": "#E5ECF6",
            "gridcolor": "white",
            "gridwidth": 2,
            "linecolor": "white",
            "showbackground": true,
            "ticks": "",
            "zerolinecolor": "white"
           }
          },
          "shapedefaults": {
           "line": {
            "color": "#2a3f5f"
           }
          },
          "ternary": {
           "aaxis": {
            "gridcolor": "white",
            "linecolor": "white",
            "ticks": ""
           },
           "baxis": {
            "gridcolor": "white",
            "linecolor": "white",
            "ticks": ""
           },
           "bgcolor": "#E5ECF6",
           "caxis": {
            "gridcolor": "white",
            "linecolor": "white",
            "ticks": ""
           }
          },
          "title": {
           "x": 0.05
          },
          "xaxis": {
           "automargin": true,
           "gridcolor": "white",
           "linecolor": "white",
           "ticks": "",
           "title": {
            "standoff": 15
           },
           "zerolinecolor": "white",
           "zerolinewidth": 2
          },
          "yaxis": {
           "automargin": true,
           "gridcolor": "white",
           "linecolor": "white",
           "ticks": "",
           "title": {
            "standoff": 15
           },
           "zerolinecolor": "white",
           "zerolinewidth": 2
          }
         }
        },
        "xaxis": {
         "anchor": "y",
         "domain": [
          0,
          1
         ]
        },
        "yaxis": {
         "anchor": "x",
         "domain": [
          0,
          1
         ],
         "title": {
          "text": "Preço"
         }
        }
       }
      }
     },
     "metadata": {},
     "output_type": "display_data"
    }
   ],
   "source": [
    "fig = px.box(dados_notebook, y=\"Preço\")\n",
    "fig.show()"
   ]
  },
  {
   "cell_type": "code",
   "execution_count": 432,
   "metadata": {},
   "outputs": [
    {
     "name": "stdout",
     "output_type": "stream",
     "text": [
      "Quantidade de outliers:  5\n"
     ]
    }
   ],
   "source": [
    "outliers_index_list_notebook = outliers_index_l(dados_notebook)\n",
    "df_clean_notebook = remove_outliers(dados_notebook, outliers_index_list_notebook)"
   ]
  },
  {
   "cell_type": "code",
   "execution_count": 473,
   "metadata": {},
   "outputs": [
    {
     "data": {
      "application/vnd.plotly.v1+json": {
       "config": {
        "plotlyServerURL": "https://plot.ly"
       },
       "data": [
        {
         "alignmentgroup": "True",
         "hovertemplate": "Preço=%{y}<extra></extra>",
         "legendgroup": "",
         "marker": {
          "color": "#636efa"
         },
         "name": "",
         "notched": false,
         "offsetgroup": "",
         "orientation": "v",
         "showlegend": false,
         "type": "box",
         "x0": " ",
         "xaxis": "x",
         "y": [
          2909,
          3229.99,
          1699,
          2789.09,
          1718.9,
          2539.9,
          6254.41,
          1529.1,
          4769.1,
          4908.35,
          3274.53,
          1338.35,
          2062.63,
          4499,
          5779.99,
          4399,
          1567.48,
          3742.05,
          4095.24,
          9199,
          6336.3,
          2800.03,
          2849,
          4699,
          4358.19,
          4084.05,
          4547.72,
          3148.9,
          8549,
          2069.57,
          2259.9,
          4200,
          4741.24,
          5067.03,
          1439.9,
          3029,
          2999,
          1799.9,
          4499,
          4229.9,
          2199.89,
          2899,
          5769.9,
          6199,
          1405.99,
          2140,
          3699,
          5230,
          1899,
          7870,
          4794.66,
          1234.99,
          3616.07,
          1999,
          2839,
          5415.05,
          5036.32,
          10199,
          5969,
          2773.96,
          3949,
          1959.57,
          1658.27,
          4999,
          1899,
          1399,
          9979,
          3899,
          8699.9,
          5805.8,
          5507.18,
          5499,
          7769,
          3384.65,
          6615.16,
          6099,
          5278.9,
          3999,
          5799,
          5793.4,
          5384.35,
          9699,
          1699.89,
          3491.24,
          3134.99,
          2389,
          5508.95,
          4944.2,
          4349,
          1499,
          7641.38,
          1035.87,
          5999,
          2305.51,
          2250,
          5036.32,
          1699.7,
          6999.01,
          4899,
          1618.9,
          3799,
          4823.13,
          4299,
          2449.9,
          5649,
          6939,
          2250,
          2599.9,
          1749,
          3899,
          2999,
          4299,
          4299,
          7899,
          2422.23,
          2139,
          4499.9,
          6449.47,
          4999.99,
          4399,
          3591,
          6699,
          8107.53,
          7125.08,
          5749,
          6554.99,
          4549,
          9288,
          4794.53,
          4199,
          6582.44,
          3599,
          4998.99,
          7399,
          6899,
          4399,
          6506.58,
          3890.92,
          1899.9,
          2418.07,
          9499,
          4099,
          3999,
          2299,
          10499,
          10500,
          3299,
          3999,
          3101.89,
          7244.14,
          1999,
          1395.85,
          3049,
          4400.7,
          5799,
          1969,
          1724.66,
          2800,
          1391.55,
          3949,
          5949,
          3712.77,
          3899,
          1030.49,
          2150,
          2528.9,
          5149,
          2329,
          3199,
          3049.8,
          1291.79,
          4649,
          5639,
          2448.29,
          4399,
          8349,
          6111.95,
          1271.89,
          1553.23,
          1183.72,
          3335.36,
          5639.99,
          2499,
          6299,
          6336.3,
          7499,
          6699,
          1006.89,
          1799.33,
          7299.99,
          7093,
          1359,
          6299,
          4249,
          6254.41,
          4399,
          7349,
          4999,
          4741.24,
          5067.03,
          7299.99,
          5999,
          3183.53,
          5415.05,
          5036.32,
          1709.44,
          5099,
          5805.8,
          5507.18,
          2299.98,
          1035.87,
          3249,
          6049,
          3009.9,
          5793.4,
          5384.35,
          8077.32,
          3499,
          3609.02,
          1439,
          4449,
          5508.95,
          4944.2,
          6849,
          3452.21,
          2940.85,
          2799,
          2229,
          5036.32,
          1416.54,
          3099,
          1999,
          9971.85,
          1899,
          4823.13,
          6199,
          3469,
          4301.14,
          4288.9,
          7697.78,
          1787.92,
          5409.99,
          1465.81,
          2159.1,
          3599,
          5999
         ],
         "y0": " ",
         "yaxis": "y"
        }
       ],
       "layout": {
        "boxmode": "group",
        "legend": {
         "tracegroupgap": 0
        },
        "margin": {
         "t": 60
        },
        "template": {
         "data": {
          "bar": [
           {
            "error_x": {
             "color": "#2a3f5f"
            },
            "error_y": {
             "color": "#2a3f5f"
            },
            "marker": {
             "line": {
              "color": "#E5ECF6",
              "width": 0.5
             },
             "pattern": {
              "fillmode": "overlay",
              "size": 10,
              "solidity": 0.2
             }
            },
            "type": "bar"
           }
          ],
          "barpolar": [
           {
            "marker": {
             "line": {
              "color": "#E5ECF6",
              "width": 0.5
             },
             "pattern": {
              "fillmode": "overlay",
              "size": 10,
              "solidity": 0.2
             }
            },
            "type": "barpolar"
           }
          ],
          "carpet": [
           {
            "aaxis": {
             "endlinecolor": "#2a3f5f",
             "gridcolor": "white",
             "linecolor": "white",
             "minorgridcolor": "white",
             "startlinecolor": "#2a3f5f"
            },
            "baxis": {
             "endlinecolor": "#2a3f5f",
             "gridcolor": "white",
             "linecolor": "white",
             "minorgridcolor": "white",
             "startlinecolor": "#2a3f5f"
            },
            "type": "carpet"
           }
          ],
          "choropleth": [
           {
            "colorbar": {
             "outlinewidth": 0,
             "ticks": ""
            },
            "type": "choropleth"
           }
          ],
          "contour": [
           {
            "colorbar": {
             "outlinewidth": 0,
             "ticks": ""
            },
            "colorscale": [
             [
              0,
              "#0d0887"
             ],
             [
              0.1111111111111111,
              "#46039f"
             ],
             [
              0.2222222222222222,
              "#7201a8"
             ],
             [
              0.3333333333333333,
              "#9c179e"
             ],
             [
              0.4444444444444444,
              "#bd3786"
             ],
             [
              0.5555555555555556,
              "#d8576b"
             ],
             [
              0.6666666666666666,
              "#ed7953"
             ],
             [
              0.7777777777777778,
              "#fb9f3a"
             ],
             [
              0.8888888888888888,
              "#fdca26"
             ],
             [
              1,
              "#f0f921"
             ]
            ],
            "type": "contour"
           }
          ],
          "contourcarpet": [
           {
            "colorbar": {
             "outlinewidth": 0,
             "ticks": ""
            },
            "type": "contourcarpet"
           }
          ],
          "heatmap": [
           {
            "colorbar": {
             "outlinewidth": 0,
             "ticks": ""
            },
            "colorscale": [
             [
              0,
              "#0d0887"
             ],
             [
              0.1111111111111111,
              "#46039f"
             ],
             [
              0.2222222222222222,
              "#7201a8"
             ],
             [
              0.3333333333333333,
              "#9c179e"
             ],
             [
              0.4444444444444444,
              "#bd3786"
             ],
             [
              0.5555555555555556,
              "#d8576b"
             ],
             [
              0.6666666666666666,
              "#ed7953"
             ],
             [
              0.7777777777777778,
              "#fb9f3a"
             ],
             [
              0.8888888888888888,
              "#fdca26"
             ],
             [
              1,
              "#f0f921"
             ]
            ],
            "type": "heatmap"
           }
          ],
          "heatmapgl": [
           {
            "colorbar": {
             "outlinewidth": 0,
             "ticks": ""
            },
            "colorscale": [
             [
              0,
              "#0d0887"
             ],
             [
              0.1111111111111111,
              "#46039f"
             ],
             [
              0.2222222222222222,
              "#7201a8"
             ],
             [
              0.3333333333333333,
              "#9c179e"
             ],
             [
              0.4444444444444444,
              "#bd3786"
             ],
             [
              0.5555555555555556,
              "#d8576b"
             ],
             [
              0.6666666666666666,
              "#ed7953"
             ],
             [
              0.7777777777777778,
              "#fb9f3a"
             ],
             [
              0.8888888888888888,
              "#fdca26"
             ],
             [
              1,
              "#f0f921"
             ]
            ],
            "type": "heatmapgl"
           }
          ],
          "histogram": [
           {
            "marker": {
             "pattern": {
              "fillmode": "overlay",
              "size": 10,
              "solidity": 0.2
             }
            },
            "type": "histogram"
           }
          ],
          "histogram2d": [
           {
            "colorbar": {
             "outlinewidth": 0,
             "ticks": ""
            },
            "colorscale": [
             [
              0,
              "#0d0887"
             ],
             [
              0.1111111111111111,
              "#46039f"
             ],
             [
              0.2222222222222222,
              "#7201a8"
             ],
             [
              0.3333333333333333,
              "#9c179e"
             ],
             [
              0.4444444444444444,
              "#bd3786"
             ],
             [
              0.5555555555555556,
              "#d8576b"
             ],
             [
              0.6666666666666666,
              "#ed7953"
             ],
             [
              0.7777777777777778,
              "#fb9f3a"
             ],
             [
              0.8888888888888888,
              "#fdca26"
             ],
             [
              1,
              "#f0f921"
             ]
            ],
            "type": "histogram2d"
           }
          ],
          "histogram2dcontour": [
           {
            "colorbar": {
             "outlinewidth": 0,
             "ticks": ""
            },
            "colorscale": [
             [
              0,
              "#0d0887"
             ],
             [
              0.1111111111111111,
              "#46039f"
             ],
             [
              0.2222222222222222,
              "#7201a8"
             ],
             [
              0.3333333333333333,
              "#9c179e"
             ],
             [
              0.4444444444444444,
              "#bd3786"
             ],
             [
              0.5555555555555556,
              "#d8576b"
             ],
             [
              0.6666666666666666,
              "#ed7953"
             ],
             [
              0.7777777777777778,
              "#fb9f3a"
             ],
             [
              0.8888888888888888,
              "#fdca26"
             ],
             [
              1,
              "#f0f921"
             ]
            ],
            "type": "histogram2dcontour"
           }
          ],
          "mesh3d": [
           {
            "colorbar": {
             "outlinewidth": 0,
             "ticks": ""
            },
            "type": "mesh3d"
           }
          ],
          "parcoords": [
           {
            "line": {
             "colorbar": {
              "outlinewidth": 0,
              "ticks": ""
             }
            },
            "type": "parcoords"
           }
          ],
          "pie": [
           {
            "automargin": true,
            "type": "pie"
           }
          ],
          "scatter": [
           {
            "marker": {
             "colorbar": {
              "outlinewidth": 0,
              "ticks": ""
             }
            },
            "type": "scatter"
           }
          ],
          "scatter3d": [
           {
            "line": {
             "colorbar": {
              "outlinewidth": 0,
              "ticks": ""
             }
            },
            "marker": {
             "colorbar": {
              "outlinewidth": 0,
              "ticks": ""
             }
            },
            "type": "scatter3d"
           }
          ],
          "scattercarpet": [
           {
            "marker": {
             "colorbar": {
              "outlinewidth": 0,
              "ticks": ""
             }
            },
            "type": "scattercarpet"
           }
          ],
          "scattergeo": [
           {
            "marker": {
             "colorbar": {
              "outlinewidth": 0,
              "ticks": ""
             }
            },
            "type": "scattergeo"
           }
          ],
          "scattergl": [
           {
            "marker": {
             "colorbar": {
              "outlinewidth": 0,
              "ticks": ""
             }
            },
            "type": "scattergl"
           }
          ],
          "scattermapbox": [
           {
            "marker": {
             "colorbar": {
              "outlinewidth": 0,
              "ticks": ""
             }
            },
            "type": "scattermapbox"
           }
          ],
          "scatterpolar": [
           {
            "marker": {
             "colorbar": {
              "outlinewidth": 0,
              "ticks": ""
             }
            },
            "type": "scatterpolar"
           }
          ],
          "scatterpolargl": [
           {
            "marker": {
             "colorbar": {
              "outlinewidth": 0,
              "ticks": ""
             }
            },
            "type": "scatterpolargl"
           }
          ],
          "scatterternary": [
           {
            "marker": {
             "colorbar": {
              "outlinewidth": 0,
              "ticks": ""
             }
            },
            "type": "scatterternary"
           }
          ],
          "surface": [
           {
            "colorbar": {
             "outlinewidth": 0,
             "ticks": ""
            },
            "colorscale": [
             [
              0,
              "#0d0887"
             ],
             [
              0.1111111111111111,
              "#46039f"
             ],
             [
              0.2222222222222222,
              "#7201a8"
             ],
             [
              0.3333333333333333,
              "#9c179e"
             ],
             [
              0.4444444444444444,
              "#bd3786"
             ],
             [
              0.5555555555555556,
              "#d8576b"
             ],
             [
              0.6666666666666666,
              "#ed7953"
             ],
             [
              0.7777777777777778,
              "#fb9f3a"
             ],
             [
              0.8888888888888888,
              "#fdca26"
             ],
             [
              1,
              "#f0f921"
             ]
            ],
            "type": "surface"
           }
          ],
          "table": [
           {
            "cells": {
             "fill": {
              "color": "#EBF0F8"
             },
             "line": {
              "color": "white"
             }
            },
            "header": {
             "fill": {
              "color": "#C8D4E3"
             },
             "line": {
              "color": "white"
             }
            },
            "type": "table"
           }
          ]
         },
         "layout": {
          "annotationdefaults": {
           "arrowcolor": "#2a3f5f",
           "arrowhead": 0,
           "arrowwidth": 1
          },
          "autotypenumbers": "strict",
          "coloraxis": {
           "colorbar": {
            "outlinewidth": 0,
            "ticks": ""
           }
          },
          "colorscale": {
           "diverging": [
            [
             0,
             "#8e0152"
            ],
            [
             0.1,
             "#c51b7d"
            ],
            [
             0.2,
             "#de77ae"
            ],
            [
             0.3,
             "#f1b6da"
            ],
            [
             0.4,
             "#fde0ef"
            ],
            [
             0.5,
             "#f7f7f7"
            ],
            [
             0.6,
             "#e6f5d0"
            ],
            [
             0.7,
             "#b8e186"
            ],
            [
             0.8,
             "#7fbc41"
            ],
            [
             0.9,
             "#4d9221"
            ],
            [
             1,
             "#276419"
            ]
           ],
           "sequential": [
            [
             0,
             "#0d0887"
            ],
            [
             0.1111111111111111,
             "#46039f"
            ],
            [
             0.2222222222222222,
             "#7201a8"
            ],
            [
             0.3333333333333333,
             "#9c179e"
            ],
            [
             0.4444444444444444,
             "#bd3786"
            ],
            [
             0.5555555555555556,
             "#d8576b"
            ],
            [
             0.6666666666666666,
             "#ed7953"
            ],
            [
             0.7777777777777778,
             "#fb9f3a"
            ],
            [
             0.8888888888888888,
             "#fdca26"
            ],
            [
             1,
             "#f0f921"
            ]
           ],
           "sequentialminus": [
            [
             0,
             "#0d0887"
            ],
            [
             0.1111111111111111,
             "#46039f"
            ],
            [
             0.2222222222222222,
             "#7201a8"
            ],
            [
             0.3333333333333333,
             "#9c179e"
            ],
            [
             0.4444444444444444,
             "#bd3786"
            ],
            [
             0.5555555555555556,
             "#d8576b"
            ],
            [
             0.6666666666666666,
             "#ed7953"
            ],
            [
             0.7777777777777778,
             "#fb9f3a"
            ],
            [
             0.8888888888888888,
             "#fdca26"
            ],
            [
             1,
             "#f0f921"
            ]
           ]
          },
          "colorway": [
           "#636efa",
           "#EF553B",
           "#00cc96",
           "#ab63fa",
           "#FFA15A",
           "#19d3f3",
           "#FF6692",
           "#B6E880",
           "#FF97FF",
           "#FECB52"
          ],
          "font": {
           "color": "#2a3f5f"
          },
          "geo": {
           "bgcolor": "white",
           "lakecolor": "white",
           "landcolor": "#E5ECF6",
           "showlakes": true,
           "showland": true,
           "subunitcolor": "white"
          },
          "hoverlabel": {
           "align": "left"
          },
          "hovermode": "closest",
          "mapbox": {
           "style": "light"
          },
          "paper_bgcolor": "white",
          "plot_bgcolor": "#E5ECF6",
          "polar": {
           "angularaxis": {
            "gridcolor": "white",
            "linecolor": "white",
            "ticks": ""
           },
           "bgcolor": "#E5ECF6",
           "radialaxis": {
            "gridcolor": "white",
            "linecolor": "white",
            "ticks": ""
           }
          },
          "scene": {
           "xaxis": {
            "backgroundcolor": "#E5ECF6",
            "gridcolor": "white",
            "gridwidth": 2,
            "linecolor": "white",
            "showbackground": true,
            "ticks": "",
            "zerolinecolor": "white"
           },
           "yaxis": {
            "backgroundcolor": "#E5ECF6",
            "gridcolor": "white",
            "gridwidth": 2,
            "linecolor": "white",
            "showbackground": true,
            "ticks": "",
            "zerolinecolor": "white"
           },
           "zaxis": {
            "backgroundcolor": "#E5ECF6",
            "gridcolor": "white",
            "gridwidth": 2,
            "linecolor": "white",
            "showbackground": true,
            "ticks": "",
            "zerolinecolor": "white"
           }
          },
          "shapedefaults": {
           "line": {
            "color": "#2a3f5f"
           }
          },
          "ternary": {
           "aaxis": {
            "gridcolor": "white",
            "linecolor": "white",
            "ticks": ""
           },
           "baxis": {
            "gridcolor": "white",
            "linecolor": "white",
            "ticks": ""
           },
           "bgcolor": "#E5ECF6",
           "caxis": {
            "gridcolor": "white",
            "linecolor": "white",
            "ticks": ""
           }
          },
          "title": {
           "x": 0.05
          },
          "xaxis": {
           "automargin": true,
           "gridcolor": "white",
           "linecolor": "white",
           "ticks": "",
           "title": {
            "standoff": 15
           },
           "zerolinecolor": "white",
           "zerolinewidth": 2
          },
          "yaxis": {
           "automargin": true,
           "gridcolor": "white",
           "linecolor": "white",
           "ticks": "",
           "title": {
            "standoff": 15
           },
           "zerolinecolor": "white",
           "zerolinewidth": 2
          }
         }
        },
        "xaxis": {
         "anchor": "y",
         "domain": [
          0,
          1
         ]
        },
        "yaxis": {
         "anchor": "x",
         "domain": [
          0,
          1
         ],
         "title": {
          "text": "Preço"
         }
        }
       }
      }
     },
     "metadata": {},
     "output_type": "display_data"
    }
   ],
   "source": [
    "fig = px.box(df_clean_notebook, y=\"Preço\")\n",
    "fig.show()"
   ]
  },
  {
   "cell_type": "code",
   "execution_count": 434,
   "metadata": {},
   "outputs": [
    {
     "data": {
      "text/plain": [
       "(246, 7)"
      ]
     },
     "execution_count": 434,
     "metadata": {},
     "output_type": "execute_result"
    }
   ],
   "source": [
    "df_clean_notebook.shape"
   ]
  },
  {
   "cell_type": "markdown",
   "metadata": {},
   "source": [
    "# Tratando dados sobre smartphones"
   ]
  },
  {
   "cell_type": "code",
   "execution_count": 435,
   "metadata": {},
   "outputs": [
    {
     "data": {
      "text/html": [
       "<div>\n",
       "<style scoped>\n",
       "    .dataframe tbody tr th:only-of-type {\n",
       "        vertical-align: middle;\n",
       "    }\n",
       "\n",
       "    .dataframe tbody tr th {\n",
       "        vertical-align: top;\n",
       "    }\n",
       "\n",
       "    .dataframe thead th {\n",
       "        text-align: right;\n",
       "    }\n",
       "</style>\n",
       "<table border=\"1\" class=\"dataframe\">\n",
       "  <thead>\n",
       "    <tr style=\"text-align: right;\">\n",
       "      <th></th>\n",
       "      <th>Descrição</th>\n",
       "      <th>Preço</th>\n",
       "      <th>Estrelas</th>\n",
       "      <th>TotalReviews</th>\n",
       "      <th>Url</th>\n",
       "    </tr>\n",
       "  </thead>\n",
       "  <tbody>\n",
       "    <tr>\n",
       "      <th>0</th>\n",
       "      <td>Tripé Para Celular e Camera, Tripé Profissiona...</td>\n",
       "      <td>R$ 79,90</td>\n",
       "      <td>5,0 de 5 estrelas</td>\n",
       "      <td>5</td>\n",
       "      <td>https://www.amazon.com.br/gp/slredirect/picass...</td>\n",
       "    </tr>\n",
       "    <tr>\n",
       "      <th>1</th>\n",
       "      <td>Domary Mini teclado virtual de toque portátil ...</td>\n",
       "      <td>R$ 445,67</td>\n",
       "      <td>0</td>\n",
       "      <td>0</td>\n",
       "      <td>https://www.amazon.com.br/gp/slredirect/picass...</td>\n",
       "    </tr>\n",
       "    <tr>\n",
       "      <th>2</th>\n",
       "      <td>Domary Multifuncional de alta velocidade de 10...</td>\n",
       "      <td>R$ 148,77</td>\n",
       "      <td>0</td>\n",
       "      <td>0</td>\n",
       "      <td>https://www.amazon.com.br/gp/slredirect/picass...</td>\n",
       "    </tr>\n",
       "    <tr>\n",
       "      <th>3</th>\n",
       "      <td>Smartphone LG K41S 32GB, RAM de 3GB, Tela de 6...</td>\n",
       "      <td>R$ 799,00</td>\n",
       "      <td>4,6 de 5 estrelas</td>\n",
       "      <td>1.371</td>\n",
       "      <td>https://www.amazon.com.br/Smartphone-LG-Qu%C3%...</td>\n",
       "    </tr>\n",
       "    <tr>\n",
       "      <th>4</th>\n",
       "      <td>Smartphone Positivo Q20, 4Gb Ram, 128Gb, Tela ...</td>\n",
       "      <td>R$ 799,00</td>\n",
       "      <td>4,1 de 5 estrelas</td>\n",
       "      <td>853</td>\n",
       "      <td>https://www.amazon.com.br/Smartphone-Positivo-...</td>\n",
       "    </tr>\n",
       "  </tbody>\n",
       "</table>\n",
       "</div>"
      ],
      "text/plain": [
       "                                           Descrição      Preço  \\\n",
       "0  Tripé Para Celular e Camera, Tripé Profissiona...   R$ 79,90   \n",
       "1  Domary Mini teclado virtual de toque portátil ...  R$ 445,67   \n",
       "2  Domary Multifuncional de alta velocidade de 10...  R$ 148,77   \n",
       "3  Smartphone LG K41S 32GB, RAM de 3GB, Tela de 6...  R$ 799,00   \n",
       "4  Smartphone Positivo Q20, 4Gb Ram, 128Gb, Tela ...  R$ 799,00   \n",
       "\n",
       "            Estrelas TotalReviews  \\\n",
       "0  5,0 de 5 estrelas            5   \n",
       "1                  0            0   \n",
       "2                  0            0   \n",
       "3  4,6 de 5 estrelas        1.371   \n",
       "4  4,1 de 5 estrelas          853   \n",
       "\n",
       "                                                 Url  \n",
       "0  https://www.amazon.com.br/gp/slredirect/picass...  \n",
       "1  https://www.amazon.com.br/gp/slredirect/picass...  \n",
       "2  https://www.amazon.com.br/gp/slredirect/picass...  \n",
       "3  https://www.amazon.com.br/Smartphone-LG-Qu%C3%...  \n",
       "4  https://www.amazon.com.br/Smartphone-Positivo-...  "
      ]
     },
     "execution_count": 435,
     "metadata": {},
     "output_type": "execute_result"
    }
   ],
   "source": [
    "dados_smartphone = pd.read_csv('output/dataset_smartphone.csv',sep=';')\n",
    "dados_smartphone.head()"
   ]
  },
  {
   "cell_type": "code",
   "execution_count": 436,
   "metadata": {},
   "outputs": [
    {
     "data": {
      "text/html": [
       "<div>\n",
       "<style scoped>\n",
       "    .dataframe tbody tr th:only-of-type {\n",
       "        vertical-align: middle;\n",
       "    }\n",
       "\n",
       "    .dataframe tbody tr th {\n",
       "        vertical-align: top;\n",
       "    }\n",
       "\n",
       "    .dataframe thead th {\n",
       "        text-align: right;\n",
       "    }\n",
       "</style>\n",
       "<table border=\"1\" class=\"dataframe\">\n",
       "  <thead>\n",
       "    <tr style=\"text-align: right;\">\n",
       "      <th></th>\n",
       "      <th>Descrição</th>\n",
       "      <th>Preço</th>\n",
       "      <th>Estrelas</th>\n",
       "      <th>TotalReviews</th>\n",
       "      <th>Url</th>\n",
       "    </tr>\n",
       "  </thead>\n",
       "  <tbody>\n",
       "    <tr>\n",
       "      <th>0</th>\n",
       "      <td>Tripé Para Celular e Camera, Tripé Profissiona...</td>\n",
       "      <td>79.90</td>\n",
       "      <td>5.0</td>\n",
       "      <td>5.0</td>\n",
       "      <td>https://www.amazon.com.br/gp/slredirect/picass...</td>\n",
       "    </tr>\n",
       "    <tr>\n",
       "      <th>1</th>\n",
       "      <td>Domary Mini teclado virtual de toque portátil ...</td>\n",
       "      <td>445.67</td>\n",
       "      <td>0.0</td>\n",
       "      <td>0.0</td>\n",
       "      <td>https://www.amazon.com.br/gp/slredirect/picass...</td>\n",
       "    </tr>\n",
       "    <tr>\n",
       "      <th>2</th>\n",
       "      <td>Domary Multifuncional de alta velocidade de 10...</td>\n",
       "      <td>148.77</td>\n",
       "      <td>0.0</td>\n",
       "      <td>0.0</td>\n",
       "      <td>https://www.amazon.com.br/gp/slredirect/picass...</td>\n",
       "    </tr>\n",
       "    <tr>\n",
       "      <th>3</th>\n",
       "      <td>Smartphone LG K41S 32GB, RAM de 3GB, Tela de 6...</td>\n",
       "      <td>799.00</td>\n",
       "      <td>4.6</td>\n",
       "      <td>1371.0</td>\n",
       "      <td>https://www.amazon.com.br/Smartphone-LG-Qu%C3%...</td>\n",
       "    </tr>\n",
       "    <tr>\n",
       "      <th>4</th>\n",
       "      <td>Smartphone Positivo Q20, 4Gb Ram, 128Gb, Tela ...</td>\n",
       "      <td>799.00</td>\n",
       "      <td>4.1</td>\n",
       "      <td>853.0</td>\n",
       "      <td>https://www.amazon.com.br/Smartphone-Positivo-...</td>\n",
       "    </tr>\n",
       "    <tr>\n",
       "      <th>...</th>\n",
       "      <td>...</td>\n",
       "      <td>...</td>\n",
       "      <td>...</td>\n",
       "      <td>...</td>\n",
       "      <td>...</td>\n",
       "    </tr>\n",
       "    <tr>\n",
       "      <th>898</th>\n",
       "      <td>Alarme, 2 Controles, Bluetooth/Resgate, Positr...</td>\n",
       "      <td>307.80</td>\n",
       "      <td>4.7</td>\n",
       "      <td>94.0</td>\n",
       "      <td>https://www.amazon.com.br/Alarme-Automotivo-Cy...</td>\n",
       "    </tr>\n",
       "    <tr>\n",
       "      <th>899</th>\n",
       "      <td>Ciclocomputador GPS Garmin Edge 530 Bundle com...</td>\n",
       "      <td>2722.00</td>\n",
       "      <td>4.7</td>\n",
       "      <td>288.0</td>\n",
       "      <td>https://www.amazon.com.br/Garmin-Edge-530-Bund...</td>\n",
       "    </tr>\n",
       "    <tr>\n",
       "      <th>900</th>\n",
       "      <td>Smartphone com tela de 4,66 polegadas, cartões...</td>\n",
       "      <td>326.19</td>\n",
       "      <td>0.0</td>\n",
       "      <td>0.0</td>\n",
       "      <td>https://www.amazon.com.br/gp/slredirect/picass...</td>\n",
       "    </tr>\n",
       "    <tr>\n",
       "      <th>901</th>\n",
       "      <td>Smartphone com tela de 4,66 polegadas, Smartph...</td>\n",
       "      <td>322.69</td>\n",
       "      <td>0.0</td>\n",
       "      <td>0.0</td>\n",
       "      <td>https://www.amazon.com.br/gp/slredirect/picass...</td>\n",
       "    </tr>\n",
       "    <tr>\n",
       "      <th>902</th>\n",
       "      <td>Smartphone, cartão SIM 3G 5MP + câmera 2MP Tel...</td>\n",
       "      <td>664.49</td>\n",
       "      <td>0.0</td>\n",
       "      <td>0.0</td>\n",
       "      <td>https://www.amazon.com.br/gp/slredirect/picass...</td>\n",
       "    </tr>\n",
       "  </tbody>\n",
       "</table>\n",
       "<p>903 rows × 5 columns</p>\n",
       "</div>"
      ],
      "text/plain": [
       "                                             Descrição    Preço  Estrelas  \\\n",
       "0    Tripé Para Celular e Camera, Tripé Profissiona...    79.90       5.0   \n",
       "1    Domary Mini teclado virtual de toque portátil ...   445.67       0.0   \n",
       "2    Domary Multifuncional de alta velocidade de 10...   148.77       0.0   \n",
       "3    Smartphone LG K41S 32GB, RAM de 3GB, Tela de 6...   799.00       4.6   \n",
       "4    Smartphone Positivo Q20, 4Gb Ram, 128Gb, Tela ...   799.00       4.1   \n",
       "..                                                 ...      ...       ...   \n",
       "898  Alarme, 2 Controles, Bluetooth/Resgate, Positr...   307.80       4.7   \n",
       "899  Ciclocomputador GPS Garmin Edge 530 Bundle com...  2722.00       4.7   \n",
       "900  Smartphone com tela de 4,66 polegadas, cartões...   326.19       0.0   \n",
       "901  Smartphone com tela de 4,66 polegadas, Smartph...   322.69       0.0   \n",
       "902  Smartphone, cartão SIM 3G 5MP + câmera 2MP Tel...   664.49       0.0   \n",
       "\n",
       "     TotalReviews                                                Url  \n",
       "0             5.0  https://www.amazon.com.br/gp/slredirect/picass...  \n",
       "1             0.0  https://www.amazon.com.br/gp/slredirect/picass...  \n",
       "2             0.0  https://www.amazon.com.br/gp/slredirect/picass...  \n",
       "3          1371.0  https://www.amazon.com.br/Smartphone-LG-Qu%C3%...  \n",
       "4           853.0  https://www.amazon.com.br/Smartphone-Positivo-...  \n",
       "..            ...                                                ...  \n",
       "898          94.0  https://www.amazon.com.br/Alarme-Automotivo-Cy...  \n",
       "899         288.0  https://www.amazon.com.br/Garmin-Edge-530-Bund...  \n",
       "900           0.0  https://www.amazon.com.br/gp/slredirect/picass...  \n",
       "901           0.0  https://www.amazon.com.br/gp/slredirect/picass...  \n",
       "902           0.0  https://www.amazon.com.br/gp/slredirect/picass...  \n",
       "\n",
       "[903 rows x 5 columns]"
      ]
     },
     "execution_count": 436,
     "metadata": {},
     "output_type": "execute_result"
    }
   ],
   "source": [
    "arruma_df(dados_smartphone)"
   ]
  },
  {
   "cell_type": "code",
   "execution_count": 437,
   "metadata": {},
   "outputs": [
    {
     "data": {
      "text/plain": [
       "Descrição        0\n",
       "Preço            0\n",
       "Estrelas        10\n",
       "TotalReviews    10\n",
       "Url              0\n",
       "dtype: int64"
      ]
     },
     "execution_count": 437,
     "metadata": {},
     "output_type": "execute_result"
    }
   ],
   "source": [
    "dados_smartphone.isna().sum()"
   ]
  },
  {
   "cell_type": "code",
   "execution_count": 438,
   "metadata": {},
   "outputs": [],
   "source": [
    "dados_smartphone.fillna(0, inplace=True)\n",
    "dados_smartphone_old = dados_smartphone"
   ]
  },
  {
   "cell_type": "code",
   "execution_count": 439,
   "metadata": {},
   "outputs": [
    {
     "data": {
      "text/html": [
       "<div>\n",
       "<style scoped>\n",
       "    .dataframe tbody tr th:only-of-type {\n",
       "        vertical-align: middle;\n",
       "    }\n",
       "\n",
       "    .dataframe tbody tr th {\n",
       "        vertical-align: top;\n",
       "    }\n",
       "\n",
       "    .dataframe thead th {\n",
       "        text-align: right;\n",
       "    }\n",
       "</style>\n",
       "<table border=\"1\" class=\"dataframe\">\n",
       "  <thead>\n",
       "    <tr style=\"text-align: right;\">\n",
       "      <th></th>\n",
       "      <th>Descrição</th>\n",
       "      <th>Preço</th>\n",
       "      <th>Estrelas</th>\n",
       "      <th>TotalReviews</th>\n",
       "      <th>Url</th>\n",
       "    </tr>\n",
       "  </thead>\n",
       "  <tbody>\n",
       "    <tr>\n",
       "      <th>0</th>\n",
       "      <td>Smartphone LG K41S 32GB, RAM de 3GB, Tela de 6...</td>\n",
       "      <td>799.0</td>\n",
       "      <td>4.6</td>\n",
       "      <td>1371.0</td>\n",
       "      <td>https://www.amazon.com.br/Smartphone-LG-Qu%C3%...</td>\n",
       "    </tr>\n",
       "    <tr>\n",
       "      <th>1</th>\n",
       "      <td>Smartphone Positivo Q20, 4Gb Ram, 128Gb, Tela ...</td>\n",
       "      <td>799.0</td>\n",
       "      <td>4.1</td>\n",
       "      <td>853.0</td>\n",
       "      <td>https://www.amazon.com.br/Smartphone-Positivo-...</td>\n",
       "    </tr>\n",
       "    <tr>\n",
       "      <th>2</th>\n",
       "      <td>Smartphone ASUS Zenfone Max Pro M2, 6GB 64GB, ...</td>\n",
       "      <td>1299.0</td>\n",
       "      <td>4.5</td>\n",
       "      <td>452.0</td>\n",
       "      <td>https://www.amazon.com.br/Zenfone-Max-Pro-M2-6...</td>\n",
       "    </tr>\n",
       "    <tr>\n",
       "      <th>3</th>\n",
       "      <td>Smartphone Xiaomi Redmi 9 India 64GB 4GB RAM T...</td>\n",
       "      <td>1005.9</td>\n",
       "      <td>4.3</td>\n",
       "      <td>101.0</td>\n",
       "      <td>https://www.amazon.com.br/Smartphone-Xiaomi-Re...</td>\n",
       "    </tr>\n",
       "    <tr>\n",
       "      <th>4</th>\n",
       "      <td>Smartphone Xiaomi Redmi Note 8 4RAM 64GB Tela ...</td>\n",
       "      <td>1199.0</td>\n",
       "      <td>4.8</td>\n",
       "      <td>40979.0</td>\n",
       "      <td>https://www.amazon.com.br/Smartphone-Xiaomi-Re...</td>\n",
       "    </tr>\n",
       "  </tbody>\n",
       "</table>\n",
       "</div>"
      ],
      "text/plain": [
       "                                           Descrição   Preço  Estrelas  \\\n",
       "0  Smartphone LG K41S 32GB, RAM de 3GB, Tela de 6...   799.0       4.6   \n",
       "1  Smartphone Positivo Q20, 4Gb Ram, 128Gb, Tela ...   799.0       4.1   \n",
       "2  Smartphone ASUS Zenfone Max Pro M2, 6GB 64GB, ...  1299.0       4.5   \n",
       "3  Smartphone Xiaomi Redmi 9 India 64GB 4GB RAM T...  1005.9       4.3   \n",
       "4  Smartphone Xiaomi Redmi Note 8 4RAM 64GB Tela ...  1199.0       4.8   \n",
       "\n",
       "   TotalReviews                                                Url  \n",
       "0        1371.0  https://www.amazon.com.br/Smartphone-LG-Qu%C3%...  \n",
       "1         853.0  https://www.amazon.com.br/Smartphone-Positivo-...  \n",
       "2         452.0  https://www.amazon.com.br/Zenfone-Max-Pro-M2-6...  \n",
       "3         101.0  https://www.amazon.com.br/Smartphone-Xiaomi-Re...  \n",
       "4       40979.0  https://www.amazon.com.br/Smartphone-Xiaomi-Re...  "
      ]
     },
     "execution_count": 439,
     "metadata": {},
     "output_type": "execute_result"
    }
   ],
   "source": [
    "dados_smartphone.query('Preço > 500.00',inplace=True)\n",
    "dados_smartphone.reset_index(drop=True, inplace=True)\n",
    "dados_smartphone.head()"
   ]
  },
  {
   "cell_type": "code",
   "execution_count": 440,
   "metadata": {},
   "outputs": [],
   "source": [
    "dados_smartphone['Loja'] = 'Amazon'\n",
    "dados_smartphone['Categoria'] = 'Smartphone'\n",
    "dados_smartphone.drop(dados_smartphone.index[299:],inplace=True)"
   ]
  },
  {
   "cell_type": "markdown",
   "metadata": {},
   "source": [
    "## Removendo outliers dados sobre smartphone"
   ]
  },
  {
   "cell_type": "code",
   "execution_count": 441,
   "metadata": {},
   "outputs": [
    {
     "data": {
      "application/vnd.plotly.v1+json": {
       "config": {
        "plotlyServerURL": "https://plot.ly"
       },
       "data": [
        {
         "alignmentgroup": "True",
         "hovertemplate": "Preço=%{y}<extra></extra>",
         "legendgroup": "",
         "marker": {
          "color": "#636efa"
         },
         "name": "",
         "notched": true,
         "offsetgroup": "",
         "orientation": "v",
         "showlegend": false,
         "type": "box",
         "x0": " ",
         "xaxis": "x",
         "y": [
          799,
          799,
          1299,
          1005.9,
          1199,
          1229,
          899,
          1149,
          1980,
          522.09,
          505,
          1399.99,
          829,
          1477.99,
          1380.86,
          889,
          1750,
          1960,
          1189,
          1254.58,
          989,
          899.99,
          969,
          1399,
          824.9,
          749,
          1779,
          1099,
          1569.9,
          1249.9,
          829,
          1595.25,
          729.88,
          1015,
          1749,
          1375,
          1606.98,
          849.99,
          1547.77,
          1409,
          1209.9,
          1146.9,
          1241.98,
          1999,
          517.11,
          1510,
          1038,
          3980,
          1399,
          2180,
          789,
          1799,
          718.9,
          899.97,
          2369,
          1208.6,
          1590,
          1549,
          1529,
          1259.99,
          1570,
          850,
          1999,
          1249.9,
          1219,
          1188,
          523.19,
          1206.46,
          1559,
          1099,
          1640,
          1036.9,
          994.89,
          1550,
          2854.98,
          2150,
          1338.28,
          1182,
          1099,
          1999.01,
          1198,
          1149,
          1099.99,
          1209,
          1252,
          1985,
          1159,
          524.9,
          1198.9,
          1215.5,
          675,
          1210,
          719,
          2809.9,
          886.38,
          1079.69,
          2009,
          1049,
          589,
          2167,
          685,
          1129,
          1148.8,
          2035.9,
          1299.9,
          1519,
          1696.9,
          1799,
          2362.9,
          1696,
          1861.4,
          1189.9,
          1799,
          2089,
          947.5,
          997.5,
          859.9,
          1656,
          1449,
          1099,
          1249,
          698.9,
          1164,
          1697.9,
          849,
          2333.48,
          3250,
          2085.25,
          1490,
          1638.9,
          1247,
          1749,
          538,
          1208.99,
          1540,
          872.39,
          947.5,
          997.5,
          959.9,
          990,
          785.2,
          1789.99,
          1529.99,
          2242.9,
          1549,
          1239.28,
          1581,
          946.74,
          2550,
          1719.9,
          789,
          1669.39,
          1669.99,
          1029,
          922.09,
          1529.99,
          999,
          1099,
          1525,
          1269.9,
          664.49,
          1059,
          1179,
          1695.67,
          1263.9,
          859.14,
          610.53,
          1150,
          2254.99,
          1829.99,
          629,
          1696.9,
          1696,
          1688,
          916.98,
          6299,
          1099,
          7599,
          829,
          682.12,
          698.39,
          1054,
          1419.9,
          569,
          3222.95,
          599,
          2739,
          1375.98,
          1540,
          4999,
          1699,
          869.9,
          759,
          574.9,
          1478.9,
          899,
          1590,
          522.09,
          1738,
          698.69,
          664.89,
          1039.99,
          2499,
          1778,
          1599.9,
          763.9,
          2514.9,
          2038.98,
          1007,
          4270.84,
          1029,
          699.29,
          2549.9,
          1049,
          1335,
          1029,
          899.9,
          2340,
          743.73,
          3450,
          899.9,
          2899.9,
          6899,
          1794,
          664.49,
          1499,
          989.99,
          1599,
          790.36,
          698.39,
          665.79,
          2099,
          633.99,
          1599.9,
          914.32,
          959.92,
          1399.99,
          997,
          1429,
          1349,
          565,
          799,
          1649.99,
          643.93,
          1908.9,
          1409,
          1299,
          1599,
          2424.9,
          1799,
          2939,
          1749,
          4399.9,
          1359.99,
          799,
          1199.99,
          1738.9,
          1743,
          675,
          1031.37,
          2589.22,
          1699.9,
          1734,
          999,
          699,
          1196.49,
          1230.9,
          1272.52,
          815.59,
          1525,
          2698,
          1199.99,
          1409,
          1713,
          3983.85,
          1379,
          1419,
          1826.25,
          749,
          1599,
          1249.9,
          5599.9,
          1189,
          899.9,
          4699.9,
          1239,
          1749,
          1079,
          1779,
          5599.9,
          925,
          899.99,
          829,
          1559,
          685.14,
          1898,
          2730,
          2539.99,
          663.73
         ],
         "y0": " ",
         "yaxis": "y"
        }
       ],
       "layout": {
        "boxmode": "group",
        "legend": {
         "tracegroupgap": 0
        },
        "margin": {
         "t": 60
        },
        "template": {
         "data": {
          "bar": [
           {
            "error_x": {
             "color": "#2a3f5f"
            },
            "error_y": {
             "color": "#2a3f5f"
            },
            "marker": {
             "line": {
              "color": "#E5ECF6",
              "width": 0.5
             },
             "pattern": {
              "fillmode": "overlay",
              "size": 10,
              "solidity": 0.2
             }
            },
            "type": "bar"
           }
          ],
          "barpolar": [
           {
            "marker": {
             "line": {
              "color": "#E5ECF6",
              "width": 0.5
             },
             "pattern": {
              "fillmode": "overlay",
              "size": 10,
              "solidity": 0.2
             }
            },
            "type": "barpolar"
           }
          ],
          "carpet": [
           {
            "aaxis": {
             "endlinecolor": "#2a3f5f",
             "gridcolor": "white",
             "linecolor": "white",
             "minorgridcolor": "white",
             "startlinecolor": "#2a3f5f"
            },
            "baxis": {
             "endlinecolor": "#2a3f5f",
             "gridcolor": "white",
             "linecolor": "white",
             "minorgridcolor": "white",
             "startlinecolor": "#2a3f5f"
            },
            "type": "carpet"
           }
          ],
          "choropleth": [
           {
            "colorbar": {
             "outlinewidth": 0,
             "ticks": ""
            },
            "type": "choropleth"
           }
          ],
          "contour": [
           {
            "colorbar": {
             "outlinewidth": 0,
             "ticks": ""
            },
            "colorscale": [
             [
              0,
              "#0d0887"
             ],
             [
              0.1111111111111111,
              "#46039f"
             ],
             [
              0.2222222222222222,
              "#7201a8"
             ],
             [
              0.3333333333333333,
              "#9c179e"
             ],
             [
              0.4444444444444444,
              "#bd3786"
             ],
             [
              0.5555555555555556,
              "#d8576b"
             ],
             [
              0.6666666666666666,
              "#ed7953"
             ],
             [
              0.7777777777777778,
              "#fb9f3a"
             ],
             [
              0.8888888888888888,
              "#fdca26"
             ],
             [
              1,
              "#f0f921"
             ]
            ],
            "type": "contour"
           }
          ],
          "contourcarpet": [
           {
            "colorbar": {
             "outlinewidth": 0,
             "ticks": ""
            },
            "type": "contourcarpet"
           }
          ],
          "heatmap": [
           {
            "colorbar": {
             "outlinewidth": 0,
             "ticks": ""
            },
            "colorscale": [
             [
              0,
              "#0d0887"
             ],
             [
              0.1111111111111111,
              "#46039f"
             ],
             [
              0.2222222222222222,
              "#7201a8"
             ],
             [
              0.3333333333333333,
              "#9c179e"
             ],
             [
              0.4444444444444444,
              "#bd3786"
             ],
             [
              0.5555555555555556,
              "#d8576b"
             ],
             [
              0.6666666666666666,
              "#ed7953"
             ],
             [
              0.7777777777777778,
              "#fb9f3a"
             ],
             [
              0.8888888888888888,
              "#fdca26"
             ],
             [
              1,
              "#f0f921"
             ]
            ],
            "type": "heatmap"
           }
          ],
          "heatmapgl": [
           {
            "colorbar": {
             "outlinewidth": 0,
             "ticks": ""
            },
            "colorscale": [
             [
              0,
              "#0d0887"
             ],
             [
              0.1111111111111111,
              "#46039f"
             ],
             [
              0.2222222222222222,
              "#7201a8"
             ],
             [
              0.3333333333333333,
              "#9c179e"
             ],
             [
              0.4444444444444444,
              "#bd3786"
             ],
             [
              0.5555555555555556,
              "#d8576b"
             ],
             [
              0.6666666666666666,
              "#ed7953"
             ],
             [
              0.7777777777777778,
              "#fb9f3a"
             ],
             [
              0.8888888888888888,
              "#fdca26"
             ],
             [
              1,
              "#f0f921"
             ]
            ],
            "type": "heatmapgl"
           }
          ],
          "histogram": [
           {
            "marker": {
             "pattern": {
              "fillmode": "overlay",
              "size": 10,
              "solidity": 0.2
             }
            },
            "type": "histogram"
           }
          ],
          "histogram2d": [
           {
            "colorbar": {
             "outlinewidth": 0,
             "ticks": ""
            },
            "colorscale": [
             [
              0,
              "#0d0887"
             ],
             [
              0.1111111111111111,
              "#46039f"
             ],
             [
              0.2222222222222222,
              "#7201a8"
             ],
             [
              0.3333333333333333,
              "#9c179e"
             ],
             [
              0.4444444444444444,
              "#bd3786"
             ],
             [
              0.5555555555555556,
              "#d8576b"
             ],
             [
              0.6666666666666666,
              "#ed7953"
             ],
             [
              0.7777777777777778,
              "#fb9f3a"
             ],
             [
              0.8888888888888888,
              "#fdca26"
             ],
             [
              1,
              "#f0f921"
             ]
            ],
            "type": "histogram2d"
           }
          ],
          "histogram2dcontour": [
           {
            "colorbar": {
             "outlinewidth": 0,
             "ticks": ""
            },
            "colorscale": [
             [
              0,
              "#0d0887"
             ],
             [
              0.1111111111111111,
              "#46039f"
             ],
             [
              0.2222222222222222,
              "#7201a8"
             ],
             [
              0.3333333333333333,
              "#9c179e"
             ],
             [
              0.4444444444444444,
              "#bd3786"
             ],
             [
              0.5555555555555556,
              "#d8576b"
             ],
             [
              0.6666666666666666,
              "#ed7953"
             ],
             [
              0.7777777777777778,
              "#fb9f3a"
             ],
             [
              0.8888888888888888,
              "#fdca26"
             ],
             [
              1,
              "#f0f921"
             ]
            ],
            "type": "histogram2dcontour"
           }
          ],
          "mesh3d": [
           {
            "colorbar": {
             "outlinewidth": 0,
             "ticks": ""
            },
            "type": "mesh3d"
           }
          ],
          "parcoords": [
           {
            "line": {
             "colorbar": {
              "outlinewidth": 0,
              "ticks": ""
             }
            },
            "type": "parcoords"
           }
          ],
          "pie": [
           {
            "automargin": true,
            "type": "pie"
           }
          ],
          "scatter": [
           {
            "marker": {
             "colorbar": {
              "outlinewidth": 0,
              "ticks": ""
             }
            },
            "type": "scatter"
           }
          ],
          "scatter3d": [
           {
            "line": {
             "colorbar": {
              "outlinewidth": 0,
              "ticks": ""
             }
            },
            "marker": {
             "colorbar": {
              "outlinewidth": 0,
              "ticks": ""
             }
            },
            "type": "scatter3d"
           }
          ],
          "scattercarpet": [
           {
            "marker": {
             "colorbar": {
              "outlinewidth": 0,
              "ticks": ""
             }
            },
            "type": "scattercarpet"
           }
          ],
          "scattergeo": [
           {
            "marker": {
             "colorbar": {
              "outlinewidth": 0,
              "ticks": ""
             }
            },
            "type": "scattergeo"
           }
          ],
          "scattergl": [
           {
            "marker": {
             "colorbar": {
              "outlinewidth": 0,
              "ticks": ""
             }
            },
            "type": "scattergl"
           }
          ],
          "scattermapbox": [
           {
            "marker": {
             "colorbar": {
              "outlinewidth": 0,
              "ticks": ""
             }
            },
            "type": "scattermapbox"
           }
          ],
          "scatterpolar": [
           {
            "marker": {
             "colorbar": {
              "outlinewidth": 0,
              "ticks": ""
             }
            },
            "type": "scatterpolar"
           }
          ],
          "scatterpolargl": [
           {
            "marker": {
             "colorbar": {
              "outlinewidth": 0,
              "ticks": ""
             }
            },
            "type": "scatterpolargl"
           }
          ],
          "scatterternary": [
           {
            "marker": {
             "colorbar": {
              "outlinewidth": 0,
              "ticks": ""
             }
            },
            "type": "scatterternary"
           }
          ],
          "surface": [
           {
            "colorbar": {
             "outlinewidth": 0,
             "ticks": ""
            },
            "colorscale": [
             [
              0,
              "#0d0887"
             ],
             [
              0.1111111111111111,
              "#46039f"
             ],
             [
              0.2222222222222222,
              "#7201a8"
             ],
             [
              0.3333333333333333,
              "#9c179e"
             ],
             [
              0.4444444444444444,
              "#bd3786"
             ],
             [
              0.5555555555555556,
              "#d8576b"
             ],
             [
              0.6666666666666666,
              "#ed7953"
             ],
             [
              0.7777777777777778,
              "#fb9f3a"
             ],
             [
              0.8888888888888888,
              "#fdca26"
             ],
             [
              1,
              "#f0f921"
             ]
            ],
            "type": "surface"
           }
          ],
          "table": [
           {
            "cells": {
             "fill": {
              "color": "#EBF0F8"
             },
             "line": {
              "color": "white"
             }
            },
            "header": {
             "fill": {
              "color": "#C8D4E3"
             },
             "line": {
              "color": "white"
             }
            },
            "type": "table"
           }
          ]
         },
         "layout": {
          "annotationdefaults": {
           "arrowcolor": "#2a3f5f",
           "arrowhead": 0,
           "arrowwidth": 1
          },
          "autotypenumbers": "strict",
          "coloraxis": {
           "colorbar": {
            "outlinewidth": 0,
            "ticks": ""
           }
          },
          "colorscale": {
           "diverging": [
            [
             0,
             "#8e0152"
            ],
            [
             0.1,
             "#c51b7d"
            ],
            [
             0.2,
             "#de77ae"
            ],
            [
             0.3,
             "#f1b6da"
            ],
            [
             0.4,
             "#fde0ef"
            ],
            [
             0.5,
             "#f7f7f7"
            ],
            [
             0.6,
             "#e6f5d0"
            ],
            [
             0.7,
             "#b8e186"
            ],
            [
             0.8,
             "#7fbc41"
            ],
            [
             0.9,
             "#4d9221"
            ],
            [
             1,
             "#276419"
            ]
           ],
           "sequential": [
            [
             0,
             "#0d0887"
            ],
            [
             0.1111111111111111,
             "#46039f"
            ],
            [
             0.2222222222222222,
             "#7201a8"
            ],
            [
             0.3333333333333333,
             "#9c179e"
            ],
            [
             0.4444444444444444,
             "#bd3786"
            ],
            [
             0.5555555555555556,
             "#d8576b"
            ],
            [
             0.6666666666666666,
             "#ed7953"
            ],
            [
             0.7777777777777778,
             "#fb9f3a"
            ],
            [
             0.8888888888888888,
             "#fdca26"
            ],
            [
             1,
             "#f0f921"
            ]
           ],
           "sequentialminus": [
            [
             0,
             "#0d0887"
            ],
            [
             0.1111111111111111,
             "#46039f"
            ],
            [
             0.2222222222222222,
             "#7201a8"
            ],
            [
             0.3333333333333333,
             "#9c179e"
            ],
            [
             0.4444444444444444,
             "#bd3786"
            ],
            [
             0.5555555555555556,
             "#d8576b"
            ],
            [
             0.6666666666666666,
             "#ed7953"
            ],
            [
             0.7777777777777778,
             "#fb9f3a"
            ],
            [
             0.8888888888888888,
             "#fdca26"
            ],
            [
             1,
             "#f0f921"
            ]
           ]
          },
          "colorway": [
           "#636efa",
           "#EF553B",
           "#00cc96",
           "#ab63fa",
           "#FFA15A",
           "#19d3f3",
           "#FF6692",
           "#B6E880",
           "#FF97FF",
           "#FECB52"
          ],
          "font": {
           "color": "#2a3f5f"
          },
          "geo": {
           "bgcolor": "white",
           "lakecolor": "white",
           "landcolor": "#E5ECF6",
           "showlakes": true,
           "showland": true,
           "subunitcolor": "white"
          },
          "hoverlabel": {
           "align": "left"
          },
          "hovermode": "closest",
          "mapbox": {
           "style": "light"
          },
          "paper_bgcolor": "white",
          "plot_bgcolor": "#E5ECF6",
          "polar": {
           "angularaxis": {
            "gridcolor": "white",
            "linecolor": "white",
            "ticks": ""
           },
           "bgcolor": "#E5ECF6",
           "radialaxis": {
            "gridcolor": "white",
            "linecolor": "white",
            "ticks": ""
           }
          },
          "scene": {
           "xaxis": {
            "backgroundcolor": "#E5ECF6",
            "gridcolor": "white",
            "gridwidth": 2,
            "linecolor": "white",
            "showbackground": true,
            "ticks": "",
            "zerolinecolor": "white"
           },
           "yaxis": {
            "backgroundcolor": "#E5ECF6",
            "gridcolor": "white",
            "gridwidth": 2,
            "linecolor": "white",
            "showbackground": true,
            "ticks": "",
            "zerolinecolor": "white"
           },
           "zaxis": {
            "backgroundcolor": "#E5ECF6",
            "gridcolor": "white",
            "gridwidth": 2,
            "linecolor": "white",
            "showbackground": true,
            "ticks": "",
            "zerolinecolor": "white"
           }
          },
          "shapedefaults": {
           "line": {
            "color": "#2a3f5f"
           }
          },
          "ternary": {
           "aaxis": {
            "gridcolor": "white",
            "linecolor": "white",
            "ticks": ""
           },
           "baxis": {
            "gridcolor": "white",
            "linecolor": "white",
            "ticks": ""
           },
           "bgcolor": "#E5ECF6",
           "caxis": {
            "gridcolor": "white",
            "linecolor": "white",
            "ticks": ""
           }
          },
          "title": {
           "x": 0.05
          },
          "xaxis": {
           "automargin": true,
           "gridcolor": "white",
           "linecolor": "white",
           "ticks": "",
           "title": {
            "standoff": 15
           },
           "zerolinecolor": "white",
           "zerolinewidth": 2
          },
          "yaxis": {
           "automargin": true,
           "gridcolor": "white",
           "linecolor": "white",
           "ticks": "",
           "title": {
            "standoff": 15
           },
           "zerolinecolor": "white",
           "zerolinewidth": 2
          }
         }
        },
        "xaxis": {
         "anchor": "y",
         "domain": [
          0,
          1
         ]
        },
        "yaxis": {
         "anchor": "x",
         "domain": [
          0,
          1
         ],
         "title": {
          "text": "Preço"
         }
        }
       }
      }
     },
     "metadata": {},
     "output_type": "display_data"
    }
   ],
   "source": [
    "fig = px.box(dados_smartphone, y=\"Preço\", notched=True)\n",
    "fig.show()"
   ]
  },
  {
   "cell_type": "code",
   "execution_count": 442,
   "metadata": {},
   "outputs": [
    {
     "name": "stdout",
     "output_type": "stream",
     "text": [
      "Quantidade de outliers:  17\n"
     ]
    }
   ],
   "source": [
    "outliers_index_list_smartphone = outliers_index_l(dados_smartphone)\n",
    "df_clean_smartphone = remove_outliers(dados_smartphone, outliers_index_list_smartphone)"
   ]
  },
  {
   "cell_type": "code",
   "execution_count": 443,
   "metadata": {},
   "outputs": [
    {
     "data": {
      "application/vnd.plotly.v1+json": {
       "config": {
        "plotlyServerURL": "https://plot.ly"
       },
       "data": [
        {
         "alignmentgroup": "True",
         "hovertemplate": "Preço=%{y}<extra></extra>",
         "legendgroup": "",
         "marker": {
          "color": "#636efa"
         },
         "name": "",
         "notched": true,
         "offsetgroup": "",
         "orientation": "v",
         "showlegend": false,
         "type": "box",
         "x0": " ",
         "xaxis": "x",
         "y": [
          799,
          799,
          1299,
          1005.9,
          1199,
          1229,
          899,
          1149,
          1980,
          522.09,
          505,
          1399.99,
          829,
          1477.99,
          1380.86,
          889,
          1750,
          1960,
          1189,
          1254.58,
          989,
          899.99,
          969,
          1399,
          824.9,
          749,
          1779,
          1099,
          1569.9,
          1249.9,
          829,
          1595.25,
          729.88,
          1015,
          1749,
          1375,
          1606.98,
          849.99,
          1547.77,
          1409,
          1209.9,
          1146.9,
          1241.98,
          1999,
          517.11,
          1510,
          1038,
          1399,
          2180,
          789,
          1799,
          718.9,
          899.97,
          2369,
          1208.6,
          1590,
          1549,
          1529,
          1259.99,
          1570,
          850,
          1999,
          1249.9,
          1219,
          1188,
          523.19,
          1206.46,
          1559,
          1099,
          1640,
          1036.9,
          994.89,
          1550,
          2150,
          1338.28,
          1182,
          1099,
          1999.01,
          1198,
          1149,
          1099.99,
          1209,
          1252,
          1985,
          1159,
          524.9,
          1198.9,
          1215.5,
          675,
          1210,
          719,
          2809.9,
          886.38,
          1079.69,
          2009,
          1049,
          589,
          2167,
          685,
          1129,
          1148.8,
          2035.9,
          1299.9,
          1519,
          1696.9,
          1799,
          2362.9,
          1696,
          1861.4,
          1189.9,
          1799,
          2089,
          947.5,
          997.5,
          859.9,
          1656,
          1449,
          1099,
          1249,
          698.9,
          1164,
          1697.9,
          849,
          2333.48,
          2085.25,
          1490,
          1638.9,
          1247,
          1749,
          538,
          1208.99,
          1540,
          872.39,
          947.5,
          997.5,
          959.9,
          990,
          785.2,
          1789.99,
          1529.99,
          2242.9,
          1549,
          1239.28,
          1581,
          946.74,
          2550,
          1719.9,
          789,
          1669.39,
          1669.99,
          1029,
          922.09,
          1529.99,
          999,
          1099,
          1525,
          1269.9,
          664.49,
          1059,
          1179,
          1695.67,
          1263.9,
          859.14,
          610.53,
          1150,
          2254.99,
          1829.99,
          629,
          1696.9,
          1696,
          1688,
          916.98,
          1099,
          829,
          682.12,
          698.39,
          1054,
          1419.9,
          569,
          599,
          2739,
          1375.98,
          1540,
          1699,
          869.9,
          759,
          574.9,
          1478.9,
          899,
          1590,
          522.09,
          1738,
          698.69,
          664.89,
          1039.99,
          2499,
          1778,
          1599.9,
          763.9,
          2514.9,
          2038.98,
          1007,
          1029,
          699.29,
          2549.9,
          1049,
          1335,
          1029,
          899.9,
          2340,
          743.73,
          899.9,
          1794,
          664.49,
          1499,
          989.99,
          1599,
          790.36,
          698.39,
          665.79,
          2099,
          633.99,
          1599.9,
          914.32,
          959.92,
          1399.99,
          997,
          1429,
          1349,
          565,
          799,
          1649.99,
          643.93,
          1908.9,
          1409,
          1299,
          1599,
          2424.9,
          1799,
          1749,
          1359.99,
          799,
          1199.99,
          1738.9,
          1743,
          675,
          1031.37,
          2589.22,
          1699.9,
          1734,
          999,
          699,
          1196.49,
          1230.9,
          1272.52,
          815.59,
          1525,
          2698,
          1199.99,
          1409,
          1713,
          1379,
          1419,
          1826.25,
          749,
          1599,
          1249.9,
          1189,
          899.9,
          1239,
          1749,
          1079,
          1779,
          925,
          899.99,
          829,
          1559,
          685.14,
          1898,
          2730,
          2539.99,
          663.73
         ],
         "y0": " ",
         "yaxis": "y"
        }
       ],
       "layout": {
        "boxmode": "group",
        "legend": {
         "tracegroupgap": 0
        },
        "margin": {
         "t": 60
        },
        "template": {
         "data": {
          "bar": [
           {
            "error_x": {
             "color": "#2a3f5f"
            },
            "error_y": {
             "color": "#2a3f5f"
            },
            "marker": {
             "line": {
              "color": "#E5ECF6",
              "width": 0.5
             },
             "pattern": {
              "fillmode": "overlay",
              "size": 10,
              "solidity": 0.2
             }
            },
            "type": "bar"
           }
          ],
          "barpolar": [
           {
            "marker": {
             "line": {
              "color": "#E5ECF6",
              "width": 0.5
             },
             "pattern": {
              "fillmode": "overlay",
              "size": 10,
              "solidity": 0.2
             }
            },
            "type": "barpolar"
           }
          ],
          "carpet": [
           {
            "aaxis": {
             "endlinecolor": "#2a3f5f",
             "gridcolor": "white",
             "linecolor": "white",
             "minorgridcolor": "white",
             "startlinecolor": "#2a3f5f"
            },
            "baxis": {
             "endlinecolor": "#2a3f5f",
             "gridcolor": "white",
             "linecolor": "white",
             "minorgridcolor": "white",
             "startlinecolor": "#2a3f5f"
            },
            "type": "carpet"
           }
          ],
          "choropleth": [
           {
            "colorbar": {
             "outlinewidth": 0,
             "ticks": ""
            },
            "type": "choropleth"
           }
          ],
          "contour": [
           {
            "colorbar": {
             "outlinewidth": 0,
             "ticks": ""
            },
            "colorscale": [
             [
              0,
              "#0d0887"
             ],
             [
              0.1111111111111111,
              "#46039f"
             ],
             [
              0.2222222222222222,
              "#7201a8"
             ],
             [
              0.3333333333333333,
              "#9c179e"
             ],
             [
              0.4444444444444444,
              "#bd3786"
             ],
             [
              0.5555555555555556,
              "#d8576b"
             ],
             [
              0.6666666666666666,
              "#ed7953"
             ],
             [
              0.7777777777777778,
              "#fb9f3a"
             ],
             [
              0.8888888888888888,
              "#fdca26"
             ],
             [
              1,
              "#f0f921"
             ]
            ],
            "type": "contour"
           }
          ],
          "contourcarpet": [
           {
            "colorbar": {
             "outlinewidth": 0,
             "ticks": ""
            },
            "type": "contourcarpet"
           }
          ],
          "heatmap": [
           {
            "colorbar": {
             "outlinewidth": 0,
             "ticks": ""
            },
            "colorscale": [
             [
              0,
              "#0d0887"
             ],
             [
              0.1111111111111111,
              "#46039f"
             ],
             [
              0.2222222222222222,
              "#7201a8"
             ],
             [
              0.3333333333333333,
              "#9c179e"
             ],
             [
              0.4444444444444444,
              "#bd3786"
             ],
             [
              0.5555555555555556,
              "#d8576b"
             ],
             [
              0.6666666666666666,
              "#ed7953"
             ],
             [
              0.7777777777777778,
              "#fb9f3a"
             ],
             [
              0.8888888888888888,
              "#fdca26"
             ],
             [
              1,
              "#f0f921"
             ]
            ],
            "type": "heatmap"
           }
          ],
          "heatmapgl": [
           {
            "colorbar": {
             "outlinewidth": 0,
             "ticks": ""
            },
            "colorscale": [
             [
              0,
              "#0d0887"
             ],
             [
              0.1111111111111111,
              "#46039f"
             ],
             [
              0.2222222222222222,
              "#7201a8"
             ],
             [
              0.3333333333333333,
              "#9c179e"
             ],
             [
              0.4444444444444444,
              "#bd3786"
             ],
             [
              0.5555555555555556,
              "#d8576b"
             ],
             [
              0.6666666666666666,
              "#ed7953"
             ],
             [
              0.7777777777777778,
              "#fb9f3a"
             ],
             [
              0.8888888888888888,
              "#fdca26"
             ],
             [
              1,
              "#f0f921"
             ]
            ],
            "type": "heatmapgl"
           }
          ],
          "histogram": [
           {
            "marker": {
             "pattern": {
              "fillmode": "overlay",
              "size": 10,
              "solidity": 0.2
             }
            },
            "type": "histogram"
           }
          ],
          "histogram2d": [
           {
            "colorbar": {
             "outlinewidth": 0,
             "ticks": ""
            },
            "colorscale": [
             [
              0,
              "#0d0887"
             ],
             [
              0.1111111111111111,
              "#46039f"
             ],
             [
              0.2222222222222222,
              "#7201a8"
             ],
             [
              0.3333333333333333,
              "#9c179e"
             ],
             [
              0.4444444444444444,
              "#bd3786"
             ],
             [
              0.5555555555555556,
              "#d8576b"
             ],
             [
              0.6666666666666666,
              "#ed7953"
             ],
             [
              0.7777777777777778,
              "#fb9f3a"
             ],
             [
              0.8888888888888888,
              "#fdca26"
             ],
             [
              1,
              "#f0f921"
             ]
            ],
            "type": "histogram2d"
           }
          ],
          "histogram2dcontour": [
           {
            "colorbar": {
             "outlinewidth": 0,
             "ticks": ""
            },
            "colorscale": [
             [
              0,
              "#0d0887"
             ],
             [
              0.1111111111111111,
              "#46039f"
             ],
             [
              0.2222222222222222,
              "#7201a8"
             ],
             [
              0.3333333333333333,
              "#9c179e"
             ],
             [
              0.4444444444444444,
              "#bd3786"
             ],
             [
              0.5555555555555556,
              "#d8576b"
             ],
             [
              0.6666666666666666,
              "#ed7953"
             ],
             [
              0.7777777777777778,
              "#fb9f3a"
             ],
             [
              0.8888888888888888,
              "#fdca26"
             ],
             [
              1,
              "#f0f921"
             ]
            ],
            "type": "histogram2dcontour"
           }
          ],
          "mesh3d": [
           {
            "colorbar": {
             "outlinewidth": 0,
             "ticks": ""
            },
            "type": "mesh3d"
           }
          ],
          "parcoords": [
           {
            "line": {
             "colorbar": {
              "outlinewidth": 0,
              "ticks": ""
             }
            },
            "type": "parcoords"
           }
          ],
          "pie": [
           {
            "automargin": true,
            "type": "pie"
           }
          ],
          "scatter": [
           {
            "marker": {
             "colorbar": {
              "outlinewidth": 0,
              "ticks": ""
             }
            },
            "type": "scatter"
           }
          ],
          "scatter3d": [
           {
            "line": {
             "colorbar": {
              "outlinewidth": 0,
              "ticks": ""
             }
            },
            "marker": {
             "colorbar": {
              "outlinewidth": 0,
              "ticks": ""
             }
            },
            "type": "scatter3d"
           }
          ],
          "scattercarpet": [
           {
            "marker": {
             "colorbar": {
              "outlinewidth": 0,
              "ticks": ""
             }
            },
            "type": "scattercarpet"
           }
          ],
          "scattergeo": [
           {
            "marker": {
             "colorbar": {
              "outlinewidth": 0,
              "ticks": ""
             }
            },
            "type": "scattergeo"
           }
          ],
          "scattergl": [
           {
            "marker": {
             "colorbar": {
              "outlinewidth": 0,
              "ticks": ""
             }
            },
            "type": "scattergl"
           }
          ],
          "scattermapbox": [
           {
            "marker": {
             "colorbar": {
              "outlinewidth": 0,
              "ticks": ""
             }
            },
            "type": "scattermapbox"
           }
          ],
          "scatterpolar": [
           {
            "marker": {
             "colorbar": {
              "outlinewidth": 0,
              "ticks": ""
             }
            },
            "type": "scatterpolar"
           }
          ],
          "scatterpolargl": [
           {
            "marker": {
             "colorbar": {
              "outlinewidth": 0,
              "ticks": ""
             }
            },
            "type": "scatterpolargl"
           }
          ],
          "scatterternary": [
           {
            "marker": {
             "colorbar": {
              "outlinewidth": 0,
              "ticks": ""
             }
            },
            "type": "scatterternary"
           }
          ],
          "surface": [
           {
            "colorbar": {
             "outlinewidth": 0,
             "ticks": ""
            },
            "colorscale": [
             [
              0,
              "#0d0887"
             ],
             [
              0.1111111111111111,
              "#46039f"
             ],
             [
              0.2222222222222222,
              "#7201a8"
             ],
             [
              0.3333333333333333,
              "#9c179e"
             ],
             [
              0.4444444444444444,
              "#bd3786"
             ],
             [
              0.5555555555555556,
              "#d8576b"
             ],
             [
              0.6666666666666666,
              "#ed7953"
             ],
             [
              0.7777777777777778,
              "#fb9f3a"
             ],
             [
              0.8888888888888888,
              "#fdca26"
             ],
             [
              1,
              "#f0f921"
             ]
            ],
            "type": "surface"
           }
          ],
          "table": [
           {
            "cells": {
             "fill": {
              "color": "#EBF0F8"
             },
             "line": {
              "color": "white"
             }
            },
            "header": {
             "fill": {
              "color": "#C8D4E3"
             },
             "line": {
              "color": "white"
             }
            },
            "type": "table"
           }
          ]
         },
         "layout": {
          "annotationdefaults": {
           "arrowcolor": "#2a3f5f",
           "arrowhead": 0,
           "arrowwidth": 1
          },
          "autotypenumbers": "strict",
          "coloraxis": {
           "colorbar": {
            "outlinewidth": 0,
            "ticks": ""
           }
          },
          "colorscale": {
           "diverging": [
            [
             0,
             "#8e0152"
            ],
            [
             0.1,
             "#c51b7d"
            ],
            [
             0.2,
             "#de77ae"
            ],
            [
             0.3,
             "#f1b6da"
            ],
            [
             0.4,
             "#fde0ef"
            ],
            [
             0.5,
             "#f7f7f7"
            ],
            [
             0.6,
             "#e6f5d0"
            ],
            [
             0.7,
             "#b8e186"
            ],
            [
             0.8,
             "#7fbc41"
            ],
            [
             0.9,
             "#4d9221"
            ],
            [
             1,
             "#276419"
            ]
           ],
           "sequential": [
            [
             0,
             "#0d0887"
            ],
            [
             0.1111111111111111,
             "#46039f"
            ],
            [
             0.2222222222222222,
             "#7201a8"
            ],
            [
             0.3333333333333333,
             "#9c179e"
            ],
            [
             0.4444444444444444,
             "#bd3786"
            ],
            [
             0.5555555555555556,
             "#d8576b"
            ],
            [
             0.6666666666666666,
             "#ed7953"
            ],
            [
             0.7777777777777778,
             "#fb9f3a"
            ],
            [
             0.8888888888888888,
             "#fdca26"
            ],
            [
             1,
             "#f0f921"
            ]
           ],
           "sequentialminus": [
            [
             0,
             "#0d0887"
            ],
            [
             0.1111111111111111,
             "#46039f"
            ],
            [
             0.2222222222222222,
             "#7201a8"
            ],
            [
             0.3333333333333333,
             "#9c179e"
            ],
            [
             0.4444444444444444,
             "#bd3786"
            ],
            [
             0.5555555555555556,
             "#d8576b"
            ],
            [
             0.6666666666666666,
             "#ed7953"
            ],
            [
             0.7777777777777778,
             "#fb9f3a"
            ],
            [
             0.8888888888888888,
             "#fdca26"
            ],
            [
             1,
             "#f0f921"
            ]
           ]
          },
          "colorway": [
           "#636efa",
           "#EF553B",
           "#00cc96",
           "#ab63fa",
           "#FFA15A",
           "#19d3f3",
           "#FF6692",
           "#B6E880",
           "#FF97FF",
           "#FECB52"
          ],
          "font": {
           "color": "#2a3f5f"
          },
          "geo": {
           "bgcolor": "white",
           "lakecolor": "white",
           "landcolor": "#E5ECF6",
           "showlakes": true,
           "showland": true,
           "subunitcolor": "white"
          },
          "hoverlabel": {
           "align": "left"
          },
          "hovermode": "closest",
          "mapbox": {
           "style": "light"
          },
          "paper_bgcolor": "white",
          "plot_bgcolor": "#E5ECF6",
          "polar": {
           "angularaxis": {
            "gridcolor": "white",
            "linecolor": "white",
            "ticks": ""
           },
           "bgcolor": "#E5ECF6",
           "radialaxis": {
            "gridcolor": "white",
            "linecolor": "white",
            "ticks": ""
           }
          },
          "scene": {
           "xaxis": {
            "backgroundcolor": "#E5ECF6",
            "gridcolor": "white",
            "gridwidth": 2,
            "linecolor": "white",
            "showbackground": true,
            "ticks": "",
            "zerolinecolor": "white"
           },
           "yaxis": {
            "backgroundcolor": "#E5ECF6",
            "gridcolor": "white",
            "gridwidth": 2,
            "linecolor": "white",
            "showbackground": true,
            "ticks": "",
            "zerolinecolor": "white"
           },
           "zaxis": {
            "backgroundcolor": "#E5ECF6",
            "gridcolor": "white",
            "gridwidth": 2,
            "linecolor": "white",
            "showbackground": true,
            "ticks": "",
            "zerolinecolor": "white"
           }
          },
          "shapedefaults": {
           "line": {
            "color": "#2a3f5f"
           }
          },
          "ternary": {
           "aaxis": {
            "gridcolor": "white",
            "linecolor": "white",
            "ticks": ""
           },
           "baxis": {
            "gridcolor": "white",
            "linecolor": "white",
            "ticks": ""
           },
           "bgcolor": "#E5ECF6",
           "caxis": {
            "gridcolor": "white",
            "linecolor": "white",
            "ticks": ""
           }
          },
          "title": {
           "x": 0.05
          },
          "xaxis": {
           "automargin": true,
           "gridcolor": "white",
           "linecolor": "white",
           "ticks": "",
           "title": {
            "standoff": 15
           },
           "zerolinecolor": "white",
           "zerolinewidth": 2
          },
          "yaxis": {
           "automargin": true,
           "gridcolor": "white",
           "linecolor": "white",
           "ticks": "",
           "title": {
            "standoff": 15
           },
           "zerolinecolor": "white",
           "zerolinewidth": 2
          }
         }
        },
        "xaxis": {
         "anchor": "y",
         "domain": [
          0,
          1
         ]
        },
        "yaxis": {
         "anchor": "x",
         "domain": [
          0,
          1
         ],
         "title": {
          "text": "Preço"
         }
        }
       }
      }
     },
     "metadata": {},
     "output_type": "display_data"
    }
   ],
   "source": [
    "fig = px.box(df_clean_smartphone, y=\"Preço\", notched=True)\n",
    "fig.show()"
   ]
  },
  {
   "cell_type": "code",
   "execution_count": 444,
   "metadata": {},
   "outputs": [
    {
     "data": {
      "text/plain": [
       "(282, 7)"
      ]
     },
     "execution_count": 444,
     "metadata": {},
     "output_type": "execute_result"
    }
   ],
   "source": [
    "df_clean_smartphone.shape"
   ]
  },
  {
   "cell_type": "markdown",
   "metadata": {},
   "source": [
    "# Tratando dados soobre TVs"
   ]
  },
  {
   "cell_type": "code",
   "execution_count": 445,
   "metadata": {},
   "outputs": [
    {
     "data": {
      "text/html": [
       "<div>\n",
       "<style scoped>\n",
       "    .dataframe tbody tr th:only-of-type {\n",
       "        vertical-align: middle;\n",
       "    }\n",
       "\n",
       "    .dataframe tbody tr th {\n",
       "        vertical-align: top;\n",
       "    }\n",
       "\n",
       "    .dataframe thead th {\n",
       "        text-align: right;\n",
       "    }\n",
       "</style>\n",
       "<table border=\"1\" class=\"dataframe\">\n",
       "  <thead>\n",
       "    <tr style=\"text-align: right;\">\n",
       "      <th></th>\n",
       "      <th>Descrição</th>\n",
       "      <th>Preço</th>\n",
       "      <th>Estrelas</th>\n",
       "      <th>TotalReviews</th>\n",
       "      <th>Url</th>\n",
       "    </tr>\n",
       "  </thead>\n",
       "  <tbody>\n",
       "    <tr>\n",
       "      <th>0</th>\n",
       "      <td>Teclado sem fio Logitech K380 com Conexão Blue...</td>\n",
       "      <td>R$ 243,31</td>\n",
       "      <td>4,8 de 5 estrelas</td>\n",
       "      <td>521</td>\n",
       "      <td>https://www.amazon.com.br/gp/slredirect/picass...</td>\n",
       "    </tr>\n",
       "    <tr>\n",
       "      <th>1</th>\n",
       "      <td>Yongluo MX3 portátil 2.4G sem fio controle rem...</td>\n",
       "      <td>R$ 86,09</td>\n",
       "      <td>0</td>\n",
       "      <td>0</td>\n",
       "      <td>https://www.amazon.com.br/gp/slredirect/picass...</td>\n",
       "    </tr>\n",
       "    <tr>\n",
       "      <th>2</th>\n",
       "      <td>Yongluo Versão Russa Retroiluminado Teclado Se...</td>\n",
       "      <td>R$ 82,69</td>\n",
       "      <td>0</td>\n",
       "      <td>0</td>\n",
       "      <td>https://www.amazon.com.br/gp/slredirect/picass...</td>\n",
       "    </tr>\n",
       "    <tr>\n",
       "      <th>3</th>\n",
       "      <td>Smart TV LED 43\" Full HD AOC ROKU TV FHD 43S51...</td>\n",
       "      <td>R$ 1.779,00</td>\n",
       "      <td>4,7 de 5 estrelas</td>\n",
       "      <td>2.612</td>\n",
       "      <td>https://www.amazon.com.br/SMART-AOC-ROKU-43S51...</td>\n",
       "    </tr>\n",
       "    <tr>\n",
       "      <th>4</th>\n",
       "      <td>Smart TV Philips 50PUG7625 4K UHD, P5, HDR10+,...</td>\n",
       "      <td>R$ 2.399,00</td>\n",
       "      <td>4,4 de 5 estrelas</td>\n",
       "      <td>171</td>\n",
       "      <td>https://www.amazon.com.br/Smart-Philips-50PUG7...</td>\n",
       "    </tr>\n",
       "    <tr>\n",
       "      <th>...</th>\n",
       "      <td>...</td>\n",
       "      <td>...</td>\n",
       "      <td>...</td>\n",
       "      <td>...</td>\n",
       "      <td>...</td>\n",
       "    </tr>\n",
       "    <tr>\n",
       "      <th>1470</th>\n",
       "      <td>Peakfeng Armário de TV, placa inferior de TV, ...</td>\n",
       "      <td>R$ 5.851,13</td>\n",
       "      <td>0</td>\n",
       "      <td>0</td>\n",
       "      <td>https://www.amazon.com.br/Peakfeng-prateleiras...</td>\n",
       "    </tr>\n",
       "    <tr>\n",
       "      <th>1471</th>\n",
       "      <td>Peakfeng Console flutuante de armário de TV, c...</td>\n",
       "      <td>R$ 1.530,16</td>\n",
       "      <td>0</td>\n",
       "      <td>0</td>\n",
       "      <td>https://www.amazon.com.br/Peakfeng-flutuante-t...</td>\n",
       "    </tr>\n",
       "    <tr>\n",
       "      <th>1472</th>\n",
       "      <td>Houshome Pano de fundo de pano de fundo de est...</td>\n",
       "      <td>R$ 639,06</td>\n",
       "      <td>0</td>\n",
       "      <td>0</td>\n",
       "      <td>https://www.amazon.com.br/gp/slredirect/picass...</td>\n",
       "    </tr>\n",
       "    <tr>\n",
       "      <th>1473</th>\n",
       "      <td>yongluo Pano de fundo de algodão de estúdio 10...</td>\n",
       "      <td>R$ 470,94</td>\n",
       "      <td>0</td>\n",
       "      <td>0</td>\n",
       "      <td>https://www.amazon.com.br/gp/slredirect/picass...</td>\n",
       "    </tr>\n",
       "    <tr>\n",
       "      <th>1474</th>\n",
       "      <td>Miaoqian Pano de fundo de algodão de estúdio 1...</td>\n",
       "      <td>R$ 479,94</td>\n",
       "      <td>0</td>\n",
       "      <td>0</td>\n",
       "      <td>https://www.amazon.com.br/gp/slredirect/picass...</td>\n",
       "    </tr>\n",
       "  </tbody>\n",
       "</table>\n",
       "<p>1475 rows × 5 columns</p>\n",
       "</div>"
      ],
      "text/plain": [
       "                                              Descrição        Preço  \\\n",
       "0     Teclado sem fio Logitech K380 com Conexão Blue...    R$ 243,31   \n",
       "1     Yongluo MX3 portátil 2.4G sem fio controle rem...     R$ 86,09   \n",
       "2     Yongluo Versão Russa Retroiluminado Teclado Se...     R$ 82,69   \n",
       "3     Smart TV LED 43\" Full HD AOC ROKU TV FHD 43S51...  R$ 1.779,00   \n",
       "4     Smart TV Philips 50PUG7625 4K UHD, P5, HDR10+,...  R$ 2.399,00   \n",
       "...                                                 ...          ...   \n",
       "1470  Peakfeng Armário de TV, placa inferior de TV, ...  R$ 5.851,13   \n",
       "1471  Peakfeng Console flutuante de armário de TV, c...  R$ 1.530,16   \n",
       "1472  Houshome Pano de fundo de pano de fundo de est...    R$ 639,06   \n",
       "1473  yongluo Pano de fundo de algodão de estúdio 10...    R$ 470,94   \n",
       "1474  Miaoqian Pano de fundo de algodão de estúdio 1...    R$ 479,94   \n",
       "\n",
       "               Estrelas TotalReviews  \\\n",
       "0     4,8 de 5 estrelas          521   \n",
       "1                     0            0   \n",
       "2                     0            0   \n",
       "3     4,7 de 5 estrelas        2.612   \n",
       "4     4,4 de 5 estrelas          171   \n",
       "...                 ...          ...   \n",
       "1470                  0            0   \n",
       "1471                  0            0   \n",
       "1472                  0            0   \n",
       "1473                  0            0   \n",
       "1474                  0            0   \n",
       "\n",
       "                                                    Url  \n",
       "0     https://www.amazon.com.br/gp/slredirect/picass...  \n",
       "1     https://www.amazon.com.br/gp/slredirect/picass...  \n",
       "2     https://www.amazon.com.br/gp/slredirect/picass...  \n",
       "3     https://www.amazon.com.br/SMART-AOC-ROKU-43S51...  \n",
       "4     https://www.amazon.com.br/Smart-Philips-50PUG7...  \n",
       "...                                                 ...  \n",
       "1470  https://www.amazon.com.br/Peakfeng-prateleiras...  \n",
       "1471  https://www.amazon.com.br/Peakfeng-flutuante-t...  \n",
       "1472  https://www.amazon.com.br/gp/slredirect/picass...  \n",
       "1473  https://www.amazon.com.br/gp/slredirect/picass...  \n",
       "1474  https://www.amazon.com.br/gp/slredirect/picass...  \n",
       "\n",
       "[1475 rows x 5 columns]"
      ]
     },
     "execution_count": 445,
     "metadata": {},
     "output_type": "execute_result"
    }
   ],
   "source": [
    "dados_tv = pd.read_csv('output/dataset_televisão.csv',sep=';')\n",
    "dados_tv"
   ]
  },
  {
   "cell_type": "code",
   "execution_count": 446,
   "metadata": {},
   "outputs": [
    {
     "data": {
      "text/html": [
       "<div>\n",
       "<style scoped>\n",
       "    .dataframe tbody tr th:only-of-type {\n",
       "        vertical-align: middle;\n",
       "    }\n",
       "\n",
       "    .dataframe tbody tr th {\n",
       "        vertical-align: top;\n",
       "    }\n",
       "\n",
       "    .dataframe thead th {\n",
       "        text-align: right;\n",
       "    }\n",
       "</style>\n",
       "<table border=\"1\" class=\"dataframe\">\n",
       "  <thead>\n",
       "    <tr style=\"text-align: right;\">\n",
       "      <th></th>\n",
       "      <th>Descrição</th>\n",
       "      <th>Preço</th>\n",
       "      <th>Estrelas</th>\n",
       "      <th>TotalReviews</th>\n",
       "      <th>Url</th>\n",
       "    </tr>\n",
       "  </thead>\n",
       "  <tbody>\n",
       "    <tr>\n",
       "      <th>0</th>\n",
       "      <td>Teclado sem fio Logitech K380 com Conexão Blue...</td>\n",
       "      <td>243.31</td>\n",
       "      <td>4.8</td>\n",
       "      <td>521.0</td>\n",
       "      <td>https://www.amazon.com.br/gp/slredirect/picass...</td>\n",
       "    </tr>\n",
       "    <tr>\n",
       "      <th>1</th>\n",
       "      <td>Yongluo MX3 portátil 2.4G sem fio controle rem...</td>\n",
       "      <td>86.09</td>\n",
       "      <td>0.0</td>\n",
       "      <td>0.0</td>\n",
       "      <td>https://www.amazon.com.br/gp/slredirect/picass...</td>\n",
       "    </tr>\n",
       "    <tr>\n",
       "      <th>2</th>\n",
       "      <td>Yongluo Versão Russa Retroiluminado Teclado Se...</td>\n",
       "      <td>82.69</td>\n",
       "      <td>0.0</td>\n",
       "      <td>0.0</td>\n",
       "      <td>https://www.amazon.com.br/gp/slredirect/picass...</td>\n",
       "    </tr>\n",
       "    <tr>\n",
       "      <th>3</th>\n",
       "      <td>Smart TV LED 43\" Full HD AOC ROKU TV FHD 43S51...</td>\n",
       "      <td>1779.00</td>\n",
       "      <td>4.7</td>\n",
       "      <td>2612.0</td>\n",
       "      <td>https://www.amazon.com.br/SMART-AOC-ROKU-43S51...</td>\n",
       "    </tr>\n",
       "    <tr>\n",
       "      <th>4</th>\n",
       "      <td>Smart TV Philips 50PUG7625 4K UHD, P5, HDR10+,...</td>\n",
       "      <td>2399.00</td>\n",
       "      <td>4.4</td>\n",
       "      <td>171.0</td>\n",
       "      <td>https://www.amazon.com.br/Smart-Philips-50PUG7...</td>\n",
       "    </tr>\n",
       "    <tr>\n",
       "      <th>...</th>\n",
       "      <td>...</td>\n",
       "      <td>...</td>\n",
       "      <td>...</td>\n",
       "      <td>...</td>\n",
       "      <td>...</td>\n",
       "    </tr>\n",
       "    <tr>\n",
       "      <th>1470</th>\n",
       "      <td>Peakfeng Armário de TV, placa inferior de TV, ...</td>\n",
       "      <td>5851.13</td>\n",
       "      <td>0.0</td>\n",
       "      <td>0.0</td>\n",
       "      <td>https://www.amazon.com.br/Peakfeng-prateleiras...</td>\n",
       "    </tr>\n",
       "    <tr>\n",
       "      <th>1471</th>\n",
       "      <td>Peakfeng Console flutuante de armário de TV, c...</td>\n",
       "      <td>1530.16</td>\n",
       "      <td>0.0</td>\n",
       "      <td>0.0</td>\n",
       "      <td>https://www.amazon.com.br/Peakfeng-flutuante-t...</td>\n",
       "    </tr>\n",
       "    <tr>\n",
       "      <th>1472</th>\n",
       "      <td>Houshome Pano de fundo de pano de fundo de est...</td>\n",
       "      <td>639.06</td>\n",
       "      <td>0.0</td>\n",
       "      <td>0.0</td>\n",
       "      <td>https://www.amazon.com.br/gp/slredirect/picass...</td>\n",
       "    </tr>\n",
       "    <tr>\n",
       "      <th>1473</th>\n",
       "      <td>yongluo Pano de fundo de algodão de estúdio 10...</td>\n",
       "      <td>470.94</td>\n",
       "      <td>0.0</td>\n",
       "      <td>0.0</td>\n",
       "      <td>https://www.amazon.com.br/gp/slredirect/picass...</td>\n",
       "    </tr>\n",
       "    <tr>\n",
       "      <th>1474</th>\n",
       "      <td>Miaoqian Pano de fundo de algodão de estúdio 1...</td>\n",
       "      <td>479.94</td>\n",
       "      <td>0.0</td>\n",
       "      <td>0.0</td>\n",
       "      <td>https://www.amazon.com.br/gp/slredirect/picass...</td>\n",
       "    </tr>\n",
       "  </tbody>\n",
       "</table>\n",
       "<p>1475 rows × 5 columns</p>\n",
       "</div>"
      ],
      "text/plain": [
       "                                              Descrição    Preço  Estrelas  \\\n",
       "0     Teclado sem fio Logitech K380 com Conexão Blue...   243.31       4.8   \n",
       "1     Yongluo MX3 portátil 2.4G sem fio controle rem...    86.09       0.0   \n",
       "2     Yongluo Versão Russa Retroiluminado Teclado Se...    82.69       0.0   \n",
       "3     Smart TV LED 43\" Full HD AOC ROKU TV FHD 43S51...  1779.00       4.7   \n",
       "4     Smart TV Philips 50PUG7625 4K UHD, P5, HDR10+,...  2399.00       4.4   \n",
       "...                                                 ...      ...       ...   \n",
       "1470  Peakfeng Armário de TV, placa inferior de TV, ...  5851.13       0.0   \n",
       "1471  Peakfeng Console flutuante de armário de TV, c...  1530.16       0.0   \n",
       "1472  Houshome Pano de fundo de pano de fundo de est...   639.06       0.0   \n",
       "1473  yongluo Pano de fundo de algodão de estúdio 10...   470.94       0.0   \n",
       "1474  Miaoqian Pano de fundo de algodão de estúdio 1...   479.94       0.0   \n",
       "\n",
       "      TotalReviews                                                Url  \n",
       "0            521.0  https://www.amazon.com.br/gp/slredirect/picass...  \n",
       "1              0.0  https://www.amazon.com.br/gp/slredirect/picass...  \n",
       "2              0.0  https://www.amazon.com.br/gp/slredirect/picass...  \n",
       "3           2612.0  https://www.amazon.com.br/SMART-AOC-ROKU-43S51...  \n",
       "4            171.0  https://www.amazon.com.br/Smart-Philips-50PUG7...  \n",
       "...            ...                                                ...  \n",
       "1470           0.0  https://www.amazon.com.br/Peakfeng-prateleiras...  \n",
       "1471           0.0  https://www.amazon.com.br/Peakfeng-flutuante-t...  \n",
       "1472           0.0  https://www.amazon.com.br/gp/slredirect/picass...  \n",
       "1473           0.0  https://www.amazon.com.br/gp/slredirect/picass...  \n",
       "1474           0.0  https://www.amazon.com.br/gp/slredirect/picass...  \n",
       "\n",
       "[1475 rows x 5 columns]"
      ]
     },
     "execution_count": 446,
     "metadata": {},
     "output_type": "execute_result"
    }
   ],
   "source": [
    "arruma_df(dados_tv)"
   ]
  },
  {
   "cell_type": "code",
   "execution_count": 447,
   "metadata": {},
   "outputs": [
    {
     "data": {
      "text/plain": [
       "Descrição        0\n",
       "Preço            0\n",
       "Estrelas        27\n",
       "TotalReviews    28\n",
       "Url              0\n",
       "dtype: int64"
      ]
     },
     "execution_count": 447,
     "metadata": {},
     "output_type": "execute_result"
    }
   ],
   "source": [
    "dados_tv.isna().sum()"
   ]
  },
  {
   "cell_type": "code",
   "execution_count": 448,
   "metadata": {},
   "outputs": [],
   "source": [
    "dados_tv.fillna(0, inplace=True)\n",
    "dados_tv_old=dados_tv"
   ]
  },
  {
   "cell_type": "code",
   "execution_count": 449,
   "metadata": {},
   "outputs": [
    {
     "data": {
      "text/html": [
       "<div>\n",
       "<style scoped>\n",
       "    .dataframe tbody tr th:only-of-type {\n",
       "        vertical-align: middle;\n",
       "    }\n",
       "\n",
       "    .dataframe tbody tr th {\n",
       "        vertical-align: top;\n",
       "    }\n",
       "\n",
       "    .dataframe thead th {\n",
       "        text-align: right;\n",
       "    }\n",
       "</style>\n",
       "<table border=\"1\" class=\"dataframe\">\n",
       "  <thead>\n",
       "    <tr style=\"text-align: right;\">\n",
       "      <th></th>\n",
       "      <th>Descrição</th>\n",
       "      <th>Preço</th>\n",
       "      <th>Estrelas</th>\n",
       "      <th>TotalReviews</th>\n",
       "      <th>Url</th>\n",
       "    </tr>\n",
       "  </thead>\n",
       "  <tbody>\n",
       "    <tr>\n",
       "      <th>3</th>\n",
       "      <td>Smart TV LED 43\" Full HD AOC ROKU TV FHD 43S51...</td>\n",
       "      <td>1779.00</td>\n",
       "      <td>4.7</td>\n",
       "      <td>2612.0</td>\n",
       "      <td>https://www.amazon.com.br/SMART-AOC-ROKU-43S51...</td>\n",
       "    </tr>\n",
       "    <tr>\n",
       "      <th>4</th>\n",
       "      <td>Smart TV Philips 50PUG7625 4K UHD, P5, HDR10+,...</td>\n",
       "      <td>2399.00</td>\n",
       "      <td>4.4</td>\n",
       "      <td>171.0</td>\n",
       "      <td>https://www.amazon.com.br/Smart-Philips-50PUG7...</td>\n",
       "    </tr>\n",
       "    <tr>\n",
       "      <th>5</th>\n",
       "      <td>Smart TV LED 24\" Monitor LG 24TL520S, Wi-Fi, W...</td>\n",
       "      <td>1052.10</td>\n",
       "      <td>4.8</td>\n",
       "      <td>7888.0</td>\n",
       "      <td>https://www.amazon.com.br/Smart-Monitor-LG-Mac...</td>\n",
       "    </tr>\n",
       "    <tr>\n",
       "      <th>6</th>\n",
       "      <td>Tela Multilaser 24\" HD com Conversor Digital -...</td>\n",
       "      <td>849.00</td>\n",
       "      <td>0.0</td>\n",
       "      <td>0.0</td>\n",
       "      <td>https://www.amazon.com.br/Tela-Multilaser-com-...</td>\n",
       "    </tr>\n",
       "    <tr>\n",
       "      <th>7</th>\n",
       "      <td>Smart TV LED 43'' Full HD Semp 43S5300, 2 HDMI...</td>\n",
       "      <td>1899.00</td>\n",
       "      <td>4.5</td>\n",
       "      <td>287.0</td>\n",
       "      <td>https://www.amazon.com.br/Semp-43S5300-TV-4353...</td>\n",
       "    </tr>\n",
       "    <tr>\n",
       "      <th>...</th>\n",
       "      <td>...</td>\n",
       "      <td>...</td>\n",
       "      <td>...</td>\n",
       "      <td>...</td>\n",
       "      <td>...</td>\n",
       "    </tr>\n",
       "    <tr>\n",
       "      <th>1448</th>\n",
       "      <td>Domary Pano de fundo de pano de fundo de estúd...</td>\n",
       "      <td>625.90</td>\n",
       "      <td>0.0</td>\n",
       "      <td>0.0</td>\n",
       "      <td>https://www.amazon.com.br/gp/slredirect/picass...</td>\n",
       "    </tr>\n",
       "    <tr>\n",
       "      <th>1454</th>\n",
       "      <td>Capa de TV para ambientes externos, protetor u...</td>\n",
       "      <td>758.42</td>\n",
       "      <td>4.6</td>\n",
       "      <td>1066.0</td>\n",
       "      <td>https://www.amazon.com.br/ambientes-universal-...</td>\n",
       "    </tr>\n",
       "    <tr>\n",
       "      <th>1470</th>\n",
       "      <td>Peakfeng Armário de TV, placa inferior de TV, ...</td>\n",
       "      <td>5851.13</td>\n",
       "      <td>0.0</td>\n",
       "      <td>0.0</td>\n",
       "      <td>https://www.amazon.com.br/Peakfeng-prateleiras...</td>\n",
       "    </tr>\n",
       "    <tr>\n",
       "      <th>1471</th>\n",
       "      <td>Peakfeng Console flutuante de armário de TV, c...</td>\n",
       "      <td>1530.16</td>\n",
       "      <td>0.0</td>\n",
       "      <td>0.0</td>\n",
       "      <td>https://www.amazon.com.br/Peakfeng-flutuante-t...</td>\n",
       "    </tr>\n",
       "    <tr>\n",
       "      <th>1472</th>\n",
       "      <td>Houshome Pano de fundo de pano de fundo de est...</td>\n",
       "      <td>639.06</td>\n",
       "      <td>0.0</td>\n",
       "      <td>0.0</td>\n",
       "      <td>https://www.amazon.com.br/gp/slredirect/picass...</td>\n",
       "    </tr>\n",
       "  </tbody>\n",
       "</table>\n",
       "<p>276 rows × 5 columns</p>\n",
       "</div>"
      ],
      "text/plain": [
       "                                              Descrição    Preço  Estrelas  \\\n",
       "3     Smart TV LED 43\" Full HD AOC ROKU TV FHD 43S51...  1779.00       4.7   \n",
       "4     Smart TV Philips 50PUG7625 4K UHD, P5, HDR10+,...  2399.00       4.4   \n",
       "5     Smart TV LED 24\" Monitor LG 24TL520S, Wi-Fi, W...  1052.10       4.8   \n",
       "6     Tela Multilaser 24\" HD com Conversor Digital -...   849.00       0.0   \n",
       "7     Smart TV LED 43'' Full HD Semp 43S5300, 2 HDMI...  1899.00       4.5   \n",
       "...                                                 ...      ...       ...   \n",
       "1448  Domary Pano de fundo de pano de fundo de estúd...   625.90       0.0   \n",
       "1454  Capa de TV para ambientes externos, protetor u...   758.42       4.6   \n",
       "1470  Peakfeng Armário de TV, placa inferior de TV, ...  5851.13       0.0   \n",
       "1471  Peakfeng Console flutuante de armário de TV, c...  1530.16       0.0   \n",
       "1472  Houshome Pano de fundo de pano de fundo de est...   639.06       0.0   \n",
       "\n",
       "      TotalReviews                                                Url  \n",
       "3           2612.0  https://www.amazon.com.br/SMART-AOC-ROKU-43S51...  \n",
       "4            171.0  https://www.amazon.com.br/Smart-Philips-50PUG7...  \n",
       "5           7888.0  https://www.amazon.com.br/Smart-Monitor-LG-Mac...  \n",
       "6              0.0  https://www.amazon.com.br/Tela-Multilaser-com-...  \n",
       "7            287.0  https://www.amazon.com.br/Semp-43S5300-TV-4353...  \n",
       "...            ...                                                ...  \n",
       "1448           0.0  https://www.amazon.com.br/gp/slredirect/picass...  \n",
       "1454        1066.0  https://www.amazon.com.br/ambientes-universal-...  \n",
       "1470           0.0  https://www.amazon.com.br/Peakfeng-prateleiras...  \n",
       "1471           0.0  https://www.amazon.com.br/Peakfeng-flutuante-t...  \n",
       "1472           0.0  https://www.amazon.com.br/gp/slredirect/picass...  \n",
       "\n",
       "[276 rows x 5 columns]"
      ]
     },
     "execution_count": 449,
     "metadata": {},
     "output_type": "execute_result"
    }
   ],
   "source": [
    "dados_tv.query('Preço >= 600',inplace=True)\n",
    "dados_tv"
   ]
  },
  {
   "cell_type": "code",
   "execution_count": 450,
   "metadata": {},
   "outputs": [
    {
     "data": {
      "text/html": [
       "<div>\n",
       "<style scoped>\n",
       "    .dataframe tbody tr th:only-of-type {\n",
       "        vertical-align: middle;\n",
       "    }\n",
       "\n",
       "    .dataframe tbody tr th {\n",
       "        vertical-align: top;\n",
       "    }\n",
       "\n",
       "    .dataframe thead th {\n",
       "        text-align: right;\n",
       "    }\n",
       "</style>\n",
       "<table border=\"1\" class=\"dataframe\">\n",
       "  <thead>\n",
       "    <tr style=\"text-align: right;\">\n",
       "      <th></th>\n",
       "      <th>Descrição</th>\n",
       "      <th>Preço</th>\n",
       "      <th>Estrelas</th>\n",
       "      <th>TotalReviews</th>\n",
       "      <th>Url</th>\n",
       "    </tr>\n",
       "  </thead>\n",
       "  <tbody>\n",
       "    <tr>\n",
       "      <th>0</th>\n",
       "      <td>Smart TV LED 43\" Full HD AOC ROKU TV FHD 43S51...</td>\n",
       "      <td>1779.00</td>\n",
       "      <td>4.7</td>\n",
       "      <td>2612.0</td>\n",
       "      <td>https://www.amazon.com.br/SMART-AOC-ROKU-43S51...</td>\n",
       "    </tr>\n",
       "    <tr>\n",
       "      <th>1</th>\n",
       "      <td>Smart TV Philips 50PUG7625 4K UHD, P5, HDR10+,...</td>\n",
       "      <td>2399.00</td>\n",
       "      <td>4.4</td>\n",
       "      <td>171.0</td>\n",
       "      <td>https://www.amazon.com.br/Smart-Philips-50PUG7...</td>\n",
       "    </tr>\n",
       "    <tr>\n",
       "      <th>2</th>\n",
       "      <td>Smart TV LED 24\" Monitor LG 24TL520S, Wi-Fi, W...</td>\n",
       "      <td>1052.10</td>\n",
       "      <td>4.8</td>\n",
       "      <td>7888.0</td>\n",
       "      <td>https://www.amazon.com.br/Smart-Monitor-LG-Mac...</td>\n",
       "    </tr>\n",
       "    <tr>\n",
       "      <th>3</th>\n",
       "      <td>Tela Multilaser 24\" HD com Conversor Digital -...</td>\n",
       "      <td>849.00</td>\n",
       "      <td>0.0</td>\n",
       "      <td>0.0</td>\n",
       "      <td>https://www.amazon.com.br/Tela-Multilaser-com-...</td>\n",
       "    </tr>\n",
       "    <tr>\n",
       "      <th>4</th>\n",
       "      <td>Smart TV LED 43'' Full HD Semp 43S5300, 2 HDMI...</td>\n",
       "      <td>1899.00</td>\n",
       "      <td>4.5</td>\n",
       "      <td>287.0</td>\n",
       "      <td>https://www.amazon.com.br/Semp-43S5300-TV-4353...</td>\n",
       "    </tr>\n",
       "    <tr>\n",
       "      <th>...</th>\n",
       "      <td>...</td>\n",
       "      <td>...</td>\n",
       "      <td>...</td>\n",
       "      <td>...</td>\n",
       "      <td>...</td>\n",
       "    </tr>\n",
       "    <tr>\n",
       "      <th>202</th>\n",
       "      <td>MONITOR PCYES 21,5” OFFICE LED TN FULL HD COM ...</td>\n",
       "      <td>799.00</td>\n",
       "      <td>1.0</td>\n",
       "      <td>1.0</td>\n",
       "      <td>https://www.amazon.com.br/MONITOR-PCYES-OFFICE...</td>\n",
       "    </tr>\n",
       "    <tr>\n",
       "      <th>203</th>\n",
       "      <td>Monitor 27\" LED GT Gamer FHD HDMI 75Hz</td>\n",
       "      <td>2529.99</td>\n",
       "      <td>0.0</td>\n",
       "      <td>0.0</td>\n",
       "      <td>https://www.amazon.com.br/Monitor-27-Gamer-HDM...</td>\n",
       "    </tr>\n",
       "    <tr>\n",
       "      <th>204</th>\n",
       "      <td>Capa de TV para ambientes externos, protetor u...</td>\n",
       "      <td>758.42</td>\n",
       "      <td>4.6</td>\n",
       "      <td>1066.0</td>\n",
       "      <td>https://www.amazon.com.br/ambientes-universal-...</td>\n",
       "    </tr>\n",
       "    <tr>\n",
       "      <th>205</th>\n",
       "      <td>Peakfeng Armário de TV, placa inferior de TV, ...</td>\n",
       "      <td>5851.13</td>\n",
       "      <td>0.0</td>\n",
       "      <td>0.0</td>\n",
       "      <td>https://www.amazon.com.br/Peakfeng-prateleiras...</td>\n",
       "    </tr>\n",
       "    <tr>\n",
       "      <th>206</th>\n",
       "      <td>Peakfeng Console flutuante de armário de TV, c...</td>\n",
       "      <td>1530.16</td>\n",
       "      <td>0.0</td>\n",
       "      <td>0.0</td>\n",
       "      <td>https://www.amazon.com.br/Peakfeng-flutuante-t...</td>\n",
       "    </tr>\n",
       "  </tbody>\n",
       "</table>\n",
       "<p>207 rows × 5 columns</p>\n",
       "</div>"
      ],
      "text/plain": [
       "                                             Descrição    Preço  Estrelas  \\\n",
       "0    Smart TV LED 43\" Full HD AOC ROKU TV FHD 43S51...  1779.00       4.7   \n",
       "1    Smart TV Philips 50PUG7625 4K UHD, P5, HDR10+,...  2399.00       4.4   \n",
       "2    Smart TV LED 24\" Monitor LG 24TL520S, Wi-Fi, W...  1052.10       4.8   \n",
       "3    Tela Multilaser 24\" HD com Conversor Digital -...   849.00       0.0   \n",
       "4    Smart TV LED 43'' Full HD Semp 43S5300, 2 HDMI...  1899.00       4.5   \n",
       "..                                                 ...      ...       ...   \n",
       "202  MONITOR PCYES 21,5” OFFICE LED TN FULL HD COM ...   799.00       1.0   \n",
       "203             Monitor 27\" LED GT Gamer FHD HDMI 75Hz  2529.99       0.0   \n",
       "204  Capa de TV para ambientes externos, protetor u...   758.42       4.6   \n",
       "205  Peakfeng Armário de TV, placa inferior de TV, ...  5851.13       0.0   \n",
       "206  Peakfeng Console flutuante de armário de TV, c...  1530.16       0.0   \n",
       "\n",
       "     TotalReviews                                                Url  \n",
       "0          2612.0  https://www.amazon.com.br/SMART-AOC-ROKU-43S51...  \n",
       "1           171.0  https://www.amazon.com.br/Smart-Philips-50PUG7...  \n",
       "2          7888.0  https://www.amazon.com.br/Smart-Monitor-LG-Mac...  \n",
       "3             0.0  https://www.amazon.com.br/Tela-Multilaser-com-...  \n",
       "4           287.0  https://www.amazon.com.br/Semp-43S5300-TV-4353...  \n",
       "..            ...                                                ...  \n",
       "202           1.0  https://www.amazon.com.br/MONITOR-PCYES-OFFICE...  \n",
       "203           0.0  https://www.amazon.com.br/Monitor-27-Gamer-HDM...  \n",
       "204        1066.0  https://www.amazon.com.br/ambientes-universal-...  \n",
       "205           0.0  https://www.amazon.com.br/Peakfeng-prateleiras...  \n",
       "206           0.0  https://www.amazon.com.br/Peakfeng-flutuante-t...  \n",
       "\n",
       "[207 rows x 5 columns]"
      ]
     },
     "execution_count": 450,
     "metadata": {},
     "output_type": "execute_result"
    }
   ],
   "source": [
    "dados_tv.drop(labels=dados_tv[dados_tv['Descrição'].str.lower().str.contains('fundo')].index, axis=0,inplace=True)\n",
    "dados_tv.reset_index(drop=True, inplace=True)\n",
    "dados_tv"
   ]
  },
  {
   "cell_type": "code",
   "execution_count": 451,
   "metadata": {},
   "outputs": [
    {
     "data": {
      "text/html": [
       "<div>\n",
       "<style scoped>\n",
       "    .dataframe tbody tr th:only-of-type {\n",
       "        vertical-align: middle;\n",
       "    }\n",
       "\n",
       "    .dataframe tbody tr th {\n",
       "        vertical-align: top;\n",
       "    }\n",
       "\n",
       "    .dataframe thead th {\n",
       "        text-align: right;\n",
       "    }\n",
       "</style>\n",
       "<table border=\"1\" class=\"dataframe\">\n",
       "  <thead>\n",
       "    <tr style=\"text-align: right;\">\n",
       "      <th></th>\n",
       "      <th>Descrição</th>\n",
       "      <th>Preço</th>\n",
       "      <th>Estrelas</th>\n",
       "      <th>TotalReviews</th>\n",
       "      <th>Url</th>\n",
       "      <th>Loja</th>\n",
       "      <th>Categoria</th>\n",
       "    </tr>\n",
       "  </thead>\n",
       "  <tbody>\n",
       "    <tr>\n",
       "      <th>0</th>\n",
       "      <td>Smart TV LED 43\" Full HD AOC ROKU TV FHD 43S51...</td>\n",
       "      <td>1779.00</td>\n",
       "      <td>4.7</td>\n",
       "      <td>2612.0</td>\n",
       "      <td>https://www.amazon.com.br/SMART-AOC-ROKU-43S51...</td>\n",
       "      <td>Amazon</td>\n",
       "      <td>TV</td>\n",
       "    </tr>\n",
       "    <tr>\n",
       "      <th>1</th>\n",
       "      <td>Smart TV Philips 50PUG7625 4K UHD, P5, HDR10+,...</td>\n",
       "      <td>2399.00</td>\n",
       "      <td>4.4</td>\n",
       "      <td>171.0</td>\n",
       "      <td>https://www.amazon.com.br/Smart-Philips-50PUG7...</td>\n",
       "      <td>Amazon</td>\n",
       "      <td>TV</td>\n",
       "    </tr>\n",
       "    <tr>\n",
       "      <th>2</th>\n",
       "      <td>Smart TV LED 24\" Monitor LG 24TL520S, Wi-Fi, W...</td>\n",
       "      <td>1052.10</td>\n",
       "      <td>4.8</td>\n",
       "      <td>7888.0</td>\n",
       "      <td>https://www.amazon.com.br/Smart-Monitor-LG-Mac...</td>\n",
       "      <td>Amazon</td>\n",
       "      <td>TV</td>\n",
       "    </tr>\n",
       "    <tr>\n",
       "      <th>3</th>\n",
       "      <td>Tela Multilaser 24\" HD com Conversor Digital -...</td>\n",
       "      <td>849.00</td>\n",
       "      <td>0.0</td>\n",
       "      <td>0.0</td>\n",
       "      <td>https://www.amazon.com.br/Tela-Multilaser-com-...</td>\n",
       "      <td>Amazon</td>\n",
       "      <td>TV</td>\n",
       "    </tr>\n",
       "    <tr>\n",
       "      <th>4</th>\n",
       "      <td>Smart TV LED 43'' Full HD Semp 43S5300, 2 HDMI...</td>\n",
       "      <td>1899.00</td>\n",
       "      <td>4.5</td>\n",
       "      <td>287.0</td>\n",
       "      <td>https://www.amazon.com.br/Semp-43S5300-TV-4353...</td>\n",
       "      <td>Amazon</td>\n",
       "      <td>TV</td>\n",
       "    </tr>\n",
       "    <tr>\n",
       "      <th>...</th>\n",
       "      <td>...</td>\n",
       "      <td>...</td>\n",
       "      <td>...</td>\n",
       "      <td>...</td>\n",
       "      <td>...</td>\n",
       "      <td>...</td>\n",
       "      <td>...</td>\n",
       "    </tr>\n",
       "    <tr>\n",
       "      <th>202</th>\n",
       "      <td>MONITOR PCYES 21,5” OFFICE LED TN FULL HD COM ...</td>\n",
       "      <td>799.00</td>\n",
       "      <td>1.0</td>\n",
       "      <td>1.0</td>\n",
       "      <td>https://www.amazon.com.br/MONITOR-PCYES-OFFICE...</td>\n",
       "      <td>Amazon</td>\n",
       "      <td>TV</td>\n",
       "    </tr>\n",
       "    <tr>\n",
       "      <th>203</th>\n",
       "      <td>Monitor 27\" LED GT Gamer FHD HDMI 75Hz</td>\n",
       "      <td>2529.99</td>\n",
       "      <td>0.0</td>\n",
       "      <td>0.0</td>\n",
       "      <td>https://www.amazon.com.br/Monitor-27-Gamer-HDM...</td>\n",
       "      <td>Amazon</td>\n",
       "      <td>TV</td>\n",
       "    </tr>\n",
       "    <tr>\n",
       "      <th>204</th>\n",
       "      <td>Capa de TV para ambientes externos, protetor u...</td>\n",
       "      <td>758.42</td>\n",
       "      <td>4.6</td>\n",
       "      <td>1066.0</td>\n",
       "      <td>https://www.amazon.com.br/ambientes-universal-...</td>\n",
       "      <td>Amazon</td>\n",
       "      <td>TV</td>\n",
       "    </tr>\n",
       "    <tr>\n",
       "      <th>205</th>\n",
       "      <td>Peakfeng Armário de TV, placa inferior de TV, ...</td>\n",
       "      <td>5851.13</td>\n",
       "      <td>0.0</td>\n",
       "      <td>0.0</td>\n",
       "      <td>https://www.amazon.com.br/Peakfeng-prateleiras...</td>\n",
       "      <td>Amazon</td>\n",
       "      <td>TV</td>\n",
       "    </tr>\n",
       "    <tr>\n",
       "      <th>206</th>\n",
       "      <td>Peakfeng Console flutuante de armário de TV, c...</td>\n",
       "      <td>1530.16</td>\n",
       "      <td>0.0</td>\n",
       "      <td>0.0</td>\n",
       "      <td>https://www.amazon.com.br/Peakfeng-flutuante-t...</td>\n",
       "      <td>Amazon</td>\n",
       "      <td>TV</td>\n",
       "    </tr>\n",
       "  </tbody>\n",
       "</table>\n",
       "<p>207 rows × 7 columns</p>\n",
       "</div>"
      ],
      "text/plain": [
       "                                             Descrição    Preço  Estrelas  \\\n",
       "0    Smart TV LED 43\" Full HD AOC ROKU TV FHD 43S51...  1779.00       4.7   \n",
       "1    Smart TV Philips 50PUG7625 4K UHD, P5, HDR10+,...  2399.00       4.4   \n",
       "2    Smart TV LED 24\" Monitor LG 24TL520S, Wi-Fi, W...  1052.10       4.8   \n",
       "3    Tela Multilaser 24\" HD com Conversor Digital -...   849.00       0.0   \n",
       "4    Smart TV LED 43'' Full HD Semp 43S5300, 2 HDMI...  1899.00       4.5   \n",
       "..                                                 ...      ...       ...   \n",
       "202  MONITOR PCYES 21,5” OFFICE LED TN FULL HD COM ...   799.00       1.0   \n",
       "203             Monitor 27\" LED GT Gamer FHD HDMI 75Hz  2529.99       0.0   \n",
       "204  Capa de TV para ambientes externos, protetor u...   758.42       4.6   \n",
       "205  Peakfeng Armário de TV, placa inferior de TV, ...  5851.13       0.0   \n",
       "206  Peakfeng Console flutuante de armário de TV, c...  1530.16       0.0   \n",
       "\n",
       "     TotalReviews                                                Url    Loja  \\\n",
       "0          2612.0  https://www.amazon.com.br/SMART-AOC-ROKU-43S51...  Amazon   \n",
       "1           171.0  https://www.amazon.com.br/Smart-Philips-50PUG7...  Amazon   \n",
       "2          7888.0  https://www.amazon.com.br/Smart-Monitor-LG-Mac...  Amazon   \n",
       "3             0.0  https://www.amazon.com.br/Tela-Multilaser-com-...  Amazon   \n",
       "4           287.0  https://www.amazon.com.br/Semp-43S5300-TV-4353...  Amazon   \n",
       "..            ...                                                ...     ...   \n",
       "202           1.0  https://www.amazon.com.br/MONITOR-PCYES-OFFICE...  Amazon   \n",
       "203           0.0  https://www.amazon.com.br/Monitor-27-Gamer-HDM...  Amazon   \n",
       "204        1066.0  https://www.amazon.com.br/ambientes-universal-...  Amazon   \n",
       "205           0.0  https://www.amazon.com.br/Peakfeng-prateleiras...  Amazon   \n",
       "206           0.0  https://www.amazon.com.br/Peakfeng-flutuante-t...  Amazon   \n",
       "\n",
       "    Categoria  \n",
       "0          TV  \n",
       "1          TV  \n",
       "2          TV  \n",
       "3          TV  \n",
       "4          TV  \n",
       "..        ...  \n",
       "202        TV  \n",
       "203        TV  \n",
       "204        TV  \n",
       "205        TV  \n",
       "206        TV  \n",
       "\n",
       "[207 rows x 7 columns]"
      ]
     },
     "execution_count": 451,
     "metadata": {},
     "output_type": "execute_result"
    }
   ],
   "source": [
    "dados_tv['Loja'] = 'Amazon'\n",
    "dados_tv['Categoria'] = 'TV'\n",
    "dados_tv"
   ]
  },
  {
   "cell_type": "markdown",
   "metadata": {},
   "source": [
    "## Removendo outliers dados sobre tvs"
   ]
  },
  {
   "cell_type": "code",
   "execution_count": 452,
   "metadata": {},
   "outputs": [
    {
     "data": {
      "application/vnd.plotly.v1+json": {
       "config": {
        "plotlyServerURL": "https://plot.ly"
       },
       "data": [
        {
         "alignmentgroup": "True",
         "hovertemplate": "Preço=%{y}<extra></extra>",
         "legendgroup": "",
         "marker": {
          "color": "#636efa"
         },
         "name": "",
         "notched": true,
         "offsetgroup": "",
         "orientation": "v",
         "showlegend": false,
         "type": "box",
         "x0": " ",
         "xaxis": "x",
         "y": [
          1779,
          2399,
          1052.1,
          849,
          1899,
          1998.99,
          5249,
          2083.11,
          3749,
          3583.48,
          3610,
          1555,
          1519.05,
          1405.02,
          2784.72,
          1319.01,
          2184.9,
          2687.55,
          2399.99,
          1329,
          1899.99,
          1999,
          1559.98,
          1449,
          2184.05,
          1804.05,
          3609.04,
          8799,
          1649,
          2499.99,
          2399,
          2299.99,
          3198.99,
          3500.97,
          1899,
          3999,
          1448.38,
          2189.9,
          4379.68,
          1889.9,
          2346,
          629.63,
          5878.97,
          1699,
          1489.48,
          2599,
          3456.38,
          1599,
          5999,
          2199.9,
          1199.9,
          1699,
          832.9,
          1524.9,
          4890,
          2316.9,
          1413.68,
          959,
          827.11,
          3149.9,
          919,
          4268.23,
          3898.24,
          649.9,
          4949.9,
          4339,
          2935,
          2152.88,
          2666.52,
          1233,
          1239.9,
          2889.28,
          1173.27,
          646,
          3499,
          1049.9,
          7093,
          1939.9,
          939,
          959,
          683.09,
          2349.06,
          5499,
          1049,
          1100.58,
          1179,
          1888.9,
          1234.05,
          669.99,
          1099,
          844,
          3677.45,
          3283.37,
          1875.27,
          985,
          9677.14,
          1579.65,
          6718.53,
          3644.1,
          1843.9,
          619,
          7647.66,
          7002.39,
          10149.09,
          9514.77,
          8978.04,
          9831.93,
          1292.53,
          9978.31,
          7767.16,
          9490.37,
          1599.24,
          10441.85,
          4254.01,
          1100.58,
          3049.78,
          5415.7,
          1575.07,
          1299.99,
          7266.96,
          4749.05,
          1130,
          2519.35,
          1730.68,
          2497.44,
          1541.46,
          897.92,
          601.65,
          899,
          1708.77,
          2995.33,
          1049,
          3182.54,
          829,
          899,
          1469.99,
          1399,
          1362.12,
          2099,
          615.16,
          1334.9,
          1000,
          861.29,
          1299.99,
          1026.9,
          4596.98,
          1059,
          3399.9,
          946,
          729,
          6910.92,
          1699.9,
          852.7,
          948.9,
          1636.87,
          7427.57,
          1426.78,
          650,
          1599,
          759,
          929,
          1191.45,
          1399,
          3129.99,
          1122.89,
          3998.9,
          3099,
          2240.96,
          3664.95,
          899,
          1302.61,
          8046.24,
          2915.13,
          1061.37,
          1035.93,
          1299.9,
          1002.75,
          1002.75,
          1173.27,
          1469.99,
          1469.99,
          999,
          1189,
          923.7,
          5128.88,
          1018,
          679,
          1587.3,
          2355.61,
          1279.24,
          1114.99,
          2734.56,
          1149,
          731,
          699.9,
          1862.09,
          2401.76,
          6116.1,
          1799,
          676.36,
          674.2,
          696.21,
          799,
          2529.99,
          758.42,
          5851.13,
          1530.16
         ],
         "y0": " ",
         "yaxis": "y"
        }
       ],
       "layout": {
        "boxmode": "group",
        "legend": {
         "tracegroupgap": 0
        },
        "margin": {
         "t": 60
        },
        "template": {
         "data": {
          "bar": [
           {
            "error_x": {
             "color": "#2a3f5f"
            },
            "error_y": {
             "color": "#2a3f5f"
            },
            "marker": {
             "line": {
              "color": "#E5ECF6",
              "width": 0.5
             },
             "pattern": {
              "fillmode": "overlay",
              "size": 10,
              "solidity": 0.2
             }
            },
            "type": "bar"
           }
          ],
          "barpolar": [
           {
            "marker": {
             "line": {
              "color": "#E5ECF6",
              "width": 0.5
             },
             "pattern": {
              "fillmode": "overlay",
              "size": 10,
              "solidity": 0.2
             }
            },
            "type": "barpolar"
           }
          ],
          "carpet": [
           {
            "aaxis": {
             "endlinecolor": "#2a3f5f",
             "gridcolor": "white",
             "linecolor": "white",
             "minorgridcolor": "white",
             "startlinecolor": "#2a3f5f"
            },
            "baxis": {
             "endlinecolor": "#2a3f5f",
             "gridcolor": "white",
             "linecolor": "white",
             "minorgridcolor": "white",
             "startlinecolor": "#2a3f5f"
            },
            "type": "carpet"
           }
          ],
          "choropleth": [
           {
            "colorbar": {
             "outlinewidth": 0,
             "ticks": ""
            },
            "type": "choropleth"
           }
          ],
          "contour": [
           {
            "colorbar": {
             "outlinewidth": 0,
             "ticks": ""
            },
            "colorscale": [
             [
              0,
              "#0d0887"
             ],
             [
              0.1111111111111111,
              "#46039f"
             ],
             [
              0.2222222222222222,
              "#7201a8"
             ],
             [
              0.3333333333333333,
              "#9c179e"
             ],
             [
              0.4444444444444444,
              "#bd3786"
             ],
             [
              0.5555555555555556,
              "#d8576b"
             ],
             [
              0.6666666666666666,
              "#ed7953"
             ],
             [
              0.7777777777777778,
              "#fb9f3a"
             ],
             [
              0.8888888888888888,
              "#fdca26"
             ],
             [
              1,
              "#f0f921"
             ]
            ],
            "type": "contour"
           }
          ],
          "contourcarpet": [
           {
            "colorbar": {
             "outlinewidth": 0,
             "ticks": ""
            },
            "type": "contourcarpet"
           }
          ],
          "heatmap": [
           {
            "colorbar": {
             "outlinewidth": 0,
             "ticks": ""
            },
            "colorscale": [
             [
              0,
              "#0d0887"
             ],
             [
              0.1111111111111111,
              "#46039f"
             ],
             [
              0.2222222222222222,
              "#7201a8"
             ],
             [
              0.3333333333333333,
              "#9c179e"
             ],
             [
              0.4444444444444444,
              "#bd3786"
             ],
             [
              0.5555555555555556,
              "#d8576b"
             ],
             [
              0.6666666666666666,
              "#ed7953"
             ],
             [
              0.7777777777777778,
              "#fb9f3a"
             ],
             [
              0.8888888888888888,
              "#fdca26"
             ],
             [
              1,
              "#f0f921"
             ]
            ],
            "type": "heatmap"
           }
          ],
          "heatmapgl": [
           {
            "colorbar": {
             "outlinewidth": 0,
             "ticks": ""
            },
            "colorscale": [
             [
              0,
              "#0d0887"
             ],
             [
              0.1111111111111111,
              "#46039f"
             ],
             [
              0.2222222222222222,
              "#7201a8"
             ],
             [
              0.3333333333333333,
              "#9c179e"
             ],
             [
              0.4444444444444444,
              "#bd3786"
             ],
             [
              0.5555555555555556,
              "#d8576b"
             ],
             [
              0.6666666666666666,
              "#ed7953"
             ],
             [
              0.7777777777777778,
              "#fb9f3a"
             ],
             [
              0.8888888888888888,
              "#fdca26"
             ],
             [
              1,
              "#f0f921"
             ]
            ],
            "type": "heatmapgl"
           }
          ],
          "histogram": [
           {
            "marker": {
             "pattern": {
              "fillmode": "overlay",
              "size": 10,
              "solidity": 0.2
             }
            },
            "type": "histogram"
           }
          ],
          "histogram2d": [
           {
            "colorbar": {
             "outlinewidth": 0,
             "ticks": ""
            },
            "colorscale": [
             [
              0,
              "#0d0887"
             ],
             [
              0.1111111111111111,
              "#46039f"
             ],
             [
              0.2222222222222222,
              "#7201a8"
             ],
             [
              0.3333333333333333,
              "#9c179e"
             ],
             [
              0.4444444444444444,
              "#bd3786"
             ],
             [
              0.5555555555555556,
              "#d8576b"
             ],
             [
              0.6666666666666666,
              "#ed7953"
             ],
             [
              0.7777777777777778,
              "#fb9f3a"
             ],
             [
              0.8888888888888888,
              "#fdca26"
             ],
             [
              1,
              "#f0f921"
             ]
            ],
            "type": "histogram2d"
           }
          ],
          "histogram2dcontour": [
           {
            "colorbar": {
             "outlinewidth": 0,
             "ticks": ""
            },
            "colorscale": [
             [
              0,
              "#0d0887"
             ],
             [
              0.1111111111111111,
              "#46039f"
             ],
             [
              0.2222222222222222,
              "#7201a8"
             ],
             [
              0.3333333333333333,
              "#9c179e"
             ],
             [
              0.4444444444444444,
              "#bd3786"
             ],
             [
              0.5555555555555556,
              "#d8576b"
             ],
             [
              0.6666666666666666,
              "#ed7953"
             ],
             [
              0.7777777777777778,
              "#fb9f3a"
             ],
             [
              0.8888888888888888,
              "#fdca26"
             ],
             [
              1,
              "#f0f921"
             ]
            ],
            "type": "histogram2dcontour"
           }
          ],
          "mesh3d": [
           {
            "colorbar": {
             "outlinewidth": 0,
             "ticks": ""
            },
            "type": "mesh3d"
           }
          ],
          "parcoords": [
           {
            "line": {
             "colorbar": {
              "outlinewidth": 0,
              "ticks": ""
             }
            },
            "type": "parcoords"
           }
          ],
          "pie": [
           {
            "automargin": true,
            "type": "pie"
           }
          ],
          "scatter": [
           {
            "marker": {
             "colorbar": {
              "outlinewidth": 0,
              "ticks": ""
             }
            },
            "type": "scatter"
           }
          ],
          "scatter3d": [
           {
            "line": {
             "colorbar": {
              "outlinewidth": 0,
              "ticks": ""
             }
            },
            "marker": {
             "colorbar": {
              "outlinewidth": 0,
              "ticks": ""
             }
            },
            "type": "scatter3d"
           }
          ],
          "scattercarpet": [
           {
            "marker": {
             "colorbar": {
              "outlinewidth": 0,
              "ticks": ""
             }
            },
            "type": "scattercarpet"
           }
          ],
          "scattergeo": [
           {
            "marker": {
             "colorbar": {
              "outlinewidth": 0,
              "ticks": ""
             }
            },
            "type": "scattergeo"
           }
          ],
          "scattergl": [
           {
            "marker": {
             "colorbar": {
              "outlinewidth": 0,
              "ticks": ""
             }
            },
            "type": "scattergl"
           }
          ],
          "scattermapbox": [
           {
            "marker": {
             "colorbar": {
              "outlinewidth": 0,
              "ticks": ""
             }
            },
            "type": "scattermapbox"
           }
          ],
          "scatterpolar": [
           {
            "marker": {
             "colorbar": {
              "outlinewidth": 0,
              "ticks": ""
             }
            },
            "type": "scatterpolar"
           }
          ],
          "scatterpolargl": [
           {
            "marker": {
             "colorbar": {
              "outlinewidth": 0,
              "ticks": ""
             }
            },
            "type": "scatterpolargl"
           }
          ],
          "scatterternary": [
           {
            "marker": {
             "colorbar": {
              "outlinewidth": 0,
              "ticks": ""
             }
            },
            "type": "scatterternary"
           }
          ],
          "surface": [
           {
            "colorbar": {
             "outlinewidth": 0,
             "ticks": ""
            },
            "colorscale": [
             [
              0,
              "#0d0887"
             ],
             [
              0.1111111111111111,
              "#46039f"
             ],
             [
              0.2222222222222222,
              "#7201a8"
             ],
             [
              0.3333333333333333,
              "#9c179e"
             ],
             [
              0.4444444444444444,
              "#bd3786"
             ],
             [
              0.5555555555555556,
              "#d8576b"
             ],
             [
              0.6666666666666666,
              "#ed7953"
             ],
             [
              0.7777777777777778,
              "#fb9f3a"
             ],
             [
              0.8888888888888888,
              "#fdca26"
             ],
             [
              1,
              "#f0f921"
             ]
            ],
            "type": "surface"
           }
          ],
          "table": [
           {
            "cells": {
             "fill": {
              "color": "#EBF0F8"
             },
             "line": {
              "color": "white"
             }
            },
            "header": {
             "fill": {
              "color": "#C8D4E3"
             },
             "line": {
              "color": "white"
             }
            },
            "type": "table"
           }
          ]
         },
         "layout": {
          "annotationdefaults": {
           "arrowcolor": "#2a3f5f",
           "arrowhead": 0,
           "arrowwidth": 1
          },
          "autotypenumbers": "strict",
          "coloraxis": {
           "colorbar": {
            "outlinewidth": 0,
            "ticks": ""
           }
          },
          "colorscale": {
           "diverging": [
            [
             0,
             "#8e0152"
            ],
            [
             0.1,
             "#c51b7d"
            ],
            [
             0.2,
             "#de77ae"
            ],
            [
             0.3,
             "#f1b6da"
            ],
            [
             0.4,
             "#fde0ef"
            ],
            [
             0.5,
             "#f7f7f7"
            ],
            [
             0.6,
             "#e6f5d0"
            ],
            [
             0.7,
             "#b8e186"
            ],
            [
             0.8,
             "#7fbc41"
            ],
            [
             0.9,
             "#4d9221"
            ],
            [
             1,
             "#276419"
            ]
           ],
           "sequential": [
            [
             0,
             "#0d0887"
            ],
            [
             0.1111111111111111,
             "#46039f"
            ],
            [
             0.2222222222222222,
             "#7201a8"
            ],
            [
             0.3333333333333333,
             "#9c179e"
            ],
            [
             0.4444444444444444,
             "#bd3786"
            ],
            [
             0.5555555555555556,
             "#d8576b"
            ],
            [
             0.6666666666666666,
             "#ed7953"
            ],
            [
             0.7777777777777778,
             "#fb9f3a"
            ],
            [
             0.8888888888888888,
             "#fdca26"
            ],
            [
             1,
             "#f0f921"
            ]
           ],
           "sequentialminus": [
            [
             0,
             "#0d0887"
            ],
            [
             0.1111111111111111,
             "#46039f"
            ],
            [
             0.2222222222222222,
             "#7201a8"
            ],
            [
             0.3333333333333333,
             "#9c179e"
            ],
            [
             0.4444444444444444,
             "#bd3786"
            ],
            [
             0.5555555555555556,
             "#d8576b"
            ],
            [
             0.6666666666666666,
             "#ed7953"
            ],
            [
             0.7777777777777778,
             "#fb9f3a"
            ],
            [
             0.8888888888888888,
             "#fdca26"
            ],
            [
             1,
             "#f0f921"
            ]
           ]
          },
          "colorway": [
           "#636efa",
           "#EF553B",
           "#00cc96",
           "#ab63fa",
           "#FFA15A",
           "#19d3f3",
           "#FF6692",
           "#B6E880",
           "#FF97FF",
           "#FECB52"
          ],
          "font": {
           "color": "#2a3f5f"
          },
          "geo": {
           "bgcolor": "white",
           "lakecolor": "white",
           "landcolor": "#E5ECF6",
           "showlakes": true,
           "showland": true,
           "subunitcolor": "white"
          },
          "hoverlabel": {
           "align": "left"
          },
          "hovermode": "closest",
          "mapbox": {
           "style": "light"
          },
          "paper_bgcolor": "white",
          "plot_bgcolor": "#E5ECF6",
          "polar": {
           "angularaxis": {
            "gridcolor": "white",
            "linecolor": "white",
            "ticks": ""
           },
           "bgcolor": "#E5ECF6",
           "radialaxis": {
            "gridcolor": "white",
            "linecolor": "white",
            "ticks": ""
           }
          },
          "scene": {
           "xaxis": {
            "backgroundcolor": "#E5ECF6",
            "gridcolor": "white",
            "gridwidth": 2,
            "linecolor": "white",
            "showbackground": true,
            "ticks": "",
            "zerolinecolor": "white"
           },
           "yaxis": {
            "backgroundcolor": "#E5ECF6",
            "gridcolor": "white",
            "gridwidth": 2,
            "linecolor": "white",
            "showbackground": true,
            "ticks": "",
            "zerolinecolor": "white"
           },
           "zaxis": {
            "backgroundcolor": "#E5ECF6",
            "gridcolor": "white",
            "gridwidth": 2,
            "linecolor": "white",
            "showbackground": true,
            "ticks": "",
            "zerolinecolor": "white"
           }
          },
          "shapedefaults": {
           "line": {
            "color": "#2a3f5f"
           }
          },
          "ternary": {
           "aaxis": {
            "gridcolor": "white",
            "linecolor": "white",
            "ticks": ""
           },
           "baxis": {
            "gridcolor": "white",
            "linecolor": "white",
            "ticks": ""
           },
           "bgcolor": "#E5ECF6",
           "caxis": {
            "gridcolor": "white",
            "linecolor": "white",
            "ticks": ""
           }
          },
          "title": {
           "x": 0.05
          },
          "xaxis": {
           "automargin": true,
           "gridcolor": "white",
           "linecolor": "white",
           "ticks": "",
           "title": {
            "standoff": 15
           },
           "zerolinecolor": "white",
           "zerolinewidth": 2
          },
          "yaxis": {
           "automargin": true,
           "gridcolor": "white",
           "linecolor": "white",
           "ticks": "",
           "title": {
            "standoff": 15
           },
           "zerolinecolor": "white",
           "zerolinewidth": 2
          }
         }
        },
        "xaxis": {
         "anchor": "y",
         "domain": [
          0,
          1
         ]
        },
        "yaxis": {
         "anchor": "x",
         "domain": [
          0,
          1
         ],
         "title": {
          "text": "Preço"
         }
        }
       }
      }
     },
     "metadata": {},
     "output_type": "display_data"
    }
   ],
   "source": [
    "fig = px.box(dados_tv, y=\"Preço\", notched=True)\n",
    "fig.show()"
   ]
  },
  {
   "cell_type": "code",
   "execution_count": 453,
   "metadata": {},
   "outputs": [
    {
     "name": "stdout",
     "output_type": "stream",
     "text": [
      "Quantidade de outliers:  18\n"
     ]
    }
   ],
   "source": [
    "outliers_index_list_tv = outliers_index_l(dados_tv)\n",
    "df_clean_tv = remove_outliers(dados_tv, outliers_index_list_tv)"
   ]
  },
  {
   "cell_type": "code",
   "execution_count": 454,
   "metadata": {},
   "outputs": [
    {
     "data": {
      "application/vnd.plotly.v1+json": {
       "config": {
        "plotlyServerURL": "https://plot.ly"
       },
       "data": [
        {
         "alignmentgroup": "True",
         "hovertemplate": "Preço=%{y}<extra></extra>",
         "legendgroup": "",
         "marker": {
          "color": "#636efa"
         },
         "name": "",
         "notched": true,
         "offsetgroup": "",
         "orientation": "v",
         "showlegend": false,
         "type": "box",
         "x0": " ",
         "xaxis": "x",
         "y": [
          1779,
          2399,
          1052.1,
          849,
          1899,
          1998.99,
          5249,
          2083.11,
          3749,
          3583.48,
          3610,
          1555,
          1519.05,
          1405.02,
          2784.72,
          1319.01,
          2184.9,
          2687.55,
          2399.99,
          1329,
          1899.99,
          1999,
          1559.98,
          1449,
          2184.05,
          1804.05,
          3609.04,
          1649,
          2499.99,
          2399,
          2299.99,
          3198.99,
          3500.97,
          1899,
          3999,
          1448.38,
          2189.9,
          4379.68,
          1889.9,
          2346,
          629.63,
          5878.97,
          1699,
          1489.48,
          2599,
          3456.38,
          1599,
          5999,
          2199.9,
          1199.9,
          1699,
          832.9,
          1524.9,
          4890,
          2316.9,
          1413.68,
          959,
          827.11,
          3149.9,
          919,
          4268.23,
          3898.24,
          649.9,
          4949.9,
          4339,
          2935,
          2152.88,
          2666.52,
          1233,
          1239.9,
          2889.28,
          1173.27,
          646,
          3499,
          1049.9,
          1939.9,
          939,
          959,
          683.09,
          2349.06,
          5499,
          1049,
          1100.58,
          1179,
          1888.9,
          1234.05,
          669.99,
          1099,
          844,
          3677.45,
          3283.37,
          1875.27,
          985,
          1579.65,
          3644.1,
          1843.9,
          619,
          1292.53,
          1599.24,
          4254.01,
          1100.58,
          3049.78,
          5415.7,
          1575.07,
          1299.99,
          4749.05,
          1130,
          2519.35,
          1730.68,
          2497.44,
          1541.46,
          897.92,
          601.65,
          899,
          1708.77,
          2995.33,
          1049,
          3182.54,
          829,
          899,
          1469.99,
          1399,
          1362.12,
          2099,
          615.16,
          1334.9,
          1000,
          861.29,
          1299.99,
          1026.9,
          4596.98,
          1059,
          3399.9,
          946,
          729,
          1699.9,
          852.7,
          948.9,
          1636.87,
          1426.78,
          650,
          1599,
          759,
          929,
          1191.45,
          1399,
          3129.99,
          1122.89,
          3998.9,
          3099,
          2240.96,
          3664.95,
          899,
          1302.61,
          2915.13,
          1061.37,
          1035.93,
          1299.9,
          1002.75,
          1002.75,
          1173.27,
          1469.99,
          1469.99,
          999,
          1189,
          923.7,
          5128.88,
          1018,
          679,
          1587.3,
          2355.61,
          1279.24,
          1114.99,
          2734.56,
          1149,
          731,
          699.9,
          1862.09,
          2401.76,
          6116.1,
          1799,
          676.36,
          674.2,
          696.21,
          799,
          2529.99,
          758.42,
          5851.13,
          1530.16
         ],
         "y0": " ",
         "yaxis": "y"
        }
       ],
       "layout": {
        "boxmode": "group",
        "legend": {
         "tracegroupgap": 0
        },
        "margin": {
         "t": 60
        },
        "template": {
         "data": {
          "bar": [
           {
            "error_x": {
             "color": "#2a3f5f"
            },
            "error_y": {
             "color": "#2a3f5f"
            },
            "marker": {
             "line": {
              "color": "#E5ECF6",
              "width": 0.5
             },
             "pattern": {
              "fillmode": "overlay",
              "size": 10,
              "solidity": 0.2
             }
            },
            "type": "bar"
           }
          ],
          "barpolar": [
           {
            "marker": {
             "line": {
              "color": "#E5ECF6",
              "width": 0.5
             },
             "pattern": {
              "fillmode": "overlay",
              "size": 10,
              "solidity": 0.2
             }
            },
            "type": "barpolar"
           }
          ],
          "carpet": [
           {
            "aaxis": {
             "endlinecolor": "#2a3f5f",
             "gridcolor": "white",
             "linecolor": "white",
             "minorgridcolor": "white",
             "startlinecolor": "#2a3f5f"
            },
            "baxis": {
             "endlinecolor": "#2a3f5f",
             "gridcolor": "white",
             "linecolor": "white",
             "minorgridcolor": "white",
             "startlinecolor": "#2a3f5f"
            },
            "type": "carpet"
           }
          ],
          "choropleth": [
           {
            "colorbar": {
             "outlinewidth": 0,
             "ticks": ""
            },
            "type": "choropleth"
           }
          ],
          "contour": [
           {
            "colorbar": {
             "outlinewidth": 0,
             "ticks": ""
            },
            "colorscale": [
             [
              0,
              "#0d0887"
             ],
             [
              0.1111111111111111,
              "#46039f"
             ],
             [
              0.2222222222222222,
              "#7201a8"
             ],
             [
              0.3333333333333333,
              "#9c179e"
             ],
             [
              0.4444444444444444,
              "#bd3786"
             ],
             [
              0.5555555555555556,
              "#d8576b"
             ],
             [
              0.6666666666666666,
              "#ed7953"
             ],
             [
              0.7777777777777778,
              "#fb9f3a"
             ],
             [
              0.8888888888888888,
              "#fdca26"
             ],
             [
              1,
              "#f0f921"
             ]
            ],
            "type": "contour"
           }
          ],
          "contourcarpet": [
           {
            "colorbar": {
             "outlinewidth": 0,
             "ticks": ""
            },
            "type": "contourcarpet"
           }
          ],
          "heatmap": [
           {
            "colorbar": {
             "outlinewidth": 0,
             "ticks": ""
            },
            "colorscale": [
             [
              0,
              "#0d0887"
             ],
             [
              0.1111111111111111,
              "#46039f"
             ],
             [
              0.2222222222222222,
              "#7201a8"
             ],
             [
              0.3333333333333333,
              "#9c179e"
             ],
             [
              0.4444444444444444,
              "#bd3786"
             ],
             [
              0.5555555555555556,
              "#d8576b"
             ],
             [
              0.6666666666666666,
              "#ed7953"
             ],
             [
              0.7777777777777778,
              "#fb9f3a"
             ],
             [
              0.8888888888888888,
              "#fdca26"
             ],
             [
              1,
              "#f0f921"
             ]
            ],
            "type": "heatmap"
           }
          ],
          "heatmapgl": [
           {
            "colorbar": {
             "outlinewidth": 0,
             "ticks": ""
            },
            "colorscale": [
             [
              0,
              "#0d0887"
             ],
             [
              0.1111111111111111,
              "#46039f"
             ],
             [
              0.2222222222222222,
              "#7201a8"
             ],
             [
              0.3333333333333333,
              "#9c179e"
             ],
             [
              0.4444444444444444,
              "#bd3786"
             ],
             [
              0.5555555555555556,
              "#d8576b"
             ],
             [
              0.6666666666666666,
              "#ed7953"
             ],
             [
              0.7777777777777778,
              "#fb9f3a"
             ],
             [
              0.8888888888888888,
              "#fdca26"
             ],
             [
              1,
              "#f0f921"
             ]
            ],
            "type": "heatmapgl"
           }
          ],
          "histogram": [
           {
            "marker": {
             "pattern": {
              "fillmode": "overlay",
              "size": 10,
              "solidity": 0.2
             }
            },
            "type": "histogram"
           }
          ],
          "histogram2d": [
           {
            "colorbar": {
             "outlinewidth": 0,
             "ticks": ""
            },
            "colorscale": [
             [
              0,
              "#0d0887"
             ],
             [
              0.1111111111111111,
              "#46039f"
             ],
             [
              0.2222222222222222,
              "#7201a8"
             ],
             [
              0.3333333333333333,
              "#9c179e"
             ],
             [
              0.4444444444444444,
              "#bd3786"
             ],
             [
              0.5555555555555556,
              "#d8576b"
             ],
             [
              0.6666666666666666,
              "#ed7953"
             ],
             [
              0.7777777777777778,
              "#fb9f3a"
             ],
             [
              0.8888888888888888,
              "#fdca26"
             ],
             [
              1,
              "#f0f921"
             ]
            ],
            "type": "histogram2d"
           }
          ],
          "histogram2dcontour": [
           {
            "colorbar": {
             "outlinewidth": 0,
             "ticks": ""
            },
            "colorscale": [
             [
              0,
              "#0d0887"
             ],
             [
              0.1111111111111111,
              "#46039f"
             ],
             [
              0.2222222222222222,
              "#7201a8"
             ],
             [
              0.3333333333333333,
              "#9c179e"
             ],
             [
              0.4444444444444444,
              "#bd3786"
             ],
             [
              0.5555555555555556,
              "#d8576b"
             ],
             [
              0.6666666666666666,
              "#ed7953"
             ],
             [
              0.7777777777777778,
              "#fb9f3a"
             ],
             [
              0.8888888888888888,
              "#fdca26"
             ],
             [
              1,
              "#f0f921"
             ]
            ],
            "type": "histogram2dcontour"
           }
          ],
          "mesh3d": [
           {
            "colorbar": {
             "outlinewidth": 0,
             "ticks": ""
            },
            "type": "mesh3d"
           }
          ],
          "parcoords": [
           {
            "line": {
             "colorbar": {
              "outlinewidth": 0,
              "ticks": ""
             }
            },
            "type": "parcoords"
           }
          ],
          "pie": [
           {
            "automargin": true,
            "type": "pie"
           }
          ],
          "scatter": [
           {
            "marker": {
             "colorbar": {
              "outlinewidth": 0,
              "ticks": ""
             }
            },
            "type": "scatter"
           }
          ],
          "scatter3d": [
           {
            "line": {
             "colorbar": {
              "outlinewidth": 0,
              "ticks": ""
             }
            },
            "marker": {
             "colorbar": {
              "outlinewidth": 0,
              "ticks": ""
             }
            },
            "type": "scatter3d"
           }
          ],
          "scattercarpet": [
           {
            "marker": {
             "colorbar": {
              "outlinewidth": 0,
              "ticks": ""
             }
            },
            "type": "scattercarpet"
           }
          ],
          "scattergeo": [
           {
            "marker": {
             "colorbar": {
              "outlinewidth": 0,
              "ticks": ""
             }
            },
            "type": "scattergeo"
           }
          ],
          "scattergl": [
           {
            "marker": {
             "colorbar": {
              "outlinewidth": 0,
              "ticks": ""
             }
            },
            "type": "scattergl"
           }
          ],
          "scattermapbox": [
           {
            "marker": {
             "colorbar": {
              "outlinewidth": 0,
              "ticks": ""
             }
            },
            "type": "scattermapbox"
           }
          ],
          "scatterpolar": [
           {
            "marker": {
             "colorbar": {
              "outlinewidth": 0,
              "ticks": ""
             }
            },
            "type": "scatterpolar"
           }
          ],
          "scatterpolargl": [
           {
            "marker": {
             "colorbar": {
              "outlinewidth": 0,
              "ticks": ""
             }
            },
            "type": "scatterpolargl"
           }
          ],
          "scatterternary": [
           {
            "marker": {
             "colorbar": {
              "outlinewidth": 0,
              "ticks": ""
             }
            },
            "type": "scatterternary"
           }
          ],
          "surface": [
           {
            "colorbar": {
             "outlinewidth": 0,
             "ticks": ""
            },
            "colorscale": [
             [
              0,
              "#0d0887"
             ],
             [
              0.1111111111111111,
              "#46039f"
             ],
             [
              0.2222222222222222,
              "#7201a8"
             ],
             [
              0.3333333333333333,
              "#9c179e"
             ],
             [
              0.4444444444444444,
              "#bd3786"
             ],
             [
              0.5555555555555556,
              "#d8576b"
             ],
             [
              0.6666666666666666,
              "#ed7953"
             ],
             [
              0.7777777777777778,
              "#fb9f3a"
             ],
             [
              0.8888888888888888,
              "#fdca26"
             ],
             [
              1,
              "#f0f921"
             ]
            ],
            "type": "surface"
           }
          ],
          "table": [
           {
            "cells": {
             "fill": {
              "color": "#EBF0F8"
             },
             "line": {
              "color": "white"
             }
            },
            "header": {
             "fill": {
              "color": "#C8D4E3"
             },
             "line": {
              "color": "white"
             }
            },
            "type": "table"
           }
          ]
         },
         "layout": {
          "annotationdefaults": {
           "arrowcolor": "#2a3f5f",
           "arrowhead": 0,
           "arrowwidth": 1
          },
          "autotypenumbers": "strict",
          "coloraxis": {
           "colorbar": {
            "outlinewidth": 0,
            "ticks": ""
           }
          },
          "colorscale": {
           "diverging": [
            [
             0,
             "#8e0152"
            ],
            [
             0.1,
             "#c51b7d"
            ],
            [
             0.2,
             "#de77ae"
            ],
            [
             0.3,
             "#f1b6da"
            ],
            [
             0.4,
             "#fde0ef"
            ],
            [
             0.5,
             "#f7f7f7"
            ],
            [
             0.6,
             "#e6f5d0"
            ],
            [
             0.7,
             "#b8e186"
            ],
            [
             0.8,
             "#7fbc41"
            ],
            [
             0.9,
             "#4d9221"
            ],
            [
             1,
             "#276419"
            ]
           ],
           "sequential": [
            [
             0,
             "#0d0887"
            ],
            [
             0.1111111111111111,
             "#46039f"
            ],
            [
             0.2222222222222222,
             "#7201a8"
            ],
            [
             0.3333333333333333,
             "#9c179e"
            ],
            [
             0.4444444444444444,
             "#bd3786"
            ],
            [
             0.5555555555555556,
             "#d8576b"
            ],
            [
             0.6666666666666666,
             "#ed7953"
            ],
            [
             0.7777777777777778,
             "#fb9f3a"
            ],
            [
             0.8888888888888888,
             "#fdca26"
            ],
            [
             1,
             "#f0f921"
            ]
           ],
           "sequentialminus": [
            [
             0,
             "#0d0887"
            ],
            [
             0.1111111111111111,
             "#46039f"
            ],
            [
             0.2222222222222222,
             "#7201a8"
            ],
            [
             0.3333333333333333,
             "#9c179e"
            ],
            [
             0.4444444444444444,
             "#bd3786"
            ],
            [
             0.5555555555555556,
             "#d8576b"
            ],
            [
             0.6666666666666666,
             "#ed7953"
            ],
            [
             0.7777777777777778,
             "#fb9f3a"
            ],
            [
             0.8888888888888888,
             "#fdca26"
            ],
            [
             1,
             "#f0f921"
            ]
           ]
          },
          "colorway": [
           "#636efa",
           "#EF553B",
           "#00cc96",
           "#ab63fa",
           "#FFA15A",
           "#19d3f3",
           "#FF6692",
           "#B6E880",
           "#FF97FF",
           "#FECB52"
          ],
          "font": {
           "color": "#2a3f5f"
          },
          "geo": {
           "bgcolor": "white",
           "lakecolor": "white",
           "landcolor": "#E5ECF6",
           "showlakes": true,
           "showland": true,
           "subunitcolor": "white"
          },
          "hoverlabel": {
           "align": "left"
          },
          "hovermode": "closest",
          "mapbox": {
           "style": "light"
          },
          "paper_bgcolor": "white",
          "plot_bgcolor": "#E5ECF6",
          "polar": {
           "angularaxis": {
            "gridcolor": "white",
            "linecolor": "white",
            "ticks": ""
           },
           "bgcolor": "#E5ECF6",
           "radialaxis": {
            "gridcolor": "white",
            "linecolor": "white",
            "ticks": ""
           }
          },
          "scene": {
           "xaxis": {
            "backgroundcolor": "#E5ECF6",
            "gridcolor": "white",
            "gridwidth": 2,
            "linecolor": "white",
            "showbackground": true,
            "ticks": "",
            "zerolinecolor": "white"
           },
           "yaxis": {
            "backgroundcolor": "#E5ECF6",
            "gridcolor": "white",
            "gridwidth": 2,
            "linecolor": "white",
            "showbackground": true,
            "ticks": "",
            "zerolinecolor": "white"
           },
           "zaxis": {
            "backgroundcolor": "#E5ECF6",
            "gridcolor": "white",
            "gridwidth": 2,
            "linecolor": "white",
            "showbackground": true,
            "ticks": "",
            "zerolinecolor": "white"
           }
          },
          "shapedefaults": {
           "line": {
            "color": "#2a3f5f"
           }
          },
          "ternary": {
           "aaxis": {
            "gridcolor": "white",
            "linecolor": "white",
            "ticks": ""
           },
           "baxis": {
            "gridcolor": "white",
            "linecolor": "white",
            "ticks": ""
           },
           "bgcolor": "#E5ECF6",
           "caxis": {
            "gridcolor": "white",
            "linecolor": "white",
            "ticks": ""
           }
          },
          "title": {
           "x": 0.05
          },
          "xaxis": {
           "automargin": true,
           "gridcolor": "white",
           "linecolor": "white",
           "ticks": "",
           "title": {
            "standoff": 15
           },
           "zerolinecolor": "white",
           "zerolinewidth": 2
          },
          "yaxis": {
           "automargin": true,
           "gridcolor": "white",
           "linecolor": "white",
           "ticks": "",
           "title": {
            "standoff": 15
           },
           "zerolinecolor": "white",
           "zerolinewidth": 2
          }
         }
        },
        "xaxis": {
         "anchor": "y",
         "domain": [
          0,
          1
         ]
        },
        "yaxis": {
         "anchor": "x",
         "domain": [
          0,
          1
         ],
         "title": {
          "text": "Preço"
         }
        }
       }
      }
     },
     "metadata": {},
     "output_type": "display_data"
    }
   ],
   "source": [
    "fig = px.box(df_clean_tv, y=\"Preço\", notched=True)\n",
    "fig.show()"
   ]
  },
  {
   "cell_type": "code",
   "execution_count": 455,
   "metadata": {},
   "outputs": [
    {
     "data": {
      "text/html": [
       "<div>\n",
       "<style scoped>\n",
       "    .dataframe tbody tr th:only-of-type {\n",
       "        vertical-align: middle;\n",
       "    }\n",
       "\n",
       "    .dataframe tbody tr th {\n",
       "        vertical-align: top;\n",
       "    }\n",
       "\n",
       "    .dataframe thead th {\n",
       "        text-align: right;\n",
       "    }\n",
       "</style>\n",
       "<table border=\"1\" class=\"dataframe\">\n",
       "  <thead>\n",
       "    <tr style=\"text-align: right;\">\n",
       "      <th></th>\n",
       "      <th>Descrição</th>\n",
       "      <th>Preço</th>\n",
       "      <th>Estrelas</th>\n",
       "      <th>TotalReviews</th>\n",
       "      <th>Url</th>\n",
       "      <th>Loja</th>\n",
       "      <th>Categoria</th>\n",
       "    </tr>\n",
       "  </thead>\n",
       "  <tbody>\n",
       "    <tr>\n",
       "      <th>0</th>\n",
       "      <td>Smart TV LED 43\" Full HD AOC ROKU TV FHD 43S51...</td>\n",
       "      <td>1779.00</td>\n",
       "      <td>4.7</td>\n",
       "      <td>2612.0</td>\n",
       "      <td>https://www.amazon.com.br/SMART-AOC-ROKU-43S51...</td>\n",
       "      <td>Amazon</td>\n",
       "      <td>TV</td>\n",
       "    </tr>\n",
       "    <tr>\n",
       "      <th>1</th>\n",
       "      <td>Smart TV Philips 50PUG7625 4K UHD, P5, HDR10+,...</td>\n",
       "      <td>2399.00</td>\n",
       "      <td>4.4</td>\n",
       "      <td>171.0</td>\n",
       "      <td>https://www.amazon.com.br/Smart-Philips-50PUG7...</td>\n",
       "      <td>Amazon</td>\n",
       "      <td>TV</td>\n",
       "    </tr>\n",
       "    <tr>\n",
       "      <th>2</th>\n",
       "      <td>Smart TV LED 24\" Monitor LG 24TL520S, Wi-Fi, W...</td>\n",
       "      <td>1052.10</td>\n",
       "      <td>4.8</td>\n",
       "      <td>7888.0</td>\n",
       "      <td>https://www.amazon.com.br/Smart-Monitor-LG-Mac...</td>\n",
       "      <td>Amazon</td>\n",
       "      <td>TV</td>\n",
       "    </tr>\n",
       "    <tr>\n",
       "      <th>3</th>\n",
       "      <td>Tela Multilaser 24\" HD com Conversor Digital -...</td>\n",
       "      <td>849.00</td>\n",
       "      <td>0.0</td>\n",
       "      <td>0.0</td>\n",
       "      <td>https://www.amazon.com.br/Tela-Multilaser-com-...</td>\n",
       "      <td>Amazon</td>\n",
       "      <td>TV</td>\n",
       "    </tr>\n",
       "    <tr>\n",
       "      <th>4</th>\n",
       "      <td>Smart TV LED 43'' Full HD Semp 43S5300, 2 HDMI...</td>\n",
       "      <td>1899.00</td>\n",
       "      <td>4.5</td>\n",
       "      <td>287.0</td>\n",
       "      <td>https://www.amazon.com.br/Semp-43S5300-TV-4353...</td>\n",
       "      <td>Amazon</td>\n",
       "      <td>TV</td>\n",
       "    </tr>\n",
       "    <tr>\n",
       "      <th>...</th>\n",
       "      <td>...</td>\n",
       "      <td>...</td>\n",
       "      <td>...</td>\n",
       "      <td>...</td>\n",
       "      <td>...</td>\n",
       "      <td>...</td>\n",
       "      <td>...</td>\n",
       "    </tr>\n",
       "    <tr>\n",
       "      <th>202</th>\n",
       "      <td>MONITOR PCYES 21,5” OFFICE LED TN FULL HD COM ...</td>\n",
       "      <td>799.00</td>\n",
       "      <td>1.0</td>\n",
       "      <td>1.0</td>\n",
       "      <td>https://www.amazon.com.br/MONITOR-PCYES-OFFICE...</td>\n",
       "      <td>Amazon</td>\n",
       "      <td>TV</td>\n",
       "    </tr>\n",
       "    <tr>\n",
       "      <th>203</th>\n",
       "      <td>Monitor 27\" LED GT Gamer FHD HDMI 75Hz</td>\n",
       "      <td>2529.99</td>\n",
       "      <td>0.0</td>\n",
       "      <td>0.0</td>\n",
       "      <td>https://www.amazon.com.br/Monitor-27-Gamer-HDM...</td>\n",
       "      <td>Amazon</td>\n",
       "      <td>TV</td>\n",
       "    </tr>\n",
       "    <tr>\n",
       "      <th>204</th>\n",
       "      <td>Capa de TV para ambientes externos, protetor u...</td>\n",
       "      <td>758.42</td>\n",
       "      <td>4.6</td>\n",
       "      <td>1066.0</td>\n",
       "      <td>https://www.amazon.com.br/ambientes-universal-...</td>\n",
       "      <td>Amazon</td>\n",
       "      <td>TV</td>\n",
       "    </tr>\n",
       "    <tr>\n",
       "      <th>205</th>\n",
       "      <td>Peakfeng Armário de TV, placa inferior de TV, ...</td>\n",
       "      <td>5851.13</td>\n",
       "      <td>0.0</td>\n",
       "      <td>0.0</td>\n",
       "      <td>https://www.amazon.com.br/Peakfeng-prateleiras...</td>\n",
       "      <td>Amazon</td>\n",
       "      <td>TV</td>\n",
       "    </tr>\n",
       "    <tr>\n",
       "      <th>206</th>\n",
       "      <td>Peakfeng Console flutuante de armário de TV, c...</td>\n",
       "      <td>1530.16</td>\n",
       "      <td>0.0</td>\n",
       "      <td>0.0</td>\n",
       "      <td>https://www.amazon.com.br/Peakfeng-flutuante-t...</td>\n",
       "      <td>Amazon</td>\n",
       "      <td>TV</td>\n",
       "    </tr>\n",
       "  </tbody>\n",
       "</table>\n",
       "<p>189 rows × 7 columns</p>\n",
       "</div>"
      ],
      "text/plain": [
       "                                             Descrição    Preço  Estrelas  \\\n",
       "0    Smart TV LED 43\" Full HD AOC ROKU TV FHD 43S51...  1779.00       4.7   \n",
       "1    Smart TV Philips 50PUG7625 4K UHD, P5, HDR10+,...  2399.00       4.4   \n",
       "2    Smart TV LED 24\" Monitor LG 24TL520S, Wi-Fi, W...  1052.10       4.8   \n",
       "3    Tela Multilaser 24\" HD com Conversor Digital -...   849.00       0.0   \n",
       "4    Smart TV LED 43'' Full HD Semp 43S5300, 2 HDMI...  1899.00       4.5   \n",
       "..                                                 ...      ...       ...   \n",
       "202  MONITOR PCYES 21,5” OFFICE LED TN FULL HD COM ...   799.00       1.0   \n",
       "203             Monitor 27\" LED GT Gamer FHD HDMI 75Hz  2529.99       0.0   \n",
       "204  Capa de TV para ambientes externos, protetor u...   758.42       4.6   \n",
       "205  Peakfeng Armário de TV, placa inferior de TV, ...  5851.13       0.0   \n",
       "206  Peakfeng Console flutuante de armário de TV, c...  1530.16       0.0   \n",
       "\n",
       "     TotalReviews                                                Url    Loja  \\\n",
       "0          2612.0  https://www.amazon.com.br/SMART-AOC-ROKU-43S51...  Amazon   \n",
       "1           171.0  https://www.amazon.com.br/Smart-Philips-50PUG7...  Amazon   \n",
       "2          7888.0  https://www.amazon.com.br/Smart-Monitor-LG-Mac...  Amazon   \n",
       "3             0.0  https://www.amazon.com.br/Tela-Multilaser-com-...  Amazon   \n",
       "4           287.0  https://www.amazon.com.br/Semp-43S5300-TV-4353...  Amazon   \n",
       "..            ...                                                ...     ...   \n",
       "202           1.0  https://www.amazon.com.br/MONITOR-PCYES-OFFICE...  Amazon   \n",
       "203           0.0  https://www.amazon.com.br/Monitor-27-Gamer-HDM...  Amazon   \n",
       "204        1066.0  https://www.amazon.com.br/ambientes-universal-...  Amazon   \n",
       "205           0.0  https://www.amazon.com.br/Peakfeng-prateleiras...  Amazon   \n",
       "206           0.0  https://www.amazon.com.br/Peakfeng-flutuante-t...  Amazon   \n",
       "\n",
       "    Categoria  \n",
       "0          TV  \n",
       "1          TV  \n",
       "2          TV  \n",
       "3          TV  \n",
       "4          TV  \n",
       "..        ...  \n",
       "202        TV  \n",
       "203        TV  \n",
       "204        TV  \n",
       "205        TV  \n",
       "206        TV  \n",
       "\n",
       "[189 rows x 7 columns]"
      ]
     },
     "execution_count": 455,
     "metadata": {},
     "output_type": "execute_result"
    }
   ],
   "source": [
    "df_clean_tv"
   ]
  },
  {
   "cell_type": "markdown",
   "metadata": {},
   "source": [
    "# Tratando dados sobre geladeiras"
   ]
  },
  {
   "cell_type": "code",
   "execution_count": 456,
   "metadata": {},
   "outputs": [
    {
     "data": {
      "text/html": [
       "<div>\n",
       "<style scoped>\n",
       "    .dataframe tbody tr th:only-of-type {\n",
       "        vertical-align: middle;\n",
       "    }\n",
       "\n",
       "    .dataframe tbody tr th {\n",
       "        vertical-align: top;\n",
       "    }\n",
       "\n",
       "    .dataframe thead th {\n",
       "        text-align: right;\n",
       "    }\n",
       "</style>\n",
       "<table border=\"1\" class=\"dataframe\">\n",
       "  <thead>\n",
       "    <tr style=\"text-align: right;\">\n",
       "      <th></th>\n",
       "      <th>Descrição</th>\n",
       "      <th>Preço</th>\n",
       "      <th>Estrelas</th>\n",
       "      <th>TotalReviews</th>\n",
       "      <th>Url</th>\n",
       "    </tr>\n",
       "  </thead>\n",
       "  <tbody>\n",
       "    <tr>\n",
       "      <th>0</th>\n",
       "      <td>Pé Geladeira e Fogão Engedom 525 Branco Com Freio</td>\n",
       "      <td>R$ 51,23</td>\n",
       "      <td>4,5 de 5 estrelas</td>\n",
       "      <td>2</td>\n",
       "      <td>https://www.amazon.com.br/gp/slredirect/picass...</td>\n",
       "    </tr>\n",
       "    <tr>\n",
       "      <th>1</th>\n",
       "      <td>amuzer Porta-ovos Binz para geladeira/congelam...</td>\n",
       "      <td>R$ 80,53</td>\n",
       "      <td>0</td>\n",
       "      <td>0</td>\n",
       "      <td>https://www.amazon.com.br/gp/slredirect/picass...</td>\n",
       "    </tr>\n",
       "    <tr>\n",
       "      <th>2</th>\n",
       "      <td>amuzer Porta-ovos Binz para geladeira/congelam...</td>\n",
       "      <td>R$ 152,17</td>\n",
       "      <td>0</td>\n",
       "      <td>0</td>\n",
       "      <td>https://www.amazon.com.br/gp/slredirect/picass...</td>\n",
       "    </tr>\n",
       "    <tr>\n",
       "      <th>3</th>\n",
       "      <td>Geladeira/Refrigerador Cycle Defrost Electrolu...</td>\n",
       "      <td>R$ 1.799,00</td>\n",
       "      <td>4,8 de 5 estrelas</td>\n",
       "      <td>40</td>\n",
       "      <td>https://www.amazon.com.br/Refrigerador-Degelo-...</td>\n",
       "    </tr>\n",
       "    <tr>\n",
       "      <th>4</th>\n",
       "      <td>Geladeira Brastemp Frost Free Duplex 375 litro...</td>\n",
       "      <td>R$ 3.619,00</td>\n",
       "      <td>4,6 de 5 estrelas</td>\n",
       "      <td>54</td>\n",
       "      <td>https://www.amazon.com.br/Geladeira-Brastemp-D...</td>\n",
       "    </tr>\n",
       "    <tr>\n",
       "      <th>...</th>\n",
       "      <td>...</td>\n",
       "      <td>...</td>\n",
       "      <td>...</td>\n",
       "      <td>...</td>\n",
       "      <td>...</td>\n",
       "    </tr>\n",
       "    <tr>\n",
       "      <th>929</th>\n",
       "      <td>ANGSUANG 4 peças de capa para maçaneta de port...</td>\n",
       "      <td>R$ 347,73</td>\n",
       "      <td>0</td>\n",
       "      <td>0</td>\n",
       "      <td>https://www.amazon.com.br/ANGSUANG-ma%C3%A7ane...</td>\n",
       "    </tr>\n",
       "    <tr>\n",
       "      <th>930</th>\n",
       "      <td>ANGSUANG Capa para maçanetas de Natal, boneco ...</td>\n",
       "      <td>R$ 629,21</td>\n",
       "      <td>0</td>\n",
       "      <td>0</td>\n",
       "      <td>https://www.amazon.com.br/ANGSUANG-ma%C3%A7ane...</td>\n",
       "    </tr>\n",
       "    <tr>\n",
       "      <th>931</th>\n",
       "      <td>Garneck 3Pcs Capas Maçaneta Da Porta Padrão Do...</td>\n",
       "      <td>R$ 106,49</td>\n",
       "      <td>0</td>\n",
       "      <td>0</td>\n",
       "      <td>https://www.amazon.com.br/gp/slredirect/picass...</td>\n",
       "    </tr>\n",
       "    <tr>\n",
       "      <th>932</th>\n",
       "      <td>Garneck Conjunto de 4 peças de capas de maçane...</td>\n",
       "      <td>R$ 81,60</td>\n",
       "      <td>0</td>\n",
       "      <td>0</td>\n",
       "      <td>https://www.amazon.com.br/gp/slredirect/picass...</td>\n",
       "    </tr>\n",
       "    <tr>\n",
       "      <th>933</th>\n",
       "      <td>Mobestech 2Pcs Geladeira Maçaneta da Porta Cob...</td>\n",
       "      <td>R$ 80,79</td>\n",
       "      <td>0</td>\n",
       "      <td>0</td>\n",
       "      <td>https://www.amazon.com.br/gp/slredirect/picass...</td>\n",
       "    </tr>\n",
       "  </tbody>\n",
       "</table>\n",
       "<p>934 rows × 5 columns</p>\n",
       "</div>"
      ],
      "text/plain": [
       "                                             Descrição        Preço  \\\n",
       "0    Pé Geladeira e Fogão Engedom 525 Branco Com Freio     R$ 51,23   \n",
       "1    amuzer Porta-ovos Binz para geladeira/congelam...     R$ 80,53   \n",
       "2    amuzer Porta-ovos Binz para geladeira/congelam...    R$ 152,17   \n",
       "3    Geladeira/Refrigerador Cycle Defrost Electrolu...  R$ 1.799,00   \n",
       "4    Geladeira Brastemp Frost Free Duplex 375 litro...  R$ 3.619,00   \n",
       "..                                                 ...          ...   \n",
       "929  ANGSUANG 4 peças de capa para maçaneta de port...    R$ 347,73   \n",
       "930  ANGSUANG Capa para maçanetas de Natal, boneco ...    R$ 629,21   \n",
       "931  Garneck 3Pcs Capas Maçaneta Da Porta Padrão Do...    R$ 106,49   \n",
       "932  Garneck Conjunto de 4 peças de capas de maçane...     R$ 81,60   \n",
       "933  Mobestech 2Pcs Geladeira Maçaneta da Porta Cob...     R$ 80,79   \n",
       "\n",
       "              Estrelas TotalReviews  \\\n",
       "0    4,5 de 5 estrelas            2   \n",
       "1                    0            0   \n",
       "2                    0            0   \n",
       "3    4,8 de 5 estrelas           40   \n",
       "4    4,6 de 5 estrelas           54   \n",
       "..                 ...          ...   \n",
       "929                  0            0   \n",
       "930                  0            0   \n",
       "931                  0            0   \n",
       "932                  0            0   \n",
       "933                  0            0   \n",
       "\n",
       "                                                   Url  \n",
       "0    https://www.amazon.com.br/gp/slredirect/picass...  \n",
       "1    https://www.amazon.com.br/gp/slredirect/picass...  \n",
       "2    https://www.amazon.com.br/gp/slredirect/picass...  \n",
       "3    https://www.amazon.com.br/Refrigerador-Degelo-...  \n",
       "4    https://www.amazon.com.br/Geladeira-Brastemp-D...  \n",
       "..                                                 ...  \n",
       "929  https://www.amazon.com.br/ANGSUANG-ma%C3%A7ane...  \n",
       "930  https://www.amazon.com.br/ANGSUANG-ma%C3%A7ane...  \n",
       "931  https://www.amazon.com.br/gp/slredirect/picass...  \n",
       "932  https://www.amazon.com.br/gp/slredirect/picass...  \n",
       "933  https://www.amazon.com.br/gp/slredirect/picass...  \n",
       "\n",
       "[934 rows x 5 columns]"
      ]
     },
     "execution_count": 456,
     "metadata": {},
     "output_type": "execute_result"
    }
   ],
   "source": [
    "dados_geladeira = pd.read_csv('output/dataset_geladeira.csv',sep=';')\n",
    "dados_geladeira"
   ]
  },
  {
   "cell_type": "code",
   "execution_count": 457,
   "metadata": {},
   "outputs": [
    {
     "data": {
      "text/html": [
       "<div>\n",
       "<style scoped>\n",
       "    .dataframe tbody tr th:only-of-type {\n",
       "        vertical-align: middle;\n",
       "    }\n",
       "\n",
       "    .dataframe tbody tr th {\n",
       "        vertical-align: top;\n",
       "    }\n",
       "\n",
       "    .dataframe thead th {\n",
       "        text-align: right;\n",
       "    }\n",
       "</style>\n",
       "<table border=\"1\" class=\"dataframe\">\n",
       "  <thead>\n",
       "    <tr style=\"text-align: right;\">\n",
       "      <th></th>\n",
       "      <th>Descrição</th>\n",
       "      <th>Preço</th>\n",
       "      <th>Estrelas</th>\n",
       "      <th>TotalReviews</th>\n",
       "      <th>Url</th>\n",
       "    </tr>\n",
       "  </thead>\n",
       "  <tbody>\n",
       "    <tr>\n",
       "      <th>0</th>\n",
       "      <td>Pé Geladeira e Fogão Engedom 525 Branco Com Freio</td>\n",
       "      <td>51.23</td>\n",
       "      <td>4.5</td>\n",
       "      <td>2.0</td>\n",
       "      <td>https://www.amazon.com.br/gp/slredirect/picass...</td>\n",
       "    </tr>\n",
       "    <tr>\n",
       "      <th>1</th>\n",
       "      <td>amuzer Porta-ovos Binz para geladeira/congelam...</td>\n",
       "      <td>80.53</td>\n",
       "      <td>0.0</td>\n",
       "      <td>0.0</td>\n",
       "      <td>https://www.amazon.com.br/gp/slredirect/picass...</td>\n",
       "    </tr>\n",
       "    <tr>\n",
       "      <th>2</th>\n",
       "      <td>amuzer Porta-ovos Binz para geladeira/congelam...</td>\n",
       "      <td>152.17</td>\n",
       "      <td>0.0</td>\n",
       "      <td>0.0</td>\n",
       "      <td>https://www.amazon.com.br/gp/slredirect/picass...</td>\n",
       "    </tr>\n",
       "    <tr>\n",
       "      <th>3</th>\n",
       "      <td>Geladeira/Refrigerador Cycle Defrost Electrolu...</td>\n",
       "      <td>1799.00</td>\n",
       "      <td>4.8</td>\n",
       "      <td>40.0</td>\n",
       "      <td>https://www.amazon.com.br/Refrigerador-Degelo-...</td>\n",
       "    </tr>\n",
       "    <tr>\n",
       "      <th>4</th>\n",
       "      <td>Geladeira Brastemp Frost Free Duplex 375 litro...</td>\n",
       "      <td>3619.00</td>\n",
       "      <td>4.6</td>\n",
       "      <td>54.0</td>\n",
       "      <td>https://www.amazon.com.br/Geladeira-Brastemp-D...</td>\n",
       "    </tr>\n",
       "    <tr>\n",
       "      <th>...</th>\n",
       "      <td>...</td>\n",
       "      <td>...</td>\n",
       "      <td>...</td>\n",
       "      <td>...</td>\n",
       "      <td>...</td>\n",
       "    </tr>\n",
       "    <tr>\n",
       "      <th>929</th>\n",
       "      <td>ANGSUANG 4 peças de capa para maçaneta de port...</td>\n",
       "      <td>347.73</td>\n",
       "      <td>0.0</td>\n",
       "      <td>0.0</td>\n",
       "      <td>https://www.amazon.com.br/ANGSUANG-ma%C3%A7ane...</td>\n",
       "    </tr>\n",
       "    <tr>\n",
       "      <th>930</th>\n",
       "      <td>ANGSUANG Capa para maçanetas de Natal, boneco ...</td>\n",
       "      <td>629.21</td>\n",
       "      <td>0.0</td>\n",
       "      <td>0.0</td>\n",
       "      <td>https://www.amazon.com.br/ANGSUANG-ma%C3%A7ane...</td>\n",
       "    </tr>\n",
       "    <tr>\n",
       "      <th>931</th>\n",
       "      <td>Garneck 3Pcs Capas Maçaneta Da Porta Padrão Do...</td>\n",
       "      <td>106.49</td>\n",
       "      <td>0.0</td>\n",
       "      <td>0.0</td>\n",
       "      <td>https://www.amazon.com.br/gp/slredirect/picass...</td>\n",
       "    </tr>\n",
       "    <tr>\n",
       "      <th>932</th>\n",
       "      <td>Garneck Conjunto de 4 peças de capas de maçane...</td>\n",
       "      <td>81.60</td>\n",
       "      <td>0.0</td>\n",
       "      <td>0.0</td>\n",
       "      <td>https://www.amazon.com.br/gp/slredirect/picass...</td>\n",
       "    </tr>\n",
       "    <tr>\n",
       "      <th>933</th>\n",
       "      <td>Mobestech 2Pcs Geladeira Maçaneta da Porta Cob...</td>\n",
       "      <td>80.79</td>\n",
       "      <td>0.0</td>\n",
       "      <td>0.0</td>\n",
       "      <td>https://www.amazon.com.br/gp/slredirect/picass...</td>\n",
       "    </tr>\n",
       "  </tbody>\n",
       "</table>\n",
       "<p>934 rows × 5 columns</p>\n",
       "</div>"
      ],
      "text/plain": [
       "                                             Descrição    Preço  Estrelas  \\\n",
       "0    Pé Geladeira e Fogão Engedom 525 Branco Com Freio    51.23       4.5   \n",
       "1    amuzer Porta-ovos Binz para geladeira/congelam...    80.53       0.0   \n",
       "2    amuzer Porta-ovos Binz para geladeira/congelam...   152.17       0.0   \n",
       "3    Geladeira/Refrigerador Cycle Defrost Electrolu...  1799.00       4.8   \n",
       "4    Geladeira Brastemp Frost Free Duplex 375 litro...  3619.00       4.6   \n",
       "..                                                 ...      ...       ...   \n",
       "929  ANGSUANG 4 peças de capa para maçaneta de port...   347.73       0.0   \n",
       "930  ANGSUANG Capa para maçanetas de Natal, boneco ...   629.21       0.0   \n",
       "931  Garneck 3Pcs Capas Maçaneta Da Porta Padrão Do...   106.49       0.0   \n",
       "932  Garneck Conjunto de 4 peças de capas de maçane...    81.60       0.0   \n",
       "933  Mobestech 2Pcs Geladeira Maçaneta da Porta Cob...    80.79       0.0   \n",
       "\n",
       "     TotalReviews                                                Url  \n",
       "0             2.0  https://www.amazon.com.br/gp/slredirect/picass...  \n",
       "1             0.0  https://www.amazon.com.br/gp/slredirect/picass...  \n",
       "2             0.0  https://www.amazon.com.br/gp/slredirect/picass...  \n",
       "3            40.0  https://www.amazon.com.br/Refrigerador-Degelo-...  \n",
       "4            54.0  https://www.amazon.com.br/Geladeira-Brastemp-D...  \n",
       "..            ...                                                ...  \n",
       "929           0.0  https://www.amazon.com.br/ANGSUANG-ma%C3%A7ane...  \n",
       "930           0.0  https://www.amazon.com.br/ANGSUANG-ma%C3%A7ane...  \n",
       "931           0.0  https://www.amazon.com.br/gp/slredirect/picass...  \n",
       "932           0.0  https://www.amazon.com.br/gp/slredirect/picass...  \n",
       "933           0.0  https://www.amazon.com.br/gp/slredirect/picass...  \n",
       "\n",
       "[934 rows x 5 columns]"
      ]
     },
     "execution_count": 457,
     "metadata": {},
     "output_type": "execute_result"
    }
   ],
   "source": [
    "arruma_df(dados_geladeira)"
   ]
  },
  {
   "cell_type": "code",
   "execution_count": 458,
   "metadata": {},
   "outputs": [
    {
     "data": {
      "text/plain": [
       "Descrição       0\n",
       "Preço           0\n",
       "Estrelas        7\n",
       "TotalReviews    7\n",
       "Url             0\n",
       "dtype: int64"
      ]
     },
     "execution_count": 458,
     "metadata": {},
     "output_type": "execute_result"
    }
   ],
   "source": [
    "dados_geladeira.isna().sum()"
   ]
  },
  {
   "cell_type": "code",
   "execution_count": 459,
   "metadata": {},
   "outputs": [],
   "source": [
    "dados_geladeira.fillna(0,inplace=True)\n",
    "dados_geladeira_old = dados_geladeira"
   ]
  },
  {
   "cell_type": "code",
   "execution_count": 460,
   "metadata": {},
   "outputs": [],
   "source": [
    "dados_geladeira.query('Preço > 1000.0',inplace=True)"
   ]
  },
  {
   "cell_type": "code",
   "execution_count": 461,
   "metadata": {},
   "outputs": [
    {
     "data": {
      "text/html": [
       "<div>\n",
       "<style scoped>\n",
       "    .dataframe tbody tr th:only-of-type {\n",
       "        vertical-align: middle;\n",
       "    }\n",
       "\n",
       "    .dataframe tbody tr th {\n",
       "        vertical-align: top;\n",
       "    }\n",
       "\n",
       "    .dataframe thead th {\n",
       "        text-align: right;\n",
       "    }\n",
       "</style>\n",
       "<table border=\"1\" class=\"dataframe\">\n",
       "  <thead>\n",
       "    <tr style=\"text-align: right;\">\n",
       "      <th></th>\n",
       "      <th>Descrição</th>\n",
       "      <th>Preço</th>\n",
       "      <th>Estrelas</th>\n",
       "      <th>TotalReviews</th>\n",
       "      <th>Url</th>\n",
       "    </tr>\n",
       "  </thead>\n",
       "  <tbody>\n",
       "    <tr>\n",
       "      <th>0</th>\n",
       "      <td>Geladeira/Refrigerador Cycle Defrost Electrolu...</td>\n",
       "      <td>1799.00</td>\n",
       "      <td>4.8</td>\n",
       "      <td>40.0</td>\n",
       "      <td>https://www.amazon.com.br/Refrigerador-Degelo-...</td>\n",
       "    </tr>\n",
       "    <tr>\n",
       "      <th>1</th>\n",
       "      <td>Geladeira Brastemp Frost Free Duplex 375 litro...</td>\n",
       "      <td>3619.00</td>\n",
       "      <td>4.6</td>\n",
       "      <td>54.0</td>\n",
       "      <td>https://www.amazon.com.br/Geladeira-Brastemp-D...</td>\n",
       "    </tr>\n",
       "    <tr>\n",
       "      <th>2</th>\n",
       "      <td>Geladeira Brastemp Frost Free Side Inverse 540...</td>\n",
       "      <td>5879.99</td>\n",
       "      <td>4.0</td>\n",
       "      <td>15.0</td>\n",
       "      <td>https://www.amazon.com.br/Geladeira-Frost-Inve...</td>\n",
       "    </tr>\n",
       "    <tr>\n",
       "      <th>3</th>\n",
       "      <td>Geladeira/Refrigerador Frost Free cor Inox 310...</td>\n",
       "      <td>2694.00</td>\n",
       "      <td>4.6</td>\n",
       "      <td>7.0</td>\n",
       "      <td>https://www.amazon.com.br/Refrigerador-Electro...</td>\n",
       "    </tr>\n",
       "    <tr>\n",
       "      <th>4</th>\n",
       "      <td>Geladeira/Refrigerador Cycle Defrost Electrolu...</td>\n",
       "      <td>1794.00</td>\n",
       "      <td>4.6</td>\n",
       "      <td>13.0</td>\n",
       "      <td>https://www.amazon.com.br/Refrigerador-Degelo-...</td>\n",
       "    </tr>\n",
       "    <tr>\n",
       "      <th>...</th>\n",
       "      <td>...</td>\n",
       "      <td>...</td>\n",
       "      <td>...</td>\n",
       "      <td>...</td>\n",
       "      <td>...</td>\n",
       "    </tr>\n",
       "    <tr>\n",
       "      <th>309</th>\n",
       "      <td>Freezer Vertical Electrolux Cycle Defrost Uma ...</td>\n",
       "      <td>2479.00</td>\n",
       "      <td>4.8</td>\n",
       "      <td>6.0</td>\n",
       "      <td>https://www.amazon.com.br/Freezer-Electrolux-V...</td>\n",
       "    </tr>\n",
       "    <tr>\n",
       "      <th>310</th>\n",
       "      <td>Máquina De Lavar Panasonic 12kg Titânio NA-F12...</td>\n",
       "      <td>1842.90</td>\n",
       "      <td>5.0</td>\n",
       "      <td>5.0</td>\n",
       "      <td>https://www.amazon.com.br/M%C3%A1quina-Lavar-P...</td>\n",
       "    </tr>\n",
       "    <tr>\n",
       "      <th>311</th>\n",
       "      <td>Frigobar Consul 76 litros com Gaveta Multiuso ...</td>\n",
       "      <td>1459.00</td>\n",
       "      <td>5.0</td>\n",
       "      <td>1.0</td>\n",
       "      <td>https://www.amazon.com.br/Frigobar-Consul-litr...</td>\n",
       "    </tr>\n",
       "    <tr>\n",
       "      <th>312</th>\n",
       "      <td>Cffdoi Mini refrigerador e aquecedor de gelade...</td>\n",
       "      <td>12868.98</td>\n",
       "      <td>0.0</td>\n",
       "      <td>0.0</td>\n",
       "      <td>https://www.amazon.com.br/Cffdoi-refrigerador-...</td>\n",
       "    </tr>\n",
       "    <tr>\n",
       "      <th>313</th>\n",
       "      <td>REFRIGERADOR LG AUTOMATICO SIDE BY SIDE 601 LT...</td>\n",
       "      <td>18058.95</td>\n",
       "      <td>0.0</td>\n",
       "      <td>0.0</td>\n",
       "      <td>https://www.amazon.com.br/REFRIGERADOR-LG-AUTO...</td>\n",
       "    </tr>\n",
       "  </tbody>\n",
       "</table>\n",
       "<p>314 rows × 5 columns</p>\n",
       "</div>"
      ],
      "text/plain": [
       "                                             Descrição     Preço  Estrelas  \\\n",
       "0    Geladeira/Refrigerador Cycle Defrost Electrolu...   1799.00       4.8   \n",
       "1    Geladeira Brastemp Frost Free Duplex 375 litro...   3619.00       4.6   \n",
       "2    Geladeira Brastemp Frost Free Side Inverse 540...   5879.99       4.0   \n",
       "3    Geladeira/Refrigerador Frost Free cor Inox 310...   2694.00       4.6   \n",
       "4    Geladeira/Refrigerador Cycle Defrost Electrolu...   1794.00       4.6   \n",
       "..                                                 ...       ...       ...   \n",
       "309  Freezer Vertical Electrolux Cycle Defrost Uma ...   2479.00       4.8   \n",
       "310  Máquina De Lavar Panasonic 12kg Titânio NA-F12...   1842.90       5.0   \n",
       "311  Frigobar Consul 76 litros com Gaveta Multiuso ...   1459.00       5.0   \n",
       "312  Cffdoi Mini refrigerador e aquecedor de gelade...  12868.98       0.0   \n",
       "313  REFRIGERADOR LG AUTOMATICO SIDE BY SIDE 601 LT...  18058.95       0.0   \n",
       "\n",
       "     TotalReviews                                                Url  \n",
       "0            40.0  https://www.amazon.com.br/Refrigerador-Degelo-...  \n",
       "1            54.0  https://www.amazon.com.br/Geladeira-Brastemp-D...  \n",
       "2            15.0  https://www.amazon.com.br/Geladeira-Frost-Inve...  \n",
       "3             7.0  https://www.amazon.com.br/Refrigerador-Electro...  \n",
       "4            13.0  https://www.amazon.com.br/Refrigerador-Degelo-...  \n",
       "..            ...                                                ...  \n",
       "309           6.0  https://www.amazon.com.br/Freezer-Electrolux-V...  \n",
       "310           5.0  https://www.amazon.com.br/M%C3%A1quina-Lavar-P...  \n",
       "311           1.0  https://www.amazon.com.br/Frigobar-Consul-litr...  \n",
       "312           0.0  https://www.amazon.com.br/Cffdoi-refrigerador-...  \n",
       "313           0.0  https://www.amazon.com.br/REFRIGERADOR-LG-AUTO...  \n",
       "\n",
       "[314 rows x 5 columns]"
      ]
     },
     "execution_count": 461,
     "metadata": {},
     "output_type": "execute_result"
    }
   ],
   "source": [
    "dados_geladeira.reset_index(drop=True, inplace=True)\n",
    "dados_geladeira"
   ]
  },
  {
   "cell_type": "code",
   "execution_count": 462,
   "metadata": {},
   "outputs": [
    {
     "data": {
      "text/html": [
       "<div>\n",
       "<style scoped>\n",
       "    .dataframe tbody tr th:only-of-type {\n",
       "        vertical-align: middle;\n",
       "    }\n",
       "\n",
       "    .dataframe tbody tr th {\n",
       "        vertical-align: top;\n",
       "    }\n",
       "\n",
       "    .dataframe thead th {\n",
       "        text-align: right;\n",
       "    }\n",
       "</style>\n",
       "<table border=\"1\" class=\"dataframe\">\n",
       "  <thead>\n",
       "    <tr style=\"text-align: right;\">\n",
       "      <th></th>\n",
       "      <th>Descrição</th>\n",
       "      <th>Preço</th>\n",
       "      <th>Estrelas</th>\n",
       "      <th>TotalReviews</th>\n",
       "      <th>Url</th>\n",
       "      <th>Loja</th>\n",
       "      <th>Categoria</th>\n",
       "    </tr>\n",
       "  </thead>\n",
       "  <tbody>\n",
       "    <tr>\n",
       "      <th>0</th>\n",
       "      <td>Geladeira/Refrigerador Cycle Defrost Electrolu...</td>\n",
       "      <td>1799.00</td>\n",
       "      <td>4.8</td>\n",
       "      <td>40.0</td>\n",
       "      <td>https://www.amazon.com.br/Refrigerador-Degelo-...</td>\n",
       "      <td>Amazon</td>\n",
       "      <td>Geladeira</td>\n",
       "    </tr>\n",
       "    <tr>\n",
       "      <th>1</th>\n",
       "      <td>Geladeira Brastemp Frost Free Duplex 375 litro...</td>\n",
       "      <td>3619.00</td>\n",
       "      <td>4.6</td>\n",
       "      <td>54.0</td>\n",
       "      <td>https://www.amazon.com.br/Geladeira-Brastemp-D...</td>\n",
       "      <td>Amazon</td>\n",
       "      <td>Geladeira</td>\n",
       "    </tr>\n",
       "    <tr>\n",
       "      <th>2</th>\n",
       "      <td>Geladeira Brastemp Frost Free Side Inverse 540...</td>\n",
       "      <td>5879.99</td>\n",
       "      <td>4.0</td>\n",
       "      <td>15.0</td>\n",
       "      <td>https://www.amazon.com.br/Geladeira-Frost-Inve...</td>\n",
       "      <td>Amazon</td>\n",
       "      <td>Geladeira</td>\n",
       "    </tr>\n",
       "    <tr>\n",
       "      <th>3</th>\n",
       "      <td>Geladeira/Refrigerador Frost Free cor Inox 310...</td>\n",
       "      <td>2694.00</td>\n",
       "      <td>4.6</td>\n",
       "      <td>7.0</td>\n",
       "      <td>https://www.amazon.com.br/Refrigerador-Electro...</td>\n",
       "      <td>Amazon</td>\n",
       "      <td>Geladeira</td>\n",
       "    </tr>\n",
       "    <tr>\n",
       "      <th>4</th>\n",
       "      <td>Geladeira/Refrigerador Cycle Defrost Electrolu...</td>\n",
       "      <td>1794.00</td>\n",
       "      <td>4.6</td>\n",
       "      <td>13.0</td>\n",
       "      <td>https://www.amazon.com.br/Refrigerador-Degelo-...</td>\n",
       "      <td>Amazon</td>\n",
       "      <td>Geladeira</td>\n",
       "    </tr>\n",
       "    <tr>\n",
       "      <th>...</th>\n",
       "      <td>...</td>\n",
       "      <td>...</td>\n",
       "      <td>...</td>\n",
       "      <td>...</td>\n",
       "      <td>...</td>\n",
       "      <td>...</td>\n",
       "      <td>...</td>\n",
       "    </tr>\n",
       "    <tr>\n",
       "      <th>309</th>\n",
       "      <td>Freezer Vertical Electrolux Cycle Defrost Uma ...</td>\n",
       "      <td>2479.00</td>\n",
       "      <td>4.8</td>\n",
       "      <td>6.0</td>\n",
       "      <td>https://www.amazon.com.br/Freezer-Electrolux-V...</td>\n",
       "      <td>Amazon</td>\n",
       "      <td>Geladeira</td>\n",
       "    </tr>\n",
       "    <tr>\n",
       "      <th>310</th>\n",
       "      <td>Máquina De Lavar Panasonic 12kg Titânio NA-F12...</td>\n",
       "      <td>1842.90</td>\n",
       "      <td>5.0</td>\n",
       "      <td>5.0</td>\n",
       "      <td>https://www.amazon.com.br/M%C3%A1quina-Lavar-P...</td>\n",
       "      <td>Amazon</td>\n",
       "      <td>Geladeira</td>\n",
       "    </tr>\n",
       "    <tr>\n",
       "      <th>311</th>\n",
       "      <td>Frigobar Consul 76 litros com Gaveta Multiuso ...</td>\n",
       "      <td>1459.00</td>\n",
       "      <td>5.0</td>\n",
       "      <td>1.0</td>\n",
       "      <td>https://www.amazon.com.br/Frigobar-Consul-litr...</td>\n",
       "      <td>Amazon</td>\n",
       "      <td>Geladeira</td>\n",
       "    </tr>\n",
       "    <tr>\n",
       "      <th>312</th>\n",
       "      <td>Cffdoi Mini refrigerador e aquecedor de gelade...</td>\n",
       "      <td>12868.98</td>\n",
       "      <td>0.0</td>\n",
       "      <td>0.0</td>\n",
       "      <td>https://www.amazon.com.br/Cffdoi-refrigerador-...</td>\n",
       "      <td>Amazon</td>\n",
       "      <td>Geladeira</td>\n",
       "    </tr>\n",
       "    <tr>\n",
       "      <th>313</th>\n",
       "      <td>REFRIGERADOR LG AUTOMATICO SIDE BY SIDE 601 LT...</td>\n",
       "      <td>18058.95</td>\n",
       "      <td>0.0</td>\n",
       "      <td>0.0</td>\n",
       "      <td>https://www.amazon.com.br/REFRIGERADOR-LG-AUTO...</td>\n",
       "      <td>Amazon</td>\n",
       "      <td>Geladeira</td>\n",
       "    </tr>\n",
       "  </tbody>\n",
       "</table>\n",
       "<p>314 rows × 7 columns</p>\n",
       "</div>"
      ],
      "text/plain": [
       "                                             Descrição     Preço  Estrelas  \\\n",
       "0    Geladeira/Refrigerador Cycle Defrost Electrolu...   1799.00       4.8   \n",
       "1    Geladeira Brastemp Frost Free Duplex 375 litro...   3619.00       4.6   \n",
       "2    Geladeira Brastemp Frost Free Side Inverse 540...   5879.99       4.0   \n",
       "3    Geladeira/Refrigerador Frost Free cor Inox 310...   2694.00       4.6   \n",
       "4    Geladeira/Refrigerador Cycle Defrost Electrolu...   1794.00       4.6   \n",
       "..                                                 ...       ...       ...   \n",
       "309  Freezer Vertical Electrolux Cycle Defrost Uma ...   2479.00       4.8   \n",
       "310  Máquina De Lavar Panasonic 12kg Titânio NA-F12...   1842.90       5.0   \n",
       "311  Frigobar Consul 76 litros com Gaveta Multiuso ...   1459.00       5.0   \n",
       "312  Cffdoi Mini refrigerador e aquecedor de gelade...  12868.98       0.0   \n",
       "313  REFRIGERADOR LG AUTOMATICO SIDE BY SIDE 601 LT...  18058.95       0.0   \n",
       "\n",
       "     TotalReviews                                                Url    Loja  \\\n",
       "0            40.0  https://www.amazon.com.br/Refrigerador-Degelo-...  Amazon   \n",
       "1            54.0  https://www.amazon.com.br/Geladeira-Brastemp-D...  Amazon   \n",
       "2            15.0  https://www.amazon.com.br/Geladeira-Frost-Inve...  Amazon   \n",
       "3             7.0  https://www.amazon.com.br/Refrigerador-Electro...  Amazon   \n",
       "4            13.0  https://www.amazon.com.br/Refrigerador-Degelo-...  Amazon   \n",
       "..            ...                                                ...     ...   \n",
       "309           6.0  https://www.amazon.com.br/Freezer-Electrolux-V...  Amazon   \n",
       "310           5.0  https://www.amazon.com.br/M%C3%A1quina-Lavar-P...  Amazon   \n",
       "311           1.0  https://www.amazon.com.br/Frigobar-Consul-litr...  Amazon   \n",
       "312           0.0  https://www.amazon.com.br/Cffdoi-refrigerador-...  Amazon   \n",
       "313           0.0  https://www.amazon.com.br/REFRIGERADOR-LG-AUTO...  Amazon   \n",
       "\n",
       "     Categoria  \n",
       "0    Geladeira  \n",
       "1    Geladeira  \n",
       "2    Geladeira  \n",
       "3    Geladeira  \n",
       "4    Geladeira  \n",
       "..         ...  \n",
       "309  Geladeira  \n",
       "310  Geladeira  \n",
       "311  Geladeira  \n",
       "312  Geladeira  \n",
       "313  Geladeira  \n",
       "\n",
       "[314 rows x 7 columns]"
      ]
     },
     "execution_count": 462,
     "metadata": {},
     "output_type": "execute_result"
    }
   ],
   "source": [
    "dados_geladeira['Loja'] = 'Amazon'\n",
    "dados_geladeira['Categoria'] = 'Geladeira'\n",
    "dados_geladeira"
   ]
  },
  {
   "cell_type": "markdown",
   "metadata": {},
   "source": [
    "## Removendo outliers dados sobre geladeiras"
   ]
  },
  {
   "cell_type": "code",
   "execution_count": 463,
   "metadata": {},
   "outputs": [
    {
     "data": {
      "application/vnd.plotly.v1+json": {
       "config": {
        "plotlyServerURL": "https://plot.ly"
       },
       "data": [
        {
         "alignmentgroup": "True",
         "hovertemplate": "Preço=%{y}<extra></extra>",
         "legendgroup": "",
         "marker": {
          "color": "#636efa"
         },
         "name": "",
         "notched": true,
         "offsetgroup": "",
         "orientation": "v",
         "showlegend": false,
         "type": "box",
         "x0": " ",
         "xaxis": "x",
         "y": [
          1799,
          3619,
          5879.99,
          2694,
          1794,
          2899.9,
          18058.95,
          4268.23,
          2369,
          3144.15,
          3499.9,
          3499.9,
          2374,
          2054,
          4426.9,
          4449,
          5776.93,
          4529,
          1699,
          3099,
          1069,
          2799,
          2099,
          2694,
          2699.9,
          1264.53,
          3124,
          4094,
          3234,
          3034,
          4529,
          2939,
          4945,
          4942.33,
          3899,
          4529,
          2054,
          6221,
          5199.9,
          6221,
          2584,
          1705.23,
          1039,
          6888,
          3299,
          2049,
          2199,
          4844.15,
          1299,
          5064,
          24608.93,
          4717.63,
          3369.43,
          3034,
          4599.93,
          2429,
          2694,
          3449,
          1489,
          7114.43,
          2374,
          3893.73,
          3200.9,
          4460.83,
          3387.99,
          3279,
          1861.79,
          4945,
          2584,
          1063.15,
          4946.9,
          4797.45,
          4399,
          4094,
          4942.33,
          3459,
          3449,
          1614.99,
          9093.93,
          5064,
          1049.99,
          1699.98,
          3554,
          4399.9,
          12359,
          3234,
          2390,
          5699.9,
          5427.45,
          1699,
          2214,
          3989,
          3554,
          3799,
          17244,
          1179.9,
          3599.9,
          2399,
          5064,
          9093.93,
          2999,
          3059.15,
          3879,
          1984,
          3519,
          1098,
          12990,
          3624,
          2674,
          1699,
          3519,
          1663.26,
          3936.45,
          3879,
          3988.95,
          3659,
          1509.31,
          1222.19,
          8839,
          2189,
          3824.15,
          1359,
          5427.45,
          4739,
          4674.15,
          5571,
          1315,
          4844.15,
          4717.63,
          3759,
          3654.15,
          3369.43,
          12614,
          2389,
          5089,
          3988.95,
          4164.15,
          2099,
          8799,
          2168.21,
          12990,
          4529,
          4199,
          1904.46,
          3124,
          1589.99,
          1690,
          5999.9,
          6888,
          6999.9,
          8452.12,
          8799,
          4249,
          3449,
          6224,
          2299,
          18324,
          8839,
          3999,
          3799,
          4349,
          3124,
          3459,
          4699,
          21124,
          3149,
          7739,
          1899.9,
          3989,
          3909.15,
          3299,
          13990,
          11632.95,
          2861.4,
          3899,
          3979.95,
          1900.12,
          3999,
          1247.68,
          1450.78,
          4094,
          1359,
          12614,
          3599.9,
          3468.75,
          1659,
          4739,
          2181.23,
          1984,
          4529,
          4349,
          5089,
          1368.53,
          3759,
          4239.99,
          5986.62,
          5590,
          2849,
          5986.62,
          1609.9,
          3659,
          1199,
          3487.32,
          3599.9,
          3930.1,
          1639,
          3768.37,
          6890,
          5050.89,
          5291.48,
          3959,
          2379.95,
          4599,
          1705.23,
          7527.45,
          4299,
          2674,
          1799,
          4599,
          2679,
          2694,
          6224,
          5064,
          1636.79,
          4309,
          12990,
          3410.89,
          7240.89,
          3470.89,
          1690.89,
          2450.89,
          2830.89,
          2590.89,
          3320.89,
          1580.89,
          8620.89,
          2870.89,
          1280.89,
          1110.89,
          1260.89,
          2360.89,
          1410.89,
          2670.89,
          1150.89,
          2640.89,
          3280.89,
          2470.89,
          2873.05,
          1212.3,
          1992.99,
          2559.99,
          1880.89,
          7666.66,
          8161.99,
          3499.9,
          3899,
          1903.53,
          1167,
          2937.69,
          2227.26,
          3999.99,
          4097.03,
          1264.53,
          1070,
          1280.89,
          1531.64,
          1616.99,
          2715.9,
          2535.65,
          3790.89,
          1790,
          18690,
          1705.23,
          2899.9,
          3399,
          1730.89,
          3759,
          3849,
          2744.83,
          6449.64,
          2720.97,
          4199,
          4299,
          14068.95,
          1349.91,
          3468.75,
          3096.9,
          3096.9,
          6198.03,
          3959,
          3562.92,
          23990.94,
          1199,
          1640.89,
          2114.48,
          2312.1,
          4472.21,
          1168.24,
          4223.56,
          5599,
          2021.23,
          2199,
          3349,
          4379,
          1299.89,
          2943.99,
          3313.09,
          2499,
          1858.35,
          2479,
          1842.9,
          1459,
          12868.98,
          18058.95
         ],
         "y0": " ",
         "yaxis": "y"
        }
       ],
       "layout": {
        "boxmode": "group",
        "legend": {
         "tracegroupgap": 0
        },
        "margin": {
         "t": 60
        },
        "template": {
         "data": {
          "bar": [
           {
            "error_x": {
             "color": "#2a3f5f"
            },
            "error_y": {
             "color": "#2a3f5f"
            },
            "marker": {
             "line": {
              "color": "#E5ECF6",
              "width": 0.5
             },
             "pattern": {
              "fillmode": "overlay",
              "size": 10,
              "solidity": 0.2
             }
            },
            "type": "bar"
           }
          ],
          "barpolar": [
           {
            "marker": {
             "line": {
              "color": "#E5ECF6",
              "width": 0.5
             },
             "pattern": {
              "fillmode": "overlay",
              "size": 10,
              "solidity": 0.2
             }
            },
            "type": "barpolar"
           }
          ],
          "carpet": [
           {
            "aaxis": {
             "endlinecolor": "#2a3f5f",
             "gridcolor": "white",
             "linecolor": "white",
             "minorgridcolor": "white",
             "startlinecolor": "#2a3f5f"
            },
            "baxis": {
             "endlinecolor": "#2a3f5f",
             "gridcolor": "white",
             "linecolor": "white",
             "minorgridcolor": "white",
             "startlinecolor": "#2a3f5f"
            },
            "type": "carpet"
           }
          ],
          "choropleth": [
           {
            "colorbar": {
             "outlinewidth": 0,
             "ticks": ""
            },
            "type": "choropleth"
           }
          ],
          "contour": [
           {
            "colorbar": {
             "outlinewidth": 0,
             "ticks": ""
            },
            "colorscale": [
             [
              0,
              "#0d0887"
             ],
             [
              0.1111111111111111,
              "#46039f"
             ],
             [
              0.2222222222222222,
              "#7201a8"
             ],
             [
              0.3333333333333333,
              "#9c179e"
             ],
             [
              0.4444444444444444,
              "#bd3786"
             ],
             [
              0.5555555555555556,
              "#d8576b"
             ],
             [
              0.6666666666666666,
              "#ed7953"
             ],
             [
              0.7777777777777778,
              "#fb9f3a"
             ],
             [
              0.8888888888888888,
              "#fdca26"
             ],
             [
              1,
              "#f0f921"
             ]
            ],
            "type": "contour"
           }
          ],
          "contourcarpet": [
           {
            "colorbar": {
             "outlinewidth": 0,
             "ticks": ""
            },
            "type": "contourcarpet"
           }
          ],
          "heatmap": [
           {
            "colorbar": {
             "outlinewidth": 0,
             "ticks": ""
            },
            "colorscale": [
             [
              0,
              "#0d0887"
             ],
             [
              0.1111111111111111,
              "#46039f"
             ],
             [
              0.2222222222222222,
              "#7201a8"
             ],
             [
              0.3333333333333333,
              "#9c179e"
             ],
             [
              0.4444444444444444,
              "#bd3786"
             ],
             [
              0.5555555555555556,
              "#d8576b"
             ],
             [
              0.6666666666666666,
              "#ed7953"
             ],
             [
              0.7777777777777778,
              "#fb9f3a"
             ],
             [
              0.8888888888888888,
              "#fdca26"
             ],
             [
              1,
              "#f0f921"
             ]
            ],
            "type": "heatmap"
           }
          ],
          "heatmapgl": [
           {
            "colorbar": {
             "outlinewidth": 0,
             "ticks": ""
            },
            "colorscale": [
             [
              0,
              "#0d0887"
             ],
             [
              0.1111111111111111,
              "#46039f"
             ],
             [
              0.2222222222222222,
              "#7201a8"
             ],
             [
              0.3333333333333333,
              "#9c179e"
             ],
             [
              0.4444444444444444,
              "#bd3786"
             ],
             [
              0.5555555555555556,
              "#d8576b"
             ],
             [
              0.6666666666666666,
              "#ed7953"
             ],
             [
              0.7777777777777778,
              "#fb9f3a"
             ],
             [
              0.8888888888888888,
              "#fdca26"
             ],
             [
              1,
              "#f0f921"
             ]
            ],
            "type": "heatmapgl"
           }
          ],
          "histogram": [
           {
            "marker": {
             "pattern": {
              "fillmode": "overlay",
              "size": 10,
              "solidity": 0.2
             }
            },
            "type": "histogram"
           }
          ],
          "histogram2d": [
           {
            "colorbar": {
             "outlinewidth": 0,
             "ticks": ""
            },
            "colorscale": [
             [
              0,
              "#0d0887"
             ],
             [
              0.1111111111111111,
              "#46039f"
             ],
             [
              0.2222222222222222,
              "#7201a8"
             ],
             [
              0.3333333333333333,
              "#9c179e"
             ],
             [
              0.4444444444444444,
              "#bd3786"
             ],
             [
              0.5555555555555556,
              "#d8576b"
             ],
             [
              0.6666666666666666,
              "#ed7953"
             ],
             [
              0.7777777777777778,
              "#fb9f3a"
             ],
             [
              0.8888888888888888,
              "#fdca26"
             ],
             [
              1,
              "#f0f921"
             ]
            ],
            "type": "histogram2d"
           }
          ],
          "histogram2dcontour": [
           {
            "colorbar": {
             "outlinewidth": 0,
             "ticks": ""
            },
            "colorscale": [
             [
              0,
              "#0d0887"
             ],
             [
              0.1111111111111111,
              "#46039f"
             ],
             [
              0.2222222222222222,
              "#7201a8"
             ],
             [
              0.3333333333333333,
              "#9c179e"
             ],
             [
              0.4444444444444444,
              "#bd3786"
             ],
             [
              0.5555555555555556,
              "#d8576b"
             ],
             [
              0.6666666666666666,
              "#ed7953"
             ],
             [
              0.7777777777777778,
              "#fb9f3a"
             ],
             [
              0.8888888888888888,
              "#fdca26"
             ],
             [
              1,
              "#f0f921"
             ]
            ],
            "type": "histogram2dcontour"
           }
          ],
          "mesh3d": [
           {
            "colorbar": {
             "outlinewidth": 0,
             "ticks": ""
            },
            "type": "mesh3d"
           }
          ],
          "parcoords": [
           {
            "line": {
             "colorbar": {
              "outlinewidth": 0,
              "ticks": ""
             }
            },
            "type": "parcoords"
           }
          ],
          "pie": [
           {
            "automargin": true,
            "type": "pie"
           }
          ],
          "scatter": [
           {
            "marker": {
             "colorbar": {
              "outlinewidth": 0,
              "ticks": ""
             }
            },
            "type": "scatter"
           }
          ],
          "scatter3d": [
           {
            "line": {
             "colorbar": {
              "outlinewidth": 0,
              "ticks": ""
             }
            },
            "marker": {
             "colorbar": {
              "outlinewidth": 0,
              "ticks": ""
             }
            },
            "type": "scatter3d"
           }
          ],
          "scattercarpet": [
           {
            "marker": {
             "colorbar": {
              "outlinewidth": 0,
              "ticks": ""
             }
            },
            "type": "scattercarpet"
           }
          ],
          "scattergeo": [
           {
            "marker": {
             "colorbar": {
              "outlinewidth": 0,
              "ticks": ""
             }
            },
            "type": "scattergeo"
           }
          ],
          "scattergl": [
           {
            "marker": {
             "colorbar": {
              "outlinewidth": 0,
              "ticks": ""
             }
            },
            "type": "scattergl"
           }
          ],
          "scattermapbox": [
           {
            "marker": {
             "colorbar": {
              "outlinewidth": 0,
              "ticks": ""
             }
            },
            "type": "scattermapbox"
           }
          ],
          "scatterpolar": [
           {
            "marker": {
             "colorbar": {
              "outlinewidth": 0,
              "ticks": ""
             }
            },
            "type": "scatterpolar"
           }
          ],
          "scatterpolargl": [
           {
            "marker": {
             "colorbar": {
              "outlinewidth": 0,
              "ticks": ""
             }
            },
            "type": "scatterpolargl"
           }
          ],
          "scatterternary": [
           {
            "marker": {
             "colorbar": {
              "outlinewidth": 0,
              "ticks": ""
             }
            },
            "type": "scatterternary"
           }
          ],
          "surface": [
           {
            "colorbar": {
             "outlinewidth": 0,
             "ticks": ""
            },
            "colorscale": [
             [
              0,
              "#0d0887"
             ],
             [
              0.1111111111111111,
              "#46039f"
             ],
             [
              0.2222222222222222,
              "#7201a8"
             ],
             [
              0.3333333333333333,
              "#9c179e"
             ],
             [
              0.4444444444444444,
              "#bd3786"
             ],
             [
              0.5555555555555556,
              "#d8576b"
             ],
             [
              0.6666666666666666,
              "#ed7953"
             ],
             [
              0.7777777777777778,
              "#fb9f3a"
             ],
             [
              0.8888888888888888,
              "#fdca26"
             ],
             [
              1,
              "#f0f921"
             ]
            ],
            "type": "surface"
           }
          ],
          "table": [
           {
            "cells": {
             "fill": {
              "color": "#EBF0F8"
             },
             "line": {
              "color": "white"
             }
            },
            "header": {
             "fill": {
              "color": "#C8D4E3"
             },
             "line": {
              "color": "white"
             }
            },
            "type": "table"
           }
          ]
         },
         "layout": {
          "annotationdefaults": {
           "arrowcolor": "#2a3f5f",
           "arrowhead": 0,
           "arrowwidth": 1
          },
          "autotypenumbers": "strict",
          "coloraxis": {
           "colorbar": {
            "outlinewidth": 0,
            "ticks": ""
           }
          },
          "colorscale": {
           "diverging": [
            [
             0,
             "#8e0152"
            ],
            [
             0.1,
             "#c51b7d"
            ],
            [
             0.2,
             "#de77ae"
            ],
            [
             0.3,
             "#f1b6da"
            ],
            [
             0.4,
             "#fde0ef"
            ],
            [
             0.5,
             "#f7f7f7"
            ],
            [
             0.6,
             "#e6f5d0"
            ],
            [
             0.7,
             "#b8e186"
            ],
            [
             0.8,
             "#7fbc41"
            ],
            [
             0.9,
             "#4d9221"
            ],
            [
             1,
             "#276419"
            ]
           ],
           "sequential": [
            [
             0,
             "#0d0887"
            ],
            [
             0.1111111111111111,
             "#46039f"
            ],
            [
             0.2222222222222222,
             "#7201a8"
            ],
            [
             0.3333333333333333,
             "#9c179e"
            ],
            [
             0.4444444444444444,
             "#bd3786"
            ],
            [
             0.5555555555555556,
             "#d8576b"
            ],
            [
             0.6666666666666666,
             "#ed7953"
            ],
            [
             0.7777777777777778,
             "#fb9f3a"
            ],
            [
             0.8888888888888888,
             "#fdca26"
            ],
            [
             1,
             "#f0f921"
            ]
           ],
           "sequentialminus": [
            [
             0,
             "#0d0887"
            ],
            [
             0.1111111111111111,
             "#46039f"
            ],
            [
             0.2222222222222222,
             "#7201a8"
            ],
            [
             0.3333333333333333,
             "#9c179e"
            ],
            [
             0.4444444444444444,
             "#bd3786"
            ],
            [
             0.5555555555555556,
             "#d8576b"
            ],
            [
             0.6666666666666666,
             "#ed7953"
            ],
            [
             0.7777777777777778,
             "#fb9f3a"
            ],
            [
             0.8888888888888888,
             "#fdca26"
            ],
            [
             1,
             "#f0f921"
            ]
           ]
          },
          "colorway": [
           "#636efa",
           "#EF553B",
           "#00cc96",
           "#ab63fa",
           "#FFA15A",
           "#19d3f3",
           "#FF6692",
           "#B6E880",
           "#FF97FF",
           "#FECB52"
          ],
          "font": {
           "color": "#2a3f5f"
          },
          "geo": {
           "bgcolor": "white",
           "lakecolor": "white",
           "landcolor": "#E5ECF6",
           "showlakes": true,
           "showland": true,
           "subunitcolor": "white"
          },
          "hoverlabel": {
           "align": "left"
          },
          "hovermode": "closest",
          "mapbox": {
           "style": "light"
          },
          "paper_bgcolor": "white",
          "plot_bgcolor": "#E5ECF6",
          "polar": {
           "angularaxis": {
            "gridcolor": "white",
            "linecolor": "white",
            "ticks": ""
           },
           "bgcolor": "#E5ECF6",
           "radialaxis": {
            "gridcolor": "white",
            "linecolor": "white",
            "ticks": ""
           }
          },
          "scene": {
           "xaxis": {
            "backgroundcolor": "#E5ECF6",
            "gridcolor": "white",
            "gridwidth": 2,
            "linecolor": "white",
            "showbackground": true,
            "ticks": "",
            "zerolinecolor": "white"
           },
           "yaxis": {
            "backgroundcolor": "#E5ECF6",
            "gridcolor": "white",
            "gridwidth": 2,
            "linecolor": "white",
            "showbackground": true,
            "ticks": "",
            "zerolinecolor": "white"
           },
           "zaxis": {
            "backgroundcolor": "#E5ECF6",
            "gridcolor": "white",
            "gridwidth": 2,
            "linecolor": "white",
            "showbackground": true,
            "ticks": "",
            "zerolinecolor": "white"
           }
          },
          "shapedefaults": {
           "line": {
            "color": "#2a3f5f"
           }
          },
          "ternary": {
           "aaxis": {
            "gridcolor": "white",
            "linecolor": "white",
            "ticks": ""
           },
           "baxis": {
            "gridcolor": "white",
            "linecolor": "white",
            "ticks": ""
           },
           "bgcolor": "#E5ECF6",
           "caxis": {
            "gridcolor": "white",
            "linecolor": "white",
            "ticks": ""
           }
          },
          "title": {
           "x": 0.05
          },
          "xaxis": {
           "automargin": true,
           "gridcolor": "white",
           "linecolor": "white",
           "ticks": "",
           "title": {
            "standoff": 15
           },
           "zerolinecolor": "white",
           "zerolinewidth": 2
          },
          "yaxis": {
           "automargin": true,
           "gridcolor": "white",
           "linecolor": "white",
           "ticks": "",
           "title": {
            "standoff": 15
           },
           "zerolinecolor": "white",
           "zerolinewidth": 2
          }
         }
        },
        "xaxis": {
         "anchor": "y",
         "domain": [
          0,
          1
         ]
        },
        "yaxis": {
         "anchor": "x",
         "domain": [
          0,
          1
         ],
         "title": {
          "text": "Preço"
         }
        }
       }
      }
     },
     "metadata": {},
     "output_type": "display_data"
    }
   ],
   "source": [
    "fig = px.box(dados_geladeira, y='Preço', notched=True)\n",
    "fig.show()"
   ]
  },
  {
   "cell_type": "code",
   "execution_count": 464,
   "metadata": {},
   "outputs": [
    {
     "name": "stdout",
     "output_type": "stream",
     "text": [
      "Quantidade de outliers:  26\n"
     ]
    }
   ],
   "source": [
    "outliers_index_list_geladeira = outliers_index_l(dados_geladeira)\n",
    "df_clean_geladeira = remove_outliers(dados_geladeira, outliers_index_list_geladeira)"
   ]
  },
  {
   "cell_type": "code",
   "execution_count": 465,
   "metadata": {},
   "outputs": [
    {
     "data": {
      "application/vnd.plotly.v1+json": {
       "config": {
        "plotlyServerURL": "https://plot.ly"
       },
       "data": [
        {
         "alignmentgroup": "True",
         "hovertemplate": "Preço=%{y}<extra></extra>",
         "legendgroup": "",
         "marker": {
          "color": "#636efa"
         },
         "name": "",
         "notched": true,
         "offsetgroup": "",
         "orientation": "v",
         "showlegend": false,
         "type": "box",
         "x0": " ",
         "xaxis": "x",
         "y": [
          1799,
          3619,
          5879.99,
          2694,
          1794,
          2899.9,
          4268.23,
          2369,
          3144.15,
          3499.9,
          3499.9,
          2374,
          2054,
          4426.9,
          4449,
          5776.93,
          4529,
          1699,
          3099,
          1069,
          2799,
          2099,
          2694,
          2699.9,
          1264.53,
          3124,
          4094,
          3234,
          3034,
          4529,
          2939,
          4945,
          4942.33,
          3899,
          4529,
          2054,
          6221,
          5199.9,
          6221,
          2584,
          1705.23,
          1039,
          6888,
          3299,
          2049,
          2199,
          4844.15,
          1299,
          5064,
          4717.63,
          3369.43,
          3034,
          4599.93,
          2429,
          2694,
          3449,
          1489,
          7114.43,
          2374,
          3893.73,
          3200.9,
          4460.83,
          3387.99,
          3279,
          1861.79,
          4945,
          2584,
          1063.15,
          4946.9,
          4797.45,
          4399,
          4094,
          4942.33,
          3459,
          3449,
          1614.99,
          5064,
          1049.99,
          1699.98,
          3554,
          4399.9,
          3234,
          2390,
          5699.9,
          5427.45,
          1699,
          2214,
          3989,
          3554,
          3799,
          1179.9,
          3599.9,
          2399,
          5064,
          2999,
          3059.15,
          3879,
          1984,
          3519,
          1098,
          3624,
          2674,
          1699,
          3519,
          1663.26,
          3936.45,
          3879,
          3988.95,
          3659,
          1509.31,
          1222.19,
          2189,
          3824.15,
          1359,
          5427.45,
          4739,
          4674.15,
          5571,
          1315,
          4844.15,
          4717.63,
          3759,
          3654.15,
          3369.43,
          2389,
          5089,
          3988.95,
          4164.15,
          2099,
          2168.21,
          4529,
          4199,
          1904.46,
          3124,
          1589.99,
          1690,
          5999.9,
          6888,
          6999.9,
          4249,
          3449,
          6224,
          2299,
          3999,
          3799,
          4349,
          3124,
          3459,
          4699,
          3149,
          7739,
          1899.9,
          3989,
          3909.15,
          3299,
          2861.4,
          3899,
          3979.95,
          1900.12,
          3999,
          1247.68,
          1450.78,
          4094,
          1359,
          3599.9,
          3468.75,
          1659,
          4739,
          2181.23,
          1984,
          4529,
          4349,
          5089,
          1368.53,
          3759,
          4239.99,
          5986.62,
          5590,
          2849,
          5986.62,
          1609.9,
          3659,
          1199,
          3487.32,
          3599.9,
          3930.1,
          1639,
          3768.37,
          6890,
          5050.89,
          5291.48,
          3959,
          2379.95,
          4599,
          1705.23,
          7527.45,
          4299,
          2674,
          1799,
          4599,
          2679,
          2694,
          6224,
          5064,
          1636.79,
          4309,
          3410.89,
          7240.89,
          3470.89,
          1690.89,
          2450.89,
          2830.89,
          2590.89,
          3320.89,
          1580.89,
          2870.89,
          1280.89,
          1110.89,
          1260.89,
          2360.89,
          1410.89,
          2670.89,
          1150.89,
          2640.89,
          3280.89,
          2470.89,
          2873.05,
          1212.3,
          1992.99,
          2559.99,
          1880.89,
          7666.66,
          8161.99,
          3499.9,
          3899,
          1903.53,
          1167,
          2937.69,
          2227.26,
          3999.99,
          4097.03,
          1264.53,
          1070,
          1280.89,
          1531.64,
          1616.99,
          2715.9,
          2535.65,
          3790.89,
          1790,
          1705.23,
          2899.9,
          3399,
          1730.89,
          3759,
          3849,
          2744.83,
          6449.64,
          2720.97,
          4199,
          4299,
          1349.91,
          3468.75,
          3096.9,
          3096.9,
          6198.03,
          3959,
          3562.92,
          1199,
          1640.89,
          2114.48,
          2312.1,
          4472.21,
          1168.24,
          4223.56,
          5599,
          2021.23,
          2199,
          3349,
          4379,
          1299.89,
          2943.99,
          3313.09,
          2499,
          1858.35,
          2479,
          1842.9,
          1459
         ],
         "y0": " ",
         "yaxis": "y"
        }
       ],
       "layout": {
        "boxmode": "group",
        "legend": {
         "tracegroupgap": 0
        },
        "margin": {
         "t": 60
        },
        "template": {
         "data": {
          "bar": [
           {
            "error_x": {
             "color": "#2a3f5f"
            },
            "error_y": {
             "color": "#2a3f5f"
            },
            "marker": {
             "line": {
              "color": "#E5ECF6",
              "width": 0.5
             },
             "pattern": {
              "fillmode": "overlay",
              "size": 10,
              "solidity": 0.2
             }
            },
            "type": "bar"
           }
          ],
          "barpolar": [
           {
            "marker": {
             "line": {
              "color": "#E5ECF6",
              "width": 0.5
             },
             "pattern": {
              "fillmode": "overlay",
              "size": 10,
              "solidity": 0.2
             }
            },
            "type": "barpolar"
           }
          ],
          "carpet": [
           {
            "aaxis": {
             "endlinecolor": "#2a3f5f",
             "gridcolor": "white",
             "linecolor": "white",
             "minorgridcolor": "white",
             "startlinecolor": "#2a3f5f"
            },
            "baxis": {
             "endlinecolor": "#2a3f5f",
             "gridcolor": "white",
             "linecolor": "white",
             "minorgridcolor": "white",
             "startlinecolor": "#2a3f5f"
            },
            "type": "carpet"
           }
          ],
          "choropleth": [
           {
            "colorbar": {
             "outlinewidth": 0,
             "ticks": ""
            },
            "type": "choropleth"
           }
          ],
          "contour": [
           {
            "colorbar": {
             "outlinewidth": 0,
             "ticks": ""
            },
            "colorscale": [
             [
              0,
              "#0d0887"
             ],
             [
              0.1111111111111111,
              "#46039f"
             ],
             [
              0.2222222222222222,
              "#7201a8"
             ],
             [
              0.3333333333333333,
              "#9c179e"
             ],
             [
              0.4444444444444444,
              "#bd3786"
             ],
             [
              0.5555555555555556,
              "#d8576b"
             ],
             [
              0.6666666666666666,
              "#ed7953"
             ],
             [
              0.7777777777777778,
              "#fb9f3a"
             ],
             [
              0.8888888888888888,
              "#fdca26"
             ],
             [
              1,
              "#f0f921"
             ]
            ],
            "type": "contour"
           }
          ],
          "contourcarpet": [
           {
            "colorbar": {
             "outlinewidth": 0,
             "ticks": ""
            },
            "type": "contourcarpet"
           }
          ],
          "heatmap": [
           {
            "colorbar": {
             "outlinewidth": 0,
             "ticks": ""
            },
            "colorscale": [
             [
              0,
              "#0d0887"
             ],
             [
              0.1111111111111111,
              "#46039f"
             ],
             [
              0.2222222222222222,
              "#7201a8"
             ],
             [
              0.3333333333333333,
              "#9c179e"
             ],
             [
              0.4444444444444444,
              "#bd3786"
             ],
             [
              0.5555555555555556,
              "#d8576b"
             ],
             [
              0.6666666666666666,
              "#ed7953"
             ],
             [
              0.7777777777777778,
              "#fb9f3a"
             ],
             [
              0.8888888888888888,
              "#fdca26"
             ],
             [
              1,
              "#f0f921"
             ]
            ],
            "type": "heatmap"
           }
          ],
          "heatmapgl": [
           {
            "colorbar": {
             "outlinewidth": 0,
             "ticks": ""
            },
            "colorscale": [
             [
              0,
              "#0d0887"
             ],
             [
              0.1111111111111111,
              "#46039f"
             ],
             [
              0.2222222222222222,
              "#7201a8"
             ],
             [
              0.3333333333333333,
              "#9c179e"
             ],
             [
              0.4444444444444444,
              "#bd3786"
             ],
             [
              0.5555555555555556,
              "#d8576b"
             ],
             [
              0.6666666666666666,
              "#ed7953"
             ],
             [
              0.7777777777777778,
              "#fb9f3a"
             ],
             [
              0.8888888888888888,
              "#fdca26"
             ],
             [
              1,
              "#f0f921"
             ]
            ],
            "type": "heatmapgl"
           }
          ],
          "histogram": [
           {
            "marker": {
             "pattern": {
              "fillmode": "overlay",
              "size": 10,
              "solidity": 0.2
             }
            },
            "type": "histogram"
           }
          ],
          "histogram2d": [
           {
            "colorbar": {
             "outlinewidth": 0,
             "ticks": ""
            },
            "colorscale": [
             [
              0,
              "#0d0887"
             ],
             [
              0.1111111111111111,
              "#46039f"
             ],
             [
              0.2222222222222222,
              "#7201a8"
             ],
             [
              0.3333333333333333,
              "#9c179e"
             ],
             [
              0.4444444444444444,
              "#bd3786"
             ],
             [
              0.5555555555555556,
              "#d8576b"
             ],
             [
              0.6666666666666666,
              "#ed7953"
             ],
             [
              0.7777777777777778,
              "#fb9f3a"
             ],
             [
              0.8888888888888888,
              "#fdca26"
             ],
             [
              1,
              "#f0f921"
             ]
            ],
            "type": "histogram2d"
           }
          ],
          "histogram2dcontour": [
           {
            "colorbar": {
             "outlinewidth": 0,
             "ticks": ""
            },
            "colorscale": [
             [
              0,
              "#0d0887"
             ],
             [
              0.1111111111111111,
              "#46039f"
             ],
             [
              0.2222222222222222,
              "#7201a8"
             ],
             [
              0.3333333333333333,
              "#9c179e"
             ],
             [
              0.4444444444444444,
              "#bd3786"
             ],
             [
              0.5555555555555556,
              "#d8576b"
             ],
             [
              0.6666666666666666,
              "#ed7953"
             ],
             [
              0.7777777777777778,
              "#fb9f3a"
             ],
             [
              0.8888888888888888,
              "#fdca26"
             ],
             [
              1,
              "#f0f921"
             ]
            ],
            "type": "histogram2dcontour"
           }
          ],
          "mesh3d": [
           {
            "colorbar": {
             "outlinewidth": 0,
             "ticks": ""
            },
            "type": "mesh3d"
           }
          ],
          "parcoords": [
           {
            "line": {
             "colorbar": {
              "outlinewidth": 0,
              "ticks": ""
             }
            },
            "type": "parcoords"
           }
          ],
          "pie": [
           {
            "automargin": true,
            "type": "pie"
           }
          ],
          "scatter": [
           {
            "marker": {
             "colorbar": {
              "outlinewidth": 0,
              "ticks": ""
             }
            },
            "type": "scatter"
           }
          ],
          "scatter3d": [
           {
            "line": {
             "colorbar": {
              "outlinewidth": 0,
              "ticks": ""
             }
            },
            "marker": {
             "colorbar": {
              "outlinewidth": 0,
              "ticks": ""
             }
            },
            "type": "scatter3d"
           }
          ],
          "scattercarpet": [
           {
            "marker": {
             "colorbar": {
              "outlinewidth": 0,
              "ticks": ""
             }
            },
            "type": "scattercarpet"
           }
          ],
          "scattergeo": [
           {
            "marker": {
             "colorbar": {
              "outlinewidth": 0,
              "ticks": ""
             }
            },
            "type": "scattergeo"
           }
          ],
          "scattergl": [
           {
            "marker": {
             "colorbar": {
              "outlinewidth": 0,
              "ticks": ""
             }
            },
            "type": "scattergl"
           }
          ],
          "scattermapbox": [
           {
            "marker": {
             "colorbar": {
              "outlinewidth": 0,
              "ticks": ""
             }
            },
            "type": "scattermapbox"
           }
          ],
          "scatterpolar": [
           {
            "marker": {
             "colorbar": {
              "outlinewidth": 0,
              "ticks": ""
             }
            },
            "type": "scatterpolar"
           }
          ],
          "scatterpolargl": [
           {
            "marker": {
             "colorbar": {
              "outlinewidth": 0,
              "ticks": ""
             }
            },
            "type": "scatterpolargl"
           }
          ],
          "scatterternary": [
           {
            "marker": {
             "colorbar": {
              "outlinewidth": 0,
              "ticks": ""
             }
            },
            "type": "scatterternary"
           }
          ],
          "surface": [
           {
            "colorbar": {
             "outlinewidth": 0,
             "ticks": ""
            },
            "colorscale": [
             [
              0,
              "#0d0887"
             ],
             [
              0.1111111111111111,
              "#46039f"
             ],
             [
              0.2222222222222222,
              "#7201a8"
             ],
             [
              0.3333333333333333,
              "#9c179e"
             ],
             [
              0.4444444444444444,
              "#bd3786"
             ],
             [
              0.5555555555555556,
              "#d8576b"
             ],
             [
              0.6666666666666666,
              "#ed7953"
             ],
             [
              0.7777777777777778,
              "#fb9f3a"
             ],
             [
              0.8888888888888888,
              "#fdca26"
             ],
             [
              1,
              "#f0f921"
             ]
            ],
            "type": "surface"
           }
          ],
          "table": [
           {
            "cells": {
             "fill": {
              "color": "#EBF0F8"
             },
             "line": {
              "color": "white"
             }
            },
            "header": {
             "fill": {
              "color": "#C8D4E3"
             },
             "line": {
              "color": "white"
             }
            },
            "type": "table"
           }
          ]
         },
         "layout": {
          "annotationdefaults": {
           "arrowcolor": "#2a3f5f",
           "arrowhead": 0,
           "arrowwidth": 1
          },
          "autotypenumbers": "strict",
          "coloraxis": {
           "colorbar": {
            "outlinewidth": 0,
            "ticks": ""
           }
          },
          "colorscale": {
           "diverging": [
            [
             0,
             "#8e0152"
            ],
            [
             0.1,
             "#c51b7d"
            ],
            [
             0.2,
             "#de77ae"
            ],
            [
             0.3,
             "#f1b6da"
            ],
            [
             0.4,
             "#fde0ef"
            ],
            [
             0.5,
             "#f7f7f7"
            ],
            [
             0.6,
             "#e6f5d0"
            ],
            [
             0.7,
             "#b8e186"
            ],
            [
             0.8,
             "#7fbc41"
            ],
            [
             0.9,
             "#4d9221"
            ],
            [
             1,
             "#276419"
            ]
           ],
           "sequential": [
            [
             0,
             "#0d0887"
            ],
            [
             0.1111111111111111,
             "#46039f"
            ],
            [
             0.2222222222222222,
             "#7201a8"
            ],
            [
             0.3333333333333333,
             "#9c179e"
            ],
            [
             0.4444444444444444,
             "#bd3786"
            ],
            [
             0.5555555555555556,
             "#d8576b"
            ],
            [
             0.6666666666666666,
             "#ed7953"
            ],
            [
             0.7777777777777778,
             "#fb9f3a"
            ],
            [
             0.8888888888888888,
             "#fdca26"
            ],
            [
             1,
             "#f0f921"
            ]
           ],
           "sequentialminus": [
            [
             0,
             "#0d0887"
            ],
            [
             0.1111111111111111,
             "#46039f"
            ],
            [
             0.2222222222222222,
             "#7201a8"
            ],
            [
             0.3333333333333333,
             "#9c179e"
            ],
            [
             0.4444444444444444,
             "#bd3786"
            ],
            [
             0.5555555555555556,
             "#d8576b"
            ],
            [
             0.6666666666666666,
             "#ed7953"
            ],
            [
             0.7777777777777778,
             "#fb9f3a"
            ],
            [
             0.8888888888888888,
             "#fdca26"
            ],
            [
             1,
             "#f0f921"
            ]
           ]
          },
          "colorway": [
           "#636efa",
           "#EF553B",
           "#00cc96",
           "#ab63fa",
           "#FFA15A",
           "#19d3f3",
           "#FF6692",
           "#B6E880",
           "#FF97FF",
           "#FECB52"
          ],
          "font": {
           "color": "#2a3f5f"
          },
          "geo": {
           "bgcolor": "white",
           "lakecolor": "white",
           "landcolor": "#E5ECF6",
           "showlakes": true,
           "showland": true,
           "subunitcolor": "white"
          },
          "hoverlabel": {
           "align": "left"
          },
          "hovermode": "closest",
          "mapbox": {
           "style": "light"
          },
          "paper_bgcolor": "white",
          "plot_bgcolor": "#E5ECF6",
          "polar": {
           "angularaxis": {
            "gridcolor": "white",
            "linecolor": "white",
            "ticks": ""
           },
           "bgcolor": "#E5ECF6",
           "radialaxis": {
            "gridcolor": "white",
            "linecolor": "white",
            "ticks": ""
           }
          },
          "scene": {
           "xaxis": {
            "backgroundcolor": "#E5ECF6",
            "gridcolor": "white",
            "gridwidth": 2,
            "linecolor": "white",
            "showbackground": true,
            "ticks": "",
            "zerolinecolor": "white"
           },
           "yaxis": {
            "backgroundcolor": "#E5ECF6",
            "gridcolor": "white",
            "gridwidth": 2,
            "linecolor": "white",
            "showbackground": true,
            "ticks": "",
            "zerolinecolor": "white"
           },
           "zaxis": {
            "backgroundcolor": "#E5ECF6",
            "gridcolor": "white",
            "gridwidth": 2,
            "linecolor": "white",
            "showbackground": true,
            "ticks": "",
            "zerolinecolor": "white"
           }
          },
          "shapedefaults": {
           "line": {
            "color": "#2a3f5f"
           }
          },
          "ternary": {
           "aaxis": {
            "gridcolor": "white",
            "linecolor": "white",
            "ticks": ""
           },
           "baxis": {
            "gridcolor": "white",
            "linecolor": "white",
            "ticks": ""
           },
           "bgcolor": "#E5ECF6",
           "caxis": {
            "gridcolor": "white",
            "linecolor": "white",
            "ticks": ""
           }
          },
          "title": {
           "x": 0.05
          },
          "xaxis": {
           "automargin": true,
           "gridcolor": "white",
           "linecolor": "white",
           "ticks": "",
           "title": {
            "standoff": 15
           },
           "zerolinecolor": "white",
           "zerolinewidth": 2
          },
          "yaxis": {
           "automargin": true,
           "gridcolor": "white",
           "linecolor": "white",
           "ticks": "",
           "title": {
            "standoff": 15
           },
           "zerolinecolor": "white",
           "zerolinewidth": 2
          }
         }
        },
        "xaxis": {
         "anchor": "y",
         "domain": [
          0,
          1
         ]
        },
        "yaxis": {
         "anchor": "x",
         "domain": [
          0,
          1
         ],
         "title": {
          "text": "Preço"
         }
        }
       }
      }
     },
     "metadata": {},
     "output_type": "display_data"
    }
   ],
   "source": [
    "fig = px.box(df_clean_geladeira, y='Preço', notched=True)\n",
    "fig.show()"
   ]
  },
  {
   "cell_type": "markdown",
   "metadata": {},
   "source": [
    "# Organizando todos os dados em um dataframe"
   ]
  },
  {
   "cell_type": "code",
   "execution_count": 466,
   "metadata": {},
   "outputs": [
    {
     "data": {
      "text/html": [
       "<div>\n",
       "<style scoped>\n",
       "    .dataframe tbody tr th:only-of-type {\n",
       "        vertical-align: middle;\n",
       "    }\n",
       "\n",
       "    .dataframe tbody tr th {\n",
       "        vertical-align: top;\n",
       "    }\n",
       "\n",
       "    .dataframe thead th {\n",
       "        text-align: right;\n",
       "    }\n",
       "</style>\n",
       "<table border=\"1\" class=\"dataframe\">\n",
       "  <thead>\n",
       "    <tr style=\"text-align: right;\">\n",
       "      <th></th>\n",
       "      <th>Descrição</th>\n",
       "      <th>Preço</th>\n",
       "      <th>Estrelas</th>\n",
       "      <th>TotalReviews</th>\n",
       "      <th>Url</th>\n",
       "      <th>Loja</th>\n",
       "      <th>Categoria</th>\n",
       "    </tr>\n",
       "  </thead>\n",
       "  <tbody>\n",
       "    <tr>\n",
       "      <th>0</th>\n",
       "      <td>Notebook Lenovo Ultrafino IdeaPad S145, AMD Ry...</td>\n",
       "      <td>2909.00</td>\n",
       "      <td>4.6</td>\n",
       "      <td>199.0</td>\n",
       "      <td>https://www.amazon.com.br/Notebook-Lenovo-Ultr...</td>\n",
       "      <td>Amazon</td>\n",
       "      <td>Notebook</td>\n",
       "    </tr>\n",
       "    <tr>\n",
       "      <th>1</th>\n",
       "      <td>Notebook Lenovo Ultrafino ideapad S145 i5-1035...</td>\n",
       "      <td>3229.99</td>\n",
       "      <td>4.7</td>\n",
       "      <td>26.0</td>\n",
       "      <td>https://www.amazon.com.br/Lenovo-Ultrafino-S14...</td>\n",
       "      <td>Amazon</td>\n",
       "      <td>Notebook</td>\n",
       "    </tr>\n",
       "    <tr>\n",
       "      <th>2</th>\n",
       "      <td>SAMSUNG Chromebook SS 11.6 Intel DC 4GB 32GB X...</td>\n",
       "      <td>1699.00</td>\n",
       "      <td>4.5</td>\n",
       "      <td>239.0</td>\n",
       "      <td>https://www.amazon.com.br/SAMSUNG-Chromebook-1...</td>\n",
       "      <td>Amazon</td>\n",
       "      <td>Notebook</td>\n",
       "    </tr>\n",
       "    <tr>\n",
       "      <th>3</th>\n",
       "      <td>Samsung BookIntel® Core™ i3-1115G4, 11 Geração...</td>\n",
       "      <td>2789.09</td>\n",
       "      <td>3.7</td>\n",
       "      <td>46.0</td>\n",
       "      <td>https://www.amazon.com.br/Samsung-BookIntel%C2...</td>\n",
       "      <td>Amazon</td>\n",
       "      <td>Notebook</td>\n",
       "    </tr>\n",
       "    <tr>\n",
       "      <th>4</th>\n",
       "      <td>Notebook Positivo Motion Q464C Intel® Atom® Qu...</td>\n",
       "      <td>1718.90</td>\n",
       "      <td>4.0</td>\n",
       "      <td>72.0</td>\n",
       "      <td>https://www.amazon.com.br/Notebook-Positivo-Mo...</td>\n",
       "      <td>Amazon</td>\n",
       "      <td>Notebook</td>\n",
       "    </tr>\n",
       "    <tr>\n",
       "      <th>...</th>\n",
       "      <td>...</td>\n",
       "      <td>...</td>\n",
       "      <td>...</td>\n",
       "      <td>...</td>\n",
       "      <td>...</td>\n",
       "      <td>...</td>\n",
       "      <td>...</td>\n",
       "    </tr>\n",
       "    <tr>\n",
       "      <th>1000</th>\n",
       "      <td>Freezer Vertical Consul 231 Litros - CVU26EB 110V</td>\n",
       "      <td>2499.00</td>\n",
       "      <td>5.0</td>\n",
       "      <td>5.0</td>\n",
       "      <td>https://www.amazon.com.br/Freezer-Vertical-Con...</td>\n",
       "      <td>Amazon</td>\n",
       "      <td>Geladeira</td>\n",
       "    </tr>\n",
       "    <tr>\n",
       "      <th>1001</th>\n",
       "      <td>Frigobar portátil mini refrigerador refrigerad...</td>\n",
       "      <td>1858.35</td>\n",
       "      <td>0.0</td>\n",
       "      <td>0.0</td>\n",
       "      <td>https://www.amazon.com.br/Frigobar-refrigerado...</td>\n",
       "      <td>Amazon</td>\n",
       "      <td>Geladeira</td>\n",
       "    </tr>\n",
       "    <tr>\n",
       "      <th>1002</th>\n",
       "      <td>Freezer Vertical Electrolux Cycle Defrost Uma ...</td>\n",
       "      <td>2479.00</td>\n",
       "      <td>4.8</td>\n",
       "      <td>6.0</td>\n",
       "      <td>https://www.amazon.com.br/Freezer-Electrolux-V...</td>\n",
       "      <td>Amazon</td>\n",
       "      <td>Geladeira</td>\n",
       "    </tr>\n",
       "    <tr>\n",
       "      <th>1003</th>\n",
       "      <td>Máquina De Lavar Panasonic 12kg Titânio NA-F12...</td>\n",
       "      <td>1842.90</td>\n",
       "      <td>5.0</td>\n",
       "      <td>5.0</td>\n",
       "      <td>https://www.amazon.com.br/M%C3%A1quina-Lavar-P...</td>\n",
       "      <td>Amazon</td>\n",
       "      <td>Geladeira</td>\n",
       "    </tr>\n",
       "    <tr>\n",
       "      <th>1004</th>\n",
       "      <td>Frigobar Consul 76 litros com Gaveta Multiuso ...</td>\n",
       "      <td>1459.00</td>\n",
       "      <td>5.0</td>\n",
       "      <td>1.0</td>\n",
       "      <td>https://www.amazon.com.br/Frigobar-Consul-litr...</td>\n",
       "      <td>Amazon</td>\n",
       "      <td>Geladeira</td>\n",
       "    </tr>\n",
       "  </tbody>\n",
       "</table>\n",
       "<p>1005 rows × 7 columns</p>\n",
       "</div>"
      ],
      "text/plain": [
       "                                              Descrição    Preço  Estrelas  \\\n",
       "0     Notebook Lenovo Ultrafino IdeaPad S145, AMD Ry...  2909.00       4.6   \n",
       "1     Notebook Lenovo Ultrafino ideapad S145 i5-1035...  3229.99       4.7   \n",
       "2     SAMSUNG Chromebook SS 11.6 Intel DC 4GB 32GB X...  1699.00       4.5   \n",
       "3     Samsung BookIntel® Core™ i3-1115G4, 11 Geração...  2789.09       3.7   \n",
       "4     Notebook Positivo Motion Q464C Intel® Atom® Qu...  1718.90       4.0   \n",
       "...                                                 ...      ...       ...   \n",
       "1000  Freezer Vertical Consul 231 Litros - CVU26EB 110V  2499.00       5.0   \n",
       "1001  Frigobar portátil mini refrigerador refrigerad...  1858.35       0.0   \n",
       "1002  Freezer Vertical Electrolux Cycle Defrost Uma ...  2479.00       4.8   \n",
       "1003  Máquina De Lavar Panasonic 12kg Titânio NA-F12...  1842.90       5.0   \n",
       "1004  Frigobar Consul 76 litros com Gaveta Multiuso ...  1459.00       5.0   \n",
       "\n",
       "      TotalReviews                                                Url    Loja  \\\n",
       "0            199.0  https://www.amazon.com.br/Notebook-Lenovo-Ultr...  Amazon   \n",
       "1             26.0  https://www.amazon.com.br/Lenovo-Ultrafino-S14...  Amazon   \n",
       "2            239.0  https://www.amazon.com.br/SAMSUNG-Chromebook-1...  Amazon   \n",
       "3             46.0  https://www.amazon.com.br/Samsung-BookIntel%C2...  Amazon   \n",
       "4             72.0  https://www.amazon.com.br/Notebook-Positivo-Mo...  Amazon   \n",
       "...            ...                                                ...     ...   \n",
       "1000           5.0  https://www.amazon.com.br/Freezer-Vertical-Con...  Amazon   \n",
       "1001           0.0  https://www.amazon.com.br/Frigobar-refrigerado...  Amazon   \n",
       "1002           6.0  https://www.amazon.com.br/Freezer-Electrolux-V...  Amazon   \n",
       "1003           5.0  https://www.amazon.com.br/M%C3%A1quina-Lavar-P...  Amazon   \n",
       "1004           1.0  https://www.amazon.com.br/Frigobar-Consul-litr...  Amazon   \n",
       "\n",
       "      Categoria  \n",
       "0      Notebook  \n",
       "1      Notebook  \n",
       "2      Notebook  \n",
       "3      Notebook  \n",
       "4      Notebook  \n",
       "...         ...  \n",
       "1000  Geladeira  \n",
       "1001  Geladeira  \n",
       "1002  Geladeira  \n",
       "1003  Geladeira  \n",
       "1004  Geladeira  \n",
       "\n",
       "[1005 rows x 7 columns]"
      ]
     },
     "execution_count": 466,
     "metadata": {},
     "output_type": "execute_result"
    }
   ],
   "source": [
    "dados_amazon = pd.concat([df_clean_notebook,df_clean_smartphone,df_clean_tv,df_clean_geladeira])\n",
    "dados_amazon.reset_index(drop=True, inplace=True)\n",
    "dados_amazon"
   ]
  },
  {
   "cell_type": "code",
   "execution_count": 467,
   "metadata": {},
   "outputs": [],
   "source": [
    "dados_amazon.to_csv('output/dados_amazon.csv',index=False)"
   ]
  },
  {
   "cell_type": "code",
   "execution_count": 468,
   "metadata": {},
   "outputs": [],
   "source": [
    "dados_amazon_externo = pd.read_csv('output/dados_amazon.csv')"
   ]
  },
  {
   "cell_type": "code",
   "execution_count": 469,
   "metadata": {},
   "outputs": [
    {
     "data": {
      "text/html": [
       "<div>\n",
       "<style scoped>\n",
       "    .dataframe tbody tr th:only-of-type {\n",
       "        vertical-align: middle;\n",
       "    }\n",
       "\n",
       "    .dataframe tbody tr th {\n",
       "        vertical-align: top;\n",
       "    }\n",
       "\n",
       "    .dataframe thead th {\n",
       "        text-align: right;\n",
       "    }\n",
       "</style>\n",
       "<table border=\"1\" class=\"dataframe\">\n",
       "  <thead>\n",
       "    <tr style=\"text-align: right;\">\n",
       "      <th></th>\n",
       "      <th>count</th>\n",
       "      <th>mean</th>\n",
       "      <th>std</th>\n",
       "      <th>min</th>\n",
       "      <th>25%</th>\n",
       "      <th>50%</th>\n",
       "      <th>75%</th>\n",
       "      <th>max</th>\n",
       "    </tr>\n",
       "    <tr>\n",
       "      <th>Categoria</th>\n",
       "      <th></th>\n",
       "      <th></th>\n",
       "      <th></th>\n",
       "      <th></th>\n",
       "      <th></th>\n",
       "      <th></th>\n",
       "      <th></th>\n",
       "      <th></th>\n",
       "    </tr>\n",
       "  </thead>\n",
       "  <tbody>\n",
       "    <tr>\n",
       "      <th>Geladeira</th>\n",
       "      <td>288.0</td>\n",
       "      <td>3319.422847</td>\n",
       "      <td>1512.469818</td>\n",
       "      <td>1039.00</td>\n",
       "      <td>2054.0000</td>\n",
       "      <td>3289.945</td>\n",
       "      <td>4242.2425</td>\n",
       "      <td>8161.99</td>\n",
       "    </tr>\n",
       "    <tr>\n",
       "      <th>Notebook</th>\n",
       "      <td>246.0</td>\n",
       "      <td>4310.232764</td>\n",
       "      <td>2155.633497</td>\n",
       "      <td>1006.89</td>\n",
       "      <td>2448.6925</td>\n",
       "      <td>4239.450</td>\n",
       "      <td>5764.6750</td>\n",
       "      <td>10500.00</td>\n",
       "    </tr>\n",
       "    <tr>\n",
       "      <th>Smartphone</th>\n",
       "      <td>282.0</td>\n",
       "      <td>1310.688794</td>\n",
       "      <td>504.074210</td>\n",
       "      <td>505.00</td>\n",
       "      <td>903.5725</td>\n",
       "      <td>1224.000</td>\n",
       "      <td>1639.7250</td>\n",
       "      <td>2809.90</td>\n",
       "    </tr>\n",
       "    <tr>\n",
       "      <th>TV</th>\n",
       "      <td>189.0</td>\n",
       "      <td>1998.606931</td>\n",
       "      <td>1281.862457</td>\n",
       "      <td>601.65</td>\n",
       "      <td>1049.0000</td>\n",
       "      <td>1559.980</td>\n",
       "      <td>2519.3500</td>\n",
       "      <td>6116.10</td>\n",
       "    </tr>\n",
       "  </tbody>\n",
       "</table>\n",
       "</div>"
      ],
      "text/plain": [
       "            count         mean          std      min        25%       50%  \\\n",
       "Categoria                                                                   \n",
       "Geladeira   288.0  3319.422847  1512.469818  1039.00  2054.0000  3289.945   \n",
       "Notebook    246.0  4310.232764  2155.633497  1006.89  2448.6925  4239.450   \n",
       "Smartphone  282.0  1310.688794   504.074210   505.00   903.5725  1224.000   \n",
       "TV          189.0  1998.606931  1281.862457   601.65  1049.0000  1559.980   \n",
       "\n",
       "                  75%       max  \n",
       "Categoria                        \n",
       "Geladeira   4242.2425   8161.99  \n",
       "Notebook    5764.6750  10500.00  \n",
       "Smartphone  1639.7250   2809.90  \n",
       "TV          2519.3500   6116.10  "
      ]
     },
     "execution_count": 469,
     "metadata": {},
     "output_type": "execute_result"
    }
   ],
   "source": [
    "dados_amazon_externo.groupby('Categoria')['Preço'].describe()"
   ]
  },
  {
   "cell_type": "code",
   "execution_count": 471,
   "metadata": {},
   "outputs": [],
   "source": [
    "import seaborn as sns\n",
    "import matplotlib.pyplot as plt"
   ]
  },
  {
   "cell_type": "code",
   "execution_count": 472,
   "metadata": {},
   "outputs": [
    {
     "data": {
      "text/plain": [
       "<AxesSubplot:xlabel='Categoria', ylabel='Preço'>"
      ]
     },
     "execution_count": 472,
     "metadata": {},
     "output_type": "execute_result"
    },
    {
     "data": {
      "image/png": "[encoded data removed]",
      "text/plain": [
       "<Figure size 1152x648 with 1 Axes>"
      ]
     },
     "metadata": {
      "needs_background": "light"
     },
     "output_type": "display_data"
    }
   ],
   "source": [
    "fig = plt.figure(figsize=(16,9))\n",
    "sns.boxplot(x='Categoria', y='Preço', data=dados_amazon_externo)"
   ]
  },
  {
   "cell_type": "code",
   "execution_count": null,
   "metadata": {},
   "outputs": [],
   "source": []
  }
 ],
 "metadata": {
  "interpreter": {
   "hash": "50e0f96e4e88615678713ad57c0ae08da4a9d6120170cb89b48692eb7d0116f7"
  },
  "kernelspec": {
   "display_name": "Python 3.8.8 64-bit (conda)",
   "name": "python3"
  },
  "language_info": {
   "codemirror_mode": {
    "name": "ipython",
    "version": 3
   },
   "file_extension": ".py",
   "mimetype": "text/x-python",
   "name": "python",
   "nbconvert_exporter": "python",
   "pygments_lexer": "ipython3",
   "version": "3.8.8"
  },
  "orig_nbformat": 4
 },
 "nbformat": 4,
 "nbformat_minor": 2
}
