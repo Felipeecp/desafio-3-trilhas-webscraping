{
 "cells": [
  {
   "cell_type": "markdown",
   "metadata": {},
   "source": [
    "# Análise de Dados Magalu"
   ]
  },
  {
   "cell_type": "markdown",
   "metadata": {},
   "source": [
    "## Análise de Dados de Smartphones, Notebooks e Smart TVs"
   ]
  },
  {
   "cell_type": "markdown",
   "metadata": {},
   "source": [
    "### Análise de Dados: Notebooks"
   ]
  },
  {
   "cell_type": "code",
   "execution_count": 1,
   "metadata": {},
   "outputs": [],
   "source": [
    "import pandas as pd\n",
    "import seaborn as sns\n",
    "import matplotlib.pyplot as plt"
   ]
  },
  {
   "cell_type": "code",
   "execution_count": 2,
   "metadata": {},
   "outputs": [],
   "source": [
    "df = pd.read_csv('output/dataset_notebook.csv', sep=';')"
   ]
  },
  {
   "cell_type": "code",
   "execution_count": 3,
   "metadata": {},
   "outputs": [
    {
     "data": {
      "text/html": [
       "<div>\n",
       "<style scoped>\n",
       "    .dataframe tbody tr th:only-of-type {\n",
       "        vertical-align: middle;\n",
       "    }\n",
       "\n",
       "    .dataframe tbody tr th {\n",
       "        vertical-align: top;\n",
       "    }\n",
       "\n",
       "    .dataframe thead th {\n",
       "        text-align: right;\n",
       "    }\n",
       "</style>\n",
       "<table border=\"1\" class=\"dataframe\">\n",
       "  <thead>\n",
       "    <tr style=\"text-align: right;\">\n",
       "      <th></th>\n",
       "      <th>descricao</th>\n",
       "      <th>preco</th>\n",
       "      <th>avaliacao</th>\n",
       "      <th>quantidade_avaliacoes</th>\n",
       "      <th>URL</th>\n",
       "    </tr>\n",
       "  </thead>\n",
       "  <tbody>\n",
       "    <tr>\n",
       "      <th>0</th>\n",
       "      <td>Notebook Acer Aspire 5 A515-54-57EN Intel Core i5</td>\n",
       "      <td>3419.1</td>\n",
       "      <td>3</td>\n",
       "      <td>34</td>\n",
       "      <td>https://www.magazineluiza.com.br/notebook-acer...</td>\n",
       "    </tr>\n",
       "    <tr>\n",
       "      <th>1</th>\n",
       "      <td>Notebook Dell Inspiron i3501-M10P 15.6\" HD 11ª...</td>\n",
       "      <td>2699.1</td>\n",
       "      <td>4</td>\n",
       "      <td>107</td>\n",
       "      <td>https://www.magazineluiza.com.br/notebook-dell...</td>\n",
       "    </tr>\n",
       "    <tr>\n",
       "      <th>2</th>\n",
       "      <td>Notebook Samsung Book NP550XDA-KF2BR Intel Cor...</td>\n",
       "      <td>3329.1</td>\n",
       "      <td>4</td>\n",
       "      <td>8</td>\n",
       "      <td>https://www.magazineluiza.com.br/notebook-sams...</td>\n",
       "    </tr>\n",
       "    <tr>\n",
       "      <th>3</th>\n",
       "      <td>Notebook Dell Inspiron 15 3000 3501-A25P</td>\n",
       "      <td>2879.1</td>\n",
       "      <td>4</td>\n",
       "      <td>5</td>\n",
       "      <td>https://www.magazineluiza.com.br/notebook-dell...</td>\n",
       "    </tr>\n",
       "    <tr>\n",
       "      <th>4</th>\n",
       "      <td>Notebook HP 256 G8 Intel Core i3 8GB 256GB SSD</td>\n",
       "      <td>2924.1</td>\n",
       "      <td>4</td>\n",
       "      <td>26</td>\n",
       "      <td>https://www.magazineluiza.com.br/notebook-hp-2...</td>\n",
       "    </tr>\n",
       "  </tbody>\n",
       "</table>\n",
       "</div>"
      ],
      "text/plain": [
       "                                           descricao   preco  avaliacao  \\\n",
       "0  Notebook Acer Aspire 5 A515-54-57EN Intel Core i5  3419.1          3   \n",
       "1  Notebook Dell Inspiron i3501-M10P 15.6\" HD 11ª...  2699.1          4   \n",
       "2  Notebook Samsung Book NP550XDA-KF2BR Intel Cor...  3329.1          4   \n",
       "3           Notebook Dell Inspiron 15 3000 3501-A25P  2879.1          4   \n",
       "4     Notebook HP 256 G8 Intel Core i3 8GB 256GB SSD  2924.1          4   \n",
       "\n",
       "   quantidade_avaliacoes                                                URL  \n",
       "0                     34  https://www.magazineluiza.com.br/notebook-acer...  \n",
       "1                    107  https://www.magazineluiza.com.br/notebook-dell...  \n",
       "2                      8  https://www.magazineluiza.com.br/notebook-sams...  \n",
       "3                      5  https://www.magazineluiza.com.br/notebook-dell...  \n",
       "4                     26  https://www.magazineluiza.com.br/notebook-hp-2...  "
      ]
     },
     "execution_count": 3,
     "metadata": {},
     "output_type": "execute_result"
    }
   ],
   "source": [
    "df.head()"
   ]
  },
  {
   "cell_type": "code",
   "execution_count": 4,
   "metadata": {},
   "outputs": [
    {
     "data": {
      "text/plain": [
       "descricao                1016\n",
       "preco                    1006\n",
       "avaliacao                1016\n",
       "quantidade_avaliacoes    1016\n",
       "URL                      1016\n",
       "dtype: int64"
      ]
     },
     "execution_count": 4,
     "metadata": {},
     "output_type": "execute_result"
    }
   ],
   "source": [
    "df.count()"
   ]
  },
  {
   "cell_type": "markdown",
   "metadata": {},
   "source": [
    "## Verificação de Valores Nulos: NaN"
   ]
  },
  {
   "cell_type": "code",
   "execution_count": 5,
   "metadata": {},
   "outputs": [
    {
     "data": {
      "text/plain": [
       "10"
      ]
     },
     "execution_count": 5,
     "metadata": {},
     "output_type": "execute_result"
    }
   ],
   "source": [
    "df.isnull().sum().sum()"
   ]
  },
  {
   "cell_type": "code",
   "execution_count": 6,
   "metadata": {
    "scrolled": true
   },
   "outputs": [
    {
     "data": {
      "text/plain": [
       "10"
      ]
     },
     "execution_count": 6,
     "metadata": {},
     "output_type": "execute_result"
    }
   ],
   "source": [
    "df['preco'].isnull().sum()"
   ]
  },
  {
   "cell_type": "markdown",
   "metadata": {},
   "source": [
    "A coluna de preços contém valores nulos. É melhor excluir esses registros do que substituir por um valor de preço = 0"
   ]
  },
  {
   "cell_type": "code",
   "execution_count": 7,
   "metadata": {},
   "outputs": [],
   "source": [
    "df = df.dropna()"
   ]
  },
  {
   "cell_type": "code",
   "execution_count": 8,
   "metadata": {
    "scrolled": true
   },
   "outputs": [
    {
     "data": {
      "text/plain": [
       "descricao                1006\n",
       "preco                    1006\n",
       "avaliacao                1006\n",
       "quantidade_avaliacoes    1006\n",
       "URL                      1006\n",
       "dtype: int64"
      ]
     },
     "execution_count": 8,
     "metadata": {},
     "output_type": "execute_result"
    }
   ],
   "source": [
    "df.count()"
   ]
  },
  {
   "cell_type": "markdown",
   "metadata": {},
   "source": [
    "Agora os registros com preço nulo foram excluídos do dataframe"
   ]
  },
  {
   "cell_type": "markdown",
   "metadata": {},
   "source": [
    "## Estatística descritiva"
   ]
  },
  {
   "cell_type": "markdown",
   "metadata": {},
   "source": [
    "Seguem algumas estatísticas descritivas relativas aos smartphones:"
   ]
  },
  {
   "cell_type": "code",
   "execution_count": 9,
   "metadata": {
    "scrolled": false
   },
   "outputs": [
    {
     "data": {
      "text/html": [
       "<div>\n",
       "<style scoped>\n",
       "    .dataframe tbody tr th:only-of-type {\n",
       "        vertical-align: middle;\n",
       "    }\n",
       "\n",
       "    .dataframe tbody tr th {\n",
       "        vertical-align: top;\n",
       "    }\n",
       "\n",
       "    .dataframe thead th {\n",
       "        text-align: right;\n",
       "    }\n",
       "</style>\n",
       "<table border=\"1\" class=\"dataframe\">\n",
       "  <thead>\n",
       "    <tr style=\"text-align: right;\">\n",
       "      <th></th>\n",
       "      <th>preco</th>\n",
       "      <th>avaliacao</th>\n",
       "      <th>quantidade_avaliacoes</th>\n",
       "    </tr>\n",
       "  </thead>\n",
       "  <tbody>\n",
       "    <tr>\n",
       "      <th>count</th>\n",
       "      <td>1006.000000</td>\n",
       "      <td>1006.000000</td>\n",
       "      <td>1006.000000</td>\n",
       "    </tr>\n",
       "    <tr>\n",
       "      <th>mean</th>\n",
       "      <td>4844.466610</td>\n",
       "      <td>4.815109</td>\n",
       "      <td>1.816103</td>\n",
       "    </tr>\n",
       "    <tr>\n",
       "      <th>std</th>\n",
       "      <td>4612.089962</td>\n",
       "      <td>0.581309</td>\n",
       "      <td>9.059284</td>\n",
       "    </tr>\n",
       "    <tr>\n",
       "      <th>min</th>\n",
       "      <td>39.990000</td>\n",
       "      <td>1.000000</td>\n",
       "      <td>0.000000</td>\n",
       "    </tr>\n",
       "    <tr>\n",
       "      <th>25%</th>\n",
       "      <td>2850.457500</td>\n",
       "      <td>5.000000</td>\n",
       "      <td>0.000000</td>\n",
       "    </tr>\n",
       "    <tr>\n",
       "      <th>50%</th>\n",
       "      <td>3893.510000</td>\n",
       "      <td>5.000000</td>\n",
       "      <td>0.000000</td>\n",
       "    </tr>\n",
       "    <tr>\n",
       "      <th>75%</th>\n",
       "      <td>5399.100000</td>\n",
       "      <td>5.000000</td>\n",
       "      <td>0.000000</td>\n",
       "    </tr>\n",
       "    <tr>\n",
       "      <th>max</th>\n",
       "      <td>94999.050000</td>\n",
       "      <td>5.000000</td>\n",
       "      <td>123.000000</td>\n",
       "    </tr>\n",
       "  </tbody>\n",
       "</table>\n",
       "</div>"
      ],
      "text/plain": [
       "              preco    avaliacao  quantidade_avaliacoes\n",
       "count   1006.000000  1006.000000            1006.000000\n",
       "mean    4844.466610     4.815109               1.816103\n",
       "std     4612.089962     0.581309               9.059284\n",
       "min       39.990000     1.000000               0.000000\n",
       "25%     2850.457500     5.000000               0.000000\n",
       "50%     3893.510000     5.000000               0.000000\n",
       "75%     5399.100000     5.000000               0.000000\n",
       "max    94999.050000     5.000000             123.000000"
      ]
     },
     "execution_count": 9,
     "metadata": {},
     "output_type": "execute_result"
    }
   ],
   "source": [
    "df.describe()"
   ]
  },
  {
   "cell_type": "markdown",
   "metadata": {},
   "source": [
    "## Histograma: Distribuição de Frequencias"
   ]
  },
  {
   "cell_type": "code",
   "execution_count": 39,
   "metadata": {
    "scrolled": false
   },
   "outputs": [
    {
     "data": {
      "image/png": "[encoded data removed]",
      "text/plain": [
       "<Figure size 842.4x595.44 with 1 Axes>"
      ]
     },
     "metadata": {},
     "output_type": "display_data"
    }
   ],
   "source": [
    "sns.set(style=\"darkgrid\")\n",
    "sns.set(rc={'figure.figsize':(11.7,8.27)})\n",
    "histplot = sns.histplot(data=df, x='preco', linewidth=1, bins=30, kde=True)\n",
    "histplot.axes.set_title(\"Histograma de Preços de Notebooks\", fontsize=16)\n",
    "histplot.set_xlabel(\"Preço\", fontsize=14)\n",
    "histplot.set_ylabel(\"Frequência\", fontsize=14)\n",
    "plt.show()"
   ]
  },
  {
   "cell_type": "markdown",
   "metadata": {},
   "source": [
    "A distribuição é fortemente assimétrica dada a presença de outliers"
   ]
  },
  {
   "cell_type": "markdown",
   "metadata": {},
   "source": [
    "## Boxplot: Visualização de outliers"
   ]
  },
  {
   "cell_type": "code",
   "execution_count": 41,
   "metadata": {},
   "outputs": [
    {
     "data": {
      "image/png": "[encoded data removed]",
      "text/plain": [
       "<Figure size 842.4x595.44 with 1 Axes>"
      ]
     },
     "metadata": {},
     "output_type": "display_data"
    }
   ],
   "source": [
    "sns.set(style=\"darkgrid\")\n",
    "sns.set(rc={'figure.figsize':(11.7,8.27)})\n",
    "boxplot = sns.boxplot(data=df['preco'], linewidth=2.5, width=0.25)\n",
    "boxplot.axes.set_title(\"Boxplot Preços de Notebooks\", fontsize=16)\n",
    "boxplot.set_xlabel(\"Notebook\", fontsize=14)\n",
    "boxplot.set_ylabel(\"Preço\", fontsize=14)\n",
    "plt.show()"
   ]
  },
  {
   "cell_type": "markdown",
   "metadata": {},
   "source": [
    "### Remoção de Outliers"
   ]
  },
  {
   "cell_type": "markdown",
   "metadata": {},
   "source": [
    "Percebe-se que há outliers no departamento de smartphones.\n",
    "\n",
    "Podem ser acessórios para smartphones com preços muito baixos, ou celulares com preços muito acima da média\n",
    "\n",
    "Haverá agora um trabalho de remoção de outliers do nosso dataset"
   ]
  },
  {
   "cell_type": "markdown",
   "metadata": {},
   "source": [
    "### Função que retira os indices dos outliers do nosso dataframe"
   ]
  },
  {
   "cell_type": "code",
   "execution_count": 12,
   "metadata": {},
   "outputs": [],
   "source": [
    "def outliers_indexes(df, ft):\n",
    "    \"\"\" \n",
    "    Função que retorna o índice dos outliers\n",
    "    Embasamento matemático:\n",
    "    Amplitude Interquartil => IQR = Quartil_3 - Quartil_1\n",
    "    Limite Inferior => LI = Quartil_1 - 1.5*IQR\n",
    "    Limite Superior => LS = Quartil_3 + 1.5*IQR\n",
    "    Todos os dados que estiverem acima do limite superior ou abaixo do limite inferior, são outliers\n",
    "    \"\"\"\n",
    "    Q1 = df[ft].quantile(0.25)\n",
    "    Q3 = df[ft].quantile(0.75)\n",
    "    IQR = Q3 - Q1\n",
    "    \n",
    "    LI = Q1 - 1.5*IQR\n",
    "    LS = Q3 + 1.5*IQR\n",
    "    \n",
    "    lista_indices = df.index[ (df[ft] < LI) | (df[ft] > LS) ]\n",
    "    \n",
    "    return lista_indices"
   ]
  },
  {
   "cell_type": "code",
   "execution_count": 13,
   "metadata": {},
   "outputs": [],
   "source": [
    "# Cria-se uma lista vazia para armazenar os índices de saídas de múltiplas colunas \n",
    "# (somente caso se quisesse tirar outliers de multiplas colunas)\n",
    "index_list = []\n",
    "for feature in ['preco', 'quantidade_avaliacoes']:\n",
    "    index_list.extend(outliers_indexes(df, feature))"
   ]
  },
  {
   "cell_type": "markdown",
   "metadata": {},
   "source": [
    "Será usada uma versão mais simples, apenas para retornar os índices de uma única coluna, o preço"
   ]
  },
  {
   "cell_type": "code",
   "execution_count": 14,
   "metadata": {},
   "outputs": [],
   "source": [
    "outliers_index_list = outliers_indexes(df, 'preco')"
   ]
  },
  {
   "cell_type": "code",
   "execution_count": 15,
   "metadata": {
    "scrolled": false
   },
   "outputs": [
    {
     "data": {
      "text/plain": [
       "Int64Index([  79,  107,  132,  133,  148,  155,  163,  165,  189,  191,  204,\n",
       "             224,  246,  256,  265,  269,  274,  279,  363,  372,  375,  380,\n",
       "             387,  409,  413,  426,  427,  439,  445,  447,  453,  463,  470,\n",
       "             472,  497,  515,  533,  556,  564,  596,  597,  598,  611,  631,\n",
       "             633,  642,  649,  652,  669,  670,  682,  690,  707,  728,  730,\n",
       "             736,  745,  748,  749,  773,  779,  784,  786,  806,  814,  820,\n",
       "             828,  840,  844,  887,  894,  911,  921,  923,  924,  963,  981,\n",
       "            1012],\n",
       "           dtype='int64')"
      ]
     },
     "execution_count": 15,
     "metadata": {},
     "output_type": "execute_result"
    }
   ],
   "source": [
    "outliers_index_list"
   ]
  },
  {
   "cell_type": "code",
   "execution_count": 16,
   "metadata": {},
   "outputs": [
    {
     "data": {
      "text/plain": [
       "78"
      ]
     },
     "execution_count": 16,
     "metadata": {},
     "output_type": "execute_result"
    }
   ],
   "source": [
    "len(outliers_index_list)"
   ]
  },
  {
   "cell_type": "markdown",
   "metadata": {},
   "source": [
    "### Função de Remoção de Outliers"
   ]
  },
  {
   "cell_type": "markdown",
   "metadata": {},
   "source": [
    "Por fim, define-se uma função para a remoção de todos os registros que contém outliers, tendo a lista de índices como input"
   ]
  },
  {
   "cell_type": "code",
   "execution_count": 17,
   "metadata": {},
   "outputs": [],
   "source": [
    "def remove_outliers(df, index_list):\n",
    "    index_list = sorted(set(index_list))\n",
    "    # Drop dos outliers\n",
    "    df = df.drop(index_list)\n",
    "    return df   "
   ]
  },
  {
   "cell_type": "markdown",
   "metadata": {},
   "source": [
    "### Limpa-se o dataframe dos outliers"
   ]
  },
  {
   "cell_type": "code",
   "execution_count": 18,
   "metadata": {},
   "outputs": [],
   "source": [
    "df_clean = remove_outliers(df, outliers_index_list)"
   ]
  },
  {
   "cell_type": "code",
   "execution_count": 19,
   "metadata": {},
   "outputs": [
    {
     "data": {
      "text/plain": [
       "(928, 5)"
      ]
     },
     "execution_count": 19,
     "metadata": {},
     "output_type": "execute_result"
    }
   ],
   "source": [
    "df_clean.shape"
   ]
  },
  {
   "cell_type": "markdown",
   "metadata": {},
   "source": [
    "### Remove-se os itens com valor muito baixo"
   ]
  },
  {
   "cell_type": "code",
   "execution_count": 43,
   "metadata": {},
   "outputs": [],
   "source": [
    "df_mask = df_clean['preco'] >= 300\n",
    "df_clean = df_clean[df_mask]"
   ]
  },
  {
   "cell_type": "markdown",
   "metadata": {},
   "source": [
    "## Histograma: Distribuição de Frequência (Outliers removidos)"
   ]
  },
  {
   "cell_type": "code",
   "execution_count": 44,
   "metadata": {
    "scrolled": false
   },
   "outputs": [
    {
     "data": {
      "image/png": "[encoded data removed]",
      "text/plain": [
       "<Figure size 842.4x595.44 with 1 Axes>"
      ]
     },
     "metadata": {},
     "output_type": "display_data"
    }
   ],
   "source": [
    "sns.set(style=\"darkgrid\")\n",
    "sns.set(rc={'figure.figsize':(11.7,8.27)})\n",
    "histplot = sns.histplot(data=df_clean, x='preco', linewidth=1, bins=30, kde=True)\n",
    "histplot.axes.set_title(\"Histograma de Preços de Smartphones\", fontsize=16)\n",
    "histplot.set_xlabel(\"Preço\", fontsize=14)\n",
    "histplot.set_ylabel(\"Frequência\", fontsize=14)\n",
    "plt.show()"
   ]
  },
  {
   "cell_type": "markdown",
   "metadata": {},
   "source": [
    "Nota-se maior simetria na distribuição após a remoção dos outliers, ainda que esta não seja uma distribuição Gaussiana"
   ]
  },
  {
   "cell_type": "markdown",
   "metadata": {},
   "source": [
    "## Boxplot sem Outliers"
   ]
  },
  {
   "cell_type": "code",
   "execution_count": 52,
   "metadata": {
    "scrolled": true
   },
   "outputs": [
    {
     "data": {
      "image/png": "[encoded data removed]",
      "text/plain": [
       "<Figure size 842.4x595.44 with 1 Axes>"
      ]
     },
     "metadata": {},
     "output_type": "display_data"
    }
   ],
   "source": [
    "sns.set(style=\"darkgrid\")\n",
    "sns.set(rc={'figure.figsize':(11.7,8.27)})\n",
    "boxplot = sns.boxplot(data=df_clean['preco'], linewidth=2.5, width=0.25)\n",
    "boxplot.axes.set_title(\"Distribuição de Preços de Notebooks\", fontsize=16)\n",
    "boxplot.set_xlabel(\"Notebooks\", fontsize=14)\n",
    "boxplot.set_ylabel(\"Preço\", fontsize=14)\n",
    "plt.show()"
   ]
  },
  {
   "cell_type": "markdown",
   "metadata": {},
   "source": [
    "## Estatística descritiva, sem outliers"
   ]
  },
  {
   "cell_type": "code",
   "execution_count": 46,
   "metadata": {
    "scrolled": false
   },
   "outputs": [
    {
     "data": {
      "text/html": [
       "<div>\n",
       "<style scoped>\n",
       "    .dataframe tbody tr th:only-of-type {\n",
       "        vertical-align: middle;\n",
       "    }\n",
       "\n",
       "    .dataframe tbody tr th {\n",
       "        vertical-align: top;\n",
       "    }\n",
       "\n",
       "    .dataframe thead th {\n",
       "        text-align: right;\n",
       "    }\n",
       "</style>\n",
       "<table border=\"1\" class=\"dataframe\">\n",
       "  <thead>\n",
       "    <tr style=\"text-align: right;\">\n",
       "      <th></th>\n",
       "      <th>preco</th>\n",
       "      <th>avaliacao</th>\n",
       "      <th>quantidade_avaliacoes</th>\n",
       "    </tr>\n",
       "  </thead>\n",
       "  <tbody>\n",
       "    <tr>\n",
       "      <th>count</th>\n",
       "      <td>920.000000</td>\n",
       "      <td>920.000000</td>\n",
       "      <td>920.000000</td>\n",
       "    </tr>\n",
       "    <tr>\n",
       "      <th>mean</th>\n",
       "      <td>3988.260685</td>\n",
       "      <td>4.801087</td>\n",
       "      <td>1.970652</td>\n",
       "    </tr>\n",
       "    <tr>\n",
       "      <th>std</th>\n",
       "      <td>1658.279163</td>\n",
       "      <td>0.597964</td>\n",
       "      <td>9.455595</td>\n",
       "    </tr>\n",
       "    <tr>\n",
       "      <th>min</th>\n",
       "      <td>1302.000000</td>\n",
       "      <td>1.000000</td>\n",
       "      <td>0.000000</td>\n",
       "    </tr>\n",
       "    <tr>\n",
       "      <th>25%</th>\n",
       "      <td>2789.100000</td>\n",
       "      <td>5.000000</td>\n",
       "      <td>0.000000</td>\n",
       "    </tr>\n",
       "    <tr>\n",
       "      <th>50%</th>\n",
       "      <td>3735.725000</td>\n",
       "      <td>5.000000</td>\n",
       "      <td>0.000000</td>\n",
       "    </tr>\n",
       "    <tr>\n",
       "      <th>75%</th>\n",
       "      <td>4999.225000</td>\n",
       "      <td>5.000000</td>\n",
       "      <td>0.000000</td>\n",
       "    </tr>\n",
       "    <tr>\n",
       "      <th>max</th>\n",
       "      <td>9167.500000</td>\n",
       "      <td>5.000000</td>\n",
       "      <td>123.000000</td>\n",
       "    </tr>\n",
       "  </tbody>\n",
       "</table>\n",
       "</div>"
      ],
      "text/plain": [
       "             preco   avaliacao  quantidade_avaliacoes\n",
       "count   920.000000  920.000000             920.000000\n",
       "mean   3988.260685    4.801087               1.970652\n",
       "std    1658.279163    0.597964               9.455595\n",
       "min    1302.000000    1.000000               0.000000\n",
       "25%    2789.100000    5.000000               0.000000\n",
       "50%    3735.725000    5.000000               0.000000\n",
       "75%    4999.225000    5.000000               0.000000\n",
       "max    9167.500000    5.000000             123.000000"
      ]
     },
     "execution_count": 46,
     "metadata": {},
     "output_type": "execute_result"
    }
   ],
   "source": [
    "df_clean.describe()"
   ]
  },
  {
   "cell_type": "markdown",
   "metadata": {},
   "source": [
    "Verifica-se assim que:\n",
    " - A média de preço de um Smartphone está em torno de 4000,00 reais, com 1700,00 reais para mais ou para menos\n",
    " - A Mediana do preço de um smartphone é 3700 reais\n",
    " - A média de quantidade de avaliações é 2 por produto. A baixa quantidade pode indicar que essa medida não é confiável"
   ]
  },
  {
   "cell_type": "markdown",
   "metadata": {},
   "source": [
    "## Item Mais Caro (Outliers não removidos)"
   ]
  },
  {
   "cell_type": "code",
   "execution_count": 47,
   "metadata": {
    "scrolled": false
   },
   "outputs": [
    {
     "name": "stdout",
     "output_type": "stream",
     "text": [
      "                                             descricao     preco  avaliacao  \\\n",
      "840  Notebook Acer Aspire 5 A515-54-70CM Intel Core...  94999.05          5   \n",
      "\n",
      "     quantidade_avaliacoes                                                URL  \n",
      "840                      0  https://www.magazineluiza.com.br/notebook-acer...  \n"
     ]
    }
   ],
   "source": [
    "df_mask = df['preco']==max(df['preco'])\n",
    "filtered_df = df[df_mask]\n",
    "print(filtered_df)"
   ]
  },
  {
   "cell_type": "markdown",
   "metadata": {},
   "source": [
    "## Item Mais Caro (Outliers Removidos)"
   ]
  },
  {
   "cell_type": "code",
   "execution_count": 48,
   "metadata": {
    "scrolled": false
   },
   "outputs": [
    {
     "name": "stdout",
     "output_type": "stream",
     "text": [
      "                                             descricao   preco  avaliacao  \\\n",
      "499  Notebook Gamer Predator Helios 300 PH315-53-75...  9167.5          5   \n",
      "\n",
      "     quantidade_avaliacoes                                                URL  \n",
      "499                      0  https://www.magazineluiza.com.br/notebook-game...  \n"
     ]
    }
   ],
   "source": [
    "df_mask = df_clean['preco'] == max(df_clean['preco'])\n",
    "filtered_df = df_clean[df_mask]\n",
    "print(filtered_df)"
   ]
  },
  {
   "cell_type": "markdown",
   "metadata": {},
   "source": [
    "## Item mais barato"
   ]
  },
  {
   "cell_type": "code",
   "execution_count": 49,
   "metadata": {
    "scrolled": true
   },
   "outputs": [
    {
     "name": "stdout",
     "output_type": "stream",
     "text": [
      "                                             descricao    preco  avaliacao  \\\n",
      "535  Notebook Multilaser Legacy Cloud 64GB 2GB 14\" ...  1302.00          5   \n",
      "429  Notebook Intel Celeron 4GB RAM 64GB Multilaser...  1348.20          5   \n",
      "113  Notebook 14\" legacy cloud atom/2gb/32gb win10 ...  1356.06          3   \n",
      "721  Notebook Positivo Motion Red Q232B Intel Quad ...  1376.55          5   \n",
      "236  Notebook Multilaser Legacy Intel Atom Quad Z83...  1386.05          5   \n",
      "\n",
      "     quantidade_avaliacoes                                                URL  \n",
      "535                      0  https://www.magazineluiza.com.br/notebook-mult...  \n",
      "429                      0  https://www.magazineluiza.com.br/notebook-inte...  \n",
      "113                     18  https://www.magazineluiza.com.br/notebook-14-l...  \n",
      "721                      0  https://www.magazineluiza.com.br/notebook-posi...  \n",
      "236                      0  https://www.magazineluiza.com.br/notebook-mult...  \n"
     ]
    }
   ],
   "source": [
    "df_mask = df_clean['preco'] >= 300\n",
    "filtered_df = df_clean[df_mask]\n",
    "print(filtered_df.sort_values(by=['preco'], ascending=True)[:5])"
   ]
  },
  {
   "cell_type": "markdown",
   "metadata": {},
   "source": [
    " Notebook Multilaser Legacy Cloud 64GB 2GB 14\" de 1302 reais"
   ]
  },
  {
   "cell_type": "markdown",
   "metadata": {},
   "source": [
    "## 5 itens com preço menor ou igual a média"
   ]
  },
  {
   "cell_type": "code",
   "execution_count": 50,
   "metadata": {
    "scrolled": true
   },
   "outputs": [
    {
     "name": "stdout",
     "output_type": "stream",
     "text": [
      "                                             descricao    preco  avaliacao  \\\n",
      "741  Notebook Samsung Book Intel Core i5 Windows 10...  3986.62          5   \n",
      "620  Notebook Dell Inspiron 3501 - Intel i3 1005G1,...  3980.49          5   \n",
      "789  Notebook Samsung Galaxy Book GO Sdragon 7c Oct...  3960.87          5   \n",
      "522  Notebook Lenovo V14 i5-1135G7 8GB 256GB SSD In...  3959.10          5   \n",
      "137  Kit Notebook 2 em 1 Dell Inspiron 5406-OS10SF ...  3959.10          5   \n",
      "\n",
      "     quantidade_avaliacoes                                                URL  \n",
      "741                      0  https://www.magazineluiza.com.br/notebook-sams...  \n",
      "620                      0  https://www.magazineluiza.com.br/notebook-dell...  \n",
      "789                      0  https://www.magazineluiza.com.br/notebook-sams...  \n",
      "522                      0  https://www.magazineluiza.com.br/notebook-leno...  \n",
      "137                      0  https://www.magazineluiza.com.br/kit-notebook-...  \n"
     ]
    }
   ],
   "source": [
    "df_mask = df_clean['preco'] <= df_clean['preco'].mean()\n",
    "filtered_df = df_clean[df_mask]\n",
    "print(filtered_df.sort_values(by=['preco'], ascending=False)[:5])"
   ]
  },
  {
   "cell_type": "markdown",
   "metadata": {},
   "source": [
    "Estes itens são considerados mid-range e tem uma boa relação custo-benefício."
   ]
  }
 ],
 "metadata": {
  "kernelspec": {
   "display_name": "Python 3",
   "language": "python",
   "name": "python3"
  },
  "language_info": {
   "codemirror_mode": {
    "name": "ipython",
    "version": 3
   },
   "file_extension": ".py",
   "mimetype": "text/x-python",
   "name": "python",
   "nbconvert_exporter": "python",
   "pygments_lexer": "ipython3",
   "version": "3.8.5"
  }
 },
 "nbformat": 4,
 "nbformat_minor": 4
}
