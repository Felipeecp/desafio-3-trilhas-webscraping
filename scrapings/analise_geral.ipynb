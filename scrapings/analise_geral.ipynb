{
 "cells": [
  {
   "cell_type": "code",
   "execution_count": 2,
   "metadata": {},
   "outputs": [],
   "source": [
    "import pandas as pd\n",
    "import numpy as np\n",
    "import seaborn as sns\n",
    "import matplotlib.pyplot as plt\n",
    "import plotly.express as px"
   ]
  },
  {
   "cell_type": "markdown",
   "metadata": {},
   "source": [
    "# Função de remoção de outliers"
   ]
  },
  {
   "cell_type": "code",
   "execution_count": 3,
   "metadata": {},
   "outputs": [],
   "source": [
    "def outliers_indexes(df, ft):\n",
    "    \"\"\" \n",
    "    Função que retorna o índice dos outliers\n",
    "    Embasamento matemático:\n",
    "    Amplitude Interquartil => IQR = Quartil_3 - Quartil_1\n",
    "    Limite Inferior => LI = Quartil_1 - 1.5*IQR\n",
    "    Limite Superior => LS = Quartil_3 + 1.5*IQR\n",
    "    Todos os dados que estiverem acima do limite superior ou abaixo do limite inferior, são outliers\n",
    "    \"\"\"\n",
    "    Q1 = df[ft].quantile(0.25)\n",
    "    Q3 = df[ft].quantile(0.75)\n",
    "    IQR = Q3 - Q1\n",
    "    \n",
    "    LI = Q1 - 1.5*IQR\n",
    "    LS = Q3 + 1.5*IQR\n",
    "    \n",
    "    lista_indices = df.index[ (df[ft] < LI) | (df[ft] > LS) ]\n",
    "    \n",
    "    return lista_indices\n",
    "\n",
    "\n",
    "# Cria-se uma lista vazia para armazenar os índices de saídas de múltiplas colunas \n",
    "# (somente caso se quisesse tirar outliers de multiplas colunas)\n",
    "\n",
    "def outliers_index_l(df):\n",
    "    index_list = []\n",
    "    for feature in [\"Preço\", \"TotalReviews\"]:\n",
    "        index_list.extend(outliers_indexes(df, feature))\n",
    "    outliers_index_list = outliers_indexes(df, 'Preço')\n",
    "    print(\"Quantidade de outliers: \",len(outliers_index_list))\n",
    "    \n",
    "    return outliers_index_list\n",
    "    \n",
    "    \n",
    "def remove_outliers(df, index_list):\n",
    "    index_list = sorted(set(index_list))\n",
    "    # Drop dos outliers\n",
    "    df = df.drop(index_list)\n",
    "    return df"
   ]
  },
  {
   "cell_type": "markdown",
   "metadata": {},
   "source": [
    "# Dados amazon"
   ]
  },
  {
   "cell_type": "code",
   "execution_count": 4,
   "metadata": {},
   "outputs": [],
   "source": [
    "dados_amazon = pd.read_csv('amazon/output/dados_amazon.csv')\n",
    "dados_amazon_new = pd.read_csv('amazon/output/dados_amazon.csv').drop(columns=['Estrelas','Url'])"
   ]
  },
  {
   "cell_type": "markdown",
   "metadata": {},
   "source": [
    "# Dados Americanas"
   ]
  },
  {
   "cell_type": "code",
   "execution_count": 5,
   "metadata": {},
   "outputs": [
    {
     "name": "stderr",
     "output_type": "stream",
     "text": [
      "D:\\Programas\\Anaconda3\\lib\\site-packages\\pandas\\core\\indexing.py:1637: SettingWithCopyWarning: \n",
      "A value is trying to be set on a copy of a slice from a DataFrame\n",
      "\n",
      "See the caveats in the documentation: https://pandas.pydata.org/pandas-docs/stable/user_guide/indexing.html#returning-a-view-versus-a-copy\n",
      "  self._setitem_single_block(indexer, value, name)\n"
     ]
    },
    {
     "data": {
      "text/html": [
       "<div>\n",
       "<style scoped>\n",
       "    .dataframe tbody tr th:only-of-type {\n",
       "        vertical-align: middle;\n",
       "    }\n",
       "\n",
       "    .dataframe tbody tr th {\n",
       "        vertical-align: top;\n",
       "    }\n",
       "\n",
       "    .dataframe thead th {\n",
       "        text-align: right;\n",
       "    }\n",
       "</style>\n",
       "<table border=\"1\" class=\"dataframe\">\n",
       "  <thead>\n",
       "    <tr style=\"text-align: right;\">\n",
       "      <th></th>\n",
       "      <th>Descrição</th>\n",
       "      <th>TotalReviews</th>\n",
       "      <th>Preço</th>\n",
       "      <th>Loja</th>\n",
       "      <th>Categoria</th>\n",
       "    </tr>\n",
       "  </thead>\n",
       "  <tbody>\n",
       "    <tr>\n",
       "      <th>491</th>\n",
       "      <td>Samsung Smart TV LED 40'' Tizen FHD 40T5300 20...</td>\n",
       "      <td>656</td>\n",
       "      <td>2199.99</td>\n",
       "      <td>Americanas</td>\n",
       "      <td>TV</td>\n",
       "    </tr>\n",
       "    <tr>\n",
       "      <th>492</th>\n",
       "      <td>Smart TV LED 43'' Full HD Philco PTV43E10N5SF ...</td>\n",
       "      <td>210</td>\n",
       "      <td>1899.99</td>\n",
       "      <td>Americanas</td>\n",
       "      <td>TV</td>\n",
       "    </tr>\n",
       "    <tr>\n",
       "      <th>493</th>\n",
       "      <td>Smart TV LED 32'' Samsung Tizen HD 32T4300 202...</td>\n",
       "      <td>839</td>\n",
       "      <td>1599.99</td>\n",
       "      <td>Americanas</td>\n",
       "      <td>TV</td>\n",
       "    </tr>\n",
       "    <tr>\n",
       "      <th>494</th>\n",
       "      <td>Smart TV LG 32\" HD 32LM627B Wi-Fi Bluetooth HD...</td>\n",
       "      <td>56</td>\n",
       "      <td>1599.99</td>\n",
       "      <td>Americanas</td>\n",
       "      <td>TV</td>\n",
       "    </tr>\n",
       "    <tr>\n",
       "      <th>495</th>\n",
       "      <td>Smart TV LED 32\" Philco PTV32G52S HD e Áudio D...</td>\n",
       "      <td>0</td>\n",
       "      <td>1399.99</td>\n",
       "      <td>Americanas</td>\n",
       "      <td>TV</td>\n",
       "    </tr>\n",
       "    <tr>\n",
       "      <th>...</th>\n",
       "      <td>...</td>\n",
       "      <td>...</td>\n",
       "      <td>...</td>\n",
       "      <td>...</td>\n",
       "      <td>...</td>\n",
       "    </tr>\n",
       "    <tr>\n",
       "      <th>712</th>\n",
       "      <td>Smart TV 75\" UHD 4K Samsung 75AU7700, Processa...</td>\n",
       "      <td>0</td>\n",
       "      <td>7998.75</td>\n",
       "      <td>Americanas</td>\n",
       "      <td>TV</td>\n",
       "    </tr>\n",
       "    <tr>\n",
       "      <th>713</th>\n",
       "      <td>Smart TV 4K LG oled 65 com Inteligência Artifi...</td>\n",
       "      <td>0</td>\n",
       "      <td>9093.93</td>\n",
       "      <td>Americanas</td>\n",
       "      <td>TV</td>\n",
       "    </tr>\n",
       "    <tr>\n",
       "      <th>714</th>\n",
       "      <td>Samsung Smart TV 55' Neo qled 4K 55QN85A, Mini...</td>\n",
       "      <td>0</td>\n",
       "      <td>8025.29</td>\n",
       "      <td>Americanas</td>\n",
       "      <td>TV</td>\n",
       "    </tr>\n",
       "    <tr>\n",
       "      <th>715</th>\n",
       "      <td>Smart TV Samsung qled 4K 65, Slim Frame, com M...</td>\n",
       "      <td>0</td>\n",
       "      <td>8199.84</td>\n",
       "      <td>Americanas</td>\n",
       "      <td>TV</td>\n",
       "    </tr>\n",
       "    <tr>\n",
       "      <th>716</th>\n",
       "      <td>Smart TV Samsung 65, Neo Quantum 4K Neo qled Q...</td>\n",
       "      <td>0</td>\n",
       "      <td>9856.94</td>\n",
       "      <td>Americanas</td>\n",
       "      <td>TV</td>\n",
       "    </tr>\n",
       "  </tbody>\n",
       "</table>\n",
       "<p>226 rows × 5 columns</p>\n",
       "</div>"
      ],
      "text/plain": [
       "                                             Descrição  TotalReviews    Preço  \\\n",
       "491  Samsung Smart TV LED 40'' Tizen FHD 40T5300 20...           656  2199.99   \n",
       "492  Smart TV LED 43'' Full HD Philco PTV43E10N5SF ...           210  1899.99   \n",
       "493  Smart TV LED 32'' Samsung Tizen HD 32T4300 202...           839  1599.99   \n",
       "494  Smart TV LG 32\" HD 32LM627B Wi-Fi Bluetooth HD...            56  1599.99   \n",
       "495  Smart TV LED 32\" Philco PTV32G52S HD e Áudio D...             0  1399.99   \n",
       "..                                                 ...           ...      ...   \n",
       "712  Smart TV 75\" UHD 4K Samsung 75AU7700, Processa...             0  7998.75   \n",
       "713  Smart TV 4K LG oled 65 com Inteligência Artifi...             0  9093.93   \n",
       "714  Samsung Smart TV 55' Neo qled 4K 55QN85A, Mini...             0  8025.29   \n",
       "715  Smart TV Samsung qled 4K 65, Slim Frame, com M...             0  8199.84   \n",
       "716  Smart TV Samsung 65, Neo Quantum 4K Neo qled Q...             0  9856.94   \n",
       "\n",
       "           Loja Categoria  \n",
       "491  Americanas        TV  \n",
       "492  Americanas        TV  \n",
       "493  Americanas        TV  \n",
       "494  Americanas        TV  \n",
       "495  Americanas        TV  \n",
       "..          ...       ...  \n",
       "712  Americanas        TV  \n",
       "713  Americanas        TV  \n",
       "714  Americanas        TV  \n",
       "715  Americanas        TV  \n",
       "716  Americanas        TV  \n",
       "\n",
       "[226 rows x 5 columns]"
      ]
     },
     "execution_count": 5,
     "metadata": {},
     "output_type": "execute_result"
    }
   ],
   "source": [
    "dados_americanas = pd.read_csv('americanas/output/dados_completos_americanas.csv',sep=';')\n",
    "dados_americanas_new = dados_americanas.drop(columns=['Modelo','Url'])\n",
    "dados_americanas_new['Categoria'].loc[dados_americanas_new['Categoria'] == 'Televisão'] = 'TV'\n",
    "dados_americanas_new.query(\"Categoria == 'TV'\")"
   ]
  },
  {
   "cell_type": "markdown",
   "metadata": {},
   "source": [
    "# Dados Casas Bahia"
   ]
  },
  {
   "cell_type": "code",
   "execution_count": 6,
   "metadata": {},
   "outputs": [
    {
     "name": "stderr",
     "output_type": "stream",
     "text": [
      "D:\\Programas\\Anaconda3\\lib\\site-packages\\pandas\\core\\indexing.py:1637: SettingWithCopyWarning: \n",
      "A value is trying to be set on a copy of a slice from a DataFrame\n",
      "\n",
      "See the caveats in the documentation: https://pandas.pydata.org/pandas-docs/stable/user_guide/indexing.html#returning-a-view-versus-a-copy\n",
      "  self._setitem_single_block(indexer, value, name)\n"
     ]
    },
    {
     "data": {
      "text/html": [
       "<div>\n",
       "<style scoped>\n",
       "    .dataframe tbody tr th:only-of-type {\n",
       "        vertical-align: middle;\n",
       "    }\n",
       "\n",
       "    .dataframe tbody tr th {\n",
       "        vertical-align: top;\n",
       "    }\n",
       "\n",
       "    .dataframe thead th {\n",
       "        text-align: right;\n",
       "    }\n",
       "</style>\n",
       "<table border=\"1\" class=\"dataframe\">\n",
       "  <thead>\n",
       "    <tr style=\"text-align: right;\">\n",
       "      <th></th>\n",
       "      <th>Descrição</th>\n",
       "      <th>TotalReviews</th>\n",
       "      <th>Preço</th>\n",
       "      <th>Loja</th>\n",
       "      <th>Categoria</th>\n",
       "    </tr>\n",
       "  </thead>\n",
       "  <tbody>\n",
       "    <tr>\n",
       "      <th>256</th>\n",
       "      <td>Smart TV LED 42” Full HD Philco PTV42G70N5CF c...</td>\n",
       "      <td>1449</td>\n",
       "      <td>1896.00</td>\n",
       "      <td>Casas Bahia</td>\n",
       "      <td>TV</td>\n",
       "    </tr>\n",
       "    <tr>\n",
       "      <th>257</th>\n",
       "      <td>Smart TV LED 32\" HD Philco PTV32D10N5SKH com D...</td>\n",
       "      <td>485</td>\n",
       "      <td>1499.00</td>\n",
       "      <td>Casas Bahia</td>\n",
       "      <td>TV</td>\n",
       "    </tr>\n",
       "    <tr>\n",
       "      <th>258</th>\n",
       "      <td>Smart TV LED 43\" Full HD TCL 43S6500FS Android...</td>\n",
       "      <td>3407</td>\n",
       "      <td>1999.00</td>\n",
       "      <td>Casas Bahia</td>\n",
       "      <td>TV</td>\n",
       "    </tr>\n",
       "    <tr>\n",
       "      <th>259</th>\n",
       "      <td>Smart TV LED 32\" HD Samsung T4300 com HDR, Sis...</td>\n",
       "      <td>2882</td>\n",
       "      <td>1599.00</td>\n",
       "      <td>Casas Bahia</td>\n",
       "      <td>TV</td>\n",
       "    </tr>\n",
       "    <tr>\n",
       "      <th>260</th>\n",
       "      <td>Smart TV LED 58\" UHD 4K Philco PTV58F80SNS com...</td>\n",
       "      <td>969</td>\n",
       "      <td>3499.00</td>\n",
       "      <td>Casas Bahia</td>\n",
       "      <td>TV</td>\n",
       "    </tr>\n",
       "    <tr>\n",
       "      <th>...</th>\n",
       "      <td>...</td>\n",
       "      <td>...</td>\n",
       "      <td>...</td>\n",
       "      <td>...</td>\n",
       "      <td>...</td>\n",
       "    </tr>\n",
       "    <tr>\n",
       "      <th>519</th>\n",
       "      <td>Smart TV Led Panasonic 50\" 4K Ultra HD com Com...</td>\n",
       "      <td>0</td>\n",
       "      <td>1952.99</td>\n",
       "      <td>Casas Bahia</td>\n",
       "      <td>TV</td>\n",
       "    </tr>\n",
       "    <tr>\n",
       "      <th>520</th>\n",
       "      <td>Smart TV OLED 55\" LG OLED55CXPSA 4K HDR com Wi...</td>\n",
       "      <td>0</td>\n",
       "      <td>3512.90</td>\n",
       "      <td>Casas Bahia</td>\n",
       "      <td>TV</td>\n",
       "    </tr>\n",
       "    <tr>\n",
       "      <th>521</th>\n",
       "      <td>Smart TV Philco 55\" PTV55F62SN 4K LED</td>\n",
       "      <td>0</td>\n",
       "      <td>12499.00</td>\n",
       "      <td>Casas Bahia</td>\n",
       "      <td>TV</td>\n",
       "    </tr>\n",
       "    <tr>\n",
       "      <th>522</th>\n",
       "      <td>Smart Tv 24Tl520s Lg 24``</td>\n",
       "      <td>0</td>\n",
       "      <td>2299.90</td>\n",
       "      <td>Casas Bahia</td>\n",
       "      <td>TV</td>\n",
       "    </tr>\n",
       "    <tr>\n",
       "      <th>523</th>\n",
       "      <td>Smart TV AOC 32 Polegadas Roku TV LED 32S5195/...</td>\n",
       "      <td>0</td>\n",
       "      <td>8169.00</td>\n",
       "      <td>Casas Bahia</td>\n",
       "      <td>TV</td>\n",
       "    </tr>\n",
       "  </tbody>\n",
       "</table>\n",
       "<p>268 rows × 5 columns</p>\n",
       "</div>"
      ],
      "text/plain": [
       "                                             Descrição  TotalReviews  \\\n",
       "256  Smart TV LED 42” Full HD Philco PTV42G70N5CF c...          1449   \n",
       "257  Smart TV LED 32\" HD Philco PTV32D10N5SKH com D...           485   \n",
       "258  Smart TV LED 43\" Full HD TCL 43S6500FS Android...          3407   \n",
       "259  Smart TV LED 32\" HD Samsung T4300 com HDR, Sis...          2882   \n",
       "260  Smart TV LED 58\" UHD 4K Philco PTV58F80SNS com...           969   \n",
       "..                                                 ...           ...   \n",
       "519  Smart TV Led Panasonic 50\" 4K Ultra HD com Com...             0   \n",
       "520  Smart TV OLED 55\" LG OLED55CXPSA 4K HDR com Wi...             0   \n",
       "521              Smart TV Philco 55\" PTV55F62SN 4K LED             0   \n",
       "522                          Smart Tv 24Tl520s Lg 24``             0   \n",
       "523  Smart TV AOC 32 Polegadas Roku TV LED 32S5195/...             0   \n",
       "\n",
       "        Preço         Loja Categoria  \n",
       "256   1896.00  Casas Bahia        TV  \n",
       "257   1499.00  Casas Bahia        TV  \n",
       "258   1999.00  Casas Bahia        TV  \n",
       "259   1599.00  Casas Bahia        TV  \n",
       "260   3499.00  Casas Bahia        TV  \n",
       "..        ...          ...       ...  \n",
       "519   1952.99  Casas Bahia        TV  \n",
       "520   3512.90  Casas Bahia        TV  \n",
       "521  12499.00  Casas Bahia        TV  \n",
       "522   2299.90  Casas Bahia        TV  \n",
       "523   8169.00  Casas Bahia        TV  \n",
       "\n",
       "[268 rows x 5 columns]"
      ]
     },
     "execution_count": 6,
     "metadata": {},
     "output_type": "execute_result"
    }
   ],
   "source": [
    "dados_casas_bahia = pd.read_csv('casas_bahia/output/dados_casas_bahia.csv', sep=';')\n",
    "dados_casas_bahia_new = dados_casas_bahia.drop(columns=['Estrelas'])\n",
    "dados_casas_bahia_new['Categoria'].loc[dados_casas_bahia_new['Categoria'] == 'Smart TV'] = 'TV'\n",
    "dados_casas_bahia_new.query(\"Categoria == 'TV'\")"
   ]
  },
  {
   "cell_type": "code",
   "execution_count": 7,
   "metadata": {},
   "outputs": [
    {
     "data": {
      "text/plain": [
       "0        Notebook\n",
       "1        Notebook\n",
       "2        Notebook\n",
       "3        Notebook\n",
       "4        Notebook\n",
       "          ...    \n",
       "1046    Geladeira\n",
       "1047    Geladeira\n",
       "1048    Geladeira\n",
       "1049    Geladeira\n",
       "1050    Geladeira\n",
       "Name: Categoria, Length: 1051, dtype: object"
      ]
     },
     "execution_count": 7,
     "metadata": {},
     "output_type": "execute_result"
    }
   ],
   "source": [
    "dados_casas_bahia_new[\"Categoria\"]"
   ]
  },
  {
   "cell_type": "code",
   "execution_count": 8,
   "metadata": {},
   "outputs": [
    {
     "name": "stdout",
     "output_type": "stream",
     "text": [
      "Quantidade de outliers:  55\n"
     ]
    }
   ],
   "source": [
    "outliers_index_list_cb = outliers_index_l(dados_casas_bahia_new)\n",
    "df_clean_cb = remove_outliers(dados_casas_bahia_new, outliers_index_list_cb)"
   ]
  },
  {
   "cell_type": "markdown",
   "metadata": {},
   "source": [
    "# Dados Magazine Luiz"
   ]
  },
  {
   "cell_type": "code",
   "execution_count": 9,
   "metadata": {},
   "outputs": [
    {
     "name": "stderr",
     "output_type": "stream",
     "text": [
      "D:\\Programas\\Anaconda3\\lib\\site-packages\\pandas\\core\\indexing.py:1637: SettingWithCopyWarning: \n",
      "A value is trying to be set on a copy of a slice from a DataFrame\n",
      "\n",
      "See the caveats in the documentation: https://pandas.pydata.org/pandas-docs/stable/user_guide/indexing.html#returning-a-view-versus-a-copy\n",
      "  self._setitem_single_block(indexer, value, name)\n"
     ]
    },
    {
     "data": {
      "text/html": [
       "<div>\n",
       "<style scoped>\n",
       "    .dataframe tbody tr th:only-of-type {\n",
       "        vertical-align: middle;\n",
       "    }\n",
       "\n",
       "    .dataframe tbody tr th {\n",
       "        vertical-align: top;\n",
       "    }\n",
       "\n",
       "    .dataframe thead th {\n",
       "        text-align: right;\n",
       "    }\n",
       "</style>\n",
       "<table border=\"1\" class=\"dataframe\">\n",
       "  <thead>\n",
       "    <tr style=\"text-align: right;\">\n",
       "      <th></th>\n",
       "      <th>Descrição</th>\n",
       "      <th>Preço</th>\n",
       "      <th>TotalReviews</th>\n",
       "      <th>Loja</th>\n",
       "      <th>Categoria</th>\n",
       "    </tr>\n",
       "  </thead>\n",
       "  <tbody>\n",
       "    <tr>\n",
       "      <th>267</th>\n",
       "      <td>Smart TV 50” Crystal 4K Samsung 50AU7700</td>\n",
       "      <td>3099.00</td>\n",
       "      <td>28</td>\n",
       "      <td>Megazine Luiza</td>\n",
       "      <td>TV</td>\n",
       "    </tr>\n",
       "    <tr>\n",
       "      <th>268</th>\n",
       "      <td>Smart TV 65” Crystal 4K Samsung 65AU7700 Wi-Fi</td>\n",
       "      <td>4199.00</td>\n",
       "      <td>3</td>\n",
       "      <td>Megazine Luiza</td>\n",
       "      <td>TV</td>\n",
       "    </tr>\n",
       "    <tr>\n",
       "      <th>269</th>\n",
       "      <td>Smart TV 55” Crystal 4K Samsung 55AU7700</td>\n",
       "      <td>3299.00</td>\n",
       "      <td>2</td>\n",
       "      <td>Megazine Luiza</td>\n",
       "      <td>TV</td>\n",
       "    </tr>\n",
       "    <tr>\n",
       "      <th>270</th>\n",
       "      <td>Smart TV 60” Crystal 4K Samsung 60AU8000 Wi-Fi</td>\n",
       "      <td>3989.05</td>\n",
       "      <td>3</td>\n",
       "      <td>Megazine Luiza</td>\n",
       "      <td>TV</td>\n",
       "    </tr>\n",
       "    <tr>\n",
       "      <th>271</th>\n",
       "      <td>Smart TV 32” HD LED TCL S615 VA 60Hz</td>\n",
       "      <td>1398.00</td>\n",
       "      <td>4</td>\n",
       "      <td>Megazine Luiza</td>\n",
       "      <td>TV</td>\n",
       "    </tr>\n",
       "    <tr>\n",
       "      <th>...</th>\n",
       "      <td>...</td>\n",
       "      <td>...</td>\n",
       "      <td>...</td>\n",
       "      <td>...</td>\n",
       "      <td>...</td>\n",
       "    </tr>\n",
       "    <tr>\n",
       "      <th>524</th>\n",
       "      <td>Smart Tv 40S615 40 Polegadas Led Full Hd Hdr W...</td>\n",
       "      <td>2126.91</td>\n",
       "      <td>0</td>\n",
       "      <td>Megazine Luiza</td>\n",
       "      <td>TV</td>\n",
       "    </tr>\n",
       "    <tr>\n",
       "      <th>525</th>\n",
       "      <td>Smart TV LED 32'' HD LG 32LM627B 2021 WiFi Blu...</td>\n",
       "      <td>1859.07</td>\n",
       "      <td>0</td>\n",
       "      <td>Megazine Luiza</td>\n",
       "      <td>TV</td>\n",
       "    </tr>\n",
       "    <tr>\n",
       "      <th>526</th>\n",
       "      <td>Smart TV Samsung Crystal UHD TU8000 4K 82\", Bo...</td>\n",
       "      <td>8799.00</td>\n",
       "      <td>2</td>\n",
       "      <td>Megazine Luiza</td>\n",
       "      <td>TV</td>\n",
       "    </tr>\n",
       "    <tr>\n",
       "      <th>527</th>\n",
       "      <td>Smart TV Samsung 32\" LED HD UN32T4300</td>\n",
       "      <td>1699.00</td>\n",
       "      <td>2</td>\n",
       "      <td>Megazine Luiza</td>\n",
       "      <td>TV</td>\n",
       "    </tr>\n",
       "    <tr>\n",
       "      <th>528</th>\n",
       "      <td>Smart TV AOC Roku 32\" LED HD HDMI USB Miracast...</td>\n",
       "      <td>1349.10</td>\n",
       "      <td>12</td>\n",
       "      <td>Megazine Luiza</td>\n",
       "      <td>TV</td>\n",
       "    </tr>\n",
       "  </tbody>\n",
       "</table>\n",
       "<p>262 rows × 5 columns</p>\n",
       "</div>"
      ],
      "text/plain": [
       "                                             Descrição    Preço  TotalReviews  \\\n",
       "267           Smart TV 50” Crystal 4K Samsung 50AU7700  3099.00            28   \n",
       "268     Smart TV 65” Crystal 4K Samsung 65AU7700 Wi-Fi  4199.00             3   \n",
       "269           Smart TV 55” Crystal 4K Samsung 55AU7700  3299.00             2   \n",
       "270     Smart TV 60” Crystal 4K Samsung 60AU8000 Wi-Fi  3989.05             3   \n",
       "271               Smart TV 32” HD LED TCL S615 VA 60Hz  1398.00             4   \n",
       "..                                                 ...      ...           ...   \n",
       "524  Smart Tv 40S615 40 Polegadas Led Full Hd Hdr W...  2126.91             0   \n",
       "525  Smart TV LED 32'' HD LG 32LM627B 2021 WiFi Blu...  1859.07             0   \n",
       "526  Smart TV Samsung Crystal UHD TU8000 4K 82\", Bo...  8799.00             2   \n",
       "527              Smart TV Samsung 32\" LED HD UN32T4300  1699.00             2   \n",
       "528  Smart TV AOC Roku 32\" LED HD HDMI USB Miracast...  1349.10            12   \n",
       "\n",
       "               Loja Categoria  \n",
       "267  Megazine Luiza        TV  \n",
       "268  Megazine Luiza        TV  \n",
       "269  Megazine Luiza        TV  \n",
       "270  Megazine Luiza        TV  \n",
       "271  Megazine Luiza        TV  \n",
       "..              ...       ...  \n",
       "524  Megazine Luiza        TV  \n",
       "525  Megazine Luiza        TV  \n",
       "526  Megazine Luiza        TV  \n",
       "527  Megazine Luiza        TV  \n",
       "528  Megazine Luiza        TV  \n",
       "\n",
       "[262 rows x 5 columns]"
      ]
     },
     "execution_count": 9,
     "metadata": {},
     "output_type": "execute_result"
    }
   ],
   "source": [
    "dados_ml = pd.read_csv('magazine_luiza/output/dados_magazine_luiza.csv',sep=';')\n",
    "dados_ml_new = dados_ml.drop(columns=['Estrelas','URL'])\n",
    "dados_ml_new['Categoria'].loc[dados_ml_new['Categoria'] == 'Smart TV'] = 'TV'\n",
    "dados_ml_new.query(\"Categoria == 'TV'\")"
   ]
  },
  {
   "cell_type": "code",
   "execution_count": 13,
   "metadata": {},
   "outputs": [
    {
     "data": {
      "text/html": [
       "<div>\n",
       "<style scoped>\n",
       "    .dataframe tbody tr th:only-of-type {\n",
       "        vertical-align: middle;\n",
       "    }\n",
       "\n",
       "    .dataframe tbody tr th {\n",
       "        vertical-align: top;\n",
       "    }\n",
       "\n",
       "    .dataframe thead th {\n",
       "        text-align: right;\n",
       "    }\n",
       "</style>\n",
       "<table border=\"1\" class=\"dataframe\">\n",
       "  <thead>\n",
       "    <tr style=\"text-align: right;\">\n",
       "      <th></th>\n",
       "      <th>Descrição</th>\n",
       "      <th>Preço</th>\n",
       "      <th>TotalReviews</th>\n",
       "      <th>Loja</th>\n",
       "      <th>Categoria</th>\n",
       "    </tr>\n",
       "  </thead>\n",
       "  <tbody>\n",
       "    <tr>\n",
       "      <th>0</th>\n",
       "      <td>Notebook Acer Aspire 5 A515-54G-53XP Intel Cor...</td>\n",
       "      <td>3699.99</td>\n",
       "      <td>12</td>\n",
       "      <td>Submarino</td>\n",
       "      <td>Notebook</td>\n",
       "    </tr>\n",
       "    <tr>\n",
       "      <th>1</th>\n",
       "      <td>Notebook Samsung Book Intel Core i5-1135G7 8GB...</td>\n",
       "      <td>3689.00</td>\n",
       "      <td>38</td>\n",
       "      <td>Submarino</td>\n",
       "      <td>Notebook</td>\n",
       "    </tr>\n",
       "    <tr>\n",
       "      <th>2</th>\n",
       "      <td>Notebook Lenovo Ultrafino Ideapad S145 AMD Ryz...</td>\n",
       "      <td>3048.35</td>\n",
       "      <td>19</td>\n",
       "      <td>Submarino</td>\n",
       "      <td>Notebook</td>\n",
       "    </tr>\n",
       "    <tr>\n",
       "      <th>3</th>\n",
       "      <td>Notebook Acer Aspire 5 A515-54-50BT Intel Core...</td>\n",
       "      <td>3889.00</td>\n",
       "      <td>21</td>\n",
       "      <td>Submarino</td>\n",
       "      <td>Notebook</td>\n",
       "    </tr>\n",
       "    <tr>\n",
       "      <th>4</th>\n",
       "      <td>Notebook Lenovo Ultrafino Ideapad 3i Intel Cor...</td>\n",
       "      <td>3499.99</td>\n",
       "      <td>4</td>\n",
       "      <td>Submarino</td>\n",
       "      <td>Notebook</td>\n",
       "    </tr>\n",
       "    <tr>\n",
       "      <th>...</th>\n",
       "      <td>...</td>\n",
       "      <td>...</td>\n",
       "      <td>...</td>\n",
       "      <td>...</td>\n",
       "      <td>...</td>\n",
       "    </tr>\n",
       "    <tr>\n",
       "      <th>1183</th>\n",
       "      <td>Geladeira/Refrigerador Electrolux Duplex TF55 ...</td>\n",
       "      <td>3263.14</td>\n",
       "      <td>11</td>\n",
       "      <td>Submarino</td>\n",
       "      <td>Geladeira</td>\n",
       "    </tr>\n",
       "    <tr>\n",
       "      <th>1184</th>\n",
       "      <td>Geladeira Brastemp Frost Free 400 litros - BRM...</td>\n",
       "      <td>3398.00</td>\n",
       "      <td>16</td>\n",
       "      <td>Submarino</td>\n",
       "      <td>Geladeira</td>\n",
       "    </tr>\n",
       "    <tr>\n",
       "      <th>1185</th>\n",
       "      <td>Geladeria/Refrigerador Consul Duplex CRE44 Fro...</td>\n",
       "      <td>3748.00</td>\n",
       "      <td>9</td>\n",
       "      <td>Submarino</td>\n",
       "      <td>Geladeira</td>\n",
       "    </tr>\n",
       "    <tr>\n",
       "      <th>1186</th>\n",
       "      <td>Geladeira/Refrigerador Electrolux Frost Free B...</td>\n",
       "      <td>3699.99</td>\n",
       "      <td>1</td>\n",
       "      <td>Submarino</td>\n",
       "      <td>Geladeira</td>\n",
       "    </tr>\n",
       "    <tr>\n",
       "      <th>1187</th>\n",
       "      <td>Geladeira Consul Frost Free Duplex CRM50 410L ...</td>\n",
       "      <td>2848.00</td>\n",
       "      <td>0</td>\n",
       "      <td>Submarino</td>\n",
       "      <td>Geladeira</td>\n",
       "    </tr>\n",
       "  </tbody>\n",
       "</table>\n",
       "<p>1188 rows × 5 columns</p>\n",
       "</div>"
      ],
      "text/plain": [
       "                                              Descrição    Preço  \\\n",
       "0     Notebook Acer Aspire 5 A515-54G-53XP Intel Cor...  3699.99   \n",
       "1     Notebook Samsung Book Intel Core i5-1135G7 8GB...  3689.00   \n",
       "2     Notebook Lenovo Ultrafino Ideapad S145 AMD Ryz...  3048.35   \n",
       "3     Notebook Acer Aspire 5 A515-54-50BT Intel Core...  3889.00   \n",
       "4     Notebook Lenovo Ultrafino Ideapad 3i Intel Cor...  3499.99   \n",
       "...                                                 ...      ...   \n",
       "1183  Geladeira/Refrigerador Electrolux Duplex TF55 ...  3263.14   \n",
       "1184  Geladeira Brastemp Frost Free 400 litros - BRM...  3398.00   \n",
       "1185  Geladeria/Refrigerador Consul Duplex CRE44 Fro...  3748.00   \n",
       "1186  Geladeira/Refrigerador Electrolux Frost Free B...  3699.99   \n",
       "1187  Geladeira Consul Frost Free Duplex CRM50 410L ...  2848.00   \n",
       "\n",
       "      TotalReviews       Loja  Categoria  \n",
       "0               12  Submarino   Notebook  \n",
       "1               38  Submarino   Notebook  \n",
       "2               19  Submarino   Notebook  \n",
       "3               21  Submarino   Notebook  \n",
       "4                4  Submarino   Notebook  \n",
       "...            ...        ...        ...  \n",
       "1183            11  Submarino  Geladeira  \n",
       "1184            16  Submarino  Geladeira  \n",
       "1185             9  Submarino  Geladeira  \n",
       "1186             1  Submarino  Geladeira  \n",
       "1187             0  Submarino  Geladeira  \n",
       "\n",
       "[1188 rows x 5 columns]"
      ]
     },
     "execution_count": 13,
     "metadata": {},
     "output_type": "execute_result"
    }
   ],
   "source": [
    "dados_submarino = pd.read_csv('submarino\\output\\data\\dados_submarino.csv',sep=';')"
   ]
  },
  {
   "cell_type": "markdown",
   "metadata": {},
   "source": [
    "# Dataframe Geral"
   ]
  },
  {
   "cell_type": "code",
   "execution_count": 14,
   "metadata": {},
   "outputs": [
    {
     "name": "stderr",
     "output_type": "stream",
     "text": [
      "D:\\Programas\\Anaconda3\\lib\\site-packages\\pandas\\core\\indexing.py:1637: SettingWithCopyWarning: \n",
      "A value is trying to be set on a copy of a slice from a DataFrame\n",
      "\n",
      "See the caveats in the documentation: https://pandas.pydata.org/pandas-docs/stable/user_guide/indexing.html#returning-a-view-versus-a-copy\n",
      "  self._setitem_single_block(indexer, value, name)\n"
     ]
    },
    {
     "data": {
      "text/html": [
       "<div>\n",
       "<style scoped>\n",
       "    .dataframe tbody tr th:only-of-type {\n",
       "        vertical-align: middle;\n",
       "    }\n",
       "\n",
       "    .dataframe tbody tr th {\n",
       "        vertical-align: top;\n",
       "    }\n",
       "\n",
       "    .dataframe thead th {\n",
       "        text-align: right;\n",
       "    }\n",
       "</style>\n",
       "<table border=\"1\" class=\"dataframe\">\n",
       "  <thead>\n",
       "    <tr style=\"text-align: right;\">\n",
       "      <th></th>\n",
       "      <th>Descrição</th>\n",
       "      <th>Preço</th>\n",
       "      <th>TotalReviews</th>\n",
       "      <th>Loja</th>\n",
       "      <th>Categoria</th>\n",
       "    </tr>\n",
       "  </thead>\n",
       "  <tbody>\n",
       "    <tr>\n",
       "      <th>0</th>\n",
       "      <td>Notebook Lenovo Ultrafino IdeaPad S145, AMD Ry...</td>\n",
       "      <td>2909.00</td>\n",
       "      <td>199.0</td>\n",
       "      <td>Amazon</td>\n",
       "      <td>Notebook</td>\n",
       "    </tr>\n",
       "    <tr>\n",
       "      <th>1</th>\n",
       "      <td>Notebook Lenovo Ultrafino ideapad S145 i5-1035...</td>\n",
       "      <td>3229.99</td>\n",
       "      <td>26.0</td>\n",
       "      <td>Amazon</td>\n",
       "      <td>Notebook</td>\n",
       "    </tr>\n",
       "    <tr>\n",
       "      <th>2</th>\n",
       "      <td>SAMSUNG Chromebook SS 11.6 Intel DC 4GB 32GB X...</td>\n",
       "      <td>1699.00</td>\n",
       "      <td>239.0</td>\n",
       "      <td>Amazon</td>\n",
       "      <td>Notebook</td>\n",
       "    </tr>\n",
       "    <tr>\n",
       "      <th>3</th>\n",
       "      <td>Samsung BookIntel® Core™ i3-1115G4, 11 Geração...</td>\n",
       "      <td>2789.09</td>\n",
       "      <td>46.0</td>\n",
       "      <td>Amazon</td>\n",
       "      <td>Notebook</td>\n",
       "    </tr>\n",
       "    <tr>\n",
       "      <th>4</th>\n",
       "      <td>Notebook Positivo Motion Q464C Intel® Atom® Qu...</td>\n",
       "      <td>1718.90</td>\n",
       "      <td>72.0</td>\n",
       "      <td>Amazon</td>\n",
       "      <td>Notebook</td>\n",
       "    </tr>\n",
       "    <tr>\n",
       "      <th>...</th>\n",
       "      <td>...</td>\n",
       "      <td>...</td>\n",
       "      <td>...</td>\n",
       "      <td>...</td>\n",
       "      <td>...</td>\n",
       "    </tr>\n",
       "    <tr>\n",
       "      <th>5174</th>\n",
       "      <td>Geladeira/Refrigerador Electrolux Duplex TF55 ...</td>\n",
       "      <td>3263.14</td>\n",
       "      <td>11.0</td>\n",
       "      <td>Submarino</td>\n",
       "      <td>Geladeira</td>\n",
       "    </tr>\n",
       "    <tr>\n",
       "      <th>5175</th>\n",
       "      <td>Geladeira Brastemp Frost Free 400 litros - BRM...</td>\n",
       "      <td>3398.00</td>\n",
       "      <td>16.0</td>\n",
       "      <td>Submarino</td>\n",
       "      <td>Geladeira</td>\n",
       "    </tr>\n",
       "    <tr>\n",
       "      <th>5176</th>\n",
       "      <td>Geladeria/Refrigerador Consul Duplex CRE44 Fro...</td>\n",
       "      <td>3748.00</td>\n",
       "      <td>9.0</td>\n",
       "      <td>Submarino</td>\n",
       "      <td>Geladeira</td>\n",
       "    </tr>\n",
       "    <tr>\n",
       "      <th>5177</th>\n",
       "      <td>Geladeira/Refrigerador Electrolux Frost Free B...</td>\n",
       "      <td>3699.99</td>\n",
       "      <td>1.0</td>\n",
       "      <td>Submarino</td>\n",
       "      <td>Geladeira</td>\n",
       "    </tr>\n",
       "    <tr>\n",
       "      <th>5178</th>\n",
       "      <td>Geladeira Consul Frost Free Duplex CRM50 410L ...</td>\n",
       "      <td>2848.00</td>\n",
       "      <td>0.0</td>\n",
       "      <td>Submarino</td>\n",
       "      <td>Geladeira</td>\n",
       "    </tr>\n",
       "  </tbody>\n",
       "</table>\n",
       "<p>5179 rows × 5 columns</p>\n",
       "</div>"
      ],
      "text/plain": [
       "                                              Descrição    Preço  \\\n",
       "0     Notebook Lenovo Ultrafino IdeaPad S145, AMD Ry...  2909.00   \n",
       "1     Notebook Lenovo Ultrafino ideapad S145 i5-1035...  3229.99   \n",
       "2     SAMSUNG Chromebook SS 11.6 Intel DC 4GB 32GB X...  1699.00   \n",
       "3     Samsung BookIntel® Core™ i3-1115G4, 11 Geração...  2789.09   \n",
       "4     Notebook Positivo Motion Q464C Intel® Atom® Qu...  1718.90   \n",
       "...                                                 ...      ...   \n",
       "5174  Geladeira/Refrigerador Electrolux Duplex TF55 ...  3263.14   \n",
       "5175  Geladeira Brastemp Frost Free 400 litros - BRM...  3398.00   \n",
       "5176  Geladeria/Refrigerador Consul Duplex CRE44 Fro...  3748.00   \n",
       "5177  Geladeira/Refrigerador Electrolux Frost Free B...  3699.99   \n",
       "5178  Geladeira Consul Frost Free Duplex CRM50 410L ...  2848.00   \n",
       "\n",
       "      TotalReviews       Loja  Categoria  \n",
       "0            199.0     Amazon   Notebook  \n",
       "1             26.0     Amazon   Notebook  \n",
       "2            239.0     Amazon   Notebook  \n",
       "3             46.0     Amazon   Notebook  \n",
       "4             72.0     Amazon   Notebook  \n",
       "...            ...        ...        ...  \n",
       "5174          11.0  Submarino  Geladeira  \n",
       "5175          16.0  Submarino  Geladeira  \n",
       "5176           9.0  Submarino  Geladeira  \n",
       "5177           1.0  Submarino  Geladeira  \n",
       "5178           0.0  Submarino  Geladeira  \n",
       "\n",
       "[5179 rows x 5 columns]"
      ]
     },
     "execution_count": 14,
     "metadata": {},
     "output_type": "execute_result"
    }
   ],
   "source": [
    "dados_gerais = pd.concat([dados_amazon_new, dados_americanas_new,df_clean_cb,dados_ml_new,dados_submarino])\n",
    "dados_gerais.reset_index(drop=True, inplace=True)\n",
    "dados_gerais['Loja'].loc[dados_gerais['Loja'] == 'Megazine Luiza'] = 'Magazine Luiza'\n",
    "dados_gerais"
   ]
  },
  {
   "cell_type": "code",
   "execution_count": 15,
   "metadata": {},
   "outputs": [],
   "source": [
    "dados_gerais.to_csv('output_geral/dataset_geral.csv',sep=';',index=False)"
   ]
  },
  {
   "cell_type": "code",
   "execution_count": 16,
   "metadata": {},
   "outputs": [
    {
     "data": {
      "text/html": [
       "<div>\n",
       "<style scoped>\n",
       "    .dataframe tbody tr th:only-of-type {\n",
       "        vertical-align: middle;\n",
       "    }\n",
       "\n",
       "    .dataframe tbody tr th {\n",
       "        vertical-align: top;\n",
       "    }\n",
       "\n",
       "    .dataframe thead th {\n",
       "        text-align: right;\n",
       "    }\n",
       "</style>\n",
       "<table border=\"1\" class=\"dataframe\">\n",
       "  <thead>\n",
       "    <tr style=\"text-align: right;\">\n",
       "      <th></th>\n",
       "      <th>Descrição</th>\n",
       "      <th>Preço</th>\n",
       "      <th>TotalReviews</th>\n",
       "      <th>Loja</th>\n",
       "      <th>Categoria</th>\n",
       "    </tr>\n",
       "  </thead>\n",
       "  <tbody>\n",
       "    <tr>\n",
       "      <th>0</th>\n",
       "      <td>Notebook Lenovo Ultrafino IdeaPad S145, AMD Ry...</td>\n",
       "      <td>2909.00</td>\n",
       "      <td>199.0</td>\n",
       "      <td>Amazon</td>\n",
       "      <td>Notebook</td>\n",
       "    </tr>\n",
       "    <tr>\n",
       "      <th>1</th>\n",
       "      <td>Notebook Lenovo Ultrafino ideapad S145 i5-1035...</td>\n",
       "      <td>3229.99</td>\n",
       "      <td>26.0</td>\n",
       "      <td>Amazon</td>\n",
       "      <td>Notebook</td>\n",
       "    </tr>\n",
       "    <tr>\n",
       "      <th>2</th>\n",
       "      <td>SAMSUNG Chromebook SS 11.6 Intel DC 4GB 32GB X...</td>\n",
       "      <td>1699.00</td>\n",
       "      <td>239.0</td>\n",
       "      <td>Amazon</td>\n",
       "      <td>Notebook</td>\n",
       "    </tr>\n",
       "    <tr>\n",
       "      <th>3</th>\n",
       "      <td>Samsung BookIntel® Core™ i3-1115G4, 11 Geração...</td>\n",
       "      <td>2789.09</td>\n",
       "      <td>46.0</td>\n",
       "      <td>Amazon</td>\n",
       "      <td>Notebook</td>\n",
       "    </tr>\n",
       "    <tr>\n",
       "      <th>4</th>\n",
       "      <td>Notebook Positivo Motion Q464C Intel® Atom® Qu...</td>\n",
       "      <td>1718.90</td>\n",
       "      <td>72.0</td>\n",
       "      <td>Amazon</td>\n",
       "      <td>Notebook</td>\n",
       "    </tr>\n",
       "    <tr>\n",
       "      <th>...</th>\n",
       "      <td>...</td>\n",
       "      <td>...</td>\n",
       "      <td>...</td>\n",
       "      <td>...</td>\n",
       "      <td>...</td>\n",
       "    </tr>\n",
       "    <tr>\n",
       "      <th>5174</th>\n",
       "      <td>Geladeira/Refrigerador Electrolux Duplex TF55 ...</td>\n",
       "      <td>3263.14</td>\n",
       "      <td>11.0</td>\n",
       "      <td>Submarino</td>\n",
       "      <td>Geladeira</td>\n",
       "    </tr>\n",
       "    <tr>\n",
       "      <th>5175</th>\n",
       "      <td>Geladeira Brastemp Frost Free 400 litros - BRM...</td>\n",
       "      <td>3398.00</td>\n",
       "      <td>16.0</td>\n",
       "      <td>Submarino</td>\n",
       "      <td>Geladeira</td>\n",
       "    </tr>\n",
       "    <tr>\n",
       "      <th>5176</th>\n",
       "      <td>Geladeria/Refrigerador Consul Duplex CRE44 Fro...</td>\n",
       "      <td>3748.00</td>\n",
       "      <td>9.0</td>\n",
       "      <td>Submarino</td>\n",
       "      <td>Geladeira</td>\n",
       "    </tr>\n",
       "    <tr>\n",
       "      <th>5177</th>\n",
       "      <td>Geladeira/Refrigerador Electrolux Frost Free B...</td>\n",
       "      <td>3699.99</td>\n",
       "      <td>1.0</td>\n",
       "      <td>Submarino</td>\n",
       "      <td>Geladeira</td>\n",
       "    </tr>\n",
       "    <tr>\n",
       "      <th>5178</th>\n",
       "      <td>Geladeira Consul Frost Free Duplex CRM50 410L ...</td>\n",
       "      <td>2848.00</td>\n",
       "      <td>0.0</td>\n",
       "      <td>Submarino</td>\n",
       "      <td>Geladeira</td>\n",
       "    </tr>\n",
       "  </tbody>\n",
       "</table>\n",
       "<p>5179 rows × 5 columns</p>\n",
       "</div>"
      ],
      "text/plain": [
       "                                              Descrição    Preço  \\\n",
       "0     Notebook Lenovo Ultrafino IdeaPad S145, AMD Ry...  2909.00   \n",
       "1     Notebook Lenovo Ultrafino ideapad S145 i5-1035...  3229.99   \n",
       "2     SAMSUNG Chromebook SS 11.6 Intel DC 4GB 32GB X...  1699.00   \n",
       "3     Samsung BookIntel® Core™ i3-1115G4, 11 Geração...  2789.09   \n",
       "4     Notebook Positivo Motion Q464C Intel® Atom® Qu...  1718.90   \n",
       "...                                                 ...      ...   \n",
       "5174  Geladeira/Refrigerador Electrolux Duplex TF55 ...  3263.14   \n",
       "5175  Geladeira Brastemp Frost Free 400 litros - BRM...  3398.00   \n",
       "5176  Geladeria/Refrigerador Consul Duplex CRE44 Fro...  3748.00   \n",
       "5177  Geladeira/Refrigerador Electrolux Frost Free B...  3699.99   \n",
       "5178  Geladeira Consul Frost Free Duplex CRM50 410L ...  2848.00   \n",
       "\n",
       "      TotalReviews       Loja  Categoria  \n",
       "0            199.0     Amazon   Notebook  \n",
       "1             26.0     Amazon   Notebook  \n",
       "2            239.0     Amazon   Notebook  \n",
       "3             46.0     Amazon   Notebook  \n",
       "4             72.0     Amazon   Notebook  \n",
       "...            ...        ...        ...  \n",
       "5174          11.0  Submarino  Geladeira  \n",
       "5175          16.0  Submarino  Geladeira  \n",
       "5176           9.0  Submarino  Geladeira  \n",
       "5177           1.0  Submarino  Geladeira  \n",
       "5178           0.0  Submarino  Geladeira  \n",
       "\n",
       "[5179 rows x 5 columns]"
      ]
     },
     "execution_count": 16,
     "metadata": {},
     "output_type": "execute_result"
    }
   ],
   "source": [
    "dados_gerais_marcas = dados_gerais.copy()\n",
    "dados_gerais_marcas"
   ]
  },
  {
   "cell_type": "code",
   "execution_count": 17,
   "metadata": {},
   "outputs": [],
   "source": [
    "modelos = [\"lenovo\", \"positivo\", \"samsung\", \"dell\", \"acer\", \"apple\", \"xiaomi\", \"motorola\", \"asus\",\"sony\",\"tcl\",\"philips\",\"lg\",\"philco\" ]\n",
    "count = 0\n",
    "dados_gerais_marcas[\"Marca\"] = np.NaN\n",
    "\n",
    "for index, row in dados_gerais_marcas.iterrows():\n",
    "    for modelo in modelos:\n",
    "        if modelo in row[\"Descrição\"].lower():\n",
    "            dados_gerais_marcas.loc[index, \"Marca\"] = modelo.capitalize()"
   ]
  },
  {
   "cell_type": "code",
   "execution_count": 18,
   "metadata": {},
   "outputs": [
    {
     "data": {
      "text/html": [
       "<div>\n",
       "<style scoped>\n",
       "    .dataframe tbody tr th:only-of-type {\n",
       "        vertical-align: middle;\n",
       "    }\n",
       "\n",
       "    .dataframe tbody tr th {\n",
       "        vertical-align: top;\n",
       "    }\n",
       "\n",
       "    .dataframe thead th {\n",
       "        text-align: right;\n",
       "    }\n",
       "</style>\n",
       "<table border=\"1\" class=\"dataframe\">\n",
       "  <thead>\n",
       "    <tr style=\"text-align: right;\">\n",
       "      <th></th>\n",
       "      <th>Descrição</th>\n",
       "      <th>Preço</th>\n",
       "      <th>TotalReviews</th>\n",
       "      <th>Loja</th>\n",
       "      <th>Categoria</th>\n",
       "      <th>Marca</th>\n",
       "    </tr>\n",
       "  </thead>\n",
       "  <tbody>\n",
       "    <tr>\n",
       "      <th>0</th>\n",
       "      <td>Notebook Lenovo Ultrafino IdeaPad S145, AMD Ry...</td>\n",
       "      <td>2909.00</td>\n",
       "      <td>199.0</td>\n",
       "      <td>Amazon</td>\n",
       "      <td>Notebook</td>\n",
       "      <td>Lenovo</td>\n",
       "    </tr>\n",
       "    <tr>\n",
       "      <th>1</th>\n",
       "      <td>Notebook Lenovo Ultrafino ideapad S145 i5-1035...</td>\n",
       "      <td>3229.99</td>\n",
       "      <td>26.0</td>\n",
       "      <td>Amazon</td>\n",
       "      <td>Notebook</td>\n",
       "      <td>Lenovo</td>\n",
       "    </tr>\n",
       "    <tr>\n",
       "      <th>2</th>\n",
       "      <td>SAMSUNG Chromebook SS 11.6 Intel DC 4GB 32GB X...</td>\n",
       "      <td>1699.00</td>\n",
       "      <td>239.0</td>\n",
       "      <td>Amazon</td>\n",
       "      <td>Notebook</td>\n",
       "      <td>Samsung</td>\n",
       "    </tr>\n",
       "    <tr>\n",
       "      <th>3</th>\n",
       "      <td>Samsung BookIntel® Core™ i3-1115G4, 11 Geração...</td>\n",
       "      <td>2789.09</td>\n",
       "      <td>46.0</td>\n",
       "      <td>Amazon</td>\n",
       "      <td>Notebook</td>\n",
       "      <td>Samsung</td>\n",
       "    </tr>\n",
       "    <tr>\n",
       "      <th>4</th>\n",
       "      <td>Notebook Positivo Motion Q464C Intel® Atom® Qu...</td>\n",
       "      <td>1718.90</td>\n",
       "      <td>72.0</td>\n",
       "      <td>Amazon</td>\n",
       "      <td>Notebook</td>\n",
       "      <td>Positivo</td>\n",
       "    </tr>\n",
       "    <tr>\n",
       "      <th>...</th>\n",
       "      <td>...</td>\n",
       "      <td>...</td>\n",
       "      <td>...</td>\n",
       "      <td>...</td>\n",
       "      <td>...</td>\n",
       "      <td>...</td>\n",
       "    </tr>\n",
       "    <tr>\n",
       "      <th>3325</th>\n",
       "      <td>Smart TV LED 55” Philco PTV55Q20SNBL Ultra HD ...</td>\n",
       "      <td>2799.99</td>\n",
       "      <td>12.0</td>\n",
       "      <td>Submarino</td>\n",
       "      <td>TV</td>\n",
       "      <td>Philco</td>\n",
       "    </tr>\n",
       "    <tr>\n",
       "      <th>3326</th>\n",
       "      <td>Smart TV Philips 50\" UHD 4K 50PUG7625 Wi-Fi HD...</td>\n",
       "      <td>2499.99</td>\n",
       "      <td>15.0</td>\n",
       "      <td>Submarino</td>\n",
       "      <td>TV</td>\n",
       "      <td>Philips</td>\n",
       "    </tr>\n",
       "    <tr>\n",
       "      <th>3327</th>\n",
       "      <td>Smart TV Philco 50\" 4K LED UHD PTV50N10N5E - 4...</td>\n",
       "      <td>2599.99</td>\n",
       "      <td>0.0</td>\n",
       "      <td>Submarino</td>\n",
       "      <td>TV</td>\n",
       "      <td>Philco</td>\n",
       "    </tr>\n",
       "    <tr>\n",
       "      <th>3328</th>\n",
       "      <td>Smart TV LED 75” LG 75UP8050 4K UHD Wi-Fi Blue...</td>\n",
       "      <td>5899.99</td>\n",
       "      <td>2.0</td>\n",
       "      <td>Submarino</td>\n",
       "      <td>TV</td>\n",
       "      <td>Lg</td>\n",
       "    </tr>\n",
       "    <tr>\n",
       "      <th>3329</th>\n",
       "      <td>Smart TV Philco 42\" Roku LED Full HD - 42G52RC...</td>\n",
       "      <td>1699.99</td>\n",
       "      <td>3.0</td>\n",
       "      <td>Submarino</td>\n",
       "      <td>TV</td>\n",
       "      <td>Philco</td>\n",
       "    </tr>\n",
       "  </tbody>\n",
       "</table>\n",
       "<p>3330 rows × 6 columns</p>\n",
       "</div>"
      ],
      "text/plain": [
       "                                              Descrição    Preço  \\\n",
       "0     Notebook Lenovo Ultrafino IdeaPad S145, AMD Ry...  2909.00   \n",
       "1     Notebook Lenovo Ultrafino ideapad S145 i5-1035...  3229.99   \n",
       "2     SAMSUNG Chromebook SS 11.6 Intel DC 4GB 32GB X...  1699.00   \n",
       "3     Samsung BookIntel® Core™ i3-1115G4, 11 Geração...  2789.09   \n",
       "4     Notebook Positivo Motion Q464C Intel® Atom® Qu...  1718.90   \n",
       "...                                                 ...      ...   \n",
       "3325  Smart TV LED 55” Philco PTV55Q20SNBL Ultra HD ...  2799.99   \n",
       "3326  Smart TV Philips 50\" UHD 4K 50PUG7625 Wi-Fi HD...  2499.99   \n",
       "3327  Smart TV Philco 50\" 4K LED UHD PTV50N10N5E - 4...  2599.99   \n",
       "3328  Smart TV LED 75” LG 75UP8050 4K UHD Wi-Fi Blue...  5899.99   \n",
       "3329  Smart TV Philco 42\" Roku LED Full HD - 42G52RC...  1699.99   \n",
       "\n",
       "      TotalReviews       Loja Categoria     Marca  \n",
       "0            199.0     Amazon  Notebook    Lenovo  \n",
       "1             26.0     Amazon  Notebook    Lenovo  \n",
       "2            239.0     Amazon  Notebook   Samsung  \n",
       "3             46.0     Amazon  Notebook   Samsung  \n",
       "4             72.0     Amazon  Notebook  Positivo  \n",
       "...            ...        ...       ...       ...  \n",
       "3325          12.0  Submarino        TV    Philco  \n",
       "3326          15.0  Submarino        TV   Philips  \n",
       "3327           0.0  Submarino        TV    Philco  \n",
       "3328           2.0  Submarino        TV        Lg  \n",
       "3329           3.0  Submarino        TV    Philco  \n",
       "\n",
       "[3330 rows x 6 columns]"
      ]
     },
     "execution_count": 18,
     "metadata": {},
     "output_type": "execute_result"
    }
   ],
   "source": [
    "dados_gerais_marcas.dropna(inplace=True)\n",
    "dados_gerais_marcas.reset_index(drop=True, inplace=True)\n",
    "dados_gerais_marcas"
   ]
  },
  {
   "cell_type": "code",
   "execution_count": 19,
   "metadata": {},
   "outputs": [],
   "source": [
    "dados_gerais_marcas.to_csv('output_geral/dataset_geral_marcas.csv',sep=';',index=False)"
   ]
  },
  {
   "cell_type": "code",
   "execution_count": 20,
   "metadata": {},
   "outputs": [
    {
     "name": "stderr",
     "output_type": "stream",
     "text": [
      "D:\\Programas\\Anaconda3\\lib\\site-packages\\seaborn\\distributions.py:306: UserWarning: Dataset has 0 variance; skipping density estimate.\n",
      "  warnings.warn(msg, UserWarning)\n",
      "D:\\Programas\\Anaconda3\\lib\\site-packages\\seaborn\\distributions.py:306: UserWarning: Dataset has 0 variance; skipping density estimate.\n",
      "  warnings.warn(msg, UserWarning)\n",
      "D:\\Programas\\Anaconda3\\lib\\site-packages\\seaborn\\distributions.py:306: UserWarning: Dataset has 0 variance; skipping density estimate.\n",
      "  warnings.warn(msg, UserWarning)\n"
     ]
    },
    {
     "data": {
      "text/plain": [
       "<Figure size 1152x648 with 0 Axes>"
      ]
     },
     "metadata": {},
     "output_type": "display_data"
    },
    {
     "data": {
      "image/png": "[encoded data removed]",
      "text/plain": [
       "<Figure size 658.375x576 with 6 Axes>"
      ]
     },
     "metadata": {
      "needs_background": "light"
     },
     "output_type": "display_data"
    }
   ],
   "source": [
    "fig = plt.figure(figsize=(16,9))\n",
    "sns.pairplot(data=dados_gerais_marcas.query(\"Categoria == 'Smartphone'\"), hue=\"Marca\",height=4);"
   ]
  },
  {
   "cell_type": "code",
   "execution_count": 21,
   "metadata": {},
   "outputs": [],
   "source": [
    "dados_gerais_notebooks = dados_gerais_marcas[dados_gerais_marcas[\"Categoria\"] == \"Notebook\"]"
   ]
  },
  {
   "cell_type": "code",
   "execution_count": 22,
   "metadata": {},
   "outputs": [
    {
     "data": {
      "text/plain": [
       "(1189, 6)"
      ]
     },
     "execution_count": 22,
     "metadata": {},
     "output_type": "execute_result"
    }
   ],
   "source": [
    "dados_gerais_notebooks.shape"
   ]
  },
  {
   "cell_type": "code",
   "execution_count": 23,
   "metadata": {},
   "outputs": [],
   "source": [
    "from bokeh.io import show\n",
    "from bokeh.models import ColumnDataSource\n",
    "from bokeh.palettes import Spectral6\n",
    "from bokeh.plotting import figure\n",
    "from bokeh.transform import factor_cmap\n"
   ]
  },
  {
   "cell_type": "code",
   "execution_count": 24,
   "metadata": {},
   "outputs": [
    {
     "data": {
      "text/html": [
       "<div>\n",
       "<style scoped>\n",
       "    .dataframe tbody tr th:only-of-type {\n",
       "        vertical-align: middle;\n",
       "    }\n",
       "\n",
       "    .dataframe tbody tr th {\n",
       "        vertical-align: top;\n",
       "    }\n",
       "\n",
       "    .dataframe thead th {\n",
       "        text-align: right;\n",
       "    }\n",
       "</style>\n",
       "<table border=\"1\" class=\"dataframe\">\n",
       "  <thead>\n",
       "    <tr style=\"text-align: right;\">\n",
       "      <th></th>\n",
       "      <th>Descrição</th>\n",
       "      <th>Preço</th>\n",
       "      <th>TotalReviews</th>\n",
       "      <th>Loja</th>\n",
       "      <th>Categoria</th>\n",
       "      <th>Marca</th>\n",
       "    </tr>\n",
       "  </thead>\n",
       "  <tbody>\n",
       "    <tr>\n",
       "      <th>0</th>\n",
       "      <td>Notebook Lenovo Ultrafino IdeaPad S145, AMD Ry...</td>\n",
       "      <td>2909.00</td>\n",
       "      <td>199.0</td>\n",
       "      <td>Amazon</td>\n",
       "      <td>Notebook</td>\n",
       "      <td>Lenovo</td>\n",
       "    </tr>\n",
       "    <tr>\n",
       "      <th>1</th>\n",
       "      <td>Notebook Lenovo Ultrafino ideapad S145 i5-1035...</td>\n",
       "      <td>3229.99</td>\n",
       "      <td>26.0</td>\n",
       "      <td>Amazon</td>\n",
       "      <td>Notebook</td>\n",
       "      <td>Lenovo</td>\n",
       "    </tr>\n",
       "    <tr>\n",
       "      <th>2</th>\n",
       "      <td>SAMSUNG Chromebook SS 11.6 Intel DC 4GB 32GB X...</td>\n",
       "      <td>1699.00</td>\n",
       "      <td>239.0</td>\n",
       "      <td>Amazon</td>\n",
       "      <td>Notebook</td>\n",
       "      <td>Samsung</td>\n",
       "    </tr>\n",
       "    <tr>\n",
       "      <th>3</th>\n",
       "      <td>Samsung BookIntel® Core™ i3-1115G4, 11 Geração...</td>\n",
       "      <td>2789.09</td>\n",
       "      <td>46.0</td>\n",
       "      <td>Amazon</td>\n",
       "      <td>Notebook</td>\n",
       "      <td>Samsung</td>\n",
       "    </tr>\n",
       "    <tr>\n",
       "      <th>4</th>\n",
       "      <td>Notebook Positivo Motion Q464C Intel® Atom® Qu...</td>\n",
       "      <td>1718.90</td>\n",
       "      <td>72.0</td>\n",
       "      <td>Amazon</td>\n",
       "      <td>Notebook</td>\n",
       "      <td>Positivo</td>\n",
       "    </tr>\n",
       "  </tbody>\n",
       "</table>\n",
       "</div>"
      ],
      "text/plain": [
       "                                           Descrição    Preço  TotalReviews  \\\n",
       "0  Notebook Lenovo Ultrafino IdeaPad S145, AMD Ry...  2909.00         199.0   \n",
       "1  Notebook Lenovo Ultrafino ideapad S145 i5-1035...  3229.99          26.0   \n",
       "2  SAMSUNG Chromebook SS 11.6 Intel DC 4GB 32GB X...  1699.00         239.0   \n",
       "3  Samsung BookIntel® Core™ i3-1115G4, 11 Geração...  2789.09          46.0   \n",
       "4  Notebook Positivo Motion Q464C Intel® Atom® Qu...  1718.90          72.0   \n",
       "\n",
       "     Loja Categoria     Marca  \n",
       "0  Amazon  Notebook    Lenovo  \n",
       "1  Amazon  Notebook    Lenovo  \n",
       "2  Amazon  Notebook   Samsung  \n",
       "3  Amazon  Notebook   Samsung  \n",
       "4  Amazon  Notebook  Positivo  "
      ]
     },
     "execution_count": 24,
     "metadata": {},
     "output_type": "execute_result"
    }
   ],
   "source": [
    "dados_gerais_notebooks.head()"
   ]
  },
  {
   "cell_type": "code",
   "execution_count": 25,
   "metadata": {},
   "outputs": [
    {
     "data": {
      "text/plain": [
       "['Acer', 'Dell', 'Lenovo', 'Samsung', 'Asus', 'Positivo', 'Apple', 'Lg']"
      ]
     },
     "execution_count": 25,
     "metadata": {},
     "output_type": "execute_result"
    }
   ],
   "source": [
    "dados_gerais_notebooks[\"Marca\"].value_counts().index.tolist()"
   ]
  },
  {
   "cell_type": "code",
   "execution_count": 26,
   "metadata": {},
   "outputs": [
    {
     "data": {
      "application/vnd.plotly.v1+json": {
       "config": {
        "plotlyServerURL": "https://plot.ly"
       },
       "data": [
        {
         "alignmentgroup": "True",
         "hovertemplate": "Marca=Lenovo<br>Loja=%{x}<br>count=%{y}<extra></extra>",
         "legendgroup": "Lenovo",
         "marker": {
          "color": "#636efa",
          "pattern": {
           "shape": ""
          }
         },
         "name": "Lenovo",
         "offsetgroup": "Lenovo",
         "orientation": "v",
         "showlegend": true,
         "textposition": "auto",
         "type": "bar",
         "x": [
          "Amazon",
          "Amazon",
          "Amazon",
          "Amazon",
          "Amazon",
          "Amazon",
          "Amazon",
          "Amazon",
          "Amazon",
          "Amazon",
          "Amazon",
          "Amazon",
          "Amazon",
          "Amazon",
          "Amazon",
          "Amazon",
          "Amazon",
          "Amazon",
          "Amazon",
          "Amazon",
          "Amazon",
          "Amazon",
          "Americanas",
          "Americanas",
          "Americanas",
          "Americanas",
          "Americanas",
          "Americanas",
          "Americanas",
          "Americanas",
          "Americanas",
          "Americanas",
          "Americanas",
          "Americanas",
          "Americanas",
          "Americanas",
          "Americanas",
          "Americanas",
          "Americanas",
          "Americanas",
          "Americanas",
          "Americanas",
          "Americanas",
          "Americanas",
          "Americanas",
          "Americanas",
          "Americanas",
          "Americanas",
          "Americanas",
          "Americanas",
          "Americanas",
          "Americanas",
          "Americanas",
          "Americanas",
          "Americanas",
          "Americanas",
          "Americanas",
          "Americanas",
          "Americanas",
          "Americanas",
          "Americanas",
          "Americanas",
          "Americanas",
          "Americanas",
          "Americanas",
          "Americanas",
          "Casas Bahia",
          "Casas Bahia",
          "Casas Bahia",
          "Casas Bahia",
          "Casas Bahia",
          "Casas Bahia",
          "Casas Bahia",
          "Casas Bahia",
          "Casas Bahia",
          "Casas Bahia",
          "Casas Bahia",
          "Casas Bahia",
          "Casas Bahia",
          "Casas Bahia",
          "Casas Bahia",
          "Casas Bahia",
          "Casas Bahia",
          "Casas Bahia",
          "Casas Bahia",
          "Casas Bahia",
          "Casas Bahia",
          "Casas Bahia",
          "Casas Bahia",
          "Casas Bahia",
          "Casas Bahia",
          "Casas Bahia",
          "Casas Bahia",
          "Casas Bahia",
          "Casas Bahia",
          "Casas Bahia",
          "Casas Bahia",
          "Casas Bahia",
          "Casas Bahia",
          "Casas Bahia",
          "Casas Bahia",
          "Casas Bahia",
          "Casas Bahia",
          "Casas Bahia",
          "Casas Bahia",
          "Casas Bahia",
          "Casas Bahia",
          "Casas Bahia",
          "Casas Bahia",
          "Casas Bahia",
          "Casas Bahia",
          "Casas Bahia",
          "Casas Bahia",
          "Casas Bahia",
          "Casas Bahia",
          "Casas Bahia",
          "Casas Bahia",
          "Casas Bahia",
          "Casas Bahia",
          "Casas Bahia",
          "Casas Bahia",
          "Casas Bahia",
          "Casas Bahia",
          "Magazine Luiza",
          "Magazine Luiza",
          "Magazine Luiza",
          "Magazine Luiza",
          "Magazine Luiza",
          "Magazine Luiza",
          "Magazine Luiza",
          "Magazine Luiza",
          "Magazine Luiza",
          "Magazine Luiza",
          "Magazine Luiza",
          "Magazine Luiza",
          "Magazine Luiza",
          "Magazine Luiza",
          "Magazine Luiza",
          "Magazine Luiza",
          "Magazine Luiza",
          "Magazine Luiza",
          "Magazine Luiza",
          "Magazine Luiza",
          "Magazine Luiza",
          "Magazine Luiza",
          "Magazine Luiza",
          "Magazine Luiza",
          "Magazine Luiza",
          "Magazine Luiza",
          "Magazine Luiza",
          "Magazine Luiza",
          "Magazine Luiza",
          "Magazine Luiza",
          "Magazine Luiza",
          "Magazine Luiza",
          "Submarino",
          "Submarino",
          "Submarino",
          "Submarino",
          "Submarino",
          "Submarino",
          "Submarino",
          "Submarino",
          "Submarino",
          "Submarino",
          "Submarino",
          "Submarino",
          "Submarino",
          "Submarino",
          "Submarino",
          "Submarino",
          "Submarino",
          "Submarino",
          "Submarino",
          "Submarino",
          "Submarino",
          "Submarino",
          "Submarino",
          "Submarino",
          "Submarino",
          "Submarino",
          "Submarino",
          "Submarino",
          "Submarino",
          "Submarino",
          "Submarino",
          "Submarino",
          "Submarino",
          "Submarino",
          "Submarino",
          "Submarino",
          "Submarino",
          "Submarino",
          "Submarino",
          "Submarino",
          "Submarino",
          "Submarino",
          "Submarino",
          "Submarino",
          "Submarino",
          "Submarino",
          "Submarino",
          "Submarino",
          "Submarino",
          "Submarino",
          "Submarino",
          "Submarino",
          "Submarino",
          "Submarino",
          "Submarino",
          "Submarino",
          "Submarino",
          "Submarino",
          "Submarino",
          "Submarino",
          "Submarino"
         ],
         "xaxis": "x",
         "y": [
          1,
          1,
          1,
          1,
          1,
          1,
          1,
          1,
          1,
          1,
          1,
          1,
          1,
          1,
          1,
          1,
          1,
          1,
          1,
          1,
          1,
          1,
          1,
          1,
          1,
          1,
          1,
          1,
          1,
          1,
          1,
          1,
          1,
          1,
          1,
          1,
          1,
          1,
          1,
          1,
          1,
          1,
          1,
          1,
          1,
          1,
          1,
          1,
          1,
          1,
          1,
          1,
          1,
          1,
          1,
          1,
          1,
          1,
          1,
          1,
          1,
          1,
          1,
          1,
          1,
          1,
          1,
          1,
          1,
          1,
          1,
          1,
          1,
          1,
          1,
          1,
          1,
          1,
          1,
          1,
          1,
          1,
          1,
          1,
          1,
          1,
          1,
          1,
          1,
          1,
          1,
          1,
          1,
          1,
          1,
          1,
          1,
          1,
          1,
          1,
          1,
          1,
          1,
          1,
          1,
          1,
          1,
          1,
          1,
          1,
          1,
          1,
          1,
          1,
          1,
          1,
          1,
          1,
          1,
          1,
          1,
          1,
          1,
          1,
          1,
          1,
          1,
          1,
          1,
          1,
          1,
          1,
          1,
          1,
          1,
          1,
          1,
          1,
          1,
          1,
          1,
          1,
          1,
          1,
          1,
          1,
          1,
          1,
          1,
          1,
          1,
          1,
          1,
          1,
          1,
          1,
          1,
          1,
          1,
          1,
          1,
          1,
          1,
          1,
          1,
          1,
          1,
          1,
          1,
          1,
          1,
          1,
          1,
          1,
          1,
          1,
          1,
          1,
          1,
          1,
          1,
          1,
          1,
          1,
          1,
          1,
          1,
          1,
          1,
          1,
          1,
          1,
          1,
          1,
          1,
          1,
          1,
          1,
          1,
          1,
          1,
          1,
          1,
          1,
          1,
          1,
          1,
          1,
          1,
          1,
          1,
          1,
          1,
          1,
          1,
          1
         ],
         "yaxis": "y"
        },
        {
         "alignmentgroup": "True",
         "hovertemplate": "Marca=Samsung<br>Loja=%{x}<br>count=%{y}<extra></extra>",
         "legendgroup": "Samsung",
         "marker": {
          "color": "#EF553B",
          "pattern": {
           "shape": ""
          }
         },
         "name": "Samsung",
         "offsetgroup": "Samsung",
         "orientation": "v",
         "showlegend": true,
         "textposition": "auto",
         "type": "bar",
         "x": [
          "Amazon",
          "Amazon",
          "Amazon",
          "Amazon",
          "Amazon",
          "Amazon",
          "Amazon",
          "Amazon",
          "Amazon",
          "Amazon",
          "Amazon",
          "Amazon",
          "Amazon",
          "Amazon",
          "Amazon",
          "Amazon",
          "Amazon",
          "Amazon",
          "Amazon",
          "Amazon",
          "Amazon",
          "Amazon",
          "Amazon",
          "Amazon",
          "Americanas",
          "Americanas",
          "Americanas",
          "Americanas",
          "Americanas",
          "Americanas",
          "Americanas",
          "Americanas",
          "Americanas",
          "Americanas",
          "Americanas",
          "Americanas",
          "Americanas",
          "Americanas",
          "Americanas",
          "Americanas",
          "Americanas",
          "Americanas",
          "Americanas",
          "Americanas",
          "Americanas",
          "Americanas",
          "Americanas",
          "Americanas",
          "Americanas",
          "Americanas",
          "Americanas",
          "Americanas",
          "Americanas",
          "Americanas",
          "Americanas",
          "Americanas",
          "Americanas",
          "Americanas",
          "Americanas",
          "Americanas",
          "Americanas",
          "Americanas",
          "Americanas",
          "Americanas",
          "Americanas",
          "Americanas",
          "Americanas",
          "Americanas",
          "Americanas",
          "Americanas",
          "Americanas",
          "Americanas",
          "Americanas",
          "Americanas",
          "Americanas",
          "Americanas",
          "Americanas",
          "Americanas",
          "Americanas",
          "Americanas",
          "Casas Bahia",
          "Casas Bahia",
          "Casas Bahia",
          "Casas Bahia",
          "Casas Bahia",
          "Casas Bahia",
          "Casas Bahia",
          "Casas Bahia",
          "Casas Bahia",
          "Casas Bahia",
          "Casas Bahia",
          "Casas Bahia",
          "Casas Bahia",
          "Casas Bahia",
          "Casas Bahia",
          "Casas Bahia",
          "Casas Bahia",
          "Casas Bahia",
          "Casas Bahia",
          "Casas Bahia",
          "Casas Bahia",
          "Magazine Luiza",
          "Magazine Luiza",
          "Magazine Luiza",
          "Magazine Luiza",
          "Magazine Luiza",
          "Magazine Luiza",
          "Magazine Luiza",
          "Magazine Luiza",
          "Magazine Luiza",
          "Magazine Luiza",
          "Magazine Luiza",
          "Magazine Luiza",
          "Magazine Luiza",
          "Magazine Luiza",
          "Magazine Luiza",
          "Magazine Luiza",
          "Magazine Luiza",
          "Magazine Luiza",
          "Magazine Luiza",
          "Magazine Luiza",
          "Magazine Luiza",
          "Magazine Luiza",
          "Magazine Luiza",
          "Magazine Luiza",
          "Magazine Luiza",
          "Magazine Luiza",
          "Magazine Luiza",
          "Magazine Luiza",
          "Magazine Luiza",
          "Magazine Luiza",
          "Magazine Luiza",
          "Magazine Luiza",
          "Magazine Luiza",
          "Magazine Luiza",
          "Magazine Luiza",
          "Magazine Luiza",
          "Magazine Luiza",
          "Magazine Luiza",
          "Magazine Luiza",
          "Magazine Luiza",
          "Magazine Luiza",
          "Magazine Luiza",
          "Submarino",
          "Submarino",
          "Submarino",
          "Submarino",
          "Submarino",
          "Submarino",
          "Submarino",
          "Submarino",
          "Submarino",
          "Submarino",
          "Submarino",
          "Submarino",
          "Submarino",
          "Submarino",
          "Submarino",
          "Submarino",
          "Submarino",
          "Submarino",
          "Submarino",
          "Submarino",
          "Submarino",
          "Submarino",
          "Submarino",
          "Submarino",
          "Submarino",
          "Submarino",
          "Submarino",
          "Submarino",
          "Submarino",
          "Submarino",
          "Submarino",
          "Submarino",
          "Submarino",
          "Submarino",
          "Submarino",
          "Submarino",
          "Submarino",
          "Submarino",
          "Submarino",
          "Submarino",
          "Submarino",
          "Submarino",
          "Submarino",
          "Submarino",
          "Submarino",
          "Submarino",
          "Submarino",
          "Submarino",
          "Submarino",
          "Submarino",
          "Submarino",
          "Submarino",
          "Submarino",
          "Submarino",
          "Submarino"
         ],
         "xaxis": "x",
         "y": [
          1,
          1,
          1,
          1,
          1,
          1,
          1,
          1,
          1,
          1,
          1,
          1,
          1,
          1,
          1,
          1,
          1,
          1,
          1,
          1,
          1,
          1,
          1,
          1,
          1,
          1,
          1,
          1,
          1,
          1,
          1,
          1,
          1,
          1,
          1,
          1,
          1,
          1,
          1,
          1,
          1,
          1,
          1,
          1,
          1,
          1,
          1,
          1,
          1,
          1,
          1,
          1,
          1,
          1,
          1,
          1,
          1,
          1,
          1,
          1,
          1,
          1,
          1,
          1,
          1,
          1,
          1,
          1,
          1,
          1,
          1,
          1,
          1,
          1,
          1,
          1,
          1,
          1,
          1,
          1,
          1,
          1,
          1,
          1,
          1,
          1,
          1,
          1,
          1,
          1,
          1,
          1,
          1,
          1,
          1,
          1,
          1,
          1,
          1,
          1,
          1,
          1,
          1,
          1,
          1,
          1,
          1,
          1,
          1,
          1,
          1,
          1,
          1,
          1,
          1,
          1,
          1,
          1,
          1,
          1,
          1,
          1,
          1,
          1,
          1,
          1,
          1,
          1,
          1,
          1,
          1,
          1,
          1,
          1,
          1,
          1,
          1,
          1,
          1,
          1,
          1,
          1,
          1,
          1,
          1,
          1,
          1,
          1,
          1,
          1,
          1,
          1,
          1,
          1,
          1,
          1,
          1,
          1,
          1,
          1,
          1,
          1,
          1,
          1,
          1,
          1,
          1,
          1,
          1,
          1,
          1,
          1,
          1,
          1,
          1,
          1,
          1,
          1,
          1,
          1,
          1,
          1,
          1,
          1,
          1,
          1,
          1,
          1,
          1,
          1,
          1,
          1,
          1,
          1,
          1,
          1,
          1,
          1
         ],
         "yaxis": "y"
        },
        {
         "alignmentgroup": "True",
         "hovertemplate": "Marca=Positivo<br>Loja=%{x}<br>count=%{y}<extra></extra>",
         "legendgroup": "Positivo",
         "marker": {
          "color": "#00cc96",
          "pattern": {
           "shape": ""
          }
         },
         "name": "Positivo",
         "offsetgroup": "Positivo",
         "orientation": "v",
         "showlegend": true,
         "textposition": "auto",
         "type": "bar",
         "x": [
          "Amazon",
          "Amazon",
          "Amazon",
          "Amazon",
          "Amazon",
          "Amazon",
          "Amazon",
          "Amazon",
          "Amazon",
          "Amazon",
          "Amazon",
          "Amazon",
          "Amazon",
          "Amazon",
          "Amazon",
          "Amazon",
          "Amazon",
          "Amazon",
          "Amazon",
          "Amazon",
          "Amazon",
          "Amazon",
          "Americanas",
          "Americanas",
          "Americanas",
          "Americanas",
          "Americanas",
          "Americanas",
          "Americanas",
          "Americanas",
          "Americanas",
          "Americanas",
          "Americanas",
          "Americanas",
          "Americanas",
          "Americanas",
          "Americanas",
          "Americanas",
          "Americanas",
          "Americanas",
          "Americanas",
          "Americanas",
          "Americanas",
          "Americanas",
          "Americanas",
          "Americanas",
          "Americanas",
          "Americanas",
          "Americanas",
          "Americanas",
          "Americanas",
          "Americanas",
          "Americanas",
          "Casas Bahia",
          "Casas Bahia",
          "Casas Bahia",
          "Casas Bahia",
          "Casas Bahia",
          "Casas Bahia",
          "Casas Bahia",
          "Casas Bahia",
          "Casas Bahia",
          "Casas Bahia",
          "Magazine Luiza",
          "Magazine Luiza",
          "Magazine Luiza",
          "Magazine Luiza",
          "Magazine Luiza",
          "Magazine Luiza",
          "Magazine Luiza",
          "Magazine Luiza",
          "Magazine Luiza",
          "Magazine Luiza",
          "Magazine Luiza",
          "Magazine Luiza",
          "Magazine Luiza",
          "Magazine Luiza"
         ],
         "xaxis": "x",
         "y": [
          1,
          1,
          1,
          1,
          1,
          1,
          1,
          1,
          1,
          1,
          1,
          1,
          1,
          1,
          1,
          1,
          1,
          1,
          1,
          1,
          1,
          1,
          1,
          1,
          1,
          1,
          1,
          1,
          1,
          1,
          1,
          1,
          1,
          1,
          1,
          1,
          1,
          1,
          1,
          1,
          1,
          1,
          1,
          1,
          1,
          1,
          1,
          1,
          1,
          1,
          1,
          1,
          1,
          1,
          1,
          1,
          1,
          1,
          1,
          1,
          1,
          1,
          1,
          1,
          1,
          1,
          1,
          1,
          1,
          1,
          1,
          1,
          1,
          1,
          1,
          1,
          1
         ],
         "yaxis": "y"
        },
        {
         "alignmentgroup": "True",
         "hovertemplate": "Marca=Asus<br>Loja=%{x}<br>count=%{y}<extra></extra>",
         "legendgroup": "Asus",
         "marker": {
          "color": "#ab63fa",
          "pattern": {
           "shape": ""
          }
         },
         "name": "Asus",
         "offsetgroup": "Asus",
         "orientation": "v",
         "showlegend": true,
         "textposition": "auto",
         "type": "bar",
         "x": [
          "Amazon",
          "Amazon",
          "Amazon",
          "Amazon",
          "Amazon",
          "Amazon",
          "Amazon",
          "Amazon",
          "Amazon",
          "Amazon",
          "Amazon",
          "Amazon",
          "Amazon",
          "Amazon",
          "Amazon",
          "Amazon",
          "Amazon",
          "Amazon",
          "Amazon",
          "Amazon",
          "Amazon",
          "Casas Bahia",
          "Casas Bahia",
          "Casas Bahia",
          "Casas Bahia",
          "Casas Bahia",
          "Casas Bahia",
          "Casas Bahia",
          "Casas Bahia",
          "Casas Bahia",
          "Casas Bahia",
          "Casas Bahia",
          "Casas Bahia",
          "Casas Bahia",
          "Casas Bahia",
          "Casas Bahia",
          "Casas Bahia",
          "Casas Bahia",
          "Casas Bahia",
          "Casas Bahia",
          "Casas Bahia",
          "Casas Bahia",
          "Casas Bahia",
          "Magazine Luiza",
          "Magazine Luiza",
          "Magazine Luiza",
          "Magazine Luiza",
          "Magazine Luiza",
          "Magazine Luiza",
          "Magazine Luiza",
          "Magazine Luiza",
          "Magazine Luiza",
          "Magazine Luiza",
          "Magazine Luiza",
          "Magazine Luiza",
          "Magazine Luiza",
          "Magazine Luiza",
          "Magazine Luiza",
          "Magazine Luiza",
          "Magazine Luiza",
          "Submarino",
          "Submarino",
          "Submarino",
          "Submarino",
          "Submarino",
          "Submarino",
          "Submarino",
          "Submarino",
          "Submarino",
          "Submarino",
          "Submarino",
          "Submarino",
          "Submarino",
          "Submarino",
          "Submarino",
          "Submarino",
          "Submarino",
          "Submarino",
          "Submarino",
          "Submarino",
          "Submarino",
          "Submarino",
          "Submarino",
          "Submarino",
          "Submarino",
          "Submarino"
         ],
         "xaxis": "x",
         "y": [
          1,
          1,
          1,
          1,
          1,
          1,
          1,
          1,
          1,
          1,
          1,
          1,
          1,
          1,
          1,
          1,
          1,
          1,
          1,
          1,
          1,
          1,
          1,
          1,
          1,
          1,
          1,
          1,
          1,
          1,
          1,
          1,
          1,
          1,
          1,
          1,
          1,
          1,
          1,
          1,
          1,
          1,
          1,
          1,
          1,
          1,
          1,
          1,
          1,
          1,
          1,
          1,
          1,
          1,
          1,
          1,
          1,
          1,
          1,
          1,
          1,
          1,
          1,
          1,
          1,
          1,
          1,
          1,
          1,
          1,
          1,
          1,
          1,
          1,
          1,
          1,
          1,
          1,
          1,
          1,
          1,
          1,
          1,
          1,
          1,
          1
         ],
         "yaxis": "y"
        },
        {
         "alignmentgroup": "True",
         "hovertemplate": "Marca=Dell<br>Loja=%{x}<br>count=%{y}<extra></extra>",
         "legendgroup": "Dell",
         "marker": {
          "color": "#FFA15A",
          "pattern": {
           "shape": ""
          }
         },
         "name": "Dell",
         "offsetgroup": "Dell",
         "orientation": "v",
         "showlegend": true,
         "textposition": "auto",
         "type": "bar",
         "x": [
          "Amazon",
          "Amazon",
          "Amazon",
          "Amazon",
          "Amazon",
          "Amazon",
          "Amazon",
          "Amazon",
          "Amazon",
          "Amazon",
          "Amazon",
          "Amazon",
          "Amazon",
          "Amazon",
          "Amazon",
          "Amazon",
          "Amazon",
          "Amazon",
          "Amazon",
          "Amazon",
          "Amazon",
          "Amazon",
          "Amazon",
          "Amazon",
          "Amazon",
          "Amazon",
          "Amazon",
          "Amazon",
          "Amazon",
          "Amazon",
          "Amazon",
          "Amazon",
          "Amazon",
          "Amazon",
          "Amazon",
          "Amazon",
          "Amazon",
          "Amazon",
          "Amazon",
          "Amazon",
          "Amazon",
          "Amazon",
          "Amazon",
          "Americanas",
          "Americanas",
          "Americanas",
          "Americanas",
          "Americanas",
          "Americanas",
          "Americanas",
          "Americanas",
          "Americanas",
          "Americanas",
          "Americanas",
          "Americanas",
          "Americanas",
          "Americanas",
          "Americanas",
          "Americanas",
          "Americanas",
          "Americanas",
          "Americanas",
          "Americanas",
          "Americanas",
          "Americanas",
          "Americanas",
          "Americanas",
          "Americanas",
          "Americanas",
          "Americanas",
          "Americanas",
          "Americanas",
          "Americanas",
          "Americanas",
          "Americanas",
          "Americanas",
          "Americanas",
          "Americanas",
          "Americanas",
          "Americanas",
          "Americanas",
          "Americanas",
          "Americanas",
          "Americanas",
          "Americanas",
          "Americanas",
          "Americanas",
          "Americanas",
          "Americanas",
          "Americanas",
          "Americanas",
          "Americanas",
          "Americanas",
          "Americanas",
          "Americanas",
          "Americanas",
          "Americanas",
          "Americanas",
          "Americanas",
          "Americanas",
          "Americanas",
          "Americanas",
          "Americanas",
          "Americanas",
          "Americanas",
          "Americanas",
          "Americanas",
          "Americanas",
          "Americanas",
          "Americanas",
          "Americanas",
          "Americanas",
          "Casas Bahia",
          "Casas Bahia",
          "Casas Bahia",
          "Casas Bahia",
          "Casas Bahia",
          "Casas Bahia",
          "Casas Bahia",
          "Casas Bahia",
          "Casas Bahia",
          "Casas Bahia",
          "Casas Bahia",
          "Casas Bahia",
          "Casas Bahia",
          "Casas Bahia",
          "Casas Bahia",
          "Casas Bahia",
          "Casas Bahia",
          "Casas Bahia",
          "Casas Bahia",
          "Casas Bahia",
          "Casas Bahia",
          "Casas Bahia",
          "Casas Bahia",
          "Casas Bahia",
          "Casas Bahia",
          "Casas Bahia",
          "Casas Bahia",
          "Casas Bahia",
          "Casas Bahia",
          "Casas Bahia",
          "Casas Bahia",
          "Casas Bahia",
          "Casas Bahia",
          "Casas Bahia",
          "Casas Bahia",
          "Casas Bahia",
          "Casas Bahia",
          "Casas Bahia",
          "Casas Bahia",
          "Casas Bahia",
          "Casas Bahia",
          "Casas Bahia",
          "Casas Bahia",
          "Casas Bahia",
          "Casas Bahia",
          "Casas Bahia",
          "Casas Bahia",
          "Casas Bahia",
          "Casas Bahia",
          "Magazine Luiza",
          "Magazine Luiza",
          "Magazine Luiza",
          "Magazine Luiza",
          "Magazine Luiza",
          "Magazine Luiza",
          "Magazine Luiza",
          "Magazine Luiza",
          "Magazine Luiza",
          "Magazine Luiza",
          "Magazine Luiza",
          "Magazine Luiza",
          "Magazine Luiza",
          "Magazine Luiza",
          "Magazine Luiza",
          "Magazine Luiza",
          "Magazine Luiza",
          "Magazine Luiza",
          "Magazine Luiza",
          "Magazine Luiza",
          "Magazine Luiza",
          "Magazine Luiza",
          "Magazine Luiza",
          "Magazine Luiza",
          "Magazine Luiza",
          "Magazine Luiza",
          "Magazine Luiza",
          "Magazine Luiza",
          "Magazine Luiza",
          "Magazine Luiza",
          "Magazine Luiza",
          "Magazine Luiza",
          "Magazine Luiza",
          "Magazine Luiza",
          "Magazine Luiza",
          "Magazine Luiza",
          "Magazine Luiza",
          "Magazine Luiza",
          "Magazine Luiza",
          "Magazine Luiza",
          "Magazine Luiza",
          "Magazine Luiza",
          "Magazine Luiza",
          "Magazine Luiza",
          "Magazine Luiza",
          "Magazine Luiza",
          "Magazine Luiza",
          "Magazine Luiza",
          "Magazine Luiza",
          "Magazine Luiza",
          "Magazine Luiza",
          "Magazine Luiza",
          "Magazine Luiza",
          "Magazine Luiza",
          "Magazine Luiza",
          "Magazine Luiza",
          "Magazine Luiza",
          "Magazine Luiza",
          "Magazine Luiza",
          "Submarino",
          "Submarino",
          "Submarino",
          "Submarino",
          "Submarino",
          "Submarino",
          "Submarino",
          "Submarino",
          "Submarino",
          "Submarino",
          "Submarino",
          "Submarino",
          "Submarino",
          "Submarino",
          "Submarino",
          "Submarino",
          "Submarino",
          "Submarino",
          "Submarino",
          "Submarino",
          "Submarino",
          "Submarino",
          "Submarino",
          "Submarino",
          "Submarino",
          "Submarino",
          "Submarino",
          "Submarino",
          "Submarino",
          "Submarino",
          "Submarino",
          "Submarino"
         ],
         "xaxis": "x",
         "y": [
          1,
          1,
          1,
          1,
          1,
          1,
          1,
          1,
          1,
          1,
          1,
          1,
          1,
          1,
          1,
          1,
          1,
          1,
          1,
          1,
          1,
          1,
          1,
          1,
          1,
          1,
          1,
          1,
          1,
          1,
          1,
          1,
          1,
          1,
          1,
          1,
          1,
          1,
          1,
          1,
          1,
          1,
          1,
          1,
          1,
          1,
          1,
          1,
          1,
          1,
          1,
          1,
          1,
          1,
          1,
          1,
          1,
          1,
          1,
          1,
          1,
          1,
          1,
          1,
          1,
          1,
          1,
          1,
          1,
          1,
          1,
          1,
          1,
          1,
          1,
          1,
          1,
          1,
          1,
          1,
          1,
          1,
          1,
          1,
          1,
          1,
          1,
          1,
          1,
          1,
          1,
          1,
          1,
          1,
          1,
          1,
          1,
          1,
          1,
          1,
          1,
          1,
          1,
          1,
          1,
          1,
          1,
          1,
          1,
          1,
          1,
          1,
          1,
          1,
          1,
          1,
          1,
          1,
          1,
          1,
          1,
          1,
          1,
          1,
          1,
          1,
          1,
          1,
          1,
          1,
          1,
          1,
          1,
          1,
          1,
          1,
          1,
          1,
          1,
          1,
          1,
          1,
          1,
          1,
          1,
          1,
          1,
          1,
          1,
          1,
          1,
          1,
          1,
          1,
          1,
          1,
          1,
          1,
          1,
          1,
          1,
          1,
          1,
          1,
          1,
          1,
          1,
          1,
          1,
          1,
          1,
          1,
          1,
          1,
          1,
          1,
          1,
          1,
          1,
          1,
          1,
          1,
          1,
          1,
          1,
          1,
          1,
          1,
          1,
          1,
          1,
          1,
          1,
          1,
          1,
          1,
          1,
          1,
          1,
          1,
          1,
          1,
          1,
          1,
          1,
          1,
          1,
          1,
          1,
          1,
          1,
          1,
          1,
          1,
          1,
          1,
          1,
          1,
          1,
          1,
          1,
          1,
          1,
          1,
          1,
          1,
          1,
          1,
          1,
          1,
          1,
          1,
          1,
          1,
          1,
          1,
          1,
          1,
          1,
          1,
          1,
          1,
          1,
          1,
          1,
          1,
          1,
          1,
          1,
          1,
          1,
          1
         ],
         "yaxis": "y"
        },
        {
         "alignmentgroup": "True",
         "hovertemplate": "Marca=Acer<br>Loja=%{x}<br>count=%{y}<extra></extra>",
         "legendgroup": "Acer",
         "marker": {
          "color": "#19d3f3",
          "pattern": {
           "shape": ""
          }
         },
         "name": "Acer",
         "offsetgroup": "Acer",
         "orientation": "v",
         "showlegend": true,
         "textposition": "auto",
         "type": "bar",
         "x": [
          "Amazon",
          "Amazon",
          "Amazon",
          "Amazon",
          "Amazon",
          "Amazon",
          "Amazon",
          "Amazon",
          "Amazon",
          "Amazon",
          "Amazon",
          "Amazon",
          "Amazon",
          "Amazon",
          "Amazon",
          "Amazon",
          "Amazon",
          "Amazon",
          "Amazon",
          "Amazon",
          "Amazon",
          "Amazon",
          "Amazon",
          "Amazon",
          "Amazon",
          "Amazon",
          "Amazon",
          "Amazon",
          "Americanas",
          "Americanas",
          "Americanas",
          "Americanas",
          "Americanas",
          "Americanas",
          "Americanas",
          "Americanas",
          "Americanas",
          "Americanas",
          "Americanas",
          "Americanas",
          "Americanas",
          "Americanas",
          "Americanas",
          "Americanas",
          "Americanas",
          "Americanas",
          "Americanas",
          "Americanas",
          "Americanas",
          "Americanas",
          "Americanas",
          "Americanas",
          "Americanas",
          "Americanas",
          "Americanas",
          "Americanas",
          "Americanas",
          "Americanas",
          "Americanas",
          "Americanas",
          "Americanas",
          "Americanas",
          "Americanas",
          "Americanas",
          "Americanas",
          "Americanas",
          "Americanas",
          "Americanas",
          "Americanas",
          "Americanas",
          "Americanas",
          "Americanas",
          "Americanas",
          "Casas Bahia",
          "Casas Bahia",
          "Casas Bahia",
          "Casas Bahia",
          "Casas Bahia",
          "Casas Bahia",
          "Casas Bahia",
          "Casas Bahia",
          "Casas Bahia",
          "Casas Bahia",
          "Casas Bahia",
          "Casas Bahia",
          "Casas Bahia",
          "Casas Bahia",
          "Casas Bahia",
          "Casas Bahia",
          "Casas Bahia",
          "Casas Bahia",
          "Casas Bahia",
          "Casas Bahia",
          "Casas Bahia",
          "Casas Bahia",
          "Casas Bahia",
          "Casas Bahia",
          "Casas Bahia",
          "Casas Bahia",
          "Casas Bahia",
          "Casas Bahia",
          "Casas Bahia",
          "Casas Bahia",
          "Casas Bahia",
          "Casas Bahia",
          "Casas Bahia",
          "Casas Bahia",
          "Casas Bahia",
          "Casas Bahia",
          "Casas Bahia",
          "Casas Bahia",
          "Casas Bahia",
          "Casas Bahia",
          "Casas Bahia",
          "Casas Bahia",
          "Casas Bahia",
          "Casas Bahia",
          "Casas Bahia",
          "Casas Bahia",
          "Casas Bahia",
          "Casas Bahia",
          "Casas Bahia",
          "Casas Bahia",
          "Casas Bahia",
          "Casas Bahia",
          "Casas Bahia",
          "Casas Bahia",
          "Casas Bahia",
          "Casas Bahia",
          "Casas Bahia",
          "Casas Bahia",
          "Casas Bahia",
          "Casas Bahia",
          "Casas Bahia",
          "Casas Bahia",
          "Casas Bahia",
          "Magazine Luiza",
          "Magazine Luiza",
          "Magazine Luiza",
          "Magazine Luiza",
          "Magazine Luiza",
          "Magazine Luiza",
          "Magazine Luiza",
          "Magazine Luiza",
          "Magazine Luiza",
          "Magazine Luiza",
          "Magazine Luiza",
          "Magazine Luiza",
          "Magazine Luiza",
          "Magazine Luiza",
          "Magazine Luiza",
          "Magazine Luiza",
          "Magazine Luiza",
          "Magazine Luiza",
          "Magazine Luiza",
          "Magazine Luiza",
          "Magazine Luiza",
          "Magazine Luiza",
          "Magazine Luiza",
          "Magazine Luiza",
          "Magazine Luiza",
          "Magazine Luiza",
          "Magazine Luiza",
          "Magazine Luiza",
          "Magazine Luiza",
          "Magazine Luiza",
          "Magazine Luiza",
          "Magazine Luiza",
          "Magazine Luiza",
          "Magazine Luiza",
          "Magazine Luiza",
          "Magazine Luiza",
          "Magazine Luiza",
          "Magazine Luiza",
          "Magazine Luiza",
          "Magazine Luiza",
          "Magazine Luiza",
          "Submarino",
          "Submarino",
          "Submarino",
          "Submarino",
          "Submarino",
          "Submarino",
          "Submarino",
          "Submarino",
          "Submarino",
          "Submarino",
          "Submarino",
          "Submarino",
          "Submarino",
          "Submarino",
          "Submarino",
          "Submarino",
          "Submarino",
          "Submarino",
          "Submarino",
          "Submarino",
          "Submarino",
          "Submarino",
          "Submarino",
          "Submarino",
          "Submarino",
          "Submarino",
          "Submarino",
          "Submarino",
          "Submarino",
          "Submarino",
          "Submarino",
          "Submarino",
          "Submarino",
          "Submarino",
          "Submarino",
          "Submarino",
          "Submarino",
          "Submarino",
          "Submarino",
          "Submarino",
          "Submarino",
          "Submarino",
          "Submarino",
          "Submarino",
          "Submarino",
          "Submarino",
          "Submarino",
          "Submarino",
          "Submarino",
          "Submarino",
          "Submarino",
          "Submarino",
          "Submarino",
          "Submarino",
          "Submarino",
          "Submarino",
          "Submarino",
          "Submarino",
          "Submarino",
          "Submarino",
          "Submarino",
          "Submarino",
          "Submarino",
          "Submarino",
          "Submarino",
          "Submarino",
          "Submarino",
          "Submarino",
          "Submarino",
          "Submarino",
          "Submarino",
          "Submarino",
          "Submarino",
          "Submarino",
          "Submarino",
          "Submarino",
          "Submarino",
          "Submarino",
          "Submarino",
          "Submarino",
          "Submarino",
          "Submarino",
          "Submarino",
          "Submarino",
          "Submarino",
          "Submarino",
          "Submarino",
          "Submarino",
          "Submarino",
          "Submarino",
          "Submarino",
          "Submarino",
          "Submarino",
          "Submarino",
          "Submarino",
          "Submarino",
          "Submarino",
          "Submarino",
          "Submarino",
          "Submarino",
          "Submarino",
          "Submarino",
          "Submarino",
          "Submarino",
          "Submarino",
          "Submarino",
          "Submarino",
          "Submarino",
          "Submarino",
          "Submarino",
          "Submarino",
          "Submarino",
          "Submarino",
          "Submarino",
          "Submarino",
          "Submarino",
          "Submarino",
          "Submarino",
          "Submarino",
          "Submarino",
          "Submarino",
          "Submarino",
          "Submarino",
          "Submarino",
          "Submarino",
          "Submarino",
          "Submarino",
          "Submarino",
          "Submarino",
          "Submarino",
          "Submarino",
          "Submarino",
          "Submarino",
          "Submarino",
          "Submarino",
          "Submarino",
          "Submarino",
          "Submarino",
          "Submarino",
          "Submarino",
          "Submarino",
          "Submarino",
          "Submarino",
          "Submarino",
          "Submarino"
         ],
         "xaxis": "x",
         "y": [
          1,
          1,
          1,
          1,
          1,
          1,
          1,
          1,
          1,
          1,
          1,
          1,
          1,
          1,
          1,
          1,
          1,
          1,
          1,
          1,
          1,
          1,
          1,
          1,
          1,
          1,
          1,
          1,
          1,
          1,
          1,
          1,
          1,
          1,
          1,
          1,
          1,
          1,
          1,
          1,
          1,
          1,
          1,
          1,
          1,
          1,
          1,
          1,
          1,
          1,
          1,
          1,
          1,
          1,
          1,
          1,
          1,
          1,
          1,
          1,
          1,
          1,
          1,
          1,
          1,
          1,
          1,
          1,
          1,
          1,
          1,
          1,
          1,
          1,
          1,
          1,
          1,
          1,
          1,
          1,
          1,
          1,
          1,
          1,
          1,
          1,
          1,
          1,
          1,
          1,
          1,
          1,
          1,
          1,
          1,
          1,
          1,
          1,
          1,
          1,
          1,
          1,
          1,
          1,
          1,
          1,
          1,
          1,
          1,
          1,
          1,
          1,
          1,
          1,
          1,
          1,
          1,
          1,
          1,
          1,
          1,
          1,
          1,
          1,
          1,
          1,
          1,
          1,
          1,
          1,
          1,
          1,
          1,
          1,
          1,
          1,
          1,
          1,
          1,
          1,
          1,
          1,
          1,
          1,
          1,
          1,
          1,
          1,
          1,
          1,
          1,
          1,
          1,
          1,
          1,
          1,
          1,
          1,
          1,
          1,
          1,
          1,
          1,
          1,
          1,
          1,
          1,
          1,
          1,
          1,
          1,
          1,
          1,
          1,
          1,
          1,
          1,
          1,
          1,
          1,
          1,
          1,
          1,
          1,
          1,
          1,
          1,
          1,
          1,
          1,
          1,
          1,
          1,
          1,
          1,
          1,
          1,
          1,
          1,
          1,
          1,
          1,
          1,
          1,
          1,
          1,
          1,
          1,
          1,
          1,
          1,
          1,
          1,
          1,
          1,
          1,
          1,
          1,
          1,
          1,
          1,
          1,
          1,
          1,
          1,
          1,
          1,
          1,
          1,
          1,
          1,
          1,
          1,
          1,
          1,
          1,
          1,
          1,
          1,
          1,
          1,
          1,
          1,
          1,
          1,
          1,
          1,
          1,
          1,
          1,
          1,
          1,
          1,
          1,
          1,
          1,
          1,
          1,
          1,
          1,
          1,
          1,
          1,
          1,
          1,
          1,
          1,
          1,
          1,
          1,
          1,
          1,
          1,
          1,
          1,
          1,
          1,
          1,
          1,
          1,
          1,
          1,
          1,
          1,
          1,
          1,
          1,
          1,
          1,
          1,
          1,
          1,
          1,
          1,
          1,
          1,
          1,
          1,
          1,
          1,
          1,
          1,
          1,
          1,
          1,
          1,
          1,
          1,
          1,
          1,
          1,
          1,
          1,
          1,
          1,
          1,
          1,
          1,
          1,
          1,
          1,
          1
         ],
         "yaxis": "y"
        },
        {
         "alignmentgroup": "True",
         "hovertemplate": "Marca=Lg<br>Loja=%{x}<br>count=%{y}<extra></extra>",
         "legendgroup": "Lg",
         "marker": {
          "color": "#FF6692",
          "pattern": {
           "shape": ""
          }
         },
         "name": "Lg",
         "offsetgroup": "Lg",
         "orientation": "v",
         "showlegend": true,
         "textposition": "auto",
         "type": "bar",
         "x": [
          "Amazon",
          "Amazon",
          "Magazine Luiza"
         ],
         "xaxis": "x",
         "y": [
          1,
          1,
          1
         ],
         "yaxis": "y"
        },
        {
         "alignmentgroup": "True",
         "hovertemplate": "Marca=Apple<br>Loja=%{x}<br>count=%{y}<extra></extra>",
         "legendgroup": "Apple",
         "marker": {
          "color": "#B6E880",
          "pattern": {
           "shape": ""
          }
         },
         "name": "Apple",
         "offsetgroup": "Apple",
         "orientation": "v",
         "showlegend": true,
         "textposition": "auto",
         "type": "bar",
         "x": [
          "Amazon",
          "Amazon",
          "Amazon",
          "Amazon",
          "Casas Bahia",
          "Casas Bahia",
          "Magazine Luiza",
          "Magazine Luiza",
          "Magazine Luiza",
          "Magazine Luiza",
          "Magazine Luiza",
          "Magazine Luiza",
          "Magazine Luiza",
          "Magazine Luiza",
          "Magazine Luiza",
          "Magazine Luiza",
          "Magazine Luiza",
          "Magazine Luiza",
          "Magazine Luiza",
          "Submarino",
          "Submarino",
          "Submarino",
          "Submarino",
          "Submarino",
          "Submarino",
          "Submarino",
          "Submarino",
          "Submarino",
          "Submarino",
          "Submarino",
          "Submarino",
          "Submarino",
          "Submarino",
          "Submarino",
          "Submarino"
         ],
         "xaxis": "x",
         "y": [
          1,
          1,
          1,
          1,
          1,
          1,
          1,
          1,
          1,
          1,
          1,
          1,
          1,
          1,
          1,
          1,
          1,
          1,
          1,
          1,
          1,
          1,
          1,
          1,
          1,
          1,
          1,
          1,
          1,
          1,
          1,
          1,
          1,
          1,
          1
         ],
         "yaxis": "y"
        }
       ],
       "layout": {
        "barmode": "relative",
        "legend": {
         "title": {
          "text": "Marca"
         },
         "tracegroupgap": 0
        },
        "template": {
         "data": {
          "bar": [
           {
            "error_x": {
             "color": "#2a3f5f"
            },
            "error_y": {
             "color": "#2a3f5f"
            },
            "marker": {
             "line": {
              "color": "#E5ECF6",
              "width": 0.5
             },
             "pattern": {
              "fillmode": "overlay",
              "size": 10,
              "solidity": 0.2
             }
            },
            "type": "bar"
           }
          ],
          "barpolar": [
           {
            "marker": {
             "line": {
              "color": "#E5ECF6",
              "width": 0.5
             },
             "pattern": {
              "fillmode": "overlay",
              "size": 10,
              "solidity": 0.2
             }
            },
            "type": "barpolar"
           }
          ],
          "carpet": [
           {
            "aaxis": {
             "endlinecolor": "#2a3f5f",
             "gridcolor": "white",
             "linecolor": "white",
             "minorgridcolor": "white",
             "startlinecolor": "#2a3f5f"
            },
            "baxis": {
             "endlinecolor": "#2a3f5f",
             "gridcolor": "white",
             "linecolor": "white",
             "minorgridcolor": "white",
             "startlinecolor": "#2a3f5f"
            },
            "type": "carpet"
           }
          ],
          "choropleth": [
           {
            "colorbar": {
             "outlinewidth": 0,
             "ticks": ""
            },
            "type": "choropleth"
           }
          ],
          "contour": [
           {
            "colorbar": {
             "outlinewidth": 0,
             "ticks": ""
            },
            "colorscale": [
             [
              0,
              "#0d0887"
             ],
             [
              0.1111111111111111,
              "#46039f"
             ],
             [
              0.2222222222222222,
              "#7201a8"
             ],
             [
              0.3333333333333333,
              "#9c179e"
             ],
             [
              0.4444444444444444,
              "#bd3786"
             ],
             [
              0.5555555555555556,
              "#d8576b"
             ],
             [
              0.6666666666666666,
              "#ed7953"
             ],
             [
              0.7777777777777778,
              "#fb9f3a"
             ],
             [
              0.8888888888888888,
              "#fdca26"
             ],
             [
              1,
              "#f0f921"
             ]
            ],
            "type": "contour"
           }
          ],
          "contourcarpet": [
           {
            "colorbar": {
             "outlinewidth": 0,
             "ticks": ""
            },
            "type": "contourcarpet"
           }
          ],
          "heatmap": [
           {
            "colorbar": {
             "outlinewidth": 0,
             "ticks": ""
            },
            "colorscale": [
             [
              0,
              "#0d0887"
             ],
             [
              0.1111111111111111,
              "#46039f"
             ],
             [
              0.2222222222222222,
              "#7201a8"
             ],
             [
              0.3333333333333333,
              "#9c179e"
             ],
             [
              0.4444444444444444,
              "#bd3786"
             ],
             [
              0.5555555555555556,
              "#d8576b"
             ],
             [
              0.6666666666666666,
              "#ed7953"
             ],
             [
              0.7777777777777778,
              "#fb9f3a"
             ],
             [
              0.8888888888888888,
              "#fdca26"
             ],
             [
              1,
              "#f0f921"
             ]
            ],
            "type": "heatmap"
           }
          ],
          "heatmapgl": [
           {
            "colorbar": {
             "outlinewidth": 0,
             "ticks": ""
            },
            "colorscale": [
             [
              0,
              "#0d0887"
             ],
             [
              0.1111111111111111,
              "#46039f"
             ],
             [
              0.2222222222222222,
              "#7201a8"
             ],
             [
              0.3333333333333333,
              "#9c179e"
             ],
             [
              0.4444444444444444,
              "#bd3786"
             ],
             [
              0.5555555555555556,
              "#d8576b"
             ],
             [
              0.6666666666666666,
              "#ed7953"
             ],
             [
              0.7777777777777778,
              "#fb9f3a"
             ],
             [
              0.8888888888888888,
              "#fdca26"
             ],
             [
              1,
              "#f0f921"
             ]
            ],
            "type": "heatmapgl"
           }
          ],
          "histogram": [
           {
            "marker": {
             "pattern": {
              "fillmode": "overlay",
              "size": 10,
              "solidity": 0.2
             }
            },
            "type": "histogram"
           }
          ],
          "histogram2d": [
           {
            "colorbar": {
             "outlinewidth": 0,
             "ticks": ""
            },
            "colorscale": [
             [
              0,
              "#0d0887"
             ],
             [
              0.1111111111111111,
              "#46039f"
             ],
             [
              0.2222222222222222,
              "#7201a8"
             ],
             [
              0.3333333333333333,
              "#9c179e"
             ],
             [
              0.4444444444444444,
              "#bd3786"
             ],
             [
              0.5555555555555556,
              "#d8576b"
             ],
             [
              0.6666666666666666,
              "#ed7953"
             ],
             [
              0.7777777777777778,
              "#fb9f3a"
             ],
             [
              0.8888888888888888,
              "#fdca26"
             ],
             [
              1,
              "#f0f921"
             ]
            ],
            "type": "histogram2d"
           }
          ],
          "histogram2dcontour": [
           {
            "colorbar": {
             "outlinewidth": 0,
             "ticks": ""
            },
            "colorscale": [
             [
              0,
              "#0d0887"
             ],
             [
              0.1111111111111111,
              "#46039f"
             ],
             [
              0.2222222222222222,
              "#7201a8"
             ],
             [
              0.3333333333333333,
              "#9c179e"
             ],
             [
              0.4444444444444444,
              "#bd3786"
             ],
             [
              0.5555555555555556,
              "#d8576b"
             ],
             [
              0.6666666666666666,
              "#ed7953"
             ],
             [
              0.7777777777777778,
              "#fb9f3a"
             ],
             [
              0.8888888888888888,
              "#fdca26"
             ],
             [
              1,
              "#f0f921"
             ]
            ],
            "type": "histogram2dcontour"
           }
          ],
          "mesh3d": [
           {
            "colorbar": {
             "outlinewidth": 0,
             "ticks": ""
            },
            "type": "mesh3d"
           }
          ],
          "parcoords": [
           {
            "line": {
             "colorbar": {
              "outlinewidth": 0,
              "ticks": ""
             }
            },
            "type": "parcoords"
           }
          ],
          "pie": [
           {
            "automargin": true,
            "type": "pie"
           }
          ],
          "scatter": [
           {
            "marker": {
             "colorbar": {
              "outlinewidth": 0,
              "ticks": ""
             }
            },
            "type": "scatter"
           }
          ],
          "scatter3d": [
           {
            "line": {
             "colorbar": {
              "outlinewidth": 0,
              "ticks": ""
             }
            },
            "marker": {
             "colorbar": {
              "outlinewidth": 0,
              "ticks": ""
             }
            },
            "type": "scatter3d"
           }
          ],
          "scattercarpet": [
           {
            "marker": {
             "colorbar": {
              "outlinewidth": 0,
              "ticks": ""
             }
            },
            "type": "scattercarpet"
           }
          ],
          "scattergeo": [
           {
            "marker": {
             "colorbar": {
              "outlinewidth": 0,
              "ticks": ""
             }
            },
            "type": "scattergeo"
           }
          ],
          "scattergl": [
           {
            "marker": {
             "colorbar": {
              "outlinewidth": 0,
              "ticks": ""
             }
            },
            "type": "scattergl"
           }
          ],
          "scattermapbox": [
           {
            "marker": {
             "colorbar": {
              "outlinewidth": 0,
              "ticks": ""
             }
            },
            "type": "scattermapbox"
           }
          ],
          "scatterpolar": [
           {
            "marker": {
             "colorbar": {
              "outlinewidth": 0,
              "ticks": ""
             }
            },
            "type": "scatterpolar"
           }
          ],
          "scatterpolargl": [
           {
            "marker": {
             "colorbar": {
              "outlinewidth": 0,
              "ticks": ""
             }
            },
            "type": "scatterpolargl"
           }
          ],
          "scatterternary": [
           {
            "marker": {
             "colorbar": {
              "outlinewidth": 0,
              "ticks": ""
             }
            },
            "type": "scatterternary"
           }
          ],
          "surface": [
           {
            "colorbar": {
             "outlinewidth": 0,
             "ticks": ""
            },
            "colorscale": [
             [
              0,
              "#0d0887"
             ],
             [
              0.1111111111111111,
              "#46039f"
             ],
             [
              0.2222222222222222,
              "#7201a8"
             ],
             [
              0.3333333333333333,
              "#9c179e"
             ],
             [
              0.4444444444444444,
              "#bd3786"
             ],
             [
              0.5555555555555556,
              "#d8576b"
             ],
             [
              0.6666666666666666,
              "#ed7953"
             ],
             [
              0.7777777777777778,
              "#fb9f3a"
             ],
             [
              0.8888888888888888,
              "#fdca26"
             ],
             [
              1,
              "#f0f921"
             ]
            ],
            "type": "surface"
           }
          ],
          "table": [
           {
            "cells": {
             "fill": {
              "color": "#EBF0F8"
             },
             "line": {
              "color": "white"
             }
            },
            "header": {
             "fill": {
              "color": "#C8D4E3"
             },
             "line": {
              "color": "white"
             }
            },
            "type": "table"
           }
          ]
         },
         "layout": {
          "annotationdefaults": {
           "arrowcolor": "#2a3f5f",
           "arrowhead": 0,
           "arrowwidth": 1
          },
          "autotypenumbers": "strict",
          "coloraxis": {
           "colorbar": {
            "outlinewidth": 0,
            "ticks": ""
           }
          },
          "colorscale": {
           "diverging": [
            [
             0,
             "#8e0152"
            ],
            [
             0.1,
             "#c51b7d"
            ],
            [
             0.2,
             "#de77ae"
            ],
            [
             0.3,
             "#f1b6da"
            ],
            [
             0.4,
             "#fde0ef"
            ],
            [
             0.5,
             "#f7f7f7"
            ],
            [
             0.6,
             "#e6f5d0"
            ],
            [
             0.7,
             "#b8e186"
            ],
            [
             0.8,
             "#7fbc41"
            ],
            [
             0.9,
             "#4d9221"
            ],
            [
             1,
             "#276419"
            ]
           ],
           "sequential": [
            [
             0,
             "#0d0887"
            ],
            [
             0.1111111111111111,
             "#46039f"
            ],
            [
             0.2222222222222222,
             "#7201a8"
            ],
            [
             0.3333333333333333,
             "#9c179e"
            ],
            [
             0.4444444444444444,
             "#bd3786"
            ],
            [
             0.5555555555555556,
             "#d8576b"
            ],
            [
             0.6666666666666666,
             "#ed7953"
            ],
            [
             0.7777777777777778,
             "#fb9f3a"
            ],
            [
             0.8888888888888888,
             "#fdca26"
            ],
            [
             1,
             "#f0f921"
            ]
           ],
           "sequentialminus": [
            [
             0,
             "#0d0887"
            ],
            [
             0.1111111111111111,
             "#46039f"
            ],
            [
             0.2222222222222222,
             "#7201a8"
            ],
            [
             0.3333333333333333,
             "#9c179e"
            ],
            [
             0.4444444444444444,
             "#bd3786"
            ],
            [
             0.5555555555555556,
             "#d8576b"
            ],
            [
             0.6666666666666666,
             "#ed7953"
            ],
            [
             0.7777777777777778,
             "#fb9f3a"
            ],
            [
             0.8888888888888888,
             "#fdca26"
            ],
            [
             1,
             "#f0f921"
            ]
           ]
          },
          "colorway": [
           "#636efa",
           "#EF553B",
           "#00cc96",
           "#ab63fa",
           "#FFA15A",
           "#19d3f3",
           "#FF6692",
           "#B6E880",
           "#FF97FF",
           "#FECB52"
          ],
          "font": {
           "color": "#2a3f5f"
          },
          "geo": {
           "bgcolor": "white",
           "lakecolor": "white",
           "landcolor": "#E5ECF6",
           "showlakes": true,
           "showland": true,
           "subunitcolor": "white"
          },
          "hoverlabel": {
           "align": "left"
          },
          "hovermode": "closest",
          "mapbox": {
           "style": "light"
          },
          "paper_bgcolor": "white",
          "plot_bgcolor": "#E5ECF6",
          "polar": {
           "angularaxis": {
            "gridcolor": "white",
            "linecolor": "white",
            "ticks": ""
           },
           "bgcolor": "#E5ECF6",
           "radialaxis": {
            "gridcolor": "white",
            "linecolor": "white",
            "ticks": ""
           }
          },
          "scene": {
           "xaxis": {
            "backgroundcolor": "#E5ECF6",
            "gridcolor": "white",
            "gridwidth": 2,
            "linecolor": "white",
            "showbackground": true,
            "ticks": "",
            "zerolinecolor": "white"
           },
           "yaxis": {
            "backgroundcolor": "#E5ECF6",
            "gridcolor": "white",
            "gridwidth": 2,
            "linecolor": "white",
            "showbackground": true,
            "ticks": "",
            "zerolinecolor": "white"
           },
           "zaxis": {
            "backgroundcolor": "#E5ECF6",
            "gridcolor": "white",
            "gridwidth": 2,
            "linecolor": "white",
            "showbackground": true,
            "ticks": "",
            "zerolinecolor": "white"
           }
          },
          "shapedefaults": {
           "line": {
            "color": "#2a3f5f"
           }
          },
          "ternary": {
           "aaxis": {
            "gridcolor": "white",
            "linecolor": "white",
            "ticks": ""
           },
           "baxis": {
            "gridcolor": "white",
            "linecolor": "white",
            "ticks": ""
           },
           "bgcolor": "#E5ECF6",
           "caxis": {
            "gridcolor": "white",
            "linecolor": "white",
            "ticks": ""
           }
          },
          "title": {
           "x": 0.05
          },
          "xaxis": {
           "automargin": true,
           "gridcolor": "white",
           "linecolor": "white",
           "ticks": "",
           "title": {
            "standoff": 15
           },
           "zerolinecolor": "white",
           "zerolinewidth": 2
          },
          "yaxis": {
           "automargin": true,
           "gridcolor": "white",
           "linecolor": "white",
           "ticks": "",
           "title": {
            "standoff": 15
           },
           "zerolinecolor": "white",
           "zerolinewidth": 2
          }
         }
        },
        "title": {
         "text": "Long-Form Input"
        },
        "xaxis": {
         "anchor": "y",
         "domain": [
          0,
          1
         ],
         "title": {
          "text": "Loja"
         }
        },
        "yaxis": {
         "anchor": "x",
         "domain": [
          0,
          1
         ],
         "title": {
          "text": "count"
         }
        }
       }
      }
     },
     "metadata": {},
     "output_type": "display_data"
    }
   ],
   "source": [
    "import plotly.express as px\n",
    "\n",
    "\n",
    "fig = px.bar(dados_gerais_notebooks, x=\"Loja\",  color=\"Marca\", title=\"Long-Form Input\")\n",
    "fig.show()"
   ]
  },
  {
   "cell_type": "code",
   "execution_count": 27,
   "metadata": {},
   "outputs": [],
   "source": [
    "dados_gerais_smartphone = dados_gerais_marcas[dados_gerais_marcas[\"Categoria\"] == \"Smartphone\"]"
   ]
  },
  {
   "cell_type": "code",
   "execution_count": 28,
   "metadata": {},
   "outputs": [
    {
     "data": {
      "application/vnd.plotly.v1+json": {
       "config": {
        "plotlyServerURL": "https://plot.ly"
       },
       "data": [
        {
         "alignmentgroup": "True",
         "hovertemplate": "Marca=Lg<br>Loja=%{x}<br>count=%{y}<extra></extra>",
         "legendgroup": "Lg",
         "marker": {
          "color": "#636efa",
          "pattern": {
           "shape": ""
          }
         },
         "name": "Lg",
         "offsetgroup": "Lg",
         "orientation": "v",
         "showlegend": true,
         "textposition": "auto",
         "type": "bar",
         "x": [
          "Amazon",
          "Amazon",
          "Amazon",
          "Amazon",
          "Amazon",
          "Amazon",
          "Amazon",
          "Amazon",
          "Amazon",
          "Amazon",
          "Amazon",
          "Amazon",
          "Americanas",
          "Americanas",
          "Americanas",
          "Americanas",
          "Americanas",
          "Americanas",
          "Americanas",
          "Americanas",
          "Americanas",
          "Americanas",
          "Americanas",
          "Americanas",
          "Americanas",
          "Americanas",
          "Americanas",
          "Americanas",
          "Americanas",
          "Americanas",
          "Americanas",
          "Americanas",
          "Americanas",
          "Americanas",
          "Americanas",
          "Americanas",
          "Americanas",
          "Americanas",
          "Americanas",
          "Americanas",
          "Americanas",
          "Americanas",
          "Americanas",
          "Casas Bahia",
          "Casas Bahia",
          "Casas Bahia",
          "Casas Bahia",
          "Casas Bahia",
          "Casas Bahia",
          "Casas Bahia",
          "Casas Bahia",
          "Casas Bahia",
          "Casas Bahia",
          "Casas Bahia",
          "Casas Bahia",
          "Casas Bahia",
          "Casas Bahia",
          "Casas Bahia",
          "Casas Bahia",
          "Casas Bahia",
          "Magazine Luiza",
          "Magazine Luiza",
          "Magazine Luiza",
          "Magazine Luiza",
          "Magazine Luiza",
          "Magazine Luiza",
          "Magazine Luiza",
          "Magazine Luiza",
          "Magazine Luiza",
          "Magazine Luiza",
          "Magazine Luiza",
          "Magazine Luiza",
          "Magazine Luiza",
          "Magazine Luiza",
          "Magazine Luiza",
          "Magazine Luiza",
          "Magazine Luiza",
          "Magazine Luiza",
          "Magazine Luiza",
          "Magazine Luiza"
         ],
         "xaxis": "x",
         "y": [
          1,
          1,
          1,
          1,
          1,
          1,
          1,
          1,
          1,
          1,
          1,
          1,
          1,
          1,
          1,
          1,
          1,
          1,
          1,
          1,
          1,
          1,
          1,
          1,
          1,
          1,
          1,
          1,
          1,
          1,
          1,
          1,
          1,
          1,
          1,
          1,
          1,
          1,
          1,
          1,
          1,
          1,
          1,
          1,
          1,
          1,
          1,
          1,
          1,
          1,
          1,
          1,
          1,
          1,
          1,
          1,
          1,
          1,
          1,
          1,
          1,
          1,
          1,
          1,
          1,
          1,
          1,
          1,
          1,
          1,
          1,
          1,
          1,
          1,
          1,
          1,
          1,
          1,
          1,
          1
         ],
         "yaxis": "y"
        },
        {
         "alignmentgroup": "True",
         "hovertemplate": "Marca=Positivo<br>Loja=%{x}<br>count=%{y}<extra></extra>",
         "legendgroup": "Positivo",
         "marker": {
          "color": "#EF553B",
          "pattern": {
           "shape": ""
          }
         },
         "name": "Positivo",
         "offsetgroup": "Positivo",
         "orientation": "v",
         "showlegend": true,
         "textposition": "auto",
         "type": "bar",
         "x": [
          "Amazon",
          "Amazon",
          "Amazon",
          "Amazon",
          "Amazon",
          "Amazon",
          "Amazon",
          "Amazon",
          "Casas Bahia",
          "Casas Bahia",
          "Casas Bahia",
          "Casas Bahia",
          "Casas Bahia",
          "Magazine Luiza",
          "Magazine Luiza",
          "Magazine Luiza",
          "Magazine Luiza",
          "Magazine Luiza"
         ],
         "xaxis": "x",
         "y": [
          1,
          1,
          1,
          1,
          1,
          1,
          1,
          1,
          1,
          1,
          1,
          1,
          1,
          1,
          1,
          1,
          1,
          1
         ],
         "yaxis": "y"
        },
        {
         "alignmentgroup": "True",
         "hovertemplate": "Marca=Asus<br>Loja=%{x}<br>count=%{y}<extra></extra>",
         "legendgroup": "Asus",
         "marker": {
          "color": "#00cc96",
          "pattern": {
           "shape": ""
          }
         },
         "name": "Asus",
         "offsetgroup": "Asus",
         "orientation": "v",
         "showlegend": true,
         "textposition": "auto",
         "type": "bar",
         "x": [
          "Amazon",
          "Amazon",
          "Amazon",
          "Amazon",
          "Americanas",
          "Americanas",
          "Americanas",
          "Americanas",
          "Americanas",
          "Casas Bahia",
          "Casas Bahia",
          "Casas Bahia",
          "Casas Bahia",
          "Casas Bahia",
          "Casas Bahia",
          "Magazine Luiza",
          "Magazine Luiza",
          "Magazine Luiza"
         ],
         "xaxis": "x",
         "y": [
          1,
          1,
          1,
          1,
          1,
          1,
          1,
          1,
          1,
          1,
          1,
          1,
          1,
          1,
          1,
          1,
          1,
          1
         ],
         "yaxis": "y"
        },
        {
         "alignmentgroup": "True",
         "hovertemplate": "Marca=Xiaomi<br>Loja=%{x}<br>count=%{y}<extra></extra>",
         "legendgroup": "Xiaomi",
         "marker": {
          "color": "#ab63fa",
          "pattern": {
           "shape": ""
          }
         },
         "name": "Xiaomi",
         "offsetgroup": "Xiaomi",
         "orientation": "v",
         "showlegend": true,
         "textposition": "auto",
         "type": "bar",
         "x": [
          "Amazon",
          "Amazon",
          "Amazon",
          "Amazon",
          "Amazon",
          "Amazon",
          "Amazon",
          "Amazon",
          "Amazon",
          "Amazon",
          "Amazon",
          "Amazon",
          "Amazon",
          "Amazon",
          "Amazon",
          "Amazon",
          "Amazon",
          "Amazon",
          "Amazon",
          "Amazon",
          "Amazon",
          "Amazon",
          "Amazon",
          "Amazon",
          "Amazon",
          "Amazon",
          "Amazon",
          "Amazon",
          "Amazon",
          "Amazon",
          "Amazon",
          "Amazon",
          "Amazon",
          "Amazon",
          "Amazon",
          "Amazon",
          "Amazon",
          "Amazon",
          "Amazon",
          "Amazon",
          "Amazon",
          "Amazon",
          "Amazon",
          "Amazon",
          "Amazon",
          "Amazon",
          "Amazon",
          "Amazon",
          "Amazon",
          "Amazon",
          "Amazon",
          "Amazon",
          "Amazon",
          "Amazon",
          "Amazon",
          "Amazon",
          "Amazon",
          "Amazon",
          "Amazon",
          "Amazon",
          "Amazon",
          "Amazon",
          "Amazon",
          "Amazon",
          "Amazon",
          "Amazon",
          "Amazon",
          "Amazon",
          "Amazon",
          "Amazon",
          "Amazon",
          "Amazon",
          "Amazon",
          "Amazon",
          "Amazon",
          "Amazon",
          "Amazon",
          "Amazon",
          "Amazon",
          "Amazon",
          "Amazon",
          "Amazon",
          "Amazon",
          "Amazon",
          "Amazon",
          "Amazon",
          "Amazon",
          "Amazon",
          "Amazon",
          "Amazon",
          "Amazon",
          "Amazon",
          "Amazon",
          "Amazon",
          "Amazon",
          "Amazon",
          "Amazon",
          "Amazon",
          "Amazon",
          "Amazon",
          "Amazon",
          "Amazon",
          "Amazon",
          "Amazon",
          "Amazon",
          "Amazon",
          "Amazon",
          "Amazon",
          "Amazon",
          "Amazon",
          "Amazon",
          "Amazon",
          "Amazon",
          "Amazon",
          "Amazon",
          "Amazon",
          "Amazon",
          "Amazon",
          "Americanas",
          "Americanas",
          "Americanas",
          "Americanas",
          "Americanas",
          "Americanas",
          "Americanas",
          "Americanas",
          "Americanas",
          "Americanas",
          "Americanas",
          "Americanas",
          "Americanas",
          "Americanas",
          "Americanas",
          "Americanas",
          "Americanas",
          "Americanas",
          "Americanas",
          "Americanas",
          "Americanas",
          "Americanas",
          "Americanas",
          "Americanas",
          "Americanas",
          "Americanas",
          "Americanas",
          "Americanas",
          "Americanas",
          "Americanas",
          "Americanas",
          "Americanas",
          "Americanas",
          "Americanas",
          "Americanas",
          "Americanas",
          "Casas Bahia",
          "Casas Bahia",
          "Casas Bahia",
          "Casas Bahia",
          "Casas Bahia",
          "Casas Bahia",
          "Casas Bahia",
          "Casas Bahia",
          "Casas Bahia",
          "Casas Bahia",
          "Casas Bahia",
          "Casas Bahia",
          "Casas Bahia",
          "Casas Bahia",
          "Casas Bahia",
          "Casas Bahia",
          "Casas Bahia",
          "Casas Bahia",
          "Casas Bahia",
          "Casas Bahia",
          "Casas Bahia",
          "Casas Bahia",
          "Casas Bahia",
          "Casas Bahia",
          "Casas Bahia",
          "Casas Bahia",
          "Casas Bahia",
          "Casas Bahia",
          "Casas Bahia",
          "Casas Bahia",
          "Casas Bahia",
          "Magazine Luiza",
          "Magazine Luiza",
          "Magazine Luiza",
          "Magazine Luiza",
          "Magazine Luiza",
          "Magazine Luiza",
          "Magazine Luiza",
          "Magazine Luiza",
          "Magazine Luiza",
          "Magazine Luiza",
          "Magazine Luiza",
          "Magazine Luiza",
          "Magazine Luiza",
          "Magazine Luiza",
          "Magazine Luiza",
          "Magazine Luiza",
          "Magazine Luiza",
          "Magazine Luiza",
          "Magazine Luiza"
         ],
         "xaxis": "x",
         "y": [
          1,
          1,
          1,
          1,
          1,
          1,
          1,
          1,
          1,
          1,
          1,
          1,
          1,
          1,
          1,
          1,
          1,
          1,
          1,
          1,
          1,
          1,
          1,
          1,
          1,
          1,
          1,
          1,
          1,
          1,
          1,
          1,
          1,
          1,
          1,
          1,
          1,
          1,
          1,
          1,
          1,
          1,
          1,
          1,
          1,
          1,
          1,
          1,
          1,
          1,
          1,
          1,
          1,
          1,
          1,
          1,
          1,
          1,
          1,
          1,
          1,
          1,
          1,
          1,
          1,
          1,
          1,
          1,
          1,
          1,
          1,
          1,
          1,
          1,
          1,
          1,
          1,
          1,
          1,
          1,
          1,
          1,
          1,
          1,
          1,
          1,
          1,
          1,
          1,
          1,
          1,
          1,
          1,
          1,
          1,
          1,
          1,
          1,
          1,
          1,
          1,
          1,
          1,
          1,
          1,
          1,
          1,
          1,
          1,
          1,
          1,
          1,
          1,
          1,
          1,
          1,
          1,
          1,
          1,
          1,
          1,
          1,
          1,
          1,
          1,
          1,
          1,
          1,
          1,
          1,
          1,
          1,
          1,
          1,
          1,
          1,
          1,
          1,
          1,
          1,
          1,
          1,
          1,
          1,
          1,
          1,
          1,
          1,
          1,
          1,
          1,
          1,
          1,
          1,
          1,
          1,
          1,
          1,
          1,
          1,
          1,
          1,
          1,
          1,
          1,
          1,
          1,
          1,
          1,
          1,
          1,
          1,
          1,
          1,
          1,
          1,
          1,
          1,
          1,
          1,
          1,
          1,
          1,
          1,
          1,
          1,
          1,
          1,
          1,
          1,
          1,
          1,
          1,
          1,
          1,
          1,
          1,
          1,
          1,
          1,
          1,
          1,
          1,
          1
         ],
         "yaxis": "y"
        },
        {
         "alignmentgroup": "True",
         "hovertemplate": "Marca=Samsung<br>Loja=%{x}<br>count=%{y}<extra></extra>",
         "legendgroup": "Samsung",
         "marker": {
          "color": "#FFA15A",
          "pattern": {
           "shape": ""
          }
         },
         "name": "Samsung",
         "offsetgroup": "Samsung",
         "orientation": "v",
         "showlegend": true,
         "textposition": "auto",
         "type": "bar",
         "x": [
          "Amazon",
          "Amazon",
          "Amazon",
          "Amazon",
          "Amazon",
          "Amazon",
          "Amazon",
          "Amazon",
          "Amazon",
          "Amazon",
          "Amazon",
          "Amazon",
          "Amazon",
          "Amazon",
          "Amazon",
          "Amazon",
          "Amazon",
          "Amazon",
          "Amazon",
          "Amazon",
          "Amazon",
          "Amazon",
          "Amazon",
          "Amazon",
          "Amazon",
          "Amazon",
          "Amazon",
          "Amazon",
          "Amazon",
          "Amazon",
          "Amazon",
          "Amazon",
          "Amazon",
          "Amazon",
          "Amazon",
          "Amazon",
          "Amazon",
          "Americanas",
          "Americanas",
          "Americanas",
          "Americanas",
          "Americanas",
          "Americanas",
          "Americanas",
          "Americanas",
          "Americanas",
          "Americanas",
          "Americanas",
          "Americanas",
          "Americanas",
          "Americanas",
          "Americanas",
          "Americanas",
          "Americanas",
          "Americanas",
          "Americanas",
          "Americanas",
          "Americanas",
          "Americanas",
          "Americanas",
          "Americanas",
          "Americanas",
          "Americanas",
          "Americanas",
          "Americanas",
          "Americanas",
          "Americanas",
          "Americanas",
          "Americanas",
          "Americanas",
          "Americanas",
          "Americanas",
          "Americanas",
          "Americanas",
          "Americanas",
          "Americanas",
          "Americanas",
          "Americanas",
          "Americanas",
          "Americanas",
          "Americanas",
          "Americanas",
          "Americanas",
          "Americanas",
          "Americanas",
          "Americanas",
          "Americanas",
          "Americanas",
          "Americanas",
          "Americanas",
          "Americanas",
          "Americanas",
          "Americanas",
          "Americanas",
          "Americanas",
          "Americanas",
          "Americanas",
          "Americanas",
          "Americanas",
          "Americanas",
          "Americanas",
          "Americanas",
          "Americanas",
          "Americanas",
          "Americanas",
          "Americanas",
          "Americanas",
          "Americanas",
          "Americanas",
          "Americanas",
          "Americanas",
          "Americanas",
          "Americanas",
          "Americanas",
          "Americanas",
          "Americanas",
          "Americanas",
          "Americanas",
          "Americanas",
          "Americanas",
          "Americanas",
          "Americanas",
          "Americanas",
          "Americanas",
          "Americanas",
          "Americanas",
          "Americanas",
          "Americanas",
          "Americanas",
          "Americanas",
          "Americanas",
          "Americanas",
          "Americanas",
          "Americanas",
          "Americanas",
          "Americanas",
          "Americanas",
          "Americanas",
          "Americanas",
          "Americanas",
          "Americanas",
          "Americanas",
          "Americanas",
          "Americanas",
          "Americanas",
          "Americanas",
          "Americanas",
          "Americanas",
          "Americanas",
          "Americanas",
          "Americanas",
          "Casas Bahia",
          "Casas Bahia",
          "Casas Bahia",
          "Casas Bahia",
          "Casas Bahia",
          "Casas Bahia",
          "Casas Bahia",
          "Casas Bahia",
          "Casas Bahia",
          "Casas Bahia",
          "Casas Bahia",
          "Casas Bahia",
          "Casas Bahia",
          "Casas Bahia",
          "Casas Bahia",
          "Casas Bahia",
          "Casas Bahia",
          "Casas Bahia",
          "Casas Bahia",
          "Casas Bahia",
          "Casas Bahia",
          "Casas Bahia",
          "Casas Bahia",
          "Casas Bahia",
          "Casas Bahia",
          "Casas Bahia",
          "Casas Bahia",
          "Casas Bahia",
          "Casas Bahia",
          "Casas Bahia",
          "Casas Bahia",
          "Casas Bahia",
          "Casas Bahia",
          "Casas Bahia",
          "Casas Bahia",
          "Casas Bahia",
          "Casas Bahia",
          "Casas Bahia",
          "Casas Bahia",
          "Casas Bahia",
          "Casas Bahia",
          "Casas Bahia",
          "Casas Bahia",
          "Casas Bahia",
          "Casas Bahia",
          "Casas Bahia",
          "Casas Bahia",
          "Casas Bahia",
          "Casas Bahia",
          "Casas Bahia",
          "Casas Bahia",
          "Casas Bahia",
          "Casas Bahia",
          "Casas Bahia",
          "Casas Bahia",
          "Casas Bahia",
          "Casas Bahia",
          "Casas Bahia",
          "Casas Bahia",
          "Casas Bahia",
          "Casas Bahia",
          "Casas Bahia",
          "Casas Bahia",
          "Casas Bahia",
          "Casas Bahia",
          "Casas Bahia",
          "Casas Bahia",
          "Casas Bahia",
          "Casas Bahia",
          "Casas Bahia",
          "Casas Bahia",
          "Casas Bahia",
          "Casas Bahia",
          "Casas Bahia",
          "Casas Bahia",
          "Casas Bahia",
          "Casas Bahia",
          "Casas Bahia",
          "Casas Bahia",
          "Casas Bahia",
          "Casas Bahia",
          "Casas Bahia",
          "Magazine Luiza",
          "Magazine Luiza",
          "Magazine Luiza",
          "Magazine Luiza",
          "Magazine Luiza",
          "Magazine Luiza",
          "Magazine Luiza",
          "Magazine Luiza",
          "Magazine Luiza",
          "Magazine Luiza",
          "Magazine Luiza",
          "Magazine Luiza",
          "Magazine Luiza",
          "Magazine Luiza",
          "Magazine Luiza",
          "Magazine Luiza",
          "Magazine Luiza",
          "Magazine Luiza",
          "Magazine Luiza",
          "Magazine Luiza",
          "Magazine Luiza",
          "Magazine Luiza",
          "Magazine Luiza",
          "Magazine Luiza",
          "Magazine Luiza",
          "Magazine Luiza",
          "Magazine Luiza",
          "Magazine Luiza",
          "Magazine Luiza",
          "Magazine Luiza",
          "Magazine Luiza",
          "Magazine Luiza",
          "Magazine Luiza",
          "Magazine Luiza",
          "Magazine Luiza",
          "Magazine Luiza",
          "Magazine Luiza",
          "Magazine Luiza",
          "Magazine Luiza",
          "Magazine Luiza",
          "Magazine Luiza",
          "Magazine Luiza",
          "Magazine Luiza",
          "Magazine Luiza",
          "Magazine Luiza",
          "Magazine Luiza",
          "Magazine Luiza",
          "Magazine Luiza",
          "Magazine Luiza",
          "Magazine Luiza",
          "Magazine Luiza",
          "Magazine Luiza",
          "Magazine Luiza",
          "Magazine Luiza",
          "Magazine Luiza",
          "Magazine Luiza",
          "Magazine Luiza",
          "Magazine Luiza",
          "Magazine Luiza",
          "Magazine Luiza",
          "Magazine Luiza",
          "Magazine Luiza",
          "Magazine Luiza",
          "Magazine Luiza",
          "Magazine Luiza",
          "Magazine Luiza",
          "Magazine Luiza",
          "Magazine Luiza",
          "Magazine Luiza",
          "Magazine Luiza",
          "Magazine Luiza",
          "Magazine Luiza",
          "Magazine Luiza",
          "Magazine Luiza",
          "Magazine Luiza",
          "Magazine Luiza",
          "Magazine Luiza",
          "Magazine Luiza",
          "Magazine Luiza",
          "Magazine Luiza",
          "Magazine Luiza",
          "Magazine Luiza",
          "Magazine Luiza",
          "Magazine Luiza",
          "Magazine Luiza",
          "Magazine Luiza",
          "Magazine Luiza",
          "Magazine Luiza",
          "Magazine Luiza",
          "Magazine Luiza",
          "Magazine Luiza",
          "Magazine Luiza",
          "Magazine Luiza",
          "Magazine Luiza",
          "Magazine Luiza",
          "Magazine Luiza",
          "Magazine Luiza",
          "Magazine Luiza",
          "Magazine Luiza",
          "Magazine Luiza",
          "Magazine Luiza",
          "Magazine Luiza",
          "Magazine Luiza",
          "Magazine Luiza",
          "Magazine Luiza",
          "Magazine Luiza",
          "Magazine Luiza",
          "Submarino",
          "Submarino",
          "Submarino",
          "Submarino",
          "Submarino",
          "Submarino",
          "Submarino",
          "Submarino",
          "Submarino",
          "Submarino",
          "Submarino",
          "Submarino",
          "Submarino",
          "Submarino",
          "Submarino",
          "Submarino",
          "Submarino",
          "Submarino",
          "Submarino",
          "Submarino",
          "Submarino",
          "Submarino",
          "Submarino",
          "Submarino",
          "Submarino",
          "Submarino",
          "Submarino",
          "Submarino",
          "Submarino",
          "Submarino",
          "Submarino",
          "Submarino",
          "Submarino",
          "Submarino",
          "Submarino",
          "Submarino",
          "Submarino",
          "Submarino",
          "Submarino",
          "Submarino",
          "Submarino",
          "Submarino",
          "Submarino",
          "Submarino",
          "Submarino",
          "Submarino",
          "Submarino",
          "Submarino",
          "Submarino",
          "Submarino",
          "Submarino",
          "Submarino",
          "Submarino",
          "Submarino",
          "Submarino",
          "Submarino",
          "Submarino",
          "Submarino",
          "Submarino",
          "Submarino",
          "Submarino",
          "Submarino",
          "Submarino",
          "Submarino",
          "Submarino",
          "Submarino",
          "Submarino",
          "Submarino",
          "Submarino",
          "Submarino",
          "Submarino",
          "Submarino",
          "Submarino",
          "Submarino",
          "Submarino",
          "Submarino",
          "Submarino",
          "Submarino",
          "Submarino",
          "Submarino",
          "Submarino",
          "Submarino",
          "Submarino",
          "Submarino",
          "Submarino",
          "Submarino",
          "Submarino",
          "Submarino",
          "Submarino",
          "Submarino",
          "Submarino",
          "Submarino",
          "Submarino",
          "Submarino",
          "Submarino",
          "Submarino",
          "Submarino",
          "Submarino",
          "Submarino",
          "Submarino",
          "Submarino",
          "Submarino",
          "Submarino",
          "Submarino",
          "Submarino",
          "Submarino",
          "Submarino",
          "Submarino",
          "Submarino",
          "Submarino",
          "Submarino",
          "Submarino",
          "Submarino",
          "Submarino",
          "Submarino",
          "Submarino",
          "Submarino",
          "Submarino",
          "Submarino",
          "Submarino",
          "Submarino",
          "Submarino",
          "Submarino",
          "Submarino",
          "Submarino",
          "Submarino",
          "Submarino",
          "Submarino",
          "Submarino",
          "Submarino",
          "Submarino",
          "Submarino"
         ],
         "xaxis": "x",
         "y": [
          1,
          1,
          1,
          1,
          1,
          1,
          1,
          1,
          1,
          1,
          1,
          1,
          1,
          1,
          1,
          1,
          1,
          1,
          1,
          1,
          1,
          1,
          1,
          1,
          1,
          1,
          1,
          1,
          1,
          1,
          1,
          1,
          1,
          1,
          1,
          1,
          1,
          1,
          1,
          1,
          1,
          1,
          1,
          1,
          1,
          1,
          1,
          1,
          1,
          1,
          1,
          1,
          1,
          1,
          1,
          1,
          1,
          1,
          1,
          1,
          1,
          1,
          1,
          1,
          1,
          1,
          1,
          1,
          1,
          1,
          1,
          1,
          1,
          1,
          1,
          1,
          1,
          1,
          1,
          1,
          1,
          1,
          1,
          1,
          1,
          1,
          1,
          1,
          1,
          1,
          1,
          1,
          1,
          1,
          1,
          1,
          1,
          1,
          1,
          1,
          1,
          1,
          1,
          1,
          1,
          1,
          1,
          1,
          1,
          1,
          1,
          1,
          1,
          1,
          1,
          1,
          1,
          1,
          1,
          1,
          1,
          1,
          1,
          1,
          1,
          1,
          1,
          1,
          1,
          1,
          1,
          1,
          1,
          1,
          1,
          1,
          1,
          1,
          1,
          1,
          1,
          1,
          1,
          1,
          1,
          1,
          1,
          1,
          1,
          1,
          1,
          1,
          1,
          1,
          1,
          1,
          1,
          1,
          1,
          1,
          1,
          1,
          1,
          1,
          1,
          1,
          1,
          1,
          1,
          1,
          1,
          1,
          1,
          1,
          1,
          1,
          1,
          1,
          1,
          1,
          1,
          1,
          1,
          1,
          1,
          1,
          1,
          1,
          1,
          1,
          1,
          1,
          1,
          1,
          1,
          1,
          1,
          1,
          1,
          1,
          1,
          1,
          1,
          1,
          1,
          1,
          1,
          1,
          1,
          1,
          1,
          1,
          1,
          1,
          1,
          1,
          1,
          1,
          1,
          1,
          1,
          1,
          1,
          1,
          1,
          1,
          1,
          1,
          1,
          1,
          1,
          1,
          1,
          1,
          1,
          1,
          1,
          1,
          1,
          1,
          1,
          1,
          1,
          1,
          1,
          1,
          1,
          1,
          1,
          1,
          1,
          1,
          1,
          1,
          1,
          1,
          1,
          1,
          1,
          1,
          1,
          1,
          1,
          1,
          1,
          1,
          1,
          1,
          1,
          1,
          1,
          1,
          1,
          1,
          1,
          1,
          1,
          1,
          1,
          1,
          1,
          1,
          1,
          1,
          1,
          1,
          1,
          1,
          1,
          1,
          1,
          1,
          1,
          1,
          1,
          1,
          1,
          1,
          1,
          1,
          1,
          1,
          1,
          1,
          1,
          1,
          1,
          1,
          1,
          1,
          1,
          1,
          1,
          1,
          1,
          1,
          1,
          1,
          1,
          1,
          1,
          1,
          1,
          1,
          1,
          1,
          1,
          1,
          1,
          1,
          1,
          1,
          1,
          1,
          1,
          1,
          1,
          1,
          1,
          1,
          1,
          1,
          1,
          1,
          1,
          1,
          1,
          1,
          1,
          1,
          1,
          1,
          1,
          1,
          1,
          1,
          1,
          1,
          1,
          1,
          1,
          1,
          1,
          1,
          1,
          1,
          1,
          1,
          1,
          1,
          1,
          1,
          1,
          1,
          1,
          1,
          1,
          1,
          1,
          1,
          1,
          1,
          1,
          1,
          1,
          1,
          1,
          1,
          1,
          1,
          1,
          1,
          1,
          1,
          1,
          1,
          1,
          1,
          1,
          1,
          1,
          1,
          1,
          1,
          1,
          1,
          1,
          1,
          1,
          1,
          1,
          1,
          1,
          1,
          1,
          1,
          1,
          1,
          1,
          1,
          1,
          1,
          1,
          1,
          1,
          1,
          1,
          1,
          1,
          1,
          1,
          1,
          1,
          1,
          1,
          1,
          1,
          1,
          1,
          1,
          1,
          1,
          1,
          1,
          1,
          1,
          1,
          1,
          1,
          1,
          1,
          1,
          1,
          1,
          1,
          1,
          1,
          1,
          1,
          1,
          1,
          1,
          1,
          1,
          1,
          1,
          1,
          1,
          1,
          1,
          1,
          1
         ],
         "yaxis": "y"
        },
        {
         "alignmentgroup": "True",
         "hovertemplate": "Marca=Motorola<br>Loja=%{x}<br>count=%{y}<extra></extra>",
         "legendgroup": "Motorola",
         "marker": {
          "color": "#19d3f3",
          "pattern": {
           "shape": ""
          }
         },
         "name": "Motorola",
         "offsetgroup": "Motorola",
         "orientation": "v",
         "showlegend": true,
         "textposition": "auto",
         "type": "bar",
         "x": [
          "Amazon",
          "Amazon",
          "Amazon",
          "Amazon",
          "Amazon",
          "Amazon",
          "Amazon",
          "Amazon",
          "Amazon",
          "Amazon",
          "Amazon",
          "Amazon",
          "Amazon",
          "Amazon",
          "Amazon",
          "Amazon",
          "Amazon",
          "Amazon",
          "Amazon",
          "Americanas",
          "Americanas",
          "Americanas",
          "Americanas",
          "Americanas",
          "Americanas",
          "Americanas",
          "Americanas",
          "Americanas",
          "Americanas",
          "Americanas",
          "Americanas",
          "Americanas",
          "Americanas",
          "Americanas",
          "Americanas",
          "Americanas",
          "Americanas",
          "Americanas",
          "Americanas",
          "Americanas",
          "Americanas",
          "Americanas",
          "Americanas",
          "Americanas",
          "Americanas",
          "Americanas",
          "Americanas",
          "Americanas",
          "Americanas",
          "Americanas",
          "Americanas",
          "Americanas",
          "Americanas",
          "Americanas",
          "Americanas",
          "Americanas",
          "Americanas",
          "Americanas",
          "Americanas",
          "Americanas",
          "Americanas",
          "Americanas",
          "Americanas",
          "Americanas",
          "Americanas",
          "Americanas",
          "Americanas",
          "Americanas",
          "Americanas",
          "Americanas",
          "Americanas",
          "Americanas",
          "Americanas",
          "Casas Bahia",
          "Casas Bahia",
          "Casas Bahia",
          "Casas Bahia",
          "Casas Bahia",
          "Casas Bahia",
          "Casas Bahia",
          "Casas Bahia",
          "Casas Bahia",
          "Casas Bahia",
          "Casas Bahia",
          "Casas Bahia",
          "Casas Bahia",
          "Casas Bahia",
          "Casas Bahia",
          "Casas Bahia",
          "Casas Bahia",
          "Casas Bahia",
          "Casas Bahia",
          "Casas Bahia",
          "Casas Bahia",
          "Casas Bahia",
          "Casas Bahia",
          "Casas Bahia",
          "Casas Bahia",
          "Casas Bahia",
          "Casas Bahia",
          "Casas Bahia",
          "Casas Bahia",
          "Casas Bahia",
          "Casas Bahia",
          "Casas Bahia",
          "Casas Bahia",
          "Casas Bahia",
          "Casas Bahia",
          "Casas Bahia",
          "Casas Bahia",
          "Casas Bahia",
          "Casas Bahia",
          "Casas Bahia",
          "Casas Bahia",
          "Casas Bahia",
          "Casas Bahia",
          "Casas Bahia",
          "Casas Bahia",
          "Casas Bahia",
          "Casas Bahia",
          "Casas Bahia",
          "Casas Bahia",
          "Casas Bahia",
          "Casas Bahia",
          "Casas Bahia",
          "Casas Bahia",
          "Casas Bahia",
          "Casas Bahia",
          "Casas Bahia",
          "Casas Bahia",
          "Casas Bahia",
          "Magazine Luiza",
          "Magazine Luiza",
          "Magazine Luiza",
          "Magazine Luiza",
          "Magazine Luiza",
          "Magazine Luiza",
          "Magazine Luiza",
          "Magazine Luiza",
          "Magazine Luiza",
          "Magazine Luiza",
          "Magazine Luiza",
          "Magazine Luiza",
          "Magazine Luiza",
          "Magazine Luiza",
          "Magazine Luiza",
          "Magazine Luiza",
          "Magazine Luiza",
          "Magazine Luiza",
          "Magazine Luiza",
          "Magazine Luiza",
          "Magazine Luiza",
          "Magazine Luiza",
          "Magazine Luiza",
          "Magazine Luiza",
          "Magazine Luiza",
          "Magazine Luiza",
          "Magazine Luiza",
          "Magazine Luiza",
          "Magazine Luiza",
          "Magazine Luiza",
          "Magazine Luiza",
          "Magazine Luiza",
          "Magazine Luiza",
          "Magazine Luiza",
          "Magazine Luiza",
          "Magazine Luiza",
          "Magazine Luiza",
          "Magazine Luiza",
          "Magazine Luiza",
          "Magazine Luiza",
          "Magazine Luiza",
          "Magazine Luiza",
          "Magazine Luiza",
          "Magazine Luiza",
          "Magazine Luiza",
          "Magazine Luiza",
          "Magazine Luiza",
          "Magazine Luiza",
          "Magazine Luiza",
          "Magazine Luiza",
          "Magazine Luiza",
          "Magazine Luiza",
          "Magazine Luiza",
          "Magazine Luiza",
          "Magazine Luiza",
          "Magazine Luiza",
          "Magazine Luiza",
          "Magazine Luiza",
          "Magazine Luiza",
          "Magazine Luiza",
          "Magazine Luiza",
          "Magazine Luiza",
          "Magazine Luiza",
          "Magazine Luiza",
          "Magazine Luiza",
          "Magazine Luiza",
          "Magazine Luiza",
          "Submarino",
          "Submarino",
          "Submarino",
          "Submarino",
          "Submarino",
          "Submarino",
          "Submarino",
          "Submarino",
          "Submarino",
          "Submarino",
          "Submarino",
          "Submarino",
          "Submarino",
          "Submarino",
          "Submarino",
          "Submarino",
          "Submarino",
          "Submarino",
          "Submarino",
          "Submarino",
          "Submarino",
          "Submarino",
          "Submarino",
          "Submarino",
          "Submarino",
          "Submarino",
          "Submarino",
          "Submarino",
          "Submarino",
          "Submarino",
          "Submarino",
          "Submarino",
          "Submarino",
          "Submarino",
          "Submarino",
          "Submarino",
          "Submarino",
          "Submarino",
          "Submarino",
          "Submarino",
          "Submarino",
          "Submarino",
          "Submarino",
          "Submarino",
          "Submarino",
          "Submarino",
          "Submarino",
          "Submarino",
          "Submarino",
          "Submarino",
          "Submarino",
          "Submarino",
          "Submarino",
          "Submarino",
          "Submarino"
         ],
         "xaxis": "x",
         "y": [
          1,
          1,
          1,
          1,
          1,
          1,
          1,
          1,
          1,
          1,
          1,
          1,
          1,
          1,
          1,
          1,
          1,
          1,
          1,
          1,
          1,
          1,
          1,
          1,
          1,
          1,
          1,
          1,
          1,
          1,
          1,
          1,
          1,
          1,
          1,
          1,
          1,
          1,
          1,
          1,
          1,
          1,
          1,
          1,
          1,
          1,
          1,
          1,
          1,
          1,
          1,
          1,
          1,
          1,
          1,
          1,
          1,
          1,
          1,
          1,
          1,
          1,
          1,
          1,
          1,
          1,
          1,
          1,
          1,
          1,
          1,
          1,
          1,
          1,
          1,
          1,
          1,
          1,
          1,
          1,
          1,
          1,
          1,
          1,
          1,
          1,
          1,
          1,
          1,
          1,
          1,
          1,
          1,
          1,
          1,
          1,
          1,
          1,
          1,
          1,
          1,
          1,
          1,
          1,
          1,
          1,
          1,
          1,
          1,
          1,
          1,
          1,
          1,
          1,
          1,
          1,
          1,
          1,
          1,
          1,
          1,
          1,
          1,
          1,
          1,
          1,
          1,
          1,
          1,
          1,
          1,
          1,
          1,
          1,
          1,
          1,
          1,
          1,
          1,
          1,
          1,
          1,
          1,
          1,
          1,
          1,
          1,
          1,
          1,
          1,
          1,
          1,
          1,
          1,
          1,
          1,
          1,
          1,
          1,
          1,
          1,
          1,
          1,
          1,
          1,
          1,
          1,
          1,
          1,
          1,
          1,
          1,
          1,
          1,
          1,
          1,
          1,
          1,
          1,
          1,
          1,
          1,
          1,
          1,
          1,
          1,
          1,
          1,
          1,
          1,
          1,
          1,
          1,
          1,
          1,
          1,
          1,
          1,
          1,
          1,
          1,
          1,
          1,
          1,
          1,
          1,
          1,
          1,
          1,
          1,
          1,
          1,
          1,
          1,
          1,
          1,
          1,
          1,
          1,
          1,
          1,
          1,
          1,
          1,
          1,
          1,
          1,
          1,
          1,
          1,
          1,
          1,
          1,
          1,
          1,
          1,
          1,
          1,
          1,
          1,
          1,
          1,
          1,
          1,
          1,
          1,
          1,
          1,
          1,
          1,
          1,
          1,
          1
         ],
         "yaxis": "y"
        },
        {
         "alignmentgroup": "True",
         "hovertemplate": "Marca=Apple<br>Loja=%{x}<br>count=%{y}<extra></extra>",
         "legendgroup": "Apple",
         "marker": {
          "color": "#FF6692",
          "pattern": {
           "shape": ""
          }
         },
         "name": "Apple",
         "offsetgroup": "Apple",
         "orientation": "v",
         "showlegend": true,
         "textposition": "auto",
         "type": "bar",
         "x": [
          "Amazon",
          "Amazon",
          "Magazine Luiza",
          "Magazine Luiza",
          "Magazine Luiza",
          "Magazine Luiza",
          "Magazine Luiza",
          "Magazine Luiza",
          "Submarino",
          "Submarino",
          "Submarino",
          "Submarino",
          "Submarino",
          "Submarino",
          "Submarino",
          "Submarino",
          "Submarino",
          "Submarino",
          "Submarino",
          "Submarino",
          "Submarino",
          "Submarino",
          "Submarino",
          "Submarino",
          "Submarino",
          "Submarino",
          "Submarino",
          "Submarino",
          "Submarino",
          "Submarino",
          "Submarino",
          "Submarino",
          "Submarino",
          "Submarino",
          "Submarino",
          "Submarino",
          "Submarino",
          "Submarino",
          "Submarino",
          "Submarino",
          "Submarino",
          "Submarino",
          "Submarino",
          "Submarino",
          "Submarino",
          "Submarino",
          "Submarino",
          "Submarino",
          "Submarino",
          "Submarino",
          "Submarino",
          "Submarino",
          "Submarino",
          "Submarino",
          "Submarino",
          "Submarino",
          "Submarino",
          "Submarino",
          "Submarino",
          "Submarino",
          "Submarino",
          "Submarino",
          "Submarino",
          "Submarino",
          "Submarino",
          "Submarino",
          "Submarino",
          "Submarino",
          "Submarino",
          "Submarino",
          "Submarino",
          "Submarino",
          "Submarino",
          "Submarino"
         ],
         "xaxis": "x",
         "y": [
          1,
          1,
          1,
          1,
          1,
          1,
          1,
          1,
          1,
          1,
          1,
          1,
          1,
          1,
          1,
          1,
          1,
          1,
          1,
          1,
          1,
          1,
          1,
          1,
          1,
          1,
          1,
          1,
          1,
          1,
          1,
          1,
          1,
          1,
          1,
          1,
          1,
          1,
          1,
          1,
          1,
          1,
          1,
          1,
          1,
          1,
          1,
          1,
          1,
          1,
          1,
          1,
          1,
          1,
          1,
          1,
          1,
          1,
          1,
          1,
          1,
          1,
          1,
          1,
          1,
          1,
          1,
          1,
          1,
          1,
          1,
          1,
          1,
          1
         ],
         "yaxis": "y"
        },
        {
         "alignmentgroup": "True",
         "hovertemplate": "Marca=Tcl<br>Loja=%{x}<br>count=%{y}<extra></extra>",
         "legendgroup": "Tcl",
         "marker": {
          "color": "#B6E880",
          "pattern": {
           "shape": ""
          }
         },
         "name": "Tcl",
         "offsetgroup": "Tcl",
         "orientation": "v",
         "showlegend": true,
         "textposition": "auto",
         "type": "bar",
         "x": [
          "Casas Bahia",
          "Casas Bahia"
         ],
         "xaxis": "x",
         "y": [
          1,
          1
         ],
         "yaxis": "y"
        },
        {
         "alignmentgroup": "True",
         "hovertemplate": "Marca=Sony<br>Loja=%{x}<br>count=%{y}<extra></extra>",
         "legendgroup": "Sony",
         "marker": {
          "color": "#FF97FF",
          "pattern": {
           "shape": ""
          }
         },
         "name": "Sony",
         "offsetgroup": "Sony",
         "orientation": "v",
         "showlegend": true,
         "textposition": "auto",
         "type": "bar",
         "x": [
          "Casas Bahia",
          "Casas Bahia",
          "Casas Bahia"
         ],
         "xaxis": "x",
         "y": [
          1,
          1,
          1
         ],
         "yaxis": "y"
        },
        {
         "alignmentgroup": "True",
         "hovertemplate": "Marca=Philco<br>Loja=%{x}<br>count=%{y}<extra></extra>",
         "legendgroup": "Philco",
         "marker": {
          "color": "#FECB52",
          "pattern": {
           "shape": ""
          }
         },
         "name": "Philco",
         "offsetgroup": "Philco",
         "orientation": "v",
         "showlegend": true,
         "textposition": "auto",
         "type": "bar",
         "x": [
          "Magazine Luiza",
          "Magazine Luiza",
          "Magazine Luiza",
          "Magazine Luiza"
         ],
         "xaxis": "x",
         "y": [
          1,
          1,
          1,
          1
         ],
         "yaxis": "y"
        },
        {
         "alignmentgroup": "True",
         "hovertemplate": "Marca=Lenovo<br>Loja=%{x}<br>count=%{y}<extra></extra>",
         "legendgroup": "Lenovo",
         "marker": {
          "color": "#636efa",
          "pattern": {
           "shape": ""
          }
         },
         "name": "Lenovo",
         "offsetgroup": "Lenovo",
         "orientation": "v",
         "showlegend": true,
         "textposition": "auto",
         "type": "bar",
         "x": [
          "Magazine Luiza"
         ],
         "xaxis": "x",
         "y": [
          1
         ],
         "yaxis": "y"
        }
       ],
       "layout": {
        "barmode": "relative",
        "legend": {
         "title": {
          "text": "Marca"
         },
         "tracegroupgap": 0
        },
        "template": {
         "data": {
          "bar": [
           {
            "error_x": {
             "color": "#2a3f5f"
            },
            "error_y": {
             "color": "#2a3f5f"
            },
            "marker": {
             "line": {
              "color": "#E5ECF6",
              "width": 0.5
             },
             "pattern": {
              "fillmode": "overlay",
              "size": 10,
              "solidity": 0.2
             }
            },
            "type": "bar"
           }
          ],
          "barpolar": [
           {
            "marker": {
             "line": {
              "color": "#E5ECF6",
              "width": 0.5
             },
             "pattern": {
              "fillmode": "overlay",
              "size": 10,
              "solidity": 0.2
             }
            },
            "type": "barpolar"
           }
          ],
          "carpet": [
           {
            "aaxis": {
             "endlinecolor": "#2a3f5f",
             "gridcolor": "white",
             "linecolor": "white",
             "minorgridcolor": "white",
             "startlinecolor": "#2a3f5f"
            },
            "baxis": {
             "endlinecolor": "#2a3f5f",
             "gridcolor": "white",
             "linecolor": "white",
             "minorgridcolor": "white",
             "startlinecolor": "#2a3f5f"
            },
            "type": "carpet"
           }
          ],
          "choropleth": [
           {
            "colorbar": {
             "outlinewidth": 0,
             "ticks": ""
            },
            "type": "choropleth"
           }
          ],
          "contour": [
           {
            "colorbar": {
             "outlinewidth": 0,
             "ticks": ""
            },
            "colorscale": [
             [
              0,
              "#0d0887"
             ],
             [
              0.1111111111111111,
              "#46039f"
             ],
             [
              0.2222222222222222,
              "#7201a8"
             ],
             [
              0.3333333333333333,
              "#9c179e"
             ],
             [
              0.4444444444444444,
              "#bd3786"
             ],
             [
              0.5555555555555556,
              "#d8576b"
             ],
             [
              0.6666666666666666,
              "#ed7953"
             ],
             [
              0.7777777777777778,
              "#fb9f3a"
             ],
             [
              0.8888888888888888,
              "#fdca26"
             ],
             [
              1,
              "#f0f921"
             ]
            ],
            "type": "contour"
           }
          ],
          "contourcarpet": [
           {
            "colorbar": {
             "outlinewidth": 0,
             "ticks": ""
            },
            "type": "contourcarpet"
           }
          ],
          "heatmap": [
           {
            "colorbar": {
             "outlinewidth": 0,
             "ticks": ""
            },
            "colorscale": [
             [
              0,
              "#0d0887"
             ],
             [
              0.1111111111111111,
              "#46039f"
             ],
             [
              0.2222222222222222,
              "#7201a8"
             ],
             [
              0.3333333333333333,
              "#9c179e"
             ],
             [
              0.4444444444444444,
              "#bd3786"
             ],
             [
              0.5555555555555556,
              "#d8576b"
             ],
             [
              0.6666666666666666,
              "#ed7953"
             ],
             [
              0.7777777777777778,
              "#fb9f3a"
             ],
             [
              0.8888888888888888,
              "#fdca26"
             ],
             [
              1,
              "#f0f921"
             ]
            ],
            "type": "heatmap"
           }
          ],
          "heatmapgl": [
           {
            "colorbar": {
             "outlinewidth": 0,
             "ticks": ""
            },
            "colorscale": [
             [
              0,
              "#0d0887"
             ],
             [
              0.1111111111111111,
              "#46039f"
             ],
             [
              0.2222222222222222,
              "#7201a8"
             ],
             [
              0.3333333333333333,
              "#9c179e"
             ],
             [
              0.4444444444444444,
              "#bd3786"
             ],
             [
              0.5555555555555556,
              "#d8576b"
             ],
             [
              0.6666666666666666,
              "#ed7953"
             ],
             [
              0.7777777777777778,
              "#fb9f3a"
             ],
             [
              0.8888888888888888,
              "#fdca26"
             ],
             [
              1,
              "#f0f921"
             ]
            ],
            "type": "heatmapgl"
           }
          ],
          "histogram": [
           {
            "marker": {
             "pattern": {
              "fillmode": "overlay",
              "size": 10,
              "solidity": 0.2
             }
            },
            "type": "histogram"
           }
          ],
          "histogram2d": [
           {
            "colorbar": {
             "outlinewidth": 0,
             "ticks": ""
            },
            "colorscale": [
             [
              0,
              "#0d0887"
             ],
             [
              0.1111111111111111,
              "#46039f"
             ],
             [
              0.2222222222222222,
              "#7201a8"
             ],
             [
              0.3333333333333333,
              "#9c179e"
             ],
             [
              0.4444444444444444,
              "#bd3786"
             ],
             [
              0.5555555555555556,
              "#d8576b"
             ],
             [
              0.6666666666666666,
              "#ed7953"
             ],
             [
              0.7777777777777778,
              "#fb9f3a"
             ],
             [
              0.8888888888888888,
              "#fdca26"
             ],
             [
              1,
              "#f0f921"
             ]
            ],
            "type": "histogram2d"
           }
          ],
          "histogram2dcontour": [
           {
            "colorbar": {
             "outlinewidth": 0,
             "ticks": ""
            },
            "colorscale": [
             [
              0,
              "#0d0887"
             ],
             [
              0.1111111111111111,
              "#46039f"
             ],
             [
              0.2222222222222222,
              "#7201a8"
             ],
             [
              0.3333333333333333,
              "#9c179e"
             ],
             [
              0.4444444444444444,
              "#bd3786"
             ],
             [
              0.5555555555555556,
              "#d8576b"
             ],
             [
              0.6666666666666666,
              "#ed7953"
             ],
             [
              0.7777777777777778,
              "#fb9f3a"
             ],
             [
              0.8888888888888888,
              "#fdca26"
             ],
             [
              1,
              "#f0f921"
             ]
            ],
            "type": "histogram2dcontour"
           }
          ],
          "mesh3d": [
           {
            "colorbar": {
             "outlinewidth": 0,
             "ticks": ""
            },
            "type": "mesh3d"
           }
          ],
          "parcoords": [
           {
            "line": {
             "colorbar": {
              "outlinewidth": 0,
              "ticks": ""
             }
            },
            "type": "parcoords"
           }
          ],
          "pie": [
           {
            "automargin": true,
            "type": "pie"
           }
          ],
          "scatter": [
           {
            "marker": {
             "colorbar": {
              "outlinewidth": 0,
              "ticks": ""
             }
            },
            "type": "scatter"
           }
          ],
          "scatter3d": [
           {
            "line": {
             "colorbar": {
              "outlinewidth": 0,
              "ticks": ""
             }
            },
            "marker": {
             "colorbar": {
              "outlinewidth": 0,
              "ticks": ""
             }
            },
            "type": "scatter3d"
           }
          ],
          "scattercarpet": [
           {
            "marker": {
             "colorbar": {
              "outlinewidth": 0,
              "ticks": ""
             }
            },
            "type": "scattercarpet"
           }
          ],
          "scattergeo": [
           {
            "marker": {
             "colorbar": {
              "outlinewidth": 0,
              "ticks": ""
             }
            },
            "type": "scattergeo"
           }
          ],
          "scattergl": [
           {
            "marker": {
             "colorbar": {
              "outlinewidth": 0,
              "ticks": ""
             }
            },
            "type": "scattergl"
           }
          ],
          "scattermapbox": [
           {
            "marker": {
             "colorbar": {
              "outlinewidth": 0,
              "ticks": ""
             }
            },
            "type": "scattermapbox"
           }
          ],
          "scatterpolar": [
           {
            "marker": {
             "colorbar": {
              "outlinewidth": 0,
              "ticks": ""
             }
            },
            "type": "scatterpolar"
           }
          ],
          "scatterpolargl": [
           {
            "marker": {
             "colorbar": {
              "outlinewidth": 0,
              "ticks": ""
             }
            },
            "type": "scatterpolargl"
           }
          ],
          "scatterternary": [
           {
            "marker": {
             "colorbar": {
              "outlinewidth": 0,
              "ticks": ""
             }
            },
            "type": "scatterternary"
           }
          ],
          "surface": [
           {
            "colorbar": {
             "outlinewidth": 0,
             "ticks": ""
            },
            "colorscale": [
             [
              0,
              "#0d0887"
             ],
             [
              0.1111111111111111,
              "#46039f"
             ],
             [
              0.2222222222222222,
              "#7201a8"
             ],
             [
              0.3333333333333333,
              "#9c179e"
             ],
             [
              0.4444444444444444,
              "#bd3786"
             ],
             [
              0.5555555555555556,
              "#d8576b"
             ],
             [
              0.6666666666666666,
              "#ed7953"
             ],
             [
              0.7777777777777778,
              "#fb9f3a"
             ],
             [
              0.8888888888888888,
              "#fdca26"
             ],
             [
              1,
              "#f0f921"
             ]
            ],
            "type": "surface"
           }
          ],
          "table": [
           {
            "cells": {
             "fill": {
              "color": "#EBF0F8"
             },
             "line": {
              "color": "white"
             }
            },
            "header": {
             "fill": {
              "color": "#C8D4E3"
             },
             "line": {
              "color": "white"
             }
            },
            "type": "table"
           }
          ]
         },
         "layout": {
          "annotationdefaults": {
           "arrowcolor": "#2a3f5f",
           "arrowhead": 0,
           "arrowwidth": 1
          },
          "autotypenumbers": "strict",
          "coloraxis": {
           "colorbar": {
            "outlinewidth": 0,
            "ticks": ""
           }
          },
          "colorscale": {
           "diverging": [
            [
             0,
             "#8e0152"
            ],
            [
             0.1,
             "#c51b7d"
            ],
            [
             0.2,
             "#de77ae"
            ],
            [
             0.3,
             "#f1b6da"
            ],
            [
             0.4,
             "#fde0ef"
            ],
            [
             0.5,
             "#f7f7f7"
            ],
            [
             0.6,
             "#e6f5d0"
            ],
            [
             0.7,
             "#b8e186"
            ],
            [
             0.8,
             "#7fbc41"
            ],
            [
             0.9,
             "#4d9221"
            ],
            [
             1,
             "#276419"
            ]
           ],
           "sequential": [
            [
             0,
             "#0d0887"
            ],
            [
             0.1111111111111111,
             "#46039f"
            ],
            [
             0.2222222222222222,
             "#7201a8"
            ],
            [
             0.3333333333333333,
             "#9c179e"
            ],
            [
             0.4444444444444444,
             "#bd3786"
            ],
            [
             0.5555555555555556,
             "#d8576b"
            ],
            [
             0.6666666666666666,
             "#ed7953"
            ],
            [
             0.7777777777777778,
             "#fb9f3a"
            ],
            [
             0.8888888888888888,
             "#fdca26"
            ],
            [
             1,
             "#f0f921"
            ]
           ],
           "sequentialminus": [
            [
             0,
             "#0d0887"
            ],
            [
             0.1111111111111111,
             "#46039f"
            ],
            [
             0.2222222222222222,
             "#7201a8"
            ],
            [
             0.3333333333333333,
             "#9c179e"
            ],
            [
             0.4444444444444444,
             "#bd3786"
            ],
            [
             0.5555555555555556,
             "#d8576b"
            ],
            [
             0.6666666666666666,
             "#ed7953"
            ],
            [
             0.7777777777777778,
             "#fb9f3a"
            ],
            [
             0.8888888888888888,
             "#fdca26"
            ],
            [
             1,
             "#f0f921"
            ]
           ]
          },
          "colorway": [
           "#636efa",
           "#EF553B",
           "#00cc96",
           "#ab63fa",
           "#FFA15A",
           "#19d3f3",
           "#FF6692",
           "#B6E880",
           "#FF97FF",
           "#FECB52"
          ],
          "font": {
           "color": "#2a3f5f"
          },
          "geo": {
           "bgcolor": "white",
           "lakecolor": "white",
           "landcolor": "#E5ECF6",
           "showlakes": true,
           "showland": true,
           "subunitcolor": "white"
          },
          "hoverlabel": {
           "align": "left"
          },
          "hovermode": "closest",
          "mapbox": {
           "style": "light"
          },
          "paper_bgcolor": "white",
          "plot_bgcolor": "#E5ECF6",
          "polar": {
           "angularaxis": {
            "gridcolor": "white",
            "linecolor": "white",
            "ticks": ""
           },
           "bgcolor": "#E5ECF6",
           "radialaxis": {
            "gridcolor": "white",
            "linecolor": "white",
            "ticks": ""
           }
          },
          "scene": {
           "xaxis": {
            "backgroundcolor": "#E5ECF6",
            "gridcolor": "white",
            "gridwidth": 2,
            "linecolor": "white",
            "showbackground": true,
            "ticks": "",
            "zerolinecolor": "white"
           },
           "yaxis": {
            "backgroundcolor": "#E5ECF6",
            "gridcolor": "white",
            "gridwidth": 2,
            "linecolor": "white",
            "showbackground": true,
            "ticks": "",
            "zerolinecolor": "white"
           },
           "zaxis": {
            "backgroundcolor": "#E5ECF6",
            "gridcolor": "white",
            "gridwidth": 2,
            "linecolor": "white",
            "showbackground": true,
            "ticks": "",
            "zerolinecolor": "white"
           }
          },
          "shapedefaults": {
           "line": {
            "color": "#2a3f5f"
           }
          },
          "ternary": {
           "aaxis": {
            "gridcolor": "white",
            "linecolor": "white",
            "ticks": ""
           },
           "baxis": {
            "gridcolor": "white",
            "linecolor": "white",
            "ticks": ""
           },
           "bgcolor": "#E5ECF6",
           "caxis": {
            "gridcolor": "white",
            "linecolor": "white",
            "ticks": ""
           }
          },
          "title": {
           "x": 0.05
          },
          "xaxis": {
           "automargin": true,
           "gridcolor": "white",
           "linecolor": "white",
           "ticks": "",
           "title": {
            "standoff": 15
           },
           "zerolinecolor": "white",
           "zerolinewidth": 2
          },
          "yaxis": {
           "automargin": true,
           "gridcolor": "white",
           "linecolor": "white",
           "ticks": "",
           "title": {
            "standoff": 15
           },
           "zerolinecolor": "white",
           "zerolinewidth": 2
          }
         }
        },
        "title": {
         "text": "HEY"
        },
        "xaxis": {
         "anchor": "y",
         "domain": [
          0,
          1
         ],
         "title": {
          "text": "Loja"
         }
        },
        "yaxis": {
         "anchor": "x",
         "domain": [
          0,
          1
         ],
         "title": {
          "text": "count"
         }
        }
       }
      }
     },
     "metadata": {},
     "output_type": "display_data"
    }
   ],
   "source": [
    "fig = px.bar(dados_gerais_smartphone, x=\"Loja\",  color=\"Marca\", title=\"HEY\", facet_row_spacing=0)\n",
    "fig.show()"
   ]
  },
  {
   "cell_type": "code",
   "execution_count": 29,
   "metadata": {},
   "outputs": [
    {
     "data": {
      "text/html": [
       "<div>\n",
       "<style scoped>\n",
       "    .dataframe tbody tr th:only-of-type {\n",
       "        vertical-align: middle;\n",
       "    }\n",
       "\n",
       "    .dataframe tbody tr th {\n",
       "        vertical-align: top;\n",
       "    }\n",
       "\n",
       "    .dataframe thead th {\n",
       "        text-align: right;\n",
       "    }\n",
       "</style>\n",
       "<table border=\"1\" class=\"dataframe\">\n",
       "  <thead>\n",
       "    <tr style=\"text-align: right;\">\n",
       "      <th></th>\n",
       "      <th>Loja</th>\n",
       "      <th>Marca</th>\n",
       "      <th>Quantidade</th>\n",
       "    </tr>\n",
       "  </thead>\n",
       "  <tbody>\n",
       "    <tr>\n",
       "      <th>0</th>\n",
       "      <td>Amazon</td>\n",
       "      <td>Apple</td>\n",
       "      <td>2</td>\n",
       "    </tr>\n",
       "    <tr>\n",
       "      <th>1</th>\n",
       "      <td>Amazon</td>\n",
       "      <td>Asus</td>\n",
       "      <td>4</td>\n",
       "    </tr>\n",
       "    <tr>\n",
       "      <th>2</th>\n",
       "      <td>Amazon</td>\n",
       "      <td>Lg</td>\n",
       "      <td>12</td>\n",
       "    </tr>\n",
       "    <tr>\n",
       "      <th>3</th>\n",
       "      <td>Amazon</td>\n",
       "      <td>Motorola</td>\n",
       "      <td>19</td>\n",
       "    </tr>\n",
       "    <tr>\n",
       "      <th>4</th>\n",
       "      <td>Amazon</td>\n",
       "      <td>Positivo</td>\n",
       "      <td>8</td>\n",
       "    </tr>\n",
       "    <tr>\n",
       "      <th>5</th>\n",
       "      <td>Amazon</td>\n",
       "      <td>Samsung</td>\n",
       "      <td>37</td>\n",
       "    </tr>\n",
       "    <tr>\n",
       "      <th>6</th>\n",
       "      <td>Amazon</td>\n",
       "      <td>Xiaomi</td>\n",
       "      <td>118</td>\n",
       "    </tr>\n",
       "    <tr>\n",
       "      <th>7</th>\n",
       "      <td>Americanas</td>\n",
       "      <td>Asus</td>\n",
       "      <td>5</td>\n",
       "    </tr>\n",
       "    <tr>\n",
       "      <th>8</th>\n",
       "      <td>Americanas</td>\n",
       "      <td>Lg</td>\n",
       "      <td>31</td>\n",
       "    </tr>\n",
       "    <tr>\n",
       "      <th>9</th>\n",
       "      <td>Americanas</td>\n",
       "      <td>Motorola</td>\n",
       "      <td>54</td>\n",
       "    </tr>\n",
       "    <tr>\n",
       "      <th>10</th>\n",
       "      <td>Americanas</td>\n",
       "      <td>Samsung</td>\n",
       "      <td>114</td>\n",
       "    </tr>\n",
       "    <tr>\n",
       "      <th>11</th>\n",
       "      <td>Americanas</td>\n",
       "      <td>Xiaomi</td>\n",
       "      <td>36</td>\n",
       "    </tr>\n",
       "    <tr>\n",
       "      <th>12</th>\n",
       "      <td>Casas Bahia</td>\n",
       "      <td>Asus</td>\n",
       "      <td>6</td>\n",
       "    </tr>\n",
       "    <tr>\n",
       "      <th>13</th>\n",
       "      <td>Casas Bahia</td>\n",
       "      <td>Lg</td>\n",
       "      <td>17</td>\n",
       "    </tr>\n",
       "    <tr>\n",
       "      <th>14</th>\n",
       "      <td>Casas Bahia</td>\n",
       "      <td>Motorola</td>\n",
       "      <td>58</td>\n",
       "    </tr>\n",
       "    <tr>\n",
       "      <th>15</th>\n",
       "      <td>Casas Bahia</td>\n",
       "      <td>Positivo</td>\n",
       "      <td>5</td>\n",
       "    </tr>\n",
       "    <tr>\n",
       "      <th>16</th>\n",
       "      <td>Casas Bahia</td>\n",
       "      <td>Samsung</td>\n",
       "      <td>82</td>\n",
       "    </tr>\n",
       "    <tr>\n",
       "      <th>17</th>\n",
       "      <td>Casas Bahia</td>\n",
       "      <td>Sony</td>\n",
       "      <td>3</td>\n",
       "    </tr>\n",
       "    <tr>\n",
       "      <th>18</th>\n",
       "      <td>Casas Bahia</td>\n",
       "      <td>Tcl</td>\n",
       "      <td>2</td>\n",
       "    </tr>\n",
       "    <tr>\n",
       "      <th>19</th>\n",
       "      <td>Casas Bahia</td>\n",
       "      <td>Xiaomi</td>\n",
       "      <td>31</td>\n",
       "    </tr>\n",
       "    <tr>\n",
       "      <th>20</th>\n",
       "      <td>Magazine Luiza</td>\n",
       "      <td>Apple</td>\n",
       "      <td>6</td>\n",
       "    </tr>\n",
       "    <tr>\n",
       "      <th>21</th>\n",
       "      <td>Magazine Luiza</td>\n",
       "      <td>Asus</td>\n",
       "      <td>3</td>\n",
       "    </tr>\n",
       "    <tr>\n",
       "      <th>22</th>\n",
       "      <td>Magazine Luiza</td>\n",
       "      <td>Lenovo</td>\n",
       "      <td>1</td>\n",
       "    </tr>\n",
       "    <tr>\n",
       "      <th>23</th>\n",
       "      <td>Magazine Luiza</td>\n",
       "      <td>Lg</td>\n",
       "      <td>20</td>\n",
       "    </tr>\n",
       "    <tr>\n",
       "      <th>24</th>\n",
       "      <td>Magazine Luiza</td>\n",
       "      <td>Motorola</td>\n",
       "      <td>67</td>\n",
       "    </tr>\n",
       "    <tr>\n",
       "      <th>25</th>\n",
       "      <td>Magazine Luiza</td>\n",
       "      <td>Philco</td>\n",
       "      <td>4</td>\n",
       "    </tr>\n",
       "    <tr>\n",
       "      <th>26</th>\n",
       "      <td>Magazine Luiza</td>\n",
       "      <td>Positivo</td>\n",
       "      <td>5</td>\n",
       "    </tr>\n",
       "    <tr>\n",
       "      <th>27</th>\n",
       "      <td>Magazine Luiza</td>\n",
       "      <td>Samsung</td>\n",
       "      <td>107</td>\n",
       "    </tr>\n",
       "    <tr>\n",
       "      <th>28</th>\n",
       "      <td>Magazine Luiza</td>\n",
       "      <td>Xiaomi</td>\n",
       "      <td>19</td>\n",
       "    </tr>\n",
       "    <tr>\n",
       "      <th>29</th>\n",
       "      <td>Submarino</td>\n",
       "      <td>Apple</td>\n",
       "      <td>66</td>\n",
       "    </tr>\n",
       "    <tr>\n",
       "      <th>30</th>\n",
       "      <td>Submarino</td>\n",
       "      <td>Motorola</td>\n",
       "      <td>55</td>\n",
       "    </tr>\n",
       "    <tr>\n",
       "      <th>31</th>\n",
       "      <td>Submarino</td>\n",
       "      <td>Samsung</td>\n",
       "      <td>132</td>\n",
       "    </tr>\n",
       "  </tbody>\n",
       "</table>\n",
       "</div>"
      ],
      "text/plain": [
       "              Loja     Marca  Quantidade\n",
       "0           Amazon     Apple           2\n",
       "1           Amazon      Asus           4\n",
       "2           Amazon        Lg          12\n",
       "3           Amazon  Motorola          19\n",
       "4           Amazon  Positivo           8\n",
       "5           Amazon   Samsung          37\n",
       "6           Amazon    Xiaomi         118\n",
       "7       Americanas      Asus           5\n",
       "8       Americanas        Lg          31\n",
       "9       Americanas  Motorola          54\n",
       "10      Americanas   Samsung         114\n",
       "11      Americanas    Xiaomi          36\n",
       "12     Casas Bahia      Asus           6\n",
       "13     Casas Bahia        Lg          17\n",
       "14     Casas Bahia  Motorola          58\n",
       "15     Casas Bahia  Positivo           5\n",
       "16     Casas Bahia   Samsung          82\n",
       "17     Casas Bahia      Sony           3\n",
       "18     Casas Bahia       Tcl           2\n",
       "19     Casas Bahia    Xiaomi          31\n",
       "20  Magazine Luiza     Apple           6\n",
       "21  Magazine Luiza      Asus           3\n",
       "22  Magazine Luiza    Lenovo           1\n",
       "23  Magazine Luiza        Lg          20\n",
       "24  Magazine Luiza  Motorola          67\n",
       "25  Magazine Luiza    Philco           4\n",
       "26  Magazine Luiza  Positivo           5\n",
       "27  Magazine Luiza   Samsung         107\n",
       "28  Magazine Luiza    Xiaomi          19\n",
       "29       Submarino     Apple          66\n",
       "30       Submarino  Motorola          55\n",
       "31       Submarino   Samsung         132"
      ]
     },
     "execution_count": 29,
     "metadata": {},
     "output_type": "execute_result"
    }
   ],
   "source": [
    "groupby_loja_marca = dados_gerais_smartphone[['Loja','Marca','Descrição']].groupby(['Loja','Marca']).count()\n",
    "groupby_loja_marca.reset_index(inplace=True)\n",
    "groupby_loja_marca.rename(columns={'Descrição':'Quantidade'}, inplace=True)\n",
    "groupby_loja_marca"
   ]
  },
  {
   "cell_type": "code",
   "execution_count": 30,
   "metadata": {},
   "outputs": [
    {
     "data": {
      "application/vnd.plotly.v1+json": {
       "config": {
        "plotlyServerURL": "https://plot.ly"
       },
       "data": [
        {
         "alignmentgroup": "True",
         "hovertemplate": "Marca=Apple<br>Loja=%{x}<br>Quantidade=%{y}<extra></extra>",
         "legendgroup": "Apple",
         "marker": {
          "color": "#636efa",
          "pattern": {
           "shape": ""
          }
         },
         "name": "Apple",
         "offsetgroup": "Apple",
         "orientation": "v",
         "showlegend": true,
         "textposition": "auto",
         "type": "bar",
         "x": [
          "Amazon",
          "Magazine Luiza",
          "Submarino"
         ],
         "xaxis": "x",
         "y": [
          2,
          6,
          66
         ],
         "yaxis": "y"
        },
        {
         "alignmentgroup": "True",
         "hovertemplate": "Marca=Asus<br>Loja=%{x}<br>Quantidade=%{y}<extra></extra>",
         "legendgroup": "Asus",
         "marker": {
          "color": "#EF553B",
          "pattern": {
           "shape": ""
          }
         },
         "name": "Asus",
         "offsetgroup": "Asus",
         "orientation": "v",
         "showlegend": true,
         "textposition": "auto",
         "type": "bar",
         "x": [
          "Amazon",
          "Americanas",
          "Casas Bahia",
          "Magazine Luiza"
         ],
         "xaxis": "x",
         "y": [
          4,
          5,
          6,
          3
         ],
         "yaxis": "y"
        },
        {
         "alignmentgroup": "True",
         "hovertemplate": "Marca=Lg<br>Loja=%{x}<br>Quantidade=%{y}<extra></extra>",
         "legendgroup": "Lg",
         "marker": {
          "color": "#00cc96",
          "pattern": {
           "shape": ""
          }
         },
         "name": "Lg",
         "offsetgroup": "Lg",
         "orientation": "v",
         "showlegend": true,
         "textposition": "auto",
         "type": "bar",
         "x": [
          "Amazon",
          "Americanas",
          "Casas Bahia",
          "Magazine Luiza"
         ],
         "xaxis": "x",
         "y": [
          12,
          31,
          17,
          20
         ],
         "yaxis": "y"
        },
        {
         "alignmentgroup": "True",
         "hovertemplate": "Marca=Motorola<br>Loja=%{x}<br>Quantidade=%{y}<extra></extra>",
         "legendgroup": "Motorola",
         "marker": {
          "color": "#ab63fa",
          "pattern": {
           "shape": ""
          }
         },
         "name": "Motorola",
         "offsetgroup": "Motorola",
         "orientation": "v",
         "showlegend": true,
         "textposition": "auto",
         "type": "bar",
         "x": [
          "Amazon",
          "Americanas",
          "Casas Bahia",
          "Magazine Luiza",
          "Submarino"
         ],
         "xaxis": "x",
         "y": [
          19,
          54,
          58,
          67,
          55
         ],
         "yaxis": "y"
        },
        {
         "alignmentgroup": "True",
         "hovertemplate": "Marca=Positivo<br>Loja=%{x}<br>Quantidade=%{y}<extra></extra>",
         "legendgroup": "Positivo",
         "marker": {
          "color": "#FFA15A",
          "pattern": {
           "shape": ""
          }
         },
         "name": "Positivo",
         "offsetgroup": "Positivo",
         "orientation": "v",
         "showlegend": true,
         "textposition": "auto",
         "type": "bar",
         "x": [
          "Amazon",
          "Casas Bahia",
          "Magazine Luiza"
         ],
         "xaxis": "x",
         "y": [
          8,
          5,
          5
         ],
         "yaxis": "y"
        },
        {
         "alignmentgroup": "True",
         "hovertemplate": "Marca=Samsung<br>Loja=%{x}<br>Quantidade=%{y}<extra></extra>",
         "legendgroup": "Samsung",
         "marker": {
          "color": "#19d3f3",
          "pattern": {
           "shape": ""
          }
         },
         "name": "Samsung",
         "offsetgroup": "Samsung",
         "orientation": "v",
         "showlegend": true,
         "textposition": "auto",
         "type": "bar",
         "x": [
          "Amazon",
          "Americanas",
          "Casas Bahia",
          "Magazine Luiza",
          "Submarino"
         ],
         "xaxis": "x",
         "y": [
          37,
          114,
          82,
          107,
          132
         ],
         "yaxis": "y"
        },
        {
         "alignmentgroup": "True",
         "hovertemplate": "Marca=Xiaomi<br>Loja=%{x}<br>Quantidade=%{y}<extra></extra>",
         "legendgroup": "Xiaomi",
         "marker": {
          "color": "#FF6692",
          "pattern": {
           "shape": ""
          }
         },
         "name": "Xiaomi",
         "offsetgroup": "Xiaomi",
         "orientation": "v",
         "showlegend": true,
         "textposition": "auto",
         "type": "bar",
         "x": [
          "Amazon",
          "Americanas",
          "Casas Bahia",
          "Magazine Luiza"
         ],
         "xaxis": "x",
         "y": [
          118,
          36,
          31,
          19
         ],
         "yaxis": "y"
        },
        {
         "alignmentgroup": "True",
         "hovertemplate": "Marca=Sony<br>Loja=%{x}<br>Quantidade=%{y}<extra></extra>",
         "legendgroup": "Sony",
         "marker": {
          "color": "#B6E880",
          "pattern": {
           "shape": ""
          }
         },
         "name": "Sony",
         "offsetgroup": "Sony",
         "orientation": "v",
         "showlegend": true,
         "textposition": "auto",
         "type": "bar",
         "x": [
          "Casas Bahia"
         ],
         "xaxis": "x",
         "y": [
          3
         ],
         "yaxis": "y"
        },
        {
         "alignmentgroup": "True",
         "hovertemplate": "Marca=Tcl<br>Loja=%{x}<br>Quantidade=%{y}<extra></extra>",
         "legendgroup": "Tcl",
         "marker": {
          "color": "#FF97FF",
          "pattern": {
           "shape": ""
          }
         },
         "name": "Tcl",
         "offsetgroup": "Tcl",
         "orientation": "v",
         "showlegend": true,
         "textposition": "auto",
         "type": "bar",
         "x": [
          "Casas Bahia"
         ],
         "xaxis": "x",
         "y": [
          2
         ],
         "yaxis": "y"
        },
        {
         "alignmentgroup": "True",
         "hovertemplate": "Marca=Lenovo<br>Loja=%{x}<br>Quantidade=%{y}<extra></extra>",
         "legendgroup": "Lenovo",
         "marker": {
          "color": "#FECB52",
          "pattern": {
           "shape": ""
          }
         },
         "name": "Lenovo",
         "offsetgroup": "Lenovo",
         "orientation": "v",
         "showlegend": true,
         "textposition": "auto",
         "type": "bar",
         "x": [
          "Magazine Luiza"
         ],
         "xaxis": "x",
         "y": [
          1
         ],
         "yaxis": "y"
        },
        {
         "alignmentgroup": "True",
         "hovertemplate": "Marca=Philco<br>Loja=%{x}<br>Quantidade=%{y}<extra></extra>",
         "legendgroup": "Philco",
         "marker": {
          "color": "#636efa",
          "pattern": {
           "shape": ""
          }
         },
         "name": "Philco",
         "offsetgroup": "Philco",
         "orientation": "v",
         "showlegend": true,
         "textposition": "auto",
         "type": "bar",
         "x": [
          "Magazine Luiza"
         ],
         "xaxis": "x",
         "y": [
          4
         ],
         "yaxis": "y"
        }
       ],
       "layout": {
        "barmode": "relative",
        "legend": {
         "title": {
          "text": "Marca"
         },
         "tracegroupgap": 0
        },
        "template": {
         "data": {
          "bar": [
           {
            "error_x": {
             "color": "#2a3f5f"
            },
            "error_y": {
             "color": "#2a3f5f"
            },
            "marker": {
             "line": {
              "color": "#E5ECF6",
              "width": 0.5
             },
             "pattern": {
              "fillmode": "overlay",
              "size": 10,
              "solidity": 0.2
             }
            },
            "type": "bar"
           }
          ],
          "barpolar": [
           {
            "marker": {
             "line": {
              "color": "#E5ECF6",
              "width": 0.5
             },
             "pattern": {
              "fillmode": "overlay",
              "size": 10,
              "solidity": 0.2
             }
            },
            "type": "barpolar"
           }
          ],
          "carpet": [
           {
            "aaxis": {
             "endlinecolor": "#2a3f5f",
             "gridcolor": "white",
             "linecolor": "white",
             "minorgridcolor": "white",
             "startlinecolor": "#2a3f5f"
            },
            "baxis": {
             "endlinecolor": "#2a3f5f",
             "gridcolor": "white",
             "linecolor": "white",
             "minorgridcolor": "white",
             "startlinecolor": "#2a3f5f"
            },
            "type": "carpet"
           }
          ],
          "choropleth": [
           {
            "colorbar": {
             "outlinewidth": 0,
             "ticks": ""
            },
            "type": "choropleth"
           }
          ],
          "contour": [
           {
            "colorbar": {
             "outlinewidth": 0,
             "ticks": ""
            },
            "colorscale": [
             [
              0,
              "#0d0887"
             ],
             [
              0.1111111111111111,
              "#46039f"
             ],
             [
              0.2222222222222222,
              "#7201a8"
             ],
             [
              0.3333333333333333,
              "#9c179e"
             ],
             [
              0.4444444444444444,
              "#bd3786"
             ],
             [
              0.5555555555555556,
              "#d8576b"
             ],
             [
              0.6666666666666666,
              "#ed7953"
             ],
             [
              0.7777777777777778,
              "#fb9f3a"
             ],
             [
              0.8888888888888888,
              "#fdca26"
             ],
             [
              1,
              "#f0f921"
             ]
            ],
            "type": "contour"
           }
          ],
          "contourcarpet": [
           {
            "colorbar": {
             "outlinewidth": 0,
             "ticks": ""
            },
            "type": "contourcarpet"
           }
          ],
          "heatmap": [
           {
            "colorbar": {
             "outlinewidth": 0,
             "ticks": ""
            },
            "colorscale": [
             [
              0,
              "#0d0887"
             ],
             [
              0.1111111111111111,
              "#46039f"
             ],
             [
              0.2222222222222222,
              "#7201a8"
             ],
             [
              0.3333333333333333,
              "#9c179e"
             ],
             [
              0.4444444444444444,
              "#bd3786"
             ],
             [
              0.5555555555555556,
              "#d8576b"
             ],
             [
              0.6666666666666666,
              "#ed7953"
             ],
             [
              0.7777777777777778,
              "#fb9f3a"
             ],
             [
              0.8888888888888888,
              "#fdca26"
             ],
             [
              1,
              "#f0f921"
             ]
            ],
            "type": "heatmap"
           }
          ],
          "heatmapgl": [
           {
            "colorbar": {
             "outlinewidth": 0,
             "ticks": ""
            },
            "colorscale": [
             [
              0,
              "#0d0887"
             ],
             [
              0.1111111111111111,
              "#46039f"
             ],
             [
              0.2222222222222222,
              "#7201a8"
             ],
             [
              0.3333333333333333,
              "#9c179e"
             ],
             [
              0.4444444444444444,
              "#bd3786"
             ],
             [
              0.5555555555555556,
              "#d8576b"
             ],
             [
              0.6666666666666666,
              "#ed7953"
             ],
             [
              0.7777777777777778,
              "#fb9f3a"
             ],
             [
              0.8888888888888888,
              "#fdca26"
             ],
             [
              1,
              "#f0f921"
             ]
            ],
            "type": "heatmapgl"
           }
          ],
          "histogram": [
           {
            "marker": {
             "pattern": {
              "fillmode": "overlay",
              "size": 10,
              "solidity": 0.2
             }
            },
            "type": "histogram"
           }
          ],
          "histogram2d": [
           {
            "colorbar": {
             "outlinewidth": 0,
             "ticks": ""
            },
            "colorscale": [
             [
              0,
              "#0d0887"
             ],
             [
              0.1111111111111111,
              "#46039f"
             ],
             [
              0.2222222222222222,
              "#7201a8"
             ],
             [
              0.3333333333333333,
              "#9c179e"
             ],
             [
              0.4444444444444444,
              "#bd3786"
             ],
             [
              0.5555555555555556,
              "#d8576b"
             ],
             [
              0.6666666666666666,
              "#ed7953"
             ],
             [
              0.7777777777777778,
              "#fb9f3a"
             ],
             [
              0.8888888888888888,
              "#fdca26"
             ],
             [
              1,
              "#f0f921"
             ]
            ],
            "type": "histogram2d"
           }
          ],
          "histogram2dcontour": [
           {
            "colorbar": {
             "outlinewidth": 0,
             "ticks": ""
            },
            "colorscale": [
             [
              0,
              "#0d0887"
             ],
             [
              0.1111111111111111,
              "#46039f"
             ],
             [
              0.2222222222222222,
              "#7201a8"
             ],
             [
              0.3333333333333333,
              "#9c179e"
             ],
             [
              0.4444444444444444,
              "#bd3786"
             ],
             [
              0.5555555555555556,
              "#d8576b"
             ],
             [
              0.6666666666666666,
              "#ed7953"
             ],
             [
              0.7777777777777778,
              "#fb9f3a"
             ],
             [
              0.8888888888888888,
              "#fdca26"
             ],
             [
              1,
              "#f0f921"
             ]
            ],
            "type": "histogram2dcontour"
           }
          ],
          "mesh3d": [
           {
            "colorbar": {
             "outlinewidth": 0,
             "ticks": ""
            },
            "type": "mesh3d"
           }
          ],
          "parcoords": [
           {
            "line": {
             "colorbar": {
              "outlinewidth": 0,
              "ticks": ""
             }
            },
            "type": "parcoords"
           }
          ],
          "pie": [
           {
            "automargin": true,
            "type": "pie"
           }
          ],
          "scatter": [
           {
            "marker": {
             "colorbar": {
              "outlinewidth": 0,
              "ticks": ""
             }
            },
            "type": "scatter"
           }
          ],
          "scatter3d": [
           {
            "line": {
             "colorbar": {
              "outlinewidth": 0,
              "ticks": ""
             }
            },
            "marker": {
             "colorbar": {
              "outlinewidth": 0,
              "ticks": ""
             }
            },
            "type": "scatter3d"
           }
          ],
          "scattercarpet": [
           {
            "marker": {
             "colorbar": {
              "outlinewidth": 0,
              "ticks": ""
             }
            },
            "type": "scattercarpet"
           }
          ],
          "scattergeo": [
           {
            "marker": {
             "colorbar": {
              "outlinewidth": 0,
              "ticks": ""
             }
            },
            "type": "scattergeo"
           }
          ],
          "scattergl": [
           {
            "marker": {
             "colorbar": {
              "outlinewidth": 0,
              "ticks": ""
             }
            },
            "type": "scattergl"
           }
          ],
          "scattermapbox": [
           {
            "marker": {
             "colorbar": {
              "outlinewidth": 0,
              "ticks": ""
             }
            },
            "type": "scattermapbox"
           }
          ],
          "scatterpolar": [
           {
            "marker": {
             "colorbar": {
              "outlinewidth": 0,
              "ticks": ""
             }
            },
            "type": "scatterpolar"
           }
          ],
          "scatterpolargl": [
           {
            "marker": {
             "colorbar": {
              "outlinewidth": 0,
              "ticks": ""
             }
            },
            "type": "scatterpolargl"
           }
          ],
          "scatterternary": [
           {
            "marker": {
             "colorbar": {
              "outlinewidth": 0,
              "ticks": ""
             }
            },
            "type": "scatterternary"
           }
          ],
          "surface": [
           {
            "colorbar": {
             "outlinewidth": 0,
             "ticks": ""
            },
            "colorscale": [
             [
              0,
              "#0d0887"
             ],
             [
              0.1111111111111111,
              "#46039f"
             ],
             [
              0.2222222222222222,
              "#7201a8"
             ],
             [
              0.3333333333333333,
              "#9c179e"
             ],
             [
              0.4444444444444444,
              "#bd3786"
             ],
             [
              0.5555555555555556,
              "#d8576b"
             ],
             [
              0.6666666666666666,
              "#ed7953"
             ],
             [
              0.7777777777777778,
              "#fb9f3a"
             ],
             [
              0.8888888888888888,
              "#fdca26"
             ],
             [
              1,
              "#f0f921"
             ]
            ],
            "type": "surface"
           }
          ],
          "table": [
           {
            "cells": {
             "fill": {
              "color": "#EBF0F8"
             },
             "line": {
              "color": "white"
             }
            },
            "header": {
             "fill": {
              "color": "#C8D4E3"
             },
             "line": {
              "color": "white"
             }
            },
            "type": "table"
           }
          ]
         },
         "layout": {
          "annotationdefaults": {
           "arrowcolor": "#2a3f5f",
           "arrowhead": 0,
           "arrowwidth": 1
          },
          "autotypenumbers": "strict",
          "coloraxis": {
           "colorbar": {
            "outlinewidth": 0,
            "ticks": ""
           }
          },
          "colorscale": {
           "diverging": [
            [
             0,
             "#8e0152"
            ],
            [
             0.1,
             "#c51b7d"
            ],
            [
             0.2,
             "#de77ae"
            ],
            [
             0.3,
             "#f1b6da"
            ],
            [
             0.4,
             "#fde0ef"
            ],
            [
             0.5,
             "#f7f7f7"
            ],
            [
             0.6,
             "#e6f5d0"
            ],
            [
             0.7,
             "#b8e186"
            ],
            [
             0.8,
             "#7fbc41"
            ],
            [
             0.9,
             "#4d9221"
            ],
            [
             1,
             "#276419"
            ]
           ],
           "sequential": [
            [
             0,
             "#0d0887"
            ],
            [
             0.1111111111111111,
             "#46039f"
            ],
            [
             0.2222222222222222,
             "#7201a8"
            ],
            [
             0.3333333333333333,
             "#9c179e"
            ],
            [
             0.4444444444444444,
             "#bd3786"
            ],
            [
             0.5555555555555556,
             "#d8576b"
            ],
            [
             0.6666666666666666,
             "#ed7953"
            ],
            [
             0.7777777777777778,
             "#fb9f3a"
            ],
            [
             0.8888888888888888,
             "#fdca26"
            ],
            [
             1,
             "#f0f921"
            ]
           ],
           "sequentialminus": [
            [
             0,
             "#0d0887"
            ],
            [
             0.1111111111111111,
             "#46039f"
            ],
            [
             0.2222222222222222,
             "#7201a8"
            ],
            [
             0.3333333333333333,
             "#9c179e"
            ],
            [
             0.4444444444444444,
             "#bd3786"
            ],
            [
             0.5555555555555556,
             "#d8576b"
            ],
            [
             0.6666666666666666,
             "#ed7953"
            ],
            [
             0.7777777777777778,
             "#fb9f3a"
            ],
            [
             0.8888888888888888,
             "#fdca26"
            ],
            [
             1,
             "#f0f921"
            ]
           ]
          },
          "colorway": [
           "#636efa",
           "#EF553B",
           "#00cc96",
           "#ab63fa",
           "#FFA15A",
           "#19d3f3",
           "#FF6692",
           "#B6E880",
           "#FF97FF",
           "#FECB52"
          ],
          "font": {
           "color": "#2a3f5f"
          },
          "geo": {
           "bgcolor": "white",
           "lakecolor": "white",
           "landcolor": "#E5ECF6",
           "showlakes": true,
           "showland": true,
           "subunitcolor": "white"
          },
          "hoverlabel": {
           "align": "left"
          },
          "hovermode": "closest",
          "mapbox": {
           "style": "light"
          },
          "paper_bgcolor": "white",
          "plot_bgcolor": "#E5ECF6",
          "polar": {
           "angularaxis": {
            "gridcolor": "white",
            "linecolor": "white",
            "ticks": ""
           },
           "bgcolor": "#E5ECF6",
           "radialaxis": {
            "gridcolor": "white",
            "linecolor": "white",
            "ticks": ""
           }
          },
          "scene": {
           "xaxis": {
            "backgroundcolor": "#E5ECF6",
            "gridcolor": "white",
            "gridwidth": 2,
            "linecolor": "white",
            "showbackground": true,
            "ticks": "",
            "zerolinecolor": "white"
           },
           "yaxis": {
            "backgroundcolor": "#E5ECF6",
            "gridcolor": "white",
            "gridwidth": 2,
            "linecolor": "white",
            "showbackground": true,
            "ticks": "",
            "zerolinecolor": "white"
           },
           "zaxis": {
            "backgroundcolor": "#E5ECF6",
            "gridcolor": "white",
            "gridwidth": 2,
            "linecolor": "white",
            "showbackground": true,
            "ticks": "",
            "zerolinecolor": "white"
           }
          },
          "shapedefaults": {
           "line": {
            "color": "#2a3f5f"
           }
          },
          "ternary": {
           "aaxis": {
            "gridcolor": "white",
            "linecolor": "white",
            "ticks": ""
           },
           "baxis": {
            "gridcolor": "white",
            "linecolor": "white",
            "ticks": ""
           },
           "bgcolor": "#E5ECF6",
           "caxis": {
            "gridcolor": "white",
            "linecolor": "white",
            "ticks": ""
           }
          },
          "title": {
           "x": 0.05
          },
          "xaxis": {
           "automargin": true,
           "gridcolor": "white",
           "linecolor": "white",
           "ticks": "",
           "title": {
            "standoff": 15
           },
           "zerolinecolor": "white",
           "zerolinewidth": 2
          },
          "yaxis": {
           "automargin": true,
           "gridcolor": "white",
           "linecolor": "white",
           "ticks": "",
           "title": {
            "standoff": 15
           },
           "zerolinecolor": "white",
           "zerolinewidth": 2
          }
         }
        },
        "title": {
         "text": "Contagem de marcas de Smartphones por loja"
        },
        "xaxis": {
         "anchor": "y",
         "domain": [
          0,
          1
         ],
         "title": {
          "text": "Loja"
         }
        },
        "yaxis": {
         "anchor": "x",
         "domain": [
          0,
          1
         ],
         "title": {
          "text": "Quantidade"
         }
        }
       }
      }
     },
     "metadata": {},
     "output_type": "display_data"
    }
   ],
   "source": [
    "fig = px.bar(groupby_loja_marca, x='Loja',y='Quantidade',  color=\"Marca\", title=\"Contagem de marcas de Smartphones por loja\")\n",
    "fig.show()"
   ]
  },
  {
   "cell_type": "code",
   "execution_count": 31,
   "metadata": {},
   "outputs": [
    {
     "data": {
      "text/html": [
       "<div>\n",
       "<style scoped>\n",
       "    .dataframe tbody tr th:only-of-type {\n",
       "        vertical-align: middle;\n",
       "    }\n",
       "\n",
       "    .dataframe tbody tr th {\n",
       "        vertical-align: top;\n",
       "    }\n",
       "\n",
       "    .dataframe thead th {\n",
       "        text-align: right;\n",
       "    }\n",
       "</style>\n",
       "<table border=\"1\" class=\"dataframe\">\n",
       "  <thead>\n",
       "    <tr style=\"text-align: right;\">\n",
       "      <th></th>\n",
       "      <th>Descrição</th>\n",
       "      <th>Preço</th>\n",
       "      <th>TotalReviews</th>\n",
       "      <th>Loja</th>\n",
       "      <th>Categoria</th>\n",
       "      <th>Marca</th>\n",
       "    </tr>\n",
       "  </thead>\n",
       "  <tbody>\n",
       "    <tr>\n",
       "      <th>166</th>\n",
       "      <td>Smartphone LG K41S 32GB, RAM de 3GB, Tela de 6...</td>\n",
       "      <td>799.0</td>\n",
       "      <td>1371.0</td>\n",
       "      <td>Amazon</td>\n",
       "      <td>Smartphone</td>\n",
       "      <td>Lg</td>\n",
       "    </tr>\n",
       "    <tr>\n",
       "      <th>167</th>\n",
       "      <td>Smartphone Positivo Q20, 4Gb Ram, 128Gb, Tela ...</td>\n",
       "      <td>799.0</td>\n",
       "      <td>853.0</td>\n",
       "      <td>Amazon</td>\n",
       "      <td>Smartphone</td>\n",
       "      <td>Positivo</td>\n",
       "    </tr>\n",
       "    <tr>\n",
       "      <th>168</th>\n",
       "      <td>Smartphone ASUS Zenfone Max Pro M2, 6GB 64GB, ...</td>\n",
       "      <td>1299.0</td>\n",
       "      <td>452.0</td>\n",
       "      <td>Amazon</td>\n",
       "      <td>Smartphone</td>\n",
       "      <td>Asus</td>\n",
       "    </tr>\n",
       "    <tr>\n",
       "      <th>169</th>\n",
       "      <td>Smartphone Xiaomi Redmi 9 India 64GB 4GB RAM T...</td>\n",
       "      <td>1005.9</td>\n",
       "      <td>101.0</td>\n",
       "      <td>Amazon</td>\n",
       "      <td>Smartphone</td>\n",
       "      <td>Xiaomi</td>\n",
       "    </tr>\n",
       "    <tr>\n",
       "      <th>170</th>\n",
       "      <td>Smartphone Xiaomi Redmi Note 8 4RAM 64GB Tela ...</td>\n",
       "      <td>1199.0</td>\n",
       "      <td>40979.0</td>\n",
       "      <td>Amazon</td>\n",
       "      <td>Smartphone</td>\n",
       "      <td>Xiaomi</td>\n",
       "    </tr>\n",
       "    <tr>\n",
       "      <th>...</th>\n",
       "      <td>...</td>\n",
       "      <td>...</td>\n",
       "      <td>...</td>\n",
       "      <td>...</td>\n",
       "      <td>...</td>\n",
       "      <td>...</td>\n",
       "    </tr>\n",
       "    <tr>\n",
       "      <th>3135</th>\n",
       "      <td>Smartphone Samsung Galaxy A32 128GB 4G Wi-Fi T...</td>\n",
       "      <td>1479.0</td>\n",
       "      <td>2.0</td>\n",
       "      <td>Submarino</td>\n",
       "      <td>Smartphone</td>\n",
       "      <td>Samsung</td>\n",
       "    </tr>\n",
       "    <tr>\n",
       "      <th>3136</th>\n",
       "      <td>iPhone 11 Apple (128GB) (PRODUCT)RED tela 6,1\"...</td>\n",
       "      <td>4552.0</td>\n",
       "      <td>2.0</td>\n",
       "      <td>Submarino</td>\n",
       "      <td>Smartphone</td>\n",
       "      <td>Apple</td>\n",
       "    </tr>\n",
       "    <tr>\n",
       "      <th>3137</th>\n",
       "      <td>iPhone 11 Apple (64GB) (PRODUCT)RED Tela 6,1\" ...</td>\n",
       "      <td>4249.0</td>\n",
       "      <td>13.0</td>\n",
       "      <td>Submarino</td>\n",
       "      <td>Smartphone</td>\n",
       "      <td>Apple</td>\n",
       "    </tr>\n",
       "    <tr>\n",
       "      <th>3138</th>\n",
       "      <td>Smartphone Samsung Galaxy A02s 32GB 4G Wi-Fi T...</td>\n",
       "      <td>839.0</td>\n",
       "      <td>9.0</td>\n",
       "      <td>Submarino</td>\n",
       "      <td>Smartphone</td>\n",
       "      <td>Samsung</td>\n",
       "    </tr>\n",
       "    <tr>\n",
       "      <th>3139</th>\n",
       "      <td>Smartphone Samsung Galaxy A12 64GB 4G Wi-Fi Te...</td>\n",
       "      <td>999.0</td>\n",
       "      <td>10.0</td>\n",
       "      <td>Submarino</td>\n",
       "      <td>Smartphone</td>\n",
       "      <td>Samsung</td>\n",
       "    </tr>\n",
       "  </tbody>\n",
       "</table>\n",
       "<p>1129 rows × 6 columns</p>\n",
       "</div>"
      ],
      "text/plain": [
       "                                              Descrição   Preço  TotalReviews  \\\n",
       "166   Smartphone LG K41S 32GB, RAM de 3GB, Tela de 6...   799.0        1371.0   \n",
       "167   Smartphone Positivo Q20, 4Gb Ram, 128Gb, Tela ...   799.0         853.0   \n",
       "168   Smartphone ASUS Zenfone Max Pro M2, 6GB 64GB, ...  1299.0         452.0   \n",
       "169   Smartphone Xiaomi Redmi 9 India 64GB 4GB RAM T...  1005.9         101.0   \n",
       "170   Smartphone Xiaomi Redmi Note 8 4RAM 64GB Tela ...  1199.0       40979.0   \n",
       "...                                                 ...     ...           ...   \n",
       "3135  Smartphone Samsung Galaxy A32 128GB 4G Wi-Fi T...  1479.0           2.0   \n",
       "3136  iPhone 11 Apple (128GB) (PRODUCT)RED tela 6,1\"...  4552.0           2.0   \n",
       "3137  iPhone 11 Apple (64GB) (PRODUCT)RED Tela 6,1\" ...  4249.0          13.0   \n",
       "3138  Smartphone Samsung Galaxy A02s 32GB 4G Wi-Fi T...   839.0           9.0   \n",
       "3139  Smartphone Samsung Galaxy A12 64GB 4G Wi-Fi Te...   999.0          10.0   \n",
       "\n",
       "           Loja   Categoria     Marca  \n",
       "166      Amazon  Smartphone        Lg  \n",
       "167      Amazon  Smartphone  Positivo  \n",
       "168      Amazon  Smartphone      Asus  \n",
       "169      Amazon  Smartphone    Xiaomi  \n",
       "170      Amazon  Smartphone    Xiaomi  \n",
       "...         ...         ...       ...  \n",
       "3135  Submarino  Smartphone   Samsung  \n",
       "3136  Submarino  Smartphone     Apple  \n",
       "3137  Submarino  Smartphone     Apple  \n",
       "3138  Submarino  Smartphone   Samsung  \n",
       "3139  Submarino  Smartphone   Samsung  \n",
       "\n",
       "[1129 rows x 6 columns]"
      ]
     },
     "execution_count": 31,
     "metadata": {},
     "output_type": "execute_result"
    }
   ],
   "source": [
    "dados_gerais_smartphone"
   ]
  },
  {
   "cell_type": "code",
   "execution_count": 32,
   "metadata": {},
   "outputs": [
    {
     "data": {
      "text/html": [
       "<div>\n",
       "<style scoped>\n",
       "    .dataframe tbody tr th:only-of-type {\n",
       "        vertical-align: middle;\n",
       "    }\n",
       "\n",
       "    .dataframe tbody tr th {\n",
       "        vertical-align: top;\n",
       "    }\n",
       "\n",
       "    .dataframe thead th {\n",
       "        text-align: right;\n",
       "    }\n",
       "</style>\n",
       "<table border=\"1\" class=\"dataframe\">\n",
       "  <thead>\n",
       "    <tr style=\"text-align: right;\">\n",
       "      <th></th>\n",
       "      <th>Descrição</th>\n",
       "      <th>Preço</th>\n",
       "      <th>TotalReviews</th>\n",
       "      <th>Loja</th>\n",
       "      <th>Categoria</th>\n",
       "      <th>Marca</th>\n",
       "    </tr>\n",
       "  </thead>\n",
       "  <tbody>\n",
       "    <tr>\n",
       "      <th>175</th>\n",
       "      <td>Smartphone Xiaomi Redmi 9a 32gb 2gb Ram 4 Câme...</td>\n",
       "      <td>829.00</td>\n",
       "      <td>96.0</td>\n",
       "      <td>Amazon</td>\n",
       "      <td>Smartphone</td>\n",
       "      <td>Xiaomi</td>\n",
       "    </tr>\n",
       "    <tr>\n",
       "      <th>188</th>\n",
       "      <td>Celular Xiaomi Redmi 9A Versão Global 32gb / 2...</td>\n",
       "      <td>829.00</td>\n",
       "      <td>869.0</td>\n",
       "      <td>Amazon</td>\n",
       "      <td>Smartphone</td>\n",
       "      <td>Xiaomi</td>\n",
       "    </tr>\n",
       "    <tr>\n",
       "      <th>190</th>\n",
       "      <td>Celular Motorola Moto E6s Cinza Titanium 32gb ...</td>\n",
       "      <td>729.88</td>\n",
       "      <td>76.0</td>\n",
       "      <td>Amazon</td>\n",
       "      <td>Smartphone</td>\n",
       "      <td>Motorola</td>\n",
       "    </tr>\n",
       "    <tr>\n",
       "      <th>272</th>\n",
       "      <td>Celular Samsung Galaxy A10s Preto 32gb Android...</td>\n",
       "      <td>990.00</td>\n",
       "      <td>149.0</td>\n",
       "      <td>Amazon</td>\n",
       "      <td>Smartphone</td>\n",
       "      <td>Samsung</td>\n",
       "    </tr>\n",
       "    <tr>\n",
       "      <th>295</th>\n",
       "      <td>Smartphone Samsung Galaxy A01 Core', 32gb, Qua...</td>\n",
       "      <td>916.98</td>\n",
       "      <td>97.0</td>\n",
       "      <td>Amazon</td>\n",
       "      <td>Smartphone</td>\n",
       "      <td>Samsung</td>\n",
       "    </tr>\n",
       "    <tr>\n",
       "      <th>296</th>\n",
       "      <td>Celular Motorola Moto E7 Power Azul Metalico 3...</td>\n",
       "      <td>829.00</td>\n",
       "      <td>25.0</td>\n",
       "      <td>Amazon</td>\n",
       "      <td>Smartphone</td>\n",
       "      <td>Motorola</td>\n",
       "    </tr>\n",
       "    <tr>\n",
       "      <th>328</th>\n",
       "      <td>Celular Motorola Moto E7 Aquamarine 32gb Tela ...</td>\n",
       "      <td>959.92</td>\n",
       "      <td>4.0</td>\n",
       "      <td>Amazon</td>\n",
       "      <td>Smartphone</td>\n",
       "      <td>Motorola</td>\n",
       "    </tr>\n",
       "    <tr>\n",
       "      <th>332</th>\n",
       "      <td>Celular Xiaomi Redmi 9A Versão Global 32gb / 2...</td>\n",
       "      <td>799.00</td>\n",
       "      <td>609.0</td>\n",
       "      <td>Amazon</td>\n",
       "      <td>Smartphone</td>\n",
       "      <td>Xiaomi</td>\n",
       "    </tr>\n",
       "    <tr>\n",
       "      <th>356</th>\n",
       "      <td>Smartphone Motorola E6 Play, 5.5, 32gb, Androi...</td>\n",
       "      <td>749.00</td>\n",
       "      <td>89.0</td>\n",
       "      <td>Amazon</td>\n",
       "      <td>Smartphone</td>\n",
       "      <td>Motorola</td>\n",
       "    </tr>\n",
       "    <tr>\n",
       "      <th>897</th>\n",
       "      <td>Celular Xiaomi Redmi 9a 32gb 2gb Ram Versão Gl...</td>\n",
       "      <td>891.00</td>\n",
       "      <td>5.0</td>\n",
       "      <td>Americanas</td>\n",
       "      <td>Smartphone</td>\n",
       "      <td>Xiaomi</td>\n",
       "    </tr>\n",
       "    <tr>\n",
       "      <th>1774</th>\n",
       "      <td>Smartphone Samsung Galaxy M02 32gb 3gb Ram Dua...</td>\n",
       "      <td>4702.15</td>\n",
       "      <td>0.0</td>\n",
       "      <td>Casas Bahia</td>\n",
       "      <td>Smartphone</td>\n",
       "      <td>Samsung</td>\n",
       "    </tr>\n",
       "    <tr>\n",
       "      <th>1783</th>\n",
       "      <td>Smartphone Samsung Galaxy M02 32gb 3gb Ram Dua...</td>\n",
       "      <td>499.00</td>\n",
       "      <td>0.0</td>\n",
       "      <td>Casas Bahia</td>\n",
       "      <td>Smartphone</td>\n",
       "      <td>Samsung</td>\n",
       "    </tr>\n",
       "    <tr>\n",
       "      <th>1785</th>\n",
       "      <td>Smartphone Samsung Galaxy M02 32gb 3gb Ram Dua...</td>\n",
       "      <td>5443.00</td>\n",
       "      <td>0.0</td>\n",
       "      <td>Casas Bahia</td>\n",
       "      <td>Smartphone</td>\n",
       "      <td>Samsung</td>\n",
       "    </tr>\n",
       "    <tr>\n",
       "      <th>1817</th>\n",
       "      <td>Smartphone Samsung Galaxy A10s 32gb vermelho</td>\n",
       "      <td>2099.99</td>\n",
       "      <td>0.0</td>\n",
       "      <td>Casas Bahia</td>\n",
       "      <td>Smartphone</td>\n",
       "      <td>Samsung</td>\n",
       "    </tr>\n",
       "    <tr>\n",
       "      <th>2327</th>\n",
       "      <td>Smartphone LG K41s 3gb Ram 32gb 4g Dual Chip O...</td>\n",
       "      <td>748.59</td>\n",
       "      <td>13.0</td>\n",
       "      <td>Magazine Luiza</td>\n",
       "      <td>Smartphone</td>\n",
       "      <td>Lg</td>\n",
       "    </tr>\n",
       "    <tr>\n",
       "      <th>2469</th>\n",
       "      <td>Celular Do Idoso Positivo Letras Grandes 32gb Sos</td>\n",
       "      <td>664.05</td>\n",
       "      <td>8.0</td>\n",
       "      <td>Magazine Luiza</td>\n",
       "      <td>Smartphone</td>\n",
       "      <td>Positivo</td>\n",
       "    </tr>\n",
       "    <tr>\n",
       "      <th>2503</th>\n",
       "      <td>Smartphone Positivo Twist 4 Fit 32gb Android 1...</td>\n",
       "      <td>566.10</td>\n",
       "      <td>0.0</td>\n",
       "      <td>Magazine Luiza</td>\n",
       "      <td>Smartphone</td>\n",
       "      <td>Positivo</td>\n",
       "    </tr>\n",
       "  </tbody>\n",
       "</table>\n",
       "</div>"
      ],
      "text/plain": [
       "                                              Descrição    Preço  \\\n",
       "175   Smartphone Xiaomi Redmi 9a 32gb 2gb Ram 4 Câme...   829.00   \n",
       "188   Celular Xiaomi Redmi 9A Versão Global 32gb / 2...   829.00   \n",
       "190   Celular Motorola Moto E6s Cinza Titanium 32gb ...   729.88   \n",
       "272   Celular Samsung Galaxy A10s Preto 32gb Android...   990.00   \n",
       "295   Smartphone Samsung Galaxy A01 Core', 32gb, Qua...   916.98   \n",
       "296   Celular Motorola Moto E7 Power Azul Metalico 3...   829.00   \n",
       "328   Celular Motorola Moto E7 Aquamarine 32gb Tela ...   959.92   \n",
       "332   Celular Xiaomi Redmi 9A Versão Global 32gb / 2...   799.00   \n",
       "356   Smartphone Motorola E6 Play, 5.5, 32gb, Androi...   749.00   \n",
       "897   Celular Xiaomi Redmi 9a 32gb 2gb Ram Versão Gl...   891.00   \n",
       "1774  Smartphone Samsung Galaxy M02 32gb 3gb Ram Dua...  4702.15   \n",
       "1783  Smartphone Samsung Galaxy M02 32gb 3gb Ram Dua...   499.00   \n",
       "1785  Smartphone Samsung Galaxy M02 32gb 3gb Ram Dua...  5443.00   \n",
       "1817       Smartphone Samsung Galaxy A10s 32gb vermelho  2099.99   \n",
       "2327  Smartphone LG K41s 3gb Ram 32gb 4g Dual Chip O...   748.59   \n",
       "2469  Celular Do Idoso Positivo Letras Grandes 32gb Sos   664.05   \n",
       "2503  Smartphone Positivo Twist 4 Fit 32gb Android 1...   566.10   \n",
       "\n",
       "      TotalReviews            Loja   Categoria     Marca  \n",
       "175           96.0          Amazon  Smartphone    Xiaomi  \n",
       "188          869.0          Amazon  Smartphone    Xiaomi  \n",
       "190           76.0          Amazon  Smartphone  Motorola  \n",
       "272          149.0          Amazon  Smartphone   Samsung  \n",
       "295           97.0          Amazon  Smartphone   Samsung  \n",
       "296           25.0          Amazon  Smartphone  Motorola  \n",
       "328            4.0          Amazon  Smartphone  Motorola  \n",
       "332          609.0          Amazon  Smartphone    Xiaomi  \n",
       "356           89.0          Amazon  Smartphone  Motorola  \n",
       "897            5.0      Americanas  Smartphone    Xiaomi  \n",
       "1774           0.0     Casas Bahia  Smartphone   Samsung  \n",
       "1783           0.0     Casas Bahia  Smartphone   Samsung  \n",
       "1785           0.0     Casas Bahia  Smartphone   Samsung  \n",
       "1817           0.0     Casas Bahia  Smartphone   Samsung  \n",
       "2327          13.0  Magazine Luiza  Smartphone        Lg  \n",
       "2469           8.0  Magazine Luiza  Smartphone  Positivo  \n",
       "2503           0.0  Magazine Luiza  Smartphone  Positivo  "
      ]
     },
     "execution_count": 32,
     "metadata": {},
     "output_type": "execute_result"
    }
   ],
   "source": [
    "dados_gerais_smartphone[dados_gerais_smartphone[\"Descrição\"].str.contains(\"32gb\")]"
   ]
  },
  {
   "cell_type": "code",
   "execution_count": 33,
   "metadata": {},
   "outputs": [],
   "source": [
    "dados_gerais_tv = dados_gerais_marcas[dados_gerais_marcas[\"Categoria\"] == \"TV\"]"
   ]
  },
  {
   "cell_type": "code",
   "execution_count": 34,
   "metadata": {
    "scrolled": true
   },
   "outputs": [
    {
     "data": {
      "text/html": [
       "<div>\n",
       "<style scoped>\n",
       "    .dataframe tbody tr th:only-of-type {\n",
       "        vertical-align: middle;\n",
       "    }\n",
       "\n",
       "    .dataframe tbody tr th {\n",
       "        vertical-align: top;\n",
       "    }\n",
       "\n",
       "    .dataframe thead th {\n",
       "        text-align: right;\n",
       "    }\n",
       "</style>\n",
       "<table border=\"1\" class=\"dataframe\">\n",
       "  <thead>\n",
       "    <tr style=\"text-align: right;\">\n",
       "      <th></th>\n",
       "      <th>Descrição</th>\n",
       "      <th>Preço</th>\n",
       "      <th>TotalReviews</th>\n",
       "      <th>Loja</th>\n",
       "      <th>Categoria</th>\n",
       "      <th>Marca</th>\n",
       "    </tr>\n",
       "  </thead>\n",
       "  <tbody>\n",
       "    <tr>\n",
       "      <th>366</th>\n",
       "      <td>Smart TV Philips 50PUG7625 4K UHD, P5, HDR10+,...</td>\n",
       "      <td>2399.00</td>\n",
       "      <td>171.0</td>\n",
       "      <td>Amazon</td>\n",
       "      <td>TV</td>\n",
       "      <td>Philips</td>\n",
       "    </tr>\n",
       "    <tr>\n",
       "      <th>367</th>\n",
       "      <td>Smart TV LED 24\" Monitor LG 24TL520S, Wi-Fi, W...</td>\n",
       "      <td>1052.10</td>\n",
       "      <td>7888.0</td>\n",
       "      <td>Amazon</td>\n",
       "      <td>TV</td>\n",
       "      <td>Lg</td>\n",
       "    </tr>\n",
       "    <tr>\n",
       "      <th>368</th>\n",
       "      <td>Smart TV LED 43\" Android TCl 43s6500 Full HD c...</td>\n",
       "      <td>1998.99</td>\n",
       "      <td>2445.0</td>\n",
       "      <td>Amazon</td>\n",
       "      <td>TV</td>\n",
       "      <td>Tcl</td>\n",
       "    </tr>\n",
       "    <tr>\n",
       "      <th>369</th>\n",
       "      <td>2021 Smart TV LG 55\" 4K OLED55C1 120Hz G-Sync ...</td>\n",
       "      <td>5249.00</td>\n",
       "      <td>35.0</td>\n",
       "      <td>Amazon</td>\n",
       "      <td>TV</td>\n",
       "      <td>Lg</td>\n",
       "    </tr>\n",
       "    <tr>\n",
       "      <th>370</th>\n",
       "      <td>Smart TV LED 43\" 4K UHD LG 43UN731C, 3 HDMI, 2...</td>\n",
       "      <td>2083.11</td>\n",
       "      <td>543.0</td>\n",
       "      <td>Amazon</td>\n",
       "      <td>TV</td>\n",
       "      <td>Lg</td>\n",
       "    </tr>\n",
       "  </tbody>\n",
       "</table>\n",
       "</div>"
      ],
      "text/plain": [
       "                                             Descrição    Preço  TotalReviews  \\\n",
       "366  Smart TV Philips 50PUG7625 4K UHD, P5, HDR10+,...  2399.00         171.0   \n",
       "367  Smart TV LED 24\" Monitor LG 24TL520S, Wi-Fi, W...  1052.10        7888.0   \n",
       "368  Smart TV LED 43\" Android TCl 43s6500 Full HD c...  1998.99        2445.0   \n",
       "369  2021 Smart TV LG 55\" 4K OLED55C1 120Hz G-Sync ...  5249.00          35.0   \n",
       "370  Smart TV LED 43\" 4K UHD LG 43UN731C, 3 HDMI, 2...  2083.11         543.0   \n",
       "\n",
       "       Loja Categoria    Marca  \n",
       "366  Amazon        TV  Philips  \n",
       "367  Amazon        TV       Lg  \n",
       "368  Amazon        TV      Tcl  \n",
       "369  Amazon        TV       Lg  \n",
       "370  Amazon        TV       Lg  "
      ]
     },
     "execution_count": 34,
     "metadata": {},
     "output_type": "execute_result"
    }
   ],
   "source": [
    "dados_gerais_tv.head()"
   ]
  },
  {
   "cell_type": "code",
   "execution_count": 35,
   "metadata": {},
   "outputs": [
    {
     "data": {
      "application/vnd.plotly.v1+json": {
       "config": {
        "plotlyServerURL": "https://plot.ly"
       },
       "data": [
        {
         "alignmentgroup": "True",
         "hovertemplate": "Marca=Philips<br>Loja=%{x}<br>count=%{y}<extra></extra>",
         "legendgroup": "Philips",
         "marker": {
          "color": "#636efa",
          "pattern": {
           "shape": ""
          }
         },
         "name": "Philips",
         "offsetgroup": "Philips",
         "orientation": "v",
         "showlegend": true,
         "textposition": "auto",
         "type": "bar",
         "x": [
          "Amazon",
          "Amazon",
          "Amazon",
          "Amazon",
          "Amazon",
          "Amazon",
          "Amazon",
          "Amazon",
          "Americanas",
          "Americanas",
          "Americanas",
          "Americanas",
          "Americanas",
          "Americanas",
          "Americanas",
          "Americanas",
          "Americanas",
          "Casas Bahia",
          "Casas Bahia",
          "Casas Bahia",
          "Casas Bahia",
          "Casas Bahia",
          "Casas Bahia",
          "Casas Bahia",
          "Casas Bahia",
          "Casas Bahia",
          "Casas Bahia",
          "Casas Bahia",
          "Casas Bahia",
          "Magazine Luiza",
          "Magazine Luiza",
          "Magazine Luiza",
          "Magazine Luiza",
          "Magazine Luiza",
          "Magazine Luiza",
          "Magazine Luiza",
          "Magazine Luiza",
          "Magazine Luiza",
          "Magazine Luiza",
          "Magazine Luiza",
          "Magazine Luiza",
          "Submarino",
          "Submarino",
          "Submarino",
          "Submarino",
          "Submarino",
          "Submarino",
          "Submarino",
          "Submarino",
          "Submarino",
          "Submarino"
         ],
         "xaxis": "x",
         "y": [
          1,
          1,
          1,
          1,
          1,
          1,
          1,
          1,
          1,
          1,
          1,
          1,
          1,
          1,
          1,
          1,
          1,
          1,
          1,
          1,
          1,
          1,
          1,
          1,
          1,
          1,
          1,
          1,
          1,
          1,
          1,
          1,
          1,
          1,
          1,
          1,
          1,
          1,
          1,
          1,
          1,
          1,
          1,
          1,
          1,
          1,
          1,
          1,
          1,
          1,
          1
         ],
         "yaxis": "y"
        },
        {
         "alignmentgroup": "True",
         "hovertemplate": "Marca=Lg<br>Loja=%{x}<br>count=%{y}<extra></extra>",
         "legendgroup": "Lg",
         "marker": {
          "color": "#EF553B",
          "pattern": {
           "shape": ""
          }
         },
         "name": "Lg",
         "offsetgroup": "Lg",
         "orientation": "v",
         "showlegend": true,
         "textposition": "auto",
         "type": "bar",
         "x": [
          "Amazon",
          "Amazon",
          "Amazon",
          "Amazon",
          "Amazon",
          "Amazon",
          "Amazon",
          "Amazon",
          "Amazon",
          "Amazon",
          "Amazon",
          "Amazon",
          "Amazon",
          "Amazon",
          "Amazon",
          "Amazon",
          "Amazon",
          "Amazon",
          "Amazon",
          "Amazon",
          "Amazon",
          "Amazon",
          "Amazon",
          "Amazon",
          "Amazon",
          "Amazon",
          "Amazon",
          "Amazon",
          "Amazon",
          "Amazon",
          "Americanas",
          "Americanas",
          "Americanas",
          "Americanas",
          "Americanas",
          "Americanas",
          "Americanas",
          "Americanas",
          "Americanas",
          "Americanas",
          "Americanas",
          "Americanas",
          "Americanas",
          "Americanas",
          "Americanas",
          "Americanas",
          "Americanas",
          "Americanas",
          "Americanas",
          "Americanas",
          "Americanas",
          "Americanas",
          "Americanas",
          "Americanas",
          "Americanas",
          "Americanas",
          "Americanas",
          "Americanas",
          "Americanas",
          "Americanas",
          "Americanas",
          "Americanas",
          "Americanas",
          "Americanas",
          "Americanas",
          "Americanas",
          "Americanas",
          "Americanas",
          "Americanas",
          "Americanas",
          "Americanas",
          "Americanas",
          "Americanas",
          "Americanas",
          "Americanas",
          "Americanas",
          "Americanas",
          "Americanas",
          "Americanas",
          "Americanas",
          "Americanas",
          "Americanas",
          "Americanas",
          "Americanas",
          "Americanas",
          "Americanas",
          "Americanas",
          "Americanas",
          "Americanas",
          "Americanas",
          "Americanas",
          "Americanas",
          "Americanas",
          "Americanas",
          "Americanas",
          "Americanas",
          "Americanas",
          "Americanas",
          "Americanas",
          "Americanas",
          "Americanas",
          "Americanas",
          "Americanas",
          "Americanas",
          "Americanas",
          "Americanas",
          "Americanas",
          "Americanas",
          "Americanas",
          "Americanas",
          "Americanas",
          "Americanas",
          "Americanas",
          "Americanas",
          "Americanas",
          "Americanas",
          "Casas Bahia",
          "Casas Bahia",
          "Casas Bahia",
          "Casas Bahia",
          "Casas Bahia",
          "Casas Bahia",
          "Casas Bahia",
          "Casas Bahia",
          "Casas Bahia",
          "Casas Bahia",
          "Casas Bahia",
          "Casas Bahia",
          "Casas Bahia",
          "Casas Bahia",
          "Casas Bahia",
          "Casas Bahia",
          "Casas Bahia",
          "Casas Bahia",
          "Casas Bahia",
          "Casas Bahia",
          "Casas Bahia",
          "Casas Bahia",
          "Casas Bahia",
          "Casas Bahia",
          "Casas Bahia",
          "Casas Bahia",
          "Casas Bahia",
          "Casas Bahia",
          "Casas Bahia",
          "Casas Bahia",
          "Casas Bahia",
          "Casas Bahia",
          "Casas Bahia",
          "Casas Bahia",
          "Casas Bahia",
          "Casas Bahia",
          "Casas Bahia",
          "Casas Bahia",
          "Casas Bahia",
          "Casas Bahia",
          "Casas Bahia",
          "Casas Bahia",
          "Casas Bahia",
          "Casas Bahia",
          "Casas Bahia",
          "Casas Bahia",
          "Casas Bahia",
          "Casas Bahia",
          "Casas Bahia",
          "Casas Bahia",
          "Casas Bahia",
          "Casas Bahia",
          "Casas Bahia",
          "Casas Bahia",
          "Casas Bahia",
          "Casas Bahia",
          "Casas Bahia",
          "Casas Bahia",
          "Casas Bahia",
          "Casas Bahia",
          "Casas Bahia",
          "Casas Bahia",
          "Casas Bahia",
          "Casas Bahia",
          "Casas Bahia",
          "Casas Bahia",
          "Casas Bahia",
          "Casas Bahia",
          "Casas Bahia",
          "Casas Bahia",
          "Casas Bahia",
          "Casas Bahia",
          "Magazine Luiza",
          "Magazine Luiza",
          "Magazine Luiza",
          "Magazine Luiza",
          "Magazine Luiza",
          "Magazine Luiza",
          "Magazine Luiza",
          "Magazine Luiza",
          "Magazine Luiza",
          "Magazine Luiza",
          "Magazine Luiza",
          "Magazine Luiza",
          "Magazine Luiza",
          "Magazine Luiza",
          "Magazine Luiza",
          "Magazine Luiza",
          "Magazine Luiza",
          "Magazine Luiza",
          "Magazine Luiza",
          "Magazine Luiza",
          "Magazine Luiza",
          "Magazine Luiza",
          "Magazine Luiza",
          "Magazine Luiza",
          "Magazine Luiza",
          "Magazine Luiza",
          "Magazine Luiza",
          "Magazine Luiza",
          "Magazine Luiza",
          "Magazine Luiza",
          "Magazine Luiza",
          "Magazine Luiza",
          "Magazine Luiza",
          "Magazine Luiza",
          "Magazine Luiza",
          "Magazine Luiza",
          "Magazine Luiza",
          "Magazine Luiza",
          "Magazine Luiza",
          "Magazine Luiza",
          "Magazine Luiza",
          "Magazine Luiza",
          "Magazine Luiza",
          "Magazine Luiza",
          "Magazine Luiza",
          "Magazine Luiza",
          "Magazine Luiza",
          "Magazine Luiza",
          "Magazine Luiza",
          "Magazine Luiza",
          "Magazine Luiza",
          "Magazine Luiza",
          "Magazine Luiza",
          "Magazine Luiza",
          "Magazine Luiza",
          "Magazine Luiza",
          "Magazine Luiza",
          "Magazine Luiza",
          "Magazine Luiza",
          "Magazine Luiza",
          "Magazine Luiza",
          "Magazine Luiza",
          "Magazine Luiza",
          "Magazine Luiza",
          "Magazine Luiza",
          "Magazine Luiza",
          "Magazine Luiza",
          "Magazine Luiza",
          "Magazine Luiza",
          "Magazine Luiza",
          "Submarino",
          "Submarino",
          "Submarino",
          "Submarino",
          "Submarino",
          "Submarino",
          "Submarino",
          "Submarino",
          "Submarino",
          "Submarino",
          "Submarino",
          "Submarino",
          "Submarino",
          "Submarino",
          "Submarino",
          "Submarino",
          "Submarino",
          "Submarino",
          "Submarino",
          "Submarino",
          "Submarino",
          "Submarino",
          "Submarino",
          "Submarino",
          "Submarino",
          "Submarino",
          "Submarino",
          "Submarino",
          "Submarino",
          "Submarino",
          "Submarino",
          "Submarino",
          "Submarino",
          "Submarino",
          "Submarino",
          "Submarino",
          "Submarino",
          "Submarino",
          "Submarino",
          "Submarino",
          "Submarino",
          "Submarino",
          "Submarino",
          "Submarino",
          "Submarino",
          "Submarino",
          "Submarino",
          "Submarino",
          "Submarino",
          "Submarino"
         ],
         "xaxis": "x",
         "y": [
          1,
          1,
          1,
          1,
          1,
          1,
          1,
          1,
          1,
          1,
          1,
          1,
          1,
          1,
          1,
          1,
          1,
          1,
          1,
          1,
          1,
          1,
          1,
          1,
          1,
          1,
          1,
          1,
          1,
          1,
          1,
          1,
          1,
          1,
          1,
          1,
          1,
          1,
          1,
          1,
          1,
          1,
          1,
          1,
          1,
          1,
          1,
          1,
          1,
          1,
          1,
          1,
          1,
          1,
          1,
          1,
          1,
          1,
          1,
          1,
          1,
          1,
          1,
          1,
          1,
          1,
          1,
          1,
          1,
          1,
          1,
          1,
          1,
          1,
          1,
          1,
          1,
          1,
          1,
          1,
          1,
          1,
          1,
          1,
          1,
          1,
          1,
          1,
          1,
          1,
          1,
          1,
          1,
          1,
          1,
          1,
          1,
          1,
          1,
          1,
          1,
          1,
          1,
          1,
          1,
          1,
          1,
          1,
          1,
          1,
          1,
          1,
          1,
          1,
          1,
          1,
          1,
          1,
          1,
          1,
          1,
          1,
          1,
          1,
          1,
          1,
          1,
          1,
          1,
          1,
          1,
          1,
          1,
          1,
          1,
          1,
          1,
          1,
          1,
          1,
          1,
          1,
          1,
          1,
          1,
          1,
          1,
          1,
          1,
          1,
          1,
          1,
          1,
          1,
          1,
          1,
          1,
          1,
          1,
          1,
          1,
          1,
          1,
          1,
          1,
          1,
          1,
          1,
          1,
          1,
          1,
          1,
          1,
          1,
          1,
          1,
          1,
          1,
          1,
          1,
          1,
          1,
          1,
          1,
          1,
          1,
          1,
          1,
          1,
          1,
          1,
          1,
          1,
          1,
          1,
          1,
          1,
          1,
          1,
          1,
          1,
          1,
          1,
          1,
          1,
          1,
          1,
          1,
          1,
          1,
          1,
          1,
          1,
          1,
          1,
          1,
          1,
          1,
          1,
          1,
          1,
          1,
          1,
          1,
          1,
          1,
          1,
          1,
          1,
          1,
          1,
          1,
          1,
          1,
          1,
          1,
          1,
          1,
          1,
          1,
          1,
          1,
          1,
          1,
          1,
          1,
          1,
          1,
          1,
          1,
          1,
          1,
          1,
          1,
          1,
          1,
          1,
          1,
          1,
          1,
          1,
          1,
          1,
          1,
          1,
          1,
          1,
          1,
          1,
          1,
          1,
          1,
          1,
          1,
          1,
          1,
          1,
          1,
          1,
          1,
          1,
          1,
          1,
          1,
          1,
          1,
          1,
          1,
          1,
          1,
          1,
          1,
          1,
          1,
          1,
          1,
          1,
          1,
          1,
          1,
          1,
          1,
          1,
          1,
          1,
          1,
          1,
          1
         ],
         "yaxis": "y"
        },
        {
         "alignmentgroup": "True",
         "hovertemplate": "Marca=Tcl<br>Loja=%{x}<br>count=%{y}<extra></extra>",
         "legendgroup": "Tcl",
         "marker": {
          "color": "#00cc96",
          "pattern": {
           "shape": ""
          }
         },
         "name": "Tcl",
         "offsetgroup": "Tcl",
         "orientation": "v",
         "showlegend": true,
         "textposition": "auto",
         "type": "bar",
         "x": [
          "Amazon",
          "Amazon",
          "Amazon",
          "Amazon",
          "Amazon",
          "Amazon",
          "Amazon",
          "Amazon",
          "Americanas",
          "Americanas",
          "Americanas",
          "Americanas",
          "Americanas",
          "Americanas",
          "Americanas",
          "Americanas",
          "Americanas",
          "Americanas",
          "Americanas",
          "Americanas",
          "Americanas",
          "Casas Bahia",
          "Casas Bahia",
          "Casas Bahia",
          "Casas Bahia",
          "Casas Bahia",
          "Casas Bahia",
          "Casas Bahia",
          "Casas Bahia",
          "Casas Bahia",
          "Casas Bahia",
          "Casas Bahia",
          "Casas Bahia",
          "Casas Bahia",
          "Casas Bahia",
          "Casas Bahia",
          "Casas Bahia",
          "Casas Bahia",
          "Casas Bahia",
          "Casas Bahia",
          "Casas Bahia",
          "Magazine Luiza",
          "Magazine Luiza",
          "Magazine Luiza",
          "Magazine Luiza",
          "Magazine Luiza",
          "Magazine Luiza",
          "Magazine Luiza",
          "Magazine Luiza",
          "Magazine Luiza",
          "Magazine Luiza",
          "Magazine Luiza",
          "Magazine Luiza",
          "Magazine Luiza",
          "Magazine Luiza",
          "Magazine Luiza",
          "Magazine Luiza",
          "Magazine Luiza",
          "Magazine Luiza",
          "Magazine Luiza",
          "Magazine Luiza",
          "Magazine Luiza",
          "Submarino",
          "Submarino",
          "Submarino",
          "Submarino",
          "Submarino",
          "Submarino",
          "Submarino",
          "Submarino",
          "Submarino",
          "Submarino"
         ],
         "xaxis": "x",
         "y": [
          1,
          1,
          1,
          1,
          1,
          1,
          1,
          1,
          1,
          1,
          1,
          1,
          1,
          1,
          1,
          1,
          1,
          1,
          1,
          1,
          1,
          1,
          1,
          1,
          1,
          1,
          1,
          1,
          1,
          1,
          1,
          1,
          1,
          1,
          1,
          1,
          1,
          1,
          1,
          1,
          1,
          1,
          1,
          1,
          1,
          1,
          1,
          1,
          1,
          1,
          1,
          1,
          1,
          1,
          1,
          1,
          1,
          1,
          1,
          1,
          1,
          1,
          1,
          1,
          1,
          1,
          1,
          1,
          1,
          1,
          1,
          1
         ],
         "yaxis": "y"
        },
        {
         "alignmentgroup": "True",
         "hovertemplate": "Marca=Samsung<br>Loja=%{x}<br>count=%{y}<extra></extra>",
         "legendgroup": "Samsung",
         "marker": {
          "color": "#ab63fa",
          "pattern": {
           "shape": ""
          }
         },
         "name": "Samsung",
         "offsetgroup": "Samsung",
         "orientation": "v",
         "showlegend": true,
         "textposition": "auto",
         "type": "bar",
         "x": [
          "Amazon",
          "Amazon",
          "Amazon",
          "Amazon",
          "Amazon",
          "Amazon",
          "Amazon",
          "Amazon",
          "Amazon",
          "Amazon",
          "Amazon",
          "Amazon",
          "Amazon",
          "Amazon",
          "Amazon",
          "Amazon",
          "Amazon",
          "Americanas",
          "Americanas",
          "Americanas",
          "Americanas",
          "Americanas",
          "Americanas",
          "Americanas",
          "Americanas",
          "Americanas",
          "Americanas",
          "Americanas",
          "Americanas",
          "Americanas",
          "Americanas",
          "Americanas",
          "Americanas",
          "Americanas",
          "Americanas",
          "Americanas",
          "Americanas",
          "Americanas",
          "Americanas",
          "Americanas",
          "Americanas",
          "Americanas",
          "Americanas",
          "Americanas",
          "Americanas",
          "Americanas",
          "Americanas",
          "Americanas",
          "Americanas",
          "Americanas",
          "Americanas",
          "Americanas",
          "Americanas",
          "Americanas",
          "Americanas",
          "Americanas",
          "Americanas",
          "Americanas",
          "Americanas",
          "Americanas",
          "Americanas",
          "Americanas",
          "Americanas",
          "Americanas",
          "Americanas",
          "Americanas",
          "Americanas",
          "Americanas",
          "Americanas",
          "Americanas",
          "Americanas",
          "Americanas",
          "Americanas",
          "Americanas",
          "Americanas",
          "Americanas",
          "Americanas",
          "Americanas",
          "Americanas",
          "Americanas",
          "Americanas",
          "Americanas",
          "Americanas",
          "Americanas",
          "Americanas",
          "Americanas",
          "Casas Bahia",
          "Casas Bahia",
          "Casas Bahia",
          "Casas Bahia",
          "Casas Bahia",
          "Casas Bahia",
          "Casas Bahia",
          "Casas Bahia",
          "Casas Bahia",
          "Casas Bahia",
          "Casas Bahia",
          "Casas Bahia",
          "Casas Bahia",
          "Casas Bahia",
          "Casas Bahia",
          "Casas Bahia",
          "Casas Bahia",
          "Casas Bahia",
          "Casas Bahia",
          "Casas Bahia",
          "Casas Bahia",
          "Casas Bahia",
          "Casas Bahia",
          "Casas Bahia",
          "Casas Bahia",
          "Casas Bahia",
          "Casas Bahia",
          "Casas Bahia",
          "Casas Bahia",
          "Casas Bahia",
          "Casas Bahia",
          "Casas Bahia",
          "Casas Bahia",
          "Casas Bahia",
          "Casas Bahia",
          "Casas Bahia",
          "Casas Bahia",
          "Casas Bahia",
          "Casas Bahia",
          "Casas Bahia",
          "Casas Bahia",
          "Casas Bahia",
          "Casas Bahia",
          "Casas Bahia",
          "Casas Bahia",
          "Casas Bahia",
          "Casas Bahia",
          "Casas Bahia",
          "Casas Bahia",
          "Casas Bahia",
          "Casas Bahia",
          "Casas Bahia",
          "Casas Bahia",
          "Casas Bahia",
          "Casas Bahia",
          "Casas Bahia",
          "Casas Bahia",
          "Casas Bahia",
          "Casas Bahia",
          "Casas Bahia",
          "Casas Bahia",
          "Casas Bahia",
          "Casas Bahia",
          "Casas Bahia",
          "Casas Bahia",
          "Casas Bahia",
          "Casas Bahia",
          "Casas Bahia",
          "Magazine Luiza",
          "Magazine Luiza",
          "Magazine Luiza",
          "Magazine Luiza",
          "Magazine Luiza",
          "Magazine Luiza",
          "Magazine Luiza",
          "Magazine Luiza",
          "Magazine Luiza",
          "Magazine Luiza",
          "Magazine Luiza",
          "Magazine Luiza",
          "Magazine Luiza",
          "Magazine Luiza",
          "Magazine Luiza",
          "Magazine Luiza",
          "Magazine Luiza",
          "Magazine Luiza",
          "Magazine Luiza",
          "Magazine Luiza",
          "Magazine Luiza",
          "Magazine Luiza",
          "Magazine Luiza",
          "Magazine Luiza",
          "Magazine Luiza",
          "Magazine Luiza",
          "Magazine Luiza",
          "Magazine Luiza",
          "Magazine Luiza",
          "Magazine Luiza",
          "Magazine Luiza",
          "Magazine Luiza",
          "Magazine Luiza",
          "Magazine Luiza",
          "Magazine Luiza",
          "Magazine Luiza",
          "Magazine Luiza",
          "Magazine Luiza",
          "Magazine Luiza",
          "Magazine Luiza",
          "Magazine Luiza",
          "Magazine Luiza",
          "Magazine Luiza",
          "Magazine Luiza",
          "Magazine Luiza",
          "Magazine Luiza",
          "Magazine Luiza",
          "Magazine Luiza",
          "Magazine Luiza",
          "Magazine Luiza",
          "Magazine Luiza",
          "Magazine Luiza",
          "Magazine Luiza",
          "Magazine Luiza",
          "Magazine Luiza",
          "Magazine Luiza",
          "Magazine Luiza",
          "Magazine Luiza",
          "Magazine Luiza",
          "Magazine Luiza",
          "Magazine Luiza",
          "Magazine Luiza",
          "Magazine Luiza",
          "Magazine Luiza",
          "Magazine Luiza",
          "Magazine Luiza",
          "Magazine Luiza",
          "Magazine Luiza",
          "Magazine Luiza",
          "Magazine Luiza",
          "Magazine Luiza",
          "Magazine Luiza",
          "Magazine Luiza",
          "Magazine Luiza",
          "Magazine Luiza",
          "Magazine Luiza",
          "Magazine Luiza",
          "Magazine Luiza",
          "Magazine Luiza",
          "Magazine Luiza",
          "Magazine Luiza",
          "Magazine Luiza",
          "Magazine Luiza",
          "Magazine Luiza",
          "Magazine Luiza",
          "Magazine Luiza",
          "Magazine Luiza",
          "Magazine Luiza",
          "Magazine Luiza",
          "Magazine Luiza",
          "Magazine Luiza",
          "Magazine Luiza",
          "Magazine Luiza",
          "Magazine Luiza",
          "Magazine Luiza",
          "Magazine Luiza",
          "Magazine Luiza",
          "Magazine Luiza",
          "Submarino",
          "Submarino",
          "Submarino",
          "Submarino",
          "Submarino",
          "Submarino",
          "Submarino",
          "Submarino",
          "Submarino",
          "Submarino",
          "Submarino",
          "Submarino",
          "Submarino",
          "Submarino",
          "Submarino",
          "Submarino",
          "Submarino",
          "Submarino",
          "Submarino",
          "Submarino",
          "Submarino",
          "Submarino",
          "Submarino",
          "Submarino",
          "Submarino",
          "Submarino",
          "Submarino",
          "Submarino",
          "Submarino",
          "Submarino",
          "Submarino",
          "Submarino",
          "Submarino",
          "Submarino",
          "Submarino",
          "Submarino",
          "Submarino",
          "Submarino",
          "Submarino",
          "Submarino",
          "Submarino",
          "Submarino",
          "Submarino",
          "Submarino",
          "Submarino",
          "Submarino",
          "Submarino",
          "Submarino",
          "Submarino",
          "Submarino",
          "Submarino",
          "Submarino",
          "Submarino",
          "Submarino",
          "Submarino",
          "Submarino",
          "Submarino",
          "Submarino",
          "Submarino",
          "Submarino",
          "Submarino",
          "Submarino",
          "Submarino",
          "Submarino",
          "Submarino",
          "Submarino",
          "Submarino",
          "Submarino",
          "Submarino",
          "Submarino",
          "Submarino",
          "Submarino",
          "Submarino",
          "Submarino",
          "Submarino",
          "Submarino",
          "Submarino",
          "Submarino",
          "Submarino",
          "Submarino",
          "Submarino",
          "Submarino",
          "Submarino",
          "Submarino",
          "Submarino",
          "Submarino",
          "Submarino",
          "Submarino",
          "Submarino",
          "Submarino"
         ],
         "xaxis": "x",
         "y": [
          1,
          1,
          1,
          1,
          1,
          1,
          1,
          1,
          1,
          1,
          1,
          1,
          1,
          1,
          1,
          1,
          1,
          1,
          1,
          1,
          1,
          1,
          1,
          1,
          1,
          1,
          1,
          1,
          1,
          1,
          1,
          1,
          1,
          1,
          1,
          1,
          1,
          1,
          1,
          1,
          1,
          1,
          1,
          1,
          1,
          1,
          1,
          1,
          1,
          1,
          1,
          1,
          1,
          1,
          1,
          1,
          1,
          1,
          1,
          1,
          1,
          1,
          1,
          1,
          1,
          1,
          1,
          1,
          1,
          1,
          1,
          1,
          1,
          1,
          1,
          1,
          1,
          1,
          1,
          1,
          1,
          1,
          1,
          1,
          1,
          1,
          1,
          1,
          1,
          1,
          1,
          1,
          1,
          1,
          1,
          1,
          1,
          1,
          1,
          1,
          1,
          1,
          1,
          1,
          1,
          1,
          1,
          1,
          1,
          1,
          1,
          1,
          1,
          1,
          1,
          1,
          1,
          1,
          1,
          1,
          1,
          1,
          1,
          1,
          1,
          1,
          1,
          1,
          1,
          1,
          1,
          1,
          1,
          1,
          1,
          1,
          1,
          1,
          1,
          1,
          1,
          1,
          1,
          1,
          1,
          1,
          1,
          1,
          1,
          1,
          1,
          1,
          1,
          1,
          1,
          1,
          1,
          1,
          1,
          1,
          1,
          1,
          1,
          1,
          1,
          1,
          1,
          1,
          1,
          1,
          1,
          1,
          1,
          1,
          1,
          1,
          1,
          1,
          1,
          1,
          1,
          1,
          1,
          1,
          1,
          1,
          1,
          1,
          1,
          1,
          1,
          1,
          1,
          1,
          1,
          1,
          1,
          1,
          1,
          1,
          1,
          1,
          1,
          1,
          1,
          1,
          1,
          1,
          1,
          1,
          1,
          1,
          1,
          1,
          1,
          1,
          1,
          1,
          1,
          1,
          1,
          1,
          1,
          1,
          1,
          1,
          1,
          1,
          1,
          1,
          1,
          1,
          1,
          1,
          1,
          1,
          1,
          1,
          1,
          1,
          1,
          1,
          1,
          1,
          1,
          1,
          1,
          1,
          1,
          1,
          1,
          1,
          1,
          1,
          1,
          1,
          1,
          1,
          1,
          1,
          1,
          1,
          1,
          1,
          1,
          1,
          1,
          1,
          1,
          1,
          1,
          1,
          1,
          1,
          1,
          1,
          1,
          1,
          1,
          1,
          1,
          1,
          1,
          1,
          1,
          1,
          1,
          1,
          1,
          1,
          1,
          1,
          1,
          1,
          1,
          1,
          1,
          1,
          1,
          1,
          1,
          1,
          1,
          1,
          1,
          1,
          1,
          1,
          1,
          1,
          1,
          1,
          1,
          1,
          1,
          1,
          1,
          1,
          1,
          1,
          1,
          1,
          1,
          1,
          1,
          1,
          1,
          1,
          1,
          1,
          1,
          1,
          1,
          1,
          1,
          1,
          1,
          1,
          1,
          1,
          1,
          1
         ],
         "yaxis": "y"
        },
        {
         "alignmentgroup": "True",
         "hovertemplate": "Marca=Philco<br>Loja=%{x}<br>count=%{y}<extra></extra>",
         "legendgroup": "Philco",
         "marker": {
          "color": "#FFA15A",
          "pattern": {
           "shape": ""
          }
         },
         "name": "Philco",
         "offsetgroup": "Philco",
         "orientation": "v",
         "showlegend": true,
         "textposition": "auto",
         "type": "bar",
         "x": [
          "Amazon",
          "Amazon",
          "Amazon",
          "Amazon",
          "Amazon",
          "Amazon",
          "Amazon",
          "Amazon",
          "Amazon",
          "Americanas",
          "Americanas",
          "Americanas",
          "Americanas",
          "Americanas",
          "Americanas",
          "Americanas",
          "Americanas",
          "Americanas",
          "Americanas",
          "Americanas",
          "Americanas",
          "Americanas",
          "Americanas",
          "Americanas",
          "Americanas",
          "Americanas",
          "Americanas",
          "Americanas",
          "Americanas",
          "Americanas",
          "Americanas",
          "Americanas",
          "Americanas",
          "Americanas",
          "Americanas",
          "Americanas",
          "Americanas",
          "Americanas",
          "Americanas",
          "Americanas",
          "Americanas",
          "Americanas",
          "Americanas",
          "Americanas",
          "Americanas",
          "Americanas",
          "Americanas",
          "Americanas",
          "Americanas",
          "Americanas",
          "Americanas",
          "Americanas",
          "Americanas",
          "Americanas",
          "Americanas",
          "Americanas",
          "Americanas",
          "Americanas",
          "Casas Bahia",
          "Casas Bahia",
          "Casas Bahia",
          "Casas Bahia",
          "Casas Bahia",
          "Casas Bahia",
          "Casas Bahia",
          "Casas Bahia",
          "Casas Bahia",
          "Casas Bahia",
          "Casas Bahia",
          "Casas Bahia",
          "Casas Bahia",
          "Casas Bahia",
          "Casas Bahia",
          "Casas Bahia",
          "Casas Bahia",
          "Casas Bahia",
          "Casas Bahia",
          "Casas Bahia",
          "Casas Bahia",
          "Casas Bahia",
          "Casas Bahia",
          "Casas Bahia",
          "Casas Bahia",
          "Casas Bahia",
          "Casas Bahia",
          "Casas Bahia",
          "Casas Bahia",
          "Casas Bahia",
          "Casas Bahia",
          "Casas Bahia",
          "Magazine Luiza",
          "Magazine Luiza",
          "Magazine Luiza",
          "Magazine Luiza",
          "Magazine Luiza",
          "Magazine Luiza",
          "Magazine Luiza",
          "Magazine Luiza",
          "Magazine Luiza",
          "Magazine Luiza",
          "Magazine Luiza",
          "Magazine Luiza",
          "Magazine Luiza",
          "Magazine Luiza",
          "Magazine Luiza",
          "Magazine Luiza",
          "Magazine Luiza",
          "Magazine Luiza",
          "Magazine Luiza",
          "Magazine Luiza",
          "Submarino",
          "Submarino",
          "Submarino",
          "Submarino",
          "Submarino",
          "Submarino",
          "Submarino",
          "Submarino",
          "Submarino",
          "Submarino",
          "Submarino",
          "Submarino",
          "Submarino",
          "Submarino",
          "Submarino",
          "Submarino",
          "Submarino",
          "Submarino",
          "Submarino",
          "Submarino",
          "Submarino",
          "Submarino",
          "Submarino",
          "Submarino",
          "Submarino",
          "Submarino",
          "Submarino",
          "Submarino",
          "Submarino",
          "Submarino"
         ],
         "xaxis": "x",
         "y": [
          1,
          1,
          1,
          1,
          1,
          1,
          1,
          1,
          1,
          1,
          1,
          1,
          1,
          1,
          1,
          1,
          1,
          1,
          1,
          1,
          1,
          1,
          1,
          1,
          1,
          1,
          1,
          1,
          1,
          1,
          1,
          1,
          1,
          1,
          1,
          1,
          1,
          1,
          1,
          1,
          1,
          1,
          1,
          1,
          1,
          1,
          1,
          1,
          1,
          1,
          1,
          1,
          1,
          1,
          1,
          1,
          1,
          1,
          1,
          1,
          1,
          1,
          1,
          1,
          1,
          1,
          1,
          1,
          1,
          1,
          1,
          1,
          1,
          1,
          1,
          1,
          1,
          1,
          1,
          1,
          1,
          1,
          1,
          1,
          1,
          1,
          1,
          1,
          1,
          1,
          1,
          1,
          1,
          1,
          1,
          1,
          1,
          1,
          1,
          1,
          1,
          1,
          1,
          1,
          1,
          1,
          1,
          1,
          1,
          1,
          1,
          1,
          1,
          1,
          1,
          1,
          1,
          1,
          1,
          1,
          1,
          1,
          1,
          1,
          1,
          1,
          1,
          1,
          1,
          1,
          1,
          1,
          1,
          1,
          1,
          1,
          1,
          1,
          1,
          1
         ],
         "yaxis": "y"
        },
        {
         "alignmentgroup": "True",
         "hovertemplate": "Marca=Xiaomi<br>Loja=%{x}<br>count=%{y}<extra></extra>",
         "legendgroup": "Xiaomi",
         "marker": {
          "color": "#19d3f3",
          "pattern": {
           "shape": ""
          }
         },
         "name": "Xiaomi",
         "offsetgroup": "Xiaomi",
         "orientation": "v",
         "showlegend": true,
         "textposition": "auto",
         "type": "bar",
         "x": [
          "Amazon"
         ],
         "xaxis": "x",
         "y": [
          1
         ],
         "yaxis": "y"
        },
        {
         "alignmentgroup": "True",
         "hovertemplate": "Marca=Dell<br>Loja=%{x}<br>count=%{y}<extra></extra>",
         "legendgroup": "Dell",
         "marker": {
          "color": "#FF6692",
          "pattern": {
           "shape": ""
          }
         },
         "name": "Dell",
         "offsetgroup": "Dell",
         "orientation": "v",
         "showlegend": true,
         "textposition": "auto",
         "type": "bar",
         "x": [
          "Amazon",
          "Amazon",
          "Amazon"
         ],
         "xaxis": "x",
         "y": [
          1,
          1,
          1
         ],
         "yaxis": "y"
        },
        {
         "alignmentgroup": "True",
         "hovertemplate": "Marca=Acer<br>Loja=%{x}<br>count=%{y}<extra></extra>",
         "legendgroup": "Acer",
         "marker": {
          "color": "#B6E880",
          "pattern": {
           "shape": ""
          }
         },
         "name": "Acer",
         "offsetgroup": "Acer",
         "orientation": "v",
         "showlegend": true,
         "textposition": "auto",
         "type": "bar",
         "x": [
          "Amazon",
          "Amazon",
          "Amazon",
          "Amazon",
          "Amazon",
          "Amazon",
          "Amazon",
          "Amazon",
          "Amazon",
          "Amazon"
         ],
         "xaxis": "x",
         "y": [
          1,
          1,
          1,
          1,
          1,
          1,
          1,
          1,
          1,
          1
         ],
         "yaxis": "y"
        },
        {
         "alignmentgroup": "True",
         "hovertemplate": "Marca=Lenovo<br>Loja=%{x}<br>count=%{y}<extra></extra>",
         "legendgroup": "Lenovo",
         "marker": {
          "color": "#FF97FF",
          "pattern": {
           "shape": ""
          }
         },
         "name": "Lenovo",
         "offsetgroup": "Lenovo",
         "orientation": "v",
         "showlegend": true,
         "textposition": "auto",
         "type": "bar",
         "x": [
          "Amazon"
         ],
         "xaxis": "x",
         "y": [
          1
         ],
         "yaxis": "y"
        }
       ],
       "layout": {
        "barmode": "relative",
        "legend": {
         "title": {
          "text": "Marca"
         },
         "tracegroupgap": 0
        },
        "template": {
         "data": {
          "bar": [
           {
            "error_x": {
             "color": "#2a3f5f"
            },
            "error_y": {
             "color": "#2a3f5f"
            },
            "marker": {
             "line": {
              "color": "#E5ECF6",
              "width": 0.5
             },
             "pattern": {
              "fillmode": "overlay",
              "size": 10,
              "solidity": 0.2
             }
            },
            "type": "bar"
           }
          ],
          "barpolar": [
           {
            "marker": {
             "line": {
              "color": "#E5ECF6",
              "width": 0.5
             },
             "pattern": {
              "fillmode": "overlay",
              "size": 10,
              "solidity": 0.2
             }
            },
            "type": "barpolar"
           }
          ],
          "carpet": [
           {
            "aaxis": {
             "endlinecolor": "#2a3f5f",
             "gridcolor": "white",
             "linecolor": "white",
             "minorgridcolor": "white",
             "startlinecolor": "#2a3f5f"
            },
            "baxis": {
             "endlinecolor": "#2a3f5f",
             "gridcolor": "white",
             "linecolor": "white",
             "minorgridcolor": "white",
             "startlinecolor": "#2a3f5f"
            },
            "type": "carpet"
           }
          ],
          "choropleth": [
           {
            "colorbar": {
             "outlinewidth": 0,
             "ticks": ""
            },
            "type": "choropleth"
           }
          ],
          "contour": [
           {
            "colorbar": {
             "outlinewidth": 0,
             "ticks": ""
            },
            "colorscale": [
             [
              0,
              "#0d0887"
             ],
             [
              0.1111111111111111,
              "#46039f"
             ],
             [
              0.2222222222222222,
              "#7201a8"
             ],
             [
              0.3333333333333333,
              "#9c179e"
             ],
             [
              0.4444444444444444,
              "#bd3786"
             ],
             [
              0.5555555555555556,
              "#d8576b"
             ],
             [
              0.6666666666666666,
              "#ed7953"
             ],
             [
              0.7777777777777778,
              "#fb9f3a"
             ],
             [
              0.8888888888888888,
              "#fdca26"
             ],
             [
              1,
              "#f0f921"
             ]
            ],
            "type": "contour"
           }
          ],
          "contourcarpet": [
           {
            "colorbar": {
             "outlinewidth": 0,
             "ticks": ""
            },
            "type": "contourcarpet"
           }
          ],
          "heatmap": [
           {
            "colorbar": {
             "outlinewidth": 0,
             "ticks": ""
            },
            "colorscale": [
             [
              0,
              "#0d0887"
             ],
             [
              0.1111111111111111,
              "#46039f"
             ],
             [
              0.2222222222222222,
              "#7201a8"
             ],
             [
              0.3333333333333333,
              "#9c179e"
             ],
             [
              0.4444444444444444,
              "#bd3786"
             ],
             [
              0.5555555555555556,
              "#d8576b"
             ],
             [
              0.6666666666666666,
              "#ed7953"
             ],
             [
              0.7777777777777778,
              "#fb9f3a"
             ],
             [
              0.8888888888888888,
              "#fdca26"
             ],
             [
              1,
              "#f0f921"
             ]
            ],
            "type": "heatmap"
           }
          ],
          "heatmapgl": [
           {
            "colorbar": {
             "outlinewidth": 0,
             "ticks": ""
            },
            "colorscale": [
             [
              0,
              "#0d0887"
             ],
             [
              0.1111111111111111,
              "#46039f"
             ],
             [
              0.2222222222222222,
              "#7201a8"
             ],
             [
              0.3333333333333333,
              "#9c179e"
             ],
             [
              0.4444444444444444,
              "#bd3786"
             ],
             [
              0.5555555555555556,
              "#d8576b"
             ],
             [
              0.6666666666666666,
              "#ed7953"
             ],
             [
              0.7777777777777778,
              "#fb9f3a"
             ],
             [
              0.8888888888888888,
              "#fdca26"
             ],
             [
              1,
              "#f0f921"
             ]
            ],
            "type": "heatmapgl"
           }
          ],
          "histogram": [
           {
            "marker": {
             "pattern": {
              "fillmode": "overlay",
              "size": 10,
              "solidity": 0.2
             }
            },
            "type": "histogram"
           }
          ],
          "histogram2d": [
           {
            "colorbar": {
             "outlinewidth": 0,
             "ticks": ""
            },
            "colorscale": [
             [
              0,
              "#0d0887"
             ],
             [
              0.1111111111111111,
              "#46039f"
             ],
             [
              0.2222222222222222,
              "#7201a8"
             ],
             [
              0.3333333333333333,
              "#9c179e"
             ],
             [
              0.4444444444444444,
              "#bd3786"
             ],
             [
              0.5555555555555556,
              "#d8576b"
             ],
             [
              0.6666666666666666,
              "#ed7953"
             ],
             [
              0.7777777777777778,
              "#fb9f3a"
             ],
             [
              0.8888888888888888,
              "#fdca26"
             ],
             [
              1,
              "#f0f921"
             ]
            ],
            "type": "histogram2d"
           }
          ],
          "histogram2dcontour": [
           {
            "colorbar": {
             "outlinewidth": 0,
             "ticks": ""
            },
            "colorscale": [
             [
              0,
              "#0d0887"
             ],
             [
              0.1111111111111111,
              "#46039f"
             ],
             [
              0.2222222222222222,
              "#7201a8"
             ],
             [
              0.3333333333333333,
              "#9c179e"
             ],
             [
              0.4444444444444444,
              "#bd3786"
             ],
             [
              0.5555555555555556,
              "#d8576b"
             ],
             [
              0.6666666666666666,
              "#ed7953"
             ],
             [
              0.7777777777777778,
              "#fb9f3a"
             ],
             [
              0.8888888888888888,
              "#fdca26"
             ],
             [
              1,
              "#f0f921"
             ]
            ],
            "type": "histogram2dcontour"
           }
          ],
          "mesh3d": [
           {
            "colorbar": {
             "outlinewidth": 0,
             "ticks": ""
            },
            "type": "mesh3d"
           }
          ],
          "parcoords": [
           {
            "line": {
             "colorbar": {
              "outlinewidth": 0,
              "ticks": ""
             }
            },
            "type": "parcoords"
           }
          ],
          "pie": [
           {
            "automargin": true,
            "type": "pie"
           }
          ],
          "scatter": [
           {
            "marker": {
             "colorbar": {
              "outlinewidth": 0,
              "ticks": ""
             }
            },
            "type": "scatter"
           }
          ],
          "scatter3d": [
           {
            "line": {
             "colorbar": {
              "outlinewidth": 0,
              "ticks": ""
             }
            },
            "marker": {
             "colorbar": {
              "outlinewidth": 0,
              "ticks": ""
             }
            },
            "type": "scatter3d"
           }
          ],
          "scattercarpet": [
           {
            "marker": {
             "colorbar": {
              "outlinewidth": 0,
              "ticks": ""
             }
            },
            "type": "scattercarpet"
           }
          ],
          "scattergeo": [
           {
            "marker": {
             "colorbar": {
              "outlinewidth": 0,
              "ticks": ""
             }
            },
            "type": "scattergeo"
           }
          ],
          "scattergl": [
           {
            "marker": {
             "colorbar": {
              "outlinewidth": 0,
              "ticks": ""
             }
            },
            "type": "scattergl"
           }
          ],
          "scattermapbox": [
           {
            "marker": {
             "colorbar": {
              "outlinewidth": 0,
              "ticks": ""
             }
            },
            "type": "scattermapbox"
           }
          ],
          "scatterpolar": [
           {
            "marker": {
             "colorbar": {
              "outlinewidth": 0,
              "ticks": ""
             }
            },
            "type": "scatterpolar"
           }
          ],
          "scatterpolargl": [
           {
            "marker": {
             "colorbar": {
              "outlinewidth": 0,
              "ticks": ""
             }
            },
            "type": "scatterpolargl"
           }
          ],
          "scatterternary": [
           {
            "marker": {
             "colorbar": {
              "outlinewidth": 0,
              "ticks": ""
             }
            },
            "type": "scatterternary"
           }
          ],
          "surface": [
           {
            "colorbar": {
             "outlinewidth": 0,
             "ticks": ""
            },
            "colorscale": [
             [
              0,
              "#0d0887"
             ],
             [
              0.1111111111111111,
              "#46039f"
             ],
             [
              0.2222222222222222,
              "#7201a8"
             ],
             [
              0.3333333333333333,
              "#9c179e"
             ],
             [
              0.4444444444444444,
              "#bd3786"
             ],
             [
              0.5555555555555556,
              "#d8576b"
             ],
             [
              0.6666666666666666,
              "#ed7953"
             ],
             [
              0.7777777777777778,
              "#fb9f3a"
             ],
             [
              0.8888888888888888,
              "#fdca26"
             ],
             [
              1,
              "#f0f921"
             ]
            ],
            "type": "surface"
           }
          ],
          "table": [
           {
            "cells": {
             "fill": {
              "color": "#EBF0F8"
             },
             "line": {
              "color": "white"
             }
            },
            "header": {
             "fill": {
              "color": "#C8D4E3"
             },
             "line": {
              "color": "white"
             }
            },
            "type": "table"
           }
          ]
         },
         "layout": {
          "annotationdefaults": {
           "arrowcolor": "#2a3f5f",
           "arrowhead": 0,
           "arrowwidth": 1
          },
          "autotypenumbers": "strict",
          "coloraxis": {
           "colorbar": {
            "outlinewidth": 0,
            "ticks": ""
           }
          },
          "colorscale": {
           "diverging": [
            [
             0,
             "#8e0152"
            ],
            [
             0.1,
             "#c51b7d"
            ],
            [
             0.2,
             "#de77ae"
            ],
            [
             0.3,
             "#f1b6da"
            ],
            [
             0.4,
             "#fde0ef"
            ],
            [
             0.5,
             "#f7f7f7"
            ],
            [
             0.6,
             "#e6f5d0"
            ],
            [
             0.7,
             "#b8e186"
            ],
            [
             0.8,
             "#7fbc41"
            ],
            [
             0.9,
             "#4d9221"
            ],
            [
             1,
             "#276419"
            ]
           ],
           "sequential": [
            [
             0,
             "#0d0887"
            ],
            [
             0.1111111111111111,
             "#46039f"
            ],
            [
             0.2222222222222222,
             "#7201a8"
            ],
            [
             0.3333333333333333,
             "#9c179e"
            ],
            [
             0.4444444444444444,
             "#bd3786"
            ],
            [
             0.5555555555555556,
             "#d8576b"
            ],
            [
             0.6666666666666666,
             "#ed7953"
            ],
            [
             0.7777777777777778,
             "#fb9f3a"
            ],
            [
             0.8888888888888888,
             "#fdca26"
            ],
            [
             1,
             "#f0f921"
            ]
           ],
           "sequentialminus": [
            [
             0,
             "#0d0887"
            ],
            [
             0.1111111111111111,
             "#46039f"
            ],
            [
             0.2222222222222222,
             "#7201a8"
            ],
            [
             0.3333333333333333,
             "#9c179e"
            ],
            [
             0.4444444444444444,
             "#bd3786"
            ],
            [
             0.5555555555555556,
             "#d8576b"
            ],
            [
             0.6666666666666666,
             "#ed7953"
            ],
            [
             0.7777777777777778,
             "#fb9f3a"
            ],
            [
             0.8888888888888888,
             "#fdca26"
            ],
            [
             1,
             "#f0f921"
            ]
           ]
          },
          "colorway": [
           "#636efa",
           "#EF553B",
           "#00cc96",
           "#ab63fa",
           "#FFA15A",
           "#19d3f3",
           "#FF6692",
           "#B6E880",
           "#FF97FF",
           "#FECB52"
          ],
          "font": {
           "color": "#2a3f5f"
          },
          "geo": {
           "bgcolor": "white",
           "lakecolor": "white",
           "landcolor": "#E5ECF6",
           "showlakes": true,
           "showland": true,
           "subunitcolor": "white"
          },
          "hoverlabel": {
           "align": "left"
          },
          "hovermode": "closest",
          "mapbox": {
           "style": "light"
          },
          "paper_bgcolor": "white",
          "plot_bgcolor": "#E5ECF6",
          "polar": {
           "angularaxis": {
            "gridcolor": "white",
            "linecolor": "white",
            "ticks": ""
           },
           "bgcolor": "#E5ECF6",
           "radialaxis": {
            "gridcolor": "white",
            "linecolor": "white",
            "ticks": ""
           }
          },
          "scene": {
           "xaxis": {
            "backgroundcolor": "#E5ECF6",
            "gridcolor": "white",
            "gridwidth": 2,
            "linecolor": "white",
            "showbackground": true,
            "ticks": "",
            "zerolinecolor": "white"
           },
           "yaxis": {
            "backgroundcolor": "#E5ECF6",
            "gridcolor": "white",
            "gridwidth": 2,
            "linecolor": "white",
            "showbackground": true,
            "ticks": "",
            "zerolinecolor": "white"
           },
           "zaxis": {
            "backgroundcolor": "#E5ECF6",
            "gridcolor": "white",
            "gridwidth": 2,
            "linecolor": "white",
            "showbackground": true,
            "ticks": "",
            "zerolinecolor": "white"
           }
          },
          "shapedefaults": {
           "line": {
            "color": "#2a3f5f"
           }
          },
          "ternary": {
           "aaxis": {
            "gridcolor": "white",
            "linecolor": "white",
            "ticks": ""
           },
           "baxis": {
            "gridcolor": "white",
            "linecolor": "white",
            "ticks": ""
           },
           "bgcolor": "#E5ECF6",
           "caxis": {
            "gridcolor": "white",
            "linecolor": "white",
            "ticks": ""
           }
          },
          "title": {
           "x": 0.05
          },
          "xaxis": {
           "automargin": true,
           "gridcolor": "white",
           "linecolor": "white",
           "ticks": "",
           "title": {
            "standoff": 15
           },
           "zerolinecolor": "white",
           "zerolinewidth": 2
          },
          "yaxis": {
           "automargin": true,
           "gridcolor": "white",
           "linecolor": "white",
           "ticks": "",
           "title": {
            "standoff": 15
           },
           "zerolinecolor": "white",
           "zerolinewidth": 2
          }
         }
        },
        "title": {
         "text": "HEY"
        },
        "xaxis": {
         "anchor": "y",
         "domain": [
          0,
          1
         ],
         "title": {
          "text": "Loja"
         }
        },
        "yaxis": {
         "anchor": "x",
         "domain": [
          0,
          1
         ],
         "title": {
          "text": "count"
         }
        }
       }
      }
     },
     "metadata": {},
     "output_type": "display_data"
    }
   ],
   "source": [
    "fig = px.bar(dados_gerais_tv, x=\"Loja\",  color=\"Marca\", title=\"HEY\")\n",
    "fig.show()"
   ]
  },
  {
   "cell_type": "code",
   "execution_count": 36,
   "metadata": {},
   "outputs": [
    {
     "data": {
      "text/html": [
       "<div>\n",
       "<style scoped>\n",
       "    .dataframe tbody tr th:only-of-type {\n",
       "        vertical-align: middle;\n",
       "    }\n",
       "\n",
       "    .dataframe tbody tr th {\n",
       "        vertical-align: top;\n",
       "    }\n",
       "\n",
       "    .dataframe thead th {\n",
       "        text-align: right;\n",
       "    }\n",
       "</style>\n",
       "<table border=\"1\" class=\"dataframe\">\n",
       "  <thead>\n",
       "    <tr style=\"text-align: right;\">\n",
       "      <th></th>\n",
       "      <th>Loja</th>\n",
       "      <th>Marca</th>\n",
       "      <th>Quantidade</th>\n",
       "    </tr>\n",
       "  </thead>\n",
       "  <tbody>\n",
       "    <tr>\n",
       "      <th>0</th>\n",
       "      <td>Amazon</td>\n",
       "      <td>Acer</td>\n",
       "      <td>10</td>\n",
       "    </tr>\n",
       "    <tr>\n",
       "      <th>1</th>\n",
       "      <td>Amazon</td>\n",
       "      <td>Dell</td>\n",
       "      <td>3</td>\n",
       "    </tr>\n",
       "    <tr>\n",
       "      <th>2</th>\n",
       "      <td>Amazon</td>\n",
       "      <td>Lenovo</td>\n",
       "      <td>1</td>\n",
       "    </tr>\n",
       "    <tr>\n",
       "      <th>3</th>\n",
       "      <td>Amazon</td>\n",
       "      <td>Lg</td>\n",
       "      <td>30</td>\n",
       "    </tr>\n",
       "    <tr>\n",
       "      <th>4</th>\n",
       "      <td>Amazon</td>\n",
       "      <td>Philco</td>\n",
       "      <td>9</td>\n",
       "    </tr>\n",
       "    <tr>\n",
       "      <th>5</th>\n",
       "      <td>Amazon</td>\n",
       "      <td>Philips</td>\n",
       "      <td>8</td>\n",
       "    </tr>\n",
       "    <tr>\n",
       "      <th>6</th>\n",
       "      <td>Amazon</td>\n",
       "      <td>Samsung</td>\n",
       "      <td>17</td>\n",
       "    </tr>\n",
       "    <tr>\n",
       "      <th>7</th>\n",
       "      <td>Amazon</td>\n",
       "      <td>Tcl</td>\n",
       "      <td>8</td>\n",
       "    </tr>\n",
       "    <tr>\n",
       "      <th>8</th>\n",
       "      <td>Amazon</td>\n",
       "      <td>Xiaomi</td>\n",
       "      <td>1</td>\n",
       "    </tr>\n",
       "    <tr>\n",
       "      <th>9</th>\n",
       "      <td>Americanas</td>\n",
       "      <td>Lg</td>\n",
       "      <td>86</td>\n",
       "    </tr>\n",
       "    <tr>\n",
       "      <th>10</th>\n",
       "      <td>Americanas</td>\n",
       "      <td>Philco</td>\n",
       "      <td>49</td>\n",
       "    </tr>\n",
       "    <tr>\n",
       "      <th>11</th>\n",
       "      <td>Americanas</td>\n",
       "      <td>Philips</td>\n",
       "      <td>9</td>\n",
       "    </tr>\n",
       "    <tr>\n",
       "      <th>12</th>\n",
       "      <td>Americanas</td>\n",
       "      <td>Samsung</td>\n",
       "      <td>69</td>\n",
       "    </tr>\n",
       "    <tr>\n",
       "      <th>13</th>\n",
       "      <td>Americanas</td>\n",
       "      <td>Tcl</td>\n",
       "      <td>13</td>\n",
       "    </tr>\n",
       "    <tr>\n",
       "      <th>14</th>\n",
       "      <td>Casas Bahia</td>\n",
       "      <td>Lg</td>\n",
       "      <td>72</td>\n",
       "    </tr>\n",
       "    <tr>\n",
       "      <th>15</th>\n",
       "      <td>Casas Bahia</td>\n",
       "      <td>Philco</td>\n",
       "      <td>32</td>\n",
       "    </tr>\n",
       "    <tr>\n",
       "      <th>16</th>\n",
       "      <td>Casas Bahia</td>\n",
       "      <td>Philips</td>\n",
       "      <td>12</td>\n",
       "    </tr>\n",
       "    <tr>\n",
       "      <th>17</th>\n",
       "      <td>Casas Bahia</td>\n",
       "      <td>Samsung</td>\n",
       "      <td>68</td>\n",
       "    </tr>\n",
       "    <tr>\n",
       "      <th>18</th>\n",
       "      <td>Casas Bahia</td>\n",
       "      <td>Tcl</td>\n",
       "      <td>20</td>\n",
       "    </tr>\n",
       "    <tr>\n",
       "      <th>19</th>\n",
       "      <td>Magazine Luiza</td>\n",
       "      <td>Lg</td>\n",
       "      <td>70</td>\n",
       "    </tr>\n",
       "    <tr>\n",
       "      <th>20</th>\n",
       "      <td>Magazine Luiza</td>\n",
       "      <td>Philco</td>\n",
       "      <td>20</td>\n",
       "    </tr>\n",
       "    <tr>\n",
       "      <th>21</th>\n",
       "      <td>Magazine Luiza</td>\n",
       "      <td>Philips</td>\n",
       "      <td>12</td>\n",
       "    </tr>\n",
       "    <tr>\n",
       "      <th>22</th>\n",
       "      <td>Magazine Luiza</td>\n",
       "      <td>Samsung</td>\n",
       "      <td>98</td>\n",
       "    </tr>\n",
       "    <tr>\n",
       "      <th>23</th>\n",
       "      <td>Magazine Luiza</td>\n",
       "      <td>Tcl</td>\n",
       "      <td>21</td>\n",
       "    </tr>\n",
       "    <tr>\n",
       "      <th>24</th>\n",
       "      <td>Submarino</td>\n",
       "      <td>Lg</td>\n",
       "      <td>50</td>\n",
       "    </tr>\n",
       "    <tr>\n",
       "      <th>25</th>\n",
       "      <td>Submarino</td>\n",
       "      <td>Philco</td>\n",
       "      <td>30</td>\n",
       "    </tr>\n",
       "    <tr>\n",
       "      <th>26</th>\n",
       "      <td>Submarino</td>\n",
       "      <td>Philips</td>\n",
       "      <td>10</td>\n",
       "    </tr>\n",
       "    <tr>\n",
       "      <th>27</th>\n",
       "      <td>Submarino</td>\n",
       "      <td>Samsung</td>\n",
       "      <td>90</td>\n",
       "    </tr>\n",
       "    <tr>\n",
       "      <th>28</th>\n",
       "      <td>Submarino</td>\n",
       "      <td>Tcl</td>\n",
       "      <td>10</td>\n",
       "    </tr>\n",
       "  </tbody>\n",
       "</table>\n",
       "</div>"
      ],
      "text/plain": [
       "              Loja    Marca  Quantidade\n",
       "0           Amazon     Acer          10\n",
       "1           Amazon     Dell           3\n",
       "2           Amazon   Lenovo           1\n",
       "3           Amazon       Lg          30\n",
       "4           Amazon   Philco           9\n",
       "5           Amazon  Philips           8\n",
       "6           Amazon  Samsung          17\n",
       "7           Amazon      Tcl           8\n",
       "8           Amazon   Xiaomi           1\n",
       "9       Americanas       Lg          86\n",
       "10      Americanas   Philco          49\n",
       "11      Americanas  Philips           9\n",
       "12      Americanas  Samsung          69\n",
       "13      Americanas      Tcl          13\n",
       "14     Casas Bahia       Lg          72\n",
       "15     Casas Bahia   Philco          32\n",
       "16     Casas Bahia  Philips          12\n",
       "17     Casas Bahia  Samsung          68\n",
       "18     Casas Bahia      Tcl          20\n",
       "19  Magazine Luiza       Lg          70\n",
       "20  Magazine Luiza   Philco          20\n",
       "21  Magazine Luiza  Philips          12\n",
       "22  Magazine Luiza  Samsung          98\n",
       "23  Magazine Luiza      Tcl          21\n",
       "24       Submarino       Lg          50\n",
       "25       Submarino   Philco          30\n",
       "26       Submarino  Philips          10\n",
       "27       Submarino  Samsung          90\n",
       "28       Submarino      Tcl          10"
      ]
     },
     "execution_count": 36,
     "metadata": {},
     "output_type": "execute_result"
    }
   ],
   "source": [
    "groupby_loja_marca_tv = dados_gerais_tv[['Loja','Marca','Descrição']].groupby(['Loja','Marca']).count()\n",
    "groupby_loja_marca_tv.reset_index(inplace=True)\n",
    "groupby_loja_marca_tv.rename(columns={'Descrição':'Quantidade'}, inplace=True)\n",
    "groupby_loja_marca_tv"
   ]
  },
  {
   "cell_type": "code",
   "execution_count": 37,
   "metadata": {},
   "outputs": [
    {
     "data": {
      "application/vnd.plotly.v1+json": {
       "config": {
        "plotlyServerURL": "https://plot.ly"
       },
       "data": [
        {
         "alignmentgroup": "True",
         "hovertemplate": "Marca=Acer<br>Loja=%{x}<br>Quantidade=%{y}<extra></extra>",
         "legendgroup": "Acer",
         "marker": {
          "color": "#636efa",
          "pattern": {
           "shape": ""
          }
         },
         "name": "Acer",
         "offsetgroup": "Acer",
         "orientation": "v",
         "showlegend": true,
         "textposition": "auto",
         "type": "bar",
         "x": [
          "Amazon"
         ],
         "xaxis": "x",
         "y": [
          10
         ],
         "yaxis": "y"
        },
        {
         "alignmentgroup": "True",
         "hovertemplate": "Marca=Dell<br>Loja=%{x}<br>Quantidade=%{y}<extra></extra>",
         "legendgroup": "Dell",
         "marker": {
          "color": "#EF553B",
          "pattern": {
           "shape": ""
          }
         },
         "name": "Dell",
         "offsetgroup": "Dell",
         "orientation": "v",
         "showlegend": true,
         "textposition": "auto",
         "type": "bar",
         "x": [
          "Amazon"
         ],
         "xaxis": "x",
         "y": [
          3
         ],
         "yaxis": "y"
        },
        {
         "alignmentgroup": "True",
         "hovertemplate": "Marca=Lenovo<br>Loja=%{x}<br>Quantidade=%{y}<extra></extra>",
         "legendgroup": "Lenovo",
         "marker": {
          "color": "#00cc96",
          "pattern": {
           "shape": ""
          }
         },
         "name": "Lenovo",
         "offsetgroup": "Lenovo",
         "orientation": "v",
         "showlegend": true,
         "textposition": "auto",
         "type": "bar",
         "x": [
          "Amazon"
         ],
         "xaxis": "x",
         "y": [
          1
         ],
         "yaxis": "y"
        },
        {
         "alignmentgroup": "True",
         "hovertemplate": "Marca=Lg<br>Loja=%{x}<br>Quantidade=%{y}<extra></extra>",
         "legendgroup": "Lg",
         "marker": {
          "color": "#ab63fa",
          "pattern": {
           "shape": ""
          }
         },
         "name": "Lg",
         "offsetgroup": "Lg",
         "orientation": "v",
         "showlegend": true,
         "textposition": "auto",
         "type": "bar",
         "x": [
          "Amazon",
          "Americanas",
          "Casas Bahia",
          "Magazine Luiza",
          "Submarino"
         ],
         "xaxis": "x",
         "y": [
          30,
          86,
          72,
          70,
          50
         ],
         "yaxis": "y"
        },
        {
         "alignmentgroup": "True",
         "hovertemplate": "Marca=Philco<br>Loja=%{x}<br>Quantidade=%{y}<extra></extra>",
         "legendgroup": "Philco",
         "marker": {
          "color": "#FFA15A",
          "pattern": {
           "shape": ""
          }
         },
         "name": "Philco",
         "offsetgroup": "Philco",
         "orientation": "v",
         "showlegend": true,
         "textposition": "auto",
         "type": "bar",
         "x": [
          "Amazon",
          "Americanas",
          "Casas Bahia",
          "Magazine Luiza",
          "Submarino"
         ],
         "xaxis": "x",
         "y": [
          9,
          49,
          32,
          20,
          30
         ],
         "yaxis": "y"
        },
        {
         "alignmentgroup": "True",
         "hovertemplate": "Marca=Philips<br>Loja=%{x}<br>Quantidade=%{y}<extra></extra>",
         "legendgroup": "Philips",
         "marker": {
          "color": "#19d3f3",
          "pattern": {
           "shape": ""
          }
         },
         "name": "Philips",
         "offsetgroup": "Philips",
         "orientation": "v",
         "showlegend": true,
         "textposition": "auto",
         "type": "bar",
         "x": [
          "Amazon",
          "Americanas",
          "Casas Bahia",
          "Magazine Luiza",
          "Submarino"
         ],
         "xaxis": "x",
         "y": [
          8,
          9,
          12,
          12,
          10
         ],
         "yaxis": "y"
        },
        {
         "alignmentgroup": "True",
         "hovertemplate": "Marca=Samsung<br>Loja=%{x}<br>Quantidade=%{y}<extra></extra>",
         "legendgroup": "Samsung",
         "marker": {
          "color": "#FF6692",
          "pattern": {
           "shape": ""
          }
         },
         "name": "Samsung",
         "offsetgroup": "Samsung",
         "orientation": "v",
         "showlegend": true,
         "textposition": "auto",
         "type": "bar",
         "x": [
          "Amazon",
          "Americanas",
          "Casas Bahia",
          "Magazine Luiza",
          "Submarino"
         ],
         "xaxis": "x",
         "y": [
          17,
          69,
          68,
          98,
          90
         ],
         "yaxis": "y"
        },
        {
         "alignmentgroup": "True",
         "hovertemplate": "Marca=Tcl<br>Loja=%{x}<br>Quantidade=%{y}<extra></extra>",
         "legendgroup": "Tcl",
         "marker": {
          "color": "#B6E880",
          "pattern": {
           "shape": ""
          }
         },
         "name": "Tcl",
         "offsetgroup": "Tcl",
         "orientation": "v",
         "showlegend": true,
         "textposition": "auto",
         "type": "bar",
         "x": [
          "Amazon",
          "Americanas",
          "Casas Bahia",
          "Magazine Luiza",
          "Submarino"
         ],
         "xaxis": "x",
         "y": [
          8,
          13,
          20,
          21,
          10
         ],
         "yaxis": "y"
        },
        {
         "alignmentgroup": "True",
         "hovertemplate": "Marca=Xiaomi<br>Loja=%{x}<br>Quantidade=%{y}<extra></extra>",
         "legendgroup": "Xiaomi",
         "marker": {
          "color": "#FF97FF",
          "pattern": {
           "shape": ""
          }
         },
         "name": "Xiaomi",
         "offsetgroup": "Xiaomi",
         "orientation": "v",
         "showlegend": true,
         "textposition": "auto",
         "type": "bar",
         "x": [
          "Amazon"
         ],
         "xaxis": "x",
         "y": [
          1
         ],
         "yaxis": "y"
        }
       ],
       "layout": {
        "barmode": "relative",
        "legend": {
         "title": {
          "text": "Marca"
         },
         "tracegroupgap": 0
        },
        "template": {
         "data": {
          "bar": [
           {
            "error_x": {
             "color": "#2a3f5f"
            },
            "error_y": {
             "color": "#2a3f5f"
            },
            "marker": {
             "line": {
              "color": "#E5ECF6",
              "width": 0.5
             },
             "pattern": {
              "fillmode": "overlay",
              "size": 10,
              "solidity": 0.2
             }
            },
            "type": "bar"
           }
          ],
          "barpolar": [
           {
            "marker": {
             "line": {
              "color": "#E5ECF6",
              "width": 0.5
             },
             "pattern": {
              "fillmode": "overlay",
              "size": 10,
              "solidity": 0.2
             }
            },
            "type": "barpolar"
           }
          ],
          "carpet": [
           {
            "aaxis": {
             "endlinecolor": "#2a3f5f",
             "gridcolor": "white",
             "linecolor": "white",
             "minorgridcolor": "white",
             "startlinecolor": "#2a3f5f"
            },
            "baxis": {
             "endlinecolor": "#2a3f5f",
             "gridcolor": "white",
             "linecolor": "white",
             "minorgridcolor": "white",
             "startlinecolor": "#2a3f5f"
            },
            "type": "carpet"
           }
          ],
          "choropleth": [
           {
            "colorbar": {
             "outlinewidth": 0,
             "ticks": ""
            },
            "type": "choropleth"
           }
          ],
          "contour": [
           {
            "colorbar": {
             "outlinewidth": 0,
             "ticks": ""
            },
            "colorscale": [
             [
              0,
              "#0d0887"
             ],
             [
              0.1111111111111111,
              "#46039f"
             ],
             [
              0.2222222222222222,
              "#7201a8"
             ],
             [
              0.3333333333333333,
              "#9c179e"
             ],
             [
              0.4444444444444444,
              "#bd3786"
             ],
             [
              0.5555555555555556,
              "#d8576b"
             ],
             [
              0.6666666666666666,
              "#ed7953"
             ],
             [
              0.7777777777777778,
              "#fb9f3a"
             ],
             [
              0.8888888888888888,
              "#fdca26"
             ],
             [
              1,
              "#f0f921"
             ]
            ],
            "type": "contour"
           }
          ],
          "contourcarpet": [
           {
            "colorbar": {
             "outlinewidth": 0,
             "ticks": ""
            },
            "type": "contourcarpet"
           }
          ],
          "heatmap": [
           {
            "colorbar": {
             "outlinewidth": 0,
             "ticks": ""
            },
            "colorscale": [
             [
              0,
              "#0d0887"
             ],
             [
              0.1111111111111111,
              "#46039f"
             ],
             [
              0.2222222222222222,
              "#7201a8"
             ],
             [
              0.3333333333333333,
              "#9c179e"
             ],
             [
              0.4444444444444444,
              "#bd3786"
             ],
             [
              0.5555555555555556,
              "#d8576b"
             ],
             [
              0.6666666666666666,
              "#ed7953"
             ],
             [
              0.7777777777777778,
              "#fb9f3a"
             ],
             [
              0.8888888888888888,
              "#fdca26"
             ],
             [
              1,
              "#f0f921"
             ]
            ],
            "type": "heatmap"
           }
          ],
          "heatmapgl": [
           {
            "colorbar": {
             "outlinewidth": 0,
             "ticks": ""
            },
            "colorscale": [
             [
              0,
              "#0d0887"
             ],
             [
              0.1111111111111111,
              "#46039f"
             ],
             [
              0.2222222222222222,
              "#7201a8"
             ],
             [
              0.3333333333333333,
              "#9c179e"
             ],
             [
              0.4444444444444444,
              "#bd3786"
             ],
             [
              0.5555555555555556,
              "#d8576b"
             ],
             [
              0.6666666666666666,
              "#ed7953"
             ],
             [
              0.7777777777777778,
              "#fb9f3a"
             ],
             [
              0.8888888888888888,
              "#fdca26"
             ],
             [
              1,
              "#f0f921"
             ]
            ],
            "type": "heatmapgl"
           }
          ],
          "histogram": [
           {
            "marker": {
             "pattern": {
              "fillmode": "overlay",
              "size": 10,
              "solidity": 0.2
             }
            },
            "type": "histogram"
           }
          ],
          "histogram2d": [
           {
            "colorbar": {
             "outlinewidth": 0,
             "ticks": ""
            },
            "colorscale": [
             [
              0,
              "#0d0887"
             ],
             [
              0.1111111111111111,
              "#46039f"
             ],
             [
              0.2222222222222222,
              "#7201a8"
             ],
             [
              0.3333333333333333,
              "#9c179e"
             ],
             [
              0.4444444444444444,
              "#bd3786"
             ],
             [
              0.5555555555555556,
              "#d8576b"
             ],
             [
              0.6666666666666666,
              "#ed7953"
             ],
             [
              0.7777777777777778,
              "#fb9f3a"
             ],
             [
              0.8888888888888888,
              "#fdca26"
             ],
             [
              1,
              "#f0f921"
             ]
            ],
            "type": "histogram2d"
           }
          ],
          "histogram2dcontour": [
           {
            "colorbar": {
             "outlinewidth": 0,
             "ticks": ""
            },
            "colorscale": [
             [
              0,
              "#0d0887"
             ],
             [
              0.1111111111111111,
              "#46039f"
             ],
             [
              0.2222222222222222,
              "#7201a8"
             ],
             [
              0.3333333333333333,
              "#9c179e"
             ],
             [
              0.4444444444444444,
              "#bd3786"
             ],
             [
              0.5555555555555556,
              "#d8576b"
             ],
             [
              0.6666666666666666,
              "#ed7953"
             ],
             [
              0.7777777777777778,
              "#fb9f3a"
             ],
             [
              0.8888888888888888,
              "#fdca26"
             ],
             [
              1,
              "#f0f921"
             ]
            ],
            "type": "histogram2dcontour"
           }
          ],
          "mesh3d": [
           {
            "colorbar": {
             "outlinewidth": 0,
             "ticks": ""
            },
            "type": "mesh3d"
           }
          ],
          "parcoords": [
           {
            "line": {
             "colorbar": {
              "outlinewidth": 0,
              "ticks": ""
             }
            },
            "type": "parcoords"
           }
          ],
          "pie": [
           {
            "automargin": true,
            "type": "pie"
           }
          ],
          "scatter": [
           {
            "marker": {
             "colorbar": {
              "outlinewidth": 0,
              "ticks": ""
             }
            },
            "type": "scatter"
           }
          ],
          "scatter3d": [
           {
            "line": {
             "colorbar": {
              "outlinewidth": 0,
              "ticks": ""
             }
            },
            "marker": {
             "colorbar": {
              "outlinewidth": 0,
              "ticks": ""
             }
            },
            "type": "scatter3d"
           }
          ],
          "scattercarpet": [
           {
            "marker": {
             "colorbar": {
              "outlinewidth": 0,
              "ticks": ""
             }
            },
            "type": "scattercarpet"
           }
          ],
          "scattergeo": [
           {
            "marker": {
             "colorbar": {
              "outlinewidth": 0,
              "ticks": ""
             }
            },
            "type": "scattergeo"
           }
          ],
          "scattergl": [
           {
            "marker": {
             "colorbar": {
              "outlinewidth": 0,
              "ticks": ""
             }
            },
            "type": "scattergl"
           }
          ],
          "scattermapbox": [
           {
            "marker": {
             "colorbar": {
              "outlinewidth": 0,
              "ticks": ""
             }
            },
            "type": "scattermapbox"
           }
          ],
          "scatterpolar": [
           {
            "marker": {
             "colorbar": {
              "outlinewidth": 0,
              "ticks": ""
             }
            },
            "type": "scatterpolar"
           }
          ],
          "scatterpolargl": [
           {
            "marker": {
             "colorbar": {
              "outlinewidth": 0,
              "ticks": ""
             }
            },
            "type": "scatterpolargl"
           }
          ],
          "scatterternary": [
           {
            "marker": {
             "colorbar": {
              "outlinewidth": 0,
              "ticks": ""
             }
            },
            "type": "scatterternary"
           }
          ],
          "surface": [
           {
            "colorbar": {
             "outlinewidth": 0,
             "ticks": ""
            },
            "colorscale": [
             [
              0,
              "#0d0887"
             ],
             [
              0.1111111111111111,
              "#46039f"
             ],
             [
              0.2222222222222222,
              "#7201a8"
             ],
             [
              0.3333333333333333,
              "#9c179e"
             ],
             [
              0.4444444444444444,
              "#bd3786"
             ],
             [
              0.5555555555555556,
              "#d8576b"
             ],
             [
              0.6666666666666666,
              "#ed7953"
             ],
             [
              0.7777777777777778,
              "#fb9f3a"
             ],
             [
              0.8888888888888888,
              "#fdca26"
             ],
             [
              1,
              "#f0f921"
             ]
            ],
            "type": "surface"
           }
          ],
          "table": [
           {
            "cells": {
             "fill": {
              "color": "#EBF0F8"
             },
             "line": {
              "color": "white"
             }
            },
            "header": {
             "fill": {
              "color": "#C8D4E3"
             },
             "line": {
              "color": "white"
             }
            },
            "type": "table"
           }
          ]
         },
         "layout": {
          "annotationdefaults": {
           "arrowcolor": "#2a3f5f",
           "arrowhead": 0,
           "arrowwidth": 1
          },
          "autotypenumbers": "strict",
          "coloraxis": {
           "colorbar": {
            "outlinewidth": 0,
            "ticks": ""
           }
          },
          "colorscale": {
           "diverging": [
            [
             0,
             "#8e0152"
            ],
            [
             0.1,
             "#c51b7d"
            ],
            [
             0.2,
             "#de77ae"
            ],
            [
             0.3,
             "#f1b6da"
            ],
            [
             0.4,
             "#fde0ef"
            ],
            [
             0.5,
             "#f7f7f7"
            ],
            [
             0.6,
             "#e6f5d0"
            ],
            [
             0.7,
             "#b8e186"
            ],
            [
             0.8,
             "#7fbc41"
            ],
            [
             0.9,
             "#4d9221"
            ],
            [
             1,
             "#276419"
            ]
           ],
           "sequential": [
            [
             0,
             "#0d0887"
            ],
            [
             0.1111111111111111,
             "#46039f"
            ],
            [
             0.2222222222222222,
             "#7201a8"
            ],
            [
             0.3333333333333333,
             "#9c179e"
            ],
            [
             0.4444444444444444,
             "#bd3786"
            ],
            [
             0.5555555555555556,
             "#d8576b"
            ],
            [
             0.6666666666666666,
             "#ed7953"
            ],
            [
             0.7777777777777778,
             "#fb9f3a"
            ],
            [
             0.8888888888888888,
             "#fdca26"
            ],
            [
             1,
             "#f0f921"
            ]
           ],
           "sequentialminus": [
            [
             0,
             "#0d0887"
            ],
            [
             0.1111111111111111,
             "#46039f"
            ],
            [
             0.2222222222222222,
             "#7201a8"
            ],
            [
             0.3333333333333333,
             "#9c179e"
            ],
            [
             0.4444444444444444,
             "#bd3786"
            ],
            [
             0.5555555555555556,
             "#d8576b"
            ],
            [
             0.6666666666666666,
             "#ed7953"
            ],
            [
             0.7777777777777778,
             "#fb9f3a"
            ],
            [
             0.8888888888888888,
             "#fdca26"
            ],
            [
             1,
             "#f0f921"
            ]
           ]
          },
          "colorway": [
           "#636efa",
           "#EF553B",
           "#00cc96",
           "#ab63fa",
           "#FFA15A",
           "#19d3f3",
           "#FF6692",
           "#B6E880",
           "#FF97FF",
           "#FECB52"
          ],
          "font": {
           "color": "#2a3f5f"
          },
          "geo": {
           "bgcolor": "white",
           "lakecolor": "white",
           "landcolor": "#E5ECF6",
           "showlakes": true,
           "showland": true,
           "subunitcolor": "white"
          },
          "hoverlabel": {
           "align": "left"
          },
          "hovermode": "closest",
          "mapbox": {
           "style": "light"
          },
          "paper_bgcolor": "white",
          "plot_bgcolor": "#E5ECF6",
          "polar": {
           "angularaxis": {
            "gridcolor": "white",
            "linecolor": "white",
            "ticks": ""
           },
           "bgcolor": "#E5ECF6",
           "radialaxis": {
            "gridcolor": "white",
            "linecolor": "white",
            "ticks": ""
           }
          },
          "scene": {
           "xaxis": {
            "backgroundcolor": "#E5ECF6",
            "gridcolor": "white",
            "gridwidth": 2,
            "linecolor": "white",
            "showbackground": true,
            "ticks": "",
            "zerolinecolor": "white"
           },
           "yaxis": {
            "backgroundcolor": "#E5ECF6",
            "gridcolor": "white",
            "gridwidth": 2,
            "linecolor": "white",
            "showbackground": true,
            "ticks": "",
            "zerolinecolor": "white"
           },
           "zaxis": {
            "backgroundcolor": "#E5ECF6",
            "gridcolor": "white",
            "gridwidth": 2,
            "linecolor": "white",
            "showbackground": true,
            "ticks": "",
            "zerolinecolor": "white"
           }
          },
          "shapedefaults": {
           "line": {
            "color": "#2a3f5f"
           }
          },
          "ternary": {
           "aaxis": {
            "gridcolor": "white",
            "linecolor": "white",
            "ticks": ""
           },
           "baxis": {
            "gridcolor": "white",
            "linecolor": "white",
            "ticks": ""
           },
           "bgcolor": "#E5ECF6",
           "caxis": {
            "gridcolor": "white",
            "linecolor": "white",
            "ticks": ""
           }
          },
          "title": {
           "x": 0.05
          },
          "xaxis": {
           "automargin": true,
           "gridcolor": "white",
           "linecolor": "white",
           "ticks": "",
           "title": {
            "standoff": 15
           },
           "zerolinecolor": "white",
           "zerolinewidth": 2
          },
          "yaxis": {
           "automargin": true,
           "gridcolor": "white",
           "linecolor": "white",
           "ticks": "",
           "title": {
            "standoff": 15
           },
           "zerolinecolor": "white",
           "zerolinewidth": 2
          }
         }
        },
        "title": {
         "text": "Contagem de marcas de TVs por Loja"
        },
        "xaxis": {
         "anchor": "y",
         "domain": [
          0,
          1
         ],
         "title": {
          "text": "Loja"
         }
        },
        "yaxis": {
         "anchor": "x",
         "domain": [
          0,
          1
         ],
         "title": {
          "text": "Quantidade"
         }
        }
       }
      }
     },
     "metadata": {},
     "output_type": "display_data"
    }
   ],
   "source": [
    "fig = px.bar(groupby_loja_marca_tv, x='Loja',y='Quantidade',  color=\"Marca\", title=\"Contagem de marcas de TVs por Loja\", facet_row_spacing=0)\n",
    "fig.show()"
   ]
  },
  {
   "cell_type": "code",
   "execution_count": 38,
   "metadata": {},
   "outputs": [
    {
     "data": {
      "text/html": [
       "<div>\n",
       "<style scoped>\n",
       "    .dataframe tbody tr th:only-of-type {\n",
       "        vertical-align: middle;\n",
       "    }\n",
       "\n",
       "    .dataframe tbody tr th {\n",
       "        vertical-align: top;\n",
       "    }\n",
       "\n",
       "    .dataframe thead th {\n",
       "        text-align: right;\n",
       "    }\n",
       "</style>\n",
       "<table border=\"1\" class=\"dataframe\">\n",
       "  <thead>\n",
       "    <tr style=\"text-align: right;\">\n",
       "      <th></th>\n",
       "      <th>Descrição</th>\n",
       "      <th>Preço</th>\n",
       "      <th>TotalReviews</th>\n",
       "      <th>Loja</th>\n",
       "      <th>Categoria</th>\n",
       "      <th>Marca</th>\n",
       "    </tr>\n",
       "  </thead>\n",
       "  <tbody>\n",
       "    <tr>\n",
       "      <th>366</th>\n",
       "      <td>Smart TV Philips 50PUG7625 4K UHD, P5, HDR10+,...</td>\n",
       "      <td>2399.00</td>\n",
       "      <td>171.0</td>\n",
       "      <td>Amazon</td>\n",
       "      <td>TV</td>\n",
       "      <td>Philips</td>\n",
       "    </tr>\n",
       "    <tr>\n",
       "      <th>369</th>\n",
       "      <td>2021 Smart TV LG 55\" 4K OLED55C1 120Hz G-Sync ...</td>\n",
       "      <td>5249.00</td>\n",
       "      <td>35.0</td>\n",
       "      <td>Amazon</td>\n",
       "      <td>TV</td>\n",
       "      <td>Lg</td>\n",
       "    </tr>\n",
       "    <tr>\n",
       "      <th>370</th>\n",
       "      <td>Smart TV LED 43\" 4K UHD LG 43UN731C, 3 HDMI, 2...</td>\n",
       "      <td>2083.11</td>\n",
       "      <td>543.0</td>\n",
       "      <td>Amazon</td>\n",
       "      <td>TV</td>\n",
       "      <td>Lg</td>\n",
       "    </tr>\n",
       "    <tr>\n",
       "      <th>371</th>\n",
       "      <td>Smart TV 4K QLED 55” Ultra HD Samsung</td>\n",
       "      <td>3749.00</td>\n",
       "      <td>0.0</td>\n",
       "      <td>Amazon</td>\n",
       "      <td>TV</td>\n",
       "      <td>Samsung</td>\n",
       "    </tr>\n",
       "    <tr>\n",
       "      <th>372</th>\n",
       "      <td>Smart TV 55\" 4K Samsung UN55TU8000GXZD, Crysta...</td>\n",
       "      <td>3583.48</td>\n",
       "      <td>1248.0</td>\n",
       "      <td>Amazon</td>\n",
       "      <td>TV</td>\n",
       "      <td>Samsung</td>\n",
       "    </tr>\n",
       "    <tr>\n",
       "      <th>...</th>\n",
       "      <td>...</td>\n",
       "      <td>...</td>\n",
       "      <td>...</td>\n",
       "      <td>...</td>\n",
       "      <td>...</td>\n",
       "      <td>...</td>\n",
       "    </tr>\n",
       "    <tr>\n",
       "      <th>3318</th>\n",
       "      <td>Smart TV 50\" LG 50UN7310 UHD 4K Wifi Bluetooth...</td>\n",
       "      <td>2999.99</td>\n",
       "      <td>58.0</td>\n",
       "      <td>Submarino</td>\n",
       "      <td>TV</td>\n",
       "      <td>Lg</td>\n",
       "    </tr>\n",
       "    <tr>\n",
       "      <th>3321</th>\n",
       "      <td>Samsung Smart TV 55\" QLED 4K The Frame 2021 55...</td>\n",
       "      <td>4499.99</td>\n",
       "      <td>2.0</td>\n",
       "      <td>Submarino</td>\n",
       "      <td>TV</td>\n",
       "      <td>Samsung</td>\n",
       "    </tr>\n",
       "    <tr>\n",
       "      <th>3326</th>\n",
       "      <td>Smart TV Philips 50\" UHD 4K 50PUG7625 Wi-Fi HD...</td>\n",
       "      <td>2499.99</td>\n",
       "      <td>15.0</td>\n",
       "      <td>Submarino</td>\n",
       "      <td>TV</td>\n",
       "      <td>Philips</td>\n",
       "    </tr>\n",
       "    <tr>\n",
       "      <th>3327</th>\n",
       "      <td>Smart TV Philco 50\" 4K LED UHD PTV50N10N5E - 4...</td>\n",
       "      <td>2599.99</td>\n",
       "      <td>0.0</td>\n",
       "      <td>Submarino</td>\n",
       "      <td>TV</td>\n",
       "      <td>Philco</td>\n",
       "    </tr>\n",
       "    <tr>\n",
       "      <th>3328</th>\n",
       "      <td>Smart TV LED 75” LG 75UP8050 4K UHD Wi-Fi Blue...</td>\n",
       "      <td>5899.99</td>\n",
       "      <td>2.0</td>\n",
       "      <td>Submarino</td>\n",
       "      <td>TV</td>\n",
       "      <td>Lg</td>\n",
       "    </tr>\n",
       "  </tbody>\n",
       "</table>\n",
       "<p>474 rows × 6 columns</p>\n",
       "</div>"
      ],
      "text/plain": [
       "                                              Descrição    Preço  \\\n",
       "366   Smart TV Philips 50PUG7625 4K UHD, P5, HDR10+,...  2399.00   \n",
       "369   2021 Smart TV LG 55\" 4K OLED55C1 120Hz G-Sync ...  5249.00   \n",
       "370   Smart TV LED 43\" 4K UHD LG 43UN731C, 3 HDMI, 2...  2083.11   \n",
       "371               Smart TV 4K QLED 55” Ultra HD Samsung  3749.00   \n",
       "372   Smart TV 55\" 4K Samsung UN55TU8000GXZD, Crysta...  3583.48   \n",
       "...                                                 ...      ...   \n",
       "3318  Smart TV 50\" LG 50UN7310 UHD 4K Wifi Bluetooth...  2999.99   \n",
       "3321  Samsung Smart TV 55\" QLED 4K The Frame 2021 55...  4499.99   \n",
       "3326  Smart TV Philips 50\" UHD 4K 50PUG7625 Wi-Fi HD...  2499.99   \n",
       "3327  Smart TV Philco 50\" 4K LED UHD PTV50N10N5E - 4...  2599.99   \n",
       "3328  Smart TV LED 75” LG 75UP8050 4K UHD Wi-Fi Blue...  5899.99   \n",
       "\n",
       "      TotalReviews       Loja Categoria    Marca  \n",
       "366          171.0     Amazon        TV  Philips  \n",
       "369           35.0     Amazon        TV       Lg  \n",
       "370          543.0     Amazon        TV       Lg  \n",
       "371            0.0     Amazon        TV  Samsung  \n",
       "372         1248.0     Amazon        TV  Samsung  \n",
       "...            ...        ...       ...      ...  \n",
       "3318          58.0  Submarino        TV       Lg  \n",
       "3321           2.0  Submarino        TV  Samsung  \n",
       "3326          15.0  Submarino        TV  Philips  \n",
       "3327           0.0  Submarino        TV   Philco  \n",
       "3328           2.0  Submarino        TV       Lg  \n",
       "\n",
       "[474 rows x 6 columns]"
      ]
     },
     "execution_count": 38,
     "metadata": {},
     "output_type": "execute_result"
    }
   ],
   "source": [
    "dados_gerais_tv[dados_gerais_tv[\"Descrição\"].str.contains(\"4K\")]"
   ]
  },
  {
   "cell_type": "code",
   "execution_count": 39,
   "metadata": {},
   "outputs": [
    {
     "data": {
      "text/html": [
       "<div>\n",
       "<style scoped>\n",
       "    .dataframe tbody tr th:only-of-type {\n",
       "        vertical-align: middle;\n",
       "    }\n",
       "\n",
       "    .dataframe tbody tr th {\n",
       "        vertical-align: top;\n",
       "    }\n",
       "\n",
       "    .dataframe thead th {\n",
       "        text-align: right;\n",
       "    }\n",
       "</style>\n",
       "<table border=\"1\" class=\"dataframe\">\n",
       "  <thead>\n",
       "    <tr style=\"text-align: right;\">\n",
       "      <th></th>\n",
       "      <th>Loja</th>\n",
       "      <th>Categoria</th>\n",
       "      <th>TotalReviews</th>\n",
       "    </tr>\n",
       "  </thead>\n",
       "  <tbody>\n",
       "    <tr>\n",
       "      <th>0</th>\n",
       "      <td>Amazon</td>\n",
       "      <td>Geladeira</td>\n",
       "      <td>10315.0</td>\n",
       "    </tr>\n",
       "    <tr>\n",
       "      <th>1</th>\n",
       "      <td>Amazon</td>\n",
       "      <td>Notebook</td>\n",
       "      <td>30193.0</td>\n",
       "    </tr>\n",
       "    <tr>\n",
       "      <th>2</th>\n",
       "      <td>Amazon</td>\n",
       "      <td>Smartphone</td>\n",
       "      <td>226760.0</td>\n",
       "    </tr>\n",
       "    <tr>\n",
       "      <th>3</th>\n",
       "      <td>Amazon</td>\n",
       "      <td>TV</td>\n",
       "      <td>59731.0</td>\n",
       "    </tr>\n",
       "    <tr>\n",
       "      <th>4</th>\n",
       "      <td>Americanas</td>\n",
       "      <td>Geladeira</td>\n",
       "      <td>7639.0</td>\n",
       "    </tr>\n",
       "  </tbody>\n",
       "</table>\n",
       "</div>"
      ],
      "text/plain": [
       "         Loja   Categoria  TotalReviews\n",
       "0      Amazon   Geladeira       10315.0\n",
       "1      Amazon    Notebook       30193.0\n",
       "2      Amazon  Smartphone      226760.0\n",
       "3      Amazon          TV       59731.0\n",
       "4  Americanas   Geladeira        7639.0"
      ]
     },
     "execution_count": 39,
     "metadata": {},
     "output_type": "execute_result"
    }
   ],
   "source": [
    "ntb_groupby_review = dados_gerais[['Loja','Categoria','TotalReviews']].groupby(['Loja', 'Categoria']).sum()\n",
    "ntb_groupby_review.reset_index(inplace=True)\n",
    "ntb_groupby_review.head()"
   ]
  },
  {
   "cell_type": "code",
   "execution_count": 40,
   "metadata": {},
   "outputs": [
    {
     "data": {
      "application/vnd.plotly.v1+json": {
       "config": {
        "plotlyServerURL": "https://plot.ly"
       },
       "data": [
        {
         "alignmentgroup": "True",
         "hovertemplate": "Categoria=Geladeira<br>Loja=%{x}<br>TotalReviews=%{text}<extra></extra>",
         "legendgroup": "Geladeira",
         "marker": {
          "color": "#636efa",
          "pattern": {
           "shape": ""
          }
         },
         "name": "Geladeira",
         "offsetgroup": "Geladeira",
         "orientation": "v",
         "showlegend": true,
         "text": [
          10315,
          7639,
          46228,
          3423,
          6818
         ],
         "textposition": "outside",
         "texttemplate": "%{text:.2s}",
         "type": "bar",
         "x": [
          "Amazon",
          "Americanas",
          "Casas Bahia",
          "Magazine Luiza",
          "Submarino"
         ],
         "xaxis": "x",
         "y": [
          10315,
          7639,
          46228,
          3423,
          6818
         ],
         "yaxis": "y"
        },
        {
         "alignmentgroup": "True",
         "hovertemplate": "Categoria=Notebook<br>Loja=%{x}<br>TotalReviews=%{text}<extra></extra>",
         "legendgroup": "Notebook",
         "marker": {
          "color": "#EF553B",
          "pattern": {
           "shape": ""
          }
         },
         "name": "Notebook",
         "offsetgroup": "Notebook",
         "orientation": "v",
         "showlegend": true,
         "text": [
          30193,
          1905,
          6610,
          1568,
          2920
         ],
         "textposition": "outside",
         "texttemplate": "%{text:.2s}",
         "type": "bar",
         "x": [
          "Amazon",
          "Americanas",
          "Casas Bahia",
          "Magazine Luiza",
          "Submarino"
         ],
         "xaxis": "x",
         "y": [
          30193,
          1905,
          6610,
          1568,
          2920
         ],
         "yaxis": "y"
        },
        {
         "alignmentgroup": "True",
         "hovertemplate": "Categoria=Smartphone<br>Loja=%{x}<br>TotalReviews=%{text}<extra></extra>",
         "legendgroup": "Smartphone",
         "marker": {
          "color": "#00cc96",
          "pattern": {
           "shape": ""
          }
         },
         "name": "Smartphone",
         "offsetgroup": "Smartphone",
         "orientation": "v",
         "showlegend": true,
         "text": [
          226760,
          30637,
          68854,
          4474,
          4576
         ],
         "textposition": "outside",
         "texttemplate": "%{text:.2s}",
         "type": "bar",
         "x": [
          "Amazon",
          "Americanas",
          "Casas Bahia",
          "Magazine Luiza",
          "Submarino"
         ],
         "xaxis": "x",
         "y": [
          226760,
          30637,
          68854,
          4474,
          4576
         ],
         "yaxis": "y"
        },
        {
         "alignmentgroup": "True",
         "hovertemplate": "Categoria=TV<br>Loja=%{x}<br>TotalReviews=%{text}<extra></extra>",
         "legendgroup": "TV",
         "marker": {
          "color": "#ab63fa",
          "pattern": {
           "shape": ""
          }
         },
         "name": "TV",
         "offsetgroup": "TV",
         "orientation": "v",
         "showlegend": true,
         "text": [
          59731,
          7118,
          16766,
          6097,
          4110
         ],
         "textposition": "outside",
         "texttemplate": "%{text:.2s}",
         "type": "bar",
         "x": [
          "Amazon",
          "Americanas",
          "Casas Bahia",
          "Magazine Luiza",
          "Submarino"
         ],
         "xaxis": "x",
         "y": [
          59731,
          7118,
          16766,
          6097,
          4110
         ],
         "yaxis": "y"
        }
       ],
       "layout": {
        "barmode": "group",
        "height": 600,
        "legend": {
         "title": {
          "text": "Categoria"
         },
         "tracegroupgap": 0
        },
        "template": {
         "data": {
          "bar": [
           {
            "error_x": {
             "color": "#2a3f5f"
            },
            "error_y": {
             "color": "#2a3f5f"
            },
            "marker": {
             "line": {
              "color": "#E5ECF6",
              "width": 0.5
             },
             "pattern": {
              "fillmode": "overlay",
              "size": 10,
              "solidity": 0.2
             }
            },
            "type": "bar"
           }
          ],
          "barpolar": [
           {
            "marker": {
             "line": {
              "color": "#E5ECF6",
              "width": 0.5
             },
             "pattern": {
              "fillmode": "overlay",
              "size": 10,
              "solidity": 0.2
             }
            },
            "type": "barpolar"
           }
          ],
          "carpet": [
           {
            "aaxis": {
             "endlinecolor": "#2a3f5f",
             "gridcolor": "white",
             "linecolor": "white",
             "minorgridcolor": "white",
             "startlinecolor": "#2a3f5f"
            },
            "baxis": {
             "endlinecolor": "#2a3f5f",
             "gridcolor": "white",
             "linecolor": "white",
             "minorgridcolor": "white",
             "startlinecolor": "#2a3f5f"
            },
            "type": "carpet"
           }
          ],
          "choropleth": [
           {
            "colorbar": {
             "outlinewidth": 0,
             "ticks": ""
            },
            "type": "choropleth"
           }
          ],
          "contour": [
           {
            "colorbar": {
             "outlinewidth": 0,
             "ticks": ""
            },
            "colorscale": [
             [
              0,
              "#0d0887"
             ],
             [
              0.1111111111111111,
              "#46039f"
             ],
             [
              0.2222222222222222,
              "#7201a8"
             ],
             [
              0.3333333333333333,
              "#9c179e"
             ],
             [
              0.4444444444444444,
              "#bd3786"
             ],
             [
              0.5555555555555556,
              "#d8576b"
             ],
             [
              0.6666666666666666,
              "#ed7953"
             ],
             [
              0.7777777777777778,
              "#fb9f3a"
             ],
             [
              0.8888888888888888,
              "#fdca26"
             ],
             [
              1,
              "#f0f921"
             ]
            ],
            "type": "contour"
           }
          ],
          "contourcarpet": [
           {
            "colorbar": {
             "outlinewidth": 0,
             "ticks": ""
            },
            "type": "contourcarpet"
           }
          ],
          "heatmap": [
           {
            "colorbar": {
             "outlinewidth": 0,
             "ticks": ""
            },
            "colorscale": [
             [
              0,
              "#0d0887"
             ],
             [
              0.1111111111111111,
              "#46039f"
             ],
             [
              0.2222222222222222,
              "#7201a8"
             ],
             [
              0.3333333333333333,
              "#9c179e"
             ],
             [
              0.4444444444444444,
              "#bd3786"
             ],
             [
              0.5555555555555556,
              "#d8576b"
             ],
             [
              0.6666666666666666,
              "#ed7953"
             ],
             [
              0.7777777777777778,
              "#fb9f3a"
             ],
             [
              0.8888888888888888,
              "#fdca26"
             ],
             [
              1,
              "#f0f921"
             ]
            ],
            "type": "heatmap"
           }
          ],
          "heatmapgl": [
           {
            "colorbar": {
             "outlinewidth": 0,
             "ticks": ""
            },
            "colorscale": [
             [
              0,
              "#0d0887"
             ],
             [
              0.1111111111111111,
              "#46039f"
             ],
             [
              0.2222222222222222,
              "#7201a8"
             ],
             [
              0.3333333333333333,
              "#9c179e"
             ],
             [
              0.4444444444444444,
              "#bd3786"
             ],
             [
              0.5555555555555556,
              "#d8576b"
             ],
             [
              0.6666666666666666,
              "#ed7953"
             ],
             [
              0.7777777777777778,
              "#fb9f3a"
             ],
             [
              0.8888888888888888,
              "#fdca26"
             ],
             [
              1,
              "#f0f921"
             ]
            ],
            "type": "heatmapgl"
           }
          ],
          "histogram": [
           {
            "marker": {
             "pattern": {
              "fillmode": "overlay",
              "size": 10,
              "solidity": 0.2
             }
            },
            "type": "histogram"
           }
          ],
          "histogram2d": [
           {
            "colorbar": {
             "outlinewidth": 0,
             "ticks": ""
            },
            "colorscale": [
             [
              0,
              "#0d0887"
             ],
             [
              0.1111111111111111,
              "#46039f"
             ],
             [
              0.2222222222222222,
              "#7201a8"
             ],
             [
              0.3333333333333333,
              "#9c179e"
             ],
             [
              0.4444444444444444,
              "#bd3786"
             ],
             [
              0.5555555555555556,
              "#d8576b"
             ],
             [
              0.6666666666666666,
              "#ed7953"
             ],
             [
              0.7777777777777778,
              "#fb9f3a"
             ],
             [
              0.8888888888888888,
              "#fdca26"
             ],
             [
              1,
              "#f0f921"
             ]
            ],
            "type": "histogram2d"
           }
          ],
          "histogram2dcontour": [
           {
            "colorbar": {
             "outlinewidth": 0,
             "ticks": ""
            },
            "colorscale": [
             [
              0,
              "#0d0887"
             ],
             [
              0.1111111111111111,
              "#46039f"
             ],
             [
              0.2222222222222222,
              "#7201a8"
             ],
             [
              0.3333333333333333,
              "#9c179e"
             ],
             [
              0.4444444444444444,
              "#bd3786"
             ],
             [
              0.5555555555555556,
              "#d8576b"
             ],
             [
              0.6666666666666666,
              "#ed7953"
             ],
             [
              0.7777777777777778,
              "#fb9f3a"
             ],
             [
              0.8888888888888888,
              "#fdca26"
             ],
             [
              1,
              "#f0f921"
             ]
            ],
            "type": "histogram2dcontour"
           }
          ],
          "mesh3d": [
           {
            "colorbar": {
             "outlinewidth": 0,
             "ticks": ""
            },
            "type": "mesh3d"
           }
          ],
          "parcoords": [
           {
            "line": {
             "colorbar": {
              "outlinewidth": 0,
              "ticks": ""
             }
            },
            "type": "parcoords"
           }
          ],
          "pie": [
           {
            "automargin": true,
            "type": "pie"
           }
          ],
          "scatter": [
           {
            "marker": {
             "colorbar": {
              "outlinewidth": 0,
              "ticks": ""
             }
            },
            "type": "scatter"
           }
          ],
          "scatter3d": [
           {
            "line": {
             "colorbar": {
              "outlinewidth": 0,
              "ticks": ""
             }
            },
            "marker": {
             "colorbar": {
              "outlinewidth": 0,
              "ticks": ""
             }
            },
            "type": "scatter3d"
           }
          ],
          "scattercarpet": [
           {
            "marker": {
             "colorbar": {
              "outlinewidth": 0,
              "ticks": ""
             }
            },
            "type": "scattercarpet"
           }
          ],
          "scattergeo": [
           {
            "marker": {
             "colorbar": {
              "outlinewidth": 0,
              "ticks": ""
             }
            },
            "type": "scattergeo"
           }
          ],
          "scattergl": [
           {
            "marker": {
             "colorbar": {
              "outlinewidth": 0,
              "ticks": ""
             }
            },
            "type": "scattergl"
           }
          ],
          "scattermapbox": [
           {
            "marker": {
             "colorbar": {
              "outlinewidth": 0,
              "ticks": ""
             }
            },
            "type": "scattermapbox"
           }
          ],
          "scatterpolar": [
           {
            "marker": {
             "colorbar": {
              "outlinewidth": 0,
              "ticks": ""
             }
            },
            "type": "scatterpolar"
           }
          ],
          "scatterpolargl": [
           {
            "marker": {
             "colorbar": {
              "outlinewidth": 0,
              "ticks": ""
             }
            },
            "type": "scatterpolargl"
           }
          ],
          "scatterternary": [
           {
            "marker": {
             "colorbar": {
              "outlinewidth": 0,
              "ticks": ""
             }
            },
            "type": "scatterternary"
           }
          ],
          "surface": [
           {
            "colorbar": {
             "outlinewidth": 0,
             "ticks": ""
            },
            "colorscale": [
             [
              0,
              "#0d0887"
             ],
             [
              0.1111111111111111,
              "#46039f"
             ],
             [
              0.2222222222222222,
              "#7201a8"
             ],
             [
              0.3333333333333333,
              "#9c179e"
             ],
             [
              0.4444444444444444,
              "#bd3786"
             ],
             [
              0.5555555555555556,
              "#d8576b"
             ],
             [
              0.6666666666666666,
              "#ed7953"
             ],
             [
              0.7777777777777778,
              "#fb9f3a"
             ],
             [
              0.8888888888888888,
              "#fdca26"
             ],
             [
              1,
              "#f0f921"
             ]
            ],
            "type": "surface"
           }
          ],
          "table": [
           {
            "cells": {
             "fill": {
              "color": "#EBF0F8"
             },
             "line": {
              "color": "white"
             }
            },
            "header": {
             "fill": {
              "color": "#C8D4E3"
             },
             "line": {
              "color": "white"
             }
            },
            "type": "table"
           }
          ]
         },
         "layout": {
          "annotationdefaults": {
           "arrowcolor": "#2a3f5f",
           "arrowhead": 0,
           "arrowwidth": 1
          },
          "autotypenumbers": "strict",
          "coloraxis": {
           "colorbar": {
            "outlinewidth": 0,
            "ticks": ""
           }
          },
          "colorscale": {
           "diverging": [
            [
             0,
             "#8e0152"
            ],
            [
             0.1,
             "#c51b7d"
            ],
            [
             0.2,
             "#de77ae"
            ],
            [
             0.3,
             "#f1b6da"
            ],
            [
             0.4,
             "#fde0ef"
            ],
            [
             0.5,
             "#f7f7f7"
            ],
            [
             0.6,
             "#e6f5d0"
            ],
            [
             0.7,
             "#b8e186"
            ],
            [
             0.8,
             "#7fbc41"
            ],
            [
             0.9,
             "#4d9221"
            ],
            [
             1,
             "#276419"
            ]
           ],
           "sequential": [
            [
             0,
             "#0d0887"
            ],
            [
             0.1111111111111111,
             "#46039f"
            ],
            [
             0.2222222222222222,
             "#7201a8"
            ],
            [
             0.3333333333333333,
             "#9c179e"
            ],
            [
             0.4444444444444444,
             "#bd3786"
            ],
            [
             0.5555555555555556,
             "#d8576b"
            ],
            [
             0.6666666666666666,
             "#ed7953"
            ],
            [
             0.7777777777777778,
             "#fb9f3a"
            ],
            [
             0.8888888888888888,
             "#fdca26"
            ],
            [
             1,
             "#f0f921"
            ]
           ],
           "sequentialminus": [
            [
             0,
             "#0d0887"
            ],
            [
             0.1111111111111111,
             "#46039f"
            ],
            [
             0.2222222222222222,
             "#7201a8"
            ],
            [
             0.3333333333333333,
             "#9c179e"
            ],
            [
             0.4444444444444444,
             "#bd3786"
            ],
            [
             0.5555555555555556,
             "#d8576b"
            ],
            [
             0.6666666666666666,
             "#ed7953"
            ],
            [
             0.7777777777777778,
             "#fb9f3a"
            ],
            [
             0.8888888888888888,
             "#fdca26"
            ],
            [
             1,
             "#f0f921"
            ]
           ]
          },
          "colorway": [
           "#636efa",
           "#EF553B",
           "#00cc96",
           "#ab63fa",
           "#FFA15A",
           "#19d3f3",
           "#FF6692",
           "#B6E880",
           "#FF97FF",
           "#FECB52"
          ],
          "font": {
           "color": "#2a3f5f"
          },
          "geo": {
           "bgcolor": "white",
           "lakecolor": "white",
           "landcolor": "#E5ECF6",
           "showlakes": true,
           "showland": true,
           "subunitcolor": "white"
          },
          "hoverlabel": {
           "align": "left"
          },
          "hovermode": "closest",
          "mapbox": {
           "style": "light"
          },
          "paper_bgcolor": "white",
          "plot_bgcolor": "#E5ECF6",
          "polar": {
           "angularaxis": {
            "gridcolor": "white",
            "linecolor": "white",
            "ticks": ""
           },
           "bgcolor": "#E5ECF6",
           "radialaxis": {
            "gridcolor": "white",
            "linecolor": "white",
            "ticks": ""
           }
          },
          "scene": {
           "xaxis": {
            "backgroundcolor": "#E5ECF6",
            "gridcolor": "white",
            "gridwidth": 2,
            "linecolor": "white",
            "showbackground": true,
            "ticks": "",
            "zerolinecolor": "white"
           },
           "yaxis": {
            "backgroundcolor": "#E5ECF6",
            "gridcolor": "white",
            "gridwidth": 2,
            "linecolor": "white",
            "showbackground": true,
            "ticks": "",
            "zerolinecolor": "white"
           },
           "zaxis": {
            "backgroundcolor": "#E5ECF6",
            "gridcolor": "white",
            "gridwidth": 2,
            "linecolor": "white",
            "showbackground": true,
            "ticks": "",
            "zerolinecolor": "white"
           }
          },
          "shapedefaults": {
           "line": {
            "color": "#2a3f5f"
           }
          },
          "ternary": {
           "aaxis": {
            "gridcolor": "white",
            "linecolor": "white",
            "ticks": ""
           },
           "baxis": {
            "gridcolor": "white",
            "linecolor": "white",
            "ticks": ""
           },
           "bgcolor": "#E5ECF6",
           "caxis": {
            "gridcolor": "white",
            "linecolor": "white",
            "ticks": ""
           }
          },
          "title": {
           "x": 0.05
          },
          "xaxis": {
           "automargin": true,
           "gridcolor": "white",
           "linecolor": "white",
           "ticks": "",
           "title": {
            "standoff": 15
           },
           "zerolinecolor": "white",
           "zerolinewidth": 2
          },
          "yaxis": {
           "automargin": true,
           "gridcolor": "white",
           "linecolor": "white",
           "ticks": "",
           "title": {
            "standoff": 15
           },
           "zerolinecolor": "white",
           "zerolinewidth": 2
          }
         }
        },
        "title": {
         "text": "Total de Reviews por lojas"
        },
        "xaxis": {
         "anchor": "y",
         "domain": [
          0,
          1
         ],
         "title": {
          "text": "Loja"
         }
        },
        "yaxis": {
         "anchor": "x",
         "domain": [
          0,
          1
         ],
         "title": {
          "text": "TotalReviews"
         }
        }
       }
      }
     },
     "metadata": {},
     "output_type": "display_data"
    }
   ],
   "source": [
    "\n",
    "fig = px.bar(ntb_groupby_review, x='Loja' ,y='TotalReviews',  color=\"Categoria\", barmode=\"group\", title=\"Total de Reviews por lojas\",text=\"TotalReviews\",height=600)\n",
    "fig.update_traces(texttemplate='%{text:.2s}', textposition='outside')\n",
    "fig.update_layout()\n",
    "fig.show()"
   ]
  }
 ],
 "metadata": {
  "interpreter": {
   "hash": "50e0f96e4e88615678713ad57c0ae08da4a9d6120170cb89b48692eb7d0116f7"
  },
  "kernelspec": {
   "display_name": "Python 3.8.8 64-bit (conda)",
   "name": "python3"
  },
  "language_info": {
   "codemirror_mode": {
    "name": "ipython",
    "version": 3
   },
   "file_extension": ".py",
   "mimetype": "text/x-python",
   "name": "python",
   "nbconvert_exporter": "python",
   "pygments_lexer": "ipython3",
   "version": "3.8.8"
  }
 },
 "nbformat": 4,
 "nbformat_minor": 2
}
