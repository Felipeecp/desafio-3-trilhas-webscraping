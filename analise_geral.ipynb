{
 "cells": [
  {
   "cell_type": "code",
   "execution_count": 104,
   "metadata": {},
   "outputs": [],
   "source": [
    "import pandas as pd\n",
    "import numpy as np\n",
    "import seaborn as sns\n",
    "import matplotlib.pyplot as plt\n",
    "import plotly.express as px\n",
    "import plotly.figure_factory as ff"
   ]
  },
  {
   "cell_type": "markdown",
   "metadata": {},
   "source": [
    "# Função de remoção de outliers"
   ]
  },
  {
   "cell_type": "code",
   "execution_count": 105,
   "metadata": {},
   "outputs": [],
   "source": [
    "def outliers_indexes(df, ft):\n",
    "    \"\"\" \n",
    "    Função que retorna o índice dos outliers\n",
    "    Embasamento matemático:\n",
    "    Amplitude Interquartil => IQR = Quartil_3 - Quartil_1\n",
    "    Limite Inferior => LI = Quartil_1 - 1.5*IQR\n",
    "    Limite Superior => LS = Quartil_3 + 1.5*IQR\n",
    "    Todos os dados que estiverem acima do limite superior ou abaixo do limite inferior, são outliers\n",
    "    \"\"\"\n",
    "    Q1 = df[ft].quantile(0.25)\n",
    "    Q3 = df[ft].quantile(0.75)\n",
    "    IQR = Q3 - Q1\n",
    "    \n",
    "    LI = Q1 - 1.5*IQR\n",
    "    LS = Q3 + 1.5*IQR\n",
    "    \n",
    "    lista_indices = df.index[ (df[ft] < LI) | (df[ft] > LS) ]\n",
    "    \n",
    "    return lista_indices\n",
    "\n",
    "\n",
    "# Cria-se uma lista vazia para armazenar os índices de saídas de múltiplas colunas \n",
    "# (somente caso se quisesse tirar outliers de multiplas colunas)\n",
    "\n",
    "def outliers_index_l(df):\n",
    "    index_list = []\n",
    "    for feature in [\"Preço\", \"TotalReviews\"]:\n",
    "        index_list.extend(outliers_indexes(df, feature))\n",
    "    outliers_index_list = outliers_indexes(df, 'Preço')\n",
    "    print(\"Quantidade de outliers: \",len(outliers_index_list))\n",
    "    \n",
    "    return outliers_index_list\n",
    "    \n",
    "    \n",
    "def remove_outliers(df, index_list):\n",
    "    index_list = sorted(set(index_list))\n",
    "    # Drop dos outliers\n",
    "    df = df.drop(index_list)\n",
    "    return df"
   ]
  },
  {
   "cell_type": "markdown",
   "metadata": {},
   "source": [
    "# Dados amazon"
   ]
  },
  {
   "cell_type": "code",
   "execution_count": 106,
   "metadata": {},
   "outputs": [],
   "source": [
    "dados_amazon = pd.read_csv('amazon/output/dados_amazon.csv')\n",
    "dados_amazon_new = pd.read_csv('amazon/output/dados_amazon.csv').drop(columns=['Estrelas','Url'])"
   ]
  },
  {
   "cell_type": "markdown",
   "metadata": {},
   "source": [
    "# Dados Americanas"
   ]
  },
  {
   "cell_type": "code",
   "execution_count": 107,
   "metadata": {},
   "outputs": [],
   "source": [
    "dados_americanas = pd.read_csv('americanas/output/dados_completos_americanas.csv',sep=';')\n",
    "dados_americanas_new = dados_americanas.drop(columns=['Modelo','Url'])\n",
    "dados_americanas_new['Categoria'].loc[dados_americanas_new['Categoria'] == 'Televisão'] = 'TV'\n",
    "dados_americanas_new[dados_americanas_new[\"Categoria\"] == \"TV\"]"
   ]
  },
  {
   "cell_type": "markdown",
   "metadata": {},
   "source": [
    "# Dados Casas Bahia"
   ]
  },
  {
   "cell_type": "code",
   "execution_count": 109,
   "metadata": {},
   "outputs": [],
   "source": [
    "dados_casas_bahia = pd.read_csv('casas_bahia/output/dados_casas_bahia.csv', sep=';')\n",
    "dados_casas_bahia_new = dados_casas_bahia.drop(columns=['Estrelas'])\n",
    "dados_casas_bahia_new['Categoria'].loc[dados_casas_bahia_new['Categoria'] == 'Smart TV'] = 'TV'\n",
    "dados_casas_bahia_new[dados_casas_bahia_new[\"Categoria\"] == \"TV\"]"
   ]
  },
  {
   "cell_type": "code",
   "execution_count": 111,
   "metadata": {},
   "outputs": [
    {
     "name": "stdout",
     "output_type": "stream",
     "text": [
      "Quantidade de outliers:  55\n"
     ]
    }
   ],
   "source": [
    "outliers_index_list_cb = outliers_index_l(dados_casas_bahia_new)\n",
    "df_clean_cb = remove_outliers(dados_casas_bahia_new, outliers_index_list_cb)"
   ]
  },
  {
   "cell_type": "markdown",
   "metadata": {},
   "source": [
    "# Dados Magazine Luiz"
   ]
  },
  {
   "cell_type": "code",
   "execution_count": 112,
   "metadata": {},
   "outputs": [
    {
     "data": {
      "text/html": [
       "<div>\n",
       "<style scoped>\n",
       "    .dataframe tbody tr th:only-of-type {\n",
       "        vertical-align: middle;\n",
       "    }\n",
       "\n",
       "    .dataframe tbody tr th {\n",
       "        vertical-align: top;\n",
       "    }\n",
       "\n",
       "    .dataframe thead th {\n",
       "        text-align: right;\n",
       "    }\n",
       "</style>\n",
       "<table border=\"1\" class=\"dataframe\">\n",
       "  <thead>\n",
       "    <tr style=\"text-align: right;\">\n",
       "      <th></th>\n",
       "      <th>Descrição</th>\n",
       "      <th>Preço</th>\n",
       "      <th>TotalReviews</th>\n",
       "      <th>Loja</th>\n",
       "      <th>Categoria</th>\n",
       "    </tr>\n",
       "  </thead>\n",
       "  <tbody>\n",
       "    <tr>\n",
       "      <th>267</th>\n",
       "      <td>Smart TV 50” Crystal 4K Samsung 50AU7700</td>\n",
       "      <td>3099.00</td>\n",
       "      <td>28</td>\n",
       "      <td>Megazine Luiza</td>\n",
       "      <td>TV</td>\n",
       "    </tr>\n",
       "    <tr>\n",
       "      <th>268</th>\n",
       "      <td>Smart TV 65” Crystal 4K Samsung 65AU7700 Wi-Fi</td>\n",
       "      <td>4199.00</td>\n",
       "      <td>3</td>\n",
       "      <td>Megazine Luiza</td>\n",
       "      <td>TV</td>\n",
       "    </tr>\n",
       "    <tr>\n",
       "      <th>269</th>\n",
       "      <td>Smart TV 55” Crystal 4K Samsung 55AU7700</td>\n",
       "      <td>3299.00</td>\n",
       "      <td>2</td>\n",
       "      <td>Megazine Luiza</td>\n",
       "      <td>TV</td>\n",
       "    </tr>\n",
       "    <tr>\n",
       "      <th>270</th>\n",
       "      <td>Smart TV 60” Crystal 4K Samsung 60AU8000 Wi-Fi</td>\n",
       "      <td>3989.05</td>\n",
       "      <td>3</td>\n",
       "      <td>Megazine Luiza</td>\n",
       "      <td>TV</td>\n",
       "    </tr>\n",
       "    <tr>\n",
       "      <th>271</th>\n",
       "      <td>Smart TV 32” HD LED TCL S615 VA 60Hz</td>\n",
       "      <td>1398.00</td>\n",
       "      <td>4</td>\n",
       "      <td>Megazine Luiza</td>\n",
       "      <td>TV</td>\n",
       "    </tr>\n",
       "    <tr>\n",
       "      <th>...</th>\n",
       "      <td>...</td>\n",
       "      <td>...</td>\n",
       "      <td>...</td>\n",
       "      <td>...</td>\n",
       "      <td>...</td>\n",
       "    </tr>\n",
       "    <tr>\n",
       "      <th>524</th>\n",
       "      <td>Smart Tv 40S615 40 Polegadas Led Full Hd Hdr W...</td>\n",
       "      <td>2126.91</td>\n",
       "      <td>0</td>\n",
       "      <td>Megazine Luiza</td>\n",
       "      <td>TV</td>\n",
       "    </tr>\n",
       "    <tr>\n",
       "      <th>525</th>\n",
       "      <td>Smart TV LED 32'' HD LG 32LM627B 2021 WiFi Blu...</td>\n",
       "      <td>1859.07</td>\n",
       "      <td>0</td>\n",
       "      <td>Megazine Luiza</td>\n",
       "      <td>TV</td>\n",
       "    </tr>\n",
       "    <tr>\n",
       "      <th>526</th>\n",
       "      <td>Smart TV Samsung Crystal UHD TU8000 4K 82\", Bo...</td>\n",
       "      <td>8799.00</td>\n",
       "      <td>2</td>\n",
       "      <td>Megazine Luiza</td>\n",
       "      <td>TV</td>\n",
       "    </tr>\n",
       "    <tr>\n",
       "      <th>527</th>\n",
       "      <td>Smart TV Samsung 32\" LED HD UN32T4300</td>\n",
       "      <td>1699.00</td>\n",
       "      <td>2</td>\n",
       "      <td>Megazine Luiza</td>\n",
       "      <td>TV</td>\n",
       "    </tr>\n",
       "    <tr>\n",
       "      <th>528</th>\n",
       "      <td>Smart TV AOC Roku 32\" LED HD HDMI USB Miracast...</td>\n",
       "      <td>1349.10</td>\n",
       "      <td>12</td>\n",
       "      <td>Megazine Luiza</td>\n",
       "      <td>TV</td>\n",
       "    </tr>\n",
       "  </tbody>\n",
       "</table>\n",
       "<p>262 rows × 5 columns</p>\n",
       "</div>"
      ],
      "text/plain": [
       "                                             Descrição    Preço  TotalReviews  \\\n",
       "267           Smart TV 50” Crystal 4K Samsung 50AU7700  3099.00            28   \n",
       "268     Smart TV 65” Crystal 4K Samsung 65AU7700 Wi-Fi  4199.00             3   \n",
       "269           Smart TV 55” Crystal 4K Samsung 55AU7700  3299.00             2   \n",
       "270     Smart TV 60” Crystal 4K Samsung 60AU8000 Wi-Fi  3989.05             3   \n",
       "271               Smart TV 32” HD LED TCL S615 VA 60Hz  1398.00             4   \n",
       "..                                                 ...      ...           ...   \n",
       "524  Smart Tv 40S615 40 Polegadas Led Full Hd Hdr W...  2126.91             0   \n",
       "525  Smart TV LED 32'' HD LG 32LM627B 2021 WiFi Blu...  1859.07             0   \n",
       "526  Smart TV Samsung Crystal UHD TU8000 4K 82\", Bo...  8799.00             2   \n",
       "527              Smart TV Samsung 32\" LED HD UN32T4300  1699.00             2   \n",
       "528  Smart TV AOC Roku 32\" LED HD HDMI USB Miracast...  1349.10            12   \n",
       "\n",
       "               Loja Categoria  \n",
       "267  Megazine Luiza        TV  \n",
       "268  Megazine Luiza        TV  \n",
       "269  Megazine Luiza        TV  \n",
       "270  Megazine Luiza        TV  \n",
       "271  Megazine Luiza        TV  \n",
       "..              ...       ...  \n",
       "524  Megazine Luiza        TV  \n",
       "525  Megazine Luiza        TV  \n",
       "526  Megazine Luiza        TV  \n",
       "527  Megazine Luiza        TV  \n",
       "528  Megazine Luiza        TV  \n",
       "\n",
       "[262 rows x 5 columns]"
      ]
     },
     "execution_count": 112,
     "metadata": {},
     "output_type": "execute_result"
    }
   ],
   "source": [
    "dados_ml = pd.read_csv('magazine_luiza/output/dados_magazine_luiza.csv',sep=';')\n",
    "dados_ml_new = dados_ml.drop(columns=['Estrelas','URL'])\n",
    "dados_ml_new['Categoria'].loc[dados_ml_new['Categoria'] == 'Smart TV'] = 'TV'\n",
    "dados_ml_new[dados_ml_new[\"Categoria\"] == \"TV\"]"
   ]
  },
  {
   "cell_type": "markdown",
   "metadata": {},
   "source": [
    "# Dataframe Geral"
   ]
  },
  {
   "cell_type": "code",
   "execution_count": 113,
   "metadata": {},
   "outputs": [
    {
     "data": {
      "text/html": [
       "<div>\n",
       "<style scoped>\n",
       "    .dataframe tbody tr th:only-of-type {\n",
       "        vertical-align: middle;\n",
       "    }\n",
       "\n",
       "    .dataframe tbody tr th {\n",
       "        vertical-align: top;\n",
       "    }\n",
       "\n",
       "    .dataframe thead th {\n",
       "        text-align: right;\n",
       "    }\n",
       "</style>\n",
       "<table border=\"1\" class=\"dataframe\">\n",
       "  <thead>\n",
       "    <tr style=\"text-align: right;\">\n",
       "      <th></th>\n",
       "      <th>Descrição</th>\n",
       "      <th>Preço</th>\n",
       "      <th>TotalReviews</th>\n",
       "      <th>Loja</th>\n",
       "      <th>Categoria</th>\n",
       "    </tr>\n",
       "  </thead>\n",
       "  <tbody>\n",
       "    <tr>\n",
       "      <th>0</th>\n",
       "      <td>Notebook Lenovo Ultrafino IdeaPad S145, AMD Ry...</td>\n",
       "      <td>2909.00</td>\n",
       "      <td>199.0</td>\n",
       "      <td>Amazon</td>\n",
       "      <td>Notebook</td>\n",
       "    </tr>\n",
       "    <tr>\n",
       "      <th>1</th>\n",
       "      <td>Notebook Lenovo Ultrafino ideapad S145 i5-1035...</td>\n",
       "      <td>3229.99</td>\n",
       "      <td>26.0</td>\n",
       "      <td>Amazon</td>\n",
       "      <td>Notebook</td>\n",
       "    </tr>\n",
       "    <tr>\n",
       "      <th>2</th>\n",
       "      <td>SAMSUNG Chromebook SS 11.6 Intel DC 4GB 32GB X...</td>\n",
       "      <td>1699.00</td>\n",
       "      <td>239.0</td>\n",
       "      <td>Amazon</td>\n",
       "      <td>Notebook</td>\n",
       "    </tr>\n",
       "    <tr>\n",
       "      <th>3</th>\n",
       "      <td>Samsung BookIntel® Core™ i3-1115G4, 11 Geração...</td>\n",
       "      <td>2789.09</td>\n",
       "      <td>46.0</td>\n",
       "      <td>Amazon</td>\n",
       "      <td>Notebook</td>\n",
       "    </tr>\n",
       "    <tr>\n",
       "      <th>4</th>\n",
       "      <td>Notebook Positivo Motion Q464C Intel® Atom® Qu...</td>\n",
       "      <td>1718.90</td>\n",
       "      <td>72.0</td>\n",
       "      <td>Amazon</td>\n",
       "      <td>Notebook</td>\n",
       "    </tr>\n",
       "    <tr>\n",
       "      <th>...</th>\n",
       "      <td>...</td>\n",
       "      <td>...</td>\n",
       "      <td>...</td>\n",
       "      <td>...</td>\n",
       "      <td>...</td>\n",
       "    </tr>\n",
       "    <tr>\n",
       "      <th>3986</th>\n",
       "      <td>Geladeira/Refrigerador Samsung Frost Free</td>\n",
       "      <td>3324.05</td>\n",
       "      <td>0.0</td>\n",
       "      <td>Megazine Luiza</td>\n",
       "      <td>Geladeira</td>\n",
       "    </tr>\n",
       "    <tr>\n",
       "      <th>3987</th>\n",
       "      <td>Geladeira Brastemp Frost Free Duplex 500 litro...</td>\n",
       "      <td>5571.00</td>\n",
       "      <td>0.0</td>\n",
       "      <td>Megazine Luiza</td>\n",
       "      <td>Geladeira</td>\n",
       "    </tr>\n",
       "    <tr>\n",
       "      <th>3988</th>\n",
       "      <td>Geladeira Frost Free Midea MD-RT453FGA041 425L...</td>\n",
       "      <td>2951.10</td>\n",
       "      <td>0.0</td>\n",
       "      <td>Megazine Luiza</td>\n",
       "      <td>Geladeira</td>\n",
       "    </tr>\n",
       "    <tr>\n",
       "      <th>3989</th>\n",
       "      <td>Geladeira panasonic bb53 branca 425l 127v</td>\n",
       "      <td>3199.45</td>\n",
       "      <td>0.0</td>\n",
       "      <td>Megazine Luiza</td>\n",
       "      <td>Geladeira</td>\n",
       "    </tr>\n",
       "    <tr>\n",
       "      <th>3990</th>\n",
       "      <td>Geladeira Consul CRB39AB Frost Free 342L</td>\n",
       "      <td>1999.00</td>\n",
       "      <td>2.0</td>\n",
       "      <td>Megazine Luiza</td>\n",
       "      <td>Geladeira</td>\n",
       "    </tr>\n",
       "  </tbody>\n",
       "</table>\n",
       "<p>3991 rows × 5 columns</p>\n",
       "</div>"
      ],
      "text/plain": [
       "                                              Descrição    Preço  \\\n",
       "0     Notebook Lenovo Ultrafino IdeaPad S145, AMD Ry...  2909.00   \n",
       "1     Notebook Lenovo Ultrafino ideapad S145 i5-1035...  3229.99   \n",
       "2     SAMSUNG Chromebook SS 11.6 Intel DC 4GB 32GB X...  1699.00   \n",
       "3     Samsung BookIntel® Core™ i3-1115G4, 11 Geração...  2789.09   \n",
       "4     Notebook Positivo Motion Q464C Intel® Atom® Qu...  1718.90   \n",
       "...                                                 ...      ...   \n",
       "3986          Geladeira/Refrigerador Samsung Frost Free  3324.05   \n",
       "3987  Geladeira Brastemp Frost Free Duplex 500 litro...  5571.00   \n",
       "3988  Geladeira Frost Free Midea MD-RT453FGA041 425L...  2951.10   \n",
       "3989          Geladeira panasonic bb53 branca 425l 127v  3199.45   \n",
       "3990           Geladeira Consul CRB39AB Frost Free 342L  1999.00   \n",
       "\n",
       "      TotalReviews            Loja  Categoria  \n",
       "0            199.0          Amazon   Notebook  \n",
       "1             26.0          Amazon   Notebook  \n",
       "2            239.0          Amazon   Notebook  \n",
       "3             46.0          Amazon   Notebook  \n",
       "4             72.0          Amazon   Notebook  \n",
       "...            ...             ...        ...  \n",
       "3986           0.0  Megazine Luiza  Geladeira  \n",
       "3987           0.0  Megazine Luiza  Geladeira  \n",
       "3988           0.0  Megazine Luiza  Geladeira  \n",
       "3989           0.0  Megazine Luiza  Geladeira  \n",
       "3990           2.0  Megazine Luiza  Geladeira  \n",
       "\n",
       "[3991 rows x 5 columns]"
      ]
     },
     "execution_count": 113,
     "metadata": {},
     "output_type": "execute_result"
    }
   ],
   "source": [
    "dados_gerais = pd.concat([dados_amazon_new, dados_americanas_new,df_clean_cb,dados_ml_new])\n",
    "dados_gerais.reset_index(drop=True, inplace=True)\n",
    "dados_gerais"
   ]
  },
  {
   "cell_type": "markdown",
   "metadata": {},
   "source": [
    "# Criando notebook de marcas"
   ]
  },
  {
   "cell_type": "code",
   "execution_count": 114,
   "metadata": {},
   "outputs": [
    {
     "data": {
      "text/html": [
       "<div>\n",
       "<style scoped>\n",
       "    .dataframe tbody tr th:only-of-type {\n",
       "        vertical-align: middle;\n",
       "    }\n",
       "\n",
       "    .dataframe tbody tr th {\n",
       "        vertical-align: top;\n",
       "    }\n",
       "\n",
       "    .dataframe thead th {\n",
       "        text-align: right;\n",
       "    }\n",
       "</style>\n",
       "<table border=\"1\" class=\"dataframe\">\n",
       "  <thead>\n",
       "    <tr style=\"text-align: right;\">\n",
       "      <th></th>\n",
       "      <th>Descrição</th>\n",
       "      <th>Preço</th>\n",
       "      <th>TotalReviews</th>\n",
       "      <th>Loja</th>\n",
       "      <th>Categoria</th>\n",
       "    </tr>\n",
       "  </thead>\n",
       "  <tbody>\n",
       "    <tr>\n",
       "      <th>0</th>\n",
       "      <td>Notebook Lenovo Ultrafino IdeaPad S145, AMD Ry...</td>\n",
       "      <td>2909.00</td>\n",
       "      <td>199.0</td>\n",
       "      <td>Amazon</td>\n",
       "      <td>Notebook</td>\n",
       "    </tr>\n",
       "    <tr>\n",
       "      <th>1</th>\n",
       "      <td>Notebook Lenovo Ultrafino ideapad S145 i5-1035...</td>\n",
       "      <td>3229.99</td>\n",
       "      <td>26.0</td>\n",
       "      <td>Amazon</td>\n",
       "      <td>Notebook</td>\n",
       "    </tr>\n",
       "    <tr>\n",
       "      <th>2</th>\n",
       "      <td>SAMSUNG Chromebook SS 11.6 Intel DC 4GB 32GB X...</td>\n",
       "      <td>1699.00</td>\n",
       "      <td>239.0</td>\n",
       "      <td>Amazon</td>\n",
       "      <td>Notebook</td>\n",
       "    </tr>\n",
       "    <tr>\n",
       "      <th>3</th>\n",
       "      <td>Samsung BookIntel® Core™ i3-1115G4, 11 Geração...</td>\n",
       "      <td>2789.09</td>\n",
       "      <td>46.0</td>\n",
       "      <td>Amazon</td>\n",
       "      <td>Notebook</td>\n",
       "    </tr>\n",
       "    <tr>\n",
       "      <th>4</th>\n",
       "      <td>Notebook Positivo Motion Q464C Intel® Atom® Qu...</td>\n",
       "      <td>1718.90</td>\n",
       "      <td>72.0</td>\n",
       "      <td>Amazon</td>\n",
       "      <td>Notebook</td>\n",
       "    </tr>\n",
       "    <tr>\n",
       "      <th>...</th>\n",
       "      <td>...</td>\n",
       "      <td>...</td>\n",
       "      <td>...</td>\n",
       "      <td>...</td>\n",
       "      <td>...</td>\n",
       "    </tr>\n",
       "    <tr>\n",
       "      <th>3986</th>\n",
       "      <td>Geladeira/Refrigerador Samsung Frost Free</td>\n",
       "      <td>3324.05</td>\n",
       "      <td>0.0</td>\n",
       "      <td>Megazine Luiza</td>\n",
       "      <td>Geladeira</td>\n",
       "    </tr>\n",
       "    <tr>\n",
       "      <th>3987</th>\n",
       "      <td>Geladeira Brastemp Frost Free Duplex 500 litro...</td>\n",
       "      <td>5571.00</td>\n",
       "      <td>0.0</td>\n",
       "      <td>Megazine Luiza</td>\n",
       "      <td>Geladeira</td>\n",
       "    </tr>\n",
       "    <tr>\n",
       "      <th>3988</th>\n",
       "      <td>Geladeira Frost Free Midea MD-RT453FGA041 425L...</td>\n",
       "      <td>2951.10</td>\n",
       "      <td>0.0</td>\n",
       "      <td>Megazine Luiza</td>\n",
       "      <td>Geladeira</td>\n",
       "    </tr>\n",
       "    <tr>\n",
       "      <th>3989</th>\n",
       "      <td>Geladeira panasonic bb53 branca 425l 127v</td>\n",
       "      <td>3199.45</td>\n",
       "      <td>0.0</td>\n",
       "      <td>Megazine Luiza</td>\n",
       "      <td>Geladeira</td>\n",
       "    </tr>\n",
       "    <tr>\n",
       "      <th>3990</th>\n",
       "      <td>Geladeira Consul CRB39AB Frost Free 342L</td>\n",
       "      <td>1999.00</td>\n",
       "      <td>2.0</td>\n",
       "      <td>Megazine Luiza</td>\n",
       "      <td>Geladeira</td>\n",
       "    </tr>\n",
       "  </tbody>\n",
       "</table>\n",
       "<p>3991 rows × 5 columns</p>\n",
       "</div>"
      ],
      "text/plain": [
       "                                              Descrição    Preço  \\\n",
       "0     Notebook Lenovo Ultrafino IdeaPad S145, AMD Ry...  2909.00   \n",
       "1     Notebook Lenovo Ultrafino ideapad S145 i5-1035...  3229.99   \n",
       "2     SAMSUNG Chromebook SS 11.6 Intel DC 4GB 32GB X...  1699.00   \n",
       "3     Samsung BookIntel® Core™ i3-1115G4, 11 Geração...  2789.09   \n",
       "4     Notebook Positivo Motion Q464C Intel® Atom® Qu...  1718.90   \n",
       "...                                                 ...      ...   \n",
       "3986          Geladeira/Refrigerador Samsung Frost Free  3324.05   \n",
       "3987  Geladeira Brastemp Frost Free Duplex 500 litro...  5571.00   \n",
       "3988  Geladeira Frost Free Midea MD-RT453FGA041 425L...  2951.10   \n",
       "3989          Geladeira panasonic bb53 branca 425l 127v  3199.45   \n",
       "3990           Geladeira Consul CRB39AB Frost Free 342L  1999.00   \n",
       "\n",
       "      TotalReviews            Loja  Categoria  \n",
       "0            199.0          Amazon   Notebook  \n",
       "1             26.0          Amazon   Notebook  \n",
       "2            239.0          Amazon   Notebook  \n",
       "3             46.0          Amazon   Notebook  \n",
       "4             72.0          Amazon   Notebook  \n",
       "...            ...             ...        ...  \n",
       "3986           0.0  Megazine Luiza  Geladeira  \n",
       "3987           0.0  Megazine Luiza  Geladeira  \n",
       "3988           0.0  Megazine Luiza  Geladeira  \n",
       "3989           0.0  Megazine Luiza  Geladeira  \n",
       "3990           2.0  Megazine Luiza  Geladeira  \n",
       "\n",
       "[3991 rows x 5 columns]"
      ]
     },
     "execution_count": 114,
     "metadata": {},
     "output_type": "execute_result"
    }
   ],
   "source": [
    "dados_gerais_marcas = dados_gerais.copy()\n",
    "dados_gerais_marcas"
   ]
  },
  {
   "cell_type": "code",
   "execution_count": 115,
   "metadata": {},
   "outputs": [],
   "source": [
    "modelos = [\"lenovo\", \"positivo\", \"samsung\", \"dell\", \"acer\", \"apple\", \"xiaomi\", \"motorola\", \"asus\",\"sony\",\"tcl\",\"philips\",\"lg\",\"philco\" ]\n",
    "count = 0\n",
    "dados_gerais_marcas[\"Marca\"] = np.NaN\n",
    "\n",
    "for index, row in dados_gerais_marcas.iterrows():\n",
    "    for modelo in modelos:\n",
    "        if modelo in row[\"Descrição\"].lower():\n",
    "            dados_gerais_marcas.loc[index, \"Marca\"] = modelo.capitalize()"
   ]
  },
  {
   "cell_type": "code",
   "execution_count": 116,
   "metadata": {},
   "outputs": [
    {
     "data": {
      "text/html": [
       "<div>\n",
       "<style scoped>\n",
       "    .dataframe tbody tr th:only-of-type {\n",
       "        vertical-align: middle;\n",
       "    }\n",
       "\n",
       "    .dataframe tbody tr th {\n",
       "        vertical-align: top;\n",
       "    }\n",
       "\n",
       "    .dataframe thead th {\n",
       "        text-align: right;\n",
       "    }\n",
       "</style>\n",
       "<table border=\"1\" class=\"dataframe\">\n",
       "  <thead>\n",
       "    <tr style=\"text-align: right;\">\n",
       "      <th></th>\n",
       "      <th>Descrição</th>\n",
       "      <th>Preço</th>\n",
       "      <th>TotalReviews</th>\n",
       "      <th>Loja</th>\n",
       "      <th>Categoria</th>\n",
       "      <th>Marca</th>\n",
       "    </tr>\n",
       "  </thead>\n",
       "  <tbody>\n",
       "    <tr>\n",
       "      <th>0</th>\n",
       "      <td>Notebook Lenovo Ultrafino IdeaPad S145, AMD Ry...</td>\n",
       "      <td>2909.00</td>\n",
       "      <td>199.0</td>\n",
       "      <td>Amazon</td>\n",
       "      <td>Notebook</td>\n",
       "      <td>Lenovo</td>\n",
       "    </tr>\n",
       "    <tr>\n",
       "      <th>1</th>\n",
       "      <td>Notebook Lenovo Ultrafino ideapad S145 i5-1035...</td>\n",
       "      <td>3229.99</td>\n",
       "      <td>26.0</td>\n",
       "      <td>Amazon</td>\n",
       "      <td>Notebook</td>\n",
       "      <td>Lenovo</td>\n",
       "    </tr>\n",
       "    <tr>\n",
       "      <th>2</th>\n",
       "      <td>SAMSUNG Chromebook SS 11.6 Intel DC 4GB 32GB X...</td>\n",
       "      <td>1699.00</td>\n",
       "      <td>239.0</td>\n",
       "      <td>Amazon</td>\n",
       "      <td>Notebook</td>\n",
       "      <td>Samsung</td>\n",
       "    </tr>\n",
       "    <tr>\n",
       "      <th>3</th>\n",
       "      <td>Samsung BookIntel® Core™ i3-1115G4, 11 Geração...</td>\n",
       "      <td>2789.09</td>\n",
       "      <td>46.0</td>\n",
       "      <td>Amazon</td>\n",
       "      <td>Notebook</td>\n",
       "      <td>Samsung</td>\n",
       "    </tr>\n",
       "    <tr>\n",
       "      <th>4</th>\n",
       "      <td>Notebook Positivo Motion Q464C Intel® Atom® Qu...</td>\n",
       "      <td>1718.90</td>\n",
       "      <td>72.0</td>\n",
       "      <td>Amazon</td>\n",
       "      <td>Notebook</td>\n",
       "      <td>Positivo</td>\n",
       "    </tr>\n",
       "    <tr>\n",
       "      <th>...</th>\n",
       "      <td>...</td>\n",
       "      <td>...</td>\n",
       "      <td>...</td>\n",
       "      <td>...</td>\n",
       "      <td>...</td>\n",
       "      <td>...</td>\n",
       "    </tr>\n",
       "    <tr>\n",
       "      <th>2547</th>\n",
       "      <td>Geladeira/Refrigerador Inverter 554 Litros Phi...</td>\n",
       "      <td>5264.86</td>\n",
       "      <td>0.0</td>\n",
       "      <td>Megazine Luiza</td>\n",
       "      <td>Geladeira</td>\n",
       "      <td>Philco</td>\n",
       "    </tr>\n",
       "    <tr>\n",
       "      <th>2548</th>\n",
       "      <td>Geladeira French Door Eco Inverter Philco Fros...</td>\n",
       "      <td>3952.93</td>\n",
       "      <td>0.0</td>\n",
       "      <td>Megazine Luiza</td>\n",
       "      <td>Geladeira</td>\n",
       "      <td>Philco</td>\n",
       "    </tr>\n",
       "    <tr>\n",
       "      <th>2549</th>\n",
       "      <td>Geladeira/Refrigerador Philco Frost Free</td>\n",
       "      <td>7884.05</td>\n",
       "      <td>2.0</td>\n",
       "      <td>Megazine Luiza</td>\n",
       "      <td>Geladeira</td>\n",
       "      <td>Philco</td>\n",
       "    </tr>\n",
       "    <tr>\n",
       "      <th>2550</th>\n",
       "      <td>Geladeira/Refrigerador Smart LG Side by Side</td>\n",
       "      <td>17669.05</td>\n",
       "      <td>0.0</td>\n",
       "      <td>Megazine Luiza</td>\n",
       "      <td>Geladeira</td>\n",
       "      <td>Lg</td>\n",
       "    </tr>\n",
       "    <tr>\n",
       "      <th>2551</th>\n",
       "      <td>Geladeira/Refrigerador Samsung Frost Free</td>\n",
       "      <td>3324.05</td>\n",
       "      <td>0.0</td>\n",
       "      <td>Megazine Luiza</td>\n",
       "      <td>Geladeira</td>\n",
       "      <td>Samsung</td>\n",
       "    </tr>\n",
       "  </tbody>\n",
       "</table>\n",
       "<p>2552 rows × 6 columns</p>\n",
       "</div>"
      ],
      "text/plain": [
       "                                              Descrição     Preço  \\\n",
       "0     Notebook Lenovo Ultrafino IdeaPad S145, AMD Ry...   2909.00   \n",
       "1     Notebook Lenovo Ultrafino ideapad S145 i5-1035...   3229.99   \n",
       "2     SAMSUNG Chromebook SS 11.6 Intel DC 4GB 32GB X...   1699.00   \n",
       "3     Samsung BookIntel® Core™ i3-1115G4, 11 Geração...   2789.09   \n",
       "4     Notebook Positivo Motion Q464C Intel® Atom® Qu...   1718.90   \n",
       "...                                                 ...       ...   \n",
       "2547  Geladeira/Refrigerador Inverter 554 Litros Phi...   5264.86   \n",
       "2548  Geladeira French Door Eco Inverter Philco Fros...   3952.93   \n",
       "2549           Geladeira/Refrigerador Philco Frost Free   7884.05   \n",
       "2550       Geladeira/Refrigerador Smart LG Side by Side  17669.05   \n",
       "2551          Geladeira/Refrigerador Samsung Frost Free   3324.05   \n",
       "\n",
       "      TotalReviews            Loja  Categoria     Marca  \n",
       "0            199.0          Amazon   Notebook    Lenovo  \n",
       "1             26.0          Amazon   Notebook    Lenovo  \n",
       "2            239.0          Amazon   Notebook   Samsung  \n",
       "3             46.0          Amazon   Notebook   Samsung  \n",
       "4             72.0          Amazon   Notebook  Positivo  \n",
       "...            ...             ...        ...       ...  \n",
       "2547           0.0  Megazine Luiza  Geladeira    Philco  \n",
       "2548           0.0  Megazine Luiza  Geladeira    Philco  \n",
       "2549           2.0  Megazine Luiza  Geladeira    Philco  \n",
       "2550           0.0  Megazine Luiza  Geladeira        Lg  \n",
       "2551           0.0  Megazine Luiza  Geladeira   Samsung  \n",
       "\n",
       "[2552 rows x 6 columns]"
      ]
     },
     "execution_count": 116,
     "metadata": {},
     "output_type": "execute_result"
    }
   ],
   "source": [
    "dados_gerais_marcas.dropna(inplace=True)\n",
    "dados_gerais_marcas.reset_index(drop=True, inplace=True)\n",
    "dados_gerais_marcas"
   ]
  },
  {
   "cell_type": "markdown",
   "metadata": {},
   "source": [
    "# Analise"
   ]
  },
  {
   "cell_type": "code",
   "execution_count": 117,
   "metadata": {},
   "outputs": [
    {
     "data": {
      "image/png": "[encoded data removed]",
      "text/plain": [
       "<Figure size 842.4x595.44 with 1 Axes>"
      ]
     },
     "metadata": {},
     "output_type": "display_data"
    }
   ],
   "source": [
    "sns.set(style=\"darkgrid\")\n",
    "sns.set(rc={'figure.figsize':(11.7,8.27)})\n",
    "histplot = sns.histplot(data=dados_gerais.query(\"Categoria == 'Notebook' and Loja == 'Americanas'\"), x='Preço', linewidth=1, bins=30, kde=True)\n",
    "histplot.axes.set_title(\"Histograma de Preços de Notebook da Americanas\", fontsize=16)\n",
    "histplot.set_xlabel(\"Preço\", fontsize=14)\n",
    "histplot.set_ylabel(\"Frequência\", fontsize=14)\n",
    "plt.show()"
   ]
  },
  {
   "cell_type": "code",
   "execution_count": 118,
   "metadata": {},
   "outputs": [
    {
     "data": {
      "image/png": "[encoded data removed]",
      "text/plain": [
       "<Figure size 842.4x595.44 with 1 Axes>"
      ]
     },
     "metadata": {},
     "output_type": "display_data"
    }
   ],
   "source": [
    "sns.set(style=\"darkgrid\")\n",
    "sns.set(rc={'figure.figsize':(11.7,8.27)})\n",
    "histplot = sns.histplot(data=dados_gerais.query(\"Categoria == 'Notebook' and Loja == 'Amazon'\"), x='Preço', linewidth=1, bins=30, kde=True)\n",
    "histplot.axes.set_title(\"Histograma de Preços de Notebook da Amazon\", fontsize=16)\n",
    "histplot.set_xlabel(\"Preço\", fontsize=14)\n",
    "histplot.set_ylabel(\"Frequência\", fontsize=14)\n",
    "plt.show()"
   ]
  },
  {
   "cell_type": "code",
   "execution_count": 119,
   "metadata": {},
   "outputs": [
    {
     "data": {
      "image/png": "[encoded data removed]",
      "text/plain": [
       "<Figure size 842.4x595.44 with 1 Axes>"
      ]
     },
     "metadata": {},
     "output_type": "display_data"
    }
   ],
   "source": [
    "sns.set(style=\"darkgrid\")\n",
    "sns.set(rc={'figure.figsize':(11.7,8.27)})\n",
    "histplot = sns.histplot(data=dados_gerais.query(\"Categoria == 'Notebook' and Loja == 'Casas Bahia'\"), x='Preço', linewidth=1, bins=30, kde=True)\n",
    "histplot.axes.set_title(\"Histograma de Preços de Notebook da Casas Bahia\", fontsize=16)\n",
    "histplot.set_xlabel(\"Preço\", fontsize=14)\n",
    "histplot.set_ylabel(\"Frequência\", fontsize=14)\n",
    "plt.show()"
   ]
  },
  {
   "cell_type": "code",
   "execution_count": 120,
   "metadata": {},
   "outputs": [
    {
     "data": {
      "image/png": "[encoded data removed]",
      "text/plain": [
       "<Figure size 842.4x595.44 with 1 Axes>"
      ]
     },
     "metadata": {},
     "output_type": "display_data"
    }
   ],
   "source": [
    "sns.set(style=\"darkgrid\")\n",
    "sns.set(rc={'figure.figsize':(11.7,8.27)})\n",
    "histplot = sns.histplot(data=dados_gerais.query(\"Categoria == 'Notebook' and Loja == 'Megazine Luiza'\"), x='Preço', linewidth=1, bins=30, kde=True)\n",
    "histplot.axes.set_title(\"Histograma de Preços de Notebook da Magazine Luiza\", fontsize=16)\n",
    "histplot.set_xlabel(\"Preço\", fontsize=14)\n",
    "histplot.set_ylabel(\"Frequência\", fontsize=14)\n",
    "plt.show()"
   ]
  },
  {
   "cell_type": "code",
   "execution_count": 121,
   "metadata": {},
   "outputs": [
    {
     "data": {
      "application/vnd.plotly.v1+json": {
       "config": {
        "plotlyServerURL": "https://plot.ly"
       },
       "data": [
        {
         "alignmentgroup": "True",
         "hovertemplate": "Preço=%{y}<extra></extra>",
         "legendgroup": "",
         "marker": {
          "color": "#636efa"
         },
         "name": "",
         "notched": true,
         "offsetgroup": "",
         "orientation": "v",
         "showlegend": false,
         "type": "box",
         "x0": " ",
         "xaxis": "x",
         "y": [
          3562.49,
          2098.7,
          2952.57,
          3544.81,
          1424.99,
          2887.05,
          3040.02,
          3549.99,
          3609.99,
          2852.72,
          3599.1,
          4975.17,
          2364.55,
          1633.22,
          2839.55,
          2744.1,
          1612.26,
          4422.82,
          2609.1,
          4939.24,
          3229.99,
          3074.05,
          5974.32,
          4464.99,
          4169.55,
          4589.1,
          2483.1,
          1662.49,
          3959.1,
          3149.1,
          3134.05,
          1790.91,
          4060.34,
          3074.05,
          2159.1,
          2834.1,
          1899,
          3500.77,
          3699.99,
          3959.1,
          2744.1,
          2799.99,
          1299.99,
          4999,
          4299.99,
          4999,
          4084.05,
          4229.1,
          5039.1,
          3475.12,
          5219.1,
          3239.1,
          1877.19,
          3349.99,
          3989.99,
          5444.1,
          3052.72,
          3464.1,
          2999.99,
          4454.1,
          3959.1,
          4649.99,
          6236.01,
          5579.1,
          2899.99,
          4499.99,
          5039.1,
          5895.12,
          5299.99,
          3894.99,
          5939.1,
          3464.01,
          2969.1,
          3190.5,
          5277.8,
          3899,
          5499.99,
          3644.1,
          4229.1,
          4399.12,
          2039.91,
          2859.12,
          4067.1,
          3097.98,
          4599.99,
          4859.1,
          4844.05,
          3649.99,
          2749,
          5499.99,
          4157.01,
          5326.92,
          3014.1,
          5034.05,
          5399.99,
          1699.99,
          3399.99,
          4814.1,
          4728.9,
          5327.1,
          6799,
          3599.99,
          5399.1,
          3563.01,
          3224.2,
          4487.12,
          4049.1,
          2328.15,
          5444.01,
          1844.1,
          7275.6,
          5053.09,
          3194.1,
          7599.99,
          6479.1,
          6058.22,
          3789,
          4634.1,
          6119.1,
          2430.49,
          1781.1,
          3669,
          1999.99,
          4499.99,
          3695.12,
          2890.85,
          4099.99,
          2099.99,
          2299,
          3589,
          2099.99,
          5669.1,
          2199.99,
          5804.1,
          4199.98,
          2375.12,
          3409.98,
          3713.39,
          3607.12,
          3347.63,
          4985.1,
          6599.98,
          5255.1,
          4274.05,
          4139.98,
          2797.99,
          5149.98,
          3697,
          4949.1,
          7293.6,
          4181.18,
          4690,
          3079.12,
          2969.1,
          4805.1,
          5279.12,
          5795.1,
          4805.1,
          2672.01,
          3343.12,
          3099.99,
          6598.9,
          3999,
          3314.7,
          1709.1,
          1668.6,
          4079.91,
          4157.1,
          5075.1,
          7499,
          2651.5,
          3473.1,
          1799.1,
          1889.1,
          2725.47,
          5255.1,
          3589,
          5081,
          4389,
          4814.1,
          4157.01,
          1639,
          1970.32,
          3839,
          6049,
          2579,
          5196.51,
          3599,
          5579.1,
          7679,
          3246.32,
          4487.12,
          7379,
          2294.87,
          2499,
          7099,
          7399,
          8249,
          2815.12,
          3155.43,
          2039.91,
          4319.1,
          4355.1,
          2999.9,
          6199,
          5489.1,
          1831.66,
          5799,
          1490,
          5039.1,
          3599,
          5219.1,
          5075.1,
          4499,
          2399,
          1741.9,
          2933.04,
          4135.12,
          2489,
          4047.12,
          3599.1,
          5075.1,
          3759,
          3490.85,
          3651.6,
          4199.9,
          3725.1,
          5149,
          5165.1,
          4084.05,
          4790,
          3449,
          2499,
          8119,
          4685,
          5168.9,
          2239.9,
          5719.12,
          2249,
          5989,
          2489,
          2019,
          2399,
          2833.65,
          2204.1
         ],
         "y0": " ",
         "yaxis": "y"
        }
       ],
       "layout": {
        "boxmode": "group",
        "legend": {
         "tracegroupgap": 0
        },
        "template": {
         "data": {
          "bar": [
           {
            "error_x": {
             "color": "#2a3f5f"
            },
            "error_y": {
             "color": "#2a3f5f"
            },
            "marker": {
             "line": {
              "color": "#E5ECF6",
              "width": 0.5
             },
             "pattern": {
              "fillmode": "overlay",
              "size": 10,
              "solidity": 0.2
             }
            },
            "type": "bar"
           }
          ],
          "barpolar": [
           {
            "marker": {
             "line": {
              "color": "#E5ECF6",
              "width": 0.5
             },
             "pattern": {
              "fillmode": "overlay",
              "size": 10,
              "solidity": 0.2
             }
            },
            "type": "barpolar"
           }
          ],
          "carpet": [
           {
            "aaxis": {
             "endlinecolor": "#2a3f5f",
             "gridcolor": "white",
             "linecolor": "white",
             "minorgridcolor": "white",
             "startlinecolor": "#2a3f5f"
            },
            "baxis": {
             "endlinecolor": "#2a3f5f",
             "gridcolor": "white",
             "linecolor": "white",
             "minorgridcolor": "white",
             "startlinecolor": "#2a3f5f"
            },
            "type": "carpet"
           }
          ],
          "choropleth": [
           {
            "colorbar": {
             "outlinewidth": 0,
             "ticks": ""
            },
            "type": "choropleth"
           }
          ],
          "contour": [
           {
            "colorbar": {
             "outlinewidth": 0,
             "ticks": ""
            },
            "colorscale": [
             [
              0,
              "#0d0887"
             ],
             [
              0.1111111111111111,
              "#46039f"
             ],
             [
              0.2222222222222222,
              "#7201a8"
             ],
             [
              0.3333333333333333,
              "#9c179e"
             ],
             [
              0.4444444444444444,
              "#bd3786"
             ],
             [
              0.5555555555555556,
              "#d8576b"
             ],
             [
              0.6666666666666666,
              "#ed7953"
             ],
             [
              0.7777777777777778,
              "#fb9f3a"
             ],
             [
              0.8888888888888888,
              "#fdca26"
             ],
             [
              1,
              "#f0f921"
             ]
            ],
            "type": "contour"
           }
          ],
          "contourcarpet": [
           {
            "colorbar": {
             "outlinewidth": 0,
             "ticks": ""
            },
            "type": "contourcarpet"
           }
          ],
          "heatmap": [
           {
            "colorbar": {
             "outlinewidth": 0,
             "ticks": ""
            },
            "colorscale": [
             [
              0,
              "#0d0887"
             ],
             [
              0.1111111111111111,
              "#46039f"
             ],
             [
              0.2222222222222222,
              "#7201a8"
             ],
             [
              0.3333333333333333,
              "#9c179e"
             ],
             [
              0.4444444444444444,
              "#bd3786"
             ],
             [
              0.5555555555555556,
              "#d8576b"
             ],
             [
              0.6666666666666666,
              "#ed7953"
             ],
             [
              0.7777777777777778,
              "#fb9f3a"
             ],
             [
              0.8888888888888888,
              "#fdca26"
             ],
             [
              1,
              "#f0f921"
             ]
            ],
            "type": "heatmap"
           }
          ],
          "heatmapgl": [
           {
            "colorbar": {
             "outlinewidth": 0,
             "ticks": ""
            },
            "colorscale": [
             [
              0,
              "#0d0887"
             ],
             [
              0.1111111111111111,
              "#46039f"
             ],
             [
              0.2222222222222222,
              "#7201a8"
             ],
             [
              0.3333333333333333,
              "#9c179e"
             ],
             [
              0.4444444444444444,
              "#bd3786"
             ],
             [
              0.5555555555555556,
              "#d8576b"
             ],
             [
              0.6666666666666666,
              "#ed7953"
             ],
             [
              0.7777777777777778,
              "#fb9f3a"
             ],
             [
              0.8888888888888888,
              "#fdca26"
             ],
             [
              1,
              "#f0f921"
             ]
            ],
            "type": "heatmapgl"
           }
          ],
          "histogram": [
           {
            "marker": {
             "pattern": {
              "fillmode": "overlay",
              "size": 10,
              "solidity": 0.2
             }
            },
            "type": "histogram"
           }
          ],
          "histogram2d": [
           {
            "colorbar": {
             "outlinewidth": 0,
             "ticks": ""
            },
            "colorscale": [
             [
              0,
              "#0d0887"
             ],
             [
              0.1111111111111111,
              "#46039f"
             ],
             [
              0.2222222222222222,
              "#7201a8"
             ],
             [
              0.3333333333333333,
              "#9c179e"
             ],
             [
              0.4444444444444444,
              "#bd3786"
             ],
             [
              0.5555555555555556,
              "#d8576b"
             ],
             [
              0.6666666666666666,
              "#ed7953"
             ],
             [
              0.7777777777777778,
              "#fb9f3a"
             ],
             [
              0.8888888888888888,
              "#fdca26"
             ],
             [
              1,
              "#f0f921"
             ]
            ],
            "type": "histogram2d"
           }
          ],
          "histogram2dcontour": [
           {
            "colorbar": {
             "outlinewidth": 0,
             "ticks": ""
            },
            "colorscale": [
             [
              0,
              "#0d0887"
             ],
             [
              0.1111111111111111,
              "#46039f"
             ],
             [
              0.2222222222222222,
              "#7201a8"
             ],
             [
              0.3333333333333333,
              "#9c179e"
             ],
             [
              0.4444444444444444,
              "#bd3786"
             ],
             [
              0.5555555555555556,
              "#d8576b"
             ],
             [
              0.6666666666666666,
              "#ed7953"
             ],
             [
              0.7777777777777778,
              "#fb9f3a"
             ],
             [
              0.8888888888888888,
              "#fdca26"
             ],
             [
              1,
              "#f0f921"
             ]
            ],
            "type": "histogram2dcontour"
           }
          ],
          "mesh3d": [
           {
            "colorbar": {
             "outlinewidth": 0,
             "ticks": ""
            },
            "type": "mesh3d"
           }
          ],
          "parcoords": [
           {
            "line": {
             "colorbar": {
              "outlinewidth": 0,
              "ticks": ""
             }
            },
            "type": "parcoords"
           }
          ],
          "pie": [
           {
            "automargin": true,
            "type": "pie"
           }
          ],
          "scatter": [
           {
            "marker": {
             "colorbar": {
              "outlinewidth": 0,
              "ticks": ""
             }
            },
            "type": "scatter"
           }
          ],
          "scatter3d": [
           {
            "line": {
             "colorbar": {
              "outlinewidth": 0,
              "ticks": ""
             }
            },
            "marker": {
             "colorbar": {
              "outlinewidth": 0,
              "ticks": ""
             }
            },
            "type": "scatter3d"
           }
          ],
          "scattercarpet": [
           {
            "marker": {
             "colorbar": {
              "outlinewidth": 0,
              "ticks": ""
             }
            },
            "type": "scattercarpet"
           }
          ],
          "scattergeo": [
           {
            "marker": {
             "colorbar": {
              "outlinewidth": 0,
              "ticks": ""
             }
            },
            "type": "scattergeo"
           }
          ],
          "scattergl": [
           {
            "marker": {
             "colorbar": {
              "outlinewidth": 0,
              "ticks": ""
             }
            },
            "type": "scattergl"
           }
          ],
          "scattermapbox": [
           {
            "marker": {
             "colorbar": {
              "outlinewidth": 0,
              "ticks": ""
             }
            },
            "type": "scattermapbox"
           }
          ],
          "scatterpolar": [
           {
            "marker": {
             "colorbar": {
              "outlinewidth": 0,
              "ticks": ""
             }
            },
            "type": "scatterpolar"
           }
          ],
          "scatterpolargl": [
           {
            "marker": {
             "colorbar": {
              "outlinewidth": 0,
              "ticks": ""
             }
            },
            "type": "scatterpolargl"
           }
          ],
          "scatterternary": [
           {
            "marker": {
             "colorbar": {
              "outlinewidth": 0,
              "ticks": ""
             }
            },
            "type": "scatterternary"
           }
          ],
          "surface": [
           {
            "colorbar": {
             "outlinewidth": 0,
             "ticks": ""
            },
            "colorscale": [
             [
              0,
              "#0d0887"
             ],
             [
              0.1111111111111111,
              "#46039f"
             ],
             [
              0.2222222222222222,
              "#7201a8"
             ],
             [
              0.3333333333333333,
              "#9c179e"
             ],
             [
              0.4444444444444444,
              "#bd3786"
             ],
             [
              0.5555555555555556,
              "#d8576b"
             ],
             [
              0.6666666666666666,
              "#ed7953"
             ],
             [
              0.7777777777777778,
              "#fb9f3a"
             ],
             [
              0.8888888888888888,
              "#fdca26"
             ],
             [
              1,
              "#f0f921"
             ]
            ],
            "type": "surface"
           }
          ],
          "table": [
           {
            "cells": {
             "fill": {
              "color": "#EBF0F8"
             },
             "line": {
              "color": "white"
             }
            },
            "header": {
             "fill": {
              "color": "#C8D4E3"
             },
             "line": {
              "color": "white"
             }
            },
            "type": "table"
           }
          ]
         },
         "layout": {
          "annotationdefaults": {
           "arrowcolor": "#2a3f5f",
           "arrowhead": 0,
           "arrowwidth": 1
          },
          "autotypenumbers": "strict",
          "coloraxis": {
           "colorbar": {
            "outlinewidth": 0,
            "ticks": ""
           }
          },
          "colorscale": {
           "diverging": [
            [
             0,
             "#8e0152"
            ],
            [
             0.1,
             "#c51b7d"
            ],
            [
             0.2,
             "#de77ae"
            ],
            [
             0.3,
             "#f1b6da"
            ],
            [
             0.4,
             "#fde0ef"
            ],
            [
             0.5,
             "#f7f7f7"
            ],
            [
             0.6,
             "#e6f5d0"
            ],
            [
             0.7,
             "#b8e186"
            ],
            [
             0.8,
             "#7fbc41"
            ],
            [
             0.9,
             "#4d9221"
            ],
            [
             1,
             "#276419"
            ]
           ],
           "sequential": [
            [
             0,
             "#0d0887"
            ],
            [
             0.1111111111111111,
             "#46039f"
            ],
            [
             0.2222222222222222,
             "#7201a8"
            ],
            [
             0.3333333333333333,
             "#9c179e"
            ],
            [
             0.4444444444444444,
             "#bd3786"
            ],
            [
             0.5555555555555556,
             "#d8576b"
            ],
            [
             0.6666666666666666,
             "#ed7953"
            ],
            [
             0.7777777777777778,
             "#fb9f3a"
            ],
            [
             0.8888888888888888,
             "#fdca26"
            ],
            [
             1,
             "#f0f921"
            ]
           ],
           "sequentialminus": [
            [
             0,
             "#0d0887"
            ],
            [
             0.1111111111111111,
             "#46039f"
            ],
            [
             0.2222222222222222,
             "#7201a8"
            ],
            [
             0.3333333333333333,
             "#9c179e"
            ],
            [
             0.4444444444444444,
             "#bd3786"
            ],
            [
             0.5555555555555556,
             "#d8576b"
            ],
            [
             0.6666666666666666,
             "#ed7953"
            ],
            [
             0.7777777777777778,
             "#fb9f3a"
            ],
            [
             0.8888888888888888,
             "#fdca26"
            ],
            [
             1,
             "#f0f921"
            ]
           ]
          },
          "colorway": [
           "#636efa",
           "#EF553B",
           "#00cc96",
           "#ab63fa",
           "#FFA15A",
           "#19d3f3",
           "#FF6692",
           "#B6E880",
           "#FF97FF",
           "#FECB52"
          ],
          "font": {
           "color": "#2a3f5f"
          },
          "geo": {
           "bgcolor": "white",
           "lakecolor": "white",
           "landcolor": "#E5ECF6",
           "showlakes": true,
           "showland": true,
           "subunitcolor": "white"
          },
          "hoverlabel": {
           "align": "left"
          },
          "hovermode": "closest",
          "mapbox": {
           "style": "light"
          },
          "paper_bgcolor": "white",
          "plot_bgcolor": "#E5ECF6",
          "polar": {
           "angularaxis": {
            "gridcolor": "white",
            "linecolor": "white",
            "ticks": ""
           },
           "bgcolor": "#E5ECF6",
           "radialaxis": {
            "gridcolor": "white",
            "linecolor": "white",
            "ticks": ""
           }
          },
          "scene": {
           "xaxis": {
            "backgroundcolor": "#E5ECF6",
            "gridcolor": "white",
            "gridwidth": 2,
            "linecolor": "white",
            "showbackground": true,
            "ticks": "",
            "zerolinecolor": "white"
           },
           "yaxis": {
            "backgroundcolor": "#E5ECF6",
            "gridcolor": "white",
            "gridwidth": 2,
            "linecolor": "white",
            "showbackground": true,
            "ticks": "",
            "zerolinecolor": "white"
           },
           "zaxis": {
            "backgroundcolor": "#E5ECF6",
            "gridcolor": "white",
            "gridwidth": 2,
            "linecolor": "white",
            "showbackground": true,
            "ticks": "",
            "zerolinecolor": "white"
           }
          },
          "shapedefaults": {
           "line": {
            "color": "#2a3f5f"
           }
          },
          "ternary": {
           "aaxis": {
            "gridcolor": "white",
            "linecolor": "white",
            "ticks": ""
           },
           "baxis": {
            "gridcolor": "white",
            "linecolor": "white",
            "ticks": ""
           },
           "bgcolor": "#E5ECF6",
           "caxis": {
            "gridcolor": "white",
            "linecolor": "white",
            "ticks": ""
           }
          },
          "title": {
           "x": 0.05
          },
          "xaxis": {
           "automargin": true,
           "gridcolor": "white",
           "linecolor": "white",
           "ticks": "",
           "title": {
            "standoff": 15
           },
           "zerolinecolor": "white",
           "zerolinewidth": 2
          },
          "yaxis": {
           "automargin": true,
           "gridcolor": "white",
           "linecolor": "white",
           "ticks": "",
           "title": {
            "standoff": 15
           },
           "zerolinecolor": "white",
           "zerolinewidth": 2
          }
         }
        },
        "title": {
         "text": "Boxplot dados de preço dos notebooks na Americanas"
        },
        "xaxis": {
         "anchor": "y",
         "domain": [
          0,
          1
         ]
        },
        "yaxis": {
         "anchor": "x",
         "domain": [
          0,
          1
         ],
         "title": {
          "text": "Preço"
         }
        }
       }
      }
     },
     "metadata": {},
     "output_type": "display_data"
    }
   ],
   "source": [
    "fig = px.box(dados_gerais.query(\"Categoria == 'Notebook' and Loja == 'Americanas'\"), \n",
    "             y=\"Preço\", notched=True,title='Boxplot dados de preço dos notebooks na Americanas')\n",
    "fig.show()"
   ]
  },
  {
   "cell_type": "code",
   "execution_count": 122,
   "metadata": {},
   "outputs": [
    {
     "data": {
      "application/vnd.plotly.v1+json": {
       "config": {
        "plotlyServerURL": "https://plot.ly"
       },
       "data": [
        {
         "alignmentgroup": "True",
         "hovertemplate": "Preço=%{y}<extra></extra>",
         "legendgroup": "",
         "marker": {
          "color": "#636efa"
         },
         "name": "",
         "notched": true,
         "offsetgroup": "",
         "orientation": "v",
         "showlegend": false,
         "type": "box",
         "x0": " ",
         "xaxis": "x",
         "y": [
          3419.1,
          2699.1,
          3329.1,
          2879.1,
          2924.1,
          1538.1,
          3599.1,
          2564.1,
          5129.1,
          3599.1,
          2069.1,
          3959.1,
          1749,
          2249.1,
          2564.1,
          2564.1,
          2474.1,
          3599.1,
          4319.1,
          3599.1,
          2429.1,
          3149.1,
          1799.1,
          5579.1,
          2024.1,
          1979.1,
          4229.1,
          2789.1,
          3329.1,
          2969.1,
          1457.1,
          5224.05,
          9143.1,
          5399.1,
          2394,
          3599.1,
          1749,
          6029.1,
          4769.1,
          3419.1,
          5273.68,
          4589.1,
          2789.1,
          1394.1,
          3959.1,
          4589.1,
          1529.1,
          5849.1,
          2969.1,
          3609.05,
          1619.1,
          8549.05,
          2944.05,
          2811.06,
          1518.3,
          3704.05,
          2789.1,
          8549.1,
          3149.1,
          3284.1,
          3305.05,
          2969.1,
          5849.1,
          2321.1,
          4499.1,
          2339.1,
          1999,
          1439.1,
          2987.1,
          4369.05,
          3464.1,
          2399,
          2852.27,
          1484.1,
          3324.05,
          2834.1,
          2852.27,
          10934.1,
          3609.05,
          3329.1,
          1700.1,
          2564.05,
          3644.1,
          2849.05,
          1790.1,
          3077.1,
          2299,
          6299,
          4091.07,
          4499,
          5399.1,
          8549.05,
          2944.05,
          3014.1,
          3134.05,
          2306.66,
          1799.1,
          3275.1,
          5399.1,
          2519.1,
          4593.23,
          2229.06,
          1527.59,
          2469.05,
          2339.1,
          16919.1,
          5579.1,
          3824.1,
          6079.05,
          1583.1,
          3719.07,
          1356.06,
          2849.05,
          5114.07,
          4999,
          1859.91,
          4130.1,
          3490.06,
          6749.1,
          2789.1,
          2520.06,
          7699,
          3086.91,
          3599.1,
          3021.57,
          4274.05,
          3053.56,
          1647.06,
          5669.1,
          5799,
          11999,
          13004.1,
          3199.06,
          2999.9,
          3392.1,
          3959.1,
          4499.1,
          4949.1,
          3299,
          3356.1,
          5669.1,
          3499,
          5039.1,
          1999,
          1614.05,
          2479,
          10574.1,
          2249.98,
          5129.1,
          1501.56,
          4084.05,
          1799,
          3175.11,
          10079.1,
          2999,
          3689.1,
          5075.1,
          3122.1,
          2520.06,
          2499,
          5759.1,
          11960.1,
          6119.1,
          15299.1,
          4949.1,
          2430.5,
          5918.81,
          2279.05,
          4749.99,
          3086.91,
          3095.1,
          5327.1,
          4859.1,
          1556.09,
          3999,
          4769.1,
          3999,
          4769.1,
          4985.1,
          2999.9,
          4294,
          7221.45,
          7199,
          4179.05,
          2906.24,
          3999,
          22229.1,
          6430.91,
          10444.79,
          6539,
          4499.1,
          5526.21,
          3102.06,
          7399,
          3239.1,
          2423.06,
          5291.1,
          1453.06,
          3194.1,
          3538.56,
          6222.11,
          10199,
          5850.59,
          4454.1,
          2899,
          3725.1,
          3099,
          4994.1,
          2879.1,
          4634.1,
          4702.5,
          3859.2,
          1413.51,
          2609.1,
          2374.05,
          5278.9,
          3419.1,
          4814.1,
          2520.06,
          3419.1,
          3704.05,
          13319.1,
          3538.56,
          5939.1,
          6119.1,
          3869.1,
          3644.1,
          5449,
          2299,
          3689.1,
          7222.11,
          3999,
          3455.44,
          1386.05,
          2744.91,
          4589.1,
          2999,
          4814.1,
          6946.32,
          5799,
          2852.1,
          3346.31,
          4999,
          13999,
          2132.06,
          2119.47,
          3995.1,
          6029.1,
          4618.9,
          3514.05,
          3514.99,
          3799,
          1719.9,
          9224.1,
          4559.99,
          3999,
          2617.06,
          2849.05,
          1528.2,
          8200.64,
          2840.13,
          4121.1,
          11438.1,
          4655,
          5168.9,
          4940,
          10526.21
         ],
         "y0": " ",
         "yaxis": "y"
        }
       ],
       "layout": {
        "boxmode": "group",
        "legend": {
         "tracegroupgap": 0
        },
        "template": {
         "data": {
          "bar": [
           {
            "error_x": {
             "color": "#2a3f5f"
            },
            "error_y": {
             "color": "#2a3f5f"
            },
            "marker": {
             "line": {
              "color": "#E5ECF6",
              "width": 0.5
             },
             "pattern": {
              "fillmode": "overlay",
              "size": 10,
              "solidity": 0.2
             }
            },
            "type": "bar"
           }
          ],
          "barpolar": [
           {
            "marker": {
             "line": {
              "color": "#E5ECF6",
              "width": 0.5
             },
             "pattern": {
              "fillmode": "overlay",
              "size": 10,
              "solidity": 0.2
             }
            },
            "type": "barpolar"
           }
          ],
          "carpet": [
           {
            "aaxis": {
             "endlinecolor": "#2a3f5f",
             "gridcolor": "white",
             "linecolor": "white",
             "minorgridcolor": "white",
             "startlinecolor": "#2a3f5f"
            },
            "baxis": {
             "endlinecolor": "#2a3f5f",
             "gridcolor": "white",
             "linecolor": "white",
             "minorgridcolor": "white",
             "startlinecolor": "#2a3f5f"
            },
            "type": "carpet"
           }
          ],
          "choropleth": [
           {
            "colorbar": {
             "outlinewidth": 0,
             "ticks": ""
            },
            "type": "choropleth"
           }
          ],
          "contour": [
           {
            "colorbar": {
             "outlinewidth": 0,
             "ticks": ""
            },
            "colorscale": [
             [
              0,
              "#0d0887"
             ],
             [
              0.1111111111111111,
              "#46039f"
             ],
             [
              0.2222222222222222,
              "#7201a8"
             ],
             [
              0.3333333333333333,
              "#9c179e"
             ],
             [
              0.4444444444444444,
              "#bd3786"
             ],
             [
              0.5555555555555556,
              "#d8576b"
             ],
             [
              0.6666666666666666,
              "#ed7953"
             ],
             [
              0.7777777777777778,
              "#fb9f3a"
             ],
             [
              0.8888888888888888,
              "#fdca26"
             ],
             [
              1,
              "#f0f921"
             ]
            ],
            "type": "contour"
           }
          ],
          "contourcarpet": [
           {
            "colorbar": {
             "outlinewidth": 0,
             "ticks": ""
            },
            "type": "contourcarpet"
           }
          ],
          "heatmap": [
           {
            "colorbar": {
             "outlinewidth": 0,
             "ticks": ""
            },
            "colorscale": [
             [
              0,
              "#0d0887"
             ],
             [
              0.1111111111111111,
              "#46039f"
             ],
             [
              0.2222222222222222,
              "#7201a8"
             ],
             [
              0.3333333333333333,
              "#9c179e"
             ],
             [
              0.4444444444444444,
              "#bd3786"
             ],
             [
              0.5555555555555556,
              "#d8576b"
             ],
             [
              0.6666666666666666,
              "#ed7953"
             ],
             [
              0.7777777777777778,
              "#fb9f3a"
             ],
             [
              0.8888888888888888,
              "#fdca26"
             ],
             [
              1,
              "#f0f921"
             ]
            ],
            "type": "heatmap"
           }
          ],
          "heatmapgl": [
           {
            "colorbar": {
             "outlinewidth": 0,
             "ticks": ""
            },
            "colorscale": [
             [
              0,
              "#0d0887"
             ],
             [
              0.1111111111111111,
              "#46039f"
             ],
             [
              0.2222222222222222,
              "#7201a8"
             ],
             [
              0.3333333333333333,
              "#9c179e"
             ],
             [
              0.4444444444444444,
              "#bd3786"
             ],
             [
              0.5555555555555556,
              "#d8576b"
             ],
             [
              0.6666666666666666,
              "#ed7953"
             ],
             [
              0.7777777777777778,
              "#fb9f3a"
             ],
             [
              0.8888888888888888,
              "#fdca26"
             ],
             [
              1,
              "#f0f921"
             ]
            ],
            "type": "heatmapgl"
           }
          ],
          "histogram": [
           {
            "marker": {
             "pattern": {
              "fillmode": "overlay",
              "size": 10,
              "solidity": 0.2
             }
            },
            "type": "histogram"
           }
          ],
          "histogram2d": [
           {
            "colorbar": {
             "outlinewidth": 0,
             "ticks": ""
            },
            "colorscale": [
             [
              0,
              "#0d0887"
             ],
             [
              0.1111111111111111,
              "#46039f"
             ],
             [
              0.2222222222222222,
              "#7201a8"
             ],
             [
              0.3333333333333333,
              "#9c179e"
             ],
             [
              0.4444444444444444,
              "#bd3786"
             ],
             [
              0.5555555555555556,
              "#d8576b"
             ],
             [
              0.6666666666666666,
              "#ed7953"
             ],
             [
              0.7777777777777778,
              "#fb9f3a"
             ],
             [
              0.8888888888888888,
              "#fdca26"
             ],
             [
              1,
              "#f0f921"
             ]
            ],
            "type": "histogram2d"
           }
          ],
          "histogram2dcontour": [
           {
            "colorbar": {
             "outlinewidth": 0,
             "ticks": ""
            },
            "colorscale": [
             [
              0,
              "#0d0887"
             ],
             [
              0.1111111111111111,
              "#46039f"
             ],
             [
              0.2222222222222222,
              "#7201a8"
             ],
             [
              0.3333333333333333,
              "#9c179e"
             ],
             [
              0.4444444444444444,
              "#bd3786"
             ],
             [
              0.5555555555555556,
              "#d8576b"
             ],
             [
              0.6666666666666666,
              "#ed7953"
             ],
             [
              0.7777777777777778,
              "#fb9f3a"
             ],
             [
              0.8888888888888888,
              "#fdca26"
             ],
             [
              1,
              "#f0f921"
             ]
            ],
            "type": "histogram2dcontour"
           }
          ],
          "mesh3d": [
           {
            "colorbar": {
             "outlinewidth": 0,
             "ticks": ""
            },
            "type": "mesh3d"
           }
          ],
          "parcoords": [
           {
            "line": {
             "colorbar": {
              "outlinewidth": 0,
              "ticks": ""
             }
            },
            "type": "parcoords"
           }
          ],
          "pie": [
           {
            "automargin": true,
            "type": "pie"
           }
          ],
          "scatter": [
           {
            "marker": {
             "colorbar": {
              "outlinewidth": 0,
              "ticks": ""
             }
            },
            "type": "scatter"
           }
          ],
          "scatter3d": [
           {
            "line": {
             "colorbar": {
              "outlinewidth": 0,
              "ticks": ""
             }
            },
            "marker": {
             "colorbar": {
              "outlinewidth": 0,
              "ticks": ""
             }
            },
            "type": "scatter3d"
           }
          ],
          "scattercarpet": [
           {
            "marker": {
             "colorbar": {
              "outlinewidth": 0,
              "ticks": ""
             }
            },
            "type": "scattercarpet"
           }
          ],
          "scattergeo": [
           {
            "marker": {
             "colorbar": {
              "outlinewidth": 0,
              "ticks": ""
             }
            },
            "type": "scattergeo"
           }
          ],
          "scattergl": [
           {
            "marker": {
             "colorbar": {
              "outlinewidth": 0,
              "ticks": ""
             }
            },
            "type": "scattergl"
           }
          ],
          "scattermapbox": [
           {
            "marker": {
             "colorbar": {
              "outlinewidth": 0,
              "ticks": ""
             }
            },
            "type": "scattermapbox"
           }
          ],
          "scatterpolar": [
           {
            "marker": {
             "colorbar": {
              "outlinewidth": 0,
              "ticks": ""
             }
            },
            "type": "scatterpolar"
           }
          ],
          "scatterpolargl": [
           {
            "marker": {
             "colorbar": {
              "outlinewidth": 0,
              "ticks": ""
             }
            },
            "type": "scatterpolargl"
           }
          ],
          "scatterternary": [
           {
            "marker": {
             "colorbar": {
              "outlinewidth": 0,
              "ticks": ""
             }
            },
            "type": "scatterternary"
           }
          ],
          "surface": [
           {
            "colorbar": {
             "outlinewidth": 0,
             "ticks": ""
            },
            "colorscale": [
             [
              0,
              "#0d0887"
             ],
             [
              0.1111111111111111,
              "#46039f"
             ],
             [
              0.2222222222222222,
              "#7201a8"
             ],
             [
              0.3333333333333333,
              "#9c179e"
             ],
             [
              0.4444444444444444,
              "#bd3786"
             ],
             [
              0.5555555555555556,
              "#d8576b"
             ],
             [
              0.6666666666666666,
              "#ed7953"
             ],
             [
              0.7777777777777778,
              "#fb9f3a"
             ],
             [
              0.8888888888888888,
              "#fdca26"
             ],
             [
              1,
              "#f0f921"
             ]
            ],
            "type": "surface"
           }
          ],
          "table": [
           {
            "cells": {
             "fill": {
              "color": "#EBF0F8"
             },
             "line": {
              "color": "white"
             }
            },
            "header": {
             "fill": {
              "color": "#C8D4E3"
             },
             "line": {
              "color": "white"
             }
            },
            "type": "table"
           }
          ]
         },
         "layout": {
          "annotationdefaults": {
           "arrowcolor": "#2a3f5f",
           "arrowhead": 0,
           "arrowwidth": 1
          },
          "autotypenumbers": "strict",
          "coloraxis": {
           "colorbar": {
            "outlinewidth": 0,
            "ticks": ""
           }
          },
          "colorscale": {
           "diverging": [
            [
             0,
             "#8e0152"
            ],
            [
             0.1,
             "#c51b7d"
            ],
            [
             0.2,
             "#de77ae"
            ],
            [
             0.3,
             "#f1b6da"
            ],
            [
             0.4,
             "#fde0ef"
            ],
            [
             0.5,
             "#f7f7f7"
            ],
            [
             0.6,
             "#e6f5d0"
            ],
            [
             0.7,
             "#b8e186"
            ],
            [
             0.8,
             "#7fbc41"
            ],
            [
             0.9,
             "#4d9221"
            ],
            [
             1,
             "#276419"
            ]
           ],
           "sequential": [
            [
             0,
             "#0d0887"
            ],
            [
             0.1111111111111111,
             "#46039f"
            ],
            [
             0.2222222222222222,
             "#7201a8"
            ],
            [
             0.3333333333333333,
             "#9c179e"
            ],
            [
             0.4444444444444444,
             "#bd3786"
            ],
            [
             0.5555555555555556,
             "#d8576b"
            ],
            [
             0.6666666666666666,
             "#ed7953"
            ],
            [
             0.7777777777777778,
             "#fb9f3a"
            ],
            [
             0.8888888888888888,
             "#fdca26"
            ],
            [
             1,
             "#f0f921"
            ]
           ],
           "sequentialminus": [
            [
             0,
             "#0d0887"
            ],
            [
             0.1111111111111111,
             "#46039f"
            ],
            [
             0.2222222222222222,
             "#7201a8"
            ],
            [
             0.3333333333333333,
             "#9c179e"
            ],
            [
             0.4444444444444444,
             "#bd3786"
            ],
            [
             0.5555555555555556,
             "#d8576b"
            ],
            [
             0.6666666666666666,
             "#ed7953"
            ],
            [
             0.7777777777777778,
             "#fb9f3a"
            ],
            [
             0.8888888888888888,
             "#fdca26"
            ],
            [
             1,
             "#f0f921"
            ]
           ]
          },
          "colorway": [
           "#636efa",
           "#EF553B",
           "#00cc96",
           "#ab63fa",
           "#FFA15A",
           "#19d3f3",
           "#FF6692",
           "#B6E880",
           "#FF97FF",
           "#FECB52"
          ],
          "font": {
           "color": "#2a3f5f"
          },
          "geo": {
           "bgcolor": "white",
           "lakecolor": "white",
           "landcolor": "#E5ECF6",
           "showlakes": true,
           "showland": true,
           "subunitcolor": "white"
          },
          "hoverlabel": {
           "align": "left"
          },
          "hovermode": "closest",
          "mapbox": {
           "style": "light"
          },
          "paper_bgcolor": "white",
          "plot_bgcolor": "#E5ECF6",
          "polar": {
           "angularaxis": {
            "gridcolor": "white",
            "linecolor": "white",
            "ticks": ""
           },
           "bgcolor": "#E5ECF6",
           "radialaxis": {
            "gridcolor": "white",
            "linecolor": "white",
            "ticks": ""
           }
          },
          "scene": {
           "xaxis": {
            "backgroundcolor": "#E5ECF6",
            "gridcolor": "white",
            "gridwidth": 2,
            "linecolor": "white",
            "showbackground": true,
            "ticks": "",
            "zerolinecolor": "white"
           },
           "yaxis": {
            "backgroundcolor": "#E5ECF6",
            "gridcolor": "white",
            "gridwidth": 2,
            "linecolor": "white",
            "showbackground": true,
            "ticks": "",
            "zerolinecolor": "white"
           },
           "zaxis": {
            "backgroundcolor": "#E5ECF6",
            "gridcolor": "white",
            "gridwidth": 2,
            "linecolor": "white",
            "showbackground": true,
            "ticks": "",
            "zerolinecolor": "white"
           }
          },
          "shapedefaults": {
           "line": {
            "color": "#2a3f5f"
           }
          },
          "ternary": {
           "aaxis": {
            "gridcolor": "white",
            "linecolor": "white",
            "ticks": ""
           },
           "baxis": {
            "gridcolor": "white",
            "linecolor": "white",
            "ticks": ""
           },
           "bgcolor": "#E5ECF6",
           "caxis": {
            "gridcolor": "white",
            "linecolor": "white",
            "ticks": ""
           }
          },
          "title": {
           "x": 0.05
          },
          "xaxis": {
           "automargin": true,
           "gridcolor": "white",
           "linecolor": "white",
           "ticks": "",
           "title": {
            "standoff": 15
           },
           "zerolinecolor": "white",
           "zerolinewidth": 2
          },
          "yaxis": {
           "automargin": true,
           "gridcolor": "white",
           "linecolor": "white",
           "ticks": "",
           "title": {
            "standoff": 15
           },
           "zerolinecolor": "white",
           "zerolinewidth": 2
          }
         }
        },
        "title": {
         "text": "Boxplot dados de preço dos notebooks na Americanas"
        },
        "xaxis": {
         "anchor": "y",
         "domain": [
          0,
          1
         ]
        },
        "yaxis": {
         "anchor": "x",
         "domain": [
          0,
          1
         ],
         "title": {
          "text": "Preço"
         }
        }
       }
      }
     },
     "metadata": {},
     "output_type": "display_data"
    }
   ],
   "source": [
    "fig = px.box(dados_gerais.query(\"Categoria == 'Notebook' and Loja == 'Megazine Luiza'\"), \n",
    "             y=\"Preço\", notched=True,title='Boxplot dados de preço dos notebooks na Americanas')\n",
    "fig.update_layout\n",
    "fig.show()"
   ]
  },
  {
   "cell_type": "code",
   "execution_count": 123,
   "metadata": {},
   "outputs": [
    {
     "data": {
      "application/vnd.plotly.v1+json": {
       "config": {
        "plotlyServerURL": "https://plot.ly"
       },
       "data": [
        {
         "alignmentgroup": "True",
         "hovertemplate": "Preço=%{y}<extra></extra>",
         "legendgroup": "",
         "marker": {
          "color": "#636efa"
         },
         "name": "",
         "notched": true,
         "offsetgroup": "",
         "orientation": "v",
         "showlegend": false,
         "type": "box",
         "x0": " ",
         "xaxis": "x",
         "y": [
          3999,
          2349,
          1519.9,
          1699,
          3099,
          1799,
          2399,
          2999,
          1487.9,
          1519.9,
          1899,
          3499,
          3749,
          2999,
          5599,
          1749,
          2479,
          3699,
          4899,
          3199,
          3799,
          3799,
          3099,
          2999,
          2428,
          4199,
          5199,
          1778,
          8899,
          2528.9,
          1499,
          1997,
          3049,
          2999,
          2399,
          2799,
          3799,
          4799,
          1799,
          4299,
          2628,
          1668,
          2998,
          1618.9,
          3628,
          2528.9,
          3699,
          6699,
          2999,
          2889.41,
          5699,
          4699,
          5578,
          3999,
          4299,
          1741.9,
          1829.9,
          2589.9,
          1989,
          3799,
          4078,
          3399,
          3999,
          1663.9,
          5499,
          3899,
          2599,
          3599,
          2528,
          3178,
          7499,
          2899,
          5199,
          3599,
          4999,
          4599,
          3299,
          5299,
          2999,
          2313,
          4999,
          5199,
          4299,
          4999,
          3101.89,
          4378,
          5919,
          1799,
          2639,
          4999,
          4603.15,
          7999,
          5918.81,
          6078,
          2799.99,
          8386.09,
          3599,
          4699,
          3299.99,
          3339.99,
          3599,
          5749,
          6399,
          2626,
          5303.47,
          5849,
          6299,
          4498.8,
          6199,
          3499,
          3849,
          3899,
          7736.3,
          6599,
          4199,
          4849,
          5908.66,
          5299,
          6199,
          5249,
          4049,
          4949,
          5149,
          4799,
          4399,
          4499,
          5215,
          5699,
          5989.99,
          5449,
          4699,
          5099,
          5549,
          6499,
          4949,
          6549,
          5249,
          4849,
          5599,
          4549,
          4549,
          3585.5,
          4131.9,
          6349,
          3999,
          5549,
          4749,
          4599,
          4199,
          5199,
          4799,
          7449,
          4699,
          4899,
          6699,
          5299,
          7299,
          6799,
          6349,
          5949,
          5449,
          4349,
          6449,
          6049,
          6499,
          5749,
          6049,
          4449,
          5099,
          4549,
          4199,
          3299,
          4449,
          4349,
          3549,
          4199,
          6299,
          3749,
          4699,
          4849,
          6249,
          4299,
          4199,
          3899,
          5149,
          4499,
          7406.5,
          6949,
          5349,
          4249,
          5549,
          6049,
          3959.75,
          5749,
          5449,
          4349,
          7099,
          5199,
          6249,
          5849,
          4699,
          5299,
          5799,
          5299,
          8780,
          7949,
          4799,
          6049,
          4999,
          6299,
          5549,
          3368.79,
          4999,
          5729.99,
          6299,
          4649,
          4799,
          5449,
          3699,
          7134,
          4499,
          5049,
          8399.99,
          4349,
          4249,
          4699,
          4999,
          5099,
          4049,
          4249,
          5699,
          5799,
          5949,
          5199,
          5299,
          5349,
          5499,
          2199.99
         ],
         "y0": " ",
         "yaxis": "y"
        }
       ],
       "layout": {
        "boxmode": "group",
        "legend": {
         "tracegroupgap": 0
        },
        "margin": {
         "t": 60
        },
        "template": {
         "data": {
          "bar": [
           {
            "error_x": {
             "color": "#2a3f5f"
            },
            "error_y": {
             "color": "#2a3f5f"
            },
            "marker": {
             "line": {
              "color": "#E5ECF6",
              "width": 0.5
             },
             "pattern": {
              "fillmode": "overlay",
              "size": 10,
              "solidity": 0.2
             }
            },
            "type": "bar"
           }
          ],
          "barpolar": [
           {
            "marker": {
             "line": {
              "color": "#E5ECF6",
              "width": 0.5
             },
             "pattern": {
              "fillmode": "overlay",
              "size": 10,
              "solidity": 0.2
             }
            },
            "type": "barpolar"
           }
          ],
          "carpet": [
           {
            "aaxis": {
             "endlinecolor": "#2a3f5f",
             "gridcolor": "white",
             "linecolor": "white",
             "minorgridcolor": "white",
             "startlinecolor": "#2a3f5f"
            },
            "baxis": {
             "endlinecolor": "#2a3f5f",
             "gridcolor": "white",
             "linecolor": "white",
             "minorgridcolor": "white",
             "startlinecolor": "#2a3f5f"
            },
            "type": "carpet"
           }
          ],
          "choropleth": [
           {
            "colorbar": {
             "outlinewidth": 0,
             "ticks": ""
            },
            "type": "choropleth"
           }
          ],
          "contour": [
           {
            "colorbar": {
             "outlinewidth": 0,
             "ticks": ""
            },
            "colorscale": [
             [
              0,
              "#0d0887"
             ],
             [
              0.1111111111111111,
              "#46039f"
             ],
             [
              0.2222222222222222,
              "#7201a8"
             ],
             [
              0.3333333333333333,
              "#9c179e"
             ],
             [
              0.4444444444444444,
              "#bd3786"
             ],
             [
              0.5555555555555556,
              "#d8576b"
             ],
             [
              0.6666666666666666,
              "#ed7953"
             ],
             [
              0.7777777777777778,
              "#fb9f3a"
             ],
             [
              0.8888888888888888,
              "#fdca26"
             ],
             [
              1,
              "#f0f921"
             ]
            ],
            "type": "contour"
           }
          ],
          "contourcarpet": [
           {
            "colorbar": {
             "outlinewidth": 0,
             "ticks": ""
            },
            "type": "contourcarpet"
           }
          ],
          "heatmap": [
           {
            "colorbar": {
             "outlinewidth": 0,
             "ticks": ""
            },
            "colorscale": [
             [
              0,
              "#0d0887"
             ],
             [
              0.1111111111111111,
              "#46039f"
             ],
             [
              0.2222222222222222,
              "#7201a8"
             ],
             [
              0.3333333333333333,
              "#9c179e"
             ],
             [
              0.4444444444444444,
              "#bd3786"
             ],
             [
              0.5555555555555556,
              "#d8576b"
             ],
             [
              0.6666666666666666,
              "#ed7953"
             ],
             [
              0.7777777777777778,
              "#fb9f3a"
             ],
             [
              0.8888888888888888,
              "#fdca26"
             ],
             [
              1,
              "#f0f921"
             ]
            ],
            "type": "heatmap"
           }
          ],
          "heatmapgl": [
           {
            "colorbar": {
             "outlinewidth": 0,
             "ticks": ""
            },
            "colorscale": [
             [
              0,
              "#0d0887"
             ],
             [
              0.1111111111111111,
              "#46039f"
             ],
             [
              0.2222222222222222,
              "#7201a8"
             ],
             [
              0.3333333333333333,
              "#9c179e"
             ],
             [
              0.4444444444444444,
              "#bd3786"
             ],
             [
              0.5555555555555556,
              "#d8576b"
             ],
             [
              0.6666666666666666,
              "#ed7953"
             ],
             [
              0.7777777777777778,
              "#fb9f3a"
             ],
             [
              0.8888888888888888,
              "#fdca26"
             ],
             [
              1,
              "#f0f921"
             ]
            ],
            "type": "heatmapgl"
           }
          ],
          "histogram": [
           {
            "marker": {
             "pattern": {
              "fillmode": "overlay",
              "size": 10,
              "solidity": 0.2
             }
            },
            "type": "histogram"
           }
          ],
          "histogram2d": [
           {
            "colorbar": {
             "outlinewidth": 0,
             "ticks": ""
            },
            "colorscale": [
             [
              0,
              "#0d0887"
             ],
             [
              0.1111111111111111,
              "#46039f"
             ],
             [
              0.2222222222222222,
              "#7201a8"
             ],
             [
              0.3333333333333333,
              "#9c179e"
             ],
             [
              0.4444444444444444,
              "#bd3786"
             ],
             [
              0.5555555555555556,
              "#d8576b"
             ],
             [
              0.6666666666666666,
              "#ed7953"
             ],
             [
              0.7777777777777778,
              "#fb9f3a"
             ],
             [
              0.8888888888888888,
              "#fdca26"
             ],
             [
              1,
              "#f0f921"
             ]
            ],
            "type": "histogram2d"
           }
          ],
          "histogram2dcontour": [
           {
            "colorbar": {
             "outlinewidth": 0,
             "ticks": ""
            },
            "colorscale": [
             [
              0,
              "#0d0887"
             ],
             [
              0.1111111111111111,
              "#46039f"
             ],
             [
              0.2222222222222222,
              "#7201a8"
             ],
             [
              0.3333333333333333,
              "#9c179e"
             ],
             [
              0.4444444444444444,
              "#bd3786"
             ],
             [
              0.5555555555555556,
              "#d8576b"
             ],
             [
              0.6666666666666666,
              "#ed7953"
             ],
             [
              0.7777777777777778,
              "#fb9f3a"
             ],
             [
              0.8888888888888888,
              "#fdca26"
             ],
             [
              1,
              "#f0f921"
             ]
            ],
            "type": "histogram2dcontour"
           }
          ],
          "mesh3d": [
           {
            "colorbar": {
             "outlinewidth": 0,
             "ticks": ""
            },
            "type": "mesh3d"
           }
          ],
          "parcoords": [
           {
            "line": {
             "colorbar": {
              "outlinewidth": 0,
              "ticks": ""
             }
            },
            "type": "parcoords"
           }
          ],
          "pie": [
           {
            "automargin": true,
            "type": "pie"
           }
          ],
          "scatter": [
           {
            "marker": {
             "colorbar": {
              "outlinewidth": 0,
              "ticks": ""
             }
            },
            "type": "scatter"
           }
          ],
          "scatter3d": [
           {
            "line": {
             "colorbar": {
              "outlinewidth": 0,
              "ticks": ""
             }
            },
            "marker": {
             "colorbar": {
              "outlinewidth": 0,
              "ticks": ""
             }
            },
            "type": "scatter3d"
           }
          ],
          "scattercarpet": [
           {
            "marker": {
             "colorbar": {
              "outlinewidth": 0,
              "ticks": ""
             }
            },
            "type": "scattercarpet"
           }
          ],
          "scattergeo": [
           {
            "marker": {
             "colorbar": {
              "outlinewidth": 0,
              "ticks": ""
             }
            },
            "type": "scattergeo"
           }
          ],
          "scattergl": [
           {
            "marker": {
             "colorbar": {
              "outlinewidth": 0,
              "ticks": ""
             }
            },
            "type": "scattergl"
           }
          ],
          "scattermapbox": [
           {
            "marker": {
             "colorbar": {
              "outlinewidth": 0,
              "ticks": ""
             }
            },
            "type": "scattermapbox"
           }
          ],
          "scatterpolar": [
           {
            "marker": {
             "colorbar": {
              "outlinewidth": 0,
              "ticks": ""
             }
            },
            "type": "scatterpolar"
           }
          ],
          "scatterpolargl": [
           {
            "marker": {
             "colorbar": {
              "outlinewidth": 0,
              "ticks": ""
             }
            },
            "type": "scatterpolargl"
           }
          ],
          "scatterternary": [
           {
            "marker": {
             "colorbar": {
              "outlinewidth": 0,
              "ticks": ""
             }
            },
            "type": "scatterternary"
           }
          ],
          "surface": [
           {
            "colorbar": {
             "outlinewidth": 0,
             "ticks": ""
            },
            "colorscale": [
             [
              0,
              "#0d0887"
             ],
             [
              0.1111111111111111,
              "#46039f"
             ],
             [
              0.2222222222222222,
              "#7201a8"
             ],
             [
              0.3333333333333333,
              "#9c179e"
             ],
             [
              0.4444444444444444,
              "#bd3786"
             ],
             [
              0.5555555555555556,
              "#d8576b"
             ],
             [
              0.6666666666666666,
              "#ed7953"
             ],
             [
              0.7777777777777778,
              "#fb9f3a"
             ],
             [
              0.8888888888888888,
              "#fdca26"
             ],
             [
              1,
              "#f0f921"
             ]
            ],
            "type": "surface"
           }
          ],
          "table": [
           {
            "cells": {
             "fill": {
              "color": "#EBF0F8"
             },
             "line": {
              "color": "white"
             }
            },
            "header": {
             "fill": {
              "color": "#C8D4E3"
             },
             "line": {
              "color": "white"
             }
            },
            "type": "table"
           }
          ]
         },
         "layout": {
          "annotationdefaults": {
           "arrowcolor": "#2a3f5f",
           "arrowhead": 0,
           "arrowwidth": 1
          },
          "autotypenumbers": "strict",
          "coloraxis": {
           "colorbar": {
            "outlinewidth": 0,
            "ticks": ""
           }
          },
          "colorscale": {
           "diverging": [
            [
             0,
             "#8e0152"
            ],
            [
             0.1,
             "#c51b7d"
            ],
            [
             0.2,
             "#de77ae"
            ],
            [
             0.3,
             "#f1b6da"
            ],
            [
             0.4,
             "#fde0ef"
            ],
            [
             0.5,
             "#f7f7f7"
            ],
            [
             0.6,
             "#e6f5d0"
            ],
            [
             0.7,
             "#b8e186"
            ],
            [
             0.8,
             "#7fbc41"
            ],
            [
             0.9,
             "#4d9221"
            ],
            [
             1,
             "#276419"
            ]
           ],
           "sequential": [
            [
             0,
             "#0d0887"
            ],
            [
             0.1111111111111111,
             "#46039f"
            ],
            [
             0.2222222222222222,
             "#7201a8"
            ],
            [
             0.3333333333333333,
             "#9c179e"
            ],
            [
             0.4444444444444444,
             "#bd3786"
            ],
            [
             0.5555555555555556,
             "#d8576b"
            ],
            [
             0.6666666666666666,
             "#ed7953"
            ],
            [
             0.7777777777777778,
             "#fb9f3a"
            ],
            [
             0.8888888888888888,
             "#fdca26"
            ],
            [
             1,
             "#f0f921"
            ]
           ],
           "sequentialminus": [
            [
             0,
             "#0d0887"
            ],
            [
             0.1111111111111111,
             "#46039f"
            ],
            [
             0.2222222222222222,
             "#7201a8"
            ],
            [
             0.3333333333333333,
             "#9c179e"
            ],
            [
             0.4444444444444444,
             "#bd3786"
            ],
            [
             0.5555555555555556,
             "#d8576b"
            ],
            [
             0.6666666666666666,
             "#ed7953"
            ],
            [
             0.7777777777777778,
             "#fb9f3a"
            ],
            [
             0.8888888888888888,
             "#fdca26"
            ],
            [
             1,
             "#f0f921"
            ]
           ]
          },
          "colorway": [
           "#636efa",
           "#EF553B",
           "#00cc96",
           "#ab63fa",
           "#FFA15A",
           "#19d3f3",
           "#FF6692",
           "#B6E880",
           "#FF97FF",
           "#FECB52"
          ],
          "font": {
           "color": "#2a3f5f"
          },
          "geo": {
           "bgcolor": "white",
           "lakecolor": "white",
           "landcolor": "#E5ECF6",
           "showlakes": true,
           "showland": true,
           "subunitcolor": "white"
          },
          "hoverlabel": {
           "align": "left"
          },
          "hovermode": "closest",
          "mapbox": {
           "style": "light"
          },
          "paper_bgcolor": "white",
          "plot_bgcolor": "#E5ECF6",
          "polar": {
           "angularaxis": {
            "gridcolor": "white",
            "linecolor": "white",
            "ticks": ""
           },
           "bgcolor": "#E5ECF6",
           "radialaxis": {
            "gridcolor": "white",
            "linecolor": "white",
            "ticks": ""
           }
          },
          "scene": {
           "xaxis": {
            "backgroundcolor": "#E5ECF6",
            "gridcolor": "white",
            "gridwidth": 2,
            "linecolor": "white",
            "showbackground": true,
            "ticks": "",
            "zerolinecolor": "white"
           },
           "yaxis": {
            "backgroundcolor": "#E5ECF6",
            "gridcolor": "white",
            "gridwidth": 2,
            "linecolor": "white",
            "showbackground": true,
            "ticks": "",
            "zerolinecolor": "white"
           },
           "zaxis": {
            "backgroundcolor": "#E5ECF6",
            "gridcolor": "white",
            "gridwidth": 2,
            "linecolor": "white",
            "showbackground": true,
            "ticks": "",
            "zerolinecolor": "white"
           }
          },
          "shapedefaults": {
           "line": {
            "color": "#2a3f5f"
           }
          },
          "ternary": {
           "aaxis": {
            "gridcolor": "white",
            "linecolor": "white",
            "ticks": ""
           },
           "baxis": {
            "gridcolor": "white",
            "linecolor": "white",
            "ticks": ""
           },
           "bgcolor": "#E5ECF6",
           "caxis": {
            "gridcolor": "white",
            "linecolor": "white",
            "ticks": ""
           }
          },
          "title": {
           "x": 0.05
          },
          "xaxis": {
           "automargin": true,
           "gridcolor": "white",
           "linecolor": "white",
           "ticks": "",
           "title": {
            "standoff": 15
           },
           "zerolinecolor": "white",
           "zerolinewidth": 2
          },
          "yaxis": {
           "automargin": true,
           "gridcolor": "white",
           "linecolor": "white",
           "ticks": "",
           "title": {
            "standoff": 15
           },
           "zerolinecolor": "white",
           "zerolinewidth": 2
          }
         }
        },
        "xaxis": {
         "anchor": "y",
         "domain": [
          0,
          1
         ]
        },
        "yaxis": {
         "anchor": "x",
         "domain": [
          0,
          1
         ],
         "title": {
          "text": "Preço"
         }
        }
       }
      }
     },
     "metadata": {},
     "output_type": "display_data"
    }
   ],
   "source": [
    "fig = px.box(dados_gerais.query(\"Categoria == 'Notebook' and Loja == 'Casas Bahia'\"), \n",
    "             y=\"Preço\", notched=True)\n",
    "fig.show()"
   ]
  },
  {
   "cell_type": "code",
   "execution_count": 60,
   "metadata": {},
   "outputs": [
    {
     "data": {
      "application/vnd.plotly.v1+json": {
       "config": {
        "plotlyServerURL": "https://plot.ly"
       },
       "data": [
        {
         "alignmentgroup": "True",
         "hovertemplate": "Preço=%{y}<extra></extra>",
         "legendgroup": "",
         "marker": {
          "color": "#636efa"
         },
         "name": "",
         "notched": true,
         "offsetgroup": "",
         "orientation": "v",
         "showlegend": false,
         "type": "box",
         "x0": " ",
         "xaxis": "x",
         "y": [
          2909,
          3229.99,
          1699,
          2789.09,
          1718.9,
          2539.9,
          6254.41,
          1529.1,
          4769.1,
          4908.35,
          3274.53,
          1338.35,
          2062.63,
          4499,
          5779.99,
          4399,
          1567.48,
          3742.05,
          4095.24,
          9199,
          6336.3,
          2800.03,
          2849,
          4699,
          4358.19,
          4084.05,
          4547.72,
          3148.9,
          8549,
          2069.57,
          2259.9,
          4200,
          4741.24,
          5067.03,
          1439.9,
          3029,
          2999,
          1799.9,
          4499,
          4229.9,
          2199.89,
          2899,
          5769.9,
          6199,
          1405.99,
          2140,
          3699,
          5230,
          1899,
          7870,
          4794.66,
          1234.99,
          3616.07,
          1999,
          2839,
          5415.05,
          5036.32,
          10199,
          5969,
          2773.96,
          3949,
          1959.57,
          1658.27,
          4999,
          1899,
          1399,
          9979,
          3899,
          8699.9,
          5805.8,
          5507.18,
          5499,
          7769,
          3384.65,
          6615.16,
          6099,
          5278.9,
          3999,
          5799,
          5793.4,
          5384.35,
          9699,
          1699.89,
          3491.24,
          3134.99,
          2389,
          5508.95,
          4944.2,
          4349,
          1499,
          7641.38,
          1035.87,
          5999,
          2305.51,
          2250,
          5036.32,
          1699.7,
          6999.01,
          4899,
          1618.9,
          3799,
          4823.13,
          4299,
          2449.9,
          5649,
          6939,
          2250,
          2599.9,
          1749,
          3899,
          2999,
          4299,
          4299,
          7899,
          2422.23,
          2139,
          4499.9,
          6449.47,
          4999.99,
          4399,
          3591,
          6699,
          8107.53,
          7125.08,
          5749,
          6554.99,
          4549,
          9288,
          4794.53,
          4199,
          6582.44,
          3599,
          4998.99,
          7399,
          6899,
          4399,
          6506.58,
          3890.92,
          1899.9,
          2418.07,
          9499,
          4099,
          3999,
          2299,
          10499,
          10500,
          3299,
          3999,
          3101.89,
          7244.14,
          1999,
          1395.85,
          3049,
          4400.7,
          5799,
          1969,
          1724.66,
          2800,
          1391.55,
          3949,
          5949,
          3712.77,
          3899,
          1030.49,
          2150,
          2528.9,
          5149,
          2329,
          3199,
          3049.8,
          1291.79,
          4649,
          5639,
          2448.29,
          4399,
          8349,
          6111.95,
          1271.89,
          1553.23,
          1183.72,
          3335.36,
          5639.99,
          2499,
          6299,
          6336.3,
          7499,
          6699,
          1006.89,
          1799.33,
          7299.99,
          7093,
          1359,
          6299,
          4249,
          6254.41,
          4399,
          7349,
          4999,
          4741.24,
          5067.03,
          7299.99,
          5999,
          3183.53,
          5415.05,
          5036.32,
          1709.44,
          5099,
          5805.8,
          5507.18,
          2299.98,
          1035.87,
          3249,
          6049,
          3009.9,
          5793.4,
          5384.35,
          8077.32,
          3499,
          3609.02,
          1439,
          4449,
          5508.95,
          4944.2,
          6849,
          3452.21,
          2940.85,
          2799,
          2229,
          5036.32,
          1416.54,
          3099,
          1999,
          9971.85,
          1899,
          4823.13,
          6199,
          3469,
          4301.14,
          4288.9,
          7697.78,
          1787.92,
          5409.99,
          1465.81,
          2159.1,
          3599,
          5999
         ],
         "y0": " ",
         "yaxis": "y"
        }
       ],
       "layout": {
        "boxmode": "group",
        "legend": {
         "tracegroupgap": 0
        },
        "margin": {
         "t": 60
        },
        "template": {
         "data": {
          "bar": [
           {
            "error_x": {
             "color": "#2a3f5f"
            },
            "error_y": {
             "color": "#2a3f5f"
            },
            "marker": {
             "line": {
              "color": "#E5ECF6",
              "width": 0.5
             },
             "pattern": {
              "fillmode": "overlay",
              "size": 10,
              "solidity": 0.2
             }
            },
            "type": "bar"
           }
          ],
          "barpolar": [
           {
            "marker": {
             "line": {
              "color": "#E5ECF6",
              "width": 0.5
             },
             "pattern": {
              "fillmode": "overlay",
              "size": 10,
              "solidity": 0.2
             }
            },
            "type": "barpolar"
           }
          ],
          "carpet": [
           {
            "aaxis": {
             "endlinecolor": "#2a3f5f",
             "gridcolor": "white",
             "linecolor": "white",
             "minorgridcolor": "white",
             "startlinecolor": "#2a3f5f"
            },
            "baxis": {
             "endlinecolor": "#2a3f5f",
             "gridcolor": "white",
             "linecolor": "white",
             "minorgridcolor": "white",
             "startlinecolor": "#2a3f5f"
            },
            "type": "carpet"
           }
          ],
          "choropleth": [
           {
            "colorbar": {
             "outlinewidth": 0,
             "ticks": ""
            },
            "type": "choropleth"
           }
          ],
          "contour": [
           {
            "colorbar": {
             "outlinewidth": 0,
             "ticks": ""
            },
            "colorscale": [
             [
              0,
              "#0d0887"
             ],
             [
              0.1111111111111111,
              "#46039f"
             ],
             [
              0.2222222222222222,
              "#7201a8"
             ],
             [
              0.3333333333333333,
              "#9c179e"
             ],
             [
              0.4444444444444444,
              "#bd3786"
             ],
             [
              0.5555555555555556,
              "#d8576b"
             ],
             [
              0.6666666666666666,
              "#ed7953"
             ],
             [
              0.7777777777777778,
              "#fb9f3a"
             ],
             [
              0.8888888888888888,
              "#fdca26"
             ],
             [
              1,
              "#f0f921"
             ]
            ],
            "type": "contour"
           }
          ],
          "contourcarpet": [
           {
            "colorbar": {
             "outlinewidth": 0,
             "ticks": ""
            },
            "type": "contourcarpet"
           }
          ],
          "heatmap": [
           {
            "colorbar": {
             "outlinewidth": 0,
             "ticks": ""
            },
            "colorscale": [
             [
              0,
              "#0d0887"
             ],
             [
              0.1111111111111111,
              "#46039f"
             ],
             [
              0.2222222222222222,
              "#7201a8"
             ],
             [
              0.3333333333333333,
              "#9c179e"
             ],
             [
              0.4444444444444444,
              "#bd3786"
             ],
             [
              0.5555555555555556,
              "#d8576b"
             ],
             [
              0.6666666666666666,
              "#ed7953"
             ],
             [
              0.7777777777777778,
              "#fb9f3a"
             ],
             [
              0.8888888888888888,
              "#fdca26"
             ],
             [
              1,
              "#f0f921"
             ]
            ],
            "type": "heatmap"
           }
          ],
          "heatmapgl": [
           {
            "colorbar": {
             "outlinewidth": 0,
             "ticks": ""
            },
            "colorscale": [
             [
              0,
              "#0d0887"
             ],
             [
              0.1111111111111111,
              "#46039f"
             ],
             [
              0.2222222222222222,
              "#7201a8"
             ],
             [
              0.3333333333333333,
              "#9c179e"
             ],
             [
              0.4444444444444444,
              "#bd3786"
             ],
             [
              0.5555555555555556,
              "#d8576b"
             ],
             [
              0.6666666666666666,
              "#ed7953"
             ],
             [
              0.7777777777777778,
              "#fb9f3a"
             ],
             [
              0.8888888888888888,
              "#fdca26"
             ],
             [
              1,
              "#f0f921"
             ]
            ],
            "type": "heatmapgl"
           }
          ],
          "histogram": [
           {
            "marker": {
             "pattern": {
              "fillmode": "overlay",
              "size": 10,
              "solidity": 0.2
             }
            },
            "type": "histogram"
           }
          ],
          "histogram2d": [
           {
            "colorbar": {
             "outlinewidth": 0,
             "ticks": ""
            },
            "colorscale": [
             [
              0,
              "#0d0887"
             ],
             [
              0.1111111111111111,
              "#46039f"
             ],
             [
              0.2222222222222222,
              "#7201a8"
             ],
             [
              0.3333333333333333,
              "#9c179e"
             ],
             [
              0.4444444444444444,
              "#bd3786"
             ],
             [
              0.5555555555555556,
              "#d8576b"
             ],
             [
              0.6666666666666666,
              "#ed7953"
             ],
             [
              0.7777777777777778,
              "#fb9f3a"
             ],
             [
              0.8888888888888888,
              "#fdca26"
             ],
             [
              1,
              "#f0f921"
             ]
            ],
            "type": "histogram2d"
           }
          ],
          "histogram2dcontour": [
           {
            "colorbar": {
             "outlinewidth": 0,
             "ticks": ""
            },
            "colorscale": [
             [
              0,
              "#0d0887"
             ],
             [
              0.1111111111111111,
              "#46039f"
             ],
             [
              0.2222222222222222,
              "#7201a8"
             ],
             [
              0.3333333333333333,
              "#9c179e"
             ],
             [
              0.4444444444444444,
              "#bd3786"
             ],
             [
              0.5555555555555556,
              "#d8576b"
             ],
             [
              0.6666666666666666,
              "#ed7953"
             ],
             [
              0.7777777777777778,
              "#fb9f3a"
             ],
             [
              0.8888888888888888,
              "#fdca26"
             ],
             [
              1,
              "#f0f921"
             ]
            ],
            "type": "histogram2dcontour"
           }
          ],
          "mesh3d": [
           {
            "colorbar": {
             "outlinewidth": 0,
             "ticks": ""
            },
            "type": "mesh3d"
           }
          ],
          "parcoords": [
           {
            "line": {
             "colorbar": {
              "outlinewidth": 0,
              "ticks": ""
             }
            },
            "type": "parcoords"
           }
          ],
          "pie": [
           {
            "automargin": true,
            "type": "pie"
           }
          ],
          "scatter": [
           {
            "marker": {
             "colorbar": {
              "outlinewidth": 0,
              "ticks": ""
             }
            },
            "type": "scatter"
           }
          ],
          "scatter3d": [
           {
            "line": {
             "colorbar": {
              "outlinewidth": 0,
              "ticks": ""
             }
            },
            "marker": {
             "colorbar": {
              "outlinewidth": 0,
              "ticks": ""
             }
            },
            "type": "scatter3d"
           }
          ],
          "scattercarpet": [
           {
            "marker": {
             "colorbar": {
              "outlinewidth": 0,
              "ticks": ""
             }
            },
            "type": "scattercarpet"
           }
          ],
          "scattergeo": [
           {
            "marker": {
             "colorbar": {
              "outlinewidth": 0,
              "ticks": ""
             }
            },
            "type": "scattergeo"
           }
          ],
          "scattergl": [
           {
            "marker": {
             "colorbar": {
              "outlinewidth": 0,
              "ticks": ""
             }
            },
            "type": "scattergl"
           }
          ],
          "scattermapbox": [
           {
            "marker": {
             "colorbar": {
              "outlinewidth": 0,
              "ticks": ""
             }
            },
            "type": "scattermapbox"
           }
          ],
          "scatterpolar": [
           {
            "marker": {
             "colorbar": {
              "outlinewidth": 0,
              "ticks": ""
             }
            },
            "type": "scatterpolar"
           }
          ],
          "scatterpolargl": [
           {
            "marker": {
             "colorbar": {
              "outlinewidth": 0,
              "ticks": ""
             }
            },
            "type": "scatterpolargl"
           }
          ],
          "scatterternary": [
           {
            "marker": {
             "colorbar": {
              "outlinewidth": 0,
              "ticks": ""
             }
            },
            "type": "scatterternary"
           }
          ],
          "surface": [
           {
            "colorbar": {
             "outlinewidth": 0,
             "ticks": ""
            },
            "colorscale": [
             [
              0,
              "#0d0887"
             ],
             [
              0.1111111111111111,
              "#46039f"
             ],
             [
              0.2222222222222222,
              "#7201a8"
             ],
             [
              0.3333333333333333,
              "#9c179e"
             ],
             [
              0.4444444444444444,
              "#bd3786"
             ],
             [
              0.5555555555555556,
              "#d8576b"
             ],
             [
              0.6666666666666666,
              "#ed7953"
             ],
             [
              0.7777777777777778,
              "#fb9f3a"
             ],
             [
              0.8888888888888888,
              "#fdca26"
             ],
             [
              1,
              "#f0f921"
             ]
            ],
            "type": "surface"
           }
          ],
          "table": [
           {
            "cells": {
             "fill": {
              "color": "#EBF0F8"
             },
             "line": {
              "color": "white"
             }
            },
            "header": {
             "fill": {
              "color": "#C8D4E3"
             },
             "line": {
              "color": "white"
             }
            },
            "type": "table"
           }
          ]
         },
         "layout": {
          "annotationdefaults": {
           "arrowcolor": "#2a3f5f",
           "arrowhead": 0,
           "arrowwidth": 1
          },
          "autotypenumbers": "strict",
          "coloraxis": {
           "colorbar": {
            "outlinewidth": 0,
            "ticks": ""
           }
          },
          "colorscale": {
           "diverging": [
            [
             0,
             "#8e0152"
            ],
            [
             0.1,
             "#c51b7d"
            ],
            [
             0.2,
             "#de77ae"
            ],
            [
             0.3,
             "#f1b6da"
            ],
            [
             0.4,
             "#fde0ef"
            ],
            [
             0.5,
             "#f7f7f7"
            ],
            [
             0.6,
             "#e6f5d0"
            ],
            [
             0.7,
             "#b8e186"
            ],
            [
             0.8,
             "#7fbc41"
            ],
            [
             0.9,
             "#4d9221"
            ],
            [
             1,
             "#276419"
            ]
           ],
           "sequential": [
            [
             0,
             "#0d0887"
            ],
            [
             0.1111111111111111,
             "#46039f"
            ],
            [
             0.2222222222222222,
             "#7201a8"
            ],
            [
             0.3333333333333333,
             "#9c179e"
            ],
            [
             0.4444444444444444,
             "#bd3786"
            ],
            [
             0.5555555555555556,
             "#d8576b"
            ],
            [
             0.6666666666666666,
             "#ed7953"
            ],
            [
             0.7777777777777778,
             "#fb9f3a"
            ],
            [
             0.8888888888888888,
             "#fdca26"
            ],
            [
             1,
             "#f0f921"
            ]
           ],
           "sequentialminus": [
            [
             0,
             "#0d0887"
            ],
            [
             0.1111111111111111,
             "#46039f"
            ],
            [
             0.2222222222222222,
             "#7201a8"
            ],
            [
             0.3333333333333333,
             "#9c179e"
            ],
            [
             0.4444444444444444,
             "#bd3786"
            ],
            [
             0.5555555555555556,
             "#d8576b"
            ],
            [
             0.6666666666666666,
             "#ed7953"
            ],
            [
             0.7777777777777778,
             "#fb9f3a"
            ],
            [
             0.8888888888888888,
             "#fdca26"
            ],
            [
             1,
             "#f0f921"
            ]
           ]
          },
          "colorway": [
           "#636efa",
           "#EF553B",
           "#00cc96",
           "#ab63fa",
           "#FFA15A",
           "#19d3f3",
           "#FF6692",
           "#B6E880",
           "#FF97FF",
           "#FECB52"
          ],
          "font": {
           "color": "#2a3f5f"
          },
          "geo": {
           "bgcolor": "white",
           "lakecolor": "white",
           "landcolor": "#E5ECF6",
           "showlakes": true,
           "showland": true,
           "subunitcolor": "white"
          },
          "hoverlabel": {
           "align": "left"
          },
          "hovermode": "closest",
          "mapbox": {
           "style": "light"
          },
          "paper_bgcolor": "white",
          "plot_bgcolor": "#E5ECF6",
          "polar": {
           "angularaxis": {
            "gridcolor": "white",
            "linecolor": "white",
            "ticks": ""
           },
           "bgcolor": "#E5ECF6",
           "radialaxis": {
            "gridcolor": "white",
            "linecolor": "white",
            "ticks": ""
           }
          },
          "scene": {
           "xaxis": {
            "backgroundcolor": "#E5ECF6",
            "gridcolor": "white",
            "gridwidth": 2,
            "linecolor": "white",
            "showbackground": true,
            "ticks": "",
            "zerolinecolor": "white"
           },
           "yaxis": {
            "backgroundcolor": "#E5ECF6",
            "gridcolor": "white",
            "gridwidth": 2,
            "linecolor": "white",
            "showbackground": true,
            "ticks": "",
            "zerolinecolor": "white"
           },
           "zaxis": {
            "backgroundcolor": "#E5ECF6",
            "gridcolor": "white",
            "gridwidth": 2,
            "linecolor": "white",
            "showbackground": true,
            "ticks": "",
            "zerolinecolor": "white"
           }
          },
          "shapedefaults": {
           "line": {
            "color": "#2a3f5f"
           }
          },
          "ternary": {
           "aaxis": {
            "gridcolor": "white",
            "linecolor": "white",
            "ticks": ""
           },
           "baxis": {
            "gridcolor": "white",
            "linecolor": "white",
            "ticks": ""
           },
           "bgcolor": "#E5ECF6",
           "caxis": {
            "gridcolor": "white",
            "linecolor": "white",
            "ticks": ""
           }
          },
          "title": {
           "x": 0.05
          },
          "xaxis": {
           "automargin": true,
           "gridcolor": "white",
           "linecolor": "white",
           "ticks": "",
           "title": {
            "standoff": 15
           },
           "zerolinecolor": "white",
           "zerolinewidth": 2
          },
          "yaxis": {
           "automargin": true,
           "gridcolor": "white",
           "linecolor": "white",
           "ticks": "",
           "title": {
            "standoff": 15
           },
           "zerolinecolor": "white",
           "zerolinewidth": 2
          }
         }
        },
        "xaxis": {
         "anchor": "y",
         "domain": [
          0,
          1
         ]
        },
        "yaxis": {
         "anchor": "x",
         "domain": [
          0,
          1
         ],
         "title": {
          "text": "Preço"
         }
        }
       }
      }
     },
     "metadata": {},
     "output_type": "display_data"
    }
   ],
   "source": [
    "fig = px.box(dados_gerais.query(\"Categoria == 'Notebook' and Loja == 'Amazon'\"), y=\"Preço\", notched=True)\n",
    "fig.show()"
   ]
  }
 ],
 "metadata": {
  "interpreter": {
   "hash": "50e0f96e4e88615678713ad57c0ae08da4a9d6120170cb89b48692eb7d0116f7"
  },
  "kernelspec": {
   "display_name": "Python 3.8.8 64-bit (conda)",
   "name": "python3"
  },
  "language_info": {
   "codemirror_mode": {
    "name": "ipython",
    "version": 3
   },
   "file_extension": ".py",
   "mimetype": "text/x-python",
   "name": "python",
   "nbconvert_exporter": "python",
   "pygments_lexer": "ipython3",
   "version": "3.8.8"
  },
  "orig_nbformat": 4
 },
 "nbformat": 4,
 "nbformat_minor": 2
}
