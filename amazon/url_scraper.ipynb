{
 "cells": [
  {
   "cell_type": "code",
   "execution_count": 2,
   "metadata": {},
   "outputs": [],
   "source": [
    "import pandas as pd\n",
    "from bs4 import BeautifulSoup\n",
    "from selenium import webdriver\n",
    "from webdriver_manager.chrome import ChromeDriverManager"
   ]
  },
  {
   "cell_type": "code",
   "execution_count": 3,
   "metadata": {},
   "outputs": [],
   "source": [
    "def extraindo_dados(item):\n",
    "    \n",
    "    card = {}\n",
    "    \n",
    "    # adicionando descrição\n",
    "    atag = item.h2.a\n",
    "    card['Descrição'] = atag.text.strip()\n",
    "    \n",
    "    try:\n",
    "        # adicionando preco\n",
    "        prince_parent = item.find('span','a-price')\n",
    "        card['Preço'] = \" \".join(prince_parent.find('span','a-offscreen').text.split())\n",
    "\n",
    "        # ignorando produto caso não tenha preço\n",
    "    except AttributeError:\n",
    "        return \n",
    "    \n",
    "    try:\n",
    "        # adicionando estrlas e total de reviews\n",
    "        card['Estrelas'] = item.i.text\n",
    "        card['TotalReviews'] = item.find('span',{'class':'a-size-base'}).text\n",
    "    \n",
    "        # caso não tenha estrela e review no produto, definir com vázio\n",
    "    except AttributeError:\n",
    "        card['Estrelas'] = 0\n",
    "        card['TotalReviews'] = 0\n",
    "\n",
    "    # definindo url\n",
    "    card['Url'] = 'https://www.amazon.com.br'+atag.get('href')\n",
    "\n",
    "    return card"
   ]
  },
  {
   "cell_type": "code",
   "execution_count": 4,
   "metadata": {},
   "outputs": [
    {
     "name": "stderr",
     "output_type": "stream",
     "text": [
      "\n",
      "\n",
      "====== WebDriver manager ======\n",
      "Current google-chrome version is 94.0.4606\n",
      "Get LATEST driver version for 94.0.4606\n",
      "Driver [C:\\Users\\Felip\\.wdm\\drivers\\chromedriver\\win32\\94.0.4606.61\\chromedriver.exe] found in cache\n"
     ]
    },
    {
     "name": "stdout",
     "output_type": "stream",
     "text": [
      "total de páginas = 2\n"
     ]
    },
    {
     "data": {
      "text/html": [
       "<div>\n",
       "<style scoped>\n",
       "    .dataframe tbody tr th:only-of-type {\n",
       "        vertical-align: middle;\n",
       "    }\n",
       "\n",
       "    .dataframe tbody tr th {\n",
       "        vertical-align: top;\n",
       "    }\n",
       "\n",
       "    .dataframe thead th {\n",
       "        text-align: right;\n",
       "    }\n",
       "</style>\n",
       "<table border=\"1\" class=\"dataframe\">\n",
       "  <thead>\n",
       "    <tr style=\"text-align: right;\">\n",
       "      <th></th>\n",
       "    </tr>\n",
       "  </thead>\n",
       "  <tbody>\n",
       "  </tbody>\n",
       "</table>\n",
       "</div>"
      ],
      "text/plain": [
       "Empty DataFrame\n",
       "Columns: []\n",
       "Index: []"
      ]
     },
     "execution_count": 4,
     "metadata": {},
     "output_type": "execute_result"
    }
   ],
   "source": [
    "# Ativando webdriver\n",
    "driver = webdriver.Chrome(ChromeDriverManager().install())\n",
    "\n",
    "cards = []\n",
    "url = 'https://www.amazon.com.br/gp/bestsellers/furniture'\n",
    "\n",
    "# Obtendo total de paginas\n",
    "driver.get(url)\n",
    "soup_sl = BeautifulSoup(driver.page_source, 'html.parser')\n",
    "list_pages = soup_sl.find('ul',{'class':'a-pagination'}).findAll('li')\n",
    "list_pages.pop()\n",
    "list_pages.pop(0)\n",
    "total_pages = int(list_pages[-1].getText())\n",
    "print(f'total de páginas = {total_pages}')\n",
    "\n",
    "# passando por todas as páginas\n",
    "for page in range(total_pages):\n",
    "    driver.get(url.format(page+1))\n",
    "    soup = BeautifulSoup(driver.page_source, 'html.parser')\n",
    "    results = soup.find_all('div',{'data-component-type':'s-search-result'})\n",
    "    \n",
    "    for item in results:\n",
    "        card = extraindo_dados(item)\n",
    "        if card:\n",
    "            cards.append(card)\n",
    "        \n",
    "    # Caso pagina tenha mais que 50 paginas, parar na 50        \n",
    "    if(page==29):\n",
    "        break\n",
    "            \n",
    "driver.close()\n",
    "\n",
    "#Salvando dados em csv com pandas\n",
    "dataset = pd.DataFrame(cards)\n",
    "dataset"
   ]
  },
  {
   "cell_type": "code",
   "execution_count": 5,
   "metadata": {},
   "outputs": [
    {
     "name": "stderr",
     "output_type": "stream",
     "text": [
      "\n",
      "\n",
      "====== WebDriver manager ======\n",
      "Current google-chrome version is 94.0.4606\n",
      "Get LATEST driver version for 94.0.4606\n",
      "Driver [C:\\Users\\Felip\\.wdm\\drivers\\chromedriver\\win32\\94.0.4606.61\\chromedriver.exe] found in cache\n"
     ]
    },
    {
     "name": "stdout",
     "output_type": "stream",
     "text": [
      "total de páginas = 7\n"
     ]
    }
   ],
   "source": [
    "\n",
    "url = f'https://www.amazon.com.br/s?k=smartphone&i=computers&__mk_pt_BR=ÅMÅŽÕÑ&ref=nb_sb_noss_1'\n",
    "\n",
    "\n",
    "driver = webdriver.Chrome(ChromeDriverManager().install())\n",
    "\n",
    "cards = []\n",
    "\n",
    "# Obtendo total de paginas\n",
    "driver.get(url)\n",
    "soup_sl = BeautifulSoup(driver.page_source, 'html.parser')\n",
    "list_pages = soup_sl.find('ul',{'class':'a-pagination'}).findAll('li')\n",
    "list_pages.pop()\n",
    "list_pages.pop(0)\n",
    "total_pages = int(list_pages[-1].getText())\n",
    "print(f'total de páginas = {total_pages}')"
   ]
  },
  {
   "cell_type": "code",
   "execution_count": 6,
   "metadata": {},
   "outputs": [],
   "source": [
    "driver.get(url.format(page+1))\n",
    "soup = BeautifulSoup(driver.page_source, 'html.parser')\n",
    "results = soup.find_all('div',{'data-component-type':'s-search-result'})"
   ]
  },
  {
   "cell_type": "code",
   "execution_count": 13,
   "metadata": {},
   "outputs": [
    {
     "data": {
      "text/plain": [
       "'Headset com fio Logitech H151 com Microfone com Redução de Ruído e Conexão 3,5mm'"
      ]
     },
     "execution_count": 13,
     "metadata": {},
     "output_type": "execute_result"
    }
   ],
   "source": [
    "atag = results[0].h2.a\n",
    "atag.text.strip()"
   ]
  },
  {
   "cell_type": "code",
   "execution_count": 16,
   "metadata": {},
   "outputs": [
    {
     "data": {
      "text/plain": [
       "'3.579'"
      ]
     },
     "execution_count": 16,
     "metadata": {},
     "output_type": "execute_result"
    }
   ],
   "source": [
    "results[0].find('span',{'class':'a-size-base'}).text"
   ]
  },
  {
   "cell_type": "code",
   "execution_count": null,
   "metadata": {},
   "outputs": [],
   "source": []
  }
 ],
 "metadata": {
  "interpreter": {
   "hash": "50e0f96e4e88615678713ad57c0ae08da4a9d6120170cb89b48692eb7d0116f7"
  },
  "kernelspec": {
   "display_name": "Python 3.8.8 64-bit (conda)",
   "name": "python3"
  },
  "language_info": {
   "codemirror_mode": {
    "name": "ipython",
    "version": 3
   },
   "file_extension": ".py",
   "mimetype": "text/x-python",
   "name": "python",
   "nbconvert_exporter": "python",
   "pygments_lexer": "ipython3",
   "version": "3.8.8"
  },
  "orig_nbformat": 4
 },
 "nbformat": 4,
 "nbformat_minor": 2
}
